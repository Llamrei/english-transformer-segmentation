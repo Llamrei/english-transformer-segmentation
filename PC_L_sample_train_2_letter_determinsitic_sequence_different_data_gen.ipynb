{
 "cells": [
  {
   "cell_type": "code",
   "execution_count": 1,
   "metadata": {},
   "outputs": [
    {
     "name": "stderr",
     "output_type": "stream",
     "text": [
      "2023-02-24 16:40:55.923564: I tensorflow/core/platform/cpu_feature_guard.cc:193] This TensorFlow binary is optimized with oneAPI Deep Neural Network Library (oneDNN) to use the following CPU instructions in performance-critical operations:  AVX2 AVX512F AVX512_VNNI FMA\n",
      "To enable them in other operations, rebuild TensorFlow with the appropriate compiler flags.\n",
      "2023-02-24 16:40:56.080692: I tensorflow/core/util/util.cc:169] oneDNN custom operations are on. You may see slightly different numerical results due to floating-point round-off errors from different computation orders. To turn them off, set the environment variable `TF_ENABLE_ONEDNN_OPTS=0`.\n",
      "2023-02-24 16:40:56.116376: E tensorflow/stream_executor/cuda/cuda_blas.cc:2981] Unable to register cuBLAS factory: Attempting to register factory for plugin cuBLAS when one has already been registered\n",
      "2023-02-24 16:40:56.780602: W tensorflow/stream_executor/platform/default/dso_loader.cc:64] Could not load dynamic library 'libnvinfer.so.7'; dlerror: libnvinfer.so.7: cannot open shared object file: No such file or directory\n",
      "2023-02-24 16:40:56.780656: W tensorflow/stream_executor/platform/default/dso_loader.cc:64] Could not load dynamic library 'libnvinfer_plugin.so.7'; dlerror: libnvinfer_plugin.so.7: cannot open shared object file: No such file or directory\n",
      "2023-02-24 16:40:56.780662: W tensorflow/compiler/tf2tensorrt/utils/py_utils.cc:38] TF-TRT Warning: Cannot dlopen some TensorRT libraries. If you would like to use Nvidia GPU with TensorRT, please make sure the missing libraries mentioned above are installed properly.\n"
     ]
    }
   ],
   "source": [
    "import logging\n",
    "import tensorflow as tf\n",
    "\n",
    "\n",
    "GPU_FROM = 3\n",
    "GPU_TO = 4  \n",
    "\n",
    "visible_devices = tf.config.get_visible_devices('GPU')\n",
    "logging.info(f\"Num GPUs visible:{len(visible_devices)}\")\n",
    "tf.config.set_visible_devices(visible_devices[GPU_FROM:GPU_TO],'GPU')\n",
    "\n",
    "visible_devices = tf.config.get_visible_devices('GPU')\n",
    "logging.info(f\"Num GPUs to be used: {len(visible_devices)}\")"
   ]
  },
  {
   "cell_type": "code",
   "execution_count": 2,
   "metadata": {},
   "outputs": [],
   "source": [
    "import numpy as np\n",
    "import string\n",
    "\n",
    "FULL_VOCAB = string.ascii_lowercase\n",
    "SEQ_LEN = 100\n",
    "\n",
    "def dataset1(vocab_size=2, dataset_size=10000, seq_len=10, full_vocab=FULL_VOCAB):\n",
    "  \"\"\"\n",
    "  Inserts a space after a the first character in the vocabulary (and nowhere else)\n",
    "  \"\"\"\n",
    "  assert vocab_size > 1\n",
    "  vocab = list(full_vocab[:vocab_size])\n",
    "  inputs = np.random.choice(vocab, size=(dataset_size, seq_len))\n",
    "  outputs = np.where(inputs == vocab[0], 1., 0.).astype(np.float32)  # 1 = space, 0 = no space\n",
    "  concatenated_inputs = np.array([''.join(row) for row in inputs])\n",
    "  return concatenated_inputs, outputs\n",
    "\n",
    "def dataset2(vocab_size=2, dataset_size=10000, seq_len=10, full_vocab=FULL_VOCAB):\n",
    "  \"\"\"\n",
    "  Inserts a space after the combination of 1st->2nd character in the vocabulary (and nowhere else)\n",
    "  \"\"\"\n",
    "  assert vocab_size > 1\n",
    "  vocab = list(full_vocab[:vocab_size])\n",
    "  inputs = np.random.choice(vocab, size=(dataset_size, seq_len))\n",
    "  outputs = np.ones_like(inputs, dtype=np.float32)\n",
    "  for i, example in enumerate(inputs):\n",
    "    previous_char = example[0]\n",
    "    for j, char in enumerate(example[1:]):\n",
    "      if (previous_char == vocab[0]) and (char == vocab[1]):  # 1 = space, 0 = no space\n",
    "        outputs[i, j+1] = 2.\n",
    "      previous_char = char\n",
    "  concatenated_inputs = np.array([''.join(row) for row in inputs])\n",
    "  return concatenated_inputs, outputs\n",
    "\n",
    "def dataset3(vocab_size=2, dataset_size=10000, seq_len=10, insert_space_every=3, full_vocab=FULL_VOCAB):\n",
    "  \"\"\"\n",
    "  Inserts a space after a certain number of characters, no matter what the characters\n",
    "  \"\"\"\n",
    "  assert vocab_size > 1\n",
    "  vocab = list(full_vocab[:vocab_size])\n",
    "  inputs = np.random.choice(vocab, size=(dataset_size, seq_len))\n",
    "  outputs = np.zeros_like(inputs, dtype=np.float32)\n",
    "  outputs[:, np.arange(insert_space_every-1, outputs.shape[1], insert_space_every)] = 1.\n",
    "  concatenated_inputs = np.array([''.join(row) for row in inputs])\n",
    "  return concatenated_inputs, outputs"
   ]
  },
  {
   "cell_type": "code",
   "execution_count": 3,
   "metadata": {},
   "outputs": [
    {
     "name": "stderr",
     "output_type": "stream",
     "text": [
      "2023-02-24 16:40:58.519563: I tensorflow/core/platform/cpu_feature_guard.cc:193] This TensorFlow binary is optimized with oneAPI Deep Neural Network Library (oneDNN) to use the following CPU instructions in performance-critical operations:  AVX2 AVX512F AVX512_VNNI FMA\n",
      "To enable them in other operations, rebuild TensorFlow with the appropriate compiler flags.\n",
      "2023-02-24 16:40:59.174624: I tensorflow/core/common_runtime/gpu/gpu_device.cc:1616] Created device /job:localhost/replica:0/task:0/device:GPU:0 with 22296 MB memory:  -> device: 3, name: GeForce RTX 3090, pci bus id: 0000:d8:00.0, compute capability: 8.6\n"
     ]
    },
    {
     "data": {
      "text/plain": [
       "(TensorSpec(shape=(), dtype=tf.string, name=None),\n",
       " TensorSpec(shape=(100,), dtype=tf.float32, name=None))"
      ]
     },
     "execution_count": 3,
     "metadata": {},
     "output_type": "execute_result"
    }
   ],
   "source": [
    "DATASET_FN = dataset2\n",
    "\n",
    "def compatability_with_encoder(inputs, outputs):\n",
    "    return (inputs, None), outputs\n",
    "\n",
    "train_ds = tf.data.Dataset.from_tensor_slices(DATASET_FN(vocab_size=2, seq_len=SEQ_LEN))\n",
    "valid_ds = tf.data.Dataset.from_tensor_slices(DATASET_FN(vocab_size=2, seq_len=SEQ_LEN))\n",
    "test_ds = tf.data.Dataset.from_tensor_slices(DATASET_FN(vocab_size=2, seq_len=SEQ_LEN))\n",
    "train_ds.element_spec"
   ]
  },
  {
   "cell_type": "code",
   "execution_count": 4,
   "metadata": {},
   "outputs": [
    {
     "data": {
      "text/plain": [
       "['', '[UNK]', 'b', 'a']"
      ]
     },
     "execution_count": 4,
     "metadata": {},
     "output_type": "execute_result"
    }
   ],
   "source": [
    "tokenizer = tf.keras.layers.TextVectorization(\n",
    "    output_sequence_length=100,\n",
    "    standardize=\"lower_and_strip_punctuation\",\n",
    "    split=\"character\",\n",
    "    output_mode=\"int\",\n",
    ")\n",
    "\n",
    "tokenizer.adapt(train_ds.take(10).map(lambda x,y: x))\n",
    "tokenizer.get_vocabulary()"
   ]
  },
  {
   "cell_type": "code",
   "execution_count": 5,
   "metadata": {},
   "outputs": [
    {
     "data": {
      "text/plain": [
       "<tf.Tensor: shape=(100,), dtype=int64, numpy=\n",
       "array([3, 2, 3, 2, 3, 2, 0, 0, 0, 0, 0, 0, 0, 0, 0, 0, 0, 0, 0, 0, 0, 0,\n",
       "       0, 0, 0, 0, 0, 0, 0, 0, 0, 0, 0, 0, 0, 0, 0, 0, 0, 0, 0, 0, 0, 0,\n",
       "       0, 0, 0, 0, 0, 0, 0, 0, 0, 0, 0, 0, 0, 0, 0, 0, 0, 0, 0, 0, 0, 0,\n",
       "       0, 0, 0, 0, 0, 0, 0, 0, 0, 0, 0, 0, 0, 0, 0, 0, 0, 0, 0, 0, 0, 0,\n",
       "       0, 0, 0, 0, 0, 0, 0, 0, 0, 0, 0, 0])>"
      ]
     },
     "execution_count": 5,
     "metadata": {},
     "output_type": "execute_result"
    }
   ],
   "source": [
    "tokenizer(\"ababab\")"
   ]
  },
  {
   "cell_type": "code",
   "execution_count": 6,
   "metadata": {},
   "outputs": [],
   "source": [
    "from segmentation.model import Encoder\n",
    "from tensorflow.keras import Sequential\n",
    "from tensorflow.keras.layers import Dense\n",
    "\n",
    "model = Sequential([\n",
    "    Encoder(\n",
    "        num_layers=2,\n",
    "        d_model=32,\n",
    "        num_attention_heads=2,\n",
    "        dff=32,\n",
    "        seq_len=100,\n",
    "        tokenizer=tokenizer\n",
    "    ),\n",
    "    Dense(3, activation=\"softmax\")\n",
    "])"
   ]
  },
  {
   "cell_type": "code",
   "execution_count": 7,
   "metadata": {},
   "outputs": [],
   "source": [
    "from segmentation.metrics import SparseAccuracyWithIgnore\n",
    "from segmentation.metrics import SparsePrecision\n",
    "from segmentation.metrics import SparseRecall\n",
    "from segmentation.metrics import SparseF1\n",
    "\n",
    "model.compile(\n",
    "    optimizer=\"adam\",\n",
    "    loss=tf.keras.losses.SparseCategoricalCrossentropy(from_logits=False, ignore_class=0), # Why can I not ignore class 0?\n",
    "    metrics=[\n",
    "        SparseAccuracyWithIgnore(ignore_token=0),\n",
    "        SparsePrecision(class_id=2, name=\"space_precision\"),\n",
    "        SparseRecall(class_id=2, name=\"space_recall\"),\n",
    "        SparseF1(class_id=2, name=\"space_f1\"),\n",
    "        SparsePrecision(class_id=1, name=\"char_precision\"),\n",
    "        SparseRecall(class_id=1, name=\"char_recall\"),\n",
    "        SparseF1(class_id=1, name=\"char_f1\"),\n",
    "    ]\n",
    ")"
   ]
  },
  {
   "cell_type": "code",
   "execution_count": 8,
   "metadata": {},
   "outputs": [
    {
     "name": "stdout",
     "output_type": "stream",
     "text": [
      "Epoch 1/10\n",
      "  10/1250 [..............................] - ETA: 23s - loss: 0.6906 - sparse_categorical_accuracy: 0.6952 - space_precision: 0.3087 - space_recall: 0.1369 - space_f1: 0.1896 - char_precision: 0.7643 - char_recall: 0.8754 - char_f1: 0.8161  "
     ]
    },
    {
     "name": "stderr",
     "output_type": "stream",
     "text": [
      "2023-02-24 16:41:06.641067: I tensorflow/stream_executor/cuda/cuda_blas.cc:1614] TensorFloat-32 will be used for the matrix multiplication. This will only be logged once.\n"
     ]
    },
    {
     "name": "stdout",
     "output_type": "stream",
     "text": [
      "1250/1250 [==============================] - 44s 31ms/step - loss: 0.3518 - sparse_categorical_accuracy: 0.7674 - space_precision: 0.5317 - space_recall: 0.5026 - space_f1: 0.5167 - char_precision: 0.8396 - char_recall: 0.8544 - char_f1: 0.8469 - val_loss: 0.3080 - val_sparse_categorical_accuracy: 0.8248 - val_space_precision: 0.6448 - val_space_recall: 0.6530 - val_space_f1: 0.6489 - val_char_precision: 0.8851 - val_char_recall: 0.8814 - val_char_f1: 0.8833\n",
      "Epoch 2/10\n",
      "1250/1250 [==============================] - 39s 31ms/step - loss: 0.0999 - sparse_categorical_accuracy: 0.9576 - space_precision: 0.9117 - space_recall: 0.9175 - space_f1: 0.9146 - char_precision: 0.9728 - char_recall: 0.9708 - char_f1: 0.9718 - val_loss: 0.0021 - val_sparse_categorical_accuracy: 1.0000 - val_space_precision: 1.0000 - val_space_recall: 1.0000 - val_space_f1: 1.0000 - val_char_precision: 1.0000 - val_char_recall: 1.0000 - val_char_f1: 1.0000\n",
      "Epoch 3/10\n",
      "1250/1250 [==============================] - 38s 31ms/step - loss: 0.0574 - sparse_categorical_accuracy: 0.9778 - space_precision: 0.9555 - space_recall: 0.9547 - space_f1: 0.9551 - char_precision: 0.9851 - char_recall: 0.9854 - char_f1: 0.9853 - val_loss: 8.6449e-04 - val_sparse_categorical_accuracy: 1.0000 - val_space_precision: 1.0000 - val_space_recall: 1.0000 - val_space_f1: 1.0000 - val_char_precision: 1.0000 - val_char_recall: 1.0000 - val_char_f1: 1.0000\n",
      "Epoch 4/10\n",
      "1250/1250 [==============================] - 39s 31ms/step - loss: 0.0481 - sparse_categorical_accuracy: 0.9813 - space_precision: 0.9610 - space_recall: 0.9635 - space_f1: 0.9623 - char_precision: 0.9880 - char_recall: 0.9872 - char_f1: 0.9876 - val_loss: 6.0366e-04 - val_sparse_categorical_accuracy: 1.0000 - val_space_precision: 1.0000 - val_space_recall: 1.0000 - val_space_f1: 1.0000 - val_char_precision: 1.0000 - val_char_recall: 1.0000 - val_char_f1: 1.0000\n",
      "Epoch 5/10\n",
      "1250/1250 [==============================] - 38s 31ms/step - loss: 0.0420 - sparse_categorical_accuracy: 0.9836 - space_precision: 0.9652 - space_recall: 0.9687 - space_f1: 0.9670 - char_precision: 0.9897 - char_recall: 0.9885 - char_f1: 0.9891 - val_loss: 3.5847e-04 - val_sparse_categorical_accuracy: 1.0000 - val_space_precision: 1.0000 - val_space_recall: 1.0000 - val_space_f1: 1.0000 - val_char_precision: 1.0000 - val_char_recall: 1.0000 - val_char_f1: 1.0000\n",
      "Epoch 6/10\n",
      "1250/1250 [==============================] - 39s 31ms/step - loss: 0.0384 - sparse_categorical_accuracy: 0.9851 - space_precision: 0.9682 - space_recall: 0.9717 - space_f1: 0.9699 - char_precision: 0.9907 - char_recall: 0.9895 - char_f1: 0.9901 - val_loss: 3.8497e-04 - val_sparse_categorical_accuracy: 1.0000 - val_space_precision: 1.0000 - val_space_recall: 1.0000 - val_space_f1: 1.0000 - val_char_precision: 1.0000 - val_char_recall: 1.0000 - val_char_f1: 1.0000\n",
      "Epoch 7/10\n",
      "1250/1250 [==============================] - 39s 31ms/step - loss: 0.0349 - sparse_categorical_accuracy: 0.9866 - space_precision: 0.9707 - space_recall: 0.9751 - space_f1: 0.9729 - char_precision: 0.9918 - char_recall: 0.9903 - char_f1: 0.9911 - val_loss: 3.4328e-04 - val_sparse_categorical_accuracy: 1.0000 - val_space_precision: 1.0000 - val_space_recall: 1.0000 - val_space_f1: 1.0000 - val_char_precision: 1.0000 - val_char_recall: 1.0000 - val_char_f1: 1.0000\n",
      "Epoch 8/10\n",
      "1250/1250 [==============================] - 38s 31ms/step - loss: 0.0318 - sparse_categorical_accuracy: 0.9879 - space_precision: 0.9735 - space_recall: 0.9777 - space_f1: 0.9756 - char_precision: 0.9927 - char_recall: 0.9913 - char_f1: 0.9920 - val_loss: 1.7819e-04 - val_sparse_categorical_accuracy: 1.0000 - val_space_precision: 1.0000 - val_space_recall: 1.0000 - val_space_f1: 1.0000 - val_char_precision: 1.0000 - val_char_recall: 1.0000 - val_char_f1: 1.0000\n",
      "Epoch 9/10\n",
      "1250/1250 [==============================] - 39s 31ms/step - loss: 0.0296 - sparse_categorical_accuracy: 0.9888 - space_precision: 0.9752 - space_recall: 0.9795 - space_f1: 0.9774 - char_precision: 0.9933 - char_recall: 0.9918 - char_f1: 0.9925 - val_loss: 1.3369e-04 - val_sparse_categorical_accuracy: 1.0000 - val_space_precision: 1.0000 - val_space_recall: 1.0000 - val_space_f1: 1.0000 - val_char_precision: 1.0000 - val_char_recall: 1.0000 - val_char_f1: 1.0000\n",
      "Epoch 10/10\n",
      "1250/1250 [==============================] - 39s 31ms/step - loss: 0.0281 - sparse_categorical_accuracy: 0.9894 - space_precision: 0.9765 - space_recall: 0.9807 - space_f1: 0.9786 - char_precision: 0.9937 - char_recall: 0.9923 - char_f1: 0.9930 - val_loss: 3.7694e-04 - val_sparse_categorical_accuracy: 1.0000 - val_space_precision: 1.0000 - val_space_recall: 1.0000 - val_space_f1: 1.0000 - val_char_precision: 1.0000 - val_char_recall: 1.0000 - val_char_f1: 1.0000\n"
     ]
    },
    {
     "data": {
      "text/plain": [
       "<keras.callbacks.History at 0x7fce30585ac0>"
      ]
     },
     "execution_count": 8,
     "metadata": {},
     "output_type": "execute_result"
    }
   ],
   "source": [
    "batched_train = train_ds.shuffle(100).batch(8)\n",
    "batched_val = valid_ds.batch(8)\n",
    "\n",
    "model.fit(batched_train, validation_data=batched_val, epochs=10)"
   ]
  },
  {
   "cell_type": "code",
   "execution_count": 9,
   "metadata": {},
   "outputs": [
    {
     "name": "stdout",
     "output_type": "stream",
     "text": [
      "1250/1250 [==============================] - 15s 12ms/step - loss: 3.7694e-04 - sparse_categorical_accuracy: 1.0000 - space_precision: 1.0000 - space_recall: 1.0000 - space_f1: 1.0000 - char_precision: 1.0000 - char_recall: 1.0000 - char_f1: 1.0000\n"
     ]
    },
    {
     "data": {
      "text/plain": [
       "[0.0003769432660192251, 1.0, 1.0, 1.0, 1.0, 1.0, 1.0, 1.0]"
      ]
     },
     "execution_count": 9,
     "metadata": {},
     "output_type": "execute_result"
    }
   ],
   "source": [
    "model.evaluate(batched_val)"
   ]
  },
  {
   "cell_type": "code",
   "execution_count": 16,
   "metadata": {},
   "outputs": [],
   "source": [
    "test_inputs = tf.constant(\n",
    "    (\"5554445\".replace(\"4\",\"a\").replace(\"5\",\"b\"), \n",
    "     \"55544455554445\".replace(\"4\",\"a\").replace(\"5\",\"b\"), \n",
    "     \"5454545454545454\".replace(\"4\",\"a\").replace(\"5\",\"b\")))\n",
    "preds = model(test_inputs)\n",
    "truth = tf.ragged.constant([[1,1,1,1,1,1,2], [1,1,1,1,1,1,2,1,1,1,1,1,1,2], [1,1,2, 1,2, 1,2, 1,2, 1,2, 1,2, 1,2, 1]])\n",
    "char_conditional = (truth == 1).to_tensor(False, shape=(truth.shape[0],100))\n",
    "space_conditional = (truth == 2).to_tensor(False, shape=(truth.shape[0],100))"
   ]
  },
  {
   "cell_type": "code",
   "execution_count": 17,
   "metadata": {},
   "outputs": [
    {
     "data": {
      "text/plain": [
       "(<tf.Tensor: shape=(3, 100), dtype=int64, numpy=\n",
       " array([[1, 1, 1, 1, 1, 1, 2, 1, 1, 1, 1, 1, 1, 1, 1, 1, 1, 1, 1, 1, 1, 1,\n",
       "         1, 1, 1, 1, 1, 1, 1, 1, 1, 1, 1, 1, 1, 1, 1, 1, 1, 1, 1, 1, 1, 1,\n",
       "         1, 1, 1, 1, 1, 1, 1, 1, 1, 1, 1, 1, 1, 1, 1, 1, 1, 1, 1, 1, 1, 1,\n",
       "         1, 1, 1, 1, 1, 1, 1, 1, 1, 1, 1, 1, 1, 1, 1, 1, 1, 1, 1, 1, 1, 1,\n",
       "         1, 1, 1, 1, 1, 1, 1, 1, 1, 1, 1, 1],\n",
       "        [1, 1, 1, 1, 1, 1, 2, 1, 1, 1, 1, 1, 1, 2, 1, 1, 1, 1, 1, 1, 1, 1,\n",
       "         1, 1, 1, 1, 1, 1, 1, 1, 1, 1, 1, 1, 1, 1, 1, 1, 1, 1, 1, 1, 1, 1,\n",
       "         1, 1, 1, 1, 1, 1, 1, 1, 1, 1, 1, 1, 1, 1, 1, 1, 1, 1, 1, 1, 1, 1,\n",
       "         1, 1, 1, 1, 1, 1, 1, 1, 1, 1, 1, 1, 1, 1, 1, 1, 1, 1, 1, 1, 1, 1,\n",
       "         1, 1, 1, 1, 1, 1, 1, 1, 1, 1, 1, 1],\n",
       "        [1, 1, 2, 1, 2, 1, 2, 1, 2, 1, 2, 1, 2, 1, 2, 1, 1, 1, 1, 1, 1, 1,\n",
       "         1, 1, 1, 1, 1, 1, 1, 1, 1, 1, 1, 1, 1, 1, 1, 1, 1, 1, 1, 1, 1, 1,\n",
       "         1, 1, 1, 1, 1, 1, 1, 1, 1, 1, 1, 1, 1, 1, 1, 1, 1, 1, 1, 1, 1, 1,\n",
       "         1, 1, 1, 1, 1, 1, 1, 1, 1, 1, 1, 1, 1, 1, 1, 1, 1, 1, 1, 1, 1, 1,\n",
       "         1, 1, 1, 1, 1, 1, 1, 1, 1, 1, 1, 1]])>,\n",
       " <tf.Tensor: shape=(3, 100, 3), dtype=float32, numpy=\n",
       " array([[[5.67454572e-09, 9.99907255e-01, 9.27860092e-05],\n",
       "         [2.40283615e-09, 9.99977708e-01, 2.22497474e-05],\n",
       "         [2.98413017e-10, 9.99900937e-01, 9.90053450e-05],\n",
       "         [2.53401744e-09, 9.99995232e-01, 4.77237973e-06],\n",
       "         [6.24924246e-09, 9.99992967e-01, 7.07636173e-06],\n",
       "         [1.27050024e-08, 9.99994874e-01, 5.17082117e-06],\n",
       "         [7.10010681e-08, 6.09685085e-04, 9.99390244e-01],\n",
       "         [8.62764360e-10, 9.97238755e-01, 2.76123872e-03],\n",
       "         [7.85642551e-10, 9.96124446e-01, 3.87553987e-03],\n",
       "         [5.05190390e-10, 9.98875558e-01, 1.12443231e-03],\n",
       "         [4.76054640e-10, 9.99422193e-01, 5.77790954e-04],\n",
       "         [7.06371794e-10, 9.99562919e-01, 4.37040610e-04],\n",
       "         [9.75480141e-10, 9.99372184e-01, 6.27864792e-04],\n",
       "         [1.14441989e-09, 9.98636663e-01, 1.36326614e-03],\n",
       "         [1.15885923e-09, 9.97659326e-01, 2.34070467e-03],\n",
       "         [6.61454280e-10, 9.99255598e-01, 7.44388148e-04],\n",
       "         [5.56901247e-10, 9.99668837e-01, 3.31228744e-04],\n",
       "         [6.91803170e-10, 9.99697804e-01, 3.02234577e-04],\n",
       "         [9.48880530e-10, 9.99404669e-01, 5.95392892e-04],\n",
       "         [1.15360277e-09, 9.97511744e-01, 2.48830440e-03],\n",
       "         [1.59584412e-09, 9.89468396e-01, 1.05316294e-02],\n",
       "         [8.24314339e-10, 9.95362878e-01, 4.63711610e-03],\n",
       "         [4.78896256e-10, 9.98477638e-01, 1.52231927e-03],\n",
       "         [4.90759655e-10, 9.99324679e-01, 6.75296586e-04],\n",
       "         [7.73381026e-10, 9.99525309e-01, 4.74734610e-04],\n",
       "         [1.16227783e-09, 9.99675274e-01, 3.24775348e-04],\n",
       "         [1.06747344e-09, 9.98973608e-01, 1.02637138e-03],\n",
       "         [9.70167946e-10, 9.98916745e-01, 1.08326878e-03],\n",
       "         [6.66621536e-10, 9.99626994e-01, 3.73035087e-04],\n",
       "         [6.87549351e-10, 9.99761164e-01, 2.38852139e-04],\n",
       "         [8.59739724e-10, 9.99818981e-01, 1.81023424e-04],\n",
       "         [1.06362796e-09, 9.99648094e-01, 3.51906318e-04],\n",
       "         [1.17198229e-09, 9.98658299e-01, 1.34173490e-03],\n",
       "         [1.45853463e-09, 9.96374309e-01, 3.62564507e-03],\n",
       "         [8.96292540e-10, 9.99027610e-01, 9.72349779e-04],\n",
       "         [7.77037601e-10, 9.99492884e-01, 5.07078716e-04],\n",
       "         [8.34966929e-10, 9.99660850e-01, 3.39178077e-04],\n",
       "         [1.13780751e-09, 9.99690413e-01, 3.09654337e-04],\n",
       "         [1.13491672e-09, 9.99664187e-01, 3.35860794e-04],\n",
       "         [1.08617759e-09, 9.99154568e-01, 8.45427858e-04],\n",
       "         [8.84084583e-10, 9.99498129e-01, 5.01866743e-04],\n",
       "         [6.11128481e-10, 9.99540091e-01, 4.59982228e-04],\n",
       "         [5.31744093e-10, 9.99248445e-01, 7.51546933e-04],\n",
       "         [6.18281037e-10, 9.99379039e-01, 6.20892271e-04],\n",
       "         [8.19176560e-10, 9.98725116e-01, 1.27484824e-03],\n",
       "         [9.20297560e-10, 9.97753799e-01, 2.24624481e-03],\n",
       "         [6.41229181e-10, 9.99361932e-01, 6.38133264e-04],\n",
       "         [5.34331357e-10, 9.99806583e-01, 1.93454674e-04],\n",
       "         [5.47394130e-10, 9.99892592e-01, 1.07345673e-04],\n",
       "         [6.66126543e-10, 9.99914050e-01, 8.59345018e-05],\n",
       "         [6.97128577e-10, 9.99893069e-01, 1.06896230e-04],\n",
       "         [6.45580422e-10, 9.99733269e-01, 2.66765390e-04],\n",
       "         [6.58770538e-10, 9.99418616e-01, 5.81391621e-04],\n",
       "         [5.69070180e-10, 9.99639988e-01, 3.59961821e-04],\n",
       "         [4.78663165e-10, 9.99633789e-01, 3.66196589e-04],\n",
       "         [5.55728408e-10, 9.99458492e-01, 5.41491143e-04],\n",
       "         [7.52283624e-10, 9.99161243e-01, 8.38753826e-04],\n",
       "         [9.91572269e-10, 9.98618364e-01, 1.38160994e-03],\n",
       "         [1.47168366e-09, 9.96437669e-01, 3.56236333e-03],\n",
       "         [9.63086499e-10, 9.98556912e-01, 1.44308375e-03],\n",
       "         [8.39144476e-10, 9.99328375e-01, 6.71601563e-04],\n",
       "         [9.40215128e-10, 9.99631643e-01, 3.68372712e-04],\n",
       "         [1.07951792e-09, 9.99719679e-01, 2.80351815e-04],\n",
       "         [9.91032034e-10, 9.99541283e-01, 4.58722236e-04],\n",
       "         [9.74808234e-10, 9.98481929e-01, 1.51813659e-03],\n",
       "         [8.32067359e-10, 9.99079704e-01, 9.20276856e-04],\n",
       "         [6.39738540e-10, 9.99733388e-01, 2.66644114e-04],\n",
       "         [6.32664199e-10, 9.99857426e-01, 1.42573437e-04],\n",
       "         [8.08305534e-10, 9.99843478e-01, 1.56516020e-04],\n",
       "         [1.06568787e-09, 9.99748051e-01, 2.51924066e-04],\n",
       "         [1.03772346e-09, 9.99139190e-01, 8.60807893e-04],\n",
       "         [9.20724552e-10, 9.99186218e-01, 8.13775638e-04],\n",
       "         [6.30969554e-10, 9.99668241e-01, 3.31763149e-04],\n",
       "         [6.95318636e-10, 9.99702394e-01, 2.97559891e-04],\n",
       "         [8.37057312e-10, 9.99512076e-01, 4.87920857e-04],\n",
       "         [1.37397060e-09, 9.98582363e-01, 1.41767599e-03],\n",
       "         [3.05598236e-09, 9.91760314e-01, 8.23974889e-03],\n",
       "         [2.94724756e-09, 9.87562895e-01, 1.24371331e-02],\n",
       "         [1.36374689e-09, 9.96111572e-01, 3.88844195e-03],\n",
       "         [8.01542333e-10, 9.98402417e-01, 1.59753510e-03],\n",
       "         [7.96367305e-10, 9.99080658e-01, 9.19330341e-04],\n",
       "         [1.33949463e-09, 9.99202669e-01, 7.97349727e-04],\n",
       "         [1.21756516e-09, 9.99222279e-01, 7.77764304e-04],\n",
       "         [8.95732821e-10, 9.98931348e-01, 1.06868288e-03],\n",
       "         [6.61249389e-10, 9.99451220e-01, 5.48775948e-04],\n",
       "         [5.28997179e-10, 9.99609768e-01, 3.90292902e-04],\n",
       "         [6.57557120e-10, 9.99373615e-01, 6.26460765e-04],\n",
       "         [1.00717334e-09, 9.98977900e-01, 1.02217495e-03],\n",
       "         [1.53777124e-09, 9.97545183e-01, 2.45485269e-03],\n",
       "         [1.63685598e-09, 9.95136082e-01, 4.86388477e-03],\n",
       "         [1.17379395e-09, 9.98107672e-01, 1.89233210e-03],\n",
       "         [7.39949935e-10, 9.99510169e-01, 4.89811820e-04],\n",
       "         [8.50571835e-10, 9.99493241e-01, 5.06690762e-04],\n",
       "         [1.34747091e-09, 9.99167800e-01, 8.32175720e-04],\n",
       "         [1.88692151e-09, 9.98719811e-01, 1.28024607e-03],\n",
       "         [2.32084063e-09, 9.96420383e-01, 3.57961375e-03],\n",
       "         [3.50477269e-09, 9.88435268e-01, 1.15646720e-02],\n",
       "         [2.36887709e-09, 9.89118695e-01, 1.08812544e-02],\n",
       "         [2.38112063e-09, 9.82048273e-01, 1.79517698e-02],\n",
       "         [3.97911437e-09, 9.65954065e-01, 3.40459384e-02]],\n",
       " \n",
       "        [[3.78131348e-09, 9.99866366e-01, 1.33572874e-04],\n",
       "         [2.45472909e-09, 9.99978304e-01, 2.16783064e-05],\n",
       "         [3.73944126e-10, 9.99921918e-01, 7.80380724e-05],\n",
       "         [3.47349061e-09, 9.99995828e-01, 4.21309096e-06],\n",
       "         [6.23937124e-09, 9.99993324e-01, 6.63583478e-06],\n",
       "         [1.28926052e-08, 9.99994993e-01, 5.00508395e-06],\n",
       "         [9.69801235e-08, 4.89956525e-04, 9.99509931e-01],\n",
       "         [1.96249550e-09, 9.99899268e-01, 1.00683465e-04],\n",
       "         [3.48913276e-09, 9.99970675e-01, 2.93298835e-05],\n",
       "         [1.90236410e-10, 9.99763310e-01, 2.36683773e-04],\n",
       "         [1.11868408e-08, 9.99997377e-01, 2.56540852e-06],\n",
       "         [3.41469253e-09, 9.99995947e-01, 4.06523714e-06],\n",
       "         [1.02932560e-08, 9.99996305e-01, 3.67337589e-06],\n",
       "         [4.99604518e-08, 5.13603305e-03, 9.94863927e-01],\n",
       "         [1.10609100e-09, 9.98184860e-01, 1.81509682e-03],\n",
       "         [6.11600104e-10, 9.99409437e-01, 5.90522075e-04],\n",
       "         [5.55899105e-10, 9.99731123e-01, 2.68921955e-04],\n",
       "         [7.16807447e-10, 9.99766767e-01, 2.33261715e-04],\n",
       "         [9.61739688e-10, 9.99542594e-01, 4.57451097e-04],\n",
       "         [1.10473897e-09, 9.98091042e-01, 1.90897181e-03],\n",
       "         [1.51679524e-09, 9.91178811e-01, 8.82115960e-03],\n",
       "         [7.91433918e-10, 9.96097147e-01, 3.90285230e-03],\n",
       "         [4.63150296e-10, 9.98700023e-01, 1.29993120e-03],\n",
       "         [4.84847051e-10, 9.99437273e-01, 5.62724133e-04],\n",
       "         [7.78291820e-10, 9.99625564e-01, 3.74361553e-04],\n",
       "         [1.19671162e-09, 9.99717176e-01, 2.82851077e-04],\n",
       "         [1.07981768e-09, 9.99168038e-01, 8.32003716e-04],\n",
       "         [9.43594869e-10, 9.99149919e-01, 8.50026903e-04],\n",
       "         [6.02673911e-10, 9.99725282e-01, 2.74673250e-04],\n",
       "         [6.99337532e-10, 9.99804676e-01, 1.95303393e-04],\n",
       "         [8.94163521e-10, 9.99843717e-01, 1.56234353e-04],\n",
       "         [1.09793918e-09, 9.99695301e-01, 3.04689398e-04],\n",
       "         [1.23628485e-09, 9.98800159e-01, 1.19984499e-03],\n",
       "         [1.41945500e-09, 9.97010589e-01, 2.98941182e-03],\n",
       "         [7.99483257e-10, 9.99287188e-01, 7.12836511e-04],\n",
       "         [7.27918337e-10, 9.99618888e-01, 3.81064776e-04],\n",
       "         [8.57794946e-10, 9.99721110e-01, 2.78817228e-04],\n",
       "         [1.17309162e-09, 9.99727547e-01, 2.72392877e-04],\n",
       "         [1.18017063e-09, 9.99708951e-01, 2.91053031e-04],\n",
       "         [1.09556619e-09, 9.99271452e-01, 7.28567131e-04],\n",
       "         [8.70641170e-10, 9.99554217e-01, 4.45774727e-04],\n",
       "         [5.99703620e-10, 9.99596894e-01, 4.03151906e-04],\n",
       "         [5.28382560e-10, 9.99334395e-01, 6.65579573e-04],\n",
       "         [6.13906814e-10, 9.99469817e-01, 5.30170568e-04],\n",
       "         [7.93908161e-10, 9.98908281e-01, 1.09167234e-03],\n",
       "         [8.94226360e-10, 9.98185694e-01, 1.81432045e-03],\n",
       "         [6.38371467e-10, 9.99497771e-01, 5.02204814e-04],\n",
       "         [5.31960365e-10, 9.99849319e-01, 1.50652995e-04],\n",
       "         [5.71214021e-10, 9.99911666e-01, 8.83136963e-05],\n",
       "         [7.01800618e-10, 9.99931216e-01, 6.88244108e-05],\n",
       "         [7.27618132e-10, 9.99908209e-01, 9.17717771e-05],\n",
       "         [6.55195287e-10, 9.99767125e-01, 2.32934544e-04],\n",
       "         [6.46604659e-10, 9.99529481e-01, 4.70578787e-04],\n",
       "         [5.64628289e-10, 9.99686956e-01, 3.13042605e-04],\n",
       "         [4.75668449e-10, 9.99684334e-01, 3.15657118e-04],\n",
       "         [5.55736679e-10, 9.99543846e-01, 4.56183741e-04],\n",
       "         [7.49875273e-10, 9.99292493e-01, 7.07504805e-04],\n",
       "         [1.01102049e-09, 9.98741448e-01, 1.25855906e-03],\n",
       "         [1.38675849e-09, 9.97196913e-01, 2.80311075e-03],\n",
       "         [9.28789101e-10, 9.98799801e-01, 1.20017247e-03],\n",
       "         [8.30587321e-10, 9.99448717e-01, 5.51325094e-04],\n",
       "         [9.55461377e-10, 9.99703228e-01, 2.96760671e-04],\n",
       "         [1.11799769e-09, 9.99765694e-01, 2.34344887e-04],\n",
       "         [1.01329956e-09, 9.99601901e-01, 3.98168282e-04],\n",
       "         [9.65956093e-10, 9.98798490e-01, 1.20150100e-03],\n",
       "         [8.24482982e-10, 9.99261081e-01, 7.38930481e-04],\n",
       "         [6.52907728e-10, 9.99773443e-01, 2.26602409e-04],\n",
       "         [6.66686428e-10, 9.99880672e-01, 1.19353761e-04],\n",
       "         [8.46872017e-10, 9.99879360e-01, 1.20621226e-04],\n",
       "         [1.13397924e-09, 9.99791443e-01, 2.08545767e-04],\n",
       "         [1.07111053e-09, 9.99311447e-01, 6.88604487e-04],\n",
       "         [9.15557630e-10, 9.99368250e-01, 6.31824078e-04],\n",
       "         [5.90417271e-10, 9.99760807e-01, 2.39230023e-04],\n",
       "         [6.97232938e-10, 9.99762475e-01, 2.37557120e-04],\n",
       "         [8.45567338e-10, 9.99602258e-01, 3.97797616e-04],\n",
       "         [1.37568590e-09, 9.98790324e-01, 1.20970781e-03],\n",
       "         [3.10464854e-09, 9.92764175e-01, 7.23580457e-03],\n",
       "         [2.85355872e-09, 9.89478409e-01, 1.05216121e-02],\n",
       "         [1.19186083e-09, 9.96928632e-01, 3.07134632e-03],\n",
       "         [7.19999671e-10, 9.98746514e-01, 1.25347124e-03],\n",
       "         [7.99597111e-10, 9.99206483e-01, 7.93554063e-04],\n",
       "         [1.30965383e-09, 9.99282777e-01, 7.17240968e-04],\n",
       "         [1.28909960e-09, 9.99281585e-01, 7.18424679e-04],\n",
       "         [8.90903296e-10, 9.99105752e-01, 8.94211174e-04],\n",
       "         [6.59160171e-10, 9.99523401e-01, 4.76654910e-04],\n",
       "         [4.93395713e-10, 9.99703228e-01, 2.96698156e-04],\n",
       "         [6.49214793e-10, 9.99447763e-01, 5.52236743e-04],\n",
       "         [9.98434779e-10, 9.99146104e-01, 8.53838574e-04],\n",
       "         [1.59697178e-09, 9.97887790e-01, 2.11222121e-03],\n",
       "         [1.72765158e-09, 9.95635450e-01, 4.36451565e-03],\n",
       "         [1.16433529e-09, 9.98460054e-01, 1.53995340e-03],\n",
       "         [6.75727307e-10, 9.99648094e-01, 3.51892872e-04],\n",
       "         [8.57046156e-10, 9.99574602e-01, 4.25365841e-04],\n",
       "         [1.36809508e-09, 9.99295235e-01, 7.04747683e-04],\n",
       "         [1.95011163e-09, 9.98883545e-01, 1.11644436e-03],\n",
       "         [2.38974462e-09, 9.96850312e-01, 3.14965099e-03],\n",
       "         [3.38697337e-09, 9.90237653e-01, 9.76235792e-03],\n",
       "         [2.26041852e-09, 9.90369618e-01, 9.63035505e-03],\n",
       "         [2.29514296e-09, 9.83922541e-01, 1.60774589e-02],\n",
       "         [3.63674979e-09, 9.73027825e-01, 2.69721504e-02]],\n",
       " \n",
       "        [[2.93740765e-09, 9.98770654e-01, 1.22927234e-03],\n",
       "         [2.85690589e-07, 9.99996185e-01, 3.53765063e-06],\n",
       "         [2.03698860e-07, 1.70281867e-03, 9.98297036e-01],\n",
       "         [5.85291904e-09, 9.99996424e-01, 3.53419841e-06],\n",
       "         [7.51377911e-08, 4.86240984e-04, 9.99513626e-01],\n",
       "         [9.46295060e-08, 9.99997497e-01, 2.38588700e-06],\n",
       "         [5.13900105e-08, 1.25143246e-03, 9.98748541e-01],\n",
       "         [1.74246551e-07, 9.99994397e-01, 5.50425557e-06],\n",
       "         [6.17678140e-08, 1.69728510e-03, 9.98302579e-01],\n",
       "         [1.01887650e-07, 9.99996781e-01, 3.10427890e-06],\n",
       "         [7.10133179e-08, 8.30311794e-03, 9.91696835e-01],\n",
       "         [5.58467050e-08, 9.99997854e-01, 2.11825727e-06],\n",
       "         [8.66983285e-08, 5.02400426e-03, 9.94975924e-01],\n",
       "         [1.47178891e-08, 9.99996662e-01, 3.30526882e-06],\n",
       "         [1.73391967e-07, 4.78932541e-03, 9.95210469e-01],\n",
       "         [3.26074066e-08, 9.99997377e-01, 2.62355707e-06],\n",
       "         [5.38806832e-10, 9.99740064e-01, 2.59984838e-04],\n",
       "         [7.02759351e-10, 9.99768555e-01, 2.31432947e-04],\n",
       "         [9.48599310e-10, 9.99543071e-01, 4.57014830e-04],\n",
       "         [1.08670717e-09, 9.98068035e-01, 1.93202088e-03],\n",
       "         [1.47502677e-09, 9.91169333e-01, 8.83062277e-03],\n",
       "         [7.62438945e-10, 9.96136010e-01, 3.86391208e-03],\n",
       "         [4.46414627e-10, 9.98746514e-01, 1.25344179e-03],\n",
       "         [4.69598860e-10, 9.99461234e-01, 5.38761960e-04],\n",
       "         [7.62954588e-10, 9.99633312e-01, 3.66671709e-04],\n",
       "         [1.17941590e-09, 9.99721587e-01, 2.78368592e-04],\n",
       "         [1.06801390e-09, 9.99176204e-01, 8.23818904e-04],\n",
       "         [9.12526721e-10, 9.99174774e-01, 8.25226074e-04],\n",
       "         [5.93676941e-10, 9.99729455e-01, 2.70531018e-04],\n",
       "         [6.86471935e-10, 9.99812186e-01, 1.87780039e-04],\n",
       "         [8.81822171e-10, 9.99850035e-01, 1.49934451e-04],\n",
       "         [1.06563047e-09, 9.99699831e-01, 3.00186191e-04],\n",
       "         [1.23286215e-09, 9.98802900e-01, 1.19706406e-03],\n",
       "         [1.39727174e-09, 9.97059524e-01, 2.94040423e-03],\n",
       "         [7.89034005e-10, 9.99293566e-01, 7.06461840e-04],\n",
       "         [7.24690530e-10, 9.99622583e-01, 3.77338671e-04],\n",
       "         [8.41624104e-10, 9.99730527e-01, 2.69478624e-04],\n",
       "         [1.14311749e-09, 9.99730527e-01, 2.69515149e-04],\n",
       "         [1.18127630e-09, 9.99712765e-01, 2.87214789e-04],\n",
       "         [1.09442244e-09, 9.99273956e-01, 7.26032071e-04],\n",
       "         [8.54512405e-10, 9.99562562e-01, 4.37470968e-04],\n",
       "         [5.91175831e-10, 9.99606669e-01, 3.93366645e-04],\n",
       "         [5.14564003e-10, 9.99351561e-01, 6.48462505e-04],\n",
       "         [5.96677707e-10, 9.99486089e-01, 5.13865612e-04],\n",
       "         [7.69656672e-10, 9.98936594e-01, 1.06342579e-03],\n",
       "         [8.65031935e-10, 9.98226821e-01, 1.77317124e-03],\n",
       "         [6.19060192e-10, 9.99514937e-01, 4.85124881e-04],\n",
       "         [5.25126886e-10, 9.99853969e-01, 1.46000617e-04],\n",
       "         [5.63745606e-10, 9.99915361e-01, 8.46400799e-05],\n",
       "         [6.97403357e-10, 9.99934316e-01, 6.56277771e-05],\n",
       "         [7.19786009e-10, 9.99911904e-01, 8.80511725e-05],\n",
       "         [6.53352816e-10, 9.99770224e-01, 2.29837387e-04],\n",
       "         [6.30548558e-10, 9.99544322e-01, 4.55597678e-04],\n",
       "         [5.54895963e-10, 9.99695063e-01, 3.05012887e-04],\n",
       "         [4.65838423e-10, 9.99695301e-01, 3.04706249e-04],\n",
       "         [5.39092326e-10, 9.99560177e-01, 4.39825351e-04],\n",
       "         [7.27784777e-10, 9.99315381e-01, 6.84594270e-04],\n",
       "         [1.00573216e-09, 9.98745918e-01, 1.25408918e-03],\n",
       "         [1.37182499e-09, 9.97239709e-01, 2.76033836e-03],\n",
       "         [9.01513753e-10, 9.98830020e-01, 1.16993254e-03],\n",
       "         [8.16562817e-10, 9.99463618e-01, 5.36428473e-04],\n",
       "         [9.48189638e-10, 9.99713719e-01, 2.86286871e-04],\n",
       "         [1.10941800e-09, 9.99775231e-01, 2.24792850e-04],\n",
       "         [1.01096898e-09, 9.99607146e-01, 3.92852875e-04],\n",
       "         [9.50232004e-10, 9.98839080e-01, 1.16099021e-03],\n",
       "         [8.07190093e-10, 9.99286830e-01, 7.13149726e-04],\n",
       "         [6.46431464e-10, 9.99782264e-01, 2.17754015e-04],\n",
       "         [6.63012534e-10, 9.99886036e-01, 1.13993614e-04],\n",
       "         [8.41850256e-10, 9.99886632e-01, 1.13375922e-04],\n",
       "         [1.13885490e-09, 9.99798000e-01, 2.01999574e-04],\n",
       "         [1.06890896e-09, 9.99317646e-01, 6.82390702e-04],\n",
       "         [9.06313469e-10, 9.99386311e-01, 6.13692682e-04],\n",
       "         [5.86810545e-10, 9.99765337e-01, 2.34653198e-04],\n",
       "         [6.86329493e-10, 9.99770582e-01, 2.29368234e-04],\n",
       "         [8.30143287e-10, 9.99615788e-01, 3.84172687e-04],\n",
       "         [1.36032030e-09, 9.98820841e-01, 1.17917056e-03],\n",
       "         [3.14139537e-09, 9.92703676e-01, 7.29634427e-03],\n",
       "         [2.84813573e-09, 9.89504218e-01, 1.04958341e-02],\n",
       "         [1.18751464e-09, 9.96912599e-01, 3.08740349e-03],\n",
       "         [7.15374426e-10, 9.98748660e-01, 1.25136517e-03],\n",
       "         [7.81544662e-10, 9.99234200e-01, 7.65830395e-04],\n",
       "         [1.27661370e-09, 9.99272287e-01, 7.27745180e-04],\n",
       "         [1.28490230e-09, 9.99293208e-01, 7.06821855e-04],\n",
       "         [8.80631790e-10, 9.99131024e-01, 8.68988864e-04],\n",
       "         [6.42340958e-10, 9.99535918e-01, 4.64077195e-04],\n",
       "         [4.87664464e-10, 9.99707639e-01, 2.92291807e-04],\n",
       "         [6.34616415e-10, 9.99461353e-01, 5.38691122e-04],\n",
       "         [9.71837166e-10, 9.99151707e-01, 8.48258962e-04],\n",
       "         [1.59682856e-09, 9.97893512e-01, 2.10651499e-03],\n",
       "         [1.73004300e-09, 9.95584548e-01, 4.41543572e-03],\n",
       "         [1.13019016e-09, 9.98492241e-01, 1.50774792e-03],\n",
       "         [6.61856014e-10, 9.99656558e-01, 3.43418331e-04],\n",
       "         [8.34473823e-10, 9.99588907e-01, 4.11108282e-04],\n",
       "         [1.34129052e-09, 9.99315977e-01, 6.84030820e-04],\n",
       "         [1.95673766e-09, 9.98888195e-01, 1.11177296e-03],\n",
       "         [2.40291498e-09, 9.96824622e-01, 3.17536085e-03],\n",
       "         [3.36630523e-09, 9.90278900e-01, 9.72105004e-03],\n",
       "         [2.21840257e-09, 9.90341306e-01, 9.65870637e-03],\n",
       "         [2.25052754e-09, 9.83703017e-01, 1.62969660e-02],\n",
       "         [3.66170938e-09, 9.71386671e-01, 2.86133215e-02]]], dtype=float32)>)"
      ]
     },
     "execution_count": 17,
     "metadata": {},
     "output_type": "execute_result"
    }
   ],
   "source": [
    "tf.argmax(preds, axis=-1), preds"
   ]
  },
  {
   "cell_type": "code",
   "execution_count": 20,
   "metadata": {},
   "outputs": [
    {
     "data": {
      "text/plain": [
       "Text(0.5, 0.98, 'Probabilities of space/char conditional on character input')"
      ]
     },
     "execution_count": 20,
     "metadata": {},
     "output_type": "execute_result"
    },
    {
     "data": {
      "image/png": "[encoded data removed]",
      "text/plain": [
       "<Figure size 640x480 with 2 Axes>"
      ]
     },
     "metadata": {},
     "output_type": "display_data"
    }
   ],
   "source": [
    "import matplotlib.pyplot as plt\n",
    "fig, axs = plt.subplots(1,2)\n",
    "prob_of_space = preds[char_conditional][...,2]\n",
    "prob_of_char = preds[char_conditional][...,1]\n",
    "axs[0].hist(prob_of_space)\n",
    "# axs[0].set_xlim(0,1)\n",
    "axs[1].hist(prob_of_char)\n",
    "# axs[1].set_xlim(0,1)\n",
    "fig.suptitle(\"Probabilities of space/char conditional on character input\")"
   ]
  },
  {
   "cell_type": "code",
   "execution_count": 19,
   "metadata": {},
   "outputs": [
    {
     "data": {
      "image/png": "[encoded data removed]",
      "text/plain": [
       "<Figure size 640x480 with 2 Axes>"
      ]
     },
     "metadata": {},
     "output_type": "display_data"
    }
   ],
   "source": [
    "fig, axs = plt.subplots(1,2)\n",
    "prob_of_space = preds[space_conditional][...,2]\n",
    "prob_of_char = preds[space_conditional][...,1]\n",
    "axs[0].hist(prob_of_space)\n",
    "axs[1].hist(prob_of_char)\n",
    "# axs[1].set_xlim(0,1)\n",
    "fig.suptitle(\"Probabilities of space/char conditional on space input\")\n",
    "\n",
    "fig.show()"
   ]
  },
  {
   "cell_type": "code",
   "execution_count": 23,
   "metadata": {},
   "outputs": [
    {
     "data": {
      "text/plain": [
       "<tf.Tensor: shape=(3,), dtype=string, numpy=array([b'bbbaaab', b'bbbaaabbbbaaab', b'babababababababa'], dtype=object)>"
      ]
     },
     "execution_count": 23,
     "metadata": {},
     "output_type": "execute_result"
    }
   ],
   "source": [
    "test_inputs"
   ]
  },
  {
   "cell_type": "code",
   "execution_count": 25,
   "metadata": {},
   "outputs": [
    {
     "data": {
      "text/plain": [
       "(array([ 7, 14, 16], dtype=int32), array([ 7, 14, 16]))"
      ]
     },
     "execution_count": 25,
     "metadata": {},
     "output_type": "execute_result"
    }
   ],
   "source": [
    "tf.strings.length(test_inputs).numpy(), preds._keras_mask.numpy().sum(axis=1)"
   ]
  },
  {
   "cell_type": "code",
   "execution_count": 35,
   "metadata": {},
   "outputs": [
    {
     "data": {
      "text/plain": [
       "(<tf.Tensor: shape=(100,), dtype=float32, numpy=\n",
       " array([812.6395 , 819.95605, 827.36066, 834.3532 , 840.8653 , 847.2329 ,\n",
       "        853.8167 , 860.62775, 867.3082 , 873.4756 , 879.09906, 884.5442 ,\n",
       "        890.229  , 896.1991 , 902.0156 , 907.06995, 911.0549 , 914.1786 ,\n",
       "        916.93994, 919.6775 , 922.3031 , 924.4524 , 925.89417, 926.8076 ,\n",
       "        927.6577 , 928.7843 , 930.08655, 931.10815, 931.4602 , 931.20447,\n",
       "        930.8489 , 930.95544, 931.70544, 932.8044 , 933.79785, 934.49475,\n",
       "        935.1096 , 936.00116, 937.26514, 938.5756 , 939.43823, 939.6321 ,\n",
       "        939.43384, 939.4076 , 939.93616, 940.90784, 941.8328 , 942.276  ,\n",
       "        942.2151 , 942.00616, 942.00616, 942.2151 , 942.276  , 941.8328 ,\n",
       "        940.9079 , 939.93616, 939.4076 , 939.43384, 939.6321 , 939.43823,\n",
       "        938.5757 , 937.26514, 936.0012 , 935.1096 , 934.49475, 933.79785,\n",
       "        932.8044 , 931.7053 , 930.95544, 930.8489 , 931.20447, 931.4602 ,\n",
       "        931.10815, 930.0865 , 928.7843 , 927.6577 , 926.80756, 925.8942 ,\n",
       "        924.45233, 922.30316, 919.6775 , 916.93994, 914.1786 , 911.0548 ,\n",
       "        907.06995, 902.0156 , 896.1991 , 890.229  , 884.5442 , 879.0991 ,\n",
       "        873.4756 , 867.3082 , 860.62775, 853.8167 , 847.233  , 840.8653 ,\n",
       "        834.3532 , 827.3606 , 819.956  , 812.6395 ], dtype=float32)>,\n",
       " <tf.Tensor: shape=(4,), dtype=float32, numpy=array([-0.52396655,  1.5826635 , 15.741954  , 16.289057  ], dtype=float32)>,\n",
       " 32)"
      ]
     },
     "execution_count": 35,
     "metadata": {},
     "output_type": "execute_result"
    }
   ],
   "source": [
    "pos = model.layers[-2].pos_embedding.pos_encoding.numpy()\n",
    "d_model = pos.shape[-1]\n",
    "learned_embed = model.layers[-2].pos_embedding.embedding.embeddings.numpy()*(d_model**0.5)\n",
    "tf.reduce_sum(pos@pos.T,axis=-1), tf.reduce_sum(learned_embed@learned_embed.T,axis=-1), d_model"
   ]
  },
  {
   "cell_type": "code",
   "execution_count": null,
   "metadata": {},
   "outputs": [],
   "source": []
  }
 ],
 "metadata": {
  "kernelspec": {
   "display_name": "tf_210",
   "language": "python",
   "name": "python3"
  },
  "language_info": {
   "codemirror_mode": {
    "name": "ipython",
    "version": 3
   },
   "file_extension": ".py",
   "mimetype": "text/x-python",
   "name": "python",
   "nbconvert_exporter": "python",
   "pygments_lexer": "ipython3",
   "version": "3.8.10"
  },
  "orig_nbformat": 4,
  "vscode": {
   "interpreter": {
    "hash": "4c2409f7cd36a60864259fe7c86cc6f7edd5e2a0604f36f600c4aba8b227f5d5"
   }
  }
 },
 "nbformat": 4,
 "nbformat_minor": 2
}
