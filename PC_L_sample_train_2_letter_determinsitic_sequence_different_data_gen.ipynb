{
 "cells": [
  {
   "cell_type": "code",
   "execution_count": 1,
   "metadata": {},
   "outputs": [
    {
     "name": "stderr",
     "output_type": "stream",
     "text": [
      "2023-02-23 13:07:39.435795: I tensorflow/core/platform/cpu_feature_guard.cc:193] This TensorFlow binary is optimized with oneAPI Deep Neural Network Library (oneDNN) to use the following CPU instructions in performance-critical operations:  AVX2 AVX512F AVX512_VNNI FMA\n",
      "To enable them in other operations, rebuild TensorFlow with the appropriate compiler flags.\n",
      "2023-02-23 13:07:39.572776: I tensorflow/core/util/util.cc:169] oneDNN custom operations are on. You may see slightly different numerical results due to floating-point round-off errors from different computation orders. To turn them off, set the environment variable `TF_ENABLE_ONEDNN_OPTS=0`.\n",
      "2023-02-23 13:07:39.608290: E tensorflow/stream_executor/cuda/cuda_blas.cc:2981] Unable to register cuBLAS factory: Attempting to register factory for plugin cuBLAS when one has already been registered\n",
      "2023-02-23 13:07:40.267794: W tensorflow/stream_executor/platform/default/dso_loader.cc:64] Could not load dynamic library 'libnvinfer.so.7'; dlerror: libnvinfer.so.7: cannot open shared object file: No such file or directory\n",
      "2023-02-23 13:07:40.267851: W tensorflow/stream_executor/platform/default/dso_loader.cc:64] Could not load dynamic library 'libnvinfer_plugin.so.7'; dlerror: libnvinfer_plugin.so.7: cannot open shared object file: No such file or directory\n",
      "2023-02-23 13:07:40.267857: W tensorflow/compiler/tf2tensorrt/utils/py_utils.cc:38] TF-TRT Warning: Cannot dlopen some TensorRT libraries. If you would like to use Nvidia GPU with TensorRT, please make sure the missing libraries mentioned above are installed properly.\n"
     ]
    }
   ],
   "source": [
    "import logging\n",
    "import tensorflow as tf\n",
    "\n",
    "\n",
    "GPU_FROM = 3\n",
    "GPU_TO = 4  \n",
    "\n",
    "visible_devices = tf.config.get_visible_devices('GPU')\n",
    "logging.info(f\"Num GPUs visible:{len(visible_devices)}\")\n",
    "tf.config.set_visible_devices(visible_devices[GPU_FROM:GPU_TO],'GPU')\n",
    "\n",
    "visible_devices = tf.config.get_visible_devices('GPU')\n",
    "logging.info(f\"Num GPUs to be used: {len(visible_devices)}\")"
   ]
  },
  {
   "cell_type": "code",
   "execution_count": 2,
   "metadata": {},
   "outputs": [],
   "source": [
    "import numpy as np\n",
    "import string\n",
    "\n",
    "FULL_VOCAB = string.ascii_lowercase\n",
    "SEQ_LEN = 100\n",
    "\n",
    "def dataset1(vocab_size=2, dataset_size=10000, seq_len=10, full_vocab=FULL_VOCAB):\n",
    "  \"\"\"\n",
    "  Inserts a space after a the first character in the vocabulary (and nowhere else)\n",
    "  \"\"\"\n",
    "  assert vocab_size > 1\n",
    "  vocab = list(full_vocab[:vocab_size])\n",
    "  inputs = np.random.choice(vocab, size=(dataset_size, seq_len))\n",
    "  outputs = np.where(inputs == vocab[0], 1., 0.).astype(np.float32)  # 1 = space, 0 = no space\n",
    "  concatenated_inputs = np.array([''.join(row) for row in inputs])\n",
    "  return concatenated_inputs, outputs\n",
    "\n",
    "def dataset2(vocab_size=2, dataset_size=10000, seq_len=10, full_vocab=FULL_VOCAB):\n",
    "  \"\"\"\n",
    "  Inserts a space after the combination of 1st->2nd character in the vocabulary (and nowhere else)\n",
    "  \"\"\"\n",
    "  assert vocab_size > 1\n",
    "  vocab = list(full_vocab[:vocab_size])\n",
    "  inputs = np.random.choice(vocab, size=(dataset_size, seq_len))\n",
    "  outputs = np.ones_like(inputs, dtype=np.float32)\n",
    "  for i, example in enumerate(inputs):\n",
    "    previous_char = example[0]\n",
    "    for j, char in enumerate(example[1:]):\n",
    "      if (previous_char == vocab[0]) and (char == vocab[1]):  # 1 = space, 0 = no space\n",
    "        outputs[i, j+1] = 2.\n",
    "      previous_char = char\n",
    "  concatenated_inputs = np.array([''.join(row) for row in inputs])\n",
    "  return concatenated_inputs, outputs\n",
    "\n",
    "def dataset3(vocab_size=2, dataset_size=10000, seq_len=10, insert_space_every=3, full_vocab=FULL_VOCAB):\n",
    "  \"\"\"\n",
    "  Inserts a space after a certain number of characters, no matter what the characters\n",
    "  \"\"\"\n",
    "  assert vocab_size > 1\n",
    "  vocab = list(full_vocab[:vocab_size])\n",
    "  inputs = np.random.choice(vocab, size=(dataset_size, seq_len))\n",
    "  outputs = np.zeros_like(inputs, dtype=np.float32)\n",
    "  outputs[:, np.arange(insert_space_every-1, outputs.shape[1], insert_space_every)] = 1.\n",
    "  concatenated_inputs = np.array([''.join(row) for row in inputs])\n",
    "  return concatenated_inputs, outputs"
   ]
  },
  {
   "cell_type": "code",
   "execution_count": 3,
   "metadata": {},
   "outputs": [
    {
     "name": "stderr",
     "output_type": "stream",
     "text": [
      "2023-02-23 13:07:42.117207: I tensorflow/core/platform/cpu_feature_guard.cc:193] This TensorFlow binary is optimized with oneAPI Deep Neural Network Library (oneDNN) to use the following CPU instructions in performance-critical operations:  AVX2 AVX512F AVX512_VNNI FMA\n",
      "To enable them in other operations, rebuild TensorFlow with the appropriate compiler flags.\n",
      "2023-02-23 13:07:42.798452: I tensorflow/core/common_runtime/gpu/gpu_device.cc:1616] Created device /job:localhost/replica:0/task:0/device:GPU:0 with 22296 MB memory:  -> device: 3, name: GeForce RTX 3090, pci bus id: 0000:d8:00.0, compute capability: 8.6\n"
     ]
    },
    {
     "data": {
      "text/plain": [
       "(TensorSpec(shape=(), dtype=tf.string, name=None),\n",
       " TensorSpec(shape=(100,), dtype=tf.float32, name=None))"
      ]
     },
     "execution_count": 3,
     "metadata": {},
     "output_type": "execute_result"
    }
   ],
   "source": [
    "DATASET_FN = dataset2\n",
    "\n",
    "train_ds = tf.data.Dataset.from_tensor_slices(DATASET_FN(vocab_size=2, seq_len=SEQ_LEN))\n",
    "valid_ds = tf.data.Dataset.from_tensor_slices(DATASET_FN(vocab_size=2, seq_len=SEQ_LEN))\n",
    "test_ds = tf.data.Dataset.from_tensor_slices(DATASET_FN(vocab_size=2, seq_len=SEQ_LEN))\n",
    "train_ds.element_spec"
   ]
  },
  {
   "cell_type": "code",
   "execution_count": 4,
   "metadata": {},
   "outputs": [
    {
     "data": {
      "text/plain": [
       "['', '[UNK]', 'a', 'b']"
      ]
     },
     "execution_count": 4,
     "metadata": {},
     "output_type": "execute_result"
    }
   ],
   "source": [
    "tokenizer = tf.keras.layers.TextVectorization(\n",
    "    output_sequence_length=100,\n",
    "    standardize=\"lower_and_strip_punctuation\",\n",
    "    split=\"character\",\n",
    "    output_mode=\"int\",\n",
    ")\n",
    "\n",
    "tokenizer.adapt(train_ds.take(10).map(lambda x,y: x))\n",
    "tokenizer.get_vocabulary()"
   ]
  },
  {
   "cell_type": "code",
   "execution_count": 5,
   "metadata": {},
   "outputs": [
    {
     "data": {
      "text/plain": [
       "<tf.Tensor: shape=(100,), dtype=int64, numpy=\n",
       "array([2, 3, 2, 3, 2, 3, 0, 0, 0, 0, 0, 0, 0, 0, 0, 0, 0, 0, 0, 0, 0, 0,\n",
       "       0, 0, 0, 0, 0, 0, 0, 0, 0, 0, 0, 0, 0, 0, 0, 0, 0, 0, 0, 0, 0, 0,\n",
       "       0, 0, 0, 0, 0, 0, 0, 0, 0, 0, 0, 0, 0, 0, 0, 0, 0, 0, 0, 0, 0, 0,\n",
       "       0, 0, 0, 0, 0, 0, 0, 0, 0, 0, 0, 0, 0, 0, 0, 0, 0, 0, 0, 0, 0, 0,\n",
       "       0, 0, 0, 0, 0, 0, 0, 0, 0, 0, 0, 0])>"
      ]
     },
     "execution_count": 5,
     "metadata": {},
     "output_type": "execute_result"
    }
   ],
   "source": [
    "tokenizer(\"ababab\")"
   ]
  },
  {
   "cell_type": "code",
   "execution_count": 6,
   "metadata": {},
   "outputs": [],
   "source": [
    "from segmentation.model import Encoder\n",
    "from tensorflow.keras import Sequential\n",
    "from tensorflow.keras.layers import Dense\n",
    "\n",
    "model = Sequential([\n",
    "    Encoder(\n",
    "        num_layers=2,\n",
    "        d_model=32,\n",
    "        num_attention_heads=2,\n",
    "        dff=32,\n",
    "        seq_len=100,\n",
    "        tokenizer=tokenizer\n",
    "    ),\n",
    "    Dense(3, activation=\"softmax\")\n",
    "])"
   ]
  },
  {
   "cell_type": "code",
   "execution_count": 7,
   "metadata": {},
   "outputs": [],
   "source": [
    "from segmentation.metrics import SparseAccuracyWithIgnore\n",
    "from segmentation.metrics import SparsePrecision\n",
    "from segmentation.metrics import SparseRecall\n",
    "from segmentation.metrics import SparseF1\n",
    "\n",
    "model.compile(\n",
    "    optimizer=\"adam\",\n",
    "    loss=tf.keras.losses.SparseCategoricalCrossentropy(from_logits=False, ignore_class=0), # Why can I not ignore class 0?\n",
    "    metrics=[\n",
    "        SparseAccuracyWithIgnore(ignore_token=0),\n",
    "        SparsePrecision(class_id=2, name=\"space_precision\"),\n",
    "        SparseRecall(class_id=2, name=\"space_recall\"),\n",
    "        SparseF1(class_id=2, name=\"space_f1\"),\n",
    "        SparsePrecision(class_id=1, name=\"char_precision\"),\n",
    "        SparseRecall(class_id=1, name=\"char_recall\"),\n",
    "        SparseF1(class_id=1, name=\"char_f1\"),\n",
    "    ]\n",
    ")"
   ]
  },
  {
   "cell_type": "code",
   "execution_count": 8,
   "metadata": {},
   "outputs": [
    {
     "name": "stdout",
     "output_type": "stream",
     "text": [
      "Epoch 1/10\n",
      "   7/1250 [..............................] - ETA: 25s - loss: 0.9006 - sparse_categorical_accuracy: 0.5945 - space_precision: 0.3445 - space_recall: 0.3038 - space_f1: 0.3229 - char_precision: 0.7833 - char_recall: 0.6903 - char_f1: 0.7339   "
     ]
    },
    {
     "name": "stderr",
     "output_type": "stream",
     "text": [
      "2023-02-23 13:07:49.883763: I tensorflow/stream_executor/cuda/cuda_blas.cc:1614] TensorFloat-32 will be used for the matrix multiplication. This will only be logged once.\n"
     ]
    },
    {
     "name": "stdout",
     "output_type": "stream",
     "text": [
      "1250/1250 [==============================] - 45s 32ms/step - loss: 0.3037 - sparse_categorical_accuracy: 0.8107 - space_precision: 0.6213 - space_recall: 0.6065 - space_f1: 0.6138 - char_precision: 0.8718 - char_recall: 0.8778 - char_f1: 0.8748 - val_loss: 0.0277 - val_sparse_categorical_accuracy: 1.0000 - val_space_precision: 1.0000 - val_space_recall: 1.0000 - val_space_f1: 1.0000 - val_char_precision: 1.0000 - val_char_recall: 1.0000 - val_char_f1: 1.0000\n",
      "Epoch 2/10\n",
      "1250/1250 [==============================] - 39s 31ms/step - loss: 0.1244 - sparse_categorical_accuracy: 0.9418 - space_precision: 0.8867 - space_recall: 0.8767 - space_f1: 0.8817 - char_precision: 0.9596 - char_recall: 0.9632 - char_f1: 0.9614 - val_loss: 0.0121 - val_sparse_categorical_accuracy: 1.0000 - val_space_precision: 1.0000 - val_space_recall: 1.0000 - val_space_f1: 1.0000 - val_char_precision: 1.0000 - val_char_recall: 1.0000 - val_char_f1: 1.0000\n",
      "Epoch 3/10\n",
      "1250/1250 [==============================] - 39s 31ms/step - loss: 0.1075 - sparse_categorical_accuracy: 0.9536 - space_precision: 0.9191 - space_recall: 0.8908 - space_f1: 0.9048 - char_precision: 0.9645 - char_recall: 0.9742 - char_f1: 0.9693 - val_loss: 0.0128 - val_sparse_categorical_accuracy: 1.0000 - val_space_precision: 1.0000 - val_space_recall: 1.0000 - val_space_f1: 1.0000 - val_char_precision: 1.0000 - val_char_recall: 1.0000 - val_char_f1: 1.0000\n",
      "Epoch 4/10\n",
      "1250/1250 [==============================] - 40s 32ms/step - loss: 0.0968 - sparse_categorical_accuracy: 0.9595 - space_precision: 0.9285 - space_recall: 0.9059 - space_f1: 0.9171 - char_precision: 0.9693 - char_recall: 0.9771 - char_f1: 0.9732 - val_loss: 0.0027 - val_sparse_categorical_accuracy: 1.0000 - val_space_precision: 1.0000 - val_space_recall: 1.0000 - val_space_f1: 1.0000 - val_char_precision: 1.0000 - val_char_recall: 1.0000 - val_char_f1: 1.0000\n",
      "Epoch 5/10\n",
      "1250/1250 [==============================] - 39s 32ms/step - loss: 0.0687 - sparse_categorical_accuracy: 0.9729 - space_precision: 0.9472 - space_recall: 0.9430 - space_f1: 0.9451 - char_precision: 0.9813 - char_recall: 0.9827 - char_f1: 0.9820 - val_loss: 0.0012 - val_sparse_categorical_accuracy: 1.0000 - val_space_precision: 1.0000 - val_space_recall: 1.0000 - val_space_f1: 1.0000 - val_char_precision: 1.0000 - val_char_recall: 1.0000 - val_char_f1: 1.0000\n",
      "Epoch 6/10\n",
      "1250/1250 [==============================] - 40s 32ms/step - loss: 0.0479 - sparse_categorical_accuracy: 0.9813 - space_precision: 0.9611 - space_recall: 0.9633 - space_f1: 0.9622 - char_precision: 0.9879 - char_recall: 0.9872 - char_f1: 0.9875 - val_loss: 5.1988e-04 - val_sparse_categorical_accuracy: 1.0000 - val_space_precision: 1.0000 - val_space_recall: 1.0000 - val_space_f1: 1.0000 - val_char_precision: 1.0000 - val_char_recall: 1.0000 - val_char_f1: 1.0000\n",
      "Epoch 7/10\n",
      "1250/1250 [==============================] - 40s 32ms/step - loss: 0.0368 - sparse_categorical_accuracy: 0.9860 - space_precision: 0.9708 - space_recall: 0.9726 - space_f1: 0.9717 - char_precision: 0.9910 - char_recall: 0.9904 - char_f1: 0.9907 - val_loss: 4.1671e-04 - val_sparse_categorical_accuracy: 1.0000 - val_space_precision: 1.0000 - val_space_recall: 1.0000 - val_space_f1: 1.0000 - val_char_precision: 1.0000 - val_char_recall: 1.0000 - val_char_f1: 1.0000\n",
      "Epoch 8/10\n",
      "1250/1250 [==============================] - 40s 32ms/step - loss: 0.0317 - sparse_categorical_accuracy: 0.9881 - space_precision: 0.9750 - space_recall: 0.9767 - space_f1: 0.9759 - char_precision: 0.9923 - char_recall: 0.9918 - char_f1: 0.9921 - val_loss: 1.9674e-04 - val_sparse_categorical_accuracy: 1.0000 - val_space_precision: 1.0000 - val_space_recall: 1.0000 - val_space_f1: 1.0000 - val_char_precision: 1.0000 - val_char_recall: 1.0000 - val_char_f1: 1.0000\n",
      "Epoch 9/10\n",
      "1250/1250 [==============================] - 40s 32ms/step - loss: 0.0283 - sparse_categorical_accuracy: 0.9892 - space_precision: 0.9775 - space_recall: 0.9790 - space_f1: 0.9783 - char_precision: 0.9931 - char_recall: 0.9926 - char_f1: 0.9928 - val_loss: 3.7716e-04 - val_sparse_categorical_accuracy: 1.0000 - val_space_precision: 1.0000 - val_space_recall: 1.0000 - val_space_f1: 1.0000 - val_char_precision: 1.0000 - val_char_recall: 1.0000 - val_char_f1: 1.0000\n",
      "Epoch 10/10\n",
      "1250/1250 [==============================] - 39s 31ms/step - loss: 0.0266 - sparse_categorical_accuracy: 0.9899 - space_precision: 0.9789 - space_recall: 0.9804 - space_f1: 0.9796 - char_precision: 0.9935 - char_recall: 0.9931 - char_f1: 0.9933 - val_loss: 2.1019e-04 - val_sparse_categorical_accuracy: 1.0000 - val_space_precision: 1.0000 - val_space_recall: 1.0000 - val_space_f1: 1.0000 - val_char_precision: 1.0000 - val_char_recall: 1.0000 - val_char_f1: 1.0000\n"
     ]
    },
    {
     "data": {
      "text/plain": [
       "<keras.callbacks.History at 0x7fafd8940d30>"
      ]
     },
     "execution_count": 8,
     "metadata": {},
     "output_type": "execute_result"
    }
   ],
   "source": [
    "batched_train = train_ds.shuffle(100).batch(8)\n",
    "batched_val = valid_ds.batch(8)\n",
    "\n",
    "model.fit(batched_train, validation_data=batched_val, epochs=10)"
   ]
  },
  {
   "cell_type": "code",
   "execution_count": 9,
   "metadata": {},
   "outputs": [
    {
     "name": "stdout",
     "output_type": "stream",
     "text": [
      "1250/1250 [==============================] - 16s 12ms/step - loss: 2.1019e-04 - sparse_categorical_accuracy: 1.0000 - space_precision: 1.0000 - space_recall: 1.0000 - space_f1: 1.0000 - char_precision: 1.0000 - char_recall: 1.0000 - char_f1: 1.0000\n"
     ]
    },
    {
     "data": {
      "text/plain": [
       "[0.0002101940190186724, 1.0, 1.0, 1.0, 1.0, 1.0, 1.0, 1.0]"
      ]
     },
     "execution_count": 9,
     "metadata": {},
     "output_type": "execute_result"
    }
   ],
   "source": [
    "model.evaluate(batched_val)"
   ]
  },
  {
   "cell_type": "code",
   "execution_count": 13,
   "metadata": {},
   "outputs": [],
   "source": [
    "test_inputs = tf.constant((\"5554445\", \"55544455554445\", \"5454545454545454\"))\n",
    "preds = model(test_inputs)\n",
    "truth = tf.ragged.constant([[1,1,1,1,1,1,2], [1,1,1,1,1,1,2,1,1,1,1,1,1,2], [1,1,2, 1,2, 1,2, 1,2, 1,2, 1,2, 1,2, 1]])\n",
    "char_conditional = (truth == 1).to_tensor(False, shape=(truth.shape[0],100))\n",
    "space_conditional = (truth == 2).to_tensor(False, shape=(truth.shape[0],100))"
   ]
  },
  {
   "cell_type": "code",
   "execution_count": 21,
   "metadata": {},
   "outputs": [
    {
     "data": {
      "text/plain": [
       "(<tf.Tensor: shape=(3, 100), dtype=int64, numpy=\n",
       " array([[1, 1, 1, 1, 1, 1, 1, 1, 1, 1, 1, 1, 1, 1, 1, 1, 1, 1, 1, 1, 1, 1,\n",
       "         1, 1, 1, 1, 1, 1, 1, 1, 1, 1, 1, 1, 1, 1, 1, 1, 1, 1, 1, 1, 1, 1,\n",
       "         1, 1, 1, 1, 1, 1, 1, 1, 1, 1, 1, 1, 1, 1, 1, 1, 1, 1, 1, 1, 1, 1,\n",
       "         1, 1, 1, 1, 1, 1, 1, 1, 1, 1, 1, 1, 1, 1, 1, 1, 1, 1, 1, 1, 1, 1,\n",
       "         1, 1, 1, 1, 1, 1, 1, 1, 1, 1, 1, 1],\n",
       "        [1, 1, 1, 1, 1, 1, 1, 1, 1, 1, 1, 1, 1, 1, 1, 1, 1, 1, 1, 1, 1, 1,\n",
       "         1, 1, 1, 1, 1, 1, 1, 1, 1, 1, 1, 1, 1, 1, 1, 1, 1, 1, 1, 1, 1, 1,\n",
       "         1, 1, 1, 1, 1, 1, 1, 1, 1, 1, 1, 1, 1, 1, 1, 1, 1, 1, 1, 1, 1, 1,\n",
       "         1, 1, 1, 1, 1, 1, 1, 1, 1, 1, 1, 1, 1, 1, 1, 1, 1, 1, 1, 1, 1, 1,\n",
       "         1, 1, 1, 1, 1, 1, 1, 1, 1, 1, 1, 1],\n",
       "        [1, 1, 1, 1, 1, 1, 1, 1, 1, 1, 1, 1, 1, 1, 1, 1, 1, 1, 1, 1, 1, 1,\n",
       "         1, 1, 1, 1, 1, 1, 1, 1, 1, 1, 1, 1, 1, 1, 1, 1, 1, 1, 1, 1, 1, 1,\n",
       "         1, 1, 1, 1, 1, 1, 1, 1, 1, 1, 1, 1, 1, 1, 1, 1, 1, 1, 1, 1, 1, 1,\n",
       "         1, 1, 1, 1, 1, 1, 1, 1, 1, 1, 1, 1, 1, 1, 1, 1, 1, 1, 1, 1, 1, 1,\n",
       "         1, 1, 1, 1, 1, 1, 1, 1, 1, 1, 1, 1]])>,\n",
       " <tf.Tensor: shape=(3, 100, 3), dtype=float32, numpy=\n",
       " array([[[8.41721715e-09, 7.51772344e-01, 2.48227715e-01],\n",
       "         [8.21565926e-09, 8.04790914e-01, 1.95209086e-01],\n",
       "         [7.66613084e-09, 8.54799747e-01, 1.45200312e-01],\n",
       "         [8.66077166e-09, 8.14034402e-01, 1.85965642e-01],\n",
       "         [4.69405892e-09, 8.53610754e-01, 1.46389231e-01],\n",
       "         [4.72557593e-09, 8.16163957e-01, 1.83836117e-01],\n",
       "         [7.60401697e-09, 8.19338202e-01, 1.80661798e-01],\n",
       "         [1.21352040e-08, 7.08087444e-01, 2.91912526e-01],\n",
       "         [1.11822427e-08, 7.13815153e-01, 2.86184847e-01],\n",
       "         [1.32311957e-08, 6.96969271e-01, 3.03030729e-01],\n",
       "         [1.26271251e-08, 7.24586904e-01, 2.75413066e-01],\n",
       "         [1.38017695e-08, 6.75063550e-01, 3.24936420e-01],\n",
       "         [1.13513412e-08, 6.99872434e-01, 3.00127596e-01],\n",
       "         [1.35370586e-08, 6.73864186e-01, 3.26135814e-01],\n",
       "         [1.84853413e-08, 6.77378893e-01, 3.22621137e-01],\n",
       "         [2.08895976e-08, 7.52280354e-01, 2.47719675e-01],\n",
       "         [2.02356212e-08, 7.93793917e-01, 2.06206039e-01],\n",
       "         [1.64836411e-08, 7.61508286e-01, 2.38491669e-01],\n",
       "         [9.91461935e-09, 7.53539979e-01, 2.46460065e-01],\n",
       "         [6.05620798e-09, 7.29101241e-01, 2.70898759e-01],\n",
       "         [5.92818106e-09, 6.62338853e-01, 3.37661088e-01],\n",
       "         [6.42592290e-09, 6.80384934e-01, 3.19615066e-01],\n",
       "         [7.77407827e-09, 7.11671889e-01, 2.88328141e-01],\n",
       "         [9.14450382e-09, 7.42214739e-01, 2.57785290e-01],\n",
       "         [8.23610069e-09, 7.96776652e-01, 2.03223377e-01],\n",
       "         [8.18875545e-09, 8.09388041e-01, 1.90611884e-01],\n",
       "         [1.20935670e-08, 7.67155707e-01, 2.32844278e-01],\n",
       "         [1.59226747e-08, 7.71175623e-01, 2.28824332e-01],\n",
       "         [1.97397387e-08, 7.66167462e-01, 2.33832508e-01],\n",
       "         [1.88101108e-08, 7.56689489e-01, 2.43310526e-01],\n",
       "         [1.31083517e-08, 7.59219289e-01, 2.40780741e-01],\n",
       "         [7.41256656e-09, 7.93193758e-01, 2.06806242e-01],\n",
       "         [6.95363322e-09, 7.44942605e-01, 2.55057395e-01],\n",
       "         [8.03496825e-09, 7.23350465e-01, 2.76649505e-01],\n",
       "         [1.07754525e-08, 7.59141982e-01, 2.40857974e-01],\n",
       "         [1.32551392e-08, 8.04271817e-01, 1.95728242e-01],\n",
       "         [1.54623052e-08, 7.93454707e-01, 2.06545264e-01],\n",
       "         [1.12723262e-08, 8.31945002e-01, 1.68054983e-01],\n",
       "         [9.70554126e-09, 8.12778950e-01, 1.87221006e-01],\n",
       "         [9.90714266e-09, 7.79529035e-01, 2.20470950e-01],\n",
       "         [9.62957358e-09, 7.87838697e-01, 2.12161288e-01],\n",
       "         [9.07260489e-09, 7.87642181e-01, 2.12357864e-01],\n",
       "         [7.39015338e-09, 7.81185985e-01, 2.18813956e-01],\n",
       "         [4.49538096e-09, 8.08856249e-01, 1.91143706e-01],\n",
       "         [3.69687791e-09, 7.85894692e-01, 2.14105278e-01],\n",
       "         [5.04002662e-09, 7.52540648e-01, 2.47459367e-01],\n",
       "         [8.05090572e-09, 7.80520201e-01, 2.19479755e-01],\n",
       "         [1.41255851e-08, 8.01558077e-01, 1.98441967e-01],\n",
       "         [1.88636751e-08, 8.13365042e-01, 1.86634928e-01],\n",
       "         [1.96723686e-08, 7.89490104e-01, 2.10509866e-01],\n",
       "         [1.51373811e-08, 7.83309639e-01, 2.16690347e-01],\n",
       "         [1.54954769e-08, 7.16246545e-01, 2.83753484e-01],\n",
       "         [1.44939802e-08, 7.05620885e-01, 2.94379115e-01],\n",
       "         [1.45814223e-08, 7.06552207e-01, 2.93447822e-01],\n",
       "         [1.32062992e-08, 7.06320405e-01, 2.93679565e-01],\n",
       "         [1.03681401e-08, 7.09101439e-01, 2.90898591e-01],\n",
       "         [7.02135816e-09, 7.51284599e-01, 2.48715356e-01],\n",
       "         [7.84396725e-09, 7.15967774e-01, 2.84032255e-01],\n",
       "         [1.06725242e-08, 7.26423204e-01, 2.73576826e-01],\n",
       "         [1.52630726e-08, 7.66725063e-01, 2.33274922e-01],\n",
       "         [1.69771148e-08, 8.08171868e-01, 1.91828161e-01],\n",
       "         [1.70118355e-08, 7.82538235e-01, 2.17461720e-01],\n",
       "         [1.05233449e-08, 8.01665068e-01, 1.98334917e-01],\n",
       "         [7.77362352e-09, 7.72944808e-01, 2.27055207e-01],\n",
       "         [7.88812748e-09, 7.23439991e-01, 2.76559949e-01],\n",
       "         [8.47626236e-09, 7.43734241e-01, 2.56265730e-01],\n",
       "         [9.81828663e-09, 7.59738386e-01, 2.40261599e-01],\n",
       "         [1.10292682e-08, 7.67042935e-01, 2.32957020e-01],\n",
       "         [1.19151382e-08, 7.59045660e-01, 2.40954325e-01],\n",
       "         [1.26914665e-08, 7.56186128e-01, 2.43813857e-01],\n",
       "         [1.67725389e-08, 7.51821935e-01, 2.48178095e-01],\n",
       "         [2.43513387e-08, 7.56403863e-01, 2.43596196e-01],\n",
       "         [2.64248108e-08, 7.73293614e-01, 2.26706386e-01],\n",
       "         [2.26098482e-08, 7.62637734e-01, 2.37362266e-01],\n",
       "         [1.64121818e-08, 7.20980525e-01, 2.79019475e-01],\n",
       "         [8.15047763e-09, 7.58040786e-01, 2.41959274e-01],\n",
       "         [6.55502097e-09, 6.92022324e-01, 3.07977706e-01],\n",
       "         [6.50718146e-09, 6.81339741e-01, 3.18660259e-01],\n",
       "         [7.60230989e-09, 7.13388264e-01, 2.86611736e-01],\n",
       "         [8.30721447e-09, 7.57782757e-01, 2.42217228e-01],\n",
       "         [9.76243086e-09, 7.54583895e-01, 2.45416090e-01],\n",
       "         [7.62878472e-09, 8.08695018e-01, 1.91304997e-01],\n",
       "         [7.81152742e-09, 7.88305819e-01, 2.11694196e-01],\n",
       "         [1.01216351e-08, 7.49272406e-01, 2.50727654e-01],\n",
       "         [1.20028316e-08, 7.50220478e-01, 2.49779597e-01],\n",
       "         [1.25598110e-08, 7.46134102e-01, 2.53865868e-01],\n",
       "         [1.04595577e-08, 7.39113867e-01, 2.60886163e-01],\n",
       "         [6.37854125e-09, 7.70996034e-01, 2.29004011e-01],\n",
       "         [4.99774888e-09, 7.68240571e-01, 2.31759459e-01],\n",
       "         [7.28695770e-09, 7.03124404e-01, 2.96875626e-01],\n",
       "         [1.02087014e-08, 7.27491856e-01, 2.72508115e-01],\n",
       "         [1.43538381e-08, 7.82096207e-01, 2.17903838e-01],\n",
       "         [1.66950045e-08, 8.09069097e-01, 1.90930858e-01],\n",
       "         [1.59087605e-08, 8.04588616e-01, 1.95411354e-01],\n",
       "         [1.16080860e-08, 8.18163931e-01, 1.81836024e-01],\n",
       "         [1.19710624e-08, 7.70544708e-01, 2.29455337e-01],\n",
       "         [1.13472121e-08, 7.45691538e-01, 2.54308432e-01],\n",
       "         [1.00504804e-08, 7.53588200e-01, 2.46411800e-01],\n",
       "         [7.12069070e-09, 7.81567514e-01, 2.18432516e-01],\n",
       "         [4.54002969e-09, 8.02937865e-01, 1.97062194e-01]],\n",
       " \n",
       "        [[7.01222147e-09, 7.43669033e-01, 2.56331027e-01],\n",
       "         [8.28499225e-09, 7.93473780e-01, 2.06526190e-01],\n",
       "         [7.84933718e-09, 8.53413641e-01, 1.46586329e-01],\n",
       "         [8.78183126e-09, 8.22116435e-01, 1.77883521e-01],\n",
       "         [4.83200946e-09, 8.56258690e-01, 1.43741265e-01],\n",
       "         [5.01512254e-09, 8.08469236e-01, 1.91530809e-01],\n",
       "         [8.01091016e-09, 8.12400758e-01, 1.87599227e-01],\n",
       "         [1.28647670e-08, 8.53572369e-01, 1.46427616e-01],\n",
       "         [1.61445701e-08, 8.55399787e-01, 1.44600242e-01],\n",
       "         [1.23335013e-08, 9.03082311e-01, 9.69177112e-02],\n",
       "         [1.14045067e-08, 9.30887103e-01, 6.91129118e-02],\n",
       "         [7.53249729e-09, 9.38576162e-01, 6.14238232e-02],\n",
       "         [1.66046394e-08, 8.11764061e-01, 1.88235939e-01],\n",
       "         [3.00683247e-08, 7.53823876e-01, 2.46176109e-01],\n",
       "         [1.93458458e-08, 6.50250733e-01, 3.49749297e-01],\n",
       "         [2.22679866e-08, 7.26342797e-01, 2.73657173e-01],\n",
       "         [2.16535589e-08, 7.70101964e-01, 2.29898021e-01],\n",
       "         [1.74062169e-08, 7.35201955e-01, 2.64798075e-01],\n",
       "         [1.02796385e-08, 7.28493690e-01, 2.71506339e-01],\n",
       "         [6.17168983e-09, 7.07774222e-01, 2.92225748e-01],\n",
       "         [6.07007555e-09, 6.39375508e-01, 3.60624492e-01],\n",
       "         [6.41548192e-09, 6.67019427e-01, 3.32980573e-01],\n",
       "         [8.07294498e-09, 6.82797790e-01, 3.17202240e-01],\n",
       "         [9.50108792e-09, 7.13683903e-01, 2.86316067e-01],\n",
       "         [8.42338288e-09, 7.76962757e-01, 2.23037258e-01],\n",
       "         [8.43420800e-09, 7.90726483e-01, 2.09273517e-01],\n",
       "         [1.25906308e-08, 7.44668245e-01, 2.55331784e-01],\n",
       "         [1.67488174e-08, 7.49030769e-01, 2.50969231e-01],\n",
       "         [2.07782058e-08, 7.44186819e-01, 2.55813152e-01],\n",
       "         [1.97117007e-08, 7.34132171e-01, 2.65867800e-01],\n",
       "         [1.35761358e-08, 7.37297356e-01, 2.62702703e-01],\n",
       "         [7.37666772e-09, 7.87369072e-01, 2.12630957e-01],\n",
       "         [6.95898095e-09, 7.37000048e-01, 2.62999952e-01],\n",
       "         [8.27533153e-09, 7.02519357e-01, 2.97480673e-01],\n",
       "         [1.11826992e-08, 7.36917138e-01, 2.63082802e-01],\n",
       "         [1.38619329e-08, 7.83842742e-01, 2.16157302e-01],\n",
       "         [1.59919047e-08, 7.72967219e-01, 2.27032751e-01],\n",
       "         [1.15014505e-08, 8.16331506e-01, 1.83668524e-01],\n",
       "         [1.00006829e-08, 7.94999242e-01, 2.05000788e-01],\n",
       "         [1.03152731e-08, 7.58314848e-01, 2.41685137e-01],\n",
       "         [1.00716333e-08, 7.66781211e-01, 2.33218759e-01],\n",
       "         [9.43786826e-09, 7.66832590e-01, 2.33167425e-01],\n",
       "         [7.62364838e-09, 7.60159433e-01, 2.39840582e-01],\n",
       "         [4.57699478e-09, 7.89745629e-01, 2.10254371e-01],\n",
       "         [3.76464593e-09, 7.64709294e-01, 2.35290721e-01],\n",
       "         [5.20058352e-09, 7.29008198e-01, 2.70991772e-01],\n",
       "         [8.34497893e-09, 7.59488821e-01, 2.40511194e-01],\n",
       "         [1.46823629e-08, 7.82874346e-01, 2.17125654e-01],\n",
       "         [1.98469703e-08, 7.93820322e-01, 2.06179664e-01],\n",
       "         [2.04023767e-08, 7.70418167e-01, 2.29581833e-01],\n",
       "         [1.57794329e-08, 7.63291061e-01, 2.36708909e-01],\n",
       "         [1.63216480e-08, 6.90680563e-01, 3.09319407e-01],\n",
       "         [1.47834660e-08, 6.94045961e-01, 3.05954069e-01],\n",
       "         [1.54152300e-08, 6.80507243e-01, 3.19492728e-01],\n",
       "         [1.38031506e-08, 6.79440618e-01, 3.20559412e-01],\n",
       "         [1.07029345e-08, 6.82680547e-01, 3.17319453e-01],\n",
       "         [6.98890368e-09, 7.43280113e-01, 2.56719857e-01],\n",
       "         [7.93415378e-09, 7.00723827e-01, 2.99276203e-01],\n",
       "         [1.11219354e-08, 6.99920297e-01, 3.00079733e-01],\n",
       "         [1.60150115e-08, 7.43458748e-01, 2.56541222e-01],\n",
       "         [1.79934911e-08, 7.85993636e-01, 2.14006364e-01],\n",
       "         [1.78701018e-08, 7.58301914e-01, 2.41698056e-01],\n",
       "         [1.09110125e-08, 7.81119287e-01, 2.18880713e-01],\n",
       "         [7.94073518e-09, 7.57340491e-01, 2.42659435e-01],\n",
       "         [8.19329316e-09, 7.00328648e-01, 2.99671352e-01],\n",
       "         [8.75278339e-09, 7.22762465e-01, 2.77237535e-01],\n",
       "         [1.02130793e-08, 7.36555696e-01, 2.63444245e-01],\n",
       "         [1.13449454e-08, 7.45205820e-01, 2.54794180e-01],\n",
       "         [1.22012400e-08, 7.37472594e-01, 2.62527376e-01],\n",
       "         [1.26986333e-08, 7.46602654e-01, 2.53397375e-01],\n",
       "         [1.75423835e-08, 7.30155051e-01, 2.69844979e-01],\n",
       "         [2.56577213e-08, 7.35420346e-01, 2.64579684e-01],\n",
       "         [2.82638268e-08, 7.50898063e-01, 2.49101952e-01],\n",
       "         [2.39657094e-08, 7.38532245e-01, 2.61467725e-01],\n",
       "         [1.69725514e-08, 6.97098553e-01, 3.02901417e-01],\n",
       "         [8.10357825e-09, 7.50919580e-01, 2.49080390e-01],\n",
       "         [6.52319843e-09, 6.82387888e-01, 3.17612112e-01],\n",
       "         [6.75857370e-09, 6.51451468e-01, 3.48548561e-01],\n",
       "         [7.85493182e-09, 6.86346352e-01, 3.13653678e-01],\n",
       "         [8.63994742e-09, 7.31078863e-01, 2.68921137e-01],\n",
       "         [1.00560591e-08, 7.28486836e-01, 2.71513164e-01],\n",
       "         [7.75904851e-09, 7.89616346e-01, 2.10383609e-01],\n",
       "         [8.01647992e-09, 7.66990721e-01, 2.33009323e-01],\n",
       "         [1.05084768e-08, 7.25012124e-01, 2.74987817e-01],\n",
       "         [1.25663204e-08, 7.25926280e-01, 2.74073750e-01],\n",
       "         [1.33224543e-08, 7.18270659e-01, 2.81729370e-01],\n",
       "         [1.08596723e-08, 7.14826882e-01, 2.85173088e-01],\n",
       "         [6.58503341e-09, 7.48521388e-01, 2.51478612e-01],\n",
       "         [4.95673191e-09, 7.60817468e-01, 2.39182577e-01],\n",
       "         [7.32894634e-09, 6.92058921e-01, 3.07941139e-01],\n",
       "         [1.07117071e-08, 7.02625096e-01, 2.97374874e-01],\n",
       "         [1.52575872e-08, 7.59602189e-01, 2.40397856e-01],\n",
       "         [1.76608008e-08, 7.89129317e-01, 2.10870698e-01],\n",
       "         [1.67041510e-08, 7.84127474e-01, 2.15872511e-01],\n",
       "         [1.20856161e-08, 8.00462484e-01, 1.99537575e-01],\n",
       "         [1.25937163e-08, 7.48619378e-01, 2.51380652e-01],\n",
       "         [1.20488162e-08, 7.20939100e-01, 2.79060870e-01],\n",
       "         [1.06221805e-08, 7.28760242e-01, 2.71239758e-01],\n",
       "         [7.56778462e-09, 7.55336583e-01, 2.44663373e-01],\n",
       "         [4.70726125e-09, 7.80037880e-01, 2.19962120e-01]],\n",
       " \n",
       "        [[7.24314386e-09, 7.49848247e-01, 2.50151753e-01],\n",
       "         [8.27080715e-09, 8.06219101e-01, 1.93780944e-01],\n",
       "         [7.71664510e-09, 8.65600944e-01, 1.34399056e-01],\n",
       "         [8.91137208e-09, 8.29989970e-01, 1.70010090e-01],\n",
       "         [4.95545516e-09, 8.61423731e-01, 1.38576254e-01],\n",
       "         [5.12678300e-09, 8.09260786e-01, 1.90739229e-01],\n",
       "         [8.25293878e-09, 8.11902642e-01, 1.88097373e-01],\n",
       "         [1.33030458e-08, 8.57949913e-01, 1.42050087e-01],\n",
       "         [1.60192215e-08, 8.67331326e-01, 1.32668644e-01],\n",
       "         [1.22529613e-08, 9.09870267e-01, 9.01297703e-02],\n",
       "         [1.16299121e-08, 9.32821274e-01, 6.71787709e-02],\n",
       "         [7.78052556e-09, 9.37852323e-01, 6.21476881e-02],\n",
       "         [1.68507359e-08, 8.12226176e-01, 1.87773779e-01],\n",
       "         [3.11163433e-08, 7.08485186e-01, 2.91514754e-01],\n",
       "         [2.59632671e-08, 7.30246663e-01, 2.69753307e-01],\n",
       "         [1.72092829e-08, 7.98647165e-01, 2.01352865e-01],\n",
       "         [2.18118821e-08, 7.65180171e-01, 2.34819829e-01],\n",
       "         [1.74918426e-08, 7.29537368e-01, 2.70462632e-01],\n",
       "         [1.02626458e-08, 7.23614454e-01, 2.76385486e-01],\n",
       "         [6.09192874e-09, 7.07345128e-01, 2.92654872e-01],\n",
       "         [5.97926197e-09, 6.38071835e-01, 3.61928165e-01],\n",
       "         [6.33508002e-09, 6.66176319e-01, 3.33823681e-01],\n",
       "         [8.05263856e-09, 6.77063823e-01, 3.22936237e-01],\n",
       "         [9.48667633e-09, 7.07446992e-01, 2.92552948e-01],\n",
       "         [8.38962055e-09, 7.73140311e-01, 2.26859644e-01],\n",
       "         [8.37259506e-09, 7.87078977e-01, 2.12921068e-01],\n",
       "         [1.25529409e-08, 7.40221918e-01, 2.59778082e-01],\n",
       "         [1.67806107e-08, 7.44656622e-01, 2.55343378e-01],\n",
       "         [2.08898392e-08, 7.40010262e-01, 2.59989768e-01],\n",
       "         [1.97608738e-08, 7.29851902e-01, 2.70148158e-01],\n",
       "         [1.35727571e-08, 7.33073115e-01, 2.66926855e-01],\n",
       "         [7.32305150e-09, 7.86404550e-01, 2.13595450e-01],\n",
       "         [6.90693946e-09, 7.35544443e-01, 2.64455557e-01],\n",
       "         [8.21167934e-09, 7.00546682e-01, 2.99453288e-01],\n",
       "         [1.11734098e-08, 7.32657075e-01, 2.67342865e-01],\n",
       "         [1.38716372e-08, 7.79663205e-01, 2.20336750e-01],\n",
       "         [1.59485207e-08, 7.69564211e-01, 2.30435759e-01],\n",
       "         [1.14405321e-08, 8.13402832e-01, 1.86597183e-01],\n",
       "         [9.93613902e-09, 7.91726649e-01, 2.08273381e-01],\n",
       "         [1.02963886e-08, 7.54220188e-01, 2.45779797e-01],\n",
       "         [1.00718296e-08, 7.62709200e-01, 2.37290800e-01],\n",
       "         [9.43503320e-09, 7.62738705e-01, 2.37261280e-01],\n",
       "         [7.59071828e-09, 7.56063640e-01, 2.43936315e-01],\n",
       "         [4.54183802e-09, 7.86145210e-01, 2.13854775e-01],\n",
       "         [3.74139342e-09, 7.60577738e-01, 2.39422321e-01],\n",
       "         [5.15761300e-09, 7.24483848e-01, 2.75516152e-01],\n",
       "         [8.30819857e-09, 7.55571902e-01, 2.44428083e-01],\n",
       "         [1.47172114e-08, 7.79436946e-01, 2.20563084e-01],\n",
       "         [1.98985237e-08, 7.89858997e-01, 2.10141048e-01],\n",
       "         [2.04109529e-08, 7.66689420e-01, 2.33310536e-01],\n",
       "         [1.57665649e-08, 7.59394109e-01, 2.40605921e-01],\n",
       "         [1.63167631e-08, 6.85830057e-01, 3.14169973e-01],\n",
       "         [1.46921071e-08, 6.92452490e-01, 3.07547480e-01],\n",
       "         [1.53042023e-08, 6.79006040e-01, 3.20993900e-01],\n",
       "         [1.38380285e-08, 6.74351394e-01, 3.25648606e-01],\n",
       "         [1.06725375e-08, 6.77540958e-01, 3.22459042e-01],\n",
       "         [6.92794933e-09, 7.41666079e-01, 2.58333981e-01],\n",
       "         [7.85099097e-09, 6.98601544e-01, 3.01398486e-01],\n",
       "         [1.10845191e-08, 6.94737434e-01, 3.05262566e-01],\n",
       "         [1.59896612e-08, 7.38965154e-01, 2.61034906e-01],\n",
       "         [1.80472668e-08, 7.81243026e-01, 2.18757018e-01],\n",
       "         [1.79161503e-08, 7.52900839e-01, 2.47099146e-01],\n",
       "         [1.08661036e-08, 7.77184963e-01, 2.22815022e-01],\n",
       "         [7.86938603e-09, 7.55820870e-01, 2.44179085e-01],\n",
       "         [8.13775536e-09, 6.98261380e-01, 3.01738620e-01],\n",
       "         [8.67602523e-09, 7.21059084e-01, 2.78940976e-01],\n",
       "         [1.02088205e-08, 7.32000291e-01, 2.67999649e-01],\n",
       "         [1.13157537e-08, 7.41222739e-01, 2.58777261e-01],\n",
       "         [1.21881696e-08, 7.33348906e-01, 2.66651094e-01],\n",
       "         [1.26229818e-08, 7.45326698e-01, 2.54673272e-01],\n",
       "         [1.75329422e-08, 7.26286352e-01, 2.73713678e-01],\n",
       "         [2.57683705e-08, 7.31666684e-01, 2.68333375e-01],\n",
       "         [2.84842567e-08, 7.46324658e-01, 2.53675312e-01],\n",
       "         [2.40812223e-08, 7.33635068e-01, 2.66364932e-01],\n",
       "         [1.69261227e-08, 6.92547381e-01, 3.07452649e-01],\n",
       "         [8.05762657e-09, 7.49490917e-01, 2.50509053e-01],\n",
       "         [6.45586429e-09, 6.80272400e-01, 3.19727659e-01],\n",
       "         [6.73718148e-09, 6.46146238e-01, 3.53853703e-01],\n",
       "         [7.83611398e-09, 6.80947304e-01, 3.19052696e-01],\n",
       "         [8.64774830e-09, 7.25263894e-01, 2.74736166e-01],\n",
       "         [1.00295932e-08, 7.22751975e-01, 2.77247995e-01],\n",
       "         [7.68343345e-09, 7.85961449e-01, 2.14038566e-01],\n",
       "         [7.98713895e-09, 7.62750566e-01, 2.37249434e-01],\n",
       "         [1.04850884e-08, 7.20313013e-01, 2.79686958e-01],\n",
       "         [1.25832251e-08, 7.21090555e-01, 2.78909415e-01],\n",
       "         [1.33722278e-08, 7.12799370e-01, 2.87200630e-01],\n",
       "         [1.08532445e-08, 7.09987700e-01, 2.90012300e-01],\n",
       "         [6.55837962e-09, 7.44364977e-01, 2.55634993e-01],\n",
       "         [4.90497198e-09, 7.59294391e-01, 2.40705565e-01],\n",
       "         [7.26614768e-09, 6.90111041e-01, 3.09888989e-01],\n",
       "         [1.07531388e-08, 6.98069930e-01, 3.01930040e-01],\n",
       "         [1.53431312e-08, 7.54793227e-01, 2.45206788e-01],\n",
       "         [1.77288761e-08, 7.85107374e-01, 2.14892626e-01],\n",
       "         [1.67354681e-08, 7.80465782e-01, 2.19534174e-01],\n",
       "         [1.20976837e-08, 7.97162592e-01, 2.02837393e-01],\n",
       "         [1.26428370e-08, 7.44512618e-01, 2.55487382e-01],\n",
       "         [1.21092363e-08, 7.16166198e-01, 2.83833832e-01],\n",
       "         [1.06221432e-08, 7.24041462e-01, 2.75958568e-01],\n",
       "         [7.57825180e-09, 7.49799728e-01, 2.50200212e-01],\n",
       "         [4.69028549e-09, 7.75955498e-01, 2.24044517e-01]]], dtype=float32)>)"
      ]
     },
     "execution_count": 21,
     "metadata": {},
     "output_type": "execute_result"
    }
   ],
   "source": [
    "tf.argmax(preds, axis=-1), preds"
   ]
  },
  {
   "cell_type": "code",
   "execution_count": 16,
   "metadata": {},
   "outputs": [
    {
     "data": {
      "text/plain": [
       "Text(0.5, 0.98, 'Probabilities of space/char conditional on character input')"
      ]
     },
     "execution_count": 16,
     "metadata": {},
     "output_type": "execute_result"
    },
    {
     "data": {
      "image/png": "[encoded data removed]",
      "text/plain": [
       "<Figure size 640x480 with 2 Axes>"
      ]
     },
     "metadata": {},
     "output_type": "display_data"
    }
   ],
   "source": [
    "import matplotlib.pyplot as plt\n",
    "fig, axs = plt.subplots(1,2)\n",
    "prob_of_space = preds[char_conditional][...,2]\n",
    "prob_of_char = preds[char_conditional][...,1]\n",
    "axs[0].hist(prob_of_space)\n",
    "axs[0].set_xlim(0,1)\n",
    "axs[1].hist(prob_of_char)\n",
    "axs[1].set_xlim(0,1)\n",
    "fig.suptitle(\"Probabilities of space/char conditional on character input\")"
   ]
  },
  {
   "cell_type": "code",
   "execution_count": 17,
   "metadata": {},
   "outputs": [
    {
     "data": {
      "image/png": "[encoded data removed]",
      "text/plain": [
       "<Figure size 640x480 with 2 Axes>"
      ]
     },
     "metadata": {},
     "output_type": "display_data"
    }
   ],
   "source": [
    "fig, axs = plt.subplots(1,2)\n",
    "prob_of_space = preds[space_conditional][...,2]\n",
    "prob_of_char = preds[space_conditional][...,1]\n",
    "axs[0].hist(prob_of_space)\n",
    "axs[1].hist(prob_of_char)\n",
    "# axs[1].set_xlim(0,1)\n",
    "fig.suptitle(\"Probabilities of space/char conditional on space input\")\n",
    "\n",
    "fig.show()"
   ]
  },
  {
   "cell_type": "code",
   "execution_count": 18,
   "metadata": {},
   "outputs": [
    {
     "data": {
      "text/plain": [
       "([0.8193382,\n",
       "  0.81240076,\n",
       "  0.7538239,\n",
       "  0.86560094,\n",
       "  0.86142373,\n",
       "  0.81190264,\n",
       "  0.8673313,\n",
       "  0.9328213,\n",
       "  0.8122262,\n",
       "  0.73024666],\n",
       " <tf.Tensor: shape=(10,), dtype=float32, numpy=\n",
       " array([0.1806618 , 0.18759923, 0.24617611, 0.13439906, 0.13857625,\n",
       "        0.18809737, 0.13266864, 0.06717877, 0.18777378, 0.2697533 ],\n",
       "       dtype=float32)>)"
      ]
     },
     "execution_count": 18,
     "metadata": {},
     "output_type": "execute_result"
    }
   ],
   "source": [
    "list(prob_of_char.numpy()), prob_of_space"
   ]
  },
  {
   "cell_type": "code",
   "execution_count": 19,
   "metadata": {},
   "outputs": [
    {
     "ename": "TypeError",
     "evalue": "Cannot iterate over a scalar tensor.",
     "output_type": "error",
     "traceback": [
      "\u001b[0;31m---------------------------------------------------------------------------\u001b[0m",
      "\u001b[0;31mTypeError\u001b[0m                                 Traceback (most recent call last)",
      "Cell \u001b[0;32mIn[19], line 1\u001b[0m\n\u001b[0;32m----> 1\u001b[0m [\u001b[39mlen\u001b[39m(x) \u001b[39mfor\u001b[39;00m x \u001b[39min\u001b[39;00m test_inputs[\u001b[39m0\u001b[39m]], preds\u001b[39m.\u001b[39m_keras_mask\u001b[39m.\u001b[39mnumpy()\u001b[39m.\u001b[39msum(axis\u001b[39m=\u001b[39m\u001b[39m1\u001b[39m)\n",
      "File \u001b[0;32m~/tf_210/lib/python3.8/site-packages/tensorflow/python/framework/ops.py:585\u001b[0m, in \u001b[0;36mTensor.__iter__\u001b[0;34m(self)\u001b[0m\n\u001b[1;32m    583\u001b[0m   \u001b[39mraise\u001b[39;00m \u001b[39mTypeError\u001b[39;00m(\u001b[39m\"\u001b[39m\u001b[39mCannot iterate over a tensor with unknown shape.\u001b[39m\u001b[39m\"\u001b[39m)\n\u001b[1;32m    584\u001b[0m \u001b[39mif\u001b[39;00m \u001b[39mnot\u001b[39;00m shape:\n\u001b[0;32m--> 585\u001b[0m   \u001b[39mraise\u001b[39;00m \u001b[39mTypeError\u001b[39;00m(\u001b[39m\"\u001b[39m\u001b[39mCannot iterate over a scalar tensor.\u001b[39m\u001b[39m\"\u001b[39m)\n\u001b[1;32m    586\u001b[0m \u001b[39mif\u001b[39;00m shape[\u001b[39m0\u001b[39m] \u001b[39mis\u001b[39;00m \u001b[39mNone\u001b[39;00m:\n\u001b[1;32m    587\u001b[0m   \u001b[39mraise\u001b[39;00m \u001b[39mTypeError\u001b[39;00m(\n\u001b[1;32m    588\u001b[0m       \u001b[39m\"\u001b[39m\u001b[39mCannot iterate over a tensor with unknown first dimension.\u001b[39m\u001b[39m\"\u001b[39m)\n",
      "\u001b[0;31mTypeError\u001b[0m: Cannot iterate over a scalar tensor."
     ]
    }
   ],
   "source": [
    "[len(x) for x in test_inputs[0]], preds._keras_mask.numpy().sum(axis=1)"
   ]
  },
  {
   "cell_type": "code",
   "execution_count": 20,
   "metadata": {},
   "outputs": [
    {
     "ename": "AttributeError",
     "evalue": "'Sequential' object has no attribute 'encoder'",
     "output_type": "error",
     "traceback": [
      "\u001b[0;31m---------------------------------------------------------------------------\u001b[0m",
      "\u001b[0;31mAttributeError\u001b[0m                            Traceback (most recent call last)",
      "Cell \u001b[0;32mIn[20], line 1\u001b[0m\n\u001b[0;32m----> 1\u001b[0m pos \u001b[39m=\u001b[39m model\u001b[39m.\u001b[39;49mencoder\u001b[39m.\u001b[39mpos_embedding\u001b[39m.\u001b[39mpos_encoding\u001b[39m.\u001b[39mnumpy()\n\u001b[1;32m      2\u001b[0m learned_embed \u001b[39m=\u001b[39m model\u001b[39m.\u001b[39mencoder\u001b[39m.\u001b[39mpos_embedding\u001b[39m.\u001b[39membedding\u001b[39m.\u001b[39membeddings\u001b[39m.\u001b[39mnumpy()\n\u001b[1;32m      3\u001b[0m tf\u001b[39m.\u001b[39mreduce_sum(pos\u001b[39m@pos\u001b[39m\u001b[39m.\u001b[39mT,axis\u001b[39m=\u001b[39m\u001b[39m-\u001b[39m\u001b[39m1\u001b[39m), tf\u001b[39m.\u001b[39mreduce_sum(learned_embed\u001b[39m@learned_embed\u001b[39m\u001b[39m.\u001b[39mT,axis\u001b[39m=\u001b[39m\u001b[39m-\u001b[39m\u001b[39m1\u001b[39m)\n",
      "\u001b[0;31mAttributeError\u001b[0m: 'Sequential' object has no attribute 'encoder'"
     ]
    }
   ],
   "source": [
    "pos = model.encoder.pos_embedding.pos_encoding.numpy()\n",
    "learned_embed = model.encoder.pos_embedding.embedding.embeddings.numpy()\n",
    "tf.reduce_sum(pos@pos.T,axis=-1), tf.reduce_sum(learned_embed@learned_embed.T,axis=-1)"
   ]
  },
  {
   "cell_type": "code",
   "execution_count": null,
   "metadata": {},
   "outputs": [],
   "source": []
  }
 ],
 "metadata": {
  "kernelspec": {
   "display_name": "tf_210",
   "language": "python",
   "name": "python3"
  },
  "language_info": {
   "codemirror_mode": {
    "name": "ipython",
    "version": 3
   },
   "file_extension": ".py",
   "mimetype": "text/x-python",
   "name": "python",
   "nbconvert_exporter": "python",
   "pygments_lexer": "ipython3",
   "version": "3.8.10"
  },
  "orig_nbformat": 4,
  "vscode": {
   "interpreter": {
    "hash": "4c2409f7cd36a60864259fe7c86cc6f7edd5e2a0604f36f600c4aba8b227f5d5"
   }
  }
 },
 "nbformat": 4,
 "nbformat_minor": 2
}
