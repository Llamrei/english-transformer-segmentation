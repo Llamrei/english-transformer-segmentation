{
  "cells": [
    {
      "cell_type": "code",
      "execution_count": null,
      "metadata": {
        "id": "2KVAv9U3jY7i"
      },
      "outputs": [],
      "source": [
        "import tensorflow as tf\n",
        "import numpy as np\n",
        "\n",
        "from tensorflow.keras.models import Sequential, Model\n",
        "from tensorflow.keras.layers import (TextVectorization, Dense, MultiHeadAttention, LayerNormalization, \n",
        "                                     Layer, Embedding, Input, Dropout)\n",
        "from tensorflow.keras.callbacks import EarlyStopping"
      ]
    },
    {
      "cell_type": "markdown",
      "metadata": {
        "id": "mZInpwbT0b5_"
      },
      "source": [
        "# Build dataset"
      ]
    },
    {
      "cell_type": "code",
      "execution_count": null,
      "metadata": {
        "id": "TL_AUlpOjdXK"
      },
      "outputs": [],
      "source": [
        "FULL_VOCAB = 'abcdefghijklmnopqrstuvwxyz'\n",
        "SEQ_LEN = 10"
      ]
    },
    {
      "cell_type": "code",
      "execution_count": null,
      "metadata": {
        "id": "mGjSyURTkHCd"
      },
      "outputs": [],
      "source": [
        "def dataset1(vocab_size=2, dataset_size=10000, seq_len=10, full_vocab=FULL_VOCAB):\n",
        "  \"\"\"\n",
        "  Inserts a space after a the first character in the vocabulary (and nowhere else)\n",
        "  \"\"\"\n",
        "  assert vocab_size > 1\n",
        "  vocab = list(full_vocab[:vocab_size])\n",
        "  inputs = np.random.choice(vocab, size=(dataset_size, seq_len))\n",
        "  outputs = np.where(inputs == vocab[0], 1., 0.).astype(np.float32)  # 1 = space, 0 = no space\n",
        "  concatenated_inputs = np.array([''.join(row) for row in inputs])\n",
        "  return concatenated_inputs, outputs\n",
        "\n",
        "def dataset2(vocab_size=2, dataset_size=10000, seq_len=10, full_vocab=FULL_VOCAB):\n",
        "  \"\"\"\n",
        "  Inserts a space after the combination of 1st->2nd character in the vocabulary (and nowhere else)\n",
        "  \"\"\"\n",
        "  assert vocab_size > 1\n",
        "  vocab = list(full_vocab[:vocab_size])\n",
        "  inputs = np.random.choice(vocab, size=(dataset_size, seq_len))\n",
        "  outputs = np.zeros_like(inputs, dtype=np.float32)\n",
        "  for i, example in enumerate(inputs):\n",
        "    previous_char = example[0]\n",
        "    for j, char in enumerate(example[1:]):\n",
        "      if (previous_char == vocab[0]) and (char == vocab[1]):  # 1 = space, 0 = no space\n",
        "        outputs[i, j+1] = 1.\n",
        "      previous_char = char\n",
        "  concatenated_inputs = np.array([''.join(row) for row in inputs])\n",
        "  return concatenated_inputs, outputs\n",
        "\n",
        "def dataset3(vocab_size=2, dataset_size=10000, seq_len=10, insert_space_every=3, full_vocab=FULL_VOCAB):\n",
        "  \"\"\"\n",
        "  Inserts a space after a certain number of characters, no matter what the characters\n",
        "  \"\"\"\n",
        "  assert vocab_size > 1\n",
        "  vocab = list(full_vocab[:vocab_size])\n",
        "  inputs = np.random.choice(vocab, size=(dataset_size, seq_len))\n",
        "  outputs = np.zeros_like(inputs, dtype=np.float32)\n",
        "  outputs[:, np.arange(insert_space_every-1, outputs.shape[1], insert_space_every)] = 1.\n",
        "  concatenated_inputs = np.array([''.join(row) for row in inputs])\n",
        "  return concatenated_inputs, outputs"
      ]
    },
    {
      "cell_type": "code",
      "execution_count": null,
      "metadata": {
        "colab": {
          "base_uri": "https://localhost:8080/"
        },
        "id": "eS-yF0l-kiKQ",
        "outputId": "3ef7d321-d372-4e0d-90e9-be3d3852a70b"
      },
      "outputs": [
        {
          "data": {
            "text/plain": [
              "(TensorSpec(shape=(), dtype=tf.string, name=None),\n",
              " TensorSpec(shape=(10,), dtype=tf.float32, name=None))"
            ]
          },
          "execution_count": 163,
          "metadata": {},
          "output_type": "execute_result"
        }
      ],
      "source": [
        "DATASET_FN = dataset2\n",
        "\n",
        "train_ds = tf.data.Dataset.from_tensor_slices(DATASET_FN(vocab_size=2, seq_len=SEQ_LEN))\n",
        "valid_ds = tf.data.Dataset.from_tensor_slices(DATASET_FN(vocab_size=2, seq_len=SEQ_LEN))\n",
        "test_ds = tf.data.Dataset.from_tensor_slices(DATASET_FN(vocab_size=2, seq_len=SEQ_LEN))\n",
        "train_ds.element_spec"
      ]
    },
    {
      "cell_type": "code",
      "execution_count": null,
      "metadata": {
        "id": "ohw3pdnhxmFe"
      },
      "outputs": [],
      "source": [
        "train_ds = train_ds.shuffle(1000).batch(128)\n",
        "valid_ds = valid_ds.batch(128)\n",
        "test_ds = test_ds.batch(128)"
      ]
    },
    {
      "cell_type": "code",
      "execution_count": null,
      "metadata": {
        "colab": {
          "base_uri": "https://localhost:8080/"
        },
        "id": "0pz1wrufzn43",
        "outputId": "65f2fe59-af52-4701-f6fa-9911cbfca75e"
      },
      "outputs": [
        {
          "name": "stdout",
          "output_type": "stream",
          "text": [
            "tf.Tensor(\n",
            "[b'bbbaabbbab' b'abbaaaaaba' b'ababbaaaaa' b'abaaaabaaa' b'bbabaabaab'\n",
            " b'baaaabbbba' b'bbbaabbbaa' b'aaaabbbbab' b'bbbbbaabba' b'baabbbbbab'\n",
            " b'babbabaaaa' b'aaabaaaaaa' b'babbaabbba' b'bbabbababa' b'aaaaaabbbb'\n",
            " b'aabbaaabaa' b'abbabababa' b'aabaabbbba' b'baabbababb' b'abbabbbbba'\n",
            " b'bbaabbbbba' b'baabbabbab' b'bababaaaba' b'aababbbaba' b'bbababbbba'\n",
            " b'abbabbaaba' b'bbabbabaaa' b'aabaaaabba' b'bababbabab' b'abaabbabab'\n",
            " b'bababbbabb' b'bbbbaababb' b'abbaaaaabb' b'aaabababaa' b'bbabaababb'\n",
            " b'ababbabbbb' b'bbbabbaaba' b'aaaabaaabb' b'abaaaaaaba' b'ababababaa'\n",
            " b'aaabaabaab' b'abbabbbaba' b'abbbabbbba' b'babaaababa' b'aabbbbbabb'\n",
            " b'abbabbbbbb' b'aababaaabb' b'babbabaaab' b'abaabbaaaa' b'babababaab'\n",
            " b'aaabaaabba' b'bbaaaabaaa' b'bbaaabaabb' b'abbaabbbab' b'bbbbaabaaa'\n",
            " b'babbaabbbb' b'ababbaabba' b'bbaabbaaaa' b'babbabbbab' b'ababaababa'\n",
            " b'babbbaabab' b'babbbaaaba' b'babaabaaab' b'aabaaabbba' b'bbbbaabaab'\n",
            " b'aabbbbaaaa' b'aabbbaaabb' b'aaababaabb' b'aabaabaabb' b'abbbbbabaa'\n",
            " b'aaabaababb' b'babaabaabb' b'aaaaabbaba' b'bbaaaaabbb' b'babbbaabaa'\n",
            " b'aaaaabbaaa' b'aaababbaba' b'abbaabaaba' b'babaabbabb' b'aabaaabbaa'\n",
            " b'aaabbbabba' b'bbbbaabbab' b'bbaabaabaa' b'aaaaababba' b'baabaabbaa'\n",
            " b'bbbbabbbbb' b'abbbbbbaab' b'aaabababab' b'baabaabbaa' b'babababbab'\n",
            " b'bbababbbab' b'aabbbbaaba' b'abaaaabaaa' b'baabaabbba' b'ababbbbabb'\n",
            " b'abbbabbaab' b'bbabbaaaab' b'bababbaaab' b'bbbbbbbaab' b'bbbbabbaab'\n",
            " b'baabbababa' b'aabababaaa' b'babbbbaabb' b'abbabbaaba' b'bbbaaabbaa'\n",
            " b'bbbbbbaaba' b'abababbbaa' b'abbabbaabb' b'abbbbaaaaa' b'bbbaaaaaab'\n",
            " b'bbaabaabba' b'aaabaabbbb' b'bbabbbbaba' b'bbbbbbabba' b'bababbaaba'\n",
            " b'baaaabbbba' b'abbaababbb' b'babbbaabbb' b'aabbbababa' b'babbabbaaa'\n",
            " b'babababbba' b'baabababbb' b'abbabbabba' b'aababaabab' b'aabaabbbab'\n",
            " b'ababaabbab' b'baaabbbbaa' b'aaaaaabaab'], shape=(128,), dtype=string)\n",
            "[[0 0 0 0 0 1 0 0 0 1]\n",
            " [0 1 0 0 0 0 0 0 1 0]\n",
            " [0 1 0 1 0 0 0 0 0 0]\n",
            " [0 1 0 0 0 0 1 0 0 0]\n",
            " [0 0 0 1 0 0 1 0 0 1]\n",
            " [0 0 0 0 0 1 0 0 0 0]\n",
            " [0 0 0 0 0 1 0 0 0 0]\n",
            " [0 0 0 0 1 0 0 0 0 1]\n",
            " [0 0 0 0 0 0 0 1 0 0]\n",
            " [0 0 0 1 0 0 0 0 0 1]\n",
            " [0 0 1 0 0 1 0 0 0 0]\n",
            " [0 0 0 1 0 0 0 0 0 0]\n",
            " [0 0 1 0 0 0 1 0 0 0]\n",
            " [0 0 0 1 0 0 1 0 1 0]\n",
            " [0 0 0 0 0 0 1 0 0 0]\n",
            " [0 0 1 0 0 0 0 1 0 0]\n",
            " [0 1 0 0 1 0 1 0 1 0]\n",
            " [0 0 1 0 0 1 0 0 0 0]\n",
            " [0 0 0 1 0 0 1 0 1 0]\n",
            " [0 1 0 0 1 0 0 0 0 0]\n",
            " [0 0 0 0 1 0 0 0 0 0]\n",
            " [0 0 0 1 0 0 1 0 0 1]\n",
            " [0 0 1 0 1 0 0 0 1 0]\n",
            " [0 0 1 0 1 0 0 0 1 0]\n",
            " [0 0 0 1 0 1 0 0 0 0]\n",
            " [0 1 0 0 1 0 0 0 1 0]\n",
            " [0 0 0 1 0 0 1 0 0 0]\n",
            " [0 0 1 0 0 0 0 1 0 0]\n",
            " [0 0 1 0 1 0 0 1 0 1]\n",
            " [0 1 0 0 1 0 0 1 0 1]\n",
            " [0 0 1 0 1 0 0 0 1 0]\n",
            " [0 0 0 0 0 0 1 0 1 0]\n",
            " [0 1 0 0 0 0 0 0 1 0]\n",
            " [0 0 0 1 0 1 0 1 0 0]\n",
            " [0 0 0 1 0 0 1 0 1 0]\n",
            " [0 1 0 1 0 0 1 0 0 0]\n",
            " [0 0 0 0 1 0 0 0 1 0]\n",
            " [0 0 0 0 1 0 0 0 1 0]\n",
            " [0 1 0 0 0 0 0 0 1 0]\n",
            " [0 1 0 1 0 1 0 1 0 0]\n",
            " [0 0 0 1 0 0 1 0 0 1]\n",
            " [0 1 0 0 1 0 0 0 1 0]\n",
            " [0 1 0 0 0 1 0 0 0 0]\n",
            " [0 0 1 0 0 0 1 0 1 0]\n",
            " [0 0 1 0 0 0 0 0 1 0]\n",
            " [0 1 0 0 1 0 0 0 0 0]\n",
            " [0 0 1 0 1 0 0 0 1 0]\n",
            " [0 0 1 0 0 1 0 0 0 1]\n",
            " [0 1 0 0 1 0 0 0 0 0]\n",
            " [0 0 1 0 1 0 1 0 0 1]\n",
            " [0 0 0 1 0 0 0 1 0 0]\n",
            " [0 0 0 0 0 0 1 0 0 0]\n",
            " [0 0 0 0 0 1 0 0 1 0]\n",
            " [0 1 0 0 0 1 0 0 0 1]\n",
            " [0 0 0 0 0 0 1 0 0 0]\n",
            " [0 0 1 0 0 0 1 0 0 0]\n",
            " [0 1 0 1 0 0 0 1 0 0]\n",
            " [0 0 0 0 1 0 0 0 0 0]\n",
            " [0 0 1 0 0 1 0 0 0 1]\n",
            " [0 1 0 1 0 0 1 0 1 0]\n",
            " [0 0 1 0 0 0 0 1 0 1]\n",
            " [0 0 1 0 0 0 0 0 1 0]\n",
            " [0 0 1 0 0 1 0 0 0 1]\n",
            " [0 0 1 0 0 0 1 0 0 0]\n",
            " [0 0 0 0 0 0 1 0 0 1]\n",
            " [0 0 1 0 0 0 0 0 0 0]\n",
            " [0 0 1 0 0 0 0 0 1 0]\n",
            " [0 0 0 1 0 1 0 0 1 0]\n",
            " [0 0 1 0 0 1 0 0 1 0]\n",
            " [0 1 0 0 0 0 0 1 0 0]\n",
            " [0 0 0 1 0 0 1 0 1 0]\n",
            " [0 0 1 0 0 1 0 0 1 0]\n",
            " [0 0 0 0 0 1 0 0 1 0]\n",
            " [0 0 0 0 0 0 0 1 0 0]\n",
            " [0 0 1 0 0 0 0 1 0 0]\n",
            " [0 0 0 0 0 1 0 0 0 0]\n",
            " [0 0 0 1 0 1 0 0 1 0]\n",
            " [0 1 0 0 0 1 0 0 1 0]\n",
            " [0 0 1 0 0 1 0 0 1 0]\n",
            " [0 0 1 0 0 0 1 0 0 0]\n",
            " [0 0 0 1 0 0 0 1 0 0]\n",
            " [0 0 0 0 0 0 1 0 0 1]\n",
            " [0 0 0 0 1 0 0 1 0 0]\n",
            " [0 0 0 0 0 1 0 1 0 0]\n",
            " [0 0 0 1 0 0 1 0 0 0]\n",
            " [0 0 0 0 0 1 0 0 0 0]\n",
            " [0 1 0 0 0 0 0 0 0 1]\n",
            " [0 0 0 1 0 1 0 1 0 1]\n",
            " [0 0 0 1 0 0 1 0 0 0]\n",
            " [0 0 1 0 1 0 1 0 0 1]\n",
            " [0 0 0 1 0 1 0 0 0 1]\n",
            " [0 0 1 0 0 0 0 0 1 0]\n",
            " [0 1 0 0 0 0 1 0 0 0]\n",
            " [0 0 0 1 0 0 1 0 0 0]\n",
            " [0 1 0 1 0 0 0 0 1 0]\n",
            " [0 1 0 0 0 1 0 0 0 1]\n",
            " [0 0 0 1 0 0 0 0 0 1]\n",
            " [0 0 1 0 1 0 0 0 0 1]\n",
            " [0 0 0 0 0 0 0 0 0 1]\n",
            " [0 0 0 0 0 1 0 0 0 1]\n",
            " [0 0 0 1 0 0 1 0 1 0]\n",
            " [0 0 1 0 1 0 1 0 0 0]\n",
            " [0 0 1 0 0 0 0 0 1 0]\n",
            " [0 1 0 0 1 0 0 0 1 0]\n",
            " [0 0 0 0 0 0 1 0 0 0]\n",
            " [0 0 0 0 0 0 0 0 1 0]\n",
            " [0 1 0 1 0 1 0 0 0 0]\n",
            " [0 1 0 0 1 0 0 0 1 0]\n",
            " [0 1 0 0 0 0 0 0 0 0]\n",
            " [0 0 0 0 0 0 0 0 0 1]\n",
            " [0 0 0 0 1 0 0 1 0 0]\n",
            " [0 0 0 1 0 0 1 0 0 0]\n",
            " [0 0 0 1 0 0 0 0 1 0]\n",
            " [0 0 0 0 0 0 0 1 0 0]\n",
            " [0 0 1 0 1 0 0 0 1 0]\n",
            " [0 0 0 0 0 1 0 0 0 0]\n",
            " [0 1 0 0 0 1 0 1 0 0]\n",
            " [0 0 1 0 0 0 0 1 0 0]\n",
            " [0 0 1 0 0 0 1 0 1 0]\n",
            " [0 0 1 0 0 1 0 0 0 0]\n",
            " [0 0 1 0 1 0 1 0 0 0]\n",
            " [0 0 0 1 0 1 0 1 0 0]\n",
            " [0 1 0 0 1 0 0 1 0 0]\n",
            " [0 0 1 0 1 0 0 1 0 1]\n",
            " [0 0 1 0 0 1 0 0 0 1]\n",
            " [0 1 0 1 0 0 1 0 0 1]\n",
            " [0 0 0 0 1 0 0 0 0 0]\n",
            " [0 0 0 0 0 0 1 0 0 1]]\n"
          ]
        }
      ],
      "source": [
        "for test_inputs, test_outputs in train_ds.take(1):\n",
        "  pass\n",
        "print(test_inputs)\n",
        "tf.print(test_outputs,summarize=-1)"
      ]
    },
    {
      "cell_type": "markdown",
      "metadata": {
        "id": "OsZ0lQIN0W4s"
      },
      "source": [
        "# Build layers"
      ]
    },
    {
      "cell_type": "code",
      "execution_count": null,
      "metadata": {
        "id": "Df--lFrGkjxd"
      },
      "outputs": [],
      "source": [
        "textvectorization = TextVectorization(split='character')\n",
        "textvectorization.adapt(train_ds.map(lambda x, y: x))"
      ]
    },
    {
      "cell_type": "code",
      "execution_count": null,
      "metadata": {
        "colab": {
          "base_uri": "https://localhost:8080/"
        },
        "id": "Fb7_5T0ht2Xs",
        "outputId": "ee600729-0d11-42f4-e567-547da5b45710"
      },
      "outputs": [
        {
          "data": {
            "text/plain": [
              "['', '[UNK]', 'b', 'a']"
            ]
          },
          "execution_count": 167,
          "metadata": {},
          "output_type": "execute_result"
        }
      ],
      "source": [
        "textvectorization.get_vocabulary()"
      ]
    },
    {
      "cell_type": "code",
      "execution_count": null,
      "metadata": {
        "colab": {
          "base_uri": "https://localhost:8080/"
        },
        "id": "RnymjZzb0llK",
        "outputId": "e8ddfccd-95be-4295-ebda-3e7cd859445e"
      },
      "outputs": [
        {
          "data": {
            "text/plain": [
              "<tf.Tensor: shape=(128, 10), dtype=int64, numpy=\n",
              "array([[2, 2, 2, ..., 2, 3, 2],\n",
              "       [3, 2, 2, ..., 3, 2, 3],\n",
              "       [3, 2, 3, ..., 3, 3, 3],\n",
              "       ...,\n",
              "       [3, 2, 3, ..., 2, 3, 2],\n",
              "       [2, 3, 3, ..., 2, 3, 3],\n",
              "       [3, 3, 3, ..., 3, 3, 2]])>"
            ]
          },
          "execution_count": 168,
          "metadata": {},
          "output_type": "execute_result"
        }
      ],
      "source": [
        "# Test\n",
        "\n",
        "tv_out = textvectorization(test_inputs)\n",
        "tv_out"
      ]
    },
    {
      "cell_type": "code",
      "execution_count": null,
      "metadata": {
        "id": "KFT2Y9Ddt4ZP"
      },
      "outputs": [],
      "source": [
        "def positional_encodings(seq_len, d_model):\n",
        "    max_wavelength = 10000.\n",
        "\n",
        "    pos = np.arange(seq_len)\n",
        "    inx = np.arange(d_model)\n",
        "\n",
        "    I, P = np.meshgrid(inx, pos)\n",
        "    pe_even = np.sin(P / max_wavelength**(I/d_model))\n",
        "    pe_odd = np.cos(P / max_wavelength**(I/d_model))\n",
        "        \n",
        "    pe = np.zeros((seq_len, d_model))\n",
        "    pe[:, ::2] = pe_even[:, ::2]\n",
        "    pe[:, 1::2] = pe_odd[:, ::2]\n",
        "    return tf.constant(pe, dtype=tf.float32)"
      ]
    },
    {
      "cell_type": "code",
      "execution_count": null,
      "metadata": {
        "id": "oI8sXtDNuG_q"
      },
      "outputs": [],
      "source": [
        "D_MODEL = 32\n",
        "MAX_TOKENS = textvectorization.vocabulary_size()  # includes padding and UNK tokens"
      ]
    },
    {
      "cell_type": "code",
      "execution_count": null,
      "metadata": {
        "id": "kRdsdnURuUAf"
      },
      "outputs": [],
      "source": [
        "class InputEmbeddings(Layer):\n",
        "    \n",
        "    def __init__(self, d_model, pos_encodings, max_tokens, name='input_embeddings', **kwargs):\n",
        "        super().__init__(name=name, **kwargs)\n",
        "        self.pos_encodings = pos_encodings\n",
        "        self.embedding = Embedding(max_tokens, d_model, mask_zero=True)\n",
        "        \n",
        "    def compute_mask(self, inputs, mask=None):\n",
        "        return self.embedding.compute_mask(inputs)\n",
        "        \n",
        "    def call(self, inputs):\n",
        "        n = tf.shape(inputs)[-1]\n",
        "        pos_encodings = self.pos_encodings[:n, :]\n",
        "        h = self.embedding(inputs)\n",
        "        return h + self.pos_encodings"
      ]
    },
    {
      "cell_type": "code",
      "execution_count": null,
      "metadata": {
        "colab": {
          "base_uri": "https://localhost:8080/"
        },
        "id": "ZObgqA5IzkAw",
        "outputId": "21a83f3e-f501-4b71-8ecb-b4fe08bada59"
      },
      "outputs": [
        {
          "data": {
            "text/plain": [
              "TensorShape([128, 10, 32])"
            ]
          },
          "execution_count": 172,
          "metadata": {},
          "output_type": "execute_result"
        }
      ],
      "source": [
        "# Test\n",
        "\n",
        "input_embeddings = InputEmbeddings(D_MODEL, positional_encodings(SEQ_LEN, D_MODEL), MAX_TOKENS)\n",
        "emb_out = input_embeddings(tv_out)\n",
        "emb_out.shape"
      ]
    },
    {
      "cell_type": "code",
      "execution_count": null,
      "metadata": {
        "id": "naL4m-nDuYoq"
      },
      "outputs": [],
      "source": [
        "def get_attention_mask(mask=None):\n",
        "    if mask is None:\n",
        "        return None\n",
        "    mask1 = mask[:, :, None]\n",
        "    mask2 = mask[:, None, :]\n",
        "    return mask1 & mask2"
      ]
    },
    {
      "cell_type": "code",
      "execution_count": null,
      "metadata": {
        "id": "t3SNe8Mhuj11"
      },
      "outputs": [],
      "source": [
        "class EncoderBlock(Layer):\n",
        "    \n",
        "    def __init__(self, num_heads, key_dim, d_model, ff_dim, name='encoder_block', **kwargs):\n",
        "        super().__init__(name=name, **kwargs)\n",
        "        self.supports_masking = True  # This will pass on any incoming mask\n",
        "        self.num_heads = num_heads\n",
        "        self.key_dim = key_dim\n",
        "        self.d_model = d_model\n",
        "        self.ff_dim = ff_dim\n",
        "        self.multihead_attention = MultiHeadAttention(num_heads, key_dim)\n",
        "        self.ff = Sequential([\n",
        "            Dense(ff_dim, activation='relu'),\n",
        "            Dense(d_model)\n",
        "        ])\n",
        "        self.layernorm1 = LayerNormalization()\n",
        "        self.layernorm2 = LayerNormalization()\n",
        "        \n",
        "    def call(self, inputs, mask=None):\n",
        "        attention_mask = get_attention_mask(mask)\n",
        "        h = self.multihead_attention(inputs, inputs, attention_mask=attention_mask)\n",
        "        h = self.layernorm1(inputs + h)\n",
        "        \n",
        "        h_ff = self.ff(h)\n",
        "        return self.layernorm2(h + h_ff)"
      ]
    },
    {
      "cell_type": "code",
      "execution_count": null,
      "metadata": {
        "colab": {
          "base_uri": "https://localhost:8080/"
        },
        "id": "s0Iuo1tT05L_",
        "outputId": "480eedf3-384d-4f03-ede0-ff5b62394afb"
      },
      "outputs": [
        {
          "data": {
            "text/plain": [
              "TensorShape([128, 10, 32])"
            ]
          },
          "execution_count": 175,
          "metadata": {},
          "output_type": "execute_result"
        }
      ],
      "source": [
        "# Test\n",
        "\n",
        "encoder_block = EncoderBlock(num_heads=2, key_dim=16, d_model=D_MODEL, ff_dim=32)\n",
        "enc_block_out = encoder_block(emb_out)\n",
        "enc_block_out.shape"
      ]
    },
    {
      "cell_type": "code",
      "execution_count": null,
      "metadata": {
        "colab": {
          "base_uri": "https://localhost:8080/"
        },
        "id": "Nbhc4Kgu1Ft1",
        "outputId": "ea0b7850-c614-4cb8-b90d-f23be0684c1c"
      },
      "outputs": [
        {
          "data": {
            "text/plain": [
              "<tf.Tensor: shape=(128, 10), dtype=bool, numpy=\n",
              "array([[ True,  True,  True, ...,  True,  True,  True],\n",
              "       [ True,  True,  True, ...,  True,  True,  True],\n",
              "       [ True,  True,  True, ...,  True,  True,  True],\n",
              "       ...,\n",
              "       [ True,  True,  True, ...,  True,  True,  True],\n",
              "       [ True,  True,  True, ...,  True,  True,  True],\n",
              "       [ True,  True,  True, ...,  True,  True,  True]])>"
            ]
          },
          "execution_count": 176,
          "metadata": {},
          "output_type": "execute_result"
        }
      ],
      "source": [
        "enc_block_out._keras_mask"
      ]
    },
    {
      "cell_type": "code",
      "execution_count": null,
      "metadata": {
        "id": "tLnkz0aOunDr"
      },
      "outputs": [],
      "source": [
        "class ClassifierHead(Layer):\n",
        "\n",
        "  def __init__(self, d_model, dropout_rate, units, name='classifier_head', **kwargs):\n",
        "    super().__init__(name=name, **kwargs)\n",
        "    self.supports_masking = True\n",
        "    self.d_model = d_model\n",
        "    self.dropout_rate = dropout_rate\n",
        "    self.units = units\n",
        "    self.dense1 = Dense(units, activation='relu')\n",
        "    self.dropout = Dropout(dropout_rate)\n",
        "    self.dense2 = Dense(2, activation=\"softmax\")\n",
        "\n",
        "  def call(self, inputs):\n",
        "    batch_size = tf.shape(inputs)[0]\n",
        "    seq_len = tf.shape(inputs)[1]\n",
        "    h = self.dense1(inputs)\n",
        "    h = self.dropout(h)\n",
        "    h = self.dense2(h)\n",
        "    return h"
      ]
    },
    {
      "cell_type": "code",
      "execution_count": null,
      "metadata": {
        "colab": {
          "base_uri": "https://localhost:8080/"
        },
        "id": "zwNcg2ssu7xY",
        "outputId": "d7358918-dc32-4975-e2ba-6003925a18f2"
      },
      "outputs": [
        {
          "name": "stdout",
          "output_type": "stream",
          "text": [
            "tf.Tensor(\n",
            "[[ True  True  True ...  True  True  True]\n",
            " [ True  True  True ...  True  True  True]\n",
            " [ True  True  True ...  True  True  True]\n",
            " ...\n",
            " [ True  True  True ...  True  True  True]\n",
            " [ True  True  True ...  True  True  True]\n",
            " [ True  True  True ...  True  True  True]], shape=(128, 10), dtype=bool)\n"
          ]
        },
        {
          "data": {
            "text/plain": [
              "TensorShape([128, 10, 2])"
            ]
          },
          "execution_count": 181,
          "metadata": {},
          "output_type": "execute_result"
        }
      ],
      "source": [
        "# Test\n",
        "\n",
        "classifier_head = ClassifierHead(D_MODEL, dropout_rate=0.1, units=32)\n",
        "head_out = classifier_head(enc_block_out)\n",
        "print(head_out._keras_mask)\n",
        "head_out.shape"
      ]
    },
    {
      "cell_type": "markdown",
      "metadata": {
        "id": "rkJBE8-D6CUP"
      },
      "source": [
        "# Transformer Model"
      ]
    },
    {
      "cell_type": "code",
      "execution_count": null,
      "metadata": {
        "id": "yyGB_3NM3z1c"
      },
      "outputs": [],
      "source": [
        "class Transformer(Model):\n",
        "\n",
        "  def __init__(self, d_model, seq_len, max_tokens, num_heads, key_dim, ff_dim, dropout_rate, units,\n",
        "               textvectorization, name='transformer', **kwargs):\n",
        "    super().__init__(name=name, **kwargs)\n",
        "    self.d_model = d_model\n",
        "    self.seq_len = seq_len\n",
        "    self.max_tokens = max_tokens\n",
        "    self.num_heads = num_heads\n",
        "    self.key_dim = key_dim\n",
        "    self.ff_dim = ff_dim\n",
        "    self.dropout_rate = dropout_rate\n",
        "    self.units = units\n",
        "    self.textvectorization = textvectorization\n",
        "    self.input_embeddings = InputEmbeddings(d_model, positional_encodings(seq_len, d_model),\n",
        "                                            max_tokens)\n",
        "    self.encoder_block = EncoderBlock(num_heads=num_heads, key_dim=key_dim, d_model=d_model, ff_dim=ff_dim)\n",
        "    self.classifier_head = ClassifierHead(d_model, dropout_rate=dropout_rate, units=units)\n",
        "\n",
        "  def train_step(self, data):\n",
        "    inputs, y_true = data\n",
        "    with tf.GradientTape() as tape:\n",
        "      y_pred = self(inputs)\n",
        "      loss = self.compiled_loss(y_true, y_pred, regularization_losses=self.losses)\n",
        "    grads = tape.gradient(loss, self.trainable_variables)\n",
        "    self.optimizer.apply_gradients(zip(grads, self.trainable_variables))\n",
        "    self.compiled_metrics.update_state(y_true, y_pred)\n",
        "    return {m.name: m.result() for m in self.metrics} \n",
        "\n",
        "  def test_step(self, data):\n",
        "    inputs, y_true = data\n",
        "    y_pred = self(inputs)\n",
        "    loss = self.compiled_loss(y_true, y_pred, regularization_losses=self.losses)\n",
        "    self.compiled_metrics.update_state(y_true, y_pred)\n",
        "    return {m.name: m.result() for m in self.metrics} \n",
        "\n",
        "  def call(self, inputs):\n",
        "    h = self.textvectorization(inputs)\n",
        "    h = self.input_embeddings(h)\n",
        "    h = self.encoder_block(h)\n",
        "    h = self.classifier_head(h)\n",
        "    return h"
      ]
    },
    {
      "cell_type": "code",
      "execution_count": null,
      "metadata": {
        "colab": {
          "base_uri": "https://localhost:8080/"
        },
        "id": "WCejkQS_u-M8",
        "outputId": "152295be-889f-4471-c2c6-db36af016eda"
      },
      "outputs": [
        {
          "name": "stdout",
          "output_type": "stream",
          "text": [
            "Model: \"transformer\"\n",
            "_________________________________________________________________\n",
            " Layer (type)                Output Shape              Param #   \n",
            "=================================================================\n",
            " text_vectorization_5 (TextV  multiple                 0         \n",
            " ectorization)                                                   \n",
            "                                                                 \n",
            " input_embeddings (InputEmbe  multiple                 128       \n",
            " ddings)                                                         \n",
            "                                                                 \n",
            " encoder_block (EncoderBlock  multiple                 6464      \n",
            " )                                                               \n",
            "                                                                 \n",
            " classifier_head (Classifier  multiple                 702       \n",
            " Head)                                                           \n",
            "                                                                 \n",
            "=================================================================\n",
            "Total params: 7,294\n",
            "Trainable params: 7,294\n",
            "Non-trainable params: 0\n",
            "_________________________________________________________________\n"
          ]
        }
      ],
      "source": [
        "NUM_HEADS = 2\n",
        "KEY_DIM = 16\n",
        "FF_DIM = 32\n",
        "DROPOUT_RATE = 0.1\n",
        "UNITS = 20\n",
        "\n",
        "# transformer = Sequential([\n",
        "#     textvectorization,\n",
        "#     InputEmbeddings(D_MODEL, positional_encodings(SEQ_LEN, D_MODEL), MAX_TOKENS, input_shape=(SEQ_LEN,)),\n",
        "#     EncoderBlock(num_heads=2, key_dim=16, d_model=D_MODEL, ff_dim=32),\n",
        "#     ClassifierHead(D_MODEL, dropout_rate=0.1, units=20)\n",
        "# ])\n",
        "transformer = Transformer(D_MODEL, SEQ_LEN, MAX_TOKENS, NUM_HEADS, KEY_DIM, FF_DIM,\n",
        "                          DROPOUT_RATE, UNITS, textvectorization)\n",
        "_ = transformer(test_inputs)\n",
        "transformer.summary()"
      ]
    },
    {
      "cell_type": "code",
      "execution_count": null,
      "metadata": {
        "colab": {
          "base_uri": "https://localhost:8080/"
        },
        "id": "8i1w9P6w1jb9",
        "outputId": "6fc6258d-a57f-4355-daa9-101780ece4b3"
      },
      "outputs": [
        {
          "data": {
            "text/plain": [
              "TensorShape([128, 10, 2])"
            ]
          },
          "execution_count": 184,
          "metadata": {},
          "output_type": "execute_result"
        }
      ],
      "source": [
        "# Test\n",
        "\n",
        "transformer_out = transformer(test_inputs)\n",
        "transformer_out.shape"
      ]
    },
    {
      "cell_type": "code",
      "execution_count": null,
      "metadata": {
        "colab": {
          "base_uri": "https://localhost:8080/"
        },
        "id": "RziHQfys1zPF",
        "outputId": "aa6a35dd-12db-49fa-d649-f0ce0a365db1"
      },
      "outputs": [
        {
          "data": {
            "text/plain": [
              "<tf.Tensor: shape=(128, 10), dtype=bool, numpy=\n",
              "array([[ True,  True,  True, ...,  True,  True,  True],\n",
              "       [ True,  True,  True, ...,  True,  True,  True],\n",
              "       [ True,  True,  True, ...,  True,  True,  True],\n",
              "       ...,\n",
              "       [ True,  True,  True, ...,  True,  True,  True],\n",
              "       [ True,  True,  True, ...,  True,  True,  True],\n",
              "       [ True,  True,  True, ...,  True,  True,  True]])>"
            ]
          },
          "execution_count": 185,
          "metadata": {},
          "output_type": "execute_result"
        }
      ],
      "source": [
        "transformer_out._keras_mask"
      ]
    },
    {
      "cell_type": "code",
      "execution_count": null,
      "metadata": {
        "id": "U1MdOQR3voyC"
      },
      "outputs": [],
      "source": [
        "def masked_binary_crossentropy(y_true, y_pred):\n",
        "  \"\"\"\n",
        "  y_true: shape (batch_size, seq_len). 1. = no space, 2. = space\n",
        "  y_pred: shape (batch_size, seq_len, 1). Logits\n",
        "  \"\"\"\n",
        "  labels = y_true  # 0 = no space, 1 = space\n",
        "\n",
        "  # Deal with Keras 'feature' that squeezes out the last dimension silently (WTF)\n",
        "  # if tf.shape(y_pred)[-1] == 1:  \n",
        "  #   logits = tf.squeeze(y_pred, axis=-1)  # (batch_size, seq_len)\n",
        "  # else:\n",
        "  logits = y_pred\n",
        "  probs = tf.nn.sigmoid(logits)\n",
        "  bce = - labels * tf.math.log(probs) - ((1 - labels) * tf.math.log(1 - probs))\n",
        "\n",
        "  return tf.reduce_mean(bce)"
      ]
    },
    {
      "cell_type": "code",
      "execution_count": null,
      "metadata": {
        "colab": {
          "base_uri": "https://localhost:8080/",
          "height": 348
        },
        "id": "OQllI6hc2TXe",
        "outputId": "ec73a4ee-6a4f-4cd4-cb3d-08b19d249c07"
      },
      "outputs": [
        {
          "ename": "InvalidArgumentError",
          "evalue": "ignored",
          "output_type": "error",
          "traceback": [
            "\u001b[0;31m---------------------------------------------------------------------------\u001b[0m",
            "\u001b[0;31mInvalidArgumentError\u001b[0m                      Traceback (most recent call last)",
            "\u001b[0;32m<ipython-input-187-581fa21209a1>\u001b[0m in \u001b[0;36m<module>\u001b[0;34m\u001b[0m\n\u001b[1;32m      1\u001b[0m \u001b[0;31m# Test\u001b[0m\u001b[0;34m\u001b[0m\u001b[0;34m\u001b[0m\u001b[0;34m\u001b[0m\u001b[0m\n\u001b[1;32m      2\u001b[0m \u001b[0;34m\u001b[0m\u001b[0m\n\u001b[0;32m----> 3\u001b[0;31m \u001b[0mmasked_binary_crossentropy\u001b[0m\u001b[0;34m(\u001b[0m\u001b[0mtest_outputs\u001b[0m\u001b[0;34m,\u001b[0m \u001b[0mtransformer_out\u001b[0m\u001b[0;34m)\u001b[0m\u001b[0;34m\u001b[0m\u001b[0;34m\u001b[0m\u001b[0m\n\u001b[0m",
            "\u001b[0;32m<ipython-input-186-883497d7716d>\u001b[0m in \u001b[0;36mmasked_binary_crossentropy\u001b[0;34m(y_true, y_pred)\u001b[0m\n\u001b[1;32m     12\u001b[0m   \u001b[0mlogits\u001b[0m \u001b[0;34m=\u001b[0m \u001b[0my_pred\u001b[0m\u001b[0;34m\u001b[0m\u001b[0;34m\u001b[0m\u001b[0m\n\u001b[1;32m     13\u001b[0m   \u001b[0mprobs\u001b[0m \u001b[0;34m=\u001b[0m \u001b[0mtf\u001b[0m\u001b[0;34m.\u001b[0m\u001b[0mnn\u001b[0m\u001b[0;34m.\u001b[0m\u001b[0msigmoid\u001b[0m\u001b[0;34m(\u001b[0m\u001b[0mlogits\u001b[0m\u001b[0;34m)\u001b[0m\u001b[0;34m\u001b[0m\u001b[0;34m\u001b[0m\u001b[0m\n\u001b[0;32m---> 14\u001b[0;31m   \u001b[0mbce\u001b[0m \u001b[0;34m=\u001b[0m \u001b[0;34m-\u001b[0m \u001b[0mlabels\u001b[0m \u001b[0;34m*\u001b[0m \u001b[0mtf\u001b[0m\u001b[0;34m.\u001b[0m\u001b[0mmath\u001b[0m\u001b[0;34m.\u001b[0m\u001b[0mlog\u001b[0m\u001b[0;34m(\u001b[0m\u001b[0mprobs\u001b[0m\u001b[0;34m)\u001b[0m \u001b[0;34m-\u001b[0m \u001b[0;34m(\u001b[0m\u001b[0;34m(\u001b[0m\u001b[0;36m1\u001b[0m \u001b[0;34m-\u001b[0m \u001b[0mlabels\u001b[0m\u001b[0;34m)\u001b[0m \u001b[0;34m*\u001b[0m \u001b[0mtf\u001b[0m\u001b[0;34m.\u001b[0m\u001b[0mmath\u001b[0m\u001b[0;34m.\u001b[0m\u001b[0mlog\u001b[0m\u001b[0;34m(\u001b[0m\u001b[0;36m1\u001b[0m \u001b[0;34m-\u001b[0m \u001b[0mprobs\u001b[0m\u001b[0;34m)\u001b[0m\u001b[0;34m)\u001b[0m\u001b[0;34m\u001b[0m\u001b[0;34m\u001b[0m\u001b[0m\n\u001b[0m\u001b[1;32m     15\u001b[0m \u001b[0;34m\u001b[0m\u001b[0m\n\u001b[1;32m     16\u001b[0m   \u001b[0;32mreturn\u001b[0m \u001b[0mtf\u001b[0m\u001b[0;34m.\u001b[0m\u001b[0mreduce_mean\u001b[0m\u001b[0;34m(\u001b[0m\u001b[0mbce\u001b[0m\u001b[0;34m)\u001b[0m\u001b[0;34m\u001b[0m\u001b[0;34m\u001b[0m\u001b[0m\n",
            "\u001b[0;32m/usr/local/lib/python3.8/dist-packages/tensorflow/python/util/traceback_utils.py\u001b[0m in \u001b[0;36merror_handler\u001b[0;34m(*args, **kwargs)\u001b[0m\n\u001b[1;32m    151\u001b[0m     \u001b[0;32mexcept\u001b[0m \u001b[0mException\u001b[0m \u001b[0;32mas\u001b[0m \u001b[0me\u001b[0m\u001b[0;34m:\u001b[0m\u001b[0;34m\u001b[0m\u001b[0;34m\u001b[0m\u001b[0m\n\u001b[1;32m    152\u001b[0m       \u001b[0mfiltered_tb\u001b[0m \u001b[0;34m=\u001b[0m \u001b[0m_process_traceback_frames\u001b[0m\u001b[0;34m(\u001b[0m\u001b[0me\u001b[0m\u001b[0;34m.\u001b[0m\u001b[0m__traceback__\u001b[0m\u001b[0;34m)\u001b[0m\u001b[0;34m\u001b[0m\u001b[0;34m\u001b[0m\u001b[0m\n\u001b[0;32m--> 153\u001b[0;31m       \u001b[0;32mraise\u001b[0m \u001b[0me\u001b[0m\u001b[0;34m.\u001b[0m\u001b[0mwith_traceback\u001b[0m\u001b[0;34m(\u001b[0m\u001b[0mfiltered_tb\u001b[0m\u001b[0;34m)\u001b[0m \u001b[0;32mfrom\u001b[0m \u001b[0;32mNone\u001b[0m\u001b[0;34m\u001b[0m\u001b[0;34m\u001b[0m\u001b[0m\n\u001b[0m\u001b[1;32m    154\u001b[0m     \u001b[0;32mfinally\u001b[0m\u001b[0;34m:\u001b[0m\u001b[0;34m\u001b[0m\u001b[0;34m\u001b[0m\u001b[0m\n\u001b[1;32m    155\u001b[0m       \u001b[0;32mdel\u001b[0m \u001b[0mfiltered_tb\u001b[0m\u001b[0;34m\u001b[0m\u001b[0;34m\u001b[0m\u001b[0m\n",
            "\u001b[0;32m/usr/local/lib/python3.8/dist-packages/tensorflow/python/framework/ops.py\u001b[0m in \u001b[0;36mraise_from_not_ok_status\u001b[0;34m(e, name)\u001b[0m\n\u001b[1;32m   7213\u001b[0m \u001b[0;32mdef\u001b[0m \u001b[0mraise_from_not_ok_status\u001b[0m\u001b[0;34m(\u001b[0m\u001b[0me\u001b[0m\u001b[0;34m,\u001b[0m \u001b[0mname\u001b[0m\u001b[0;34m)\u001b[0m\u001b[0;34m:\u001b[0m\u001b[0;34m\u001b[0m\u001b[0;34m\u001b[0m\u001b[0m\n\u001b[1;32m   7214\u001b[0m   \u001b[0me\u001b[0m\u001b[0;34m.\u001b[0m\u001b[0mmessage\u001b[0m \u001b[0;34m+=\u001b[0m \u001b[0;34m(\u001b[0m\u001b[0;34m\" name: \"\u001b[0m \u001b[0;34m+\u001b[0m \u001b[0mname\u001b[0m \u001b[0;32mif\u001b[0m \u001b[0mname\u001b[0m \u001b[0;32mis\u001b[0m \u001b[0;32mnot\u001b[0m \u001b[0;32mNone\u001b[0m \u001b[0;32melse\u001b[0m \u001b[0;34m\"\"\u001b[0m\u001b[0;34m)\u001b[0m\u001b[0;34m\u001b[0m\u001b[0;34m\u001b[0m\u001b[0m\n\u001b[0;32m-> 7215\u001b[0;31m   \u001b[0;32mraise\u001b[0m \u001b[0mcore\u001b[0m\u001b[0;34m.\u001b[0m\u001b[0m_status_to_exception\u001b[0m\u001b[0;34m(\u001b[0m\u001b[0me\u001b[0m\u001b[0;34m)\u001b[0m \u001b[0;32mfrom\u001b[0m \u001b[0;32mNone\u001b[0m  \u001b[0;31m# pylint: disable=protected-access\u001b[0m\u001b[0;34m\u001b[0m\u001b[0;34m\u001b[0m\u001b[0m\n\u001b[0m\u001b[1;32m   7216\u001b[0m \u001b[0;34m\u001b[0m\u001b[0m\n\u001b[1;32m   7217\u001b[0m \u001b[0;34m\u001b[0m\u001b[0m\n",
            "\u001b[0;31mInvalidArgumentError\u001b[0m: {{function_node __wrapped__Mul_device_/job:localhost/replica:0/task:0/device:GPU:0}} required broadcastable shapes [Op:Mul]"
          ]
        }
      ],
      "source": [
        "# Test\n",
        "\n",
        "masked_binary_crossentropy(test_outputs, transformer_out)"
      ]
    },
    {
      "cell_type": "code",
      "execution_count": null,
      "metadata": {
        "colab": {
          "base_uri": "https://localhost:8080/"
        },
        "id": "TMrac9fG8DGi",
        "outputId": "5dac4a72-5172-4fd9-9422-6fca9c498484"
      },
      "outputs": [
        {
          "data": {
            "text/plain": [
              "<tf.Tensor: shape=(), dtype=float32, numpy=0.65841>"
            ]
          },
          "execution_count": 157,
          "metadata": {},
          "output_type": "execute_result"
        }
      ],
      "source": [
        "for test_inputs, test_outputs in train_ds.take(1):\n",
        "  y_pred = transformer(test_inputs)\n",
        "  loss = masked_binary_crossentropy(test_outputs, y_pred)\n",
        "\n",
        "loss"
      ]
    },
    {
      "cell_type": "code",
      "execution_count": null,
      "metadata": {
        "colab": {
          "base_uri": "https://localhost:8080/"
        },
        "id": "XWyMnokQxbq4",
        "outputId": "75eb6d6e-29f4-4dbf-a7a8-4d090d138bf3"
      },
      "outputs": [
        {
          "name": "stdout",
          "output_type": "stream",
          "text": [
            "Epoch 1/20\n",
            "79/79 [==============================] - 5s 17ms/step - loss: 0.6661 - val_loss: 0.4215\n",
            "Epoch 2/20\n",
            "79/79 [==============================] - 1s 13ms/step - loss: 0.3428 - val_loss: 0.2938\n",
            "Epoch 3/20\n",
            "79/79 [==============================] - 1s 12ms/step - loss: 0.2428 - val_loss: 0.1764\n",
            "Epoch 4/20\n",
            "79/79 [==============================] - 1s 19ms/step - loss: 0.0875 - val_loss: 0.0167\n",
            "Epoch 5/20\n",
            "79/79 [==============================] - 1s 17ms/step - loss: 0.0058 - val_loss: 0.0020\n",
            "Epoch 6/20\n",
            "79/79 [==============================] - 1s 13ms/step - loss: 0.0013 - val_loss: 8.6004e-04\n",
            "Epoch 7/20\n",
            "79/79 [==============================] - 1s 13ms/step - loss: 6.6517e-04 - val_loss: 5.0623e-04\n",
            "Epoch 8/20\n",
            "79/79 [==============================] - 1s 12ms/step - loss: 4.1743e-04 - val_loss: 3.3862e-04\n",
            "Epoch 9/20\n",
            "79/79 [==============================] - 1s 13ms/step - loss: 2.9171e-04 - val_loss: 2.4606e-04\n",
            "Epoch 10/20\n",
            "79/79 [==============================] - 1s 13ms/step - loss: 2.1712e-04 - val_loss: 1.8677e-04\n",
            "Epoch 11/20\n",
            "79/79 [==============================] - 1s 13ms/step - loss: 1.6766e-04 - val_loss: 1.4708e-04\n",
            "Epoch 12/20\n",
            "79/79 [==============================] - 1s 12ms/step - loss: 1.3353e-04 - val_loss: 1.1887e-04\n",
            "Epoch 13/20\n",
            "79/79 [==============================] - 1s 12ms/step - loss: 1.0923e-04 - val_loss: 9.7589e-05\n",
            "Epoch 14/20\n",
            "79/79 [==============================] - 2s 20ms/step - loss: 8.9763e-05 - val_loss: 8.0586e-05\n",
            "Epoch 15/20\n",
            "79/79 [==============================] - 1s 13ms/step - loss: 7.4588e-05 - val_loss: 6.7519e-05\n",
            "Epoch 16/20\n",
            "79/79 [==============================] - 1s 13ms/step - loss: 6.2819e-05 - val_loss: 5.7156e-05\n",
            "Epoch 17/20\n",
            "79/79 [==============================] - 1s 13ms/step - loss: 5.3538e-05 - val_loss: 4.9050e-05\n",
            "Epoch 18/20\n",
            "79/79 [==============================] - 1s 13ms/step - loss: 4.6047e-05 - val_loss: 4.2346e-05\n",
            "Epoch 19/20\n",
            "79/79 [==============================] - 1s 13ms/step - loss: 3.9871e-05 - val_loss: 3.6793e-05\n",
            "Epoch 20/20\n",
            "79/79 [==============================] - 1s 13ms/step - loss: 3.4754e-05 - val_loss: 3.2208e-05\n"
          ]
        }
      ],
      "source": [
        "from tensorflow.keras.metrics import BinaryAccuracy, Precision, Recall, AUC\n",
        "from tensorflow.keras.metrics import SparseCategoricalAccuracy\n",
        "from tensorflow.keras.losses import SparseCategoricalCrossentropy\n",
        "\n",
        "earlystopping = EarlyStopping(patience=2)\n",
        "transformer.compile(loss=SparseCategoricalCrossentropy(), optimizer='adam',\n",
        "                    metrics=[\n",
        "                        # SparseCategoricalAccuracy(), \n",
        "                        Precision(class_id=1), Recall(class_id=1), \n",
        "                            #  AUC(curve='PR')\n",
        "                             ])\n",
        "\n",
        "history = transformer.fit(train_ds, validation_data=valid_ds, epochs=20, callbacks=[earlystopping])"
      ]
    },
    {
      "cell_type": "code",
      "execution_count": null,
      "metadata": {
        "colab": {
          "base_uri": "https://localhost:8080/"
        },
        "id": "EQgPCkRf72zt",
        "outputId": "9539fff3-5141-4182-f257-038f1b1840a4"
      },
      "outputs": [
        {
          "name": "stdout",
          "output_type": "stream",
          "text": [
            "79/79 [==============================] - 2s 21ms/step - loss: 1.1028e-04 - binary_accuracy: 1.0000 - precision_3: 0.9999 - recall_3: 1.0000 - auc_3: 1.0000\n"
          ]
        },
        {
          "data": {
            "text/plain": [
              "{'loss': 0.00011028213339159265,\n",
              " 'binary_accuracy': 0.9999899864196777,\n",
              " 'precision_3': 0.9999452829360962,\n",
              " 'recall_3': 0.9999635219573975,\n",
              " 'auc_3': 0.9999684691429138}"
            ]
          },
          "execution_count": 120,
          "metadata": {},
          "output_type": "execute_result"
        }
      ],
      "source": [
        "transformer.evaluate(test_ds, return_dict=True)"
      ]
    },
    {
      "cell_type": "code",
      "execution_count": null,
      "metadata": {
        "colab": {
          "base_uri": "https://localhost:8080/"
        },
        "id": "cbMJx_s-_-ln",
        "outputId": "3cfbd9a3-2436-4efb-badf-64137af87c9e"
      },
      "outputs": [
        {
          "data": {
            "text/plain": [
              "<tf.Tensor: shape=(1, 10, 2), dtype=float32, numpy=\n",
              "array([[[9.9999964e-01, 3.0918090e-07],\n",
              "        [7.0751448e-05, 9.9992919e-01],\n",
              "        [9.9999976e-01, 1.9547147e-07],\n",
              "        [7.2762341e-05, 9.9992728e-01],\n",
              "        [9.9999964e-01, 3.6625948e-07],\n",
              "        [1.0912841e-04, 9.9989080e-01],\n",
              "        [9.9999762e-01, 2.3624486e-06],\n",
              "        [9.9999952e-01, 5.3354711e-07],\n",
              "        [9.9999952e-01, 4.4650929e-07],\n",
              "        [9.9999940e-01, 6.1930865e-07]]], dtype=float32)>"
            ]
          },
          "execution_count": 194,
          "metadata": {},
          "output_type": "execute_result"
        }
      ],
      "source": [
        "transformer(['ababab'+'b'*4])"
      ]
    },
    {
      "cell_type": "code",
      "execution_count": null,
      "metadata": {
        "id": "5AcBR0pFKBUP"
      },
      "outputs": [],
      "source": []
    }
  ],
  "metadata": {
    "accelerator": "GPU",
    "colab": {
      "provenance": []
    },
    "gpuClass": "standard",
    "kernelspec": {
      "display_name": "tf_210",
      "language": "python",
      "name": "python3"
    },
    "language_info": {
      "name": "python",
      "version": "3.8.10"
    },
    "vscode": {
      "interpreter": {
        "hash": "4c2409f7cd36a60864259fe7c86cc6f7edd5e2a0604f36f600c4aba8b227f5d5"
      }
    }
  },
  "nbformat": 4,
  "nbformat_minor": 0
}
