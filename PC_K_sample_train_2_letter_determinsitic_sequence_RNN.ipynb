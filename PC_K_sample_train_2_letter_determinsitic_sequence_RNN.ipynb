{
 "cells": [
  {
   "cell_type": "code",
   "execution_count": 1,
   "metadata": {},
   "outputs": [
    {
     "name": "stderr",
     "output_type": "stream",
     "text": [
      "2023-02-22 16:24:07.712300: I tensorflow/core/platform/cpu_feature_guard.cc:193] This TensorFlow binary is optimized with oneAPI Deep Neural Network Library (oneDNN) to use the following CPU instructions in performance-critical operations:  AVX2 AVX512F AVX512_VNNI FMA\n",
      "To enable them in other operations, rebuild TensorFlow with the appropriate compiler flags.\n",
      "2023-02-22 16:24:07.865424: I tensorflow/core/util/util.cc:169] oneDNN custom operations are on. You may see slightly different numerical results due to floating-point round-off errors from different computation orders. To turn them off, set the environment variable `TF_ENABLE_ONEDNN_OPTS=0`.\n",
      "2023-02-22 16:24:07.901983: E tensorflow/stream_executor/cuda/cuda_blas.cc:2981] Unable to register cuBLAS factory: Attempting to register factory for plugin cuBLAS when one has already been registered\n",
      "2023-02-22 16:24:08.570959: W tensorflow/stream_executor/platform/default/dso_loader.cc:64] Could not load dynamic library 'libnvinfer.so.7'; dlerror: libnvinfer.so.7: cannot open shared object file: No such file or directory\n",
      "2023-02-22 16:24:08.571016: W tensorflow/stream_executor/platform/default/dso_loader.cc:64] Could not load dynamic library 'libnvinfer_plugin.so.7'; dlerror: libnvinfer_plugin.so.7: cannot open shared object file: No such file or directory\n",
      "2023-02-22 16:24:08.571022: W tensorflow/compiler/tf2tensorrt/utils/py_utils.cc:38] TF-TRT Warning: Cannot dlopen some TensorRT libraries. If you would like to use Nvidia GPU with TensorRT, please make sure the missing libraries mentioned above are installed properly.\n"
     ]
    }
   ],
   "source": [
    "import logging\n",
    "import tensorflow as tf\n",
    "\n",
    "\n",
    "GPU_FROM = 3\n",
    "GPU_TO = 4  \n",
    "\n",
    "visible_devices = tf.config.get_visible_devices('GPU')\n",
    "logging.info(f\"Num GPUs visible:{len(visible_devices)}\")\n",
    "tf.config.set_visible_devices(visible_devices[GPU_FROM:GPU_TO],'GPU')\n",
    "\n",
    "visible_devices = tf.config.get_visible_devices('GPU')\n",
    "logging.info(f\"Num GPUs to be used: {len(visible_devices)}\")"
   ]
  },
  {
   "cell_type": "code",
   "execution_count": 2,
   "metadata": {},
   "outputs": [
    {
     "name": "stdout",
     "output_type": "stream",
     "text": [
      "tf.Tensor(b'5555545 5555555445 5555445 545 5555545 555545 55555445 545 545 545 555545 5545 55555445 5555445 555545 55555555545 4', shape=(), dtype=string)\n",
      "tf.Tensor(b'55545 5545 5545 45 555445 5445 45 5555555555545 545 555545 545 45 55545 55555545 55555545 545 45 45 445 45 55545 55555555', shape=(), dtype=string)\n",
      "tf.Tensor(b'5555544445 45 55555545 45 5555445 555555545 555555555555555555545 555445 5555555545 5555545 5545 545 5445 45 45 444', shape=(), dtype=string)\n",
      "tf.Tensor(b'545 555555445 555555545 555545 555555545 5555545 5555555555555445 45 45 555545 555545 5555555555555445 555555544', shape=(), dtype=string)\n",
      "tf.Tensor(b'545 5555545 45 555555555445 554445 555545 555555555545 55555545 5545 555545 5555555445 55445 5555545 4445 5445 445 5', shape=(), dtype=string)\n"
     ]
    },
    {
     "name": "stderr",
     "output_type": "stream",
     "text": [
      "2023-02-22 16:24:09.651097: I tensorflow/core/platform/cpu_feature_guard.cc:193] This TensorFlow binary is optimized with oneAPI Deep Neural Network Library (oneDNN) to use the following CPU instructions in performance-critical operations:  AVX2 AVX512F AVX512_VNNI FMA\n",
      "To enable them in other operations, rebuild TensorFlow with the appropriate compiler flags.\n",
      "2023-02-22 16:24:10.359133: I tensorflow/core/common_runtime/gpu/gpu_device.cc:1616] Created device /job:localhost/replica:0/task:0/device:GPU:0 with 22296 MB memory:  -> device: 3, name: GeForce RTX 3090, pci bus id: 0000:d8:00.0, compute capability: 8.6\n"
     ]
    }
   ],
   "source": [
    "\n",
    "from segmentation.model import SpaceSegmentationTransformer\n",
    "from segmentation.model import LossWithVoids\n",
    "\n",
    "data = tf.random.stateless_binomial(shape=(10000, 100), counts=1, probs=0.8, seed=[1997,1997])+1\n",
    "train_frac = int(data.shape[0]*3/4)\n",
    "\n",
    "train_ds, val_ds = tf.data.Dataset.from_tensor_slices(data[:train_frac]), tf.data.Dataset.from_tensor_slices(data[train_frac:])\n",
    "\n",
    "sequence_rule = \"45\"\n",
    "\n",
    "def mapper(y):\n",
    "    x = tf.strings.as_string(y+3)\n",
    "    x = tf.strings.reduce_join(x, axis=-1)\n",
    "    return tf.strings.regex_replace(x, f\"({sequence_rule})\", r\"\\1 \")\n",
    "\n",
    "train_ds = train_ds.map(mapper)\n",
    "val_ds = val_ds.map(mapper)\n",
    "\n",
    "for f in train_ds.take(5):\n",
    "    print(f)"
   ]
  },
  {
   "cell_type": "code",
   "execution_count": 3,
   "metadata": {},
   "outputs": [
    {
     "name": "stdout",
     "output_type": "stream",
     "text": [
      "(<tf.Tensor: shape=(), dtype=string, numpy=b'55555455555555445555544554555555455555455555544554554554555554555455555544555554455555'>, <tf.Tensor: shape=(100,), dtype=float16, numpy=\n",
      "array([ 0.,  0.,  0.,  0.,  0.,  0.,  1.,  0.,  0.,  0.,  0.,  0.,  0.,\n",
      "        0.,  0.,  0.,  1.,  0.,  0.,  0.,  0.,  0.,  0.,  1.,  0.,  0.,\n",
      "        1.,  0.,  0.,  0.,  0.,  0.,  0.,  1.,  0.,  0.,  0.,  0.,  0.,\n",
      "        1.,  0.,  0.,  0.,  0.,  0.,  0.,  0.,  1.,  0.,  0.,  1.,  0.,\n",
      "        0.,  1.,  0.,  0.,  1.,  0.,  0.,  0.,  0.,  0.,  1.,  0.,  0.,\n",
      "        0.,  1.,  0.,  0.,  0.,  0.,  0.,  0.,  0.,  1.,  0.,  0.,  0.,\n",
      "        0.,  0.,  0.,  1.,  0.,  0.,  0.,  0., -1., -1., -1., -1., -1.,\n",
      "       -1., -1., -1., -1., -1., -1., -1., -1., -1.], dtype=float16)>)\n"
     ]
    },
    {
     "data": {
      "text/plain": [
       "(TensorSpec(shape=(), dtype=tf.string, name=None),\n",
       " TensorSpec(shape=(100,), dtype=tf.float16, name=None))"
      ]
     },
     "execution_count": 3,
     "metadata": {},
     "output_type": "execute_result"
    }
   ],
   "source": [
    "def generate_labels(text):\n",
    "    max_chars = 100\n",
    "    last_char = tf.strings.substr(text, max_chars, max_chars+1)\n",
    "    text = tf.strings.substr(text,0, max_chars)\n",
    "    text = tf.strings.lower(text)\n",
    "    split_on_whitespace = tf.strings.strip(tf.strings.split(text))\n",
    "    encoder_in = tf.strings.reduce_join(split_on_whitespace, axis=-1)\n",
    "    \n",
    "    space_indices = tf.math.cumsum(tf.strings.length(split_on_whitespace)) - 1 # subtract 1 to index from 0\n",
    "    seq_len = space_indices[-1] + 1\n",
    "    if not tf.strings.regex_full_match(last_char, \" \"):\n",
    "        space_indices = space_indices[:-1]\n",
    "    encoder_out = tf.ones((max_chars,))\n",
    "    encoder_out = tf.concat([\n",
    "        tf.ones((seq_len,)),\n",
    "        tf.zeros((max_chars - seq_len,))\n",
    "    ], axis=-1)\n",
    "    encoder_out = tf.tensor_scatter_nd_update(\n",
    "        encoder_out, \n",
    "        space_indices[...,tf.newaxis], # Expand dims to create a 'list' of indices\n",
    "        tf.ones_like(space_indices, dtype=encoder_out.dtype)*2) \n",
    "    \n",
    "    return encoder_in, tf.reshape(tf.cast(encoder_out-1, \"float16\"), (100,))\n",
    "\n",
    "train_ds = train_ds.map(generate_labels)\n",
    "val_ds = val_ds.map(generate_labels)\n",
    "\n",
    "for f in train_ds.take(1):\n",
    "    print(f)\n",
    "\n",
    "train_ds.element_spec"
   ]
  },
  {
   "cell_type": "code",
   "execution_count": 4,
   "metadata": {},
   "outputs": [
    {
     "data": {
      "text/plain": [
       "['', '[UNK]', '5', '4']"
      ]
     },
     "execution_count": 4,
     "metadata": {},
     "output_type": "execute_result"
    }
   ],
   "source": [
    "tokenizer = tf.keras.layers.TextVectorization(\n",
    "    output_sequence_length=100,\n",
    "    standardize=\"lower_and_strip_punctuation\",\n",
    "    split=\"character\",\n",
    "    output_mode=\"int\",\n",
    ")\n",
    "\n",
    "tokenizer.adapt(train_ds.take(10).map(lambda x,y: x))\n",
    "tokenizer.get_vocabulary()"
   ]
  },
  {
   "cell_type": "code",
   "execution_count": 5,
   "metadata": {},
   "outputs": [
    {
     "data": {
      "text/plain": [
       "<tf.Tensor: shape=(100,), dtype=int64, numpy=\n",
       "array([3, 3, 3, 3, 3, 3, 2, 2, 2, 2, 2, 0, 0, 0, 0, 0, 0, 0, 0, 0, 0, 0,\n",
       "       0, 0, 0, 0, 0, 0, 0, 0, 0, 0, 0, 0, 0, 0, 0, 0, 0, 0, 0, 0, 0, 0,\n",
       "       0, 0, 0, 0, 0, 0, 0, 0, 0, 0, 0, 0, 0, 0, 0, 0, 0, 0, 0, 0, 0, 0,\n",
       "       0, 0, 0, 0, 0, 0, 0, 0, 0, 0, 0, 0, 0, 0, 0, 0, 0, 0, 0, 0, 0, 0,\n",
       "       0, 0, 0, 0, 0, 0, 0, 0, 0, 0, 0, 0])>"
      ]
     },
     "execution_count": 5,
     "metadata": {},
     "output_type": "execute_result"
    }
   ],
   "source": [
    "tokenizer(\"44444455555\")"
   ]
  },
  {
   "cell_type": "code",
   "execution_count": 6,
   "metadata": {},
   "outputs": [],
   "source": [
    "from tensorflow.keras.layers import LSTM\n",
    "from tensorflow.keras.layers import Dense\n",
    "from tensorflow.keras.layers import Embedding\n",
    "from tensorflow.keras import Sequential\n",
    "from tensorflow.keras import Input\n",
    "from tensorflow.keras import Model\n",
    "\n",
    "_in = Input((1,), dtype=\"string\") # (B,)\n",
    "tokens = tokenizer(_in) # (B,100)\n",
    "embeddings = Embedding(4,20)(tokens) # (B, 100, 20)\n",
    "h = LSTM(6, return_sequences=True)(embeddings) # h_seq (B, 100, 6), h_final (B,6)\n",
    "model = Model(_in, Dense(2, activation=\"softmax\")(h))"
   ]
  },
  {
   "cell_type": "code",
   "execution_count": 7,
   "metadata": {},
   "outputs": [
    {
     "name": "stdout",
     "output_type": "stream",
     "text": [
      "(<tf.Tensor: shape=(2,), dtype=string, numpy=\n",
      "array([b'55555455555555445555544554555555455555455555544554554554555554555455555544555554455555',\n",
      "       b'5554555455545455554455445455555555555545545555545545455554555555545555555455454545'],\n",
      "      dtype=object)>, <tf.Tensor: shape=(2, 100), dtype=float16, numpy=\n",
      "array([[ 0.,  0.,  0.,  0.,  0.,  0.,  1.,  0.,  0.,  0.,  0.,  0.,  0.,\n",
      "         0.,  0.,  0.,  1.,  0.,  0.,  0.,  0.,  0.,  0.,  1.,  0.,  0.,\n",
      "         1.,  0.,  0.,  0.,  0.,  0.,  0.,  1.,  0.,  0.,  0.,  0.,  0.,\n",
      "         1.,  0.,  0.,  0.,  0.,  0.,  0.,  0.,  1.,  0.,  0.,  1.,  0.,\n",
      "         0.,  1.,  0.,  0.,  1.,  0.,  0.,  0.,  0.,  0.,  1.,  0.,  0.,\n",
      "         0.,  1.,  0.,  0.,  0.,  0.,  0.,  0.,  0.,  1.,  0.,  0.,  0.,\n",
      "         0.,  0.,  0.,  1.,  0.,  0.,  0.,  0., -1., -1., -1., -1., -1.,\n",
      "        -1., -1., -1., -1., -1., -1., -1., -1., -1.],\n",
      "       [ 0.,  0.,  0.,  0.,  1.,  0.,  0.,  0.,  1.,  0.,  0.,  0.,  1.,\n",
      "         0.,  1.,  0.,  0.,  0.,  0.,  0.,  1.,  0.,  0.,  0.,  1.,  0.,\n",
      "         1.,  0.,  0.,  0.,  0.,  0.,  0.,  0.,  0.,  0.,  0.,  0.,  0.,\n",
      "         1.,  0.,  0.,  1.,  0.,  0.,  0.,  0.,  0.,  1.,  0.,  0.,  1.,\n",
      "         0.,  1.,  0.,  0.,  0.,  0.,  1.,  0.,  0.,  0.,  0.,  0.,  0.,\n",
      "         0.,  1.,  0.,  0.,  0.,  0.,  0.,  0.,  0.,  1.,  0.,  0.,  1.,\n",
      "         0.,  1.,  0.,  0., -1., -1., -1., -1., -1., -1., -1., -1., -1.,\n",
      "        -1., -1., -1., -1., -1., -1., -1., -1., -1.]], dtype=float16)>)\n"
     ]
    },
    {
     "name": "stderr",
     "output_type": "stream",
     "text": [
      "2023-02-22 16:24:13.387986: I tensorflow/stream_executor/cuda/cuda_dnn.cc:384] Loaded cuDNN version 8100\n"
     ]
    },
    {
     "name": "stdout",
     "output_type": "stream",
     "text": [
      "tf.Tensor(\n",
      "[[[0.49706763 0.50293237]\n",
      "  [0.494527   0.505473  ]\n",
      "  [0.49228734 0.50771266]\n",
      "  [0.49029154 0.50970846]\n",
      "  [0.48850685 0.51149315]\n",
      "  [0.49012813 0.5098719 ]\n",
      "  [0.48846194 0.5115381 ]\n",
      "  [0.48693714 0.51306283]\n",
      "  [0.48554298 0.514457  ]\n",
      "  [0.48428032 0.5157197 ]\n",
      "  [0.48314556 0.51685447]\n",
      "  [0.48211613 0.5178839 ]\n",
      "  [0.48118424 0.5188158 ]\n",
      "  [0.48035648 0.51964355]\n",
      "  [0.48283118 0.51716876]\n",
      "  [0.4850514  0.5149486 ]\n",
      "  [0.48399743 0.5160026 ]\n",
      "  [0.48299125 0.5170088 ]\n",
      "  [0.48206228 0.5179377 ]\n",
      "  [0.4812122  0.5187878 ]\n",
      "  [0.48042914 0.5195708 ]\n",
      "  [0.48293075 0.5170693 ]\n",
      "  [0.48517612 0.51482385]\n",
      "  [0.4841317  0.5158683 ]\n",
      "  [0.48313028 0.51686966]\n",
      "  [0.48538637 0.5146136 ]\n",
      "  [0.4842982  0.51570183]\n",
      "  [0.4832743  0.5167257 ]\n",
      "  [0.48232386 0.5176761 ]\n",
      "  [0.4814392  0.51856077]\n",
      "  [0.4806409  0.5193591 ]\n",
      "  [0.47990206 0.520098  ]\n",
      "  [0.48245412 0.5175459 ]\n",
      "  [0.48156953 0.5184305 ]\n",
      "  [0.48078683 0.51921314]\n",
      "  [0.48005623 0.5199438 ]\n",
      "  [0.4794021  0.5205979 ]\n",
      "  [0.4787981  0.5212019 ]\n",
      "  [0.48146087 0.5185391 ]\n",
      "  [0.48067737 0.51932263]\n",
      "  [0.4799966  0.5200034 ]\n",
      "  [0.4793576  0.5206424 ]\n",
      "  [0.47877556 0.52122444]\n",
      "  [0.47824293 0.521757  ]\n",
      "  [0.47775164 0.5222484 ]\n",
      "  [0.48052394 0.5194761 ]\n",
      "  [0.4830019  0.5169981 ]\n",
      "  [0.48217148 0.5178285 ]\n",
      "  [0.48137692 0.51862305]\n",
      "  [0.48381275 0.51618725]\n",
      "  [0.4828891  0.51711094]\n",
      "  [0.48200595 0.51799405]\n",
      "  [0.48438266 0.5156174 ]\n",
      "  [0.48338532 0.5166147 ]\n",
      "  [0.48244932 0.5175507 ]\n",
      "  [0.48477563 0.51522434]\n",
      "  [0.48374018 0.51625985]\n",
      "  [0.48276353 0.5172365 ]\n",
      "  [0.48185956 0.51814044]\n",
      "  [0.4810292  0.5189708 ]\n",
      "  [0.48026496 0.51973504]\n",
      "  [0.48278314 0.51721686]\n",
      "  [0.48187646 0.51812357]\n",
      "  [0.4810658  0.51893413]\n",
      "  [0.4803151  0.5196849 ]\n",
      "  [0.4828275  0.51717246]\n",
      "  [0.48194382 0.51805615]\n",
      "  [0.48112872 0.51887125]\n",
      "  [0.4803841  0.5196159 ]\n",
      "  [0.47970122 0.5202988 ]\n",
      "  [0.4790643  0.5209357 ]\n",
      "  [0.4785033  0.5214968 ]\n",
      "  [0.48119488 0.5188051 ]\n",
      "  [0.4836018  0.5163982 ]\n",
      "  [0.48270804 0.51729196]\n",
      "  [0.48185632 0.51814365]\n",
      "  [0.48106354 0.51893646]\n",
      "  [0.4803228  0.5196772 ]\n",
      "  [0.47964272 0.5203573 ]\n",
      "  [0.4822378  0.51776224]\n",
      "  [0.48455903 0.515441  ]\n",
      "  [0.4835805  0.51641953]\n",
      "  [0.48264694 0.51735306]\n",
      "  [0.48177046 0.51822954]\n",
      "  [0.4809623  0.5190377 ]\n",
      "  [0.48021874 0.5197813 ]\n",
      "  [0.48187584 0.51812416]\n",
      "  [0.48318288 0.51681715]\n",
      "  [0.4843061  0.5156939 ]\n",
      "  [0.48527756 0.5147224 ]\n",
      "  [0.48613375 0.5138662 ]\n",
      "  [0.48688632 0.5131137 ]\n",
      "  [0.4875569  0.5124431 ]\n",
      "  [0.48815036 0.5118496 ]\n",
      "  [0.48867708 0.5113229 ]\n",
      "  [0.48914883 0.5108512 ]\n",
      "  [0.48956782 0.5104322 ]\n",
      "  [0.4899366  0.5100634 ]\n",
      "  [0.4902739  0.50972617]\n",
      "  [0.4905664  0.50943357]]\n",
      "\n",
      " [[0.49706763 0.50293237]\n",
      "  [0.494527   0.505473  ]\n",
      "  [0.49228734 0.50771266]\n",
      "  [0.49350655 0.5064935 ]\n",
      "  [0.49151343 0.50848657]\n",
      "  [0.48968285 0.51031715]\n",
      "  [0.48801672 0.5119833 ]\n",
      "  [0.48970756 0.5102924 ]\n",
      "  [0.48811775 0.51188225]\n",
      "  [0.48664275 0.5133572 ]\n",
      "  [0.4852919  0.5147081 ]\n",
      "  [0.4872733  0.51272666]\n",
      "  [0.48592946 0.5140705 ]\n",
      "  [0.48786432 0.5121357 ]\n",
      "  [0.4865175  0.5134825 ]\n",
      "  [0.48524776 0.51475227]\n",
      "  [0.48406786 0.51593214]\n",
      "  [0.483001   0.51699895]\n",
      "  [0.48522127 0.51477873]\n",
      "  [0.48724073 0.51275927]\n",
      "  [0.48599824 0.5140018 ]\n",
      "  [0.48480275 0.5151973 ]\n",
      "  [0.48687607 0.513124  ]\n",
      "  [0.4887807  0.51121926]\n",
      "  [0.4874358  0.5125642 ]\n",
      "  [0.48926646 0.5107336 ]\n",
      "  [0.48786974 0.5121302 ]\n",
      "  [0.48649877 0.5135012 ]\n",
      "  [0.4852344  0.5147656 ]\n",
      "  [0.48406184 0.51593816]\n",
      "  [0.48299146 0.51700854]\n",
      "  [0.48200497 0.51799506]\n",
      "  [0.48111376 0.5188862 ]\n",
      "  [0.4803089  0.5196911 ]\n",
      "  [0.47958687 0.52041316]\n",
      "  [0.47892645 0.5210736 ]\n",
      "  [0.47833788 0.5216621 ]\n",
      "  [0.4778139  0.52218604]\n",
      "  [0.4805677  0.5194323 ]\n",
      "  [0.4798519  0.5201481 ]\n",
      "  [0.47923532 0.5207647 ]\n",
      "  [0.48186758 0.5181324 ]\n",
      "  [0.48108336 0.5189166 ]\n",
      "  [0.4803686  0.5196314 ]\n",
      "  [0.47970936 0.5202906 ]\n",
      "  [0.47910056 0.5208995 ]\n",
      "  [0.47853714 0.52146286]\n",
      "  [0.48124415 0.51875585]\n",
      "  [0.4804906  0.51950943]\n",
      "  [0.47982642 0.5201736 ]\n",
      "  [0.4824108  0.5175892 ]\n",
      "  [0.48158556 0.51841444]\n",
      "  [0.48399818 0.5160018 ]\n",
      "  [0.4830659  0.5169341 ]\n",
      "  [0.48217475 0.51782525]\n",
      "  [0.48134494 0.51865506]\n",
      "  [0.4805777  0.51942223]\n",
      "  [0.48307568 0.5169243 ]\n",
      "  [0.48216203 0.517838  ]\n",
      "  [0.481332   0.518668  ]\n",
      "  [0.4805644  0.51943564]\n",
      "  [0.47985983 0.52014023]\n",
      "  [0.47921675 0.52078325]\n",
      "  [0.47863358 0.5213665 ]\n",
      "  [0.4780972  0.52190286]\n",
      "  [0.48082963 0.51917034]\n",
      "  [0.48010036 0.5198996 ]\n",
      "  [0.4794669  0.5205331 ]\n",
      "  [0.47888383 0.52111614]\n",
      "  [0.4783475  0.52165246]\n",
      "  [0.47786695 0.52213305]\n",
      "  [0.47742012 0.5225799 ]\n",
      "  [0.47701564 0.5229844 ]\n",
      "  [0.47985834 0.52014166]\n",
      "  [0.47923726 0.52076274]\n",
      "  [0.4786992  0.52130073]\n",
      "  [0.48139197 0.51860803]\n",
      "  [0.48066625 0.5193338 ]\n",
      "  [0.48318118 0.5168188 ]\n",
      "  [0.48232344 0.51767653]\n",
      "  [0.4846787  0.5153213 ]\n",
      "  [0.48370194 0.5162981 ]\n",
      "  [0.48502985 0.5149702 ]\n",
      "  [0.48606443 0.5139356 ]\n",
      "  [0.48693356 0.5130664 ]\n",
      "  [0.48767412 0.5123259 ]\n",
      "  [0.4883078  0.51169217]\n",
      "  [0.48885408 0.51114595]\n",
      "  [0.4893321  0.51066786]\n",
      "  [0.48975548 0.5102445 ]\n",
      "  [0.49012256 0.50987744]\n",
      "  [0.49044418 0.50955576]\n",
      "  [0.49073234 0.5092677 ]\n",
      "  [0.49098834 0.5090117 ]\n",
      "  [0.49120885 0.50879115]\n",
      "  [0.49140966 0.50859034]\n",
      "  [0.4915831  0.5084169 ]\n",
      "  [0.49173844 0.50826156]\n",
      "  [0.49187568 0.5081243 ]\n",
      "  [0.49199837 0.5080016 ]]], shape=(2, 100, 2), dtype=float32)\n"
     ]
    },
    {
     "name": "stderr",
     "output_type": "stream",
     "text": [
      "2023-02-22 16:24:14.324673: I tensorflow/stream_executor/cuda/cuda_blas.cc:1614] TensorFloat-32 will be used for the matrix multiplication. This will only be logged once.\n"
     ]
    }
   ],
   "source": [
    "for x in train_ds.batch(2).take(1):\n",
    "    print(x)\n",
    "    print(model(x[0]))"
   ]
  },
  {
   "cell_type": "code",
   "execution_count": 8,
   "metadata": {},
   "outputs": [],
   "source": [
    "from segmentation.metrics import SparseAccuracyWithIgnore\n",
    "from segmentation.metrics import SparsePrecision\n",
    "from segmentation.metrics import SparseRecall\n",
    "from segmentation.metrics import SparseF1\n",
    "\n",
    "model.compile(\n",
    "    optimizer=\"adam\",\n",
    "    loss=tf.keras.losses.SparseCategoricalCrossentropy(from_logits=False, ignore_class=-1), # Why can I not ignore class 0?\n",
    "    metrics=[\n",
    "        # SparseAccuracyWithIgnore(ignore_token=-1),\n",
    "        SparsePrecision(class_id=1, name=\"space_precision\"),\n",
    "        SparseRecall(class_id=1, name=\"space_recall\"),\n",
    "        SparseF1(class_id=1, name=\"space_f1\"),\n",
    "        SparsePrecision(class_id=0, name=\"char_precision\"),\n",
    "        SparseRecall(class_id=0, name=\"char_recall\"),\n",
    "        SparseF1(class_id=0, name=\"char_f1\"),\n",
    "    ],\n",
    ")"
   ]
  },
  {
   "cell_type": "code",
   "execution_count": 9,
   "metadata": {},
   "outputs": [
    {
     "name": "stdout",
     "output_type": "stream",
     "text": [
      "(TensorSpec(shape=(None,), dtype=tf.string, name=None), TensorSpec(shape=(None, 100), dtype=tf.float16, name=None))\n",
      "Epoch 1/10\n",
      "(None, 100, 2) (None, 100)\n",
      "(None, 100, 2) (None, 100)\n",
      "(None, 100, 2) (None, 100)\n",
      "(None, 100, 2) (None, 100)\n",
      "(None, 100, 2) (None, 100)\n",
      "(None, 100, 2) (None, 100)\n",
      "(None, 100, 2) (None, 100)\n",
      "(None, 100, 2) (None, 100)\n",
      "937/938 [============================>.] - ETA: 0s - loss: 0.2415 - space_precision: 0.9032 - space_recall: 0.5076 - space_f1: 0.6500 - char_precision: 0.7839 - char_recall: 0.9921 - char_f1: 0.8758(None, 100, 2) (None, 100)\n",
      "(None, 100, 2) (None, 100)\n",
      "(None, 100, 2) (None, 100)\n",
      "(None, 100, 2) (None, 100)\n",
      "938/938 [==============================] - 24s 22ms/step - loss: 0.2414 - space_precision: 0.9032 - space_recall: 0.5080 - space_f1: 0.6502 - char_precision: 0.7840 - char_recall: 0.9921 - char_f1: 0.8758 - val_loss: 0.0355 - val_space_precision: 0.9625 - val_space_recall: 1.0000 - val_space_f1: 0.9809 - val_char_precision: 0.8460 - val_char_recall: 0.9963 - val_char_f1: 0.9150\n",
      "Epoch 2/10\n",
      "938/938 [==============================] - 19s 20ms/step - loss: 0.0221 - space_precision: 0.9156 - space_recall: 1.0000 - space_f1: 0.9559 - char_precision: 0.8527 - char_recall: 0.9962 - char_f1: 0.9189 - val_loss: 0.0173 - val_space_precision: 0.7668 - val_space_recall: 1.0000 - val_space_f1: 0.8680 - val_char_precision: 0.8823 - val_char_recall: 0.9963 - val_char_f1: 0.9358\n",
      "Epoch 3/10\n",
      "938/938 [==============================] - 19s 21ms/step - loss: 0.0167 - space_precision: 0.6693 - space_recall: 1.0000 - space_f1: 0.8019 - char_precision: 0.9101 - char_recall: 0.9962 - char_f1: 0.9512 - val_loss: 0.0160 - val_space_precision: 0.6784 - val_space_recall: 1.0000 - val_space_f1: 0.8084 - val_char_precision: 0.9072 - val_char_recall: 0.9963 - val_char_f1: 0.9497\n",
      "Epoch 4/10\n",
      "938/938 [==============================] - 19s 20ms/step - loss: 0.0161 - space_precision: 0.7611 - space_recall: 1.0000 - space_f1: 0.8644 - char_precision: 0.8834 - char_recall: 0.9962 - char_f1: 0.9364 - val_loss: 0.0157 - val_space_precision: 0.9013 - val_space_recall: 1.0000 - val_space_f1: 0.9481 - val_char_precision: 0.8554 - val_char_recall: 0.9963 - val_char_f1: 0.9205\n",
      "Epoch 5/10\n",
      "938/938 [==============================] - 19s 20ms/step - loss: 0.0159 - space_precision: 0.9174 - space_recall: 1.0000 - space_f1: 0.9569 - char_precision: 0.8524 - char_recall: 0.9962 - char_f1: 0.9187 - val_loss: 0.0155 - val_space_precision: 0.9287 - val_space_recall: 1.0000 - val_space_f1: 0.9631 - val_char_precision: 0.8510 - val_char_recall: 0.9963 - val_char_f1: 0.9179\n",
      "Epoch 6/10\n",
      "938/938 [==============================] - 19s 20ms/step - loss: 0.0158 - space_precision: 0.9300 - space_recall: 1.0000 - space_f1: 0.9637 - char_precision: 0.8504 - char_recall: 0.9962 - char_f1: 0.9176 - val_loss: 0.0155 - val_space_precision: 0.9374 - val_space_recall: 1.0000 - val_space_f1: 0.9677 - val_char_precision: 0.8496 - val_char_recall: 0.9963 - val_char_f1: 0.9172\n",
      "Epoch 7/10\n",
      "938/938 [==============================] - 19s 20ms/step - loss: 0.0157 - space_precision: 0.9468 - space_recall: 1.0000 - space_f1: 0.9727 - char_precision: 0.8479 - char_recall: 0.9962 - char_f1: 0.9161 - val_loss: 0.0154 - val_space_precision: 0.9565 - val_space_recall: 1.0000 - val_space_f1: 0.9777 - val_char_precision: 0.8468 - val_char_recall: 0.9963 - val_char_f1: 0.9155\n",
      "Epoch 8/10\n",
      "938/938 [==============================] - 19s 21ms/step - loss: 0.0157 - space_precision: 0.9563 - space_recall: 1.0000 - space_f1: 0.9777 - char_precision: 0.8465 - char_recall: 0.9962 - char_f1: 0.9153 - val_loss: 0.0153 - val_space_precision: 0.9620 - val_space_recall: 1.0000 - val_space_f1: 0.9806 - val_char_precision: 0.8461 - val_char_recall: 0.9963 - val_char_f1: 0.9151\n",
      "Epoch 9/10\n",
      "938/938 [==============================] - 19s 20ms/step - loss: 0.0156 - space_precision: 0.9635 - space_recall: 1.0000 - space_f1: 0.9814 - char_precision: 0.8455 - char_recall: 0.9962 - char_f1: 0.9147 - val_loss: 0.0153 - val_space_precision: 0.9679 - val_space_recall: 1.0000 - val_space_f1: 0.9837 - val_char_precision: 0.8452 - val_char_recall: 0.9963 - val_char_f1: 0.9146\n",
      "Epoch 10/10\n",
      "938/938 [==============================] - 19s 20ms/step - loss: 0.0154 - space_precision: 0.9653 - space_recall: 1.0000 - space_f1: 0.9824 - char_precision: 0.8452 - char_recall: 0.9962 - char_f1: 0.9145 - val_loss: 0.0143 - val_space_precision: 0.9673 - val_space_recall: 1.0000 - val_space_f1: 0.9834 - val_char_precision: 0.8453 - val_char_recall: 0.9963 - val_char_f1: 0.9146\n"
     ]
    },
    {
     "data": {
      "text/plain": [
       "<keras.callbacks.History at 0x7f42fc66ce80>"
      ]
     },
     "execution_count": 9,
     "metadata": {},
     "output_type": "execute_result"
    }
   ],
   "source": [
    "train_ds = train_ds.shuffle(100).batch(8)\n",
    "val_ds = val_ds.batch(8)\n",
    "print(train_ds.element_spec)\n",
    "model.fit(train_ds, validation_data=val_ds, epochs=10)"
   ]
  },
  {
   "cell_type": "code",
   "execution_count": 10,
   "metadata": {},
   "outputs": [
    {
     "name": "stdout",
     "output_type": "stream",
     "text": [
      "313/313 [==============================] - 4s 12ms/step - loss: 0.0143 - space_precision: 0.9673 - space_recall: 1.0000 - space_f1: 0.9834 - char_precision: 0.8453 - char_recall: 0.9963 - char_f1: 0.9146\n"
     ]
    },
    {
     "data": {
      "text/plain": [
       "[0.01428933721035719,\n",
       " 0.9673189520835876,\n",
       " 1.0,\n",
       " 0.9833880066871643,\n",
       " 0.8453080654144287,\n",
       " 0.9963020086288452,\n",
       " 0.9146149754524231]"
      ]
     },
     "execution_count": 10,
     "metadata": {},
     "output_type": "execute_result"
    }
   ],
   "source": [
    "model.evaluate(val_ds)"
   ]
  },
  {
   "cell_type": "code",
   "execution_count": 26,
   "metadata": {},
   "outputs": [],
   "source": [
    "test_inputs = tf.constant((\"5554445\", \"55544455554445\", \"5454545454545454\"))\n",
    "preds = model(test_inputs)\n",
    "truth = tf.ragged.constant([[1,1,1,1,1,1,2], [1,1,1,1,1,1,2,1,1,1,1,1,1,2], [1,1,2, 1,2, 1,2, 1,2, 1,2, 1,2, 1,2, 1]])-1\n",
    "char_conditional = (truth == 0).to_tensor(False, shape=(truth.shape[0],100))\n",
    "space_conditional = (truth == 1).to_tensor(False, shape=(truth.shape[0],100))"
   ]
  },
  {
   "cell_type": "code",
   "execution_count": 27,
   "metadata": {},
   "outputs": [
    {
     "data": {
      "text/plain": [
       "<tf.Tensor: shape=(3, 100), dtype=int64, numpy=\n",
       "array([[0, 0, 0, 0, 0, 0, 1, 0, 1, 0, 1, 0, 0, 0, 0, 0, 0, 0, 0, 0, 0, 0,\n",
       "        0, 0, 0, 0, 0, 0, 0, 0, 0, 0, 0, 0, 0, 0, 0, 0, 0, 0, 0, 0, 0, 0,\n",
       "        0, 0, 0, 0, 0, 0, 0, 0, 0, 0, 0, 0, 0, 0, 0, 0, 0, 0, 0, 0, 0, 0,\n",
       "        0, 0, 0, 0, 0, 0, 0, 0, 0, 0, 0, 0, 0, 0, 0, 0, 0, 0, 0, 0, 0, 0,\n",
       "        0, 0, 0, 0, 0, 0, 0, 0, 0, 0, 0, 0],\n",
       "       [0, 0, 0, 0, 0, 0, 1, 0, 0, 0, 0, 0, 0, 1, 0, 1, 0, 0, 0, 0, 0, 0,\n",
       "        0, 0, 0, 0, 0, 0, 0, 0, 0, 0, 0, 0, 0, 0, 0, 0, 0, 0, 0, 0, 0, 0,\n",
       "        0, 0, 0, 0, 0, 0, 0, 0, 0, 0, 0, 0, 0, 0, 0, 0, 0, 0, 0, 0, 0, 0,\n",
       "        0, 0, 0, 0, 0, 0, 0, 0, 0, 0, 0, 0, 0, 0, 0, 0, 0, 0, 0, 0, 0, 0,\n",
       "        0, 0, 0, 0, 0, 0, 0, 0, 0, 0, 0, 0],\n",
       "       [0, 0, 1, 0, 1, 0, 1, 0, 1, 0, 1, 0, 1, 0, 1, 0, 1, 0, 1, 0, 1, 0,\n",
       "        0, 0, 0, 0, 0, 0, 0, 0, 0, 0, 0, 0, 0, 0, 0, 0, 0, 0, 0, 0, 0, 0,\n",
       "        0, 0, 0, 0, 0, 0, 0, 0, 0, 0, 0, 0, 0, 0, 0, 0, 0, 0, 0, 0, 0, 0,\n",
       "        0, 0, 0, 0, 0, 0, 0, 0, 0, 0, 0, 0, 0, 0, 0, 0, 0, 0, 0, 0, 0, 0,\n",
       "        0, 0, 0, 0, 0, 0, 0, 0, 0, 0, 0, 0]])>"
      ]
     },
     "execution_count": 27,
     "metadata": {},
     "output_type": "execute_result"
    }
   ],
   "source": [
    "tf.argmax(preds, axis=-1)"
   ]
  },
  {
   "cell_type": "code",
   "execution_count": 28,
   "metadata": {},
   "outputs": [
    {
     "data": {
      "text/plain": [
       "Text(0.5, 0.98, 'Probabilities of space/char conditional on character input')"
      ]
     },
     "execution_count": 28,
     "metadata": {},
     "output_type": "execute_result"
    },
    {
     "data": {
      "image/png": "[encoded data removed]",
      "text/plain": [
       "<Figure size 640x480 with 2 Axes>"
      ]
     },
     "metadata": {},
     "output_type": "display_data"
    }
   ],
   "source": [
    "import matplotlib.pyplot as plt\n",
    "fig, axs = plt.subplots(1,2)\n",
    "prob_of_space = preds[char_conditional][...,1]\n",
    "prob_of_char = preds[char_conditional][...,0]\n",
    "axs[0].hist(prob_of_space)\n",
    "# axs[0].set_xlim(0,1)\n",
    "axs[1].hist(prob_of_char)\n",
    "# axs[1].set_xlim(0,1)\n",
    "fig.suptitle(\"Probabilities of space/char conditional on character input\")"
   ]
  },
  {
   "cell_type": "code",
   "execution_count": 30,
   "metadata": {},
   "outputs": [
    {
     "data": {
      "image/png": "[encoded data removed]",
      "text/plain": [
       "<Figure size 640x480 with 2 Axes>"
      ]
     },
     "metadata": {},
     "output_type": "display_data"
    }
   ],
   "source": [
    "fig, axs = plt.subplots(1,2)\n",
    "prob_of_space = preds[space_conditional][...,1]\n",
    "prob_of_char = preds[space_conditional][...,0]\n",
    "axs[0].hist(prob_of_space)\n",
    "axs[1].hist(prob_of_char)\n",
    "# axs[1].set_xlim(0,1)\n",
    "fig.suptitle(\"Probabilities of space/char conditional on space input\")\n",
    "\n",
    "fig.show()"
   ]
  },
  {
   "cell_type": "code",
   "execution_count": 31,
   "metadata": {},
   "outputs": [
    {
     "data": {
      "text/plain": [
       "([0.0075717354,\n",
       "  0.0075717354,\n",
       "  0.008480182,\n",
       "  0.0076024504,\n",
       "  0.007038756,\n",
       "  0.006740982,\n",
       "  0.006507891,\n",
       "  0.0063156215,\n",
       "  0.0061634253,\n",
       "  0.0060348925],\n",
       " <tf.Tensor: shape=(10,), dtype=float32, numpy=\n",
       " array([0.99242824, 0.99242824, 0.99151987, 0.9923975 , 0.9929612 ,\n",
       "        0.9932591 , 0.99349207, 0.99368435, 0.9938366 , 0.9939651 ],\n",
       "       dtype=float32)>)"
      ]
     },
     "execution_count": 31,
     "metadata": {},
     "output_type": "execute_result"
    }
   ],
   "source": [
    "list(prob_of_char.numpy()), prob_of_space"
   ]
  },
  {
   "cell_type": "code",
   "execution_count": null,
   "metadata": {},
   "outputs": [],
   "source": []
  }
 ],
 "metadata": {
  "kernelspec": {
   "display_name": "tf_210",
   "language": "python",
   "name": "python3"
  },
  "language_info": {
   "codemirror_mode": {
    "name": "ipython",
    "version": 3
   },
   "file_extension": ".py",
   "mimetype": "text/x-python",
   "name": "python",
   "nbconvert_exporter": "python",
   "pygments_lexer": "ipython3",
   "version": "3.8.10"
  },
  "orig_nbformat": 4,
  "vscode": {
   "interpreter": {
    "hash": "4c2409f7cd36a60864259fe7c86cc6f7edd5e2a0604f36f600c4aba8b227f5d5"
   }
  }
 },
 "nbformat": 4,
 "nbformat_minor": 2
}
