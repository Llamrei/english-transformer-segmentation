{
 "cells": [
  {
   "cell_type": "code",
   "execution_count": 1,
   "metadata": {},
   "outputs": [
    {
     "name": "stderr",
     "output_type": "stream",
     "text": [
      "2023-02-20 17:50:59.696173: I tensorflow/core/platform/cpu_feature_guard.cc:193] This TensorFlow binary is optimized with oneAPI Deep Neural Network Library (oneDNN) to use the following CPU instructions in performance-critical operations:  AVX2 AVX512F AVX512_VNNI FMA\n",
      "To enable them in other operations, rebuild TensorFlow with the appropriate compiler flags.\n",
      "2023-02-20 17:50:59.855692: I tensorflow/core/util/util.cc:169] oneDNN custom operations are on. You may see slightly different numerical results due to floating-point round-off errors from different computation orders. To turn them off, set the environment variable `TF_ENABLE_ONEDNN_OPTS=0`.\n",
      "2023-02-20 17:50:59.892335: E tensorflow/stream_executor/cuda/cuda_blas.cc:2981] Unable to register cuBLAS factory: Attempting to register factory for plugin cuBLAS when one has already been registered\n",
      "2023-02-20 17:51:00.564863: W tensorflow/stream_executor/platform/default/dso_loader.cc:64] Could not load dynamic library 'libnvinfer.so.7'; dlerror: libnvinfer.so.7: cannot open shared object file: No such file or directory\n",
      "2023-02-20 17:51:00.564919: W tensorflow/stream_executor/platform/default/dso_loader.cc:64] Could not load dynamic library 'libnvinfer_plugin.so.7'; dlerror: libnvinfer_plugin.so.7: cannot open shared object file: No such file or directory\n",
      "2023-02-20 17:51:00.564926: W tensorflow/compiler/tf2tensorrt/utils/py_utils.cc:38] TF-TRT Warning: Cannot dlopen some TensorRT libraries. If you would like to use Nvidia GPU with TensorRT, please make sure the missing libraries mentioned above are installed properly.\n"
     ]
    }
   ],
   "source": [
    "import logging\n",
    "import tensorflow as tf\n",
    "\n",
    "\n",
    "GPU_FROM = 0\n",
    "GPU_TO = 1\n",
    "\n",
    "visible_devices = tf.config.get_visible_devices('GPU')\n",
    "logging.info(f\"Num GPUs visible:{len(visible_devices)}\")\n",
    "tf.config.set_visible_devices(visible_devices[GPU_FROM:GPU_TO],'GPU')\n",
    "\n",
    "visible_devices = tf.config.get_visible_devices('GPU')\n",
    "logging.info(f\"Num GPUs to be used: {len(visible_devices)}\")"
   ]
  },
  {
   "cell_type": "code",
   "execution_count": 2,
   "metadata": {},
   "outputs": [
    {
     "name": "stderr",
     "output_type": "stream",
     "text": [
      "2023-02-20 17:51:01.362693: I tensorflow/core/platform/cpu_feature_guard.cc:193] This TensorFlow binary is optimized with oneAPI Deep Neural Network Library (oneDNN) to use the following CPU instructions in performance-critical operations:  AVX2 AVX512F AVX512_VNNI FMA\n",
      "To enable them in other operations, rebuild TensorFlow with the appropriate compiler flags.\n",
      "2023-02-20 17:51:02.043448: I tensorflow/core/common_runtime/gpu/gpu_device.cc:1616] Created device /job:localhost/replica:0/task:0/device:GPU:0 with 22296 MB memory:  -> device: 0, name: GeForce RTX 3090, pci bus id: 0000:3b:00.0, compute capability: 8.6\n"
     ]
    },
    {
     "data": {
      "text/plain": [
       "(((TensorSpec(shape=(None,), dtype=tf.string, name=None), NoneTensorSpec()),\n",
       "  TensorSpec(shape=(None, 100), dtype=tf.float16, name=None)),\n",
       " ((TensorSpec(shape=(None,), dtype=tf.string, name=None), NoneTensorSpec()),\n",
       "  TensorSpec(shape=(None, 100), dtype=tf.float16, name=None)))"
      ]
     },
     "execution_count": 2,
     "metadata": {},
     "output_type": "execute_result"
    }
   ],
   "source": [
    "\n",
    "\n",
    "from segmentation.model import SpaceSegmentationTransformer\n",
    "from segmentation.model import LossWithVoids\n",
    "\n",
    "data = tf.random.stateless_binomial(shape=(10000, 100), counts=1, probs=0.8, seed=[1997,1997]) + 1\n",
    "train_frac = int(data.shape[0]*3/4)\n",
    "\n",
    "train_ds, val_ds = tf.data.Dataset.from_tensor_slices(data[:train_frac]), tf.data.Dataset.from_tensor_slices(data[train_frac:])\n",
    "\n",
    "def mapper(y):\n",
    "    x = tf.strings.as_string(y+4) # 5 -> char, 6-> space; 80%spaces\n",
    "    x = tf.strings.reduce_join(x, axis=-1)\n",
    "    return (x, None), tf.cast(y, \"float16\")\n",
    "\n",
    "train_ds = train_ds.map(mapper).shuffle(100).batch(8)\n",
    "val_ds = val_ds.map(mapper).batch(8)\n",
    "\n",
    "train_ds.element_spec, val_ds.element_spec"
   ]
  },
  {
   "cell_type": "code",
   "execution_count": 3,
   "metadata": {},
   "outputs": [
    {
     "data": {
      "text/plain": [
       "['', '[UNK]', '6', '5']"
      ]
     },
     "execution_count": 3,
     "metadata": {},
     "output_type": "execute_result"
    }
   ],
   "source": [
    "tokenizer = tf.keras.layers.TextVectorization(\n",
    "    output_sequence_length=100,\n",
    "    standardize=\"lower_and_strip_punctuation\",\n",
    "    split=\"character\",\n",
    "    output_mode=\"int\",\n",
    ")\n",
    "\n",
    "tokenizer.adapt(train_ds.map(lambda x,y: x[0]))\n",
    "tokenizer.get_vocabulary()"
   ]
  },
  {
   "cell_type": "code",
   "execution_count": 4,
   "metadata": {},
   "outputs": [
    {
     "name": "stdout",
     "output_type": "stream",
     "text": [
      "((<tf.Tensor: shape=(8,), dtype=string, numpy=\n",
      "array([b'6666566665666666656666566566666666666666566566666656666566666665555656666566665566666656666666666666',\n",
      "       b'6666655556566666665656666655666666665666666666666666666665666655666666666566666656665665665565656555',\n",
      "       b'5656666666666666665666566666656656566666566666666666665556566665666666666665666666665656656666656656',\n",
      "       b'6665666566656566665566556566666666666656656666656656566665666666656666666566565656556566665666666666',\n",
      "       b'6666665566666666656666556666665666666665666566566656666666666666665665566666666666665666565666656666',\n",
      "       b'5565666656665656566666566665566666566665666665566566666666666566666565566565565565666666665666666655',\n",
      "       b'6665666666666666565566666665666666665656666566666565655556556656656665565666566656666656666656666566',\n",
      "       b'6665666665666666566566566656666666666666666566566666666666566665666666656665666665656666666666666665'],\n",
      "      dtype=object)>, None), <tf.Tensor: shape=(8, 100), dtype=float16, numpy=\n",
      "array([[2., 2., 2., 2., 1., 2., 2., 2., 2., 1., 2., 2., 2., 2., 2., 2.,\n",
      "        2., 1., 2., 2., 2., 2., 1., 2., 2., 1., 2., 2., 2., 2., 2., 2.,\n",
      "        2., 2., 2., 2., 2., 2., 2., 2., 1., 2., 2., 1., 2., 2., 2., 2.,\n",
      "        2., 2., 1., 2., 2., 2., 2., 1., 2., 2., 2., 2., 2., 2., 2., 1.,\n",
      "        1., 1., 1., 2., 1., 2., 2., 2., 2., 1., 2., 2., 2., 2., 1., 1.,\n",
      "        2., 2., 2., 2., 2., 2., 1., 2., 2., 2., 2., 2., 2., 2., 2., 2.,\n",
      "        2., 2., 2., 2.],\n",
      "       [2., 2., 2., 2., 2., 1., 1., 1., 1., 2., 1., 2., 2., 2., 2., 2.,\n",
      "        2., 2., 1., 2., 1., 2., 2., 2., 2., 2., 1., 1., 2., 2., 2., 2.,\n",
      "        2., 2., 2., 2., 1., 2., 2., 2., 2., 2., 2., 2., 2., 2., 2., 2.,\n",
      "        2., 2., 2., 2., 2., 2., 2., 2., 2., 1., 2., 2., 2., 2., 1., 1.,\n",
      "        2., 2., 2., 2., 2., 2., 2., 2., 2., 1., 2., 2., 2., 2., 2., 2.,\n",
      "        1., 2., 2., 2., 1., 2., 2., 1., 2., 2., 1., 1., 2., 1., 2., 1.,\n",
      "        2., 1., 1., 1.],\n",
      "       [1., 2., 1., 2., 2., 2., 2., 2., 2., 2., 2., 2., 2., 2., 2., 2.,\n",
      "        2., 2., 1., 2., 2., 2., 1., 2., 2., 2., 2., 2., 2., 1., 2., 2.,\n",
      "        1., 2., 1., 2., 2., 2., 2., 2., 1., 2., 2., 2., 2., 2., 2., 2.,\n",
      "        2., 2., 2., 2., 2., 2., 1., 1., 1., 2., 1., 2., 2., 2., 2., 1.,\n",
      "        2., 2., 2., 2., 2., 2., 2., 2., 2., 2., 2., 1., 2., 2., 2., 2.,\n",
      "        2., 2., 2., 2., 1., 2., 1., 2., 2., 1., 2., 2., 2., 2., 2., 1.,\n",
      "        2., 2., 1., 2.],\n",
      "       [2., 2., 2., 1., 2., 2., 2., 1., 2., 2., 2., 1., 2., 1., 2., 2.,\n",
      "        2., 2., 1., 1., 2., 2., 1., 1., 2., 1., 2., 2., 2., 2., 2., 2.,\n",
      "        2., 2., 2., 2., 2., 2., 1., 2., 2., 1., 2., 2., 2., 2., 2., 1.,\n",
      "        2., 2., 1., 2., 1., 2., 2., 2., 2., 1., 2., 2., 2., 2., 2., 2.,\n",
      "        2., 1., 2., 2., 2., 2., 2., 2., 2., 1., 2., 2., 1., 2., 1., 2.,\n",
      "        1., 2., 1., 1., 2., 1., 2., 2., 2., 2., 1., 2., 2., 2., 2., 2.,\n",
      "        2., 2., 2., 2.],\n",
      "       [2., 2., 2., 2., 2., 2., 1., 1., 2., 2., 2., 2., 2., 2., 2., 2.,\n",
      "        2., 1., 2., 2., 2., 2., 1., 1., 2., 2., 2., 2., 2., 2., 1., 2.,\n",
      "        2., 2., 2., 2., 2., 2., 2., 1., 2., 2., 2., 1., 2., 2., 1., 2.,\n",
      "        2., 2., 1., 2., 2., 2., 2., 2., 2., 2., 2., 2., 2., 2., 2., 2.,\n",
      "        2., 2., 1., 2., 2., 1., 1., 2., 2., 2., 2., 2., 2., 2., 2., 2.,\n",
      "        2., 2., 2., 2., 1., 2., 2., 2., 1., 2., 1., 2., 2., 2., 2., 1.,\n",
      "        2., 2., 2., 2.],\n",
      "       [1., 1., 2., 1., 2., 2., 2., 2., 1., 2., 2., 2., 1., 2., 1., 2.,\n",
      "        1., 2., 2., 2., 2., 2., 1., 2., 2., 2., 2., 1., 1., 2., 2., 2.,\n",
      "        2., 2., 1., 2., 2., 2., 2., 1., 2., 2., 2., 2., 2., 1., 1., 2.,\n",
      "        2., 1., 2., 2., 2., 2., 2., 2., 2., 2., 2., 2., 2., 1., 2., 2.,\n",
      "        2., 2., 2., 1., 2., 1., 1., 2., 2., 1., 2., 1., 1., 2., 1., 1.,\n",
      "        2., 1., 2., 2., 2., 2., 2., 2., 2., 2., 1., 2., 2., 2., 2., 2.,\n",
      "        2., 2., 1., 1.],\n",
      "       [2., 2., 2., 1., 2., 2., 2., 2., 2., 2., 2., 2., 2., 2., 2., 2.,\n",
      "        1., 2., 1., 1., 2., 2., 2., 2., 2., 2., 2., 1., 2., 2., 2., 2.,\n",
      "        2., 2., 2., 2., 1., 2., 1., 2., 2., 2., 2., 1., 2., 2., 2., 2.,\n",
      "        2., 1., 2., 1., 2., 1., 1., 1., 1., 2., 1., 1., 2., 2., 1., 2.,\n",
      "        2., 1., 2., 2., 2., 1., 1., 2., 1., 2., 2., 2., 1., 2., 2., 2.,\n",
      "        1., 2., 2., 2., 2., 2., 1., 2., 2., 2., 2., 2., 1., 2., 2., 2.,\n",
      "        2., 1., 2., 2.],\n",
      "       [2., 2., 2., 1., 2., 2., 2., 2., 2., 1., 2., 2., 2., 2., 2., 2.,\n",
      "        1., 2., 2., 1., 2., 2., 1., 2., 2., 2., 1., 2., 2., 2., 2., 2.,\n",
      "        2., 2., 2., 2., 2., 2., 2., 2., 2., 2., 2., 1., 2., 2., 1., 2.,\n",
      "        2., 2., 2., 2., 2., 2., 2., 2., 2., 2., 1., 2., 2., 2., 2., 1.,\n",
      "        2., 2., 2., 2., 2., 2., 2., 1., 2., 2., 2., 1., 2., 2., 2., 2.,\n",
      "        2., 1., 2., 1., 2., 2., 2., 2., 2., 2., 2., 2., 2., 2., 2., 2.,\n",
      "        2., 2., 2., 1.]], dtype=float16)>)\n"
     ]
    }
   ],
   "source": [
    "for x in train_ds.take(1):\n",
    "    print(x)"
   ]
  },
  {
   "cell_type": "code",
   "execution_count": 5,
   "metadata": {},
   "outputs": [
    {
     "data": {
      "text/plain": [
       "<tf.Tensor: shape=(100,), dtype=int64, numpy=\n",
       "array([3, 3, 3, 2, 2, 2, 3, 0, 0, 0, 0, 0, 0, 0, 0, 0, 0, 0, 0, 0, 0, 0,\n",
       "       0, 0, 0, 0, 0, 0, 0, 0, 0, 0, 0, 0, 0, 0, 0, 0, 0, 0, 0, 0, 0, 0,\n",
       "       0, 0, 0, 0, 0, 0, 0, 0, 0, 0, 0, 0, 0, 0, 0, 0, 0, 0, 0, 0, 0, 0,\n",
       "       0, 0, 0, 0, 0, 0, 0, 0, 0, 0, 0, 0, 0, 0, 0, 0, 0, 0, 0, 0, 0, 0,\n",
       "       0, 0, 0, 0, 0, 0, 0, 0, 0, 0, 0, 0])>"
      ]
     },
     "execution_count": 5,
     "metadata": {},
     "output_type": "execute_result"
    }
   ],
   "source": [
    "tokenizer(\"5556665\")"
   ]
  },
  {
   "cell_type": "code",
   "execution_count": 6,
   "metadata": {},
   "outputs": [],
   "source": [
    "model = SpaceSegmentationTransformer(\n",
    "    num_layers=2,\n",
    "    d_model=512,\n",
    "    num_attention_heads=3,\n",
    "    seq_len=100,\n",
    "    dff=1028,\n",
    "    input_tokenizer=tokenizer,\n",
    "    dropout_rate=0.1,\n",
    "    num_classes=3,\n",
    ")"
   ]
  },
  {
   "cell_type": "code",
   "execution_count": 7,
   "metadata": {},
   "outputs": [],
   "source": [
    "from segmentation.metrics import SparseAccuracyWithIgnore\n",
    "from segmentation.metrics import SparsePrecision\n",
    "from segmentation.metrics import SparseRecall\n",
    "from segmentation.metrics import SparseF1\n",
    "from segmentation.model import LossWithVoids\n",
    "\n",
    "model.compile(\n",
    "    optimizer=\"adam\",\n",
    "    loss=tf.keras.losses.SparseCategoricalCrossentropy(from_logits=False), # Why can I not ignore class 0?\n",
    "    metrics=[\n",
    "        SparseAccuracyWithIgnore(ignore_token=0),\n",
    "        SparsePrecision(class_id=2, name=\"space_precision\"),\n",
    "        SparseRecall(class_id=2, name=\"space_recall\"),\n",
    "        SparseF1(class_id=2, name=\"space_f1\"),\n",
    "        SparsePrecision(class_id=1, name=\"char_precision\"),\n",
    "        SparseRecall(class_id=1, name=\"char_recall\"),\n",
    "        SparseF1(class_id=1, name=\"char_f1\"),\n",
    "    ],\n",
    ")"
   ]
  },
  {
   "cell_type": "code",
   "execution_count": 8,
   "metadata": {},
   "outputs": [
    {
     "name": "stdout",
     "output_type": "stream",
     "text": [
      "Epoch 1/2\n",
      " 10/938 [..............................] - ETA: 18s - loss: 1.6368 - sparse_categorical_accuracy: 0.7241 - space_precision: 0.8497 - space_recall: 0.8100 - space_f1: 0.8294 - char_precision: 0.3676 - char_recall: 0.3932 - char_f1: 0.3799  "
     ]
    },
    {
     "name": "stderr",
     "output_type": "stream",
     "text": [
      "2023-02-20 17:51:11.150388: I tensorflow/stream_executor/cuda/cuda_blas.cc:1614] TensorFloat-32 will be used for the matrix multiplication. This will only be logged once.\n"
     ]
    },
    {
     "name": "stdout",
     "output_type": "stream",
     "text": [
      "938/938 [==============================] - 28s 25ms/step - loss: 0.0205 - sparse_categorical_accuracy: 0.9956 - space_precision: 0.9974 - space_recall: 0.9973 - space_f1: 0.9973 - char_precision: 0.9897 - char_recall: 0.9888 - char_f1: 0.9893 - val_loss: 0.0000e+00 - val_sparse_categorical_accuracy: 1.0000 - val_space_precision: 1.0000 - val_space_recall: 1.0000 - val_space_f1: 1.0000 - val_char_precision: 1.0000 - val_char_recall: 1.0000 - val_char_f1: 1.0000\n",
      "Epoch 2/2\n",
      "938/938 [==============================] - 23s 24ms/step - loss: 1.2369e-07 - sparse_categorical_accuracy: 1.0000 - space_precision: 1.0000 - space_recall: 1.0000 - space_f1: 1.0000 - char_precision: 1.0000 - char_recall: 1.0000 - char_f1: 1.0000 - val_loss: 0.0000e+00 - val_sparse_categorical_accuracy: 1.0000 - val_space_precision: 1.0000 - val_space_recall: 1.0000 - val_space_f1: 1.0000 - val_char_precision: 1.0000 - val_char_recall: 1.0000 - val_char_f1: 1.0000\n",
      "Model: \"space_segmentation_transformer\"\n",
      "_________________________________________________________________\n",
      " Layer (type)                Output Shape              Param #   \n",
      "=================================================================\n",
      " encoder (Encoder)           multiple                  8416264   \n",
      "                                                                 \n",
      " text_vectorization (TextVec  multiple                 0         \n",
      " torization)                                                     \n",
      "                                                                 \n",
      " dense_4 (Dense)             multiple                  1539      \n",
      "                                                                 \n",
      "=================================================================\n",
      "Total params: 8,417,803\n",
      "Trainable params: 8,417,803\n",
      "Non-trainable params: 0\n",
      "_________________________________________________________________\n"
     ]
    }
   ],
   "source": [
    "model.fit(train_ds, validation_data=val_ds, epochs=2)\n",
    "model.summary()"
   ]
  },
  {
   "cell_type": "code",
   "execution_count": 9,
   "metadata": {},
   "outputs": [
    {
     "name": "stdout",
     "output_type": "stream",
     "text": [
      "313/313 [==============================] - 4s 12ms/step - loss: 0.0000e+00 - sparse_categorical_accuracy: 1.0000 - space_precision: 1.0000 - space_recall: 1.0000 - space_f1: 1.0000 - char_precision: 1.0000 - char_recall: 1.0000 - char_f1: 1.0000\n"
     ]
    },
    {
     "data": {
      "text/plain": [
       "[0.0, 1.0, 1.0, 1.0, 1.0, 1.0, 1.0, 1.0]"
      ]
     },
     "execution_count": 9,
     "metadata": {},
     "output_type": "execute_result"
    }
   ],
   "source": [
    "model.evaluate(val_ds)"
   ]
  },
  {
   "cell_type": "code",
   "execution_count": 10,
   "metadata": {},
   "outputs": [
    {
     "data": {
      "text/plain": [
       "<tf.Tensor: shape=(4, 100), dtype=int64, numpy=\n",
       "array([[1, 1, 1, 1, 1, 1, 1, 1, 1, 1, 1, 1, 1, 1, 1, 1, 1, 1, 1, 1, 1, 1,\n",
       "        1, 1, 1, 1, 1, 1, 1, 1, 1, 1, 1, 1, 1, 1, 1, 1, 1, 1, 1, 1, 1, 1,\n",
       "        1, 1, 1, 1, 1, 1, 1, 1, 1, 1, 1, 1, 1, 1, 1, 1, 1, 1, 1, 1, 1, 1,\n",
       "        1, 1, 1, 1, 1, 1, 1, 1, 1, 1, 1, 1, 1, 1, 1, 1, 1, 1, 1, 1, 1, 1,\n",
       "        1, 1, 1, 1, 1, 1, 1, 1, 1, 1, 1, 1],\n",
       "       [2, 2, 2, 2, 1, 2, 2, 2, 2, 2, 2, 2, 2, 2, 2, 2, 2, 2, 2, 2, 2, 2,\n",
       "        2, 2, 2, 2, 2, 2, 2, 2, 2, 2, 2, 2, 2, 2, 2, 2, 2, 2, 2, 2, 2, 2,\n",
       "        2, 2, 2, 2, 2, 2, 2, 2, 2, 2, 2, 2, 2, 2, 2, 2, 2, 2, 2, 2, 2, 2,\n",
       "        2, 2, 2, 2, 2, 2, 2, 2, 2, 2, 2, 2, 2, 2, 2, 2, 2, 2, 2, 2, 2, 2,\n",
       "        2, 2, 2, 2, 2, 2, 2, 2, 2, 2, 2, 2],\n",
       "       [1, 1, 1, 2, 2, 2, 1, 2, 2, 2, 2, 2, 2, 2, 2, 2, 2, 2, 2, 2, 2, 2,\n",
       "        2, 2, 2, 2, 2, 2, 2, 2, 2, 2, 2, 2, 2, 2, 2, 2, 2, 2, 2, 2, 2, 2,\n",
       "        2, 2, 2, 2, 2, 2, 2, 2, 2, 2, 2, 2, 2, 2, 2, 2, 2, 2, 2, 2, 2, 2,\n",
       "        2, 2, 2, 2, 2, 2, 2, 2, 2, 2, 2, 2, 2, 2, 2, 2, 2, 2, 2, 2, 2, 2,\n",
       "        2, 2, 2, 2, 2, 2, 2, 2, 2, 2, 2, 2],\n",
       "       [1, 2, 1, 2, 1, 2, 2, 1, 2, 1, 2, 2, 2, 2, 2, 2, 2, 2, 2, 2, 2, 2,\n",
       "        2, 2, 2, 2, 2, 2, 2, 2, 2, 2, 2, 2, 2, 2, 2, 2, 2, 2, 2, 2, 2, 2,\n",
       "        2, 2, 2, 2, 2, 2, 2, 2, 2, 2, 2, 2, 2, 2, 2, 2, 2, 2, 2, 2, 2, 2,\n",
       "        2, 2, 2, 2, 2, 2, 2, 2, 2, 2, 2, 2, 2, 2, 2, 2, 2, 2, 2, 2, 2, 2,\n",
       "        2, 2, 2, 2, 2, 2, 2, 2, 2, 2, 2, 2]])>"
      ]
     },
     "execution_count": 10,
     "metadata": {},
     "output_type": "execute_result"
    }
   ],
   "source": [
    "preds = model([(\"66666\", \"66665\", \"5556665\", \"56565665656\"),(None,None, None, None)])\n",
    "tf.argmax(preds, axis=-1)"
   ]
  },
  {
   "cell_type": "code",
   "execution_count": null,
   "metadata": {},
   "outputs": [],
   "source": []
  }
 ],
 "metadata": {
  "kernelspec": {
   "display_name": "tf_210",
   "language": "python",
   "name": "python3"
  },
  "language_info": {
   "codemirror_mode": {
    "name": "ipython",
    "version": 3
   },
   "file_extension": ".py",
   "mimetype": "text/x-python",
   "name": "python",
   "nbconvert_exporter": "python",
   "pygments_lexer": "ipython3",
   "version": "3.8.10"
  },
  "orig_nbformat": 4,
  "vscode": {
   "interpreter": {
    "hash": "4c2409f7cd36a60864259fe7c86cc6f7edd5e2a0604f36f600c4aba8b227f5d5"
   }
  }
 },
 "nbformat": 4,
 "nbformat_minor": 2
}
