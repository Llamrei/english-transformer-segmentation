{
 "cells": [
  {
   "cell_type": "code",
   "execution_count": 1,
   "metadata": {},
   "outputs": [
    {
     "name": "stderr",
     "output_type": "stream",
     "text": [
      "2023-02-21 17:44:24.505464: I tensorflow/core/platform/cpu_feature_guard.cc:193] This TensorFlow binary is optimized with oneAPI Deep Neural Network Library (oneDNN) to use the following CPU instructions in performance-critical operations:  AVX2 AVX512F AVX512_VNNI FMA\n",
      "To enable them in other operations, rebuild TensorFlow with the appropriate compiler flags.\n",
      "2023-02-21 17:44:24.669122: I tensorflow/core/util/util.cc:169] oneDNN custom operations are on. You may see slightly different numerical results due to floating-point round-off errors from different computation orders. To turn them off, set the environment variable `TF_ENABLE_ONEDNN_OPTS=0`.\n",
      "2023-02-21 17:44:24.705832: E tensorflow/stream_executor/cuda/cuda_blas.cc:2981] Unable to register cuBLAS factory: Attempting to register factory for plugin cuBLAS when one has already been registered\n",
      "2023-02-21 17:44:25.352547: W tensorflow/stream_executor/platform/default/dso_loader.cc:64] Could not load dynamic library 'libnvinfer.so.7'; dlerror: libnvinfer.so.7: cannot open shared object file: No such file or directory\n",
      "2023-02-21 17:44:25.352611: W tensorflow/stream_executor/platform/default/dso_loader.cc:64] Could not load dynamic library 'libnvinfer_plugin.so.7'; dlerror: libnvinfer_plugin.so.7: cannot open shared object file: No such file or directory\n",
      "2023-02-21 17:44:25.352617: W tensorflow/compiler/tf2tensorrt/utils/py_utils.cc:38] TF-TRT Warning: Cannot dlopen some TensorRT libraries. If you would like to use Nvidia GPU with TensorRT, please make sure the missing libraries mentioned above are installed properly.\n"
     ]
    }
   ],
   "source": [
    "import logging\n",
    "import tensorflow as tf\n",
    "\n",
    "\n",
    "GPU_FROM = 3\n",
    "GPU_TO = 4  \n",
    "\n",
    "visible_devices = tf.config.get_visible_devices('GPU')\n",
    "logging.info(f\"Num GPUs visible:{len(visible_devices)}\")\n",
    "tf.config.set_visible_devices(visible_devices[GPU_FROM:GPU_TO],'GPU')\n",
    "\n",
    "visible_devices = tf.config.get_visible_devices('GPU')\n",
    "logging.info(f\"Num GPUs to be used: {len(visible_devices)}\")"
   ]
  },
  {
   "cell_type": "code",
   "execution_count": 2,
   "metadata": {},
   "outputs": [
    {
     "name": "stdout",
     "output_type": "stream",
     "text": [
      "tf.Tensor(b'55555', shape=(), dtype=string)\n",
      "tf.Tensor(b'45 555', shape=(), dtype=string)\n",
      "tf.Tensor(b'55554', shape=(), dtype=string)\n",
      "tf.Tensor(b'45 555', shape=(), dtype=string)\n",
      "tf.Tensor(b'5445 5', shape=(), dtype=string)\n"
     ]
    },
    {
     "name": "stderr",
     "output_type": "stream",
     "text": [
      "2023-02-21 17:44:27.372042: I tensorflow/core/platform/cpu_feature_guard.cc:193] This TensorFlow binary is optimized with oneAPI Deep Neural Network Library (oneDNN) to use the following CPU instructions in performance-critical operations:  AVX2 AVX512F AVX512_VNNI FMA\n",
      "To enable them in other operations, rebuild TensorFlow with the appropriate compiler flags.\n",
      "2023-02-21 17:44:28.082872: I tensorflow/core/common_runtime/gpu/gpu_device.cc:1616] Created device /job:localhost/replica:0/task:0/device:GPU:0 with 22296 MB memory:  -> device: 3, name: GeForce RTX 3090, pci bus id: 0000:d8:00.0, compute capability: 8.6\n"
     ]
    }
   ],
   "source": [
    "\n",
    "from segmentation.model import SpaceSegmentationTransformer\n",
    "from segmentation.model import LossWithVoids\n",
    "GLOBAL_MAX_SEQ_LEN = 5\n",
    "data = tf.random.stateless_binomial(shape=(10000, GLOBAL_MAX_SEQ_LEN), counts=1, probs=0.8, seed=[1997,1997])+1\n",
    "train_frac = int(data.shape[0]*3/4)\n",
    "\n",
    "train_ds, val_ds = tf.data.Dataset.from_tensor_slices(data[:train_frac]), tf.data.Dataset.from_tensor_slices(data[train_frac:])\n",
    "\n",
    "def mapper(y):\n",
    "    x = tf.strings.as_string(y+3)\n",
    "    x = tf.strings.reduce_join(x, axis=-1)\n",
    "    return tf.strings.regex_replace(x, \"(45)\", r\"\\1 \")\n",
    "\n",
    "train_ds = train_ds.map(mapper)\n",
    "val_ds = val_ds.map(mapper)\n",
    "\n",
    "for f in train_ds.take(5):\n",
    "    print(f)"
   ]
  },
  {
   "cell_type": "code",
   "execution_count": 3,
   "metadata": {},
   "outputs": [],
   "source": [
    "def generate_labels(text):\n",
    "    max_chars = GLOBAL_MAX_SEQ_LEN\n",
    "    last_char = tf.strings.substr(text, max_chars, max_chars+1)\n",
    "    text = tf.strings.substr(text,0, max_chars)\n",
    "    text = tf.strings.lower(text)\n",
    "    split_on_whitespace = tf.strings.strip(tf.strings.split(text))\n",
    "    encoder_in = tf.strings.reduce_join(split_on_whitespace, axis=-1)\n",
    "    \n",
    "    space_indices = tf.math.cumsum(tf.strings.length(split_on_whitespace)) - 1 # subtract 1 to index from 0\n",
    "    seq_len = space_indices[-1] + 1\n",
    "    if not tf.strings.regex_full_match(last_char, \" \"):\n",
    "        space_indices = space_indices[:-1]\n",
    "    encoder_out = tf.ones((max_chars,))\n",
    "    encoder_out = tf.concat([\n",
    "        tf.ones((seq_len,)),\n",
    "        tf.zeros((max_chars - seq_len,))\n",
    "    ], axis=-1)\n",
    "    encoder_out = tf.tensor_scatter_nd_update(\n",
    "        encoder_out, \n",
    "        space_indices[...,tf.newaxis], # Expand dims to create a 'list' of indices\n",
    "        tf.ones_like(space_indices, dtype=encoder_out.dtype)*2) \n",
    "    \n",
    "    return (encoder_in, None), tf.cast(encoder_out, \"float16\")\n",
    "\n",
    "train_ds = train_ds.map(generate_labels)\n",
    "val_ds = val_ds.map(generate_labels)"
   ]
  },
  {
   "cell_type": "code",
   "execution_count": 4,
   "metadata": {},
   "outputs": [
    {
     "name": "stdout",
     "output_type": "stream",
     "text": [
      "((<tf.Tensor: shape=(), dtype=string, numpy=b'55555'>, None), <tf.Tensor: shape=(5,), dtype=float16, numpy=array([1., 1., 1., 1., 1.], dtype=float16)>)\n",
      "((<tf.Tensor: shape=(), dtype=string, numpy=b'4555'>, None), <tf.Tensor: shape=(5,), dtype=float16, numpy=array([1., 2., 1., 1., 0.], dtype=float16)>)\n",
      "((<tf.Tensor: shape=(), dtype=string, numpy=b'55554'>, None), <tf.Tensor: shape=(5,), dtype=float16, numpy=array([1., 1., 1., 1., 1.], dtype=float16)>)\n",
      "((<tf.Tensor: shape=(), dtype=string, numpy=b'4555'>, None), <tf.Tensor: shape=(5,), dtype=float16, numpy=array([1., 2., 1., 1., 0.], dtype=float16)>)\n"
     ]
    }
   ],
   "source": [
    "\n",
    "for f in train_ds.take(4):\n",
    "    print(f)"
   ]
  },
  {
   "cell_type": "code",
   "execution_count": 5,
   "metadata": {},
   "outputs": [
    {
     "data": {
      "text/plain": [
       "['', '[UNK]', '5', '4']"
      ]
     },
     "execution_count": 5,
     "metadata": {},
     "output_type": "execute_result"
    }
   ],
   "source": [
    "tokenizer = tf.keras.layers.TextVectorization(\n",
    "    output_sequence_length=GLOBAL_MAX_SEQ_LEN,\n",
    "    standardize=\"lower_and_strip_punctuation\",\n",
    "    split=\"character\",\n",
    "    output_mode=\"int\",\n",
    ")\n",
    "\n",
    "tokenizer.adapt(train_ds.take(10).map(lambda x,y: x[0]))\n",
    "tokenizer.get_vocabulary()"
   ]
  },
  {
   "cell_type": "code",
   "execution_count": 6,
   "metadata": {},
   "outputs": [
    {
     "data": {
      "text/plain": [
       "<tf.Tensor: shape=(5,), dtype=int64, numpy=array([3, 3, 3, 3, 3])>"
      ]
     },
     "execution_count": 6,
     "metadata": {},
     "output_type": "execute_result"
    }
   ],
   "source": [
    "tokenizer(\"44444455555\")"
   ]
  },
  {
   "cell_type": "code",
   "execution_count": 7,
   "metadata": {},
   "outputs": [],
   "source": [
    "model = SpaceSegmentationTransformer(\n",
    "    num_layers=2,\n",
    "    d_model=512,\n",
    "    num_attention_heads=3,\n",
    "    seq_len=5,\n",
    "    dff=1028,\n",
    "    input_tokenizer=tokenizer,\n",
    "    dropout_rate=0.1,\n",
    "    num_classes = 3\n",
    ")"
   ]
  },
  {
   "cell_type": "code",
   "execution_count": 8,
   "metadata": {},
   "outputs": [],
   "source": [
    "from segmentation.metrics import SparseAccuracyWithIgnore\n",
    "from segmentation.metrics import SparsePrecision\n",
    "from segmentation.metrics import SparseRecall\n",
    "from segmentation.metrics import SparseF1\n",
    "\n",
    "model.compile(\n",
    "    optimizer=\"adam\",\n",
    "    loss=tf.keras.losses.SparseCategoricalCrossentropy(from_logits=False, ignore_class=0), # Why can I not ignore class 0?\n",
    "    metrics=[\n",
    "        SparseAccuracyWithIgnore(ignore_token=0),\n",
    "        SparsePrecision(class_id=2, name=\"space_precision\"),\n",
    "        SparseRecall(class_id=2, name=\"space_recall\"),\n",
    "        SparseF1(class_id=2, name=\"space_f1\"),\n",
    "        SparsePrecision(class_id=1, name=\"char_precision\"),\n",
    "        SparseRecall(class_id=1, name=\"char_recall\"),\n",
    "        SparseF1(class_id=1, name=\"char_f1\"),\n",
    "    ]\n",
    ")"
   ]
  },
  {
   "cell_type": "code",
   "execution_count": 9,
   "metadata": {},
   "outputs": [
    {
     "name": "stdout",
     "output_type": "stream",
     "text": [
      "Epoch 1/10\n",
      "  7/938 [..............................] - ETA: 20s - loss: 1.4515 - sparse_categorical_accuracy: 0.7154 - space_precision: 0.0588 - space_recall: 0.1429 - space_f1: 0.0833 - char_precision: 0.8472 - char_recall: 0.7657 - char_f1: 0.8044   "
     ]
    },
    {
     "name": "stderr",
     "output_type": "stream",
     "text": [
      "2023-02-21 17:44:36.470023: I tensorflow/stream_executor/cuda/cuda_blas.cc:1614] TensorFloat-32 will be used for the matrix multiplication. This will only be logged once.\n"
     ]
    },
    {
     "name": "stdout",
     "output_type": "stream",
     "text": [
      "938/938 [==============================] - 30s 27ms/step - loss: 0.3282 - sparse_categorical_accuracy: 0.9022 - space_precision: 0.0617 - space_recall: 0.0015 - space_f1: 0.0030 - char_precision: 0.8221 - char_recall: 0.9974 - char_f1: 0.9013 - val_loss: 0.3176 - val_sparse_categorical_accuracy: 0.9056 - val_space_precision: 0.0000e+00 - val_space_recall: 0.0000e+00 - val_space_f1: nan - val_char_precision: 0.8252 - val_char_recall: 1.0000 - val_char_f1: 0.9042\n",
      "Epoch 2/10\n",
      "938/938 [==============================] - 24s 26ms/step - loss: 0.2951 - sparse_categorical_accuracy: 0.9041 - space_precision: 0.2500 - space_recall: 0.0015 - space_f1: 0.0030 - char_precision: 0.8222 - char_recall: 0.9995 - char_f1: 0.9022 - val_loss: 0.3155 - val_sparse_categorical_accuracy: 0.9056 - val_space_precision: 0.0000e+00 - val_space_recall: 0.0000e+00 - val_space_f1: nan - val_char_precision: 0.8252 - val_char_recall: 1.0000 - val_char_f1: 0.9042\n",
      "Epoch 3/10\n",
      "938/938 [==============================] - 24s 26ms/step - loss: 0.2865 - sparse_categorical_accuracy: 0.9043 - space_precision: 0.0000e+00 - space_recall: 0.0000e+00 - space_f1: nan - char_precision: 0.8221 - char_recall: 1.0000 - char_f1: 0.9024 - val_loss: 0.2357 - val_sparse_categorical_accuracy: 0.9056 - val_space_precision: 0.0000e+00 - val_space_recall: 0.0000e+00 - val_space_f1: nan - val_char_precision: 0.8252 - val_char_recall: 1.0000 - val_char_f1: 0.9042\n",
      "Epoch 4/10\n",
      "938/938 [==============================] - 24s 26ms/step - loss: 0.2603 - sparse_categorical_accuracy: 0.9043 - space_precision: 0.0000e+00 - space_recall: 0.0000e+00 - space_f1: nan - char_precision: 0.8221 - char_recall: 1.0000 - char_f1: 0.9024 - val_loss: 0.2739 - val_sparse_categorical_accuracy: 0.9056 - val_space_precision: 0.0000e+00 - val_space_recall: 0.0000e+00 - val_space_f1: nan - val_char_precision: 0.8252 - val_char_recall: 1.0000 - val_char_f1: 0.9042\n",
      "Epoch 5/10\n",
      "938/938 [==============================] - 24s 26ms/step - loss: 0.2914 - sparse_categorical_accuracy: 0.9043 - space_precision: 0.0000e+00 - space_recall: 0.0000e+00 - space_f1: nan - char_precision: 0.8221 - char_recall: 1.0000 - char_f1: 0.9024 - val_loss: 0.3176 - val_sparse_categorical_accuracy: 0.9056 - val_space_precision: 0.0000e+00 - val_space_recall: 0.0000e+00 - val_space_f1: nan - val_char_precision: 0.8252 - val_char_recall: 1.0000 - val_char_f1: 0.9042\n",
      "Epoch 6/10\n",
      "938/938 [==============================] - 24s 26ms/step - loss: 0.3154 - sparse_categorical_accuracy: 0.9043 - space_precision: 0.0000e+00 - space_recall: 0.0000e+00 - space_f1: nan - char_precision: 0.8221 - char_recall: 1.0000 - char_f1: 0.9024 - val_loss: 0.2820 - val_sparse_categorical_accuracy: 0.9056 - val_space_precision: 0.0000e+00 - val_space_recall: 0.0000e+00 - val_space_f1: nan - val_char_precision: 0.8252 - val_char_recall: 1.0000 - val_char_f1: 0.9042\n",
      "Epoch 7/10\n",
      "938/938 [==============================] - 24s 26ms/step - loss: 0.2932 - sparse_categorical_accuracy: 0.9043 - space_precision: 0.0000e+00 - space_recall: 0.0000e+00 - space_f1: nan - char_precision: 0.8221 - char_recall: 1.0000 - char_f1: 0.9024 - val_loss: 0.2656 - val_sparse_categorical_accuracy: 0.9056 - val_space_precision: 0.0000e+00 - val_space_recall: 0.0000e+00 - val_space_f1: nan - val_char_precision: 0.8252 - val_char_recall: 1.0000 - val_char_f1: 0.9042\n",
      "Epoch 8/10\n",
      "938/938 [==============================] - 24s 26ms/step - loss: 0.3194 - sparse_categorical_accuracy: 0.9043 - space_precision: 0.0000e+00 - space_recall: 0.0000e+00 - space_f1: nan - char_precision: 0.8221 - char_recall: 1.0000 - char_f1: 0.9024 - val_loss: 0.3172 - val_sparse_categorical_accuracy: 0.9056 - val_space_precision: 0.0000e+00 - val_space_recall: 0.0000e+00 - val_space_f1: nan - val_char_precision: 0.8252 - val_char_recall: 1.0000 - val_char_f1: 0.9042\n",
      "Epoch 9/10\n",
      "938/938 [==============================] - 24s 25ms/step - loss: 0.3195 - sparse_categorical_accuracy: 0.9043 - space_precision: 0.0000e+00 - space_recall: 0.0000e+00 - space_f1: nan - char_precision: 0.8221 - char_recall: 1.0000 - char_f1: 0.9024 - val_loss: 0.3160 - val_sparse_categorical_accuracy: 0.9056 - val_space_precision: 0.0000e+00 - val_space_recall: 0.0000e+00 - val_space_f1: nan - val_char_precision: 0.8252 - val_char_recall: 1.0000 - val_char_f1: 0.9042\n",
      "Epoch 10/10\n",
      "938/938 [==============================] - 24s 26ms/step - loss: 0.3188 - sparse_categorical_accuracy: 0.9043 - space_precision: 0.0000e+00 - space_recall: 0.0000e+00 - space_f1: nan - char_precision: 0.8221 - char_recall: 1.0000 - char_f1: 0.9024 - val_loss: 0.3150 - val_sparse_categorical_accuracy: 0.9056 - val_space_precision: 0.0000e+00 - val_space_recall: 0.0000e+00 - val_space_f1: nan - val_char_precision: 0.8252 - val_char_recall: 1.0000 - val_char_f1: 0.9042\n"
     ]
    },
    {
     "data": {
      "text/plain": [
       "<keras.callbacks.History at 0x7f8a00735a30>"
      ]
     },
     "execution_count": 9,
     "metadata": {},
     "output_type": "execute_result"
    }
   ],
   "source": [
    "train_ds = train_ds.shuffle(100).batch(8)\n",
    "val_ds = val_ds.batch(8)\n",
    "\n",
    "model.fit(train_ds, validation_data=val_ds, epochs=10)"
   ]
  },
  {
   "cell_type": "code",
   "execution_count": 10,
   "metadata": {},
   "outputs": [
    {
     "name": "stdout",
     "output_type": "stream",
     "text": [
      "313/313 [==============================] - 4s 13ms/step - loss: 0.3150 - sparse_categorical_accuracy: 0.9056 - space_precision: 0.0000e+00 - space_recall: 0.0000e+00 - space_f1: nan - char_precision: 0.8252 - char_recall: 1.0000 - char_f1: 0.9042\n"
     ]
    },
    {
     "data": {
      "text/plain": [
       "[0.3150320053100586,\n",
       " 0.9056189656257629,\n",
       " 0.0,\n",
       " 0.0,\n",
       " nan,\n",
       " 0.8252000212669373,\n",
       " 1.0,\n",
       " 0.9042296409606934]"
      ]
     },
     "execution_count": 10,
     "metadata": {},
     "output_type": "execute_result"
    }
   ],
   "source": [
    "model.evaluate(val_ds)"
   ]
  },
  {
   "cell_type": "code",
   "execution_count": 11,
   "metadata": {},
   "outputs": [],
   "source": [
    "test_inputs = [(\"45455\", \"45444\", \"55555\"),(None,None, None)]\n",
    "preds = model(test_inputs)\n",
    "truth = tf.ragged.constant([[1,2,1,2,1], [1,2,1,1,1], [1,1,1,1,1]])\n",
    "char_conditional = (truth == 1).to_tensor(False, shape=(truth.shape[0],GLOBAL_MAX_SEQ_LEN))\n",
    "space_conditional = (truth == 2).to_tensor(False, shape=(truth.shape[0],GLOBAL_MAX_SEQ_LEN))"
   ]
  },
  {
   "cell_type": "code",
   "execution_count": 12,
   "metadata": {},
   "outputs": [
    {
     "data": {
      "text/plain": [
       "(<tf.Tensor: shape=(3, 5, 3), dtype=float32, numpy=\n",
       " array([[[2.0431006e-08, 9.0355819e-01, 9.6441776e-02],\n",
       "         [2.0428988e-08, 9.0355849e-01, 9.6441515e-02],\n",
       "         [2.0431006e-08, 9.0355819e-01, 9.6441776e-02],\n",
       "         [2.0428988e-08, 9.0355849e-01, 9.6441515e-02],\n",
       "         [2.0428988e-08, 9.0355849e-01, 9.6441515e-02]],\n",
       " \n",
       "        [[2.0370264e-08, 9.0355986e-01, 9.6440136e-02],\n",
       "         [2.0370384e-08, 9.0355992e-01, 9.6440032e-02],\n",
       "         [2.0370264e-08, 9.0355986e-01, 9.6440136e-02],\n",
       "         [2.0370264e-08, 9.0355986e-01, 9.6440136e-02],\n",
       "         [2.0370264e-08, 9.0355986e-01, 9.6440136e-02]],\n",
       " \n",
       "        [[2.0446921e-08, 9.0355164e-01, 9.6448347e-02],\n",
       "         [2.0446921e-08, 9.0355164e-01, 9.6448347e-02],\n",
       "         [2.0446921e-08, 9.0355164e-01, 9.6448347e-02],\n",
       "         [2.0446921e-08, 9.0355164e-01, 9.6448347e-02],\n",
       "         [2.0446882e-08, 9.0355164e-01, 9.6448347e-02]]], dtype=float32)>,\n",
       " <tf.Tensor: shape=(3, 5), dtype=int64, numpy=\n",
       " array([[1, 1, 1, 1, 1],\n",
       "        [1, 1, 1, 1, 1],\n",
       "        [1, 1, 1, 1, 1]])>)"
      ]
     },
     "execution_count": 12,
     "metadata": {},
     "output_type": "execute_result"
    }
   ],
   "source": [
    "preds, tf.argmax(preds, axis=-1)"
   ]
  },
  {
   "cell_type": "code",
   "execution_count": 17,
   "metadata": {},
   "outputs": [
    {
     "data": {
      "text/plain": [
       "Text(0.5, 0.98, 'Probabilities of space/char conditional on character input')"
      ]
     },
     "execution_count": 17,
     "metadata": {},
     "output_type": "execute_result"
    },
    {
     "data": {
      "image/png": "[encoded data removed]",
      "text/plain": [
       "<Figure size 640x480 with 2 Axes>"
      ]
     },
     "metadata": {},
     "output_type": "display_data"
    }
   ],
   "source": [
    "import matplotlib.pyplot as plt\n",
    "fig, axs = plt.subplots(1,2)\n",
    "prob_of_space = preds[char_conditional][...,2]\n",
    "prob_of_char = preds[char_conditional][...,1]\n",
    "axs[0].hist(prob_of_space)\n",
    "# axs[0].set_xlim(0,1)\n",
    "axs[1].hist(prob_of_char)\n",
    "# axs[1].set_xlim(0,1)\n",
    "fig.suptitle(\"Probabilities of space/char conditional on character input\")"
   ]
  },
  {
   "cell_type": "code",
   "execution_count": 14,
   "metadata": {},
   "outputs": [
    {
     "data": {
      "image/png": "[encoded data removed]",
      "text/plain": [
       "<Figure size 640x480 with 2 Axes>"
      ]
     },
     "metadata": {},
     "output_type": "display_data"
    }
   ],
   "source": [
    "fig, axs = plt.subplots(1,2)\n",
    "prob_of_space = preds[space_conditional][...,2]\n",
    "prob_of_char = preds[space_conditional][...,1]\n",
    "axs[0].hist(prob_of_space)\n",
    "# axs[0].set_xlim(0,1)\n",
    "axs[1].hist(prob_of_char)\n",
    "# axs[1].set_xlim(0,1)\n",
    "fig.suptitle(\"Probabilities of space/char conditional on space input\")\n",
    "\n",
    "fig.show()"
   ]
  },
  {
   "cell_type": "code",
   "execution_count": 15,
   "metadata": {},
   "outputs": [
    {
     "data": {
      "text/plain": [
       "([0.9035585, 0.9035585, 0.9035599],\n",
       " <tf.Tensor: shape=(3,), dtype=float32, numpy=array([0.09644151, 0.09644151, 0.09644003], dtype=float32)>)"
      ]
     },
     "execution_count": 15,
     "metadata": {},
     "output_type": "execute_result"
    }
   ],
   "source": [
    "list(prob_of_char.numpy()), prob_of_space"
   ]
  },
  {
   "cell_type": "code",
   "execution_count": 16,
   "metadata": {},
   "outputs": [
    {
     "data": {
      "text/plain": [
       "([5, 5, 5], array([5, 5, 5]))"
      ]
     },
     "execution_count": 16,
     "metadata": {},
     "output_type": "execute_result"
    }
   ],
   "source": [
    "[len(x) for x in test_inputs[0]], preds._keras_mask.numpy().sum(axis=1)"
   ]
  },
  {
   "cell_type": "code",
   "execution_count": null,
   "metadata": {},
   "outputs": [],
   "source": []
  }
 ],
 "metadata": {
  "kernelspec": {
   "display_name": "tf_210",
   "language": "python",
   "name": "python3"
  },
  "language_info": {
   "codemirror_mode": {
    "name": "ipython",
    "version": 3
   },
   "file_extension": ".py",
   "mimetype": "text/x-python",
   "name": "python",
   "nbconvert_exporter": "python",
   "pygments_lexer": "ipython3",
   "version": "3.8.10"
  },
  "orig_nbformat": 4,
  "vscode": {
   "interpreter": {
    "hash": "4c2409f7cd36a60864259fe7c86cc6f7edd5e2a0604f36f600c4aba8b227f5d5"
   }
  }
 },
 "nbformat": 4,
 "nbformat_minor": 2
}
