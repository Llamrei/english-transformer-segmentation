{
 "cells": [
  {
   "cell_type": "code",
   "execution_count": 1,
   "metadata": {},
   "outputs": [
    {
     "name": "stderr",
     "output_type": "stream",
     "text": [
      "2023-02-27 15:33:03.108139: I tensorflow/core/platform/cpu_feature_guard.cc:193] This TensorFlow binary is optimized with oneAPI Deep Neural Network Library (oneDNN) to use the following CPU instructions in performance-critical operations:  AVX2 AVX512F AVX512_VNNI FMA\n",
      "To enable them in other operations, rebuild TensorFlow with the appropriate compiler flags.\n",
      "2023-02-27 15:33:03.283876: I tensorflow/core/util/util.cc:169] oneDNN custom operations are on. You may see slightly different numerical results due to floating-point round-off errors from different computation orders. To turn them off, set the environment variable `TF_ENABLE_ONEDNN_OPTS=0`.\n",
      "2023-02-27 15:33:03.324290: E tensorflow/stream_executor/cuda/cuda_blas.cc:2981] Unable to register cuBLAS factory: Attempting to register factory for plugin cuBLAS when one has already been registered\n",
      "2023-02-27 15:33:04.001547: W tensorflow/stream_executor/platform/default/dso_loader.cc:64] Could not load dynamic library 'libnvinfer.so.7'; dlerror: libnvinfer.so.7: cannot open shared object file: No such file or directory\n",
      "2023-02-27 15:33:04.001629: W tensorflow/stream_executor/platform/default/dso_loader.cc:64] Could not load dynamic library 'libnvinfer_plugin.so.7'; dlerror: libnvinfer_plugin.so.7: cannot open shared object file: No such file or directory\n",
      "2023-02-27 15:33:04.001636: W tensorflow/compiler/tf2tensorrt/utils/py_utils.cc:38] TF-TRT Warning: Cannot dlopen some TensorRT libraries. If you would like to use Nvidia GPU with TensorRT, please make sure the missing libraries mentioned above are installed properly.\n"
     ]
    }
   ],
   "source": [
    "import logging\n",
    "import tensorflow as tf\n",
    "\n",
    "\n",
    "GPU_FROM = 0\n",
    "GPU_TO = 1  \n",
    "\n",
    "visible_devices = tf.config.get_visible_devices('GPU')\n",
    "logging.info(f\"Num GPUs visible:{len(visible_devices)}\")\n",
    "tf.config.set_visible_devices(visible_devices[GPU_FROM:GPU_TO],'GPU')\n",
    "\n",
    "visible_devices = tf.config.get_visible_devices('GPU')\n",
    "logging.info(f\"Num GPUs to be used: {len(visible_devices)}\")"
   ]
  },
  {
   "cell_type": "code",
   "execution_count": 2,
   "metadata": {},
   "outputs": [
    {
     "name": "stdout",
     "output_type": "stream",
     "text": [
      "tf.Tensor(b'5555545 5555555445 5555445 545 5555545 555545 55555445 545 545 545 555545 5545 55555445 5555445 555545 55555555545 4', shape=(), dtype=string)\n",
      "tf.Tensor(b'55545 5545 5545 45 555445 5445 45 5555555555545 545 555545 545 45 55545 55555545 55555545 545 45 45 445 45 55545 55555555', shape=(), dtype=string)\n",
      "tf.Tensor(b'5555544445 45 55555545 45 5555445 555555545 555555555555555555545 555445 5555555545 5555545 5545 545 5445 45 45 444', shape=(), dtype=string)\n",
      "tf.Tensor(b'545 555555445 555555545 555545 555555545 5555545 5555555555555445 45 45 555545 555545 5555555555555445 555555544', shape=(), dtype=string)\n",
      "tf.Tensor(b'545 5555545 45 555555555445 554445 555545 555555555545 55555545 5545 555545 5555555445 55445 5555545 4445 5445 445 5', shape=(), dtype=string)\n"
     ]
    },
    {
     "name": "stderr",
     "output_type": "stream",
     "text": [
      "2023-02-27 15:33:05.264648: I tensorflow/core/platform/cpu_feature_guard.cc:193] This TensorFlow binary is optimized with oneAPI Deep Neural Network Library (oneDNN) to use the following CPU instructions in performance-critical operations:  AVX2 AVX512F AVX512_VNNI FMA\n",
      "To enable them in other operations, rebuild TensorFlow with the appropriate compiler flags.\n",
      "2023-02-27 15:33:05.978416: I tensorflow/core/common_runtime/gpu/gpu_device.cc:1616] Created device /job:localhost/replica:0/task:0/device:GPU:0 with 22296 MB memory:  -> device: 0, name: GeForce RTX 3090, pci bus id: 0000:3b:00.0, compute capability: 8.6\n"
     ]
    }
   ],
   "source": [
    "\n",
    "from segmentation.model import SpaceSegmentationTransformer\n",
    "from segmentation.model import LossWithVoids\n",
    "\n",
    "data = tf.random.stateless_binomial(shape=(10000, 100), counts=1, probs=0.8, seed=[1997,1997])+1\n",
    "train_frac = int(data.shape[0]*3/4)\n",
    "\n",
    "train_ds, val_ds = tf.data.Dataset.from_tensor_slices(data[:train_frac]), tf.data.Dataset.from_tensor_slices(data[train_frac:])\n",
    "\n",
    "def mapper(y):\n",
    "    x = tf.strings.as_string(y+3)\n",
    "    x = tf.strings.reduce_join(x, axis=-1)\n",
    "    return tf.strings.regex_replace(x, \"(45)\", r\"\\1 \")\n",
    "\n",
    "train_ds = train_ds.map(mapper)\n",
    "val_ds = val_ds.map(mapper)\n",
    "\n",
    "for f in train_ds.take(5):\n",
    "    print(f)"
   ]
  },
  {
   "cell_type": "code",
   "execution_count": 3,
   "metadata": {},
   "outputs": [
    {
     "name": "stdout",
     "output_type": "stream",
     "text": [
      "((<tf.Tensor: shape=(), dtype=string, numpy=b'55555455555555445555544554555555455555455555544554554554555554555455555544555554455555'>, None), <tf.Tensor: shape=(100,), dtype=float16, numpy=\n",
      "array([1., 1., 1., 1., 1., 1., 2., 1., 1., 1., 1., 1., 1., 1., 1., 1., 2.,\n",
      "       1., 1., 1., 1., 1., 1., 2., 1., 1., 2., 1., 1., 1., 1., 1., 1., 2.,\n",
      "       1., 1., 1., 1., 1., 2., 1., 1., 1., 1., 1., 1., 1., 2., 1., 1., 2.,\n",
      "       1., 1., 2., 1., 1., 2., 1., 1., 1., 1., 1., 2., 1., 1., 1., 2., 1.,\n",
      "       1., 1., 1., 1., 1., 1., 2., 1., 1., 1., 1., 1., 1., 2., 1., 1., 1.,\n",
      "       1., 0., 0., 0., 0., 0., 0., 0., 0., 0., 0., 0., 0., 0., 0.],\n",
      "      dtype=float16)>)\n"
     ]
    }
   ],
   "source": [
    "def generate_labels(text):\n",
    "    max_chars = 100\n",
    "    last_char = tf.strings.substr(text, max_chars, max_chars+1)\n",
    "    text = tf.strings.substr(text,0, max_chars)\n",
    "    text = tf.strings.lower(text)\n",
    "    split_on_whitespace = tf.strings.strip(tf.strings.split(text))\n",
    "    encoder_in = tf.strings.reduce_join(split_on_whitespace, axis=-1)\n",
    "    \n",
    "    space_indices = tf.math.cumsum(tf.strings.length(split_on_whitespace)) - 1 # subtract 1 to index from 0\n",
    "    seq_len = space_indices[-1] + 1\n",
    "    if not tf.strings.regex_full_match(last_char, \" \"):\n",
    "        space_indices = space_indices[:-1]\n",
    "    encoder_out = tf.ones((max_chars,))\n",
    "    encoder_out = tf.concat([\n",
    "        tf.ones((seq_len,)),\n",
    "        tf.zeros((max_chars - seq_len,))\n",
    "    ], axis=-1)\n",
    "    encoder_out = tf.tensor_scatter_nd_update(\n",
    "        encoder_out, \n",
    "        space_indices[...,tf.newaxis], # Expand dims to create a 'list' of indices\n",
    "        tf.ones_like(space_indices, dtype=encoder_out.dtype)*2) \n",
    "    \n",
    "    return (encoder_in, None), tf.cast(encoder_out, \"float16\")\n",
    "\n",
    "train_ds = train_ds.map(generate_labels)\n",
    "val_ds = val_ds.map(generate_labels)\n",
    "\n",
    "for f in train_ds.take(1):\n",
    "    print(f)"
   ]
  },
  {
   "cell_type": "code",
   "execution_count": 4,
   "metadata": {},
   "outputs": [
    {
     "data": {
      "text/plain": [
       "['', '[UNK]', '5', '4']"
      ]
     },
     "execution_count": 4,
     "metadata": {},
     "output_type": "execute_result"
    }
   ],
   "source": [
    "tokenizer = tf.keras.layers.TextVectorization(\n",
    "    output_sequence_length=100,\n",
    "    standardize=\"lower_and_strip_punctuation\",\n",
    "    split=\"character\",\n",
    "    output_mode=\"int\",\n",
    ")\n",
    "\n",
    "tokenizer.adapt(train_ds.take(10).map(lambda x,y: x[0]))\n",
    "tokenizer.get_vocabulary()"
   ]
  },
  {
   "cell_type": "code",
   "execution_count": 5,
   "metadata": {},
   "outputs": [
    {
     "data": {
      "text/plain": [
       "<tf.Tensor: shape=(100,), dtype=int64, numpy=\n",
       "array([3, 3, 3, 3, 3, 3, 2, 2, 2, 2, 2, 0, 0, 0, 0, 0, 0, 0, 0, 0, 0, 0,\n",
       "       0, 0, 0, 0, 0, 0, 0, 0, 0, 0, 0, 0, 0, 0, 0, 0, 0, 0, 0, 0, 0, 0,\n",
       "       0, 0, 0, 0, 0, 0, 0, 0, 0, 0, 0, 0, 0, 0, 0, 0, 0, 0, 0, 0, 0, 0,\n",
       "       0, 0, 0, 0, 0, 0, 0, 0, 0, 0, 0, 0, 0, 0, 0, 0, 0, 0, 0, 0, 0, 0,\n",
       "       0, 0, 0, 0, 0, 0, 0, 0, 0, 0, 0, 0])>"
      ]
     },
     "execution_count": 5,
     "metadata": {},
     "output_type": "execute_result"
    }
   ],
   "source": [
    "tokenizer(\"44444455555\")"
   ]
  },
  {
   "cell_type": "code",
   "execution_count": 6,
   "metadata": {},
   "outputs": [],
   "source": [
    "model = SpaceSegmentationTransformer(\n",
    "    num_layers=2,\n",
    "    d_model=32,\n",
    "    num_attention_heads=2,\n",
    "    seq_len=100,\n",
    "    dff=32,\n",
    "    input_tokenizer=tokenizer,\n",
    "    num_classes = 3\n",
    ")"
   ]
  },
  {
   "cell_type": "code",
   "execution_count": 7,
   "metadata": {},
   "outputs": [],
   "source": [
    "from segmentation.metrics import SparseAccuracyWithIgnore\n",
    "from segmentation.metrics import SparsePrecision\n",
    "from segmentation.metrics import SparseRecall\n",
    "from segmentation.metrics import SparseF1\n",
    "\n",
    "model.compile(\n",
    "    optimizer=\"adam\",\n",
    "    loss=tf.keras.losses.SparseCategoricalCrossentropy(from_logits=False, ignore_class=0), # Why can I not ignore class 0?\n",
    "    metrics=[\n",
    "        SparseAccuracyWithIgnore(ignore_token=0),\n",
    "        SparsePrecision(class_id=2, name=\"space_precision\"),\n",
    "        SparseRecall(class_id=2, name=\"space_recall\"),\n",
    "        SparseF1(class_id=2, name=\"space_f1\"),\n",
    "        SparsePrecision(class_id=1, name=\"char_precision\"),\n",
    "        SparseRecall(class_id=1, name=\"char_recall\"),\n",
    "        SparseF1(class_id=1, name=\"char_f1\"),\n",
    "    ]\n",
    ")"
   ]
  },
  {
   "cell_type": "code",
   "execution_count": 8,
   "metadata": {},
   "outputs": [
    {
     "name": "stdout",
     "output_type": "stream",
     "text": [
      "Epoch 1/10\n",
      "  7/938 [..............................] - ETA: 21s - loss: 0.6459 - sparse_categorical_accuracy: 0.7787 - space_precision: 0.1662 - space_recall: 0.0309 - space_f1: 0.0521 - char_precision: 0.7506 - char_recall: 0.9170 - char_f1: 0.8254   "
     ]
    },
    {
     "name": "stderr",
     "output_type": "stream",
     "text": [
      "2023-02-27 15:33:13.097046: I tensorflow/stream_executor/cuda/cuda_blas.cc:1614] TensorFloat-32 will be used for the matrix multiplication. This will only be logged once.\n"
     ]
    },
    {
     "name": "stdout",
     "output_type": "stream",
     "text": [
      "938/938 [==============================] - 33s 30ms/step - loss: 0.3008 - sparse_categorical_accuracy: 0.8798 - space_precision: 0.8635 - space_recall: 0.3035 - space_f1: 0.4492 - char_precision: 0.7611 - char_recall: 0.9852 - char_f1: 0.8588 - val_loss: 0.0248 - val_sparse_categorical_accuracy: 0.9977 - val_space_precision: 0.9933 - val_space_recall: 0.9910 - val_space_f1: 0.9922 - val_char_precision: 0.8421 - val_char_recall: 0.9985 - val_char_f1: 0.9136\n",
      "Epoch 2/10\n",
      "938/938 [==============================] - 26s 27ms/step - loss: 0.1003 - sparse_categorical_accuracy: 0.9616 - space_precision: 0.8976 - space_recall: 0.8541 - space_f1: 0.8753 - char_precision: 0.8216 - char_recall: 0.9813 - char_f1: 0.8944 - val_loss: 0.0086 - val_sparse_categorical_accuracy: 0.9986 - val_space_precision: 0.9958 - val_space_recall: 0.9945 - val_space_f1: 0.9952 - val_char_precision: 0.8425 - val_char_recall: 0.9990 - val_char_f1: 0.9141\n",
      "Epoch 3/10\n",
      "938/938 [==============================] - 25s 27ms/step - loss: 0.0697 - sparse_categorical_accuracy: 0.9746 - space_precision: 0.9321 - space_recall: 0.9058 - space_f1: 0.9188 - char_precision: 0.8290 - char_recall: 0.9874 - char_f1: 0.9013 - val_loss: 0.0033 - val_sparse_categorical_accuracy: 0.9994 - val_space_precision: 0.9971 - val_space_recall: 0.9992 - val_space_f1: 0.9981 - val_char_precision: 0.8431 - val_char_recall: 0.9994 - val_char_f1: 0.9146\n",
      "Epoch 4/10\n",
      "938/938 [==============================] - 25s 27ms/step - loss: 0.0547 - sparse_categorical_accuracy: 0.9797 - space_precision: 0.9447 - space_recall: 0.9261 - space_f1: 0.9353 - char_precision: 0.8319 - char_recall: 0.9896 - char_f1: 0.9039 - val_loss: 0.0022 - val_sparse_categorical_accuracy: 0.9996 - val_space_precision: 0.9980 - val_space_recall: 0.9996 - val_space_f1: 0.9988 - val_char_precision: 0.8431 - val_char_recall: 0.9996 - val_char_f1: 0.9147\n",
      "Epoch 5/10\n",
      "938/938 [==============================] - 25s 27ms/step - loss: 0.0441 - sparse_categorical_accuracy: 0.9838 - space_precision: 0.9546 - space_recall: 0.9423 - space_f1: 0.9484 - char_precision: 0.8343 - char_recall: 0.9914 - char_f1: 0.9061 - val_loss: 0.0011 - val_sparse_categorical_accuracy: 0.9997 - val_space_precision: 0.9994 - val_space_recall: 0.9985 - val_space_f1: 0.9989 - val_char_precision: 0.8431 - val_char_recall: 0.9999 - val_char_f1: 0.9148\n",
      "Epoch 6/10\n",
      "938/938 [==============================] - 25s 26ms/step - loss: 0.0386 - sparse_categorical_accuracy: 0.9860 - space_precision: 0.9597 - space_recall: 0.9514 - space_f1: 0.9556 - char_precision: 0.8356 - char_recall: 0.9923 - char_f1: 0.9072 - val_loss: 0.0011 - val_sparse_categorical_accuracy: 0.9997 - val_space_precision: 0.9991 - val_space_recall: 0.9988 - val_space_f1: 0.9989 - val_char_precision: 0.8431 - val_char_recall: 0.9998 - val_char_f1: 0.9148\n",
      "Epoch 7/10\n",
      "938/938 [==============================] - 24s 25ms/step - loss: 0.0346 - sparse_categorical_accuracy: 0.9871 - space_precision: 0.9626 - space_recall: 0.9556 - space_f1: 0.9591 - char_precision: 0.8362 - char_recall: 0.9928 - char_f1: 0.9078 - val_loss: 0.0010 - val_sparse_categorical_accuracy: 0.9999 - val_space_precision: 0.9995 - val_space_recall: 0.9995 - val_space_f1: 0.9995 - val_char_precision: 0.8432 - val_char_recall: 0.9999 - val_char_f1: 0.9149\n",
      "Epoch 8/10\n",
      "938/938 [==============================] - 23s 25ms/step - loss: 0.0317 - sparse_categorical_accuracy: 0.9884 - space_precision: 0.9667 - space_recall: 0.9595 - space_f1: 0.9631 - char_precision: 0.8368 - char_recall: 0.9936 - char_f1: 0.9085 - val_loss: 8.7282e-04 - val_sparse_categorical_accuracy: 0.9999 - val_space_precision: 0.9997 - val_space_recall: 0.9995 - val_space_f1: 0.9996 - val_char_precision: 0.8432 - val_char_recall: 0.9999 - val_char_f1: 0.9149\n",
      "Epoch 9/10\n",
      "938/938 [==============================] - 24s 25ms/step - loss: 0.0298 - sparse_categorical_accuracy: 0.9891 - space_precision: 0.9684 - space_recall: 0.9621 - space_f1: 0.9653 - char_precision: 0.8372 - char_recall: 0.9939 - char_f1: 0.9089 - val_loss: 7.6149e-04 - val_sparse_categorical_accuracy: 0.9999 - val_space_precision: 0.9996 - val_space_recall: 0.9996 - val_space_f1: 0.9996 - val_char_precision: 0.8432 - val_char_recall: 0.9999 - val_char_f1: 0.9149\n",
      "Epoch 10/10\n",
      "938/938 [==============================] - 23s 25ms/step - loss: 0.0279 - sparse_categorical_accuracy: 0.9898 - space_precision: 0.9699 - space_recall: 0.9651 - space_f1: 0.9675 - char_precision: 0.8376 - char_recall: 0.9942 - char_f1: 0.9092 - val_loss: 5.1292e-04 - val_sparse_categorical_accuracy: 0.9999 - val_space_precision: 0.9996 - val_space_recall: 0.9997 - val_space_f1: 0.9997 - val_char_precision: 0.8432 - val_char_recall: 0.9999 - val_char_f1: 0.9149\n"
     ]
    },
    {
     "data": {
      "text/plain": [
       "<keras.callbacks.History at 0x7fb918234d90>"
      ]
     },
     "execution_count": 8,
     "metadata": {},
     "output_type": "execute_result"
    }
   ],
   "source": [
    "train_ds = train_ds.shuffle(100).batch(8)\n",
    "val_ds = val_ds.batch(8)\n",
    "\n",
    "model.fit(train_ds, validation_data=val_ds, epochs=10)"
   ]
  },
  {
   "cell_type": "markdown",
   "metadata": {},
   "source": []
  },
  {
   "cell_type": "code",
   "execution_count": 9,
   "metadata": {},
   "outputs": [
    {
     "name": "stdout",
     "output_type": "stream",
     "text": [
      "313/313 [==============================] - 4s 13ms/step - loss: 5.1292e-04 - sparse_categorical_accuracy: 0.9999 - space_precision: 0.9996 - space_recall: 0.9997 - space_f1: 0.9997 - char_precision: 0.8432 - char_recall: 0.9999 - char_f1: 0.9149\n"
     ]
    },
    {
     "data": {
      "text/plain": [
       "[0.0005129225319251418,\n",
       " 0.9999213814735413,\n",
       " 0.9995836019515991,\n",
       " 0.9997345805168152,\n",
       " 0.9996591210365295,\n",
       " 0.8432043194770813,\n",
       " 0.9999307990074158,\n",
       " 0.9149041175842285]"
      ]
     },
     "execution_count": 9,
     "metadata": {},
     "output_type": "execute_result"
    }
   ],
   "source": [
    "model.evaluate(val_ds)"
   ]
  },
  {
   "cell_type": "code",
   "execution_count": 10,
   "metadata": {},
   "outputs": [],
   "source": [
    "test_inputs = [(\"5554445\", \"55544455554445\", \"5454545454545454\"),(None,None, None)]\n",
    "preds = model(test_inputs)\n",
    "truth = tf.ragged.constant([[1,1,1,1,1,1,2], [1,1,1,1,1,1,2,1,1,1,1,1,1,2], [1,1,2, 1,2, 1,2, 1,2, 1,2, 1,2, 1,2, 1]])\n",
    "char_conditional = (truth == 1).to_tensor(False, shape=(truth.shape[0],100))\n",
    "space_conditional = (truth == 2).to_tensor(False, shape=(truth.shape[0],100))"
   ]
  },
  {
   "cell_type": "code",
   "execution_count": 11,
   "metadata": {},
   "outputs": [
    {
     "data": {
      "text/plain": [
       "(<tf.Tensor: shape=(3, 100, 3), dtype=float32, numpy=\n",
       " array([[[5.47027071e-07, 9.99977469e-01, 2.18861460e-05],\n",
       "         [4.76934929e-07, 9.99976635e-01, 2.28591380e-05],\n",
       "         [2.34627620e-07, 9.99933481e-01, 6.63166502e-05],\n",
       "         [1.05867036e-06, 9.99994755e-01, 4.20531478e-06],\n",
       "         [1.39086353e-07, 9.99985695e-01, 1.42252093e-05],\n",
       "         [4.54926663e-07, 9.99993086e-01, 6.45289083e-06],\n",
       "         [1.49603466e-05, 4.84841689e-03, 9.95136678e-01],\n",
       "         [3.35283943e-08, 9.98467028e-01, 1.53292215e-03],\n",
       "         [2.90809030e-08, 9.98299778e-01, 1.70025777e-03],\n",
       "         [2.19798402e-08, 9.98532772e-01, 1.46721269e-03],\n",
       "         [2.01455297e-08, 9.98968720e-01, 1.03124557e-03],\n",
       "         [2.31444925e-08, 9.99294162e-01, 7.05867948e-04],\n",
       "         [2.69890243e-08, 9.99384046e-01, 6.15968078e-04],\n",
       "         [3.05564534e-08, 9.99264061e-01, 7.35880923e-04],\n",
       "         [3.02745491e-08, 9.99070883e-01, 9.29060916e-04],\n",
       "         [2.49054981e-08, 9.98905301e-01, 1.09469937e-03],\n",
       "         [2.29949269e-08, 9.98903394e-01, 1.09663350e-03],\n",
       "         [2.83311206e-08, 9.99006808e-01, 9.93174966e-04],\n",
       "         [3.87185892e-08, 9.99054372e-01, 9.45606851e-04],\n",
       "         [5.04611108e-08, 9.98841107e-01, 1.15895038e-03],\n",
       "         [5.28106057e-08, 9.98419881e-01, 1.58016803e-03],\n",
       "         [3.62676893e-08, 9.98449564e-01, 1.55041227e-03],\n",
       "         [2.48089300e-08, 9.98770416e-01, 1.22958678e-03],\n",
       "         [2.24724168e-08, 9.99130666e-01, 8.69346666e-04],\n",
       "         [2.23365415e-08, 9.99379039e-01, 6.20966603e-04],\n",
       "         [2.31554314e-08, 9.99417543e-01, 5.82515961e-04],\n",
       "         [2.41779361e-08, 9.99257624e-01, 7.42302334e-04],\n",
       "         [2.24372645e-08, 9.99009132e-01, 9.90833505e-04],\n",
       "         [2.03104342e-08, 9.98864293e-01, 1.13572471e-03],\n",
       "         [2.22404797e-08, 9.98907089e-01, 1.09289261e-03],\n",
       "         [2.79880439e-08, 9.99041617e-01, 9.58381337e-04],\n",
       "         [3.43492239e-08, 9.99045908e-01, 9.54128860e-04],\n",
       "         [3.71183901e-08, 9.98841465e-01, 1.15850882e-03],\n",
       "         [3.11659498e-08, 9.98554885e-01, 1.44510111e-03],\n",
       "         [2.18925393e-08, 9.98415589e-01, 1.58444536e-03],\n",
       "         [1.80507680e-08, 9.98542547e-01, 1.45749818e-03],\n",
       "         [1.90893186e-08, 9.98708248e-01, 1.29180879e-03],\n",
       "         [2.17051621e-08, 9.98570561e-01, 1.42937573e-03],\n",
       "         [2.47528735e-08, 9.98096287e-01, 1.90373394e-03],\n",
       "         [2.52326728e-08, 9.97343361e-01, 2.65666936e-03],\n",
       "         [2.01146442e-08, 9.97136593e-01, 2.86336825e-03],\n",
       "         [1.54526205e-08, 9.97534633e-01, 2.46535148e-03],\n",
       "         [1.49680233e-08, 9.97793198e-01, 2.20676814e-03],\n",
       "         [1.45427848e-08, 9.98363316e-01, 1.63673784e-03],\n",
       "         [1.33672993e-08, 9.98753905e-01, 1.24605570e-03],\n",
       "         [1.13562511e-08, 9.98834908e-01, 1.16509863e-03],\n",
       "         [8.47862403e-09, 9.98892963e-01, 1.10707432e-03],\n",
       "         [6.88615343e-09, 9.99082446e-01, 9.17575322e-04],\n",
       "         [7.86250531e-09, 9.99280155e-01, 7.19848147e-04],\n",
       "         [1.09275771e-08, 9.99366701e-01, 6.33322459e-04],\n",
       "         [1.58268509e-08, 9.99301553e-01, 6.98397402e-04],\n",
       "         [2.23279084e-08, 9.99061406e-01, 9.38589859e-04],\n",
       "         [2.36813964e-08, 9.98839676e-01, 1.16029580e-03],\n",
       "         [2.13998881e-08, 9.98686254e-01, 1.31378835e-03],\n",
       "         [2.18046523e-08, 9.98908997e-01, 1.09106023e-03],\n",
       "         [2.50167567e-08, 9.99206245e-01, 7.93784391e-04],\n",
       "         [3.18413349e-08, 9.99241471e-01, 7.58500944e-04],\n",
       "         [3.71103965e-08, 9.99068439e-01, 9.31564020e-04],\n",
       "         [3.38085862e-08, 9.98840988e-01, 1.15900883e-03],\n",
       "         [2.49697134e-08, 9.98699665e-01, 1.30029034e-03],\n",
       "         [2.26982557e-08, 9.98704910e-01, 1.29505910e-03],\n",
       "         [2.71770908e-08, 9.98870790e-01, 1.12918159e-03],\n",
       "         [3.51896361e-08, 9.98937666e-01, 1.06239144e-03],\n",
       "         [4.31303313e-08, 9.98789847e-01, 1.21018314e-03],\n",
       "         [4.39118857e-08, 9.98526037e-01, 1.47400191e-03],\n",
       "         [3.22555813e-08, 9.98454213e-01, 1.54580420e-03],\n",
       "         [2.21185186e-08, 9.98829067e-01, 1.17096212e-03],\n",
       "         [1.96293364e-08, 9.99267757e-01, 7.32260174e-04],\n",
       "         [2.04629966e-08, 9.99438822e-01, 5.61146764e-04],\n",
       "         [2.22609984e-08, 9.99416947e-01, 5.83081739e-04],\n",
       "         [2.47402898e-08, 9.99236107e-01, 7.63894466e-04],\n",
       "         [2.49950283e-08, 9.98989880e-01, 1.01012609e-03],\n",
       "         [2.39006717e-08, 9.98876274e-01, 1.12377224e-03],\n",
       "         [2.67787161e-08, 9.98887718e-01, 1.11223850e-03],\n",
       "         [3.37433015e-08, 9.98937309e-01, 1.06270867e-03],\n",
       "         [4.28840252e-08, 9.98859167e-01, 1.14083069e-03],\n",
       "         [4.79163766e-08, 9.98607576e-01, 1.39250804e-03],\n",
       "         [4.00363831e-08, 9.98414874e-01, 1.58515689e-03],\n",
       "         [2.40918574e-08, 9.98629093e-01, 1.37092138e-03],\n",
       "         [1.65432006e-08, 9.99019146e-01, 9.80884070e-04],\n",
       "         [1.52569228e-08, 9.99299645e-01, 7.00344972e-04],\n",
       "         [1.53498458e-08, 9.99443591e-01, 5.56447019e-04],\n",
       "         [1.61300182e-08, 9.99383330e-01, 6.16618257e-04],\n",
       "         [1.66671530e-08, 9.99235749e-01, 7.64304074e-04],\n",
       "         [1.39164147e-08, 9.99197185e-01, 8.02800118e-04],\n",
       "         [1.18634249e-08, 9.99298096e-01, 7.01891433e-04],\n",
       "         [1.33061722e-08, 9.99464691e-01, 5.35352505e-04],\n",
       "         [1.66539955e-08, 9.99635935e-01, 3.64089210e-04],\n",
       "         [2.01733794e-08, 9.99668837e-01, 3.31119460e-04],\n",
       "         [2.09494697e-08, 9.99631763e-01, 3.68224573e-04],\n",
       "         [1.60657514e-08, 9.99598682e-01, 4.01281286e-04],\n",
       "         [1.24730262e-08, 9.99632001e-01, 3.67946952e-04],\n",
       "         [1.37536107e-08, 9.99678254e-01, 3.21779342e-04],\n",
       "         [1.84758751e-08, 9.99668956e-01, 3.31017509e-04],\n",
       "         [2.60118984e-08, 9.99544561e-01, 4.55380563e-04],\n",
       "         [3.53680996e-08, 9.99221921e-01, 7.78048940e-04],\n",
       "         [3.64934145e-08, 9.98628497e-01, 1.37158483e-03],\n",
       "         [2.87946236e-08, 9.98153508e-01, 1.84641848e-03],\n",
       "         [2.34879582e-08, 9.98389840e-01, 1.61022705e-03],\n",
       "         [2.15535110e-08, 9.99243021e-01, 7.56959955e-04]],\n",
       " \n",
       "        [[4.28204373e-07, 9.99975801e-01, 2.37554013e-05],\n",
       "         [4.82122005e-07, 9.99980092e-01, 1.94120621e-05],\n",
       "         [2.29097310e-07, 9.99937773e-01, 6.20214341e-05],\n",
       "         [1.06209257e-06, 9.99994755e-01, 4.19124581e-06],\n",
       "         [1.39308469e-07, 9.99985814e-01, 1.41238279e-05],\n",
       "         [4.20273807e-07, 9.99992728e-01, 6.78967126e-06],\n",
       "         [6.11362157e-06, 2.39646775e-04, 9.99754250e-01],\n",
       "         [2.29665147e-07, 9.99978542e-01, 2.12582654e-05],\n",
       "         [9.30828321e-08, 9.99986053e-01, 1.38743553e-05],\n",
       "         [8.15666183e-08, 9.99946833e-01, 5.30589823e-05],\n",
       "         [8.45213037e-07, 9.99995947e-01, 3.20052345e-06],\n",
       "         [7.86400065e-08, 9.99992132e-01, 7.72225212e-06],\n",
       "         [1.68620460e-07, 9.99994278e-01, 5.59483351e-06],\n",
       "         [5.91261551e-06, 1.78600883e-03, 9.98208046e-01],\n",
       "         [3.04768442e-08, 9.98875797e-01, 1.12413289e-03],\n",
       "         [2.53818371e-08, 9.98642027e-01, 1.35802466e-03],\n",
       "         [2.34814248e-08, 9.98759627e-01, 1.24038244e-03],\n",
       "         [2.98548670e-08, 9.98800755e-01, 1.19928748e-03],\n",
       "         [4.17174100e-08, 9.98822272e-01, 1.17770070e-03],\n",
       "         [5.53810580e-08, 9.98543859e-01, 1.45611155e-03],\n",
       "         [5.80589337e-08, 9.97965813e-01, 2.03419058e-03],\n",
       "         [3.79179710e-08, 9.98047233e-01, 1.95280823e-03],\n",
       "         [2.52324028e-08, 9.98455644e-01, 1.54440128e-03],\n",
       "         [2.29046702e-08, 9.98913050e-01, 1.08694052e-03],\n",
       "         [2.27103225e-08, 9.99247313e-01, 7.52746069e-04],\n",
       "         [2.32197888e-08, 9.99307394e-01, 6.92654634e-04],\n",
       "         [2.42117615e-08, 9.99108851e-01, 8.91150965e-04],\n",
       "         [2.22588863e-08, 9.98784721e-01, 1.21529005e-03],\n",
       "         [2.01369161e-08, 9.98625398e-01, 1.37465924e-03],\n",
       "         [2.29766535e-08, 9.98657942e-01, 1.34201976e-03],\n",
       "         [2.89587945e-08, 9.98836696e-01, 1.16336264e-03],\n",
       "         [3.51927198e-08, 9.98870790e-01, 1.12916424e-03],\n",
       "         [3.76716898e-08, 9.98615742e-01, 1.38425338e-03],\n",
       "         [3.13269695e-08, 9.98215556e-01, 1.78444234e-03],\n",
       "         [2.18959180e-08, 9.98006046e-01, 1.99402170e-03],\n",
       "         [1.81842488e-08, 9.98153389e-01, 1.84660405e-03],\n",
       "         [1.94753778e-08, 9.98367965e-01, 1.63204537e-03],\n",
       "         [2.25049828e-08, 9.98207211e-01, 1.79281808e-03],\n",
       "         [2.59282000e-08, 9.97579634e-01, 2.42039235e-03],\n",
       "         [2.62179807e-08, 9.96828496e-01, 3.17148399e-03],\n",
       "         [2.07416786e-08, 9.96593058e-01, 3.40686436e-03],\n",
       "         [1.55235025e-08, 9.97147381e-01, 2.85256514e-03],\n",
       "         [1.52464210e-08, 9.97420192e-01, 2.57976400e-03],\n",
       "         [1.49304533e-08, 9.97900486e-01, 2.09945021e-03],\n",
       "         [1.31526434e-08, 9.98446405e-01, 1.55364734e-03],\n",
       "         [1.08295284e-08, 9.98552144e-01, 1.44788588e-03],\n",
       "         [7.89721533e-09, 9.98631179e-01, 1.36879226e-03],\n",
       "         [6.39434816e-09, 9.98951435e-01, 1.04849774e-03],\n",
       "         [7.41567874e-09, 9.99178231e-01, 8.21774942e-04],\n",
       "         [1.06028573e-08, 9.99260485e-01, 7.39520823e-04],\n",
       "         [1.54897446e-08, 9.99189556e-01, 8.10490863e-04],\n",
       "         [2.21636505e-08, 9.98895228e-01, 1.10483542e-03],\n",
       "         [2.34535626e-08, 9.98600543e-01, 1.39951240e-03],\n",
       "         [2.12493418e-08, 9.98417020e-01, 1.58295303e-03],\n",
       "         [2.22314629e-08, 9.98648822e-01, 1.35120330e-03],\n",
       "         [2.56034038e-08, 9.99032259e-01, 9.67815577e-04],\n",
       "         [3.25451097e-08, 9.99096394e-01, 9.03639244e-04],\n",
       "         [3.76110485e-08, 9.98885095e-01, 1.11496763e-03],\n",
       "         [3.42522952e-08, 9.98579979e-01, 1.42008380e-03],\n",
       "         [2.53850203e-08, 9.98397768e-01, 1.60221558e-03],\n",
       "         [2.30420518e-08, 9.98525083e-01, 1.47496734e-03],\n",
       "         [2.90397040e-08, 9.98622894e-01, 1.37707999e-03],\n",
       "         [3.81687073e-08, 9.98691857e-01, 1.30810041e-03],\n",
       "         [4.66152343e-08, 9.98514950e-01, 1.48505333e-03],\n",
       "         [4.69851251e-08, 9.98150885e-01, 1.84913445e-03],\n",
       "         [3.38908990e-08, 9.98054266e-01, 1.94575300e-03],\n",
       "         [2.27027925e-08, 9.98542666e-01, 1.45734614e-03],\n",
       "         [1.98585024e-08, 9.99114215e-01, 8.85755522e-04],\n",
       "         [2.06464055e-08, 9.99345958e-01, 6.54053641e-04],\n",
       "         [2.23979590e-08, 9.99323130e-01, 6.76907075e-04],\n",
       "         [2.49865124e-08, 9.99104798e-01, 8.95124220e-04],\n",
       "         [2.55928931e-08, 9.98799205e-01, 1.20078074e-03],\n",
       "         [2.47760159e-08, 9.98680890e-01, 1.31912588e-03],\n",
       "         [2.84001214e-08, 9.98691142e-01, 1.30892301e-03],\n",
       "         [3.68791540e-08, 9.98707891e-01, 1.29214546e-03],\n",
       "         [4.62907686e-08, 9.98619556e-01, 1.38049084e-03],\n",
       "         [5.17588816e-08, 9.98295009e-01, 1.70497072e-03],\n",
       "         [4.24217319e-08, 9.98004973e-01, 1.99499354e-03],\n",
       "         [2.47300083e-08, 9.98325646e-01, 1.67433009e-03],\n",
       "         [1.69071530e-08, 9.98802662e-01, 1.19738583e-03],\n",
       "         [1.56626818e-08, 9.99149561e-01, 8.50372366e-04],\n",
       "         [1.57288138e-08, 9.99334514e-01, 6.65484171e-04],\n",
       "         [1.65299490e-08, 9.99262869e-01, 7.37142982e-04],\n",
       "         [1.68997669e-08, 9.99046385e-01, 9.53639450e-04],\n",
       "         [1.41569174e-08, 9.99085307e-01, 9.14732344e-04],\n",
       "         [1.19060974e-08, 9.99213219e-01, 7.86749297e-04],\n",
       "         [1.33987088e-08, 9.99349415e-01, 6.50589529e-04],\n",
       "         [1.64671583e-08, 9.99572933e-01, 4.27076768e-04],\n",
       "         [1.95611776e-08, 9.99624968e-01, 3.74968600e-04],\n",
       "         [2.00034123e-08, 9.99579132e-01, 4.20863129e-04],\n",
       "         [1.50157344e-08, 9.99533296e-01, 4.66739992e-04],\n",
       "         [1.15711298e-08, 9.99569952e-01, 4.30092943e-04],\n",
       "         [1.32160123e-08, 9.99629498e-01, 3.70514288e-04],\n",
       "         [1.83373707e-08, 9.99624848e-01, 3.75071540e-04],\n",
       "         [2.62584319e-08, 9.99475420e-01, 5.24589384e-04],\n",
       "         [3.68972159e-08, 9.99075055e-01, 9.24976775e-04],\n",
       "         [3.85721250e-08, 9.98265803e-01, 1.73428247e-03],\n",
       "         [3.07902290e-08, 9.97586131e-01, 2.41388450e-03],\n",
       "         [2.52209382e-08, 9.97902989e-01, 2.09700409e-03],\n",
       "         [2.23015988e-08, 9.99097347e-01, 9.02620784e-04]],\n",
       " \n",
       "        [[3.47247374e-06, 9.98994410e-01, 1.00208819e-03],\n",
       "         [2.94857591e-06, 9.99994040e-01, 2.96282451e-06],\n",
       "         [1.98013794e-07, 9.83774429e-04, 9.99016047e-01],\n",
       "         [3.91900812e-06, 9.99993086e-01, 2.92091545e-06],\n",
       "         [2.00711114e-07, 1.48360559e-03, 9.98516142e-01],\n",
       "         [8.26550786e-06, 9.99989748e-01, 2.05074207e-06],\n",
       "         [1.13159490e-06, 1.73047220e-03, 9.98268366e-01],\n",
       "         [3.25483234e-06, 9.99994755e-01, 2.02738033e-06],\n",
       "         [6.13561838e-07, 4.30848030e-03, 9.95690882e-01],\n",
       "         [1.71426677e-06, 9.99995589e-01, 2.74448962e-06],\n",
       "         [3.09962076e-07, 2.67087482e-04, 9.99732554e-01],\n",
       "         [3.28967326e-06, 9.99994397e-01, 2.25246663e-06],\n",
       "         [3.17418511e-07, 1.57916418e-03, 9.98420477e-01],\n",
       "         [1.47223057e-06, 9.99996185e-01, 2.40037366e-06],\n",
       "         [2.64047685e-07, 5.87369269e-03, 9.94126081e-01],\n",
       "         [8.04790943e-07, 9.99995351e-01, 3.78094205e-06],\n",
       "         [2.46281644e-08, 9.98581648e-01, 1.41841604e-03],\n",
       "         [3.18458859e-08, 9.98622060e-01, 1.37788802e-03],\n",
       "         [4.58874396e-08, 9.98501301e-01, 1.49874552e-03],\n",
       "         [6.16654674e-08, 9.98122752e-01, 1.87717238e-03],\n",
       "         [6.44156870e-08, 9.97343123e-01, 2.65680929e-03],\n",
       "         [4.31636806e-08, 9.97375965e-01, 2.62405304e-03],\n",
       "         [2.80731385e-08, 9.97947752e-01, 2.05227430e-03],\n",
       "         [2.51625210e-08, 9.98594582e-01, 1.40536553e-03],\n",
       "         [2.49457823e-08, 9.99046981e-01, 9.53001319e-04],\n",
       "         [2.53499781e-08, 9.99128878e-01, 8.71099590e-04],\n",
       "         [2.64056386e-08, 9.98876870e-01, 1.12315465e-03],\n",
       "         [2.41452600e-08, 9.98451591e-01, 1.54841901e-03],\n",
       "         [2.14929301e-08, 9.98403490e-01, 1.59648131e-03],\n",
       "         [2.51069583e-08, 9.98396575e-01, 1.60342199e-03],\n",
       "         [3.27708882e-08, 9.98526037e-01, 1.47396745e-03],\n",
       "         [3.92133614e-08, 9.98590052e-01, 1.40992342e-03],\n",
       "         [4.15881196e-08, 9.98271227e-01, 1.72871712e-03],\n",
       "         [3.42088242e-08, 9.97738838e-01, 2.26114108e-03],\n",
       "         [2.37886653e-08, 9.97460246e-01, 2.53966940e-03],\n",
       "         [1.99478887e-08, 9.97643411e-01, 2.35656998e-03],\n",
       "         [2.16444320e-08, 9.97917473e-01, 2.08255160e-03],\n",
       "         [2.52999435e-08, 9.97710347e-01, 2.28964444e-03],\n",
       "         [2.94027789e-08, 9.96903241e-01, 3.09678842e-03],\n",
       "         [2.95573486e-08, 9.96199906e-01, 3.80005082e-03],\n",
       "         [2.31528308e-08, 9.95908856e-01, 4.09116782e-03],\n",
       "         [1.71655472e-08, 9.96599257e-01, 3.40078445e-03],\n",
       "         [1.69502172e-08, 9.96923506e-01, 3.07644880e-03],\n",
       "         [1.69468546e-08, 9.97252524e-01, 2.74748751e-03],\n",
       "         [1.44355896e-08, 9.97988462e-01, 2.01150193e-03],\n",
       "         [1.15630758e-08, 9.98131454e-01, 1.86854659e-03],\n",
       "         [8.25839130e-09, 9.98313189e-01, 1.68678677e-03],\n",
       "         [6.54133858e-09, 9.98802185e-01, 1.19783974e-03],\n",
       "         [7.62102825e-09, 9.99073029e-01, 9.26947745e-04],\n",
       "         [1.12207790e-08, 9.99114931e-01, 8.85007088e-04],\n",
       "         [1.65987046e-08, 9.99000251e-01, 9.99724027e-04],\n",
       "         [2.39845139e-08, 9.98624802e-01, 1.37519336e-03],\n",
       "         [2.53083066e-08, 9.98270512e-01, 1.72950665e-03],\n",
       "         [2.29989858e-08, 9.98155892e-01, 1.84407446e-03],\n",
       "         [2.33896511e-08, 9.98340249e-01, 1.65975129e-03],\n",
       "         [2.66953606e-08, 9.98812437e-01, 1.18763512e-03],\n",
       "         [3.36383614e-08, 9.98906732e-01, 1.09324395e-03],\n",
       "         [4.01890539e-08, 9.98613834e-01, 1.38612662e-03],\n",
       "         [3.67506239e-08, 9.98200536e-01, 1.79948565e-03],\n",
       "         [2.72403771e-08, 9.98104215e-01, 1.89575844e-03],\n",
       "         [2.47589433e-08, 9.98287737e-01, 1.71221013e-03],\n",
       "         [3.13886872e-08, 9.98413444e-01, 1.58653152e-03],\n",
       "         [4.43516015e-08, 9.98293459e-01, 1.70652650e-03],\n",
       "         [5.44592140e-08, 9.98061121e-01, 1.93892291e-03],\n",
       "         [5.43471685e-08, 9.97566819e-01, 2.43320689e-03],\n",
       "         [3.87025416e-08, 9.97442961e-01, 2.55701877e-03],\n",
       "         [2.56701984e-08, 9.98104692e-01, 1.89529476e-03],\n",
       "         [2.21251728e-08, 9.98872221e-01, 1.12770335e-03],\n",
       "         [2.28829720e-08, 9.99181807e-01, 8.18210014e-04],\n",
       "         [2.47776129e-08, 9.99154925e-01, 8.45129078e-04],\n",
       "         [2.76900387e-08, 9.98879135e-01, 1.12082984e-03],\n",
       "         [2.85935684e-08, 9.98489261e-01, 1.51066098e-03],\n",
       "         [2.74900582e-08, 9.98471081e-01, 1.52886659e-03],\n",
       "         [3.22088418e-08, 9.98472750e-01, 1.52723258e-03],\n",
       "         [4.20801634e-08, 9.98371422e-01, 1.62858609e-03],\n",
       "         [5.37883373e-08, 9.98234868e-01, 1.76511146e-03],\n",
       "         [6.02107519e-08, 9.97794747e-01, 2.20512436e-03],\n",
       "         [4.87494134e-08, 9.97388422e-01, 2.61164526e-03],\n",
       "         [2.77460117e-08, 9.97852206e-01, 2.14783405e-03],\n",
       "         [1.87289952e-08, 9.98518050e-01, 1.48200267e-03],\n",
       "         [1.75634263e-08, 9.98911142e-01, 1.08890305e-03],\n",
       "         [1.76255561e-08, 9.99148011e-01, 8.51940538e-04],\n",
       "         [1.85725835e-08, 9.99049842e-01, 9.50171263e-04],\n",
       "         [1.88442915e-08, 9.98846889e-01, 1.15306408e-03],\n",
       "         [1.58586406e-08, 9.98907208e-01, 1.09279423e-03],\n",
       "         [1.30165088e-08, 9.99065697e-01, 9.34351759e-04],\n",
       "         [1.47858090e-08, 9.99214768e-01, 7.85217213e-04],\n",
       "         [1.78202466e-08, 9.99457777e-01, 5.42280613e-04],\n",
       "         [2.06469348e-08, 9.99537349e-01, 4.62672586e-04],\n",
       "         [2.05708481e-08, 9.99480784e-01, 5.19255409e-04],\n",
       "         [1.51432484e-08, 9.99423742e-01, 5.76232909e-04],\n",
       "         [1.16739765e-08, 9.99469697e-01, 5.30285295e-04],\n",
       "         [1.35769280e-08, 9.99545038e-01, 4.54907015e-04],\n",
       "         [1.92221048e-08, 9.99543488e-01, 4.56465117e-04],\n",
       "         [2.82799952e-08, 9.99351680e-01, 6.48337707e-04],\n",
       "         [4.07433411e-08, 9.98835862e-01, 1.16413017e-03],\n",
       "         [4.33036398e-08, 9.97724593e-01, 2.27544736e-03],\n",
       "         [3.50020741e-08, 9.96944845e-01, 3.05516645e-03],\n",
       "         [2.91474773e-08, 9.97188032e-01, 2.81193759e-03],\n",
       "         [2.49600269e-08, 9.98839915e-01, 1.16015610e-03]]], dtype=float32)>,\n",
       " <tf.Tensor: shape=(3, 100), dtype=int64, numpy=\n",
       " array([[1, 1, 1, 1, 1, 1, 2, 1, 1, 1, 1, 1, 1, 1, 1, 1, 1, 1, 1, 1, 1, 1,\n",
       "         1, 1, 1, 1, 1, 1, 1, 1, 1, 1, 1, 1, 1, 1, 1, 1, 1, 1, 1, 1, 1, 1,\n",
       "         1, 1, 1, 1, 1, 1, 1, 1, 1, 1, 1, 1, 1, 1, 1, 1, 1, 1, 1, 1, 1, 1,\n",
       "         1, 1, 1, 1, 1, 1, 1, 1, 1, 1, 1, 1, 1, 1, 1, 1, 1, 1, 1, 1, 1, 1,\n",
       "         1, 1, 1, 1, 1, 1, 1, 1, 1, 1, 1, 1],\n",
       "        [1, 1, 1, 1, 1, 1, 2, 1, 1, 1, 1, 1, 1, 2, 1, 1, 1, 1, 1, 1, 1, 1,\n",
       "         1, 1, 1, 1, 1, 1, 1, 1, 1, 1, 1, 1, 1, 1, 1, 1, 1, 1, 1, 1, 1, 1,\n",
       "         1, 1, 1, 1, 1, 1, 1, 1, 1, 1, 1, 1, 1, 1, 1, 1, 1, 1, 1, 1, 1, 1,\n",
       "         1, 1, 1, 1, 1, 1, 1, 1, 1, 1, 1, 1, 1, 1, 1, 1, 1, 1, 1, 1, 1, 1,\n",
       "         1, 1, 1, 1, 1, 1, 1, 1, 1, 1, 1, 1],\n",
       "        [1, 1, 2, 1, 2, 1, 2, 1, 2, 1, 2, 1, 2, 1, 2, 1, 1, 1, 1, 1, 1, 1,\n",
       "         1, 1, 1, 1, 1, 1, 1, 1, 1, 1, 1, 1, 1, 1, 1, 1, 1, 1, 1, 1, 1, 1,\n",
       "         1, 1, 1, 1, 1, 1, 1, 1, 1, 1, 1, 1, 1, 1, 1, 1, 1, 1, 1, 1, 1, 1,\n",
       "         1, 1, 1, 1, 1, 1, 1, 1, 1, 1, 1, 1, 1, 1, 1, 1, 1, 1, 1, 1, 1, 1,\n",
       "         1, 1, 1, 1, 1, 1, 1, 1, 1, 1, 1, 1]])>)"
      ]
     },
     "execution_count": 11,
     "metadata": {},
     "output_type": "execute_result"
    }
   ],
   "source": [
    "preds, tf.argmax(preds, axis=-1)"
   ]
  },
  {
   "cell_type": "code",
   "execution_count": 12,
   "metadata": {},
   "outputs": [
    {
     "data": {
      "text/plain": [
       "Text(0.5, 0.98, 'Probabilities of space/char conditional on character input')"
      ]
     },
     "execution_count": 12,
     "metadata": {},
     "output_type": "execute_result"
    },
    {
     "data": {
      "image/png": "[encoded data removed]",
      "text/plain": [
       "<Figure size 640x480 with 2 Axes>"
      ]
     },
     "metadata": {},
     "output_type": "display_data"
    }
   ],
   "source": [
    "import matplotlib.pyplot as plt\n",
    "fig, axs = plt.subplots(1,2)\n",
    "prob_of_space = preds[char_conditional][...,2]\n",
    "prob_of_char = preds[char_conditional][...,1]\n",
    "axs[0].hist(prob_of_space)\n",
    "axs[0].set_xlim(0,1)\n",
    "axs[1].hist(prob_of_char)\n",
    "axs[1].set_xlim(0,1)\n",
    "fig.suptitle(\"Probabilities of space/char conditional on character input\")"
   ]
  },
  {
   "cell_type": "code",
   "execution_count": 13,
   "metadata": {},
   "outputs": [
    {
     "data": {
      "image/png": "[encoded data removed]",
      "text/plain": [
       "<Figure size 640x480 with 2 Axes>"
      ]
     },
     "metadata": {},
     "output_type": "display_data"
    }
   ],
   "source": [
    "fig, axs = plt.subplots(1,2)\n",
    "prob_of_space = preds[space_conditional][...,2]\n",
    "prob_of_char = preds[space_conditional][...,1]\n",
    "axs[0].hist(prob_of_space)\n",
    "axs[1].hist(prob_of_char)\n",
    "# axs[1].set_xlim(0,1)\n",
    "fig.suptitle(\"Probabilities of space/char conditional on space input\")\n",
    "\n",
    "fig.show()"
   ]
  },
  {
   "cell_type": "code",
   "execution_count": 14,
   "metadata": {},
   "outputs": [
    {
     "data": {
      "text/plain": [
       "([0.004848417,\n",
       "  0.00023964678,\n",
       "  0.0017860088,\n",
       "  0.0009837744,\n",
       "  0.0014836056,\n",
       "  0.0017304722,\n",
       "  0.0043084803,\n",
       "  0.00026708748,\n",
       "  0.0015791642,\n",
       "  0.0058736927],\n",
       " <tf.Tensor: shape=(10,), dtype=float32, numpy=\n",
       " array([0.9951367 , 0.99975425, 0.99820805, 0.99901605, 0.99851614,\n",
       "        0.99826837, 0.9956909 , 0.99973255, 0.9984205 , 0.9941261 ],\n",
       "       dtype=float32)>)"
      ]
     },
     "execution_count": 14,
     "metadata": {},
     "output_type": "execute_result"
    }
   ],
   "source": [
    "list(prob_of_char.numpy()), prob_of_space"
   ]
  },
  {
   "cell_type": "code",
   "execution_count": 15,
   "metadata": {},
   "outputs": [
    {
     "data": {
      "text/plain": [
       "([7, 14, 16], array([ 7, 14, 16]))"
      ]
     },
     "execution_count": 15,
     "metadata": {},
     "output_type": "execute_result"
    }
   ],
   "source": [
    "[len(x) for x in test_inputs[0]], preds._keras_mask.numpy().sum(axis=1)"
   ]
  },
  {
   "cell_type": "code",
   "execution_count": null,
   "metadata": {},
   "outputs": [],
   "source": []
  }
 ],
 "metadata": {
  "kernelspec": {
   "display_name": "tf_210",
   "language": "python",
   "name": "python3"
  },
  "language_info": {
   "codemirror_mode": {
    "name": "ipython",
    "version": 3
   },
   "file_extension": ".py",
   "mimetype": "text/x-python",
   "name": "python",
   "nbconvert_exporter": "python",
   "pygments_lexer": "ipython3",
   "version": "3.8.10"
  },
  "orig_nbformat": 4,
  "vscode": {
   "interpreter": {
    "hash": "4c2409f7cd36a60864259fe7c86cc6f7edd5e2a0604f36f600c4aba8b227f5d5"
   }
  }
 },
 "nbformat": 4,
 "nbformat_minor": 2
}
