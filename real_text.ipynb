{
 "cells": [
  {
   "cell_type": "code",
   "execution_count": 1,
   "metadata": {},
   "outputs": [
    {
     "name": "stderr",
     "output_type": "stream",
     "text": [
      "2023-01-26 12:53:01.224565: I tensorflow/core/platform/cpu_feature_guard.cc:193] This TensorFlow binary is optimized with oneAPI Deep Neural Network Library (oneDNN) to use the following CPU instructions in performance-critical operations:  AVX2 AVX512F AVX512_VNNI FMA\n",
      "To enable them in other operations, rebuild TensorFlow with the appropriate compiler flags.\n",
      "2023-01-26 12:53:01.365734: I tensorflow/core/util/util.cc:169] oneDNN custom operations are on. You may see slightly different numerical results due to floating-point round-off errors from different computation orders. To turn them off, set the environment variable `TF_ENABLE_ONEDNN_OPTS=0`.\n",
      "2023-01-26 12:53:01.402222: E tensorflow/stream_executor/cuda/cuda_blas.cc:2981] Unable to register cuBLAS factory: Attempting to register factory for plugin cuBLAS when one has already been registered\n",
      "2023-01-26 12:53:02.063206: W tensorflow/stream_executor/platform/default/dso_loader.cc:64] Could not load dynamic library 'libnvinfer.so.7'; dlerror: libnvinfer.so.7: cannot open shared object file: No such file or directory\n",
      "2023-01-26 12:53:02.063262: W tensorflow/stream_executor/platform/default/dso_loader.cc:64] Could not load dynamic library 'libnvinfer_plugin.so.7'; dlerror: libnvinfer_plugin.so.7: cannot open shared object file: No such file or directory\n",
      "2023-01-26 12:53:02.063268: W tensorflow/compiler/tf2tensorrt/utils/py_utils.cc:38] TF-TRT Warning: Cannot dlopen some TensorRT libraries. If you would like to use Nvidia GPU with TensorRT, please make sure the missing libraries mentioned above are installed properly.\n"
     ]
    }
   ],
   "source": [
    "import logging\n",
    "import tensorflow as tf\n",
    "\n",
    "\n",
    "GPU_FROM = 3\n",
    "GPU_TO = 4\n",
    "\n",
    "visible_devices = tf.config.get_visible_devices('GPU')\n",
    "logging.info(f\"Num GPUs visible:{len(visible_devices)}\")\n",
    "tf.config.set_visible_devices(visible_devices[GPU_FROM:GPU_TO],'GPU')\n",
    "\n",
    "visible_devices = tf.config.get_visible_devices('GPU')\n",
    "logging.info(f\"Num GPUs to be used: {len(visible_devices)}\")"
   ]
  },
  {
   "cell_type": "code",
   "execution_count": 15,
   "metadata": {},
   "outputs": [
    {
     "name": "stdout",
     "output_type": "stream",
     "text": [
      "tf.Tensor(b\"AMD Debuts Dual-Core Opteron Processor AMD's new dual-core Opteron chip is designed mainly for corporate computing applications, including databases, Web services, and financial transactions.\", shape=(), dtype=string)\n"
     ]
    },
    {
     "name": "stderr",
     "output_type": "stream",
     "text": [
      "2023-01-26 12:59:42.737204: W tensorflow/core/kernels/data/cache_dataset_ops.cc:856] The calling iterator did not fully read the dataset being cached. In order to avoid unexpected truncation of the dataset, the partially cached contents of the dataset  will be discarded. This can happen if you have an input pipeline similar to `dataset.cache().take(k).repeat()`. You should use `dataset.take(k).cache().repeat()` instead.\n"
     ]
    }
   ],
   "source": [
    "import string\n",
    "import html\n",
    "import tensorflow_datasets as tfds\n",
    "\n",
    "from segmentation.model import SpaceSegmentationTransformer\n",
    "from segmentation.model import LossWithVoids\n",
    "\n",
    "punc_mapping = {ord(x):x for x in string.punctuation}\n",
    "entity_mapping = {f\" ?{k}\": v for k, v in html.entities.html5.items() if k.endswith(\";\") and v in string.punctuation}\n",
    "punc_mapping = {f' ?&?#?{k};': v for k, v in punc_mapping.items()}\n",
    "\n",
    "train, test = tfds.load('ag_news_subset', split=\"train\"), tfds.load('ag_news_subset', split=\"test\")\n",
    "\n",
    "def unescape(text):\n",
    "    for match, replace in punc_mapping.items():\n",
    "        text = tf.strings.regex_replace(text, match, replace)\n",
    "    for match, replace in entity_mapping.items():#\n",
    "        text = tf.strings.regex_replace(text, match, replace)\n",
    "    return text\n",
    "\n",
    "def join_title_desc(text_dict):\n",
    "    return text_dict['title'] + ' ' + text_dict['description']\n",
    "\n",
    "train = train.map(join_title_desc).map(unescape).filter(lambda x: tf.strings.length(x) > 100)\n",
    "test = test.map(join_title_desc).map(unescape).filter(lambda x: tf.strings.length(x) > 100)\n",
    "\n",
    "for x in train.take(1):\n",
    "    print(x)"
   ]
  },
  {
   "cell_type": "code",
   "execution_count": 16,
   "metadata": {},
   "outputs": [
    {
     "name": "stdout",
     "output_type": "stream",
     "text": [
      "((<tf.Tensor: shape=(), dtype=string, numpy=b\"amddebutsdual-coreopteronprocessoramd'snewdual-coreopteronchipisdesignedmainlyforcorpo\">, None), <tf.Tensor: shape=(100,), dtype=float16, numpy=\n",
      "array([1., 1., 2., 1., 1., 1., 1., 1., 2., 1., 1., 1., 1., 1., 1., 1., 1.,\n",
      "       2., 1., 1., 1., 1., 1., 1., 2., 1., 1., 1., 1., 1., 1., 1., 1., 2.,\n",
      "       1., 1., 1., 1., 2., 1., 1., 2., 1., 1., 1., 1., 1., 1., 1., 1., 2.,\n",
      "       1., 1., 1., 1., 1., 1., 2., 1., 1., 1., 2., 1., 2., 1., 1., 1., 1.,\n",
      "       1., 1., 1., 2., 1., 1., 1., 1., 1., 2., 1., 1., 2., 1., 1., 1., 1.,\n",
      "       1., 0., 0., 0., 0., 0., 0., 0., 0., 0., 0., 0., 0., 0., 0.],\n",
      "      dtype=float16)>)\n"
     ]
    },
    {
     "name": "stderr",
     "output_type": "stream",
     "text": [
      "2023-01-26 12:59:49.878079: W tensorflow/core/kernels/data/cache_dataset_ops.cc:856] The calling iterator did not fully read the dataset being cached. In order to avoid unexpected truncation of the dataset, the partially cached contents of the dataset  will be discarded. This can happen if you have an input pipeline similar to `dataset.cache().take(k).repeat()`. You should use `dataset.take(k).cache().repeat()` instead.\n"
     ]
    }
   ],
   "source": [
    "\n",
    "def generate_labels(text):\n",
    "    max_chars = 100\n",
    "\n",
    "    last_char = tf.strings.substr(text, max_chars, max_chars+1)\n",
    "    text = tf.strings.substr(text,0, max_chars)\n",
    "    text = tf.strings.lower(text)\n",
    "    split_on_whitespace = tf.strings.strip(tf.strings.split(text))\n",
    "    encoder_in = tf.strings.reduce_join(split_on_whitespace, axis=-1)\n",
    "    \n",
    "    space_indices = tf.math.cumsum(tf.strings.length(split_on_whitespace)) - 1 # subtract 1 to index from 0\n",
    "    seq_len = space_indices[-1] + 1\n",
    "    if not tf.strings.regex_full_match(last_char, \" \"):\n",
    "        space_indices = space_indices[:-1]\n",
    "    encoder_out = tf.ones((max_chars,))\n",
    "    encoder_out = tf.concat([\n",
    "        tf.ones((seq_len,)),\n",
    "        tf.zeros((max_chars - seq_len,))\n",
    "    ], axis=-1)\n",
    "    encoder_out = tf.tensor_scatter_nd_update(\n",
    "        encoder_out, \n",
    "        space_indices[...,tf.newaxis], # Expand dims to create a 'list' of indices\n",
    "        tf.ones_like(space_indices, dtype=encoder_out.dtype)*2) \n",
    "    \n",
    "    return (encoder_in, None), tf.cast(encoder_out, \"float16\")\n",
    "\n",
    "train = train.map(generate_labels)\n",
    "val = test.map(generate_labels)\n",
    "for x in train.take(1):\n",
    "    print(x)"
   ]
  },
  {
   "cell_type": "code",
   "execution_count": 17,
   "metadata": {},
   "outputs": [
    {
     "name": "stderr",
     "output_type": "stream",
     "text": [
      "2023-01-26 12:59:56.621126: W tensorflow/core/kernels/data/cache_dataset_ops.cc:856] The calling iterator did not fully read the dataset being cached. In order to avoid unexpected truncation of the dataset, the partially cached contents of the dataset  will be discarded. This can happen if you have an input pipeline similar to `dataset.cache().take(k).repeat()`. You should use `dataset.take(k).cache().repeat()` instead.\n"
     ]
    },
    {
     "data": {
      "text/plain": [
       "['',\n",
       " '[UNK]',\n",
       " 'e',\n",
       " 'a',\n",
       " 's',\n",
       " 't',\n",
       " 'o',\n",
       " 'i',\n",
       " 'r',\n",
       " 'n',\n",
       " 'l',\n",
       " 'd',\n",
       " 'c',\n",
       " 'h',\n",
       " 'u',\n",
       " 'p',\n",
       " 'm',\n",
       " 'f',\n",
       " 'g',\n",
       " 'b',\n",
       " 'w',\n",
       " 'y',\n",
       " 'k',\n",
       " 'v',\n",
       " '-',\n",
       " ',',\n",
       " '.',\n",
       " \"'\",\n",
       " '(',\n",
       " ')',\n",
       " 'x',\n",
       " '0',\n",
       " 'j',\n",
       " 'q',\n",
       " '2',\n",
       " '1',\n",
       " '&',\n",
       " ':',\n",
       " 'z',\n",
       " '3',\n",
       " '4',\n",
       " '<',\n",
       " '\"',\n",
       " '\\\\',\n",
       " '5',\n",
       " '>',\n",
       " '/',\n",
       " '7',\n",
       " '6',\n",
       " '$',\n",
       " '8',\n",
       " '9',\n",
       " ';',\n",
       " '?',\n",
       " '=',\n",
       " '!',\n",
       " '#',\n",
       " '*']"
      ]
     },
     "execution_count": 17,
     "metadata": {},
     "output_type": "execute_result"
    }
   ],
   "source": [
    "tokenizer = tf.keras.layers.TextVectorization(\n",
    "    output_sequence_length=100,\n",
    "    standardize=\"lower\",\n",
    "    split=\"character\",\n",
    "    output_mode=\"int\",\n",
    ")\n",
    "\n",
    "tokenizer.adapt(train.map(lambda x,y: x[0]).take(1000))\n",
    "tokenizer.get_vocabulary()"
   ]
  },
  {
   "cell_type": "code",
   "execution_count": 18,
   "metadata": {},
   "outputs": [],
   "source": [
    "D_MODEL = 512\n",
    "\n",
    "model = SpaceSegmentationTransformer(\n",
    "    num_layers=2,\n",
    "    d_model=D_MODEL,\n",
    "    num_attention_heads=3,\n",
    "    seq_len=100,\n",
    "    dff=1028,\n",
    "    input_tokenizer=tokenizer,\n",
    "    dropout_rate=0.1\n",
    ")"
   ]
  },
  {
   "cell_type": "code",
   "execution_count": 19,
   "metadata": {},
   "outputs": [],
   "source": [
    "from segmentation.metrics import SparseAccuracyWithIgnore\n",
    "from segmentation.metrics import SparsePrecision\n",
    "from segmentation.metrics import SparseRecall\n",
    "from segmentation.metrics import SparseF1\n",
    "class CustomSchedule(tf.keras.optimizers.schedules.LearningRateSchedule):\n",
    "    def __init__(self, d_model, warmup_steps=200):\n",
    "        super().__init__()\n",
    "\n",
    "        self.d_model = d_model\n",
    "        self.d_model = tf.cast(self.d_model, tf.float32)\n",
    "\n",
    "        self.warmup_steps = warmup_steps\n",
    "\n",
    "    def __call__(self, step):\n",
    "        step = tf.cast(step, dtype=tf.float32)\n",
    "        arg1 = tf.math.rsqrt(step)\n",
    "        arg2 = step * (self.warmup_steps ** -1.5)\n",
    "\n",
    "        return 2* tf.math.rsqrt(self.d_model) * tf.math.minimum(arg1, arg2)\n",
    "\n",
    "learning_rate = CustomSchedule(D_MODEL)\n",
    "optimizer = tf.keras.optimizers.Adam(learning_rate, beta_1=0.9, beta_2=0.98,\n",
    "                                     epsilon=1e-9)\n",
    "model.compile(\n",
    "    optimizer=optimizer,\n",
    "    loss=tf.keras.losses.SparseCategoricalCrossentropy(from_logits=True),\n",
    "    metrics=[\n",
    "        SparseAccuracyWithIgnore(ignore_token=0.),\n",
    "        SparsePrecision(class_id=2, name=\"space_precision\"),\n",
    "        SparseRecall(class_id=2, name=\"space_recall\"),\n",
    "        SparseF1(class_id=2, name=\"space_f1\"),\n",
    "        SparsePrecision(class_id=1, name=\"char_precision\"),\n",
    "        SparseRecall(class_id=1, name=\"char_recall\"),\n",
    "        SparseF1(class_id=1, name=\"char_f1\"),\n",
    "    ]\n",
    ")"
   ]
  },
  {
   "cell_type": "code",
   "execution_count": 20,
   "metadata": {},
   "outputs": [
    {
     "name": "stdout",
     "output_type": "stream",
     "text": [
      "Epoch 1/100\n",
      " 7/10 [====================>.........] - ETA: 0s - loss: 0.9525 - sparse_categorical_accuracy: 0.6300 - space_precision: 0.1611 - space_recall: 0.0867 - space_f1: 0.1127 - char_precision: 0.7202 - char_recall: 0.7570 - char_f1: 0.7381"
     ]
    },
    {
     "name": "stderr",
     "output_type": "stream",
     "text": [
      "2023-01-26 13:00:07.515761: I tensorflow/stream_executor/cuda/cuda_blas.cc:1614] TensorFloat-32 will be used for the matrix multiplication. This will only be logged once.\n"
     ]
    },
    {
     "name": "stdout",
     "output_type": "stream",
     "text": [
      "10/10 [==============================] - ETA: 0s - loss: 0.8811 - sparse_categorical_accuracy: 0.6492 - space_precision: 0.1760 - space_recall: 0.1523 - space_f1: 0.1633 - char_precision: 0.7197 - char_recall: 0.7660 - char_f1: 0.7421WARNING:tensorflow:Early stopping conditioned on metric `val_space_precision` which is not available. Available metrics are: loss,sparse_categorical_accuracy,space_precision,space_recall,space_f1,char_precision,char_recall,char_f1\n"
     ]
    },
    {
     "name": "stderr",
     "output_type": "stream",
     "text": [
      "WARNING:tensorflow:Early stopping conditioned on metric `val_space_precision` which is not available. Available metrics are: loss,sparse_categorical_accuracy,space_precision,space_recall,space_f1,char_precision,char_recall,char_f1\n"
     ]
    },
    {
     "name": "stdout",
     "output_type": "stream",
     "text": [
      "10/10 [==============================] - 5s 22ms/step - loss: 0.8811 - sparse_categorical_accuracy: 0.6492 - space_precision: 0.1760 - space_recall: 0.1523 - space_f1: 0.1633 - char_precision: 0.7197 - char_recall: 0.7660 - char_f1: 0.7421\n",
      "Epoch 2/100\n",
      "10/10 [==============================] - ETA: 0s - loss: 0.5457 - sparse_categorical_accuracy: 0.7821 - space_precision: 0.2854 - space_recall: 0.2026 - space_f1: 0.2369 - char_precision: 0.7035 - char_recall: 0.9151 - char_f1: 0.7955 WARNING:tensorflow:Early stopping conditioned on metric `val_space_precision` which is not available. Available metrics are: loss,sparse_categorical_accuracy,space_precision,space_recall,space_f1,char_precision,char_recall,char_f1\n"
     ]
    },
    {
     "name": "stderr",
     "output_type": "stream",
     "text": [
      "WARNING:tensorflow:Early stopping conditioned on metric `val_space_precision` which is not available. Available metrics are: loss,sparse_categorical_accuracy,space_precision,space_recall,space_f1,char_precision,char_recall,char_f1\n"
     ]
    },
    {
     "name": "stdout",
     "output_type": "stream",
     "text": [
      "10/10 [==============================] - 0s 22ms/step - loss: 0.5457 - sparse_categorical_accuracy: 0.7821 - space_precision: 0.2854 - space_recall: 0.2026 - space_f1: 0.2369 - char_precision: 0.7035 - char_recall: 0.9151 - char_f1: 0.7955\n",
      "Epoch 3/100\n",
      "10/10 [==============================] - ETA: 0s - loss: 0.4737 - sparse_categorical_accuracy: 0.8047 - space_precision: 0.4073 - space_recall: 0.1427 - space_f1: 0.2114 - char_precision: 0.6907 - char_recall: 0.9557 - char_f1: 0.8019 WARNING:tensorflow:Early stopping conditioned on metric `val_space_precision` which is not available. Available metrics are: loss,sparse_categorical_accuracy,space_precision,space_recall,space_f1,char_precision,char_recall,char_f1\n"
     ]
    },
    {
     "name": "stderr",
     "output_type": "stream",
     "text": [
      "WARNING:tensorflow:Early stopping conditioned on metric `val_space_precision` which is not available. Available metrics are: loss,sparse_categorical_accuracy,space_precision,space_recall,space_f1,char_precision,char_recall,char_f1\n"
     ]
    },
    {
     "name": "stdout",
     "output_type": "stream",
     "text": [
      "10/10 [==============================] - 0s 22ms/step - loss: 0.4737 - sparse_categorical_accuracy: 0.8047 - space_precision: 0.4073 - space_recall: 0.1427 - space_f1: 0.2114 - char_precision: 0.6907 - char_recall: 0.9557 - char_f1: 0.8019\n",
      "Epoch 4/100\n",
      "10/10 [==============================] - ETA: 0s - loss: 0.4476 - sparse_categorical_accuracy: 0.8160 - space_precision: 0.4453 - space_recall: 0.1470 - space_f1: 0.2210 - char_precision: 0.7027 - char_recall: 0.9630 - char_f1: 0.8125WARNING:tensorflow:Early stopping conditioned on metric `val_space_precision` which is not available. Available metrics are: loss,sparse_categorical_accuracy,space_precision,space_recall,space_f1,char_precision,char_recall,char_f1\n"
     ]
    },
    {
     "name": "stderr",
     "output_type": "stream",
     "text": [
      "WARNING:tensorflow:Early stopping conditioned on metric `val_space_precision` which is not available. Available metrics are: loss,sparse_categorical_accuracy,space_precision,space_recall,space_f1,char_precision,char_recall,char_f1\n"
     ]
    },
    {
     "name": "stdout",
     "output_type": "stream",
     "text": [
      "10/10 [==============================] - 0s 22ms/step - loss: 0.4476 - sparse_categorical_accuracy: 0.8160 - space_precision: 0.4453 - space_recall: 0.1470 - space_f1: 0.2210 - char_precision: 0.7027 - char_recall: 0.9630 - char_f1: 0.8125\n",
      "Epoch 5/100\n",
      "10/10 [==============================] - ETA: 0s - loss: 0.4334 - sparse_categorical_accuracy: 0.8199 - space_precision: 0.5289 - space_recall: 0.1408 - space_f1: 0.2224 - char_precision: 0.6980 - char_recall: 0.9724 - char_f1: 0.8126WARNING:tensorflow:Early stopping conditioned on metric `val_space_precision` which is not available. Available metrics are: loss,sparse_categorical_accuracy,space_precision,space_recall,space_f1,char_precision,char_recall,char_f1\n"
     ]
    },
    {
     "name": "stderr",
     "output_type": "stream",
     "text": [
      "WARNING:tensorflow:Early stopping conditioned on metric `val_space_precision` which is not available. Available metrics are: loss,sparse_categorical_accuracy,space_precision,space_recall,space_f1,char_precision,char_recall,char_f1\n"
     ]
    },
    {
     "name": "stdout",
     "output_type": "stream",
     "text": [
      "10/10 [==============================] - 0s 22ms/step - loss: 0.4334 - sparse_categorical_accuracy: 0.8199 - space_precision: 0.5289 - space_recall: 0.1408 - space_f1: 0.2224 - char_precision: 0.6980 - char_recall: 0.9724 - char_f1: 0.8126\n",
      "Epoch 6/100\n",
      "10/10 [==============================] - ETA: 0s - loss: 0.4240 - sparse_categorical_accuracy: 0.8218 - space_precision: 0.5863 - space_recall: 0.1307 - space_f1: 0.2138 - char_precision: 0.6949 - char_recall: 0.9790 - char_f1: 0.8128WARNING:tensorflow:Early stopping conditioned on metric `val_space_precision` which is not available. Available metrics are: loss,sparse_categorical_accuracy,space_precision,space_recall,space_f1,char_precision,char_recall,char_f1\n"
     ]
    },
    {
     "name": "stderr",
     "output_type": "stream",
     "text": [
      "WARNING:tensorflow:Early stopping conditioned on metric `val_space_precision` which is not available. Available metrics are: loss,sparse_categorical_accuracy,space_precision,space_recall,space_f1,char_precision,char_recall,char_f1\n"
     ]
    },
    {
     "name": "stdout",
     "output_type": "stream",
     "text": [
      "10/10 [==============================] - 0s 22ms/step - loss: 0.4240 - sparse_categorical_accuracy: 0.8218 - space_precision: 0.5863 - space_recall: 0.1307 - space_f1: 0.2138 - char_precision: 0.6949 - char_recall: 0.9790 - char_f1: 0.8128\n",
      "Epoch 7/100\n",
      "10/10 [==============================] - ETA: 0s - loss: 0.4633 - sparse_categorical_accuracy: 0.8144 - space_precision: 0.4654 - space_recall: 0.2028 - space_f1: 0.2825 - char_precision: 0.7033 - char_recall: 0.9504 - char_f1: 0.8084WARNING:tensorflow:Early stopping conditioned on metric `val_space_precision` which is not available. Available metrics are: loss,sparse_categorical_accuracy,space_precision,space_recall,space_f1,char_precision,char_recall,char_f1\n"
     ]
    },
    {
     "name": "stderr",
     "output_type": "stream",
     "text": [
      "WARNING:tensorflow:Early stopping conditioned on metric `val_space_precision` which is not available. Available metrics are: loss,sparse_categorical_accuracy,space_precision,space_recall,space_f1,char_precision,char_recall,char_f1\n"
     ]
    },
    {
     "name": "stdout",
     "output_type": "stream",
     "text": [
      "10/10 [==============================] - 0s 22ms/step - loss: 0.4633 - sparse_categorical_accuracy: 0.8144 - space_precision: 0.4654 - space_recall: 0.2028 - space_f1: 0.2825 - char_precision: 0.7033 - char_recall: 0.9504 - char_f1: 0.8084\n",
      "Epoch 8/100\n",
      "10/10 [==============================] - ETA: 0s - loss: 0.4881 - sparse_categorical_accuracy: 0.8114 - space_precision: 0.4262 - space_recall: 0.1699 - space_f1: 0.2430 - char_precision: 0.7015 - char_recall: 0.9535 - char_f1: 0.8083WARNING:tensorflow:Early stopping conditioned on metric `val_space_precision` which is not available. Available metrics are: loss,sparse_categorical_accuracy,space_precision,space_recall,space_f1,char_precision,char_recall,char_f1\n"
     ]
    },
    {
     "name": "stderr",
     "output_type": "stream",
     "text": [
      "WARNING:tensorflow:Early stopping conditioned on metric `val_space_precision` which is not available. Available metrics are: loss,sparse_categorical_accuracy,space_precision,space_recall,space_f1,char_precision,char_recall,char_f1\n"
     ]
    },
    {
     "name": "stdout",
     "output_type": "stream",
     "text": [
      "10/10 [==============================] - 0s 22ms/step - loss: 0.4881 - sparse_categorical_accuracy: 0.8114 - space_precision: 0.4262 - space_recall: 0.1699 - space_f1: 0.2430 - char_precision: 0.7015 - char_recall: 0.9535 - char_f1: 0.8083\n",
      "Epoch 9/100\n",
      "10/10 [==============================] - ETA: 0s - loss: 0.4509 - sparse_categorical_accuracy: 0.8204 - space_precision: 0.5405 - space_recall: 0.1352 - space_f1: 0.2163 - char_precision: 0.6972 - char_recall: 0.9742 - char_f1: 0.8127WARNING:tensorflow:Early stopping conditioned on metric `val_space_precision` which is not available. Available metrics are: loss,sparse_categorical_accuracy,space_precision,space_recall,space_f1,char_precision,char_recall,char_f1\n"
     ]
    },
    {
     "name": "stderr",
     "output_type": "stream",
     "text": [
      "WARNING:tensorflow:Early stopping conditioned on metric `val_space_precision` which is not available. Available metrics are: loss,sparse_categorical_accuracy,space_precision,space_recall,space_f1,char_precision,char_recall,char_f1\n"
     ]
    },
    {
     "name": "stdout",
     "output_type": "stream",
     "text": [
      "10/10 [==============================] - 0s 22ms/step - loss: 0.4509 - sparse_categorical_accuracy: 0.8204 - space_precision: 0.5405 - space_recall: 0.1352 - space_f1: 0.2163 - char_precision: 0.6972 - char_recall: 0.9742 - char_f1: 0.8127\n",
      "Epoch 10/100\n",
      "10/10 [==============================] - 13s 1s/step - loss: 0.4247 - sparse_categorical_accuracy: 0.8282 - space_precision: 0.6339 - space_recall: 0.1311 - space_f1: 0.2173 - char_precision: 0.7010 - char_recall: 0.9832 - char_f1: 0.8184 - val_loss: 0.4167 - val_sparse_categorical_accuracy: 0.8154 - val_space_precision: 0.4973 - val_space_recall: 0.3103 - val_space_f1: 0.3821 - val_char_precision: 0.7071 - val_char_recall: 0.9293 - val_char_f1: 0.8031\n",
      "Epoch 11/100\n",
      "10/10 [==============================] - ETA: 0s - loss: 0.4296 - sparse_categorical_accuracy: 0.8206 - space_precision: 0.5903 - space_recall: 0.1451 - space_f1: 0.2330 - char_precision: 0.6927 - char_recall: 0.9767 - char_f1: 0.8106WARNING:tensorflow:Early stopping conditioned on metric `val_space_precision` which is not available. Available metrics are: loss,sparse_categorical_accuracy,space_precision,space_recall,space_f1,char_precision,char_recall,char_f1\n"
     ]
    },
    {
     "name": "stderr",
     "output_type": "stream",
     "text": [
      "WARNING:tensorflow:Early stopping conditioned on metric `val_space_precision` which is not available. Available metrics are: loss,sparse_categorical_accuracy,space_precision,space_recall,space_f1,char_precision,char_recall,char_f1\n"
     ]
    },
    {
     "name": "stdout",
     "output_type": "stream",
     "text": [
      "10/10 [==============================] - 0s 23ms/step - loss: 0.4296 - sparse_categorical_accuracy: 0.8206 - space_precision: 0.5903 - space_recall: 0.1451 - space_f1: 0.2330 - char_precision: 0.6927 - char_recall: 0.9767 - char_f1: 0.8106\n",
      "Epoch 12/100\n",
      "10/10 [==============================] - ETA: 0s - loss: 0.4295 - sparse_categorical_accuracy: 0.8194 - space_precision: 0.5509 - space_recall: 0.0961 - space_f1: 0.1637 - char_precision: 0.6936 - char_recall: 0.9824 - char_f1: 0.8131WARNING:tensorflow:Early stopping conditioned on metric `val_space_precision` which is not available. Available metrics are: loss,sparse_categorical_accuracy,space_precision,space_recall,space_f1,char_precision,char_recall,char_f1\n"
     ]
    },
    {
     "name": "stderr",
     "output_type": "stream",
     "text": [
      "WARNING:tensorflow:Early stopping conditioned on metric `val_space_precision` which is not available. Available metrics are: loss,sparse_categorical_accuracy,space_precision,space_recall,space_f1,char_precision,char_recall,char_f1\n"
     ]
    },
    {
     "name": "stdout",
     "output_type": "stream",
     "text": [
      "10/10 [==============================] - 0s 23ms/step - loss: 0.4295 - sparse_categorical_accuracy: 0.8194 - space_precision: 0.5509 - space_recall: 0.0961 - space_f1: 0.1637 - char_precision: 0.6936 - char_recall: 0.9824 - char_f1: 0.8131\n",
      "Epoch 13/100\n",
      "10/10 [==============================] - ETA: 0s - loss: 0.4269 - sparse_categorical_accuracy: 0.8244 - space_precision: 0.5951 - space_recall: 0.0996 - space_f1: 0.1706 - char_precision: 0.6976 - char_recall: 0.9853 - char_f1: 0.8169WARNING:tensorflow:Early stopping conditioned on metric `val_space_precision` which is not available. Available metrics are: loss,sparse_categorical_accuracy,space_precision,space_recall,space_f1,char_precision,char_recall,char_f1\n"
     ]
    },
    {
     "name": "stderr",
     "output_type": "stream",
     "text": [
      "WARNING:tensorflow:Early stopping conditioned on metric `val_space_precision` which is not available. Available metrics are: loss,sparse_categorical_accuracy,space_precision,space_recall,space_f1,char_precision,char_recall,char_f1\n"
     ]
    },
    {
     "name": "stdout",
     "output_type": "stream",
     "text": [
      "10/10 [==============================] - 0s 23ms/step - loss: 0.4269 - sparse_categorical_accuracy: 0.8244 - space_precision: 0.5951 - space_recall: 0.0996 - space_f1: 0.1706 - char_precision: 0.6976 - char_recall: 0.9853 - char_f1: 0.8169\n",
      "Epoch 14/100\n",
      "10/10 [==============================] - ETA: 0s - loss: 0.4744 - sparse_categorical_accuracy: 0.8139 - space_precision: 0.5000 - space_recall: 0.1382 - space_f1: 0.2166 - char_precision: 0.6917 - char_recall: 0.9698 - char_f1: 0.8075WARNING:tensorflow:Early stopping conditioned on metric `val_space_precision` which is not available. Available metrics are: loss,sparse_categorical_accuracy,space_precision,space_recall,space_f1,char_precision,char_recall,char_f1\n"
     ]
    },
    {
     "name": "stderr",
     "output_type": "stream",
     "text": [
      "WARNING:tensorflow:Early stopping conditioned on metric `val_space_precision` which is not available. Available metrics are: loss,sparse_categorical_accuracy,space_precision,space_recall,space_f1,char_precision,char_recall,char_f1\n"
     ]
    },
    {
     "name": "stdout",
     "output_type": "stream",
     "text": [
      "10/10 [==============================] - 0s 22ms/step - loss: 0.4744 - sparse_categorical_accuracy: 0.8139 - space_precision: 0.5000 - space_recall: 0.1382 - space_f1: 0.2166 - char_precision: 0.6917 - char_recall: 0.9698 - char_f1: 0.8075\n",
      "Epoch 15/100\n",
      "10/10 [==============================] - ETA: 0s - loss: 0.4694 - sparse_categorical_accuracy: 0.8164 - space_precision: 0.3346 - space_recall: 0.0719 - space_f1: 0.1184 - char_precision: 0.6995 - char_recall: 0.9817 - char_f1: 0.8169WARNING:tensorflow:Early stopping conditioned on metric `val_space_precision` which is not available. Available metrics are: loss,sparse_categorical_accuracy,space_precision,space_recall,space_f1,char_precision,char_recall,char_f1\n"
     ]
    },
    {
     "name": "stderr",
     "output_type": "stream",
     "text": [
      "WARNING:tensorflow:Early stopping conditioned on metric `val_space_precision` which is not available. Available metrics are: loss,sparse_categorical_accuracy,space_precision,space_recall,space_f1,char_precision,char_recall,char_f1\n"
     ]
    },
    {
     "name": "stdout",
     "output_type": "stream",
     "text": [
      "10/10 [==============================] - 0s 23ms/step - loss: 0.4694 - sparse_categorical_accuracy: 0.8164 - space_precision: 0.3346 - space_recall: 0.0719 - space_f1: 0.1184 - char_precision: 0.6995 - char_recall: 0.9817 - char_f1: 0.8169\n",
      "Epoch 16/100\n",
      "10/10 [==============================] - ETA: 0s - loss: 0.4675 - sparse_categorical_accuracy: 0.8181 - space_precision: 0.1667 - space_recall: 0.0016 - space_f1: 0.0032 - char_precision: 0.6905 - char_recall: 0.9982 - char_f1: 0.8163     WARNING:tensorflow:Early stopping conditioned on metric `val_space_precision` which is not available. Available metrics are: loss,sparse_categorical_accuracy,space_precision,space_recall,space_f1,char_precision,char_recall,char_f1\n"
     ]
    },
    {
     "name": "stderr",
     "output_type": "stream",
     "text": [
      "WARNING:tensorflow:Early stopping conditioned on metric `val_space_precision` which is not available. Available metrics are: loss,sparse_categorical_accuracy,space_precision,space_recall,space_f1,char_precision,char_recall,char_f1\n"
     ]
    },
    {
     "name": "stdout",
     "output_type": "stream",
     "text": [
      "10/10 [==============================] - 0s 23ms/step - loss: 0.4675 - sparse_categorical_accuracy: 0.8181 - space_precision: 0.1667 - space_recall: 0.0016 - space_f1: 0.0032 - char_precision: 0.6905 - char_recall: 0.9982 - char_f1: 0.8163\n",
      "Epoch 17/100\n",
      "10/10 [==============================] - ETA: 0s - loss: 0.4638 - sparse_categorical_accuracy: 0.8208 - space_precision: 0.0000e+00 - space_recall: 0.0000e+00 - space_f1: nan - char_precision: 0.6933 - char_recall: 1.0000 - char_f1: 0.8188WARNING:tensorflow:Early stopping conditioned on metric `val_space_precision` which is not available. Available metrics are: loss,sparse_categorical_accuracy,space_precision,space_recall,space_f1,char_precision,char_recall,char_f1\n"
     ]
    },
    {
     "name": "stderr",
     "output_type": "stream",
     "text": [
      "WARNING:tensorflow:Early stopping conditioned on metric `val_space_precision` which is not available. Available metrics are: loss,sparse_categorical_accuracy,space_precision,space_recall,space_f1,char_precision,char_recall,char_f1\n"
     ]
    },
    {
     "name": "stdout",
     "output_type": "stream",
     "text": [
      "10/10 [==============================] - 0s 23ms/step - loss: 0.4638 - sparse_categorical_accuracy: 0.8208 - space_precision: 0.0000e+00 - space_recall: 0.0000e+00 - space_f1: nan - char_precision: 0.6933 - char_recall: 1.0000 - char_f1: 0.8188\n",
      "Epoch 18/100\n",
      "10/10 [==============================] - ETA: 0s - loss: 0.4753 - sparse_categorical_accuracy: 0.8115 - space_precision: 0.3125 - space_recall: 0.0040 - space_f1: 0.0078 - char_precision: 0.6821 - char_recall: 0.9980 - char_f1: 0.8104   WARNING:tensorflow:Early stopping conditioned on metric `val_space_precision` which is not available. Available metrics are: loss,sparse_categorical_accuracy,space_precision,space_recall,space_f1,char_precision,char_recall,char_f1\n"
     ]
    },
    {
     "name": "stderr",
     "output_type": "stream",
     "text": [
      "WARNING:tensorflow:Early stopping conditioned on metric `val_space_precision` which is not available. Available metrics are: loss,sparse_categorical_accuracy,space_precision,space_recall,space_f1,char_precision,char_recall,char_f1\n"
     ]
    },
    {
     "name": "stdout",
     "output_type": "stream",
     "text": [
      "10/10 [==============================] - 0s 23ms/step - loss: 0.4753 - sparse_categorical_accuracy: 0.8115 - space_precision: 0.3125 - space_recall: 0.0040 - space_f1: 0.0078 - char_precision: 0.6821 - char_recall: 0.9980 - char_f1: 0.8104\n",
      "Epoch 19/100\n",
      " 9/10 [==========================>...] - ETA: 0s - loss: 0.4698 - sparse_categorical_accuracy: 0.8129 - space_precision: 0.2500 - space_recall: 8.8496e-04 - space_f1: 0.0018 - char_precision: 0.6832 - char_recall: 0.9994 - char_f1: 0.8116WARNING:tensorflow:Early stopping conditioned on metric `val_space_precision` which is not available. Available metrics are: loss,sparse_categorical_accuracy,space_precision,space_recall,space_f1,char_precision,char_recall,char_f1\n"
     ]
    },
    {
     "name": "stderr",
     "output_type": "stream",
     "text": [
      "WARNING:tensorflow:Early stopping conditioned on metric `val_space_precision` which is not available. Available metrics are: loss,sparse_categorical_accuracy,space_precision,space_recall,space_f1,char_precision,char_recall,char_f1\n"
     ]
    },
    {
     "name": "stdout",
     "output_type": "stream",
     "text": [
      "10/10 [==============================] - 0s 23ms/step - loss: 0.4691 - sparse_categorical_accuracy: 0.8139 - space_precision: 0.2500 - space_recall: 8.0000e-04 - space_f1: 0.0016 - char_precision: 0.6845 - char_recall: 0.9995 - char_f1: 0.8125\n",
      "Epoch 20/100\n",
      "10/10 [==============================] - 11s 1s/step - loss: 0.4906 - sparse_categorical_accuracy: 0.8125 - space_precision: 0.0000e+00 - space_recall: 0.0000e+00 - space_f1: nan - char_precision: 0.6824 - char_recall: 1.0000 - char_f1: 0.8112 - val_loss: 0.4866 - val_sparse_categorical_accuracy: 0.8161 - val_space_precision: 0.0000e+00 - val_space_recall: 0.0000e+00 - val_space_f1: nan - val_char_precision: 0.6873 - val_char_recall: 1.0000 - val_char_f1: 0.8147\n",
      "Epoch 21/100\n",
      "10/10 [==============================] - ETA: 0s - loss: 0.4821 - sparse_categorical_accuracy: 0.8128 - space_precision: 0.0000e+00 - space_recall: 0.0000e+00 - space_f1: nan - char_precision: 0.6828 - char_recall: 0.9998 - char_f1: 0.8115WARNING:tensorflow:Early stopping conditioned on metric `val_space_precision` which is not available. Available metrics are: loss,sparse_categorical_accuracy,space_precision,space_recall,space_f1,char_precision,char_recall,char_f1\n"
     ]
    },
    {
     "name": "stderr",
     "output_type": "stream",
     "text": [
      "WARNING:tensorflow:Early stopping conditioned on metric `val_space_precision` which is not available. Available metrics are: loss,sparse_categorical_accuracy,space_precision,space_recall,space_f1,char_precision,char_recall,char_f1\n"
     ]
    },
    {
     "name": "stdout",
     "output_type": "stream",
     "text": [
      "10/10 [==============================] - 0s 22ms/step - loss: 0.4821 - sparse_categorical_accuracy: 0.8128 - space_precision: 0.0000e+00 - space_recall: 0.0000e+00 - space_f1: nan - char_precision: 0.6828 - char_recall: 0.9998 - char_f1: 0.8115\n",
      "Epoch 22/100\n",
      "10/10 [==============================] - ETA: 0s - loss: 0.4732 - sparse_categorical_accuracy: 0.8183 - space_precision: 0.0000e+00 - space_recall: 0.0000e+00 - space_f1: nan - char_precision: 0.6912 - char_recall: 0.9993 - char_f1: 0.8172WARNING:tensorflow:Early stopping conditioned on metric `val_space_precision` which is not available. Available metrics are: loss,sparse_categorical_accuracy,space_precision,space_recall,space_f1,char_precision,char_recall,char_f1\n"
     ]
    },
    {
     "name": "stderr",
     "output_type": "stream",
     "text": [
      "WARNING:tensorflow:Early stopping conditioned on metric `val_space_precision` which is not available. Available metrics are: loss,sparse_categorical_accuracy,space_precision,space_recall,space_f1,char_precision,char_recall,char_f1\n"
     ]
    },
    {
     "name": "stdout",
     "output_type": "stream",
     "text": [
      "10/10 [==============================] - 0s 22ms/step - loss: 0.4732 - sparse_categorical_accuracy: 0.8183 - space_precision: 0.0000e+00 - space_recall: 0.0000e+00 - space_f1: nan - char_precision: 0.6912 - char_recall: 0.9993 - char_f1: 0.8172\n",
      "Epoch 23/100\n",
      "10/10 [==============================] - ETA: 0s - loss: 0.4693 - sparse_categorical_accuracy: 0.8159 - space_precision: 0.0000e+00 - space_recall: 0.0000e+00 - space_f1: nan - char_precision: 0.6876 - char_recall: 0.9991 - char_f1: 0.8146WARNING:tensorflow:Early stopping conditioned on metric `val_space_precision` which is not available. Available metrics are: loss,sparse_categorical_accuracy,space_precision,space_recall,space_f1,char_precision,char_recall,char_f1\n"
     ]
    },
    {
     "name": "stderr",
     "output_type": "stream",
     "text": [
      "WARNING:tensorflow:Early stopping conditioned on metric `val_space_precision` which is not available. Available metrics are: loss,sparse_categorical_accuracy,space_precision,space_recall,space_f1,char_precision,char_recall,char_f1\n"
     ]
    },
    {
     "name": "stdout",
     "output_type": "stream",
     "text": [
      "10/10 [==============================] - 0s 22ms/step - loss: 0.4693 - sparse_categorical_accuracy: 0.8159 - space_precision: 0.0000e+00 - space_recall: 0.0000e+00 - space_f1: nan - char_precision: 0.6876 - char_recall: 0.9991 - char_f1: 0.8146\n",
      "Epoch 24/100\n",
      "10/10 [==============================] - ETA: 0s - loss: 0.4584 - sparse_categorical_accuracy: 0.8180 - space_precision: 0.4000 - space_recall: 0.0098 - space_f1: 0.0192 - char_precision: 0.6906 - char_recall: 0.9967 - char_f1: 0.8159WARNING:tensorflow:Early stopping conditioned on metric `val_space_precision` which is not available. Available metrics are: loss,sparse_categorical_accuracy,space_precision,space_recall,space_f1,char_precision,char_recall,char_f1\n"
     ]
    },
    {
     "name": "stderr",
     "output_type": "stream",
     "text": [
      "WARNING:tensorflow:Early stopping conditioned on metric `val_space_precision` which is not available. Available metrics are: loss,sparse_categorical_accuracy,space_precision,space_recall,space_f1,char_precision,char_recall,char_f1\n"
     ]
    },
    {
     "name": "stdout",
     "output_type": "stream",
     "text": [
      "10/10 [==============================] - 0s 22ms/step - loss: 0.4584 - sparse_categorical_accuracy: 0.8180 - space_precision: 0.4000 - space_recall: 0.0098 - space_f1: 0.0192 - char_precision: 0.6906 - char_recall: 0.9967 - char_f1: 0.8159\n",
      "Epoch 25/100\n",
      "10/10 [==============================] - ETA: 0s - loss: 0.4585 - sparse_categorical_accuracy: 0.8191 - space_precision: 0.0000e+00 - space_recall: 0.0000e+00 - space_f1: nan - char_precision: 0.6923 - char_recall: 1.0000 - char_f1: 0.8181WARNING:tensorflow:Early stopping conditioned on metric `val_space_precision` which is not available. Available metrics are: loss,sparse_categorical_accuracy,space_precision,space_recall,space_f1,char_precision,char_recall,char_f1\n"
     ]
    },
    {
     "name": "stderr",
     "output_type": "stream",
     "text": [
      "WARNING:tensorflow:Early stopping conditioned on metric `val_space_precision` which is not available. Available metrics are: loss,sparse_categorical_accuracy,space_precision,space_recall,space_f1,char_precision,char_recall,char_f1\n"
     ]
    },
    {
     "name": "stdout",
     "output_type": "stream",
     "text": [
      "10/10 [==============================] - 0s 22ms/step - loss: 0.4585 - sparse_categorical_accuracy: 0.8191 - space_precision: 0.0000e+00 - space_recall: 0.0000e+00 - space_f1: nan - char_precision: 0.6923 - char_recall: 1.0000 - char_f1: 0.8181\n",
      "Epoch 26/100\n",
      "10/10 [==============================] - ETA: 0s - loss: 0.4567 - sparse_categorical_accuracy: 0.8163 - space_precision: 0.5714 - space_recall: 0.0032 - space_f1: 0.0064 - char_precision: 0.6866 - char_recall: 0.9995 - char_f1: 0.8140WARNING:tensorflow:Early stopping conditioned on metric `val_space_precision` which is not available. Available metrics are: loss,sparse_categorical_accuracy,space_precision,space_recall,space_f1,char_precision,char_recall,char_f1\n"
     ]
    },
    {
     "name": "stderr",
     "output_type": "stream",
     "text": [
      "WARNING:tensorflow:Early stopping conditioned on metric `val_space_precision` which is not available. Available metrics are: loss,sparse_categorical_accuracy,space_precision,space_recall,space_f1,char_precision,char_recall,char_f1\n"
     ]
    },
    {
     "name": "stdout",
     "output_type": "stream",
     "text": [
      "10/10 [==============================] - 0s 22ms/step - loss: 0.4567 - sparse_categorical_accuracy: 0.8163 - space_precision: 0.5714 - space_recall: 0.0032 - space_f1: 0.0064 - char_precision: 0.6866 - char_recall: 0.9995 - char_f1: 0.8140\n",
      "Epoch 27/100\n",
      " 9/10 [==========================>...] - ETA: 0s - loss: 0.4417 - sparse_categorical_accuracy: 0.8195 - space_precision: 0.0000e+00 - space_recall: 0.0000e+00 - space_f1: nan - char_precision: 0.6922 - char_recall: 1.0000 - char_f1: 0.8181WARNING:tensorflow:Early stopping conditioned on metric `val_space_precision` which is not available. Available metrics are: loss,sparse_categorical_accuracy,space_precision,space_recall,space_f1,char_precision,char_recall,char_f1\n"
     ]
    },
    {
     "name": "stderr",
     "output_type": "stream",
     "text": [
      "WARNING:tensorflow:Early stopping conditioned on metric `val_space_precision` which is not available. Available metrics are: loss,sparse_categorical_accuracy,space_precision,space_recall,space_f1,char_precision,char_recall,char_f1\n"
     ]
    },
    {
     "name": "stdout",
     "output_type": "stream",
     "text": [
      "10/10 [==============================] - 0s 23ms/step - loss: 0.4418 - sparse_categorical_accuracy: 0.8202 - space_precision: 0.0000e+00 - space_recall: 0.0000e+00 - space_f1: nan - char_precision: 0.6934 - char_recall: 1.0000 - char_f1: 0.8189\n",
      "Epoch 28/100\n",
      "10/10 [==============================] - ETA: 0s - loss: 0.4586 - sparse_categorical_accuracy: 0.8191 - space_precision: 1.0000 - space_recall: 8.1833e-04 - space_f1: 0.0016 - char_precision: 0.6911 - char_recall: 1.0000 - char_f1: 0.8173WARNING:tensorflow:Early stopping conditioned on metric `val_space_precision` which is not available. Available metrics are: loss,sparse_categorical_accuracy,space_precision,space_recall,space_f1,char_precision,char_recall,char_f1\n"
     ]
    },
    {
     "name": "stderr",
     "output_type": "stream",
     "text": [
      "WARNING:tensorflow:Early stopping conditioned on metric `val_space_precision` which is not available. Available metrics are: loss,sparse_categorical_accuracy,space_precision,space_recall,space_f1,char_precision,char_recall,char_f1\n"
     ]
    },
    {
     "name": "stdout",
     "output_type": "stream",
     "text": [
      "10/10 [==============================] - 0s 22ms/step - loss: 0.4586 - sparse_categorical_accuracy: 0.8191 - space_precision: 1.0000 - space_recall: 8.1833e-04 - space_f1: 0.0016 - char_precision: 0.6911 - char_recall: 1.0000 - char_f1: 0.8173\n",
      "Epoch 29/100\n",
      "10/10 [==============================] - ETA: 0s - loss: 0.4555 - sparse_categorical_accuracy: 0.8163 - space_precision: 0.0000e+00 - space_recall: 0.0000e+00 - space_f1: nan - char_precision: 0.6876 - char_recall: 1.0000 - char_f1: 0.8149WARNING:tensorflow:Early stopping conditioned on metric `val_space_precision` which is not available. Available metrics are: loss,sparse_categorical_accuracy,space_precision,space_recall,space_f1,char_precision,char_recall,char_f1\n"
     ]
    },
    {
     "name": "stderr",
     "output_type": "stream",
     "text": [
      "WARNING:tensorflow:Early stopping conditioned on metric `val_space_precision` which is not available. Available metrics are: loss,sparse_categorical_accuracy,space_precision,space_recall,space_f1,char_precision,char_recall,char_f1\n"
     ]
    },
    {
     "name": "stdout",
     "output_type": "stream",
     "text": [
      "10/10 [==============================] - 0s 22ms/step - loss: 0.4555 - sparse_categorical_accuracy: 0.8163 - space_precision: 0.0000e+00 - space_recall: 0.0000e+00 - space_f1: nan - char_precision: 0.6876 - char_recall: 1.0000 - char_f1: 0.8149\n",
      "Epoch 30/100\n",
      "10/10 [==============================] - 11s 1s/step - loss: 0.4553 - sparse_categorical_accuracy: 0.8131 - space_precision: 0.4286 - space_recall: 0.0024 - space_f1: 0.0048 - char_precision: 0.6828 - char_recall: 0.9995 - char_f1: 0.8114 - val_loss: 0.4450 - val_sparse_categorical_accuracy: 0.8161 - val_space_precision: 0.0000e+00 - val_space_recall: 0.0000e+00 - val_space_f1: nan - val_char_precision: 0.6873 - val_char_recall: 1.0000 - val_char_f1: 0.8147\n",
      "Epoch 31/100\n",
      "10/10 [==============================] - ETA: 0s - loss: 0.4599 - sparse_categorical_accuracy: 0.8166 - space_precision: 0.0000e+00 - space_recall: 0.0000e+00 - space_f1: nan - char_precision: 0.6879 - char_recall: 1.0000 - char_f1: 0.8151WARNING:tensorflow:Early stopping conditioned on metric `val_space_precision` which is not available. Available metrics are: loss,sparse_categorical_accuracy,space_precision,space_recall,space_f1,char_precision,char_recall,char_f1\n"
     ]
    },
    {
     "name": "stderr",
     "output_type": "stream",
     "text": [
      "WARNING:tensorflow:Early stopping conditioned on metric `val_space_precision` which is not available. Available metrics are: loss,sparse_categorical_accuracy,space_precision,space_recall,space_f1,char_precision,char_recall,char_f1\n"
     ]
    },
    {
     "name": "stdout",
     "output_type": "stream",
     "text": [
      "10/10 [==============================] - 0s 22ms/step - loss: 0.4599 - sparse_categorical_accuracy: 0.8166 - space_precision: 0.0000e+00 - space_recall: 0.0000e+00 - space_f1: nan - char_precision: 0.6879 - char_recall: 1.0000 - char_f1: 0.8151\n",
      "Epoch 32/100\n",
      "10/10 [==============================] - ETA: 0s - loss: 0.4759 - sparse_categorical_accuracy: 0.7996 - space_precision: 0.1970 - space_recall: 0.0419 - space_f1: 0.0691 - char_precision: 0.6875 - char_recall: 0.9754 - char_f1: 0.8065   WARNING:tensorflow:Early stopping conditioned on metric `val_space_precision` which is not available. Available metrics are: loss,sparse_categorical_accuracy,space_precision,space_recall,space_f1,char_precision,char_recall,char_f1\n"
     ]
    },
    {
     "name": "stderr",
     "output_type": "stream",
     "text": [
      "WARNING:tensorflow:Early stopping conditioned on metric `val_space_precision` which is not available. Available metrics are: loss,sparse_categorical_accuracy,space_precision,space_recall,space_f1,char_precision,char_recall,char_f1\n"
     ]
    },
    {
     "name": "stdout",
     "output_type": "stream",
     "text": [
      "10/10 [==============================] - 0s 23ms/step - loss: 0.4759 - sparse_categorical_accuracy: 0.7996 - space_precision: 0.1970 - space_recall: 0.0419 - space_f1: 0.0691 - char_precision: 0.6875 - char_recall: 0.9754 - char_f1: 0.8065\n",
      "Epoch 33/100\n",
      "10/10 [==============================] - ETA: 0s - loss: 0.4639 - sparse_categorical_accuracy: 0.8196 - space_precision: 0.0000e+00 - space_recall: 0.0000e+00 - space_f1: nan - char_precision: 0.6919 - char_recall: 1.0000 - char_f1: 0.8179WARNING:tensorflow:Early stopping conditioned on metric `val_space_precision` which is not available. Available metrics are: loss,sparse_categorical_accuracy,space_precision,space_recall,space_f1,char_precision,char_recall,char_f1\n"
     ]
    },
    {
     "name": "stderr",
     "output_type": "stream",
     "text": [
      "WARNING:tensorflow:Early stopping conditioned on metric `val_space_precision` which is not available. Available metrics are: loss,sparse_categorical_accuracy,space_precision,space_recall,space_f1,char_precision,char_recall,char_f1\n"
     ]
    },
    {
     "name": "stdout",
     "output_type": "stream",
     "text": [
      "10/10 [==============================] - 0s 22ms/step - loss: 0.4639 - sparse_categorical_accuracy: 0.8196 - space_precision: 0.0000e+00 - space_recall: 0.0000e+00 - space_f1: nan - char_precision: 0.6919 - char_recall: 1.0000 - char_f1: 0.8179\n",
      "Epoch 34/100\n",
      "10/10 [==============================] - ETA: 0s - loss: 0.4728 - sparse_categorical_accuracy: 0.8176 - space_precision: 0.0000e+00 - space_recall: 0.0000e+00 - space_f1: nan - char_precision: 0.6892 - char_recall: 1.0000 - char_f1: 0.8160WARNING:tensorflow:Early stopping conditioned on metric `val_space_precision` which is not available. Available metrics are: loss,sparse_categorical_accuracy,space_precision,space_recall,space_f1,char_precision,char_recall,char_f1\n"
     ]
    },
    {
     "name": "stderr",
     "output_type": "stream",
     "text": [
      "WARNING:tensorflow:Early stopping conditioned on metric `val_space_precision` which is not available. Available metrics are: loss,sparse_categorical_accuracy,space_precision,space_recall,space_f1,char_precision,char_recall,char_f1\n"
     ]
    },
    {
     "name": "stdout",
     "output_type": "stream",
     "text": [
      "10/10 [==============================] - 0s 23ms/step - loss: 0.4728 - sparse_categorical_accuracy: 0.8176 - space_precision: 0.0000e+00 - space_recall: 0.0000e+00 - space_f1: nan - char_precision: 0.6892 - char_recall: 1.0000 - char_f1: 0.8160\n",
      "Epoch 35/100\n",
      "10/10 [==============================] - ETA: 0s - loss: 0.4736 - sparse_categorical_accuracy: 0.8177 - space_precision: 0.0000e+00 - space_recall: 0.0000e+00 - space_f1: nan - char_precision: 0.6896 - char_recall: 1.0000 - char_f1: 0.8163WARNING:tensorflow:Early stopping conditioned on metric `val_space_precision` which is not available. Available metrics are: loss,sparse_categorical_accuracy,space_precision,space_recall,space_f1,char_precision,char_recall,char_f1\n"
     ]
    },
    {
     "name": "stderr",
     "output_type": "stream",
     "text": [
      "WARNING:tensorflow:Early stopping conditioned on metric `val_space_precision` which is not available. Available metrics are: loss,sparse_categorical_accuracy,space_precision,space_recall,space_f1,char_precision,char_recall,char_f1\n"
     ]
    },
    {
     "name": "stdout",
     "output_type": "stream",
     "text": [
      "10/10 [==============================] - 0s 22ms/step - loss: 0.4736 - sparse_categorical_accuracy: 0.8177 - space_precision: 0.0000e+00 - space_recall: 0.0000e+00 - space_f1: nan - char_precision: 0.6896 - char_recall: 1.0000 - char_f1: 0.8163\n",
      "Epoch 36/100\n",
      "10/10 [==============================] - ETA: 0s - loss: 0.4793 - sparse_categorical_accuracy: 0.8121 - space_precision: 0.0000e+00 - space_recall: 0.0000e+00 - space_f1: nan - char_precision: 0.6816 - char_recall: 1.0000 - char_f1: 0.8107WARNING:tensorflow:Early stopping conditioned on metric `val_space_precision` which is not available. Available metrics are: loss,sparse_categorical_accuracy,space_precision,space_recall,space_f1,char_precision,char_recall,char_f1\n"
     ]
    },
    {
     "name": "stderr",
     "output_type": "stream",
     "text": [
      "WARNING:tensorflow:Early stopping conditioned on metric `val_space_precision` which is not available. Available metrics are: loss,sparse_categorical_accuracy,space_precision,space_recall,space_f1,char_precision,char_recall,char_f1\n"
     ]
    },
    {
     "name": "stdout",
     "output_type": "stream",
     "text": [
      "10/10 [==============================] - 0s 23ms/step - loss: 0.4793 - sparse_categorical_accuracy: 0.8121 - space_precision: 0.0000e+00 - space_recall: 0.0000e+00 - space_f1: nan - char_precision: 0.6816 - char_recall: 1.0000 - char_f1: 0.8107\n",
      "Epoch 37/100\n",
      "10/10 [==============================] - ETA: 0s - loss: 0.4735 - sparse_categorical_accuracy: 0.8147 - space_precision: 0.0000e+00 - space_recall: 0.0000e+00 - space_f1: nan - char_precision: 0.6858 - char_recall: 1.0000 - char_f1: 0.8136WARNING:tensorflow:Early stopping conditioned on metric `val_space_precision` which is not available. Available metrics are: loss,sparse_categorical_accuracy,space_precision,space_recall,space_f1,char_precision,char_recall,char_f1\n"
     ]
    },
    {
     "name": "stderr",
     "output_type": "stream",
     "text": [
      "WARNING:tensorflow:Early stopping conditioned on metric `val_space_precision` which is not available. Available metrics are: loss,sparse_categorical_accuracy,space_precision,space_recall,space_f1,char_precision,char_recall,char_f1\n"
     ]
    },
    {
     "name": "stdout",
     "output_type": "stream",
     "text": [
      "10/10 [==============================] - 0s 22ms/step - loss: 0.4735 - sparse_categorical_accuracy: 0.8147 - space_precision: 0.0000e+00 - space_recall: 0.0000e+00 - space_f1: nan - char_precision: 0.6858 - char_recall: 1.0000 - char_f1: 0.8136\n",
      "Epoch 38/100\n",
      "10/10 [==============================] - ETA: 0s - loss: 0.4632 - sparse_categorical_accuracy: 0.8200 - space_precision: 0.0000e+00 - space_recall: 0.0000e+00 - space_f1: nan - char_precision: 0.6929 - char_recall: 1.0000 - char_f1: 0.8186WARNING:tensorflow:Early stopping conditioned on metric `val_space_precision` which is not available. Available metrics are: loss,sparse_categorical_accuracy,space_precision,space_recall,space_f1,char_precision,char_recall,char_f1\n"
     ]
    },
    {
     "name": "stderr",
     "output_type": "stream",
     "text": [
      "WARNING:tensorflow:Early stopping conditioned on metric `val_space_precision` which is not available. Available metrics are: loss,sparse_categorical_accuracy,space_precision,space_recall,space_f1,char_precision,char_recall,char_f1\n"
     ]
    },
    {
     "name": "stdout",
     "output_type": "stream",
     "text": [
      "10/10 [==============================] - 0s 24ms/step - loss: 0.4632 - sparse_categorical_accuracy: 0.8200 - space_precision: 0.0000e+00 - space_recall: 0.0000e+00 - space_f1: nan - char_precision: 0.6929 - char_recall: 1.0000 - char_f1: 0.8186\n",
      "Epoch 39/100\n",
      "10/10 [==============================] - ETA: 0s - loss: 0.4723 - sparse_categorical_accuracy: 0.8162 - space_precision: 0.0000e+00 - space_recall: 0.0000e+00 - space_f1: nan - char_precision: 0.6870 - char_recall: 1.0000 - char_f1: 0.8145WARNING:tensorflow:Early stopping conditioned on metric `val_space_precision` which is not available. Available metrics are: loss,sparse_categorical_accuracy,space_precision,space_recall,space_f1,char_precision,char_recall,char_f1\n"
     ]
    },
    {
     "name": "stderr",
     "output_type": "stream",
     "text": [
      "WARNING:tensorflow:Early stopping conditioned on metric `val_space_precision` which is not available. Available metrics are: loss,sparse_categorical_accuracy,space_precision,space_recall,space_f1,char_precision,char_recall,char_f1\n"
     ]
    },
    {
     "name": "stdout",
     "output_type": "stream",
     "text": [
      "10/10 [==============================] - 0s 23ms/step - loss: 0.4723 - sparse_categorical_accuracy: 0.8162 - space_precision: 0.0000e+00 - space_recall: 0.0000e+00 - space_f1: nan - char_precision: 0.6870 - char_recall: 1.0000 - char_f1: 0.8145\n",
      "Epoch 40/100\n",
      "10/10 [==============================] - 11s 1s/step - loss: 0.4647 - sparse_categorical_accuracy: 0.8206 - space_precision: 0.0000e+00 - space_recall: 0.0000e+00 - space_f1: nan - char_precision: 0.6935 - char_recall: 1.0000 - char_f1: 0.8190 - val_loss: 0.4713 - val_sparse_categorical_accuracy: 0.8161 - val_space_precision: 0.0000e+00 - val_space_recall: 0.0000e+00 - val_space_f1: nan - val_char_precision: 0.6873 - val_char_recall: 1.0000 - val_char_f1: 0.8147\n",
      "Epoch 41/100\n",
      "10/10 [==============================] - ETA: 0s - loss: 0.4626 - sparse_categorical_accuracy: 0.8209 - space_precision: 0.0000e+00 - space_recall: 0.0000e+00 - space_f1: nan - char_precision: 0.6945 - char_recall: 1.0000 - char_f1: 0.8197WARNING:tensorflow:Early stopping conditioned on metric `val_space_precision` which is not available. Available metrics are: loss,sparse_categorical_accuracy,space_precision,space_recall,space_f1,char_precision,char_recall,char_f1\n"
     ]
    },
    {
     "name": "stderr",
     "output_type": "stream",
     "text": [
      "WARNING:tensorflow:Early stopping conditioned on metric `val_space_precision` which is not available. Available metrics are: loss,sparse_categorical_accuracy,space_precision,space_recall,space_f1,char_precision,char_recall,char_f1\n"
     ]
    },
    {
     "name": "stdout",
     "output_type": "stream",
     "text": [
      "10/10 [==============================] - 0s 23ms/step - loss: 0.4626 - sparse_categorical_accuracy: 0.8209 - space_precision: 0.0000e+00 - space_recall: 0.0000e+00 - space_f1: nan - char_precision: 0.6945 - char_recall: 1.0000 - char_f1: 0.8197\n",
      "Epoch 42/100\n",
      "10/10 [==============================] - ETA: 0s - loss: 0.4751 - sparse_categorical_accuracy: 0.8116 - space_precision: 0.0000e+00 - space_recall: 0.0000e+00 - space_f1: nan - char_precision: 0.6812 - char_recall: 1.0000 - char_f1: 0.8104WARNING:tensorflow:Early stopping conditioned on metric `val_space_precision` which is not available. Available metrics are: loss,sparse_categorical_accuracy,space_precision,space_recall,space_f1,char_precision,char_recall,char_f1\n"
     ]
    },
    {
     "name": "stderr",
     "output_type": "stream",
     "text": [
      "WARNING:tensorflow:Early stopping conditioned on metric `val_space_precision` which is not available. Available metrics are: loss,sparse_categorical_accuracy,space_precision,space_recall,space_f1,char_precision,char_recall,char_f1\n"
     ]
    },
    {
     "name": "stdout",
     "output_type": "stream",
     "text": [
      "10/10 [==============================] - 0s 23ms/step - loss: 0.4751 - sparse_categorical_accuracy: 0.8116 - space_precision: 0.0000e+00 - space_recall: 0.0000e+00 - space_f1: nan - char_precision: 0.6812 - char_recall: 1.0000 - char_f1: 0.8104\n",
      "Epoch 43/100\n",
      "10/10 [==============================] - ETA: 0s - loss: 0.4664 - sparse_categorical_accuracy: 0.8191 - space_precision: 0.0000e+00 - space_recall: 0.0000e+00 - space_f1: nan - char_precision: 0.6915 - char_recall: 1.0000 - char_f1: 0.8176WARNING:tensorflow:Early stopping conditioned on metric `val_space_precision` which is not available. Available metrics are: loss,sparse_categorical_accuracy,space_precision,space_recall,space_f1,char_precision,char_recall,char_f1\n"
     ]
    },
    {
     "name": "stderr",
     "output_type": "stream",
     "text": [
      "WARNING:tensorflow:Early stopping conditioned on metric `val_space_precision` which is not available. Available metrics are: loss,sparse_categorical_accuracy,space_precision,space_recall,space_f1,char_precision,char_recall,char_f1\n"
     ]
    },
    {
     "name": "stdout",
     "output_type": "stream",
     "text": [
      "10/10 [==============================] - 0s 22ms/step - loss: 0.4664 - sparse_categorical_accuracy: 0.8191 - space_precision: 0.0000e+00 - space_recall: 0.0000e+00 - space_f1: nan - char_precision: 0.6915 - char_recall: 1.0000 - char_f1: 0.8176\n",
      "Epoch 44/100\n",
      "10/10 [==============================] - ETA: 0s - loss: 0.4650 - sparse_categorical_accuracy: 0.8189 - space_precision: 0.0000e+00 - space_recall: 0.0000e+00 - space_f1: nan - char_precision: 0.6916 - char_recall: 1.0000 - char_f1: 0.8177WARNING:tensorflow:Early stopping conditioned on metric `val_space_precision` which is not available. Available metrics are: loss,sparse_categorical_accuracy,space_precision,space_recall,space_f1,char_precision,char_recall,char_f1\n"
     ]
    },
    {
     "name": "stderr",
     "output_type": "stream",
     "text": [
      "WARNING:tensorflow:Early stopping conditioned on metric `val_space_precision` which is not available. Available metrics are: loss,sparse_categorical_accuracy,space_precision,space_recall,space_f1,char_precision,char_recall,char_f1\n"
     ]
    },
    {
     "name": "stdout",
     "output_type": "stream",
     "text": [
      "10/10 [==============================] - 0s 23ms/step - loss: 0.4650 - sparse_categorical_accuracy: 0.8189 - space_precision: 0.0000e+00 - space_recall: 0.0000e+00 - space_f1: nan - char_precision: 0.6916 - char_recall: 1.0000 - char_f1: 0.8177\n",
      "Epoch 45/100\n",
      "10/10 [==============================] - ETA: 0s - loss: 0.4704 - sparse_categorical_accuracy: 0.8170 - space_precision: 0.0000e+00 - space_recall: 0.0000e+00 - space_f1: nan - char_precision: 0.6888 - char_recall: 1.0000 - char_f1: 0.8157WARNING:tensorflow:Early stopping conditioned on metric `val_space_precision` which is not available. Available metrics are: loss,sparse_categorical_accuracy,space_precision,space_recall,space_f1,char_precision,char_recall,char_f1\n"
     ]
    },
    {
     "name": "stderr",
     "output_type": "stream",
     "text": [
      "WARNING:tensorflow:Early stopping conditioned on metric `val_space_precision` which is not available. Available metrics are: loss,sparse_categorical_accuracy,space_precision,space_recall,space_f1,char_precision,char_recall,char_f1\n"
     ]
    },
    {
     "name": "stdout",
     "output_type": "stream",
     "text": [
      "10/10 [==============================] - 0s 22ms/step - loss: 0.4704 - sparse_categorical_accuracy: 0.8170 - space_precision: 0.0000e+00 - space_recall: 0.0000e+00 - space_f1: nan - char_precision: 0.6888 - char_recall: 1.0000 - char_f1: 0.8157\n",
      "Epoch 46/100\n",
      "10/10 [==============================] - ETA: 0s - loss: 0.4690 - sparse_categorical_accuracy: 0.8178 - space_precision: 0.0000e+00 - space_recall: 0.0000e+00 - space_f1: nan - char_precision: 0.6896 - char_recall: 1.0000 - char_f1: 0.8163WARNING:tensorflow:Early stopping conditioned on metric `val_space_precision` which is not available. Available metrics are: loss,sparse_categorical_accuracy,space_precision,space_recall,space_f1,char_precision,char_recall,char_f1\n"
     ]
    },
    {
     "name": "stderr",
     "output_type": "stream",
     "text": [
      "WARNING:tensorflow:Early stopping conditioned on metric `val_space_precision` which is not available. Available metrics are: loss,sparse_categorical_accuracy,space_precision,space_recall,space_f1,char_precision,char_recall,char_f1\n"
     ]
    },
    {
     "name": "stdout",
     "output_type": "stream",
     "text": [
      "10/10 [==============================] - 0s 22ms/step - loss: 0.4690 - sparse_categorical_accuracy: 0.8178 - space_precision: 0.0000e+00 - space_recall: 0.0000e+00 - space_f1: nan - char_precision: 0.6896 - char_recall: 1.0000 - char_f1: 0.8163\n",
      "Epoch 47/100\n",
      "10/10 [==============================] - ETA: 0s - loss: 0.4875 - sparse_categorical_accuracy: 0.8141 - space_precision: 0.0000e+00 - space_recall: 0.0000e+00 - space_f1: nan - char_precision: 0.6844 - char_recall: 1.0000 - char_f1: 0.8126WARNING:tensorflow:Early stopping conditioned on metric `val_space_precision` which is not available. Available metrics are: loss,sparse_categorical_accuracy,space_precision,space_recall,space_f1,char_precision,char_recall,char_f1\n"
     ]
    },
    {
     "name": "stderr",
     "output_type": "stream",
     "text": [
      "WARNING:tensorflow:Early stopping conditioned on metric `val_space_precision` which is not available. Available metrics are: loss,sparse_categorical_accuracy,space_precision,space_recall,space_f1,char_precision,char_recall,char_f1\n"
     ]
    },
    {
     "name": "stdout",
     "output_type": "stream",
     "text": [
      "10/10 [==============================] - 0s 22ms/step - loss: 0.4875 - sparse_categorical_accuracy: 0.8141 - space_precision: 0.0000e+00 - space_recall: 0.0000e+00 - space_f1: nan - char_precision: 0.6844 - char_recall: 1.0000 - char_f1: 0.8126\n",
      "Epoch 48/100\n",
      "10/10 [==============================] - ETA: 0s - loss: 0.4787 - sparse_categorical_accuracy: 0.8157 - space_precision: 0.0000e+00 - space_recall: 0.0000e+00 - space_f1: nan - char_precision: 0.6866 - char_recall: 1.0000 - char_f1: 0.8142WARNING:tensorflow:Early stopping conditioned on metric `val_space_precision` which is not available. Available metrics are: loss,sparse_categorical_accuracy,space_precision,space_recall,space_f1,char_precision,char_recall,char_f1\n"
     ]
    },
    {
     "name": "stderr",
     "output_type": "stream",
     "text": [
      "WARNING:tensorflow:Early stopping conditioned on metric `val_space_precision` which is not available. Available metrics are: loss,sparse_categorical_accuracy,space_precision,space_recall,space_f1,char_precision,char_recall,char_f1\n"
     ]
    },
    {
     "name": "stdout",
     "output_type": "stream",
     "text": [
      "10/10 [==============================] - 0s 22ms/step - loss: 0.4787 - sparse_categorical_accuracy: 0.8157 - space_precision: 0.0000e+00 - space_recall: 0.0000e+00 - space_f1: nan - char_precision: 0.6866 - char_recall: 1.0000 - char_f1: 0.8142\n",
      "Epoch 49/100\n",
      "10/10 [==============================] - ETA: 0s - loss: 0.4672 - sparse_categorical_accuracy: 0.8204 - space_precision: 0.0000e+00 - space_recall: 0.0000e+00 - space_f1: nan - char_precision: 0.6938 - char_recall: 1.0000 - char_f1: 0.8192WARNING:tensorflow:Early stopping conditioned on metric `val_space_precision` which is not available. Available metrics are: loss,sparse_categorical_accuracy,space_precision,space_recall,space_f1,char_precision,char_recall,char_f1\n"
     ]
    },
    {
     "name": "stderr",
     "output_type": "stream",
     "text": [
      "WARNING:tensorflow:Early stopping conditioned on metric `val_space_precision` which is not available. Available metrics are: loss,sparse_categorical_accuracy,space_precision,space_recall,space_f1,char_precision,char_recall,char_f1\n"
     ]
    },
    {
     "name": "stdout",
     "output_type": "stream",
     "text": [
      "10/10 [==============================] - 0s 22ms/step - loss: 0.4672 - sparse_categorical_accuracy: 0.8204 - space_precision: 0.0000e+00 - space_recall: 0.0000e+00 - space_f1: nan - char_precision: 0.6938 - char_recall: 1.0000 - char_f1: 0.8192\n",
      "Epoch 50/100\n",
      "10/10 [==============================] - 11s 1s/step - loss: 0.4681 - sparse_categorical_accuracy: 0.8156 - space_precision: 0.0000e+00 - space_recall: 0.0000e+00 - space_f1: nan - char_precision: 0.6870 - char_recall: 1.0000 - char_f1: 0.8145 - val_loss: 0.4609 - val_sparse_categorical_accuracy: 0.8161 - val_space_precision: 0.0000e+00 - val_space_recall: 0.0000e+00 - val_space_f1: nan - val_char_precision: 0.6873 - val_char_recall: 1.0000 - val_char_f1: 0.8147\n",
      "Epoch 51/100\n",
      "10/10 [==============================] - ETA: 0s - loss: 0.4885 - sparse_categorical_accuracy: 0.8096 - space_precision: 0.0000e+00 - space_recall: 0.0000e+00 - space_f1: nan - char_precision: 0.6780 - char_recall: 1.0000 - char_f1: 0.8081WARNING:tensorflow:Early stopping conditioned on metric `val_space_precision` which is not available. Available metrics are: loss,sparse_categorical_accuracy,space_precision,space_recall,space_f1,char_precision,char_recall,char_f1\n"
     ]
    },
    {
     "name": "stderr",
     "output_type": "stream",
     "text": [
      "WARNING:tensorflow:Early stopping conditioned on metric `val_space_precision` which is not available. Available metrics are: loss,sparse_categorical_accuracy,space_precision,space_recall,space_f1,char_precision,char_recall,char_f1\n"
     ]
    },
    {
     "name": "stdout",
     "output_type": "stream",
     "text": [
      "10/10 [==============================] - 0s 24ms/step - loss: 0.4885 - sparse_categorical_accuracy: 0.8096 - space_precision: 0.0000e+00 - space_recall: 0.0000e+00 - space_f1: nan - char_precision: 0.6780 - char_recall: 1.0000 - char_f1: 0.8081\n",
      "Epoch 52/100\n",
      "10/10 [==============================] - ETA: 0s - loss: 0.4790 - sparse_categorical_accuracy: 0.8157 - space_precision: 0.0000e+00 - space_recall: 0.0000e+00 - space_f1: nan - char_precision: 0.6865 - char_recall: 1.0000 - char_f1: 0.8141WARNING:tensorflow:Early stopping conditioned on metric `val_space_precision` which is not available. Available metrics are: loss,sparse_categorical_accuracy,space_precision,space_recall,space_f1,char_precision,char_recall,char_f1\n"
     ]
    },
    {
     "name": "stderr",
     "output_type": "stream",
     "text": [
      "WARNING:tensorflow:Early stopping conditioned on metric `val_space_precision` which is not available. Available metrics are: loss,sparse_categorical_accuracy,space_precision,space_recall,space_f1,char_precision,char_recall,char_f1\n"
     ]
    },
    {
     "name": "stdout",
     "output_type": "stream",
     "text": [
      "10/10 [==============================] - 0s 23ms/step - loss: 0.4790 - sparse_categorical_accuracy: 0.8157 - space_precision: 0.0000e+00 - space_recall: 0.0000e+00 - space_f1: nan - char_precision: 0.6865 - char_recall: 1.0000 - char_f1: 0.8141\n",
      "Epoch 53/100\n",
      "10/10 [==============================] - ETA: 0s - loss: 0.4724 - sparse_categorical_accuracy: 0.8199 - space_precision: 0.0000e+00 - space_recall: 0.0000e+00 - space_f1: nan - char_precision: 0.6925 - char_recall: 1.0000 - char_f1: 0.8183WARNING:tensorflow:Early stopping conditioned on metric `val_space_precision` which is not available. Available metrics are: loss,sparse_categorical_accuracy,space_precision,space_recall,space_f1,char_precision,char_recall,char_f1\n"
     ]
    },
    {
     "name": "stderr",
     "output_type": "stream",
     "text": [
      "WARNING:tensorflow:Early stopping conditioned on metric `val_space_precision` which is not available. Available metrics are: loss,sparse_categorical_accuracy,space_precision,space_recall,space_f1,char_precision,char_recall,char_f1\n"
     ]
    },
    {
     "name": "stdout",
     "output_type": "stream",
     "text": [
      "10/10 [==============================] - 0s 23ms/step - loss: 0.4724 - sparse_categorical_accuracy: 0.8199 - space_precision: 0.0000e+00 - space_recall: 0.0000e+00 - space_f1: nan - char_precision: 0.6925 - char_recall: 1.0000 - char_f1: 0.8183\n",
      "Epoch 54/100\n",
      "10/10 [==============================] - ETA: 0s - loss: 0.4789 - sparse_categorical_accuracy: 0.8155 - space_precision: 0.0000e+00 - space_recall: 0.0000e+00 - space_f1: nan - char_precision: 0.6866 - char_recall: 1.0000 - char_f1: 0.8142WARNING:tensorflow:Early stopping conditioned on metric `val_space_precision` which is not available. Available metrics are: loss,sparse_categorical_accuracy,space_precision,space_recall,space_f1,char_precision,char_recall,char_f1\n"
     ]
    },
    {
     "name": "stderr",
     "output_type": "stream",
     "text": [
      "WARNING:tensorflow:Early stopping conditioned on metric `val_space_precision` which is not available. Available metrics are: loss,sparse_categorical_accuracy,space_precision,space_recall,space_f1,char_precision,char_recall,char_f1\n"
     ]
    },
    {
     "name": "stdout",
     "output_type": "stream",
     "text": [
      "10/10 [==============================] - 0s 23ms/step - loss: 0.4789 - sparse_categorical_accuracy: 0.8155 - space_precision: 0.0000e+00 - space_recall: 0.0000e+00 - space_f1: nan - char_precision: 0.6866 - char_recall: 1.0000 - char_f1: 0.8142\n",
      "Epoch 55/100\n",
      "10/10 [==============================] - ETA: 0s - loss: 0.4836 - sparse_categorical_accuracy: 0.8121 - space_precision: 0.0000e+00 - space_recall: 0.0000e+00 - space_f1: nan - char_precision: 0.6817 - char_recall: 1.0000 - char_f1: 0.8108WARNING:tensorflow:Early stopping conditioned on metric `val_space_precision` which is not available. Available metrics are: loss,sparse_categorical_accuracy,space_precision,space_recall,space_f1,char_precision,char_recall,char_f1\n"
     ]
    },
    {
     "name": "stderr",
     "output_type": "stream",
     "text": [
      "WARNING:tensorflow:Early stopping conditioned on metric `val_space_precision` which is not available. Available metrics are: loss,sparse_categorical_accuracy,space_precision,space_recall,space_f1,char_precision,char_recall,char_f1\n"
     ]
    },
    {
     "name": "stdout",
     "output_type": "stream",
     "text": [
      "10/10 [==============================] - 0s 22ms/step - loss: 0.4836 - sparse_categorical_accuracy: 0.8121 - space_precision: 0.0000e+00 - space_recall: 0.0000e+00 - space_f1: nan - char_precision: 0.6817 - char_recall: 1.0000 - char_f1: 0.8108\n",
      "Epoch 56/100\n",
      "10/10 [==============================] - ETA: 0s - loss: 0.4798 - sparse_categorical_accuracy: 0.8146 - space_precision: 0.0000e+00 - space_recall: 0.0000e+00 - space_f1: nan - char_precision: 0.6856 - char_recall: 1.0000 - char_f1: 0.8135WARNING:tensorflow:Early stopping conditioned on metric `val_space_precision` which is not available. Available metrics are: loss,sparse_categorical_accuracy,space_precision,space_recall,space_f1,char_precision,char_recall,char_f1\n"
     ]
    },
    {
     "name": "stderr",
     "output_type": "stream",
     "text": [
      "WARNING:tensorflow:Early stopping conditioned on metric `val_space_precision` which is not available. Available metrics are: loss,sparse_categorical_accuracy,space_precision,space_recall,space_f1,char_precision,char_recall,char_f1\n"
     ]
    },
    {
     "name": "stdout",
     "output_type": "stream",
     "text": [
      "10/10 [==============================] - 0s 22ms/step - loss: 0.4798 - sparse_categorical_accuracy: 0.8146 - space_precision: 0.0000e+00 - space_recall: 0.0000e+00 - space_f1: nan - char_precision: 0.6856 - char_recall: 1.0000 - char_f1: 0.8135\n",
      "Epoch 57/100\n",
      "10/10 [==============================] - ETA: 0s - loss: 0.4819 - sparse_categorical_accuracy: 0.8132 - space_precision: 0.0000e+00 - space_recall: 0.0000e+00 - space_f1: nan - char_precision: 0.6823 - char_recall: 1.0000 - char_f1: 0.8111WARNING:tensorflow:Early stopping conditioned on metric `val_space_precision` which is not available. Available metrics are: loss,sparse_categorical_accuracy,space_precision,space_recall,space_f1,char_precision,char_recall,char_f1\n"
     ]
    },
    {
     "name": "stderr",
     "output_type": "stream",
     "text": [
      "WARNING:tensorflow:Early stopping conditioned on metric `val_space_precision` which is not available. Available metrics are: loss,sparse_categorical_accuracy,space_precision,space_recall,space_f1,char_precision,char_recall,char_f1\n"
     ]
    },
    {
     "name": "stdout",
     "output_type": "stream",
     "text": [
      "10/10 [==============================] - 0s 22ms/step - loss: 0.4819 - sparse_categorical_accuracy: 0.8132 - space_precision: 0.0000e+00 - space_recall: 0.0000e+00 - space_f1: nan - char_precision: 0.6823 - char_recall: 1.0000 - char_f1: 0.8111\n",
      "Epoch 58/100\n",
      "10/10 [==============================] - ETA: 0s - loss: 0.4829 - sparse_categorical_accuracy: 0.8130 - space_precision: 0.0000e+00 - space_recall: 0.0000e+00 - space_f1: nan - char_precision: 0.6826 - char_recall: 1.0000 - char_f1: 0.8114WARNING:tensorflow:Early stopping conditioned on metric `val_space_precision` which is not available. Available metrics are: loss,sparse_categorical_accuracy,space_precision,space_recall,space_f1,char_precision,char_recall,char_f1\n"
     ]
    },
    {
     "name": "stderr",
     "output_type": "stream",
     "text": [
      "WARNING:tensorflow:Early stopping conditioned on metric `val_space_precision` which is not available. Available metrics are: loss,sparse_categorical_accuracy,space_precision,space_recall,space_f1,char_precision,char_recall,char_f1\n"
     ]
    },
    {
     "name": "stdout",
     "output_type": "stream",
     "text": [
      "10/10 [==============================] - 0s 22ms/step - loss: 0.4829 - sparse_categorical_accuracy: 0.8130 - space_precision: 0.0000e+00 - space_recall: 0.0000e+00 - space_f1: nan - char_precision: 0.6826 - char_recall: 1.0000 - char_f1: 0.8114\n",
      "Epoch 59/100\n",
      " 9/10 [==========================>...] - ETA: 0s - loss: 0.4682 - sparse_categorical_accuracy: 0.8234 - space_precision: 0.0000e+00 - space_recall: 0.0000e+00 - space_f1: nan - char_precision: 0.6967 - char_recall: 1.0000 - char_f1: 0.8212WARNING:tensorflow:Early stopping conditioned on metric `val_space_precision` which is not available. Available metrics are: loss,sparse_categorical_accuracy,space_precision,space_recall,space_f1,char_precision,char_recall,char_f1\n"
     ]
    },
    {
     "name": "stderr",
     "output_type": "stream",
     "text": [
      "WARNING:tensorflow:Early stopping conditioned on metric `val_space_precision` which is not available. Available metrics are: loss,sparse_categorical_accuracy,space_precision,space_recall,space_f1,char_precision,char_recall,char_f1\n"
     ]
    },
    {
     "name": "stdout",
     "output_type": "stream",
     "text": [
      "10/10 [==============================] - 0s 24ms/step - loss: 0.4683 - sparse_categorical_accuracy: 0.8232 - space_precision: 0.0000e+00 - space_recall: 0.0000e+00 - space_f1: nan - char_precision: 0.6963 - char_recall: 1.0000 - char_f1: 0.8209\n",
      "Epoch 60/100\n",
      "10/10 [==============================] - 11s 1s/step - loss: 0.4808 - sparse_categorical_accuracy: 0.8142 - space_precision: 0.0000e+00 - space_recall: 0.0000e+00 - space_f1: nan - char_precision: 0.6846 - char_recall: 1.0000 - char_f1: 0.8128 - val_loss: 0.4804 - val_sparse_categorical_accuracy: 0.8161 - val_space_precision: 0.0000e+00 - val_space_recall: 0.0000e+00 - val_space_f1: nan - val_char_precision: 0.6873 - val_char_recall: 1.0000 - val_char_f1: 0.8147\n",
      "Epoch 61/100\n",
      "10/10 [==============================] - ETA: 0s - loss: 0.4727 - sparse_categorical_accuracy: 0.8200 - space_precision: 0.0000e+00 - space_recall: 0.0000e+00 - space_f1: nan - char_precision: 0.6926 - char_recall: 1.0000 - char_f1: 0.8184WARNING:tensorflow:Early stopping conditioned on metric `val_space_precision` which is not available. Available metrics are: loss,sparse_categorical_accuracy,space_precision,space_recall,space_f1,char_precision,char_recall,char_f1\n"
     ]
    },
    {
     "name": "stderr",
     "output_type": "stream",
     "text": [
      "WARNING:tensorflow:Early stopping conditioned on metric `val_space_precision` which is not available. Available metrics are: loss,sparse_categorical_accuracy,space_precision,space_recall,space_f1,char_precision,char_recall,char_f1\n"
     ]
    },
    {
     "name": "stdout",
     "output_type": "stream",
     "text": [
      "10/10 [==============================] - 0s 24ms/step - loss: 0.4727 - sparse_categorical_accuracy: 0.8200 - space_precision: 0.0000e+00 - space_recall: 0.0000e+00 - space_f1: nan - char_precision: 0.6926 - char_recall: 1.0000 - char_f1: 0.8184\n",
      "Epoch 62/100\n",
      "10/10 [==============================] - ETA: 0s - loss: 0.4735 - sparse_categorical_accuracy: 0.8189 - space_precision: 0.0000e+00 - space_recall: 0.0000e+00 - space_f1: nan - char_precision: 0.6911 - char_recall: 1.0000 - char_f1: 0.8174WARNING:tensorflow:Early stopping conditioned on metric `val_space_precision` which is not available. Available metrics are: loss,sparse_categorical_accuracy,space_precision,space_recall,space_f1,char_precision,char_recall,char_f1\n"
     ]
    },
    {
     "name": "stderr",
     "output_type": "stream",
     "text": [
      "WARNING:tensorflow:Early stopping conditioned on metric `val_space_precision` which is not available. Available metrics are: loss,sparse_categorical_accuracy,space_precision,space_recall,space_f1,char_precision,char_recall,char_f1\n"
     ]
    },
    {
     "name": "stdout",
     "output_type": "stream",
     "text": [
      "10/10 [==============================] - 0s 23ms/step - loss: 0.4735 - sparse_categorical_accuracy: 0.8189 - space_precision: 0.0000e+00 - space_recall: 0.0000e+00 - space_f1: nan - char_precision: 0.6911 - char_recall: 1.0000 - char_f1: 0.8174\n",
      "Epoch 63/100\n",
      "10/10 [==============================] - ETA: 0s - loss: 0.4879 - sparse_categorical_accuracy: 0.8088 - space_precision: 0.0000e+00 - space_recall: 0.0000e+00 - space_f1: nan - char_precision: 0.6770 - char_recall: 1.0000 - char_f1: 0.8074WARNING:tensorflow:Early stopping conditioned on metric `val_space_precision` which is not available. Available metrics are: loss,sparse_categorical_accuracy,space_precision,space_recall,space_f1,char_precision,char_recall,char_f1\n"
     ]
    },
    {
     "name": "stderr",
     "output_type": "stream",
     "text": [
      "WARNING:tensorflow:Early stopping conditioned on metric `val_space_precision` which is not available. Available metrics are: loss,sparse_categorical_accuracy,space_precision,space_recall,space_f1,char_precision,char_recall,char_f1\n"
     ]
    },
    {
     "name": "stdout",
     "output_type": "stream",
     "text": [
      "10/10 [==============================] - 0s 24ms/step - loss: 0.4879 - sparse_categorical_accuracy: 0.8088 - space_precision: 0.0000e+00 - space_recall: 0.0000e+00 - space_f1: nan - char_precision: 0.6770 - char_recall: 1.0000 - char_f1: 0.8074\n",
      "Epoch 64/100\n",
      "10/10 [==============================] - ETA: 0s - loss: 0.4795 - sparse_categorical_accuracy: 0.8162 - space_precision: 0.0000e+00 - space_recall: 0.0000e+00 - space_f1: nan - char_precision: 0.6877 - char_recall: 1.0000 - char_f1: 0.8150WARNING:tensorflow:Early stopping conditioned on metric `val_space_precision` which is not available. Available metrics are: loss,sparse_categorical_accuracy,space_precision,space_recall,space_f1,char_precision,char_recall,char_f1\n"
     ]
    },
    {
     "name": "stderr",
     "output_type": "stream",
     "text": [
      "WARNING:tensorflow:Early stopping conditioned on metric `val_space_precision` which is not available. Available metrics are: loss,sparse_categorical_accuracy,space_precision,space_recall,space_f1,char_precision,char_recall,char_f1\n"
     ]
    },
    {
     "name": "stdout",
     "output_type": "stream",
     "text": [
      "10/10 [==============================] - 0s 22ms/step - loss: 0.4795 - sparse_categorical_accuracy: 0.8162 - space_precision: 0.0000e+00 - space_recall: 0.0000e+00 - space_f1: nan - char_precision: 0.6877 - char_recall: 1.0000 - char_f1: 0.8150\n",
      "Epoch 65/100\n",
      "10/10 [==============================] - ETA: 0s - loss: 0.4762 - sparse_categorical_accuracy: 0.8173 - space_precision: 0.0000e+00 - space_recall: 0.0000e+00 - space_f1: nan - char_precision: 0.6888 - char_recall: 1.0000 - char_f1: 0.8157WARNING:tensorflow:Early stopping conditioned on metric `val_space_precision` which is not available. Available metrics are: loss,sparse_categorical_accuracy,space_precision,space_recall,space_f1,char_precision,char_recall,char_f1\n"
     ]
    },
    {
     "name": "stderr",
     "output_type": "stream",
     "text": [
      "WARNING:tensorflow:Early stopping conditioned on metric `val_space_precision` which is not available. Available metrics are: loss,sparse_categorical_accuracy,space_precision,space_recall,space_f1,char_precision,char_recall,char_f1\n"
     ]
    },
    {
     "name": "stdout",
     "output_type": "stream",
     "text": [
      "10/10 [==============================] - 0s 23ms/step - loss: 0.4762 - sparse_categorical_accuracy: 0.8173 - space_precision: 0.0000e+00 - space_recall: 0.0000e+00 - space_f1: nan - char_precision: 0.6888 - char_recall: 1.0000 - char_f1: 0.8157\n",
      "Epoch 66/100\n",
      "10/10 [==============================] - ETA: 0s - loss: 0.4849 - sparse_categorical_accuracy: 0.8129 - space_precision: 0.0000e+00 - space_recall: 0.0000e+00 - space_f1: nan - char_precision: 0.6831 - char_recall: 1.0000 - char_f1: 0.8117WARNING:tensorflow:Early stopping conditioned on metric `val_space_precision` which is not available. Available metrics are: loss,sparse_categorical_accuracy,space_precision,space_recall,space_f1,char_precision,char_recall,char_f1\n"
     ]
    },
    {
     "name": "stderr",
     "output_type": "stream",
     "text": [
      "WARNING:tensorflow:Early stopping conditioned on metric `val_space_precision` which is not available. Available metrics are: loss,sparse_categorical_accuracy,space_precision,space_recall,space_f1,char_precision,char_recall,char_f1\n"
     ]
    },
    {
     "name": "stdout",
     "output_type": "stream",
     "text": [
      "10/10 [==============================] - 0s 23ms/step - loss: 0.4849 - sparse_categorical_accuracy: 0.8129 - space_precision: 0.0000e+00 - space_recall: 0.0000e+00 - space_f1: nan - char_precision: 0.6831 - char_recall: 1.0000 - char_f1: 0.8117\n",
      "Epoch 67/100\n",
      "10/10 [==============================] - ETA: 0s - loss: 0.4813 - sparse_categorical_accuracy: 0.8145 - space_precision: 0.0000e+00 - space_recall: 0.0000e+00 - space_f1: nan - char_precision: 0.6854 - char_recall: 1.0000 - char_f1: 0.8133WARNING:tensorflow:Early stopping conditioned on metric `val_space_precision` which is not available. Available metrics are: loss,sparse_categorical_accuracy,space_precision,space_recall,space_f1,char_precision,char_recall,char_f1\n"
     ]
    },
    {
     "name": "stderr",
     "output_type": "stream",
     "text": [
      "WARNING:tensorflow:Early stopping conditioned on metric `val_space_precision` which is not available. Available metrics are: loss,sparse_categorical_accuracy,space_precision,space_recall,space_f1,char_precision,char_recall,char_f1\n"
     ]
    },
    {
     "name": "stdout",
     "output_type": "stream",
     "text": [
      "10/10 [==============================] - 0s 23ms/step - loss: 0.4813 - sparse_categorical_accuracy: 0.8145 - space_precision: 0.0000e+00 - space_recall: 0.0000e+00 - space_f1: nan - char_precision: 0.6854 - char_recall: 1.0000 - char_f1: 0.8133\n",
      "Epoch 68/100\n",
      "10/10 [==============================] - ETA: 0s - loss: 0.4838 - sparse_categorical_accuracy: 0.8133 - space_precision: 0.0000e+00 - space_recall: 0.0000e+00 - space_f1: nan - char_precision: 0.6834 - char_recall: 1.0000 - char_f1: 0.8119WARNING:tensorflow:Early stopping conditioned on metric `val_space_precision` which is not available. Available metrics are: loss,sparse_categorical_accuracy,space_precision,space_recall,space_f1,char_precision,char_recall,char_f1\n"
     ]
    },
    {
     "name": "stderr",
     "output_type": "stream",
     "text": [
      "WARNING:tensorflow:Early stopping conditioned on metric `val_space_precision` which is not available. Available metrics are: loss,sparse_categorical_accuracy,space_precision,space_recall,space_f1,char_precision,char_recall,char_f1\n"
     ]
    },
    {
     "name": "stdout",
     "output_type": "stream",
     "text": [
      "10/10 [==============================] - 0s 24ms/step - loss: 0.4838 - sparse_categorical_accuracy: 0.8133 - space_precision: 0.0000e+00 - space_recall: 0.0000e+00 - space_f1: nan - char_precision: 0.6834 - char_recall: 1.0000 - char_f1: 0.8119\n",
      "Epoch 69/100\n",
      "10/10 [==============================] - ETA: 0s - loss: 0.4704 - sparse_categorical_accuracy: 0.8216 - space_precision: 0.0000e+00 - space_recall: 0.0000e+00 - space_f1: nan - char_precision: 0.6952 - char_recall: 1.0000 - char_f1: 0.8202WARNING:tensorflow:Early stopping conditioned on metric `val_space_precision` which is not available. Available metrics are: loss,sparse_categorical_accuracy,space_precision,space_recall,space_f1,char_precision,char_recall,char_f1\n"
     ]
    },
    {
     "name": "stderr",
     "output_type": "stream",
     "text": [
      "WARNING:tensorflow:Early stopping conditioned on metric `val_space_precision` which is not available. Available metrics are: loss,sparse_categorical_accuracy,space_precision,space_recall,space_f1,char_precision,char_recall,char_f1\n"
     ]
    },
    {
     "name": "stdout",
     "output_type": "stream",
     "text": [
      "10/10 [==============================] - 0s 23ms/step - loss: 0.4704 - sparse_categorical_accuracy: 0.8216 - space_precision: 0.0000e+00 - space_recall: 0.0000e+00 - space_f1: nan - char_precision: 0.6952 - char_recall: 1.0000 - char_f1: 0.8202\n",
      "Epoch 70/100\n",
      "10/10 [==============================] - 11s 1s/step - loss: 0.4751 - sparse_categorical_accuracy: 0.8186 - space_precision: 0.0000e+00 - space_recall: 0.0000e+00 - space_f1: nan - char_precision: 0.6911 - char_recall: 1.0000 - char_f1: 0.8174 - val_loss: 0.4801 - val_sparse_categorical_accuracy: 0.8161 - val_space_precision: 0.0000e+00 - val_space_recall: 0.0000e+00 - val_space_f1: nan - val_char_precision: 0.6873 - val_char_recall: 1.0000 - val_char_f1: 0.8147\n",
      "Epoch 71/100\n",
      "10/10 [==============================] - ETA: 0s - loss: 0.4772 - sparse_categorical_accuracy: 0.8168 - space_precision: 0.0000e+00 - space_recall: 0.0000e+00 - space_f1: nan - char_precision: 0.6885 - char_recall: 1.0000 - char_f1: 0.8155WARNING:tensorflow:Early stopping conditioned on metric `val_space_precision` which is not available. Available metrics are: loss,sparse_categorical_accuracy,space_precision,space_recall,space_f1,char_precision,char_recall,char_f1\n"
     ]
    },
    {
     "name": "stderr",
     "output_type": "stream",
     "text": [
      "WARNING:tensorflow:Early stopping conditioned on metric `val_space_precision` which is not available. Available metrics are: loss,sparse_categorical_accuracy,space_precision,space_recall,space_f1,char_precision,char_recall,char_f1\n"
     ]
    },
    {
     "name": "stdout",
     "output_type": "stream",
     "text": [
      "10/10 [==============================] - 0s 24ms/step - loss: 0.4772 - sparse_categorical_accuracy: 0.8168 - space_precision: 0.0000e+00 - space_recall: 0.0000e+00 - space_f1: nan - char_precision: 0.6885 - char_recall: 1.0000 - char_f1: 0.8155\n",
      "Epoch 72/100\n",
      "10/10 [==============================] - ETA: 0s - loss: 0.4812 - sparse_categorical_accuracy: 0.8138 - space_precision: 0.0000e+00 - space_recall: 0.0000e+00 - space_f1: nan - char_precision: 0.6844 - char_recall: 1.0000 - char_f1: 0.8126WARNING:tensorflow:Early stopping conditioned on metric `val_space_precision` which is not available. Available metrics are: loss,sparse_categorical_accuracy,space_precision,space_recall,space_f1,char_precision,char_recall,char_f1\n"
     ]
    },
    {
     "name": "stderr",
     "output_type": "stream",
     "text": [
      "WARNING:tensorflow:Early stopping conditioned on metric `val_space_precision` which is not available. Available metrics are: loss,sparse_categorical_accuracy,space_precision,space_recall,space_f1,char_precision,char_recall,char_f1\n"
     ]
    },
    {
     "name": "stdout",
     "output_type": "stream",
     "text": [
      "10/10 [==============================] - 0s 23ms/step - loss: 0.4812 - sparse_categorical_accuracy: 0.8138 - space_precision: 0.0000e+00 - space_recall: 0.0000e+00 - space_f1: nan - char_precision: 0.6844 - char_recall: 1.0000 - char_f1: 0.8126\n",
      "Epoch 73/100\n",
      "10/10 [==============================] - ETA: 0s - loss: 0.4781 - sparse_categorical_accuracy: 0.8164 - space_precision: 0.0000e+00 - space_recall: 0.0000e+00 - space_f1: nan - char_precision: 0.6876 - char_recall: 1.0000 - char_f1: 0.8149WARNING:tensorflow:Early stopping conditioned on metric `val_space_precision` which is not available. Available metrics are: loss,sparse_categorical_accuracy,space_precision,space_recall,space_f1,char_precision,char_recall,char_f1\n"
     ]
    },
    {
     "name": "stderr",
     "output_type": "stream",
     "text": [
      "WARNING:tensorflow:Early stopping conditioned on metric `val_space_precision` which is not available. Available metrics are: loss,sparse_categorical_accuracy,space_precision,space_recall,space_f1,char_precision,char_recall,char_f1\n"
     ]
    },
    {
     "name": "stdout",
     "output_type": "stream",
     "text": [
      "10/10 [==============================] - 0s 23ms/step - loss: 0.4781 - sparse_categorical_accuracy: 0.8164 - space_precision: 0.0000e+00 - space_recall: 0.0000e+00 - space_f1: nan - char_precision: 0.6876 - char_recall: 1.0000 - char_f1: 0.8149\n",
      "Epoch 74/100\n",
      "10/10 [==============================] - ETA: 0s - loss: 0.4781 - sparse_categorical_accuracy: 0.8161 - space_precision: 0.0000e+00 - space_recall: 0.0000e+00 - space_f1: nan - char_precision: 0.6876 - char_recall: 1.0000 - char_f1: 0.8149WARNING:tensorflow:Early stopping conditioned on metric `val_space_precision` which is not available. Available metrics are: loss,sparse_categorical_accuracy,space_precision,space_recall,space_f1,char_precision,char_recall,char_f1\n"
     ]
    },
    {
     "name": "stderr",
     "output_type": "stream",
     "text": [
      "WARNING:tensorflow:Early stopping conditioned on metric `val_space_precision` which is not available. Available metrics are: loss,sparse_categorical_accuracy,space_precision,space_recall,space_f1,char_precision,char_recall,char_f1\n"
     ]
    },
    {
     "name": "stdout",
     "output_type": "stream",
     "text": [
      "10/10 [==============================] - 0s 23ms/step - loss: 0.4781 - sparse_categorical_accuracy: 0.8161 - space_precision: 0.0000e+00 - space_recall: 0.0000e+00 - space_f1: nan - char_precision: 0.6876 - char_recall: 1.0000 - char_f1: 0.8149\n",
      "Epoch 75/100\n",
      "10/10 [==============================] - ETA: 0s - loss: 0.4761 - sparse_categorical_accuracy: 0.8173 - space_precision: 0.0000e+00 - space_recall: 0.0000e+00 - space_f1: nan - char_precision: 0.6890 - char_recall: 1.0000 - char_f1: 0.8159WARNING:tensorflow:Early stopping conditioned on metric `val_space_precision` which is not available. Available metrics are: loss,sparse_categorical_accuracy,space_precision,space_recall,space_f1,char_precision,char_recall,char_f1\n"
     ]
    },
    {
     "name": "stderr",
     "output_type": "stream",
     "text": [
      "WARNING:tensorflow:Early stopping conditioned on metric `val_space_precision` which is not available. Available metrics are: loss,sparse_categorical_accuracy,space_precision,space_recall,space_f1,char_precision,char_recall,char_f1\n"
     ]
    },
    {
     "name": "stdout",
     "output_type": "stream",
     "text": [
      "10/10 [==============================] - 0s 23ms/step - loss: 0.4761 - sparse_categorical_accuracy: 0.8173 - space_precision: 0.0000e+00 - space_recall: 0.0000e+00 - space_f1: nan - char_precision: 0.6890 - char_recall: 1.0000 - char_f1: 0.8159\n",
      "Epoch 76/100\n",
      "10/10 [==============================] - ETA: 0s - loss: 0.4769 - sparse_categorical_accuracy: 0.8170 - space_precision: 0.0000e+00 - space_recall: 0.0000e+00 - space_f1: nan - char_precision: 0.6886 - char_recall: 1.0000 - char_f1: 0.8156WARNING:tensorflow:Early stopping conditioned on metric `val_space_precision` which is not available. Available metrics are: loss,sparse_categorical_accuracy,space_precision,space_recall,space_f1,char_precision,char_recall,char_f1\n"
     ]
    },
    {
     "name": "stderr",
     "output_type": "stream",
     "text": [
      "WARNING:tensorflow:Early stopping conditioned on metric `val_space_precision` which is not available. Available metrics are: loss,sparse_categorical_accuracy,space_precision,space_recall,space_f1,char_precision,char_recall,char_f1\n"
     ]
    },
    {
     "name": "stdout",
     "output_type": "stream",
     "text": [
      "10/10 [==============================] - 0s 24ms/step - loss: 0.4769 - sparse_categorical_accuracy: 0.8170 - space_precision: 0.0000e+00 - space_recall: 0.0000e+00 - space_f1: nan - char_precision: 0.6886 - char_recall: 1.0000 - char_f1: 0.8156\n",
      "Epoch 77/100\n",
      "10/10 [==============================] - ETA: 0s - loss: 0.4742 - sparse_categorical_accuracy: 0.8182 - space_precision: 0.0000e+00 - space_recall: 0.0000e+00 - space_f1: nan - char_precision: 0.6908 - char_recall: 1.0000 - char_f1: 0.8171WARNING:tensorflow:Early stopping conditioned on metric `val_space_precision` which is not available. Available metrics are: loss,sparse_categorical_accuracy,space_precision,space_recall,space_f1,char_precision,char_recall,char_f1\n"
     ]
    },
    {
     "name": "stderr",
     "output_type": "stream",
     "text": [
      "WARNING:tensorflow:Early stopping conditioned on metric `val_space_precision` which is not available. Available metrics are: loss,sparse_categorical_accuracy,space_precision,space_recall,space_f1,char_precision,char_recall,char_f1\n"
     ]
    },
    {
     "name": "stdout",
     "output_type": "stream",
     "text": [
      "10/10 [==============================] - 0s 22ms/step - loss: 0.4742 - sparse_categorical_accuracy: 0.8182 - space_precision: 0.0000e+00 - space_recall: 0.0000e+00 - space_f1: nan - char_precision: 0.6908 - char_recall: 1.0000 - char_f1: 0.8171\n",
      "Epoch 78/100\n",
      "10/10 [==============================] - ETA: 0s - loss: 0.4721 - sparse_categorical_accuracy: 0.8203 - space_precision: 0.0000e+00 - space_recall: 0.0000e+00 - space_f1: nan - char_precision: 0.6927 - char_recall: 1.0000 - char_f1: 0.8185WARNING:tensorflow:Early stopping conditioned on metric `val_space_precision` which is not available. Available metrics are: loss,sparse_categorical_accuracy,space_precision,space_recall,space_f1,char_precision,char_recall,char_f1\n"
     ]
    },
    {
     "name": "stderr",
     "output_type": "stream",
     "text": [
      "WARNING:tensorflow:Early stopping conditioned on metric `val_space_precision` which is not available. Available metrics are: loss,sparse_categorical_accuracy,space_precision,space_recall,space_f1,char_precision,char_recall,char_f1\n"
     ]
    },
    {
     "name": "stdout",
     "output_type": "stream",
     "text": [
      "10/10 [==============================] - 0s 24ms/step - loss: 0.4721 - sparse_categorical_accuracy: 0.8203 - space_precision: 0.0000e+00 - space_recall: 0.0000e+00 - space_f1: nan - char_precision: 0.6927 - char_recall: 1.0000 - char_f1: 0.8185\n",
      "Epoch 79/100\n",
      "10/10 [==============================] - ETA: 0s - loss: 0.4857 - sparse_categorical_accuracy: 0.8122 - space_precision: 0.0000e+00 - space_recall: 0.0000e+00 - space_f1: nan - char_precision: 0.6824 - char_recall: 1.0000 - char_f1: 0.8112WARNING:tensorflow:Early stopping conditioned on metric `val_space_precision` which is not available. Available metrics are: loss,sparse_categorical_accuracy,space_precision,space_recall,space_f1,char_precision,char_recall,char_f1\n"
     ]
    },
    {
     "name": "stderr",
     "output_type": "stream",
     "text": [
      "WARNING:tensorflow:Early stopping conditioned on metric `val_space_precision` which is not available. Available metrics are: loss,sparse_categorical_accuracy,space_precision,space_recall,space_f1,char_precision,char_recall,char_f1\n"
     ]
    },
    {
     "name": "stdout",
     "output_type": "stream",
     "text": [
      "10/10 [==============================] - 0s 23ms/step - loss: 0.4857 - sparse_categorical_accuracy: 0.8122 - space_precision: 0.0000e+00 - space_recall: 0.0000e+00 - space_f1: nan - char_precision: 0.6824 - char_recall: 1.0000 - char_f1: 0.8112\n",
      "Epoch 80/100\n",
      "10/10 [==============================] - 11s 1s/step - loss: 0.4799 - sparse_categorical_accuracy: 0.8165 - space_precision: 0.0000e+00 - space_recall: 0.0000e+00 - space_f1: nan - char_precision: 0.6888 - char_recall: 1.0000 - char_f1: 0.8157 - val_loss: 0.4783 - val_sparse_categorical_accuracy: 0.8161 - val_space_precision: 0.0000e+00 - val_space_recall: 0.0000e+00 - val_space_f1: nan - val_char_precision: 0.6873 - val_char_recall: 1.0000 - val_char_f1: 0.8147\n",
      "Epoch 81/100\n",
      "10/10 [==============================] - ETA: 0s - loss: 0.4663 - sparse_categorical_accuracy: 0.8242 - space_precision: 0.0000e+00 - space_recall: 0.0000e+00 - space_f1: nan - char_precision: 0.6994 - char_recall: 1.0000 - char_f1: 0.8231WARNING:tensorflow:Early stopping conditioned on metric `val_space_precision` which is not available. Available metrics are: loss,sparse_categorical_accuracy,space_precision,space_recall,space_f1,char_precision,char_recall,char_f1\n"
     ]
    },
    {
     "name": "stderr",
     "output_type": "stream",
     "text": [
      "WARNING:tensorflow:Early stopping conditioned on metric `val_space_precision` which is not available. Available metrics are: loss,sparse_categorical_accuracy,space_precision,space_recall,space_f1,char_precision,char_recall,char_f1\n"
     ]
    },
    {
     "name": "stdout",
     "output_type": "stream",
     "text": [
      "10/10 [==============================] - 0s 23ms/step - loss: 0.4663 - sparse_categorical_accuracy: 0.8242 - space_precision: 0.0000e+00 - space_recall: 0.0000e+00 - space_f1: nan - char_precision: 0.6994 - char_recall: 1.0000 - char_f1: 0.8231\n",
      "Epoch 82/100\n",
      "10/10 [==============================] - ETA: 0s - loss: 0.4804 - sparse_categorical_accuracy: 0.8151 - space_precision: 0.0000e+00 - space_recall: 0.0000e+00 - space_f1: nan - char_precision: 0.6864 - char_recall: 1.0000 - char_f1: 0.8140WARNING:tensorflow:Early stopping conditioned on metric `val_space_precision` which is not available. Available metrics are: loss,sparse_categorical_accuracy,space_precision,space_recall,space_f1,char_precision,char_recall,char_f1\n"
     ]
    },
    {
     "name": "stderr",
     "output_type": "stream",
     "text": [
      "WARNING:tensorflow:Early stopping conditioned on metric `val_space_precision` which is not available. Available metrics are: loss,sparse_categorical_accuracy,space_precision,space_recall,space_f1,char_precision,char_recall,char_f1\n"
     ]
    },
    {
     "name": "stdout",
     "output_type": "stream",
     "text": [
      "10/10 [==============================] - 0s 23ms/step - loss: 0.4804 - sparse_categorical_accuracy: 0.8151 - space_precision: 0.0000e+00 - space_recall: 0.0000e+00 - space_f1: nan - char_precision: 0.6864 - char_recall: 1.0000 - char_f1: 0.8140\n",
      "Epoch 83/100\n",
      "10/10 [==============================] - ETA: 0s - loss: 0.4788 - sparse_categorical_accuracy: 0.8154 - space_precision: 0.0000e+00 - space_recall: 0.0000e+00 - space_f1: nan - char_precision: 0.6851 - char_recall: 1.0000 - char_f1: 0.8131WARNING:tensorflow:Early stopping conditioned on metric `val_space_precision` which is not available. Available metrics are: loss,sparse_categorical_accuracy,space_precision,space_recall,space_f1,char_precision,char_recall,char_f1\n"
     ]
    },
    {
     "name": "stderr",
     "output_type": "stream",
     "text": [
      "WARNING:tensorflow:Early stopping conditioned on metric `val_space_precision` which is not available. Available metrics are: loss,sparse_categorical_accuracy,space_precision,space_recall,space_f1,char_precision,char_recall,char_f1\n"
     ]
    },
    {
     "name": "stdout",
     "output_type": "stream",
     "text": [
      "10/10 [==============================] - 0s 23ms/step - loss: 0.4788 - sparse_categorical_accuracy: 0.8154 - space_precision: 0.0000e+00 - space_recall: 0.0000e+00 - space_f1: nan - char_precision: 0.6851 - char_recall: 1.0000 - char_f1: 0.8131\n",
      "Epoch 84/100\n",
      " 9/10 [==========================>...] - ETA: 0s - loss: 0.4814 - sparse_categorical_accuracy: 0.8139 - space_precision: 0.0000e+00 - space_recall: 0.0000e+00 - space_f1: nan - char_precision: 0.6847 - char_recall: 1.0000 - char_f1: 0.8129WARNING:tensorflow:Early stopping conditioned on metric `val_space_precision` which is not available. Available metrics are: loss,sparse_categorical_accuracy,space_precision,space_recall,space_f1,char_precision,char_recall,char_f1\n"
     ]
    },
    {
     "name": "stderr",
     "output_type": "stream",
     "text": [
      "WARNING:tensorflow:Early stopping conditioned on metric `val_space_precision` which is not available. Available metrics are: loss,sparse_categorical_accuracy,space_precision,space_recall,space_f1,char_precision,char_recall,char_f1\n"
     ]
    },
    {
     "name": "stdout",
     "output_type": "stream",
     "text": [
      "10/10 [==============================] - 0s 24ms/step - loss: 0.4818 - sparse_categorical_accuracy: 0.8137 - space_precision: 0.0000e+00 - space_recall: 0.0000e+00 - space_f1: nan - char_precision: 0.6840 - char_recall: 1.0000 - char_f1: 0.8124\n",
      "Epoch 85/100\n",
      "10/10 [==============================] - ETA: 0s - loss: 0.4725 - sparse_categorical_accuracy: 0.8200 - space_precision: 0.0000e+00 - space_recall: 0.0000e+00 - space_f1: nan - char_precision: 0.6924 - char_recall: 1.0000 - char_f1: 0.8182WARNING:tensorflow:Early stopping conditioned on metric `val_space_precision` which is not available. Available metrics are: loss,sparse_categorical_accuracy,space_precision,space_recall,space_f1,char_precision,char_recall,char_f1\n"
     ]
    },
    {
     "name": "stderr",
     "output_type": "stream",
     "text": [
      "WARNING:tensorflow:Early stopping conditioned on metric `val_space_precision` which is not available. Available metrics are: loss,sparse_categorical_accuracy,space_precision,space_recall,space_f1,char_precision,char_recall,char_f1\n"
     ]
    },
    {
     "name": "stdout",
     "output_type": "stream",
     "text": [
      "10/10 [==============================] - 0s 23ms/step - loss: 0.4725 - sparse_categorical_accuracy: 0.8200 - space_precision: 0.0000e+00 - space_recall: 0.0000e+00 - space_f1: nan - char_precision: 0.6924 - char_recall: 1.0000 - char_f1: 0.8182\n",
      "Epoch 86/100\n",
      "10/10 [==============================] - ETA: 0s - loss: 0.4778 - sparse_categorical_accuracy: 0.8164 - space_precision: 0.0000e+00 - space_recall: 0.0000e+00 - space_f1: nan - char_precision: 0.6870 - char_recall: 1.0000 - char_f1: 0.8145WARNING:tensorflow:Early stopping conditioned on metric `val_space_precision` which is not available. Available metrics are: loss,sparse_categorical_accuracy,space_precision,space_recall,space_f1,char_precision,char_recall,char_f1\n"
     ]
    },
    {
     "name": "stderr",
     "output_type": "stream",
     "text": [
      "WARNING:tensorflow:Early stopping conditioned on metric `val_space_precision` which is not available. Available metrics are: loss,sparse_categorical_accuracy,space_precision,space_recall,space_f1,char_precision,char_recall,char_f1\n"
     ]
    },
    {
     "name": "stdout",
     "output_type": "stream",
     "text": [
      "10/10 [==============================] - 0s 23ms/step - loss: 0.4778 - sparse_categorical_accuracy: 0.8164 - space_precision: 0.0000e+00 - space_recall: 0.0000e+00 - space_f1: nan - char_precision: 0.6870 - char_recall: 1.0000 - char_f1: 0.8145\n",
      "Epoch 87/100\n",
      "10/10 [==============================] - ETA: 0s - loss: 0.4806 - sparse_categorical_accuracy: 0.8146 - space_precision: 0.0000e+00 - space_recall: 0.0000e+00 - space_f1: nan - char_precision: 0.6854 - char_recall: 1.0000 - char_f1: 0.8133WARNING:tensorflow:Early stopping conditioned on metric `val_space_precision` which is not available. Available metrics are: loss,sparse_categorical_accuracy,space_precision,space_recall,space_f1,char_precision,char_recall,char_f1\n"
     ]
    },
    {
     "name": "stderr",
     "output_type": "stream",
     "text": [
      "WARNING:tensorflow:Early stopping conditioned on metric `val_space_precision` which is not available. Available metrics are: loss,sparse_categorical_accuracy,space_precision,space_recall,space_f1,char_precision,char_recall,char_f1\n"
     ]
    },
    {
     "name": "stdout",
     "output_type": "stream",
     "text": [
      "10/10 [==============================] - 0s 23ms/step - loss: 0.4806 - sparse_categorical_accuracy: 0.8146 - space_precision: 0.0000e+00 - space_recall: 0.0000e+00 - space_f1: nan - char_precision: 0.6854 - char_recall: 1.0000 - char_f1: 0.8133\n",
      "Epoch 88/100\n",
      "10/10 [==============================] - ETA: 0s - loss: 0.4786 - sparse_categorical_accuracy: 0.8159 - space_precision: 0.0000e+00 - space_recall: 0.0000e+00 - space_f1: nan - char_precision: 0.6875 - char_recall: 1.0000 - char_f1: 0.8148WARNING:tensorflow:Early stopping conditioned on metric `val_space_precision` which is not available. Available metrics are: loss,sparse_categorical_accuracy,space_precision,space_recall,space_f1,char_precision,char_recall,char_f1\n"
     ]
    },
    {
     "name": "stderr",
     "output_type": "stream",
     "text": [
      "WARNING:tensorflow:Early stopping conditioned on metric `val_space_precision` which is not available. Available metrics are: loss,sparse_categorical_accuracy,space_precision,space_recall,space_f1,char_precision,char_recall,char_f1\n"
     ]
    },
    {
     "name": "stdout",
     "output_type": "stream",
     "text": [
      "10/10 [==============================] - 0s 23ms/step - loss: 0.4786 - sparse_categorical_accuracy: 0.8159 - space_precision: 0.0000e+00 - space_recall: 0.0000e+00 - space_f1: nan - char_precision: 0.6875 - char_recall: 1.0000 - char_f1: 0.8148\n",
      "Epoch 89/100\n",
      " 9/10 [==========================>...] - ETA: 0s - loss: 0.4821 - sparse_categorical_accuracy: 0.8136 - space_precision: 0.0000e+00 - space_recall: 0.0000e+00 - space_f1: nan - char_precision: 0.6836 - char_recall: 1.0000 - char_f1: 0.8121WARNING:tensorflow:Early stopping conditioned on metric `val_space_precision` which is not available. Available metrics are: loss,sparse_categorical_accuracy,space_precision,space_recall,space_f1,char_precision,char_recall,char_f1\n"
     ]
    },
    {
     "name": "stderr",
     "output_type": "stream",
     "text": [
      "WARNING:tensorflow:Early stopping conditioned on metric `val_space_precision` which is not available. Available metrics are: loss,sparse_categorical_accuracy,space_precision,space_recall,space_f1,char_precision,char_recall,char_f1\n"
     ]
    },
    {
     "name": "stdout",
     "output_type": "stream",
     "text": [
      "10/10 [==============================] - 0s 23ms/step - loss: 0.4838 - sparse_categorical_accuracy: 0.8124 - space_precision: 0.0000e+00 - space_recall: 0.0000e+00 - space_f1: nan - char_precision: 0.6821 - char_recall: 1.0000 - char_f1: 0.8110\n",
      "Epoch 90/100\n",
      "10/10 [==============================] - 11s 1s/step - loss: 0.4817 - sparse_categorical_accuracy: 0.8142 - space_precision: 0.0000e+00 - space_recall: 0.0000e+00 - space_f1: nan - char_precision: 0.6848 - char_recall: 1.0000 - char_f1: 0.8129 - val_loss: 0.4789 - val_sparse_categorical_accuracy: 0.8161 - val_space_precision: 0.0000e+00 - val_space_recall: 0.0000e+00 - val_space_f1: nan - val_char_precision: 0.6873 - val_char_recall: 1.0000 - val_char_f1: 0.8147\n",
      "Epoch 91/100\n",
      "10/10 [==============================] - ETA: 0s - loss: 0.4825 - sparse_categorical_accuracy: 0.8133 - space_precision: 0.0000e+00 - space_recall: 0.0000e+00 - space_f1: nan - char_precision: 0.6834 - char_recall: 1.0000 - char_f1: 0.8119WARNING:tensorflow:Early stopping conditioned on metric `val_space_precision` which is not available. Available metrics are: loss,sparse_categorical_accuracy,space_precision,space_recall,space_f1,char_precision,char_recall,char_f1\n"
     ]
    },
    {
     "name": "stderr",
     "output_type": "stream",
     "text": [
      "WARNING:tensorflow:Early stopping conditioned on metric `val_space_precision` which is not available. Available metrics are: loss,sparse_categorical_accuracy,space_precision,space_recall,space_f1,char_precision,char_recall,char_f1\n"
     ]
    },
    {
     "name": "stdout",
     "output_type": "stream",
     "text": [
      "10/10 [==============================] - 0s 23ms/step - loss: 0.4825 - sparse_categorical_accuracy: 0.8133 - space_precision: 0.0000e+00 - space_recall: 0.0000e+00 - space_f1: nan - char_precision: 0.6834 - char_recall: 1.0000 - char_f1: 0.8119\n",
      "Epoch 92/100\n",
      "10/10 [==============================] - ETA: 0s - loss: 0.4792 - sparse_categorical_accuracy: 0.8153 - space_precision: 0.0000e+00 - space_recall: 0.0000e+00 - space_f1: nan - char_precision: 0.6865 - char_recall: 1.0000 - char_f1: 0.8141WARNING:tensorflow:Early stopping conditioned on metric `val_space_precision` which is not available. Available metrics are: loss,sparse_categorical_accuracy,space_precision,space_recall,space_f1,char_precision,char_recall,char_f1\n"
     ]
    },
    {
     "name": "stderr",
     "output_type": "stream",
     "text": [
      "WARNING:tensorflow:Early stopping conditioned on metric `val_space_precision` which is not available. Available metrics are: loss,sparse_categorical_accuracy,space_precision,space_recall,space_f1,char_precision,char_recall,char_f1\n"
     ]
    },
    {
     "name": "stdout",
     "output_type": "stream",
     "text": [
      "10/10 [==============================] - 0s 23ms/step - loss: 0.4792 - sparse_categorical_accuracy: 0.8153 - space_precision: 0.0000e+00 - space_recall: 0.0000e+00 - space_f1: nan - char_precision: 0.6865 - char_recall: 1.0000 - char_f1: 0.8141\n",
      "Epoch 93/100\n",
      "10/10 [==============================] - ETA: 0s - loss: 0.4776 - sparse_categorical_accuracy: 0.8168 - space_precision: 0.0000e+00 - space_recall: 0.0000e+00 - space_f1: nan - char_precision: 0.6888 - char_recall: 1.0000 - char_f1: 0.8157WARNING:tensorflow:Early stopping conditioned on metric `val_space_precision` which is not available. Available metrics are: loss,sparse_categorical_accuracy,space_precision,space_recall,space_f1,char_precision,char_recall,char_f1\n"
     ]
    },
    {
     "name": "stderr",
     "output_type": "stream",
     "text": [
      "WARNING:tensorflow:Early stopping conditioned on metric `val_space_precision` which is not available. Available metrics are: loss,sparse_categorical_accuracy,space_precision,space_recall,space_f1,char_precision,char_recall,char_f1\n"
     ]
    },
    {
     "name": "stdout",
     "output_type": "stream",
     "text": [
      "10/10 [==============================] - 0s 23ms/step - loss: 0.4776 - sparse_categorical_accuracy: 0.8168 - space_precision: 0.0000e+00 - space_recall: 0.0000e+00 - space_f1: nan - char_precision: 0.6888 - char_recall: 1.0000 - char_f1: 0.8157\n",
      "Epoch 94/100\n",
      "10/10 [==============================] - ETA: 0s - loss: 0.4793 - sparse_categorical_accuracy: 0.8150 - space_precision: 0.0000e+00 - space_recall: 0.0000e+00 - space_f1: nan - char_precision: 0.6856 - char_recall: 1.0000 - char_f1: 0.8135WARNING:tensorflow:Early stopping conditioned on metric `val_space_precision` which is not available. Available metrics are: loss,sparse_categorical_accuracy,space_precision,space_recall,space_f1,char_precision,char_recall,char_f1\n"
     ]
    },
    {
     "name": "stderr",
     "output_type": "stream",
     "text": [
      "WARNING:tensorflow:Early stopping conditioned on metric `val_space_precision` which is not available. Available metrics are: loss,sparse_categorical_accuracy,space_precision,space_recall,space_f1,char_precision,char_recall,char_f1\n"
     ]
    },
    {
     "name": "stdout",
     "output_type": "stream",
     "text": [
      "10/10 [==============================] - 0s 24ms/step - loss: 0.4793 - sparse_categorical_accuracy: 0.8150 - space_precision: 0.0000e+00 - space_recall: 0.0000e+00 - space_f1: nan - char_precision: 0.6856 - char_recall: 1.0000 - char_f1: 0.8135\n",
      "Epoch 95/100\n",
      "10/10 [==============================] - ETA: 0s - loss: 0.4832 - sparse_categorical_accuracy: 0.8122 - space_precision: 0.0000e+00 - space_recall: 0.0000e+00 - space_f1: nan - char_precision: 0.6817 - char_recall: 1.0000 - char_f1: 0.8108WARNING:tensorflow:Early stopping conditioned on metric `val_space_precision` which is not available. Available metrics are: loss,sparse_categorical_accuracy,space_precision,space_recall,space_f1,char_precision,char_recall,char_f1\n"
     ]
    },
    {
     "name": "stderr",
     "output_type": "stream",
     "text": [
      "WARNING:tensorflow:Early stopping conditioned on metric `val_space_precision` which is not available. Available metrics are: loss,sparse_categorical_accuracy,space_precision,space_recall,space_f1,char_precision,char_recall,char_f1\n"
     ]
    },
    {
     "name": "stdout",
     "output_type": "stream",
     "text": [
      "10/10 [==============================] - 0s 23ms/step - loss: 0.4832 - sparse_categorical_accuracy: 0.8122 - space_precision: 0.0000e+00 - space_recall: 0.0000e+00 - space_f1: nan - char_precision: 0.6817 - char_recall: 1.0000 - char_f1: 0.8108\n",
      "Epoch 96/100\n",
      "10/10 [==============================] - ETA: 0s - loss: 0.4873 - sparse_categorical_accuracy: 0.8102 - space_precision: 0.0000e+00 - space_recall: 0.0000e+00 - space_f1: nan - char_precision: 0.6789 - char_recall: 1.0000 - char_f1: 0.8087WARNING:tensorflow:Early stopping conditioned on metric `val_space_precision` which is not available. Available metrics are: loss,sparse_categorical_accuracy,space_precision,space_recall,space_f1,char_precision,char_recall,char_f1\n"
     ]
    },
    {
     "name": "stderr",
     "output_type": "stream",
     "text": [
      "WARNING:tensorflow:Early stopping conditioned on metric `val_space_precision` which is not available. Available metrics are: loss,sparse_categorical_accuracy,space_precision,space_recall,space_f1,char_precision,char_recall,char_f1\n"
     ]
    },
    {
     "name": "stdout",
     "output_type": "stream",
     "text": [
      "10/10 [==============================] - 0s 23ms/step - loss: 0.4873 - sparse_categorical_accuracy: 0.8102 - space_precision: 0.0000e+00 - space_recall: 0.0000e+00 - space_f1: nan - char_precision: 0.6789 - char_recall: 1.0000 - char_f1: 0.8087\n",
      "Epoch 97/100\n",
      "10/10 [==============================] - ETA: 0s - loss: 0.4771 - sparse_categorical_accuracy: 0.8167 - space_precision: 0.0000e+00 - space_recall: 0.0000e+00 - space_f1: nan - char_precision: 0.6879 - char_recall: 1.0000 - char_f1: 0.8151WARNING:tensorflow:Early stopping conditioned on metric `val_space_precision` which is not available. Available metrics are: loss,sparse_categorical_accuracy,space_precision,space_recall,space_f1,char_precision,char_recall,char_f1\n"
     ]
    },
    {
     "name": "stderr",
     "output_type": "stream",
     "text": [
      "WARNING:tensorflow:Early stopping conditioned on metric `val_space_precision` which is not available. Available metrics are: loss,sparse_categorical_accuracy,space_precision,space_recall,space_f1,char_precision,char_recall,char_f1\n"
     ]
    },
    {
     "name": "stdout",
     "output_type": "stream",
     "text": [
      "10/10 [==============================] - 0s 22ms/step - loss: 0.4771 - sparse_categorical_accuracy: 0.8167 - space_precision: 0.0000e+00 - space_recall: 0.0000e+00 - space_f1: nan - char_precision: 0.6879 - char_recall: 1.0000 - char_f1: 0.8151\n",
      "Epoch 98/100\n",
      "10/10 [==============================] - ETA: 0s - loss: 0.4728 - sparse_categorical_accuracy: 0.8199 - space_precision: 0.0000e+00 - space_recall: 0.0000e+00 - space_f1: nan - char_precision: 0.6925 - char_recall: 1.0000 - char_f1: 0.8183WARNING:tensorflow:Early stopping conditioned on metric `val_space_precision` which is not available. Available metrics are: loss,sparse_categorical_accuracy,space_precision,space_recall,space_f1,char_precision,char_recall,char_f1\n"
     ]
    },
    {
     "name": "stderr",
     "output_type": "stream",
     "text": [
      "WARNING:tensorflow:Early stopping conditioned on metric `val_space_precision` which is not available. Available metrics are: loss,sparse_categorical_accuracy,space_precision,space_recall,space_f1,char_precision,char_recall,char_f1\n"
     ]
    },
    {
     "name": "stdout",
     "output_type": "stream",
     "text": [
      "10/10 [==============================] - 0s 22ms/step - loss: 0.4728 - sparse_categorical_accuracy: 0.8199 - space_precision: 0.0000e+00 - space_recall: 0.0000e+00 - space_f1: nan - char_precision: 0.6925 - char_recall: 1.0000 - char_f1: 0.8183\n",
      "Epoch 99/100\n",
      "10/10 [==============================] - ETA: 0s - loss: 0.4804 - sparse_categorical_accuracy: 0.8145 - space_precision: 0.0000e+00 - space_recall: 0.0000e+00 - space_f1: nan - char_precision: 0.6856 - char_recall: 1.0000 - char_f1: 0.8135WARNING:tensorflow:Early stopping conditioned on metric `val_space_precision` which is not available. Available metrics are: loss,sparse_categorical_accuracy,space_precision,space_recall,space_f1,char_precision,char_recall,char_f1\n"
     ]
    },
    {
     "name": "stderr",
     "output_type": "stream",
     "text": [
      "WARNING:tensorflow:Early stopping conditioned on metric `val_space_precision` which is not available. Available metrics are: loss,sparse_categorical_accuracy,space_precision,space_recall,space_f1,char_precision,char_recall,char_f1\n"
     ]
    },
    {
     "name": "stdout",
     "output_type": "stream",
     "text": [
      "10/10 [==============================] - 0s 22ms/step - loss: 0.4804 - sparse_categorical_accuracy: 0.8145 - space_precision: 0.0000e+00 - space_recall: 0.0000e+00 - space_f1: nan - char_precision: 0.6856 - char_recall: 1.0000 - char_f1: 0.8135\n",
      "Epoch 100/100\n",
      "10/10 [==============================] - 11s 1s/step - loss: 0.4758 - sparse_categorical_accuracy: 0.8175 - space_precision: 0.0000e+00 - space_recall: 0.0000e+00 - space_f1: nan - char_precision: 0.6895 - char_recall: 1.0000 - char_f1: 0.8162 - val_loss: 0.4798 - val_sparse_categorical_accuracy: 0.8161 - val_space_precision: 0.0000e+00 - val_space_recall: 0.0000e+00 - val_space_f1: nan - val_char_precision: 0.6873 - val_char_recall: 1.0000 - val_char_f1: 0.8147\n"
     ]
    },
    {
     "name": "stderr",
     "output_type": "stream",
     "text": [
      "2023-01-26 13:02:22.257033: W tensorflow/core/kernels/data/cache_dataset_ops.cc:856] The calling iterator did not fully read the dataset being cached. In order to avoid unexpected truncation of the dataset, the partially cached contents of the dataset  will be discarded. This can happen if you have an input pipeline similar to `dataset.cache().take(k).repeat()`. You should use `dataset.take(k).cache().repeat()` instead.\n"
     ]
    }
   ],
   "source": [
    "train_ds = train.shuffle(100).batch(8)\n",
    "val_ds = val.batch(8)\n",
    "\n",
    "callbacks = [\n",
    "    tf.keras.callbacks.EarlyStopping(\n",
    "        monitor=\"val_space_precision\",\n",
    "        patience=100,\n",
    "        mode=\"max\",\n",
    "        restore_best_weights=True\n",
    "    )\n",
    "]\n",
    "\n",
    "history = model.fit(\n",
    "    train_ds,\n",
    "    validation_data=val_ds, \n",
    "    epochs=100, \n",
    "    callbacks=callbacks, \n",
    "    steps_per_epoch=10,\n",
    "    validation_freq=10\n",
    "    )"
   ]
  },
  {
   "cell_type": "code",
   "execution_count": 21,
   "metadata": {},
   "outputs": [
    {
     "data": {
      "text/plain": [
       "<matplotlib.legend.Legend at 0x7fbc74dd3910>"
      ]
     },
     "execution_count": 21,
     "metadata": {},
     "output_type": "execute_result"
    },
    {
     "data": {
      "image/png": "[encoded data removed]",
      "text/plain": [
       "<Figure size 640x480 with 2 Axes>"
      ]
     },
     "metadata": {},
     "output_type": "display_data"
    }
   ],
   "source": [
    "import matplotlib.pyplot as plt\n",
    "\n",
    "fig, ax = plt.subplots()\n",
    "second_ax = ax.twinx()\n",
    "\n",
    "ax.plot(history.history['loss'], label=\"loss\")\n",
    "second_ax.plot(history.history['space_recall'], label=\"space recall\", color=\"red\")\n",
    "fig.legend()"
   ]
  },
  {
   "cell_type": "code",
   "execution_count": 22,
   "metadata": {},
   "outputs": [
    {
     "name": "stdout",
     "output_type": "stream",
     "text": [
      "949/949 [==============================] - 13s 13ms/step - loss: 0.4798 - sparse_categorical_accuracy: 0.8161 - space_precision: 0.0000e+00 - space_recall: 0.0000e+00 - space_f1: nan - char_precision: 0.6873 - char_recall: 1.0000 - char_f1: 0.8147\n"
     ]
    },
    {
     "data": {
      "text/plain": [
       "[0.4797550439834595,\n",
       " 0.8160789608955383,\n",
       " 0.0,\n",
       " 0.0,\n",
       " nan,\n",
       " 0.6873379945755005,\n",
       " 1.0,\n",
       " 0.8147010207176208]"
      ]
     },
     "execution_count": 22,
     "metadata": {},
     "output_type": "execute_result"
    }
   ],
   "source": [
    "model.evaluate(val_ds)"
   ]
  },
  {
   "cell_type": "code",
   "execution_count": 23,
   "metadata": {},
   "outputs": [
    {
     "data": {
      "text/plain": [
       "(<tf.Tensor: shape=(3, 100, 3), dtype=float32, numpy=\n",
       " array([[[-16.99924   ,   2.0721548 ,   0.4026579 ],\n",
       "         [-16.99762   ,   2.0717075 ,   0.40232304],\n",
       "         [-16.999203  ,   2.0721197 ,   0.4026194 ],\n",
       "         [-16.999203  ,   2.0721197 ,   0.4026194 ],\n",
       "         [-16.997372  ,   2.0716274 ,   0.4022716 ],\n",
       "         [-16.999218  ,   2.0721533 ,   0.40265852],\n",
       "         [-16.999245  ,   2.0721548 ,   0.40265906],\n",
       "         [-16.999252  ,   2.0721607 ,   0.4026651 ],\n",
       "         [-16.99762   ,   2.0717072 ,   0.4023228 ],\n",
       "         [-16.99762   ,   2.071707  ,   0.40232238],\n",
       "         [-16.999245  ,   2.0721548 ,   0.402659  ],\n",
       "         [-16.996853  ,   2.0714152 ,   0.4020655 ],\n",
       "         [-16.99762   ,   2.0717072 ,   0.4023228 ],\n",
       "         [-17.01897   ,   2.077931  ,   0.40708598],\n",
       "         [-17.016283  ,   2.0774305 ,   0.406688  ],\n",
       "         [-17.019657  ,   2.0782142 ,   0.40728968],\n",
       "         [-17.019958  ,   2.0783627 ,   0.40753227],\n",
       "         [-17.019958  ,   2.0783627 ,   0.40753227],\n",
       "         [-17.019958  ,   2.0783627 ,   0.40753227],\n",
       "         [-17.01995   ,   2.0783665 ,   0.4075364 ],\n",
       "         [-17.016674  ,   2.0775506 ,   0.40678036],\n",
       "         [-17.016918  ,   2.077584  ,   0.4068125 ],\n",
       "         [-17.019672  ,   2.0782146 ,   0.40728968],\n",
       "         [-17.019958  ,   2.0783627 ,   0.40753227],\n",
       "         [-17.016485  ,   2.0774348 ,   0.40666088],\n",
       "         [-17.016457  ,   2.0774436 ,   0.40668595],\n",
       "         [-17.016264  ,   2.0774179 ,   0.40667656],\n",
       "         [-17.016268  ,   2.0774212 ,   0.4066793 ],\n",
       "         [-17.016447  ,   2.0774415 ,   0.40668467],\n",
       "         [-17.016424  ,   2.0774252 ,   0.40666825],\n",
       "         [-17.016264  ,   2.0774179 ,   0.40667656],\n",
       "         [-17.01897   ,   2.077931  ,   0.40708598],\n",
       "         [-17.01897   ,   2.077931  ,   0.40708598],\n",
       "         [-17.01897   ,   2.077931  ,   0.40708598],\n",
       "         [-17.01897   ,   2.077931  ,   0.40708598],\n",
       "         [-17.01897   ,   2.077931  ,   0.40708598],\n",
       "         [-17.01897   ,   2.077931  ,   0.40708598],\n",
       "         [-17.01897   ,   2.077931  ,   0.40708598],\n",
       "         [-17.01897   ,   2.077931  ,   0.40708598],\n",
       "         [-17.01897   ,   2.077931  ,   0.40708598],\n",
       "         [-17.01897   ,   2.077931  ,   0.40708598],\n",
       "         [-17.01897   ,   2.077931  ,   0.40708598],\n",
       "         [-17.01897   ,   2.077931  ,   0.40708598],\n",
       "         [-17.01897   ,   2.077931  ,   0.40708598],\n",
       "         [-17.01897   ,   2.077931  ,   0.40708598],\n",
       "         [-17.01897   ,   2.077931  ,   0.40708598],\n",
       "         [-17.01897   ,   2.077931  ,   0.40708598],\n",
       "         [-17.01897   ,   2.077931  ,   0.40708598],\n",
       "         [-17.01897   ,   2.077931  ,   0.40708598],\n",
       "         [-17.01897   ,   2.077931  ,   0.40708598],\n",
       "         [-17.01897   ,   2.077931  ,   0.40708598],\n",
       "         [-17.01897   ,   2.077931  ,   0.40708598],\n",
       "         [-17.01897   ,   2.077931  ,   0.40708598],\n",
       "         [-17.01897   ,   2.077931  ,   0.40708598],\n",
       "         [-17.01897   ,   2.077931  ,   0.40708598],\n",
       "         [-17.01897   ,   2.077931  ,   0.40708598],\n",
       "         [-17.01897   ,   2.077931  ,   0.40708598],\n",
       "         [-17.01897   ,   2.077931  ,   0.40708598],\n",
       "         [-17.01897   ,   2.077931  ,   0.40708598],\n",
       "         [-17.01897   ,   2.077931  ,   0.40708598],\n",
       "         [-17.01897   ,   2.077931  ,   0.40708598],\n",
       "         [-17.01897   ,   2.077931  ,   0.40708598],\n",
       "         [-17.01897   ,   2.077931  ,   0.40708598],\n",
       "         [-17.01897   ,   2.077931  ,   0.40708598],\n",
       "         [-17.01897   ,   2.077931  ,   0.40708598],\n",
       "         [-17.01897   ,   2.077931  ,   0.40708598],\n",
       "         [-17.01897   ,   2.077931  ,   0.40708598],\n",
       "         [-17.01897   ,   2.077931  ,   0.40708598],\n",
       "         [-17.01897   ,   2.077931  ,   0.40708598],\n",
       "         [-17.01897   ,   2.077931  ,   0.40708598],\n",
       "         [-17.01897   ,   2.077931  ,   0.40708598],\n",
       "         [-17.01897   ,   2.077931  ,   0.40708598],\n",
       "         [-17.01897   ,   2.077931  ,   0.40708598],\n",
       "         [-17.017279  ,   2.07769   ,   0.40687674],\n",
       "         [-17.016262  ,   2.0774198 ,   0.40667662],\n",
       "         [-17.016624  ,   2.0775292 ,   0.40678138],\n",
       "         [-17.019958  ,   2.0783627 ,   0.40753227],\n",
       "         [-17.019958  ,   2.0783627 ,   0.40753227],\n",
       "         [-17.019958  ,   2.0783627 ,   0.40753227],\n",
       "         [-17.019958  ,   2.0783627 ,   0.40753227],\n",
       "         [-17.019958  ,   2.0783627 ,   0.40753227],\n",
       "         [-17.01995   ,   2.0783665 ,   0.4075364 ],\n",
       "         [-17.019958  ,   2.0783627 ,   0.40753227],\n",
       "         [-17.01995   ,   2.0783665 ,   0.4075364 ],\n",
       "         [-17.01724   ,   2.0776708 ,   0.40686768],\n",
       "         [-17.016346  ,   2.0774558 ,   0.40668696],\n",
       "         [-17.016449  ,   2.0774376 ,   0.40668055],\n",
       "         [-17.01702   ,   2.077581  ,   0.406795  ],\n",
       "         [-17.016403  ,   2.0773969 ,   0.40664905],\n",
       "         [-17.016403  ,   2.0773969 ,   0.40664905],\n",
       "         [-17.016602  ,   2.0775137 ,   0.406772  ],\n",
       "         [-17.016602  ,   2.0775137 ,   0.406772  ],\n",
       "         [-17.016415  ,   2.0774195 ,   0.40666622],\n",
       "         [-17.016624  ,   2.0775292 ,   0.40678138],\n",
       "         [-17.019958  ,   2.0783627 ,   0.40753227],\n",
       "         [-17.019958  ,   2.0783627 ,   0.40753227],\n",
       "         [-17.01995   ,   2.0783665 ,   0.4075364 ],\n",
       "         [-17.01724   ,   2.0776708 ,   0.40686768],\n",
       "         [-17.016262  ,   2.0774198 ,   0.40667662],\n",
       "         [-17.016266  ,   2.0774188 ,   0.40667775]],\n",
       " \n",
       "        [[-17.039494  ,   2.0842307 ,   0.41222736],\n",
       "         [-17.039494  ,   2.084231  ,   0.41222778],\n",
       "         [-17.039497  ,   2.0842335 ,   0.4122309 ],\n",
       "         [-17.039495  ,   2.0842285 ,   0.4122257 ],\n",
       "         [-17.039495  ,   2.084231  ,   0.41222784],\n",
       "         [-17.039492  ,   2.0842292 ,   0.41222635],\n",
       "         [-17.039492  ,   2.08423   ,   0.41222647],\n",
       "         [-17.039494  ,   2.0842307 ,   0.4122273 ],\n",
       "         [-17.039494  ,   2.0842283 ,   0.41222522],\n",
       "         [-17.039494  ,   2.0842278 ,   0.4122245 ],\n",
       "         [-17.039494  ,   2.0842276 ,   0.41222444],\n",
       "         [-17.039494  ,   2.0842285 ,   0.41222534],\n",
       "         [-17.039494  ,   2.084232  ,   0.4122291 ],\n",
       "         [-17.039494  ,   2.0842278 ,   0.4122245 ],\n",
       "         [-17.039495  ,   2.0842285 ,   0.4122257 ],\n",
       "         [-17.039492  ,   2.0842273 ,   0.4122248 ],\n",
       "         [-17.039494  ,   2.0842307 ,   0.4122273 ],\n",
       "         [-17.03949   ,   2.0842292 ,   0.41222575],\n",
       "         [-17.03949   ,   2.0842292 ,   0.41222575],\n",
       "         [-17.039495  ,   2.084231  ,   0.41222784],\n",
       "         [-17.039494  ,   2.084231  ,   0.41222784],\n",
       "         [-17.040419  ,   2.0842938 ,   0.4122059 ],\n",
       "         [-17.040419  ,   2.0842938 ,   0.4122059 ],\n",
       "         [-17.040415  ,   2.0842996 ,   0.41221118],\n",
       "         [-17.040419  ,   2.0842938 ,   0.4122059 ],\n",
       "         [-17.040016  ,   2.0842216 ,   0.41213718],\n",
       "         [-17.040016  ,   2.0842369 ,   0.4121622 ],\n",
       "         [-17.04034   ,   2.0842686 ,   0.4121952 ],\n",
       "         [-17.040047  ,   2.0842419 ,   0.4121622 ],\n",
       "         [-17.039967  ,   2.0842178 ,   0.41212687],\n",
       "         [-17.040047  ,   2.0842555 ,   0.4121726 ],\n",
       "         [-17.03999   ,   2.0841904 ,   0.41211376],\n",
       "         [-17.040007  ,   2.0842445 ,   0.41217417],\n",
       "         [-17.040016  ,   2.0842443 ,   0.4121712 ],\n",
       "         [-17.04004   ,   2.0842535 ,   0.4121797 ],\n",
       "         [-17.039963  ,   2.0842314 ,   0.41212845],\n",
       "         [-17.04004   ,   2.0842535 ,   0.4121797 ],\n",
       "         [-17.040346  ,   2.0842826 ,   0.41220433],\n",
       "         [-17.04      ,   2.0842426 ,   0.41217235],\n",
       "         [-17.04004   ,   2.0842535 ,   0.4121797 ],\n",
       "         [-17.04034   ,   2.0842688 ,   0.41219544],\n",
       "         [-17.04      ,   2.0842428 ,   0.41217253],\n",
       "         [-17.039963  ,   2.084231  ,   0.41212803],\n",
       "         [-17.040028  ,   2.084242  ,   0.41217124],\n",
       "         [-17.040035  ,   2.0842319 ,   0.41212627],\n",
       "         [-17.039963  ,   2.084231  ,   0.41212803],\n",
       "         [-17.040346  ,   2.0842826 ,   0.41220433],\n",
       "         [-17.040043  ,   2.0842483 ,   0.41216826],\n",
       "         [-17.040031  ,   2.0842443 ,   0.4121734 ],\n",
       "         [-17.039963  ,   2.084231  ,   0.41212803],\n",
       "         [-17.039967  ,   2.0842113 ,   0.41216466],\n",
       "         [-17.040035  ,   2.0842319 ,   0.41212627],\n",
       "         [-17.040031  ,   2.0842443 ,   0.4121734 ],\n",
       "         [-17.039993  ,   2.0841744 ,   0.41209766],\n",
       "         [-17.039963  ,   2.084231  ,   0.41212803],\n",
       "         [-17.040031  ,   2.0842443 ,   0.4121734 ],\n",
       "         [-17.039984  ,   2.08417   ,   0.41209325],\n",
       "         [-17.04004   ,   2.0842535 ,   0.4121797 ],\n",
       "         [-17.040043  ,   2.084243  ,   0.41216546],\n",
       "         [-17.040031  ,   2.0842443 ,   0.4121734 ],\n",
       "         [-17.040058  ,   2.0842252 ,   0.4121179 ],\n",
       "         [-17.039967  ,   2.0842113 ,   0.41216466],\n",
       "         [-17.040031  ,   2.0842443 ,   0.4121734 ],\n",
       "         [-17.039963  ,   2.0842314 ,   0.41212845],\n",
       "         [-17.040031  ,   2.0842443 ,   0.4121734 ],\n",
       "         [-17.039963  ,   2.0842314 ,   0.41212845],\n",
       "         [-17.04004   ,   2.0842535 ,   0.4121797 ],\n",
       "         [-17.039982  ,   2.0842233 ,   0.41213152],\n",
       "         [-17.039967  ,   2.0842113 ,   0.41216466],\n",
       "         [-17.039967  ,   2.0842113 ,   0.4121646 ],\n",
       "         [-17.040007  ,   2.0842445 ,   0.41217417],\n",
       "         [-17.03999   ,   2.0841904 ,   0.41211376],\n",
       "         [-17.04002   ,   2.0842335 ,   0.41213912],\n",
       "         [-17.040007  ,   2.0841856 ,   0.41211003],\n",
       "         [-17.04034   ,   2.0842686 ,   0.4121952 ],\n",
       "         [-17.040047  ,   2.0842555 ,   0.4121726 ],\n",
       "         [-17.040062  ,   2.0842538 ,   0.412166  ],\n",
       "         [-17.04007   ,   2.0842423 ,   0.41215646],\n",
       "         [-17.039795  ,   2.0841577 ,   0.41207942],\n",
       "         [-17.039738  ,   2.0841217 ,   0.4120534 ],\n",
       "         [-17.039806  ,   2.0841455 ,   0.41206977],\n",
       "         [-17.039774  ,   2.084157  ,   0.4120785 ],\n",
       "         [-17.039803  ,   2.0841515 ,   0.41207474],\n",
       "         [-17.04004   ,   2.0842028 ,   0.41211963],\n",
       "         [-17.039692  ,   2.0841029 ,   0.41202757],\n",
       "         [-17.040037  ,   2.0842333 ,   0.41213858],\n",
       "         [-17.040022  ,   2.0842247 ,   0.41212016],\n",
       "         [-17.039991  ,   2.0842268 ,   0.4121324 ],\n",
       "         [-17.04      ,   2.0841901 ,   0.412112  ],\n",
       "         [-17.04      ,   2.0841901 ,   0.412112  ],\n",
       "         [-17.040035  ,   2.0842443 ,   0.41216755],\n",
       "         [-17.040056  ,   2.0842535 ,   0.41217273],\n",
       "         [-17.039974  ,   2.084186  ,   0.4121102 ],\n",
       "         [-17.040047  ,   2.0842555 ,   0.41217253],\n",
       "         [-17.040096  ,   2.0842638 ,   0.41216606],\n",
       "         [-17.03973   ,   2.0841117 ,   0.41204867],\n",
       "         [-17.040087  ,   2.0842528 ,   0.41216186],\n",
       "         [-17.039692  ,   2.0841029 ,   0.41202757],\n",
       "         [-17.04034   ,   2.0842686 ,   0.4121952 ],\n",
       "         [-17.040009  ,   2.084241  ,   0.41217   ]],\n",
       " \n",
       "        [[-17.009512  ,   2.0752985 ,   0.40515143],\n",
       "         [-17.015827  ,   2.0767343 ,   0.40635112],\n",
       "         [-17.009544  ,   2.0753207 ,   0.40517184],\n",
       "         [-17.015821  ,   2.076739  ,   0.40636787],\n",
       "         [-17.015821  ,   2.076739  ,   0.40636787],\n",
       "         [-17.010626  ,   2.0755672 ,   0.40539068],\n",
       "         [-17.015814  ,   2.0767283 ,   0.40635675],\n",
       "         [-17.015465  ,   2.0766904 ,   0.40633336],\n",
       "         [-17.015814  ,   2.0767283 ,   0.40635675],\n",
       "         [-17.01582   ,   2.0767322 ,   0.406361  ],\n",
       "         [-17.015835  ,   2.076739  ,   0.40635636],\n",
       "         [-17.009523  ,   2.075307  ,   0.40516233],\n",
       "         [-17.009512  ,   2.0752985 ,   0.40515137],\n",
       "         [-17.009512  ,   2.0752985 ,   0.40515143],\n",
       "         [-17.015835  ,   2.076739  ,   0.40635636],\n",
       "         [-17.009523  ,   2.075307  ,   0.40516233],\n",
       "         [-17.015848  ,   2.0767484 ,   0.40636957],\n",
       "         [-17.015814  ,   2.0767295 ,   0.40635824],\n",
       "         [-17.015812  ,   2.0767293 ,   0.40635788],\n",
       "         [-17.010632  ,   2.0755613 ,   0.4053846 ],\n",
       "         [-17.009544  ,   2.0753207 ,   0.40517184],\n",
       "         [-17.009523  ,   2.075307  ,   0.40516233],\n",
       "         [-17.015814  ,   2.0767295 ,   0.40635824],\n",
       "         [-17.010626  ,   2.0755672 ,   0.40539068],\n",
       "         [-17.009544  ,   2.0753207 ,   0.40517184],\n",
       "         [-17.015812  ,   2.0767317 ,   0.40636045],\n",
       "         [-17.009512  ,   2.0752985 ,   0.40515143],\n",
       "         [-17.015835  ,   2.076739  ,   0.40635636],\n",
       "         [-17.009544  ,   2.0753207 ,   0.40517184],\n",
       "         [-17.015814  ,   2.0767283 ,   0.40635675],\n",
       "         [-17.015816  ,   2.0767303 ,   0.40635812],\n",
       "         [-17.015814  ,   2.076729  ,   0.40635753],\n",
       "         [-17.01585   ,   2.0767648 ,   0.40638313],\n",
       "         [-17.009523  ,   2.075307  ,   0.40516233],\n",
       "         [-17.015835  ,   2.076739  ,   0.40635636],\n",
       "         [-17.009523  ,   2.075307  ,   0.40516233],\n",
       "         [-17.009512  ,   2.075297  ,   0.40515947],\n",
       "         [-17.009512  ,   2.075297  ,   0.40515947],\n",
       "         [-17.009521  ,   2.0752969 ,   0.4051588 ],\n",
       "         [-17.009521  ,   2.0752969 ,   0.4051588 ],\n",
       "         [-17.009512  ,   2.075297  ,   0.40515947],\n",
       "         [-17.009512  ,   2.075297  ,   0.40515947],\n",
       "         [-17.00953   ,   2.0752969 ,   0.40515894],\n",
       "         [-17.009523  ,   2.0752993 ,   0.40516123],\n",
       "         [-17.009523  ,   2.0752993 ,   0.40516123],\n",
       "         [-17.009523  ,   2.0752993 ,   0.40516123],\n",
       "         [-17.009523  ,   2.0752993 ,   0.40516123],\n",
       "         [-17.00953   ,   2.0752969 ,   0.40515894],\n",
       "         [-17.00953   ,   2.0752969 ,   0.40515894],\n",
       "         [-17.00953   ,   2.0752969 ,   0.40515894],\n",
       "         [-17.00953   ,   2.0752969 ,   0.40515894],\n",
       "         [-17.00953   ,   2.0752969 ,   0.40515894],\n",
       "         [-17.00953   ,   2.0752969 ,   0.40515894],\n",
       "         [-17.00953   ,   2.0752969 ,   0.40515894],\n",
       "         [-17.009512  ,   2.075297  ,   0.40515947],\n",
       "         [-17.009512  ,   2.075297  ,   0.40515947],\n",
       "         [-17.009521  ,   2.0752969 ,   0.4051588 ],\n",
       "         [-17.009521  ,   2.0752969 ,   0.4051588 ],\n",
       "         [-17.009521  ,   2.0752969 ,   0.4051588 ],\n",
       "         [-17.009512  ,   2.075297  ,   0.40515947],\n",
       "         [-17.00953   ,   2.0752969 ,   0.40515894],\n",
       "         [-17.009533  ,   2.0753    ,   0.40516317],\n",
       "         [-17.009533  ,   2.0753    ,   0.40516317],\n",
       "         [-17.009523  ,   2.0752993 ,   0.40516123],\n",
       "         [-17.009523  ,   2.0752993 ,   0.40516123],\n",
       "         [-17.009523  ,   2.0752993 ,   0.40516123],\n",
       "         [-17.00953   ,   2.0752969 ,   0.40515894],\n",
       "         [-17.00953   ,   2.0752969 ,   0.40515894],\n",
       "         [-17.009523  ,   2.0752993 ,   0.40516123],\n",
       "         [-17.009523  ,   2.0752993 ,   0.40516123],\n",
       "         [-17.009523  ,   2.0752993 ,   0.40516123],\n",
       "         [-17.00953   ,   2.0753002 ,   0.40516213],\n",
       "         [-17.009533  ,   2.0753    ,   0.40516317],\n",
       "         [-17.009533  ,   2.0753    ,   0.40516317],\n",
       "         [-17.00953   ,   2.0752969 ,   0.40515894],\n",
       "         [-17.00953   ,   2.0752969 ,   0.40515894],\n",
       "         [-17.00953   ,   2.0752969 ,   0.40515894],\n",
       "         [-17.009523  ,   2.0752993 ,   0.40516123],\n",
       "         [-17.009512  ,   2.075297  ,   0.40515947],\n",
       "         [-17.009521  ,   2.0752969 ,   0.4051588 ],\n",
       "         [-17.009521  ,   2.0752969 ,   0.4051588 ],\n",
       "         [-17.009521  ,   2.0752969 ,   0.4051588 ],\n",
       "         [-17.009521  ,   2.0752969 ,   0.4051588 ],\n",
       "         [-17.009521  ,   2.0752969 ,   0.4051588 ],\n",
       "         [-17.009521  ,   2.0752969 ,   0.4051588 ],\n",
       "         [-17.009521  ,   2.0752969 ,   0.4051588 ],\n",
       "         [-17.009521  ,   2.0752969 ,   0.40515885],\n",
       "         [-17.009521  ,   2.0752969 ,   0.40515885],\n",
       "         [-17.009521  ,   2.0752969 ,   0.40515885],\n",
       "         [-17.009521  ,   2.0752969 ,   0.4051588 ],\n",
       "         [-17.009512  ,   2.075297  ,   0.40515947],\n",
       "         [-17.009521  ,   2.0752969 ,   0.4051588 ],\n",
       "         [-17.009512  ,   2.075297  ,   0.40515947],\n",
       "         [-17.009512  ,   2.075297  ,   0.40515947],\n",
       "         [-17.009512  ,   2.075297  ,   0.40515947],\n",
       "         [-17.009512  ,   2.075297  ,   0.40515947],\n",
       "         [-17.009512  ,   2.075297  ,   0.40515947],\n",
       "         [-17.009512  ,   2.075297  ,   0.40515947],\n",
       "         [-17.009512  ,   2.075297  ,   0.40515947],\n",
       "         [-17.009512  ,   2.075297  ,   0.40515947]]], dtype=float32)>,\n",
       " <tf.Tensor: shape=(3, 100), dtype=int64, numpy=\n",
       " array([[1, 1, 1, 1, 1, 1, 1, 1, 1, 1, 1, 1, 1, 1, 1, 1, 1, 1, 1, 1, 1, 1,\n",
       "         1, 1, 1, 1, 1, 1, 1, 1, 1, 1, 1, 1, 1, 1, 1, 1, 1, 1, 1, 1, 1, 1,\n",
       "         1, 1, 1, 1, 1, 1, 1, 1, 1, 1, 1, 1, 1, 1, 1, 1, 1, 1, 1, 1, 1, 1,\n",
       "         1, 1, 1, 1, 1, 1, 1, 1, 1, 1, 1, 1, 1, 1, 1, 1, 1, 1, 1, 1, 1, 1,\n",
       "         1, 1, 1, 1, 1, 1, 1, 1, 1, 1, 1, 1],\n",
       "        [1, 1, 1, 1, 1, 1, 1, 1, 1, 1, 1, 1, 1, 1, 1, 1, 1, 1, 1, 1, 1, 1,\n",
       "         1, 1, 1, 1, 1, 1, 1, 1, 1, 1, 1, 1, 1, 1, 1, 1, 1, 1, 1, 1, 1, 1,\n",
       "         1, 1, 1, 1, 1, 1, 1, 1, 1, 1, 1, 1, 1, 1, 1, 1, 1, 1, 1, 1, 1, 1,\n",
       "         1, 1, 1, 1, 1, 1, 1, 1, 1, 1, 1, 1, 1, 1, 1, 1, 1, 1, 1, 1, 1, 1,\n",
       "         1, 1, 1, 1, 1, 1, 1, 1, 1, 1, 1, 1],\n",
       "        [1, 1, 1, 1, 1, 1, 1, 1, 1, 1, 1, 1, 1, 1, 1, 1, 1, 1, 1, 1, 1, 1,\n",
       "         1, 1, 1, 1, 1, 1, 1, 1, 1, 1, 1, 1, 1, 1, 1, 1, 1, 1, 1, 1, 1, 1,\n",
       "         1, 1, 1, 1, 1, 1, 1, 1, 1, 1, 1, 1, 1, 1, 1, 1, 1, 1, 1, 1, 1, 1,\n",
       "         1, 1, 1, 1, 1, 1, 1, 1, 1, 1, 1, 1, 1, 1, 1, 1, 1, 1, 1, 1, 1, 1,\n",
       "         1, 1, 1, 1, 1, 1, 1, 1, 1, 1, 1, 1]])>)"
      ]
     },
     "execution_count": 23,
     "metadata": {},
     "output_type": "execute_result"
    }
   ],
   "source": [
    "preds = model([(\"dunningkruger\", \"eeeeeeeeeeeeeeeeeeeee\", \"thequickbrownfoxjumpedoverthelazydog\"),(None,None, None)])\n",
    "preds, tf.argmax(preds, axis=-1)"
   ]
  },
  {
   "cell_type": "code",
   "execution_count": 24,
   "metadata": {},
   "outputs": [
    {
     "data": {
      "text/plain": [
       "<tf.Tensor: shape=(1, 100, 512), dtype=float32, numpy=\n",
       "array([[[-0.8135057 ,  2.4654276 ,  1.954949  , ...,  0.56842756,\n",
       "          0.9597004 ,  3.7965462 ],\n",
       "        [ 0.5219509 , -0.16743678,  0.6210165 , ...,  1.9315889 ,\n",
       "          0.2138592 ,  0.71559334],\n",
       "        [ 0.58977735, -0.05287826,  0.7771991 , ...,  1.9315889 ,\n",
       "          0.2138592 ,  0.71559334],\n",
       "        ...,\n",
       "        [ 0.06008768, -1.6146605 ,  0.5641642 , ...,  1.9315305 ,\n",
       "          0.2138049 ,  0.7155428 ],\n",
       "        [-0.89290196, -0.70424247, -0.27069739, ...,  1.9315293 ,\n",
       "          0.21380377,  0.7155417 ],\n",
       "        [-1.3187269 , -0.03914171, -1.0332861 , ...,  1.9315281 ,\n",
       "          0.21380264,  0.7155407 ]]], dtype=float32)>"
      ]
     },
     "execution_count": 24,
     "metadata": {},
     "output_type": "execute_result"
    }
   ],
   "source": [
    "model.encoder.pos_embedding(tokenizer([\"e\"]))"
   ]
  },
  {
   "cell_type": "code",
   "execution_count": 25,
   "metadata": {},
   "outputs": [
    {
     "data": {
      "text/plain": [
       "<tf.Tensor: shape=(1, 100, 512), dtype=float32, numpy=\n",
       "array([[[ 1.4004881 ,  0.32033703,  0.76646286, ...,  0.3870238 ,\n",
       "         -0.3503027 , -1.6323583 ],\n",
       "        [ 0.5219509 , -0.16743678,  0.6210165 , ...,  1.9315889 ,\n",
       "          0.2138592 ,  0.71559334],\n",
       "        [ 0.58977735, -0.05287826,  0.7771991 , ...,  1.9315889 ,\n",
       "          0.2138592 ,  0.71559334],\n",
       "        ...,\n",
       "        [ 0.06008768, -1.6146605 ,  0.5641642 , ...,  1.9315305 ,\n",
       "          0.2138049 ,  0.7155428 ],\n",
       "        [-0.89290196, -0.70424247, -0.27069739, ...,  1.9315293 ,\n",
       "          0.21380377,  0.7155417 ],\n",
       "        [-1.3187269 , -0.03914171, -1.0332861 , ...,  1.9315281 ,\n",
       "          0.21380264,  0.7155407 ]]], dtype=float32)>"
      ]
     },
     "execution_count": 25,
     "metadata": {},
     "output_type": "execute_result"
    }
   ],
   "source": [
    "model.encoder.pos_embedding(tokenizer([\"d\"]))"
   ]
  },
  {
   "cell_type": "code",
   "execution_count": 26,
   "metadata": {},
   "outputs": [
    {
     "name": "stdout",
     "output_type": "stream",
     "text": [
      "<tf.Variable 'space_segmentation_transformer/encoder/postional_embedding/embedding/embeddings:0' shape=(58, 512) dtype=float32, numpy=\n",
      "array([[-0.01412093, -0.04372099, -0.00799673, ...,  0.0411708 ,\n",
      "        -0.03474284, -0.01256912],\n",
      "       [-0.02968057, -0.073121  , -0.08130331, ...,  0.03610411,\n",
      "         0.01929422,  0.05080995],\n",
      "       [-0.03595221,  0.10895754,  0.08639736, ..., -0.01907299,\n",
      "        -0.00178101,  0.12359105],\n",
      "       ...,\n",
      "       [ 0.00896447, -0.01703224, -0.00899448, ..., -0.04177563,\n",
      "        -0.0552373 ,  0.03061399],\n",
      "       [-0.05058952,  0.02026631, -0.04149869, ..., -0.02427576,\n",
      "        -0.07221463, -0.02539273],\n",
      "       [-0.04887834,  0.01469706, -0.03826246, ..., -0.06998698,\n",
      "        -0.0172425 , -0.01516993]], dtype=float32)>\n",
      "<tf.Variable 'space_segmentation_transformer/encoder/encoder_sublayer_0/multi_head_attention/query/kernel:0' shape=(512, 3, 512) dtype=float32, numpy=\n",
      "array([[[-7.43764918e-04,  2.94043142e-02,  1.38004776e-02, ...,\n",
      "          1.84714645e-02,  8.82441178e-02,  8.93603116e-02],\n",
      "        [-1.02713995e-01, -3.42742726e-02, -7.10858032e-02, ...,\n",
      "         -1.61572397e-01, -1.30153880e-01, -8.81568864e-02],\n",
      "        [-2.35376637e-02, -4.37444029e-03,  5.41386977e-02, ...,\n",
      "         -1.33973941e-01,  5.15074171e-02,  4.40918542e-02]],\n",
      "\n",
      "       [[ 1.91605147e-02, -9.42908041e-03,  1.61133986e-02, ...,\n",
      "          1.05247702e-02, -1.99954840e-03, -3.83904007e-05],\n",
      "        [-1.03564933e-01, -3.85879911e-02, -5.83627671e-02, ...,\n",
      "         -1.15065448e-01, -7.55763799e-02,  3.86603922e-02],\n",
      "        [-8.33737031e-02, -6.46193400e-02, -6.54755235e-02, ...,\n",
      "          4.22323644e-02, -9.15232003e-02,  8.37150030e-03]],\n",
      "\n",
      "       [[ 7.39593655e-02, -8.93494561e-02, -7.78128132e-02, ...,\n",
      "          1.58374146e-01, -1.42128358e-03,  7.56322369e-02],\n",
      "        [ 2.79316865e-02,  8.82140100e-02,  2.92151570e-02, ...,\n",
      "         -9.72302351e-03,  3.02254409e-03, -4.32777479e-02],\n",
      "        [-1.48523837e-01, -1.85317859e-01, -5.24908490e-02, ...,\n",
      "         -8.40049312e-02, -1.95018724e-02,  5.90953119e-02]],\n",
      "\n",
      "       ...,\n",
      "\n",
      "       [[ 9.21546891e-02, -7.51466230e-02,  4.62566689e-03, ...,\n",
      "          5.41582592e-02, -7.70681649e-02, -5.87488674e-02],\n",
      "        [ 6.90305233e-02, -3.46027873e-02,  1.78772453e-02, ...,\n",
      "          5.34831993e-02,  6.01745471e-02,  3.33032981e-02],\n",
      "        [ 2.02303678e-02, -1.94850918e-02, -7.35518038e-02, ...,\n",
      "         -1.46961212e-01,  3.85564417e-02,  1.95833128e-02]],\n",
      "\n",
      "       [[ 6.65519759e-02, -6.14687055e-02, -6.54388173e-03, ...,\n",
      "          6.62308037e-02, -6.79639960e-03,  2.86274664e-02],\n",
      "        [ 1.16267977e-02,  4.62906994e-02, -7.92383999e-02, ...,\n",
      "          7.87365362e-02, -1.23332907e-02, -3.08973971e-03],\n",
      "        [ 1.14572793e-01,  1.19578861e-01,  2.72578169e-02, ...,\n",
      "         -2.00458453e-03,  7.63505921e-02, -7.71413967e-02]],\n",
      "\n",
      "       [[-8.84140655e-02,  9.15945619e-02,  1.52615070e-01, ...,\n",
      "         -7.57815391e-02, -6.89635053e-02, -6.85787946e-02],\n",
      "        [ 5.86231947e-02,  4.75585796e-02,  4.19505984e-02, ...,\n",
      "          6.57077879e-02,  7.24671111e-02,  1.74874350e-01],\n",
      "        [ 1.06908903e-02, -2.41973419e-02, -6.17078505e-02, ...,\n",
      "         -7.08295628e-02, -1.57807767e-02,  2.61637866e-02]]],\n",
      "      dtype=float32)>\n",
      "<tf.Variable 'space_segmentation_transformer/encoder/encoder_sublayer_0/multi_head_attention/query/bias:0' shape=(3, 512) dtype=float32, numpy=\n",
      "array([[ 0.06130363, -0.04559259, -0.0096878 , ...,  0.0434778 ,\n",
      "        -0.0361923 , -0.0036608 ],\n",
      "       [ 0.09329921, -0.03975977,  0.07249457, ...,  0.04413375,\n",
      "         0.103057  ,  0.046374  ],\n",
      "       [-0.00759267, -0.01838325, -0.02843074, ..., -0.03067129,\n",
      "        -0.00272239, -0.01782883]], dtype=float32)>\n",
      "<tf.Variable 'space_segmentation_transformer/encoder/encoder_sublayer_0/multi_head_attention/key/kernel:0' shape=(512, 3, 512) dtype=float32, numpy=\n",
      "array([[[ 0.02545527, -0.02399571, -0.05932306, ..., -0.0162649 ,\n",
      "         -0.01214128,  0.01934314],\n",
      "        [-0.04069978, -0.01079892, -0.12299402, ..., -0.06648433,\n",
      "         -0.0842873 , -0.05928323],\n",
      "        [ 0.07648884,  0.10938072,  0.09629032, ...,  0.0560502 ,\n",
      "         -0.00214687, -0.07014315]],\n",
      "\n",
      "       [[ 0.03674128, -0.08752546, -0.05507119, ...,  0.110856  ,\n",
      "         -0.0087176 ,  0.04228694],\n",
      "        [ 0.04806338,  0.03523352,  0.03720012, ...,  0.09253856,\n",
      "          0.07076854,  0.05122712],\n",
      "        [ 0.01236404,  0.00676938, -0.0194974 , ...,  0.00370629,\n",
      "         -0.040961  ,  0.02458582]],\n",
      "\n",
      "       [[ 0.11415289, -0.11826045,  0.0485188 , ...,  0.06195939,\n",
      "         -0.1605248 , -0.15345836],\n",
      "        [-0.06815201, -0.00279596, -0.11739334, ...,  0.00652475,\n",
      "         -0.09457525,  0.08273869],\n",
      "        [-0.08655517, -0.00783888,  0.02216743, ...,  0.15492226,\n",
      "         -0.15995245,  0.07630377]],\n",
      "\n",
      "       ...,\n",
      "\n",
      "       [[ 0.02765695, -0.02937281, -0.03759079, ...,  0.0470409 ,\n",
      "         -0.00321189, -0.02075627],\n",
      "        [ 0.01329189, -0.02766551, -0.01324185, ..., -0.0232803 ,\n",
      "          0.01397665, -0.0378222 ],\n",
      "        [-0.05603985, -0.06809419, -0.10289627, ..., -0.07248266,\n",
      "          0.07045646,  0.00564306]],\n",
      "\n",
      "       [[-0.00766642,  0.04225572, -0.053829  , ..., -0.04035614,\n",
      "          0.0033693 , -0.03871455],\n",
      "        [ 0.156801  ,  0.18743686,  0.08040112, ...,  0.22025844,\n",
      "          0.15082654,  0.19219424],\n",
      "        [ 0.01560354,  0.04863489, -0.02428511, ...,  0.05672419,\n",
      "         -0.03895364, -0.00360955]],\n",
      "\n",
      "       [[ 0.10120162, -0.14500521, -0.08259087, ...,  0.13737383,\n",
      "         -0.13945621, -0.11574877],\n",
      "        [ 0.08001915,  0.02025552, -0.03002755, ..., -0.00140003,\n",
      "          0.03132179, -0.10210854],\n",
      "        [ 0.07506965,  0.04923889,  0.01597138, ..., -0.03657642,\n",
      "          0.04590707, -0.08213404]]], dtype=float32)>\n",
      "<tf.Variable 'space_segmentation_transformer/encoder/encoder_sublayer_0/multi_head_attention/key/bias:0' shape=(3, 512) dtype=float32, numpy=\n",
      "array([[-0.03619115,  0.05730805,  0.00147118, ..., -0.08749723,\n",
      "         0.04617351,  0.01076366],\n",
      "       [ 0.01210035,  0.03158655, -0.0136774 , ..., -0.02434482,\n",
      "         0.00180313, -0.02295668],\n",
      "       [ 0.10800876,  0.15518212,  0.11900445, ...,  0.06070882,\n",
      "         0.01447273, -0.03431005]], dtype=float32)>\n",
      "<tf.Variable 'space_segmentation_transformer/encoder/encoder_sublayer_0/multi_head_attention/value/kernel:0' shape=(512, 3, 512) dtype=float32, numpy=\n",
      "array([[[ 0.07355986, -0.02710306,  0.00392423, ...,  0.04257447,\n",
      "          0.02412913,  0.02049387],\n",
      "        [-0.04304987, -0.02773887,  0.02241535, ..., -0.00059883,\n",
      "         -0.00292483, -0.00094151],\n",
      "        [ 0.08000593,  0.03990538,  0.00633569, ...,  0.00385331,\n",
      "          0.01593593,  0.0987694 ]],\n",
      "\n",
      "       [[-0.08238401,  0.05894876, -0.00707109, ..., -0.04501689,\n",
      "          0.02557122, -0.03241783],\n",
      "        [-0.04954933, -0.00136245, -0.00594491, ..., -0.00175834,\n",
      "         -0.03539976, -0.02662396],\n",
      "        [ 0.04665852,  0.01458016,  0.01742956, ...,  0.01694847,\n",
      "         -0.01389242,  0.14155085]],\n",
      "\n",
      "       [[-0.12366631,  0.09466641, -0.00085363, ..., -0.05917758,\n",
      "          0.04069846, -0.04170404],\n",
      "        [-0.07638577, -0.04828941,  0.03652042, ..., -0.00442556,\n",
      "          0.01967335,  0.01480457],\n",
      "        [-0.06347845, -0.05006396, -0.02132664, ...,  0.01740552,\n",
      "         -0.01341941, -0.12157349]],\n",
      "\n",
      "       ...,\n",
      "\n",
      "       [[-0.07981443,  0.01109989, -0.00266076, ..., -0.00891517,\n",
      "         -0.00275551, -0.00604472],\n",
      "        [-0.04772774,  0.02220588, -0.01229464, ...,  0.0120129 ,\n",
      "         -0.017829  , -0.00815036],\n",
      "        [-0.0478781 , -0.03553711, -0.00077339, ...,  0.0026811 ,\n",
      "         -0.01341523, -0.0426037 ]],\n",
      "\n",
      "       [[-0.06174293,  0.01012841, -0.00074398, ..., -0.01536545,\n",
      "         -0.00354801, -0.00085976],\n",
      "        [-0.02460266, -0.00202314, -0.00667337, ...,  0.0007785 ,\n",
      "          0.00281315,  0.00050594],\n",
      "        [-0.0041153 , -0.01475421,  0.00046867, ...,  0.00147323,\n",
      "         -0.01214917, -0.01242726]],\n",
      "\n",
      "       [[-0.08217976,  0.0315635 , -0.00568547, ..., -0.03122358,\n",
      "         -0.00423392, -0.01558769],\n",
      "        [-0.03920852,  0.02234747, -0.00976572, ...,  0.01268127,\n",
      "         -0.02494169, -0.00873494],\n",
      "        [-0.00198545,  0.00708845, -0.00148713, ...,  0.00047328,\n",
      "          0.01150163, -0.00204588]]], dtype=float32)>\n",
      "<tf.Variable 'space_segmentation_transformer/encoder/encoder_sublayer_0/multi_head_attention/value/bias:0' shape=(3, 512) dtype=float32, numpy=\n",
      "array([[-0.04792154,  0.01121892,  0.00050094, ..., -0.01049564,\n",
      "        -0.0155521 , -0.0023983 ],\n",
      "       [-0.04289843,  0.00812475, -0.00225607, ...,  0.00641532,\n",
      "        -0.02512077, -0.00333126],\n",
      "       [-0.01358266, -0.01210351, -0.00199986, ...,  0.00091263,\n",
      "        -0.00604411, -0.00976609]], dtype=float32)>\n",
      "<tf.Variable 'space_segmentation_transformer/encoder/encoder_sublayer_0/multi_head_attention/attention_output/kernel:0' shape=(3, 512, 512) dtype=float32, numpy=\n",
      "array([[[ 0.09939202,  0.00180327,  0.0565482 , ..., -0.02540644,\n",
      "         -0.05724259,  0.03303638],\n",
      "        [-0.06838809, -0.01060239, -0.02652709, ...,  0.05061432,\n",
      "          0.04320626, -0.06519043],\n",
      "        [-0.01154074, -0.02721649, -0.0116733 , ..., -0.01373012,\n",
      "         -0.07238241,  0.04815568],\n",
      "        ...,\n",
      "        [ 0.0845114 , -0.01299792,  0.01392385, ..., -0.06449033,\n",
      "         -0.03397332,  0.04661544],\n",
      "        [ 0.03759538, -0.01025796, -0.01267576, ...,  0.08162667,\n",
      "          0.05329773, -0.05265926],\n",
      "        [ 0.07159369, -0.02078266,  0.07389253, ..., -0.03183606,\n",
      "         -0.00504942,  0.04116847]],\n",
      "\n",
      "       [[ 0.06702942,  0.00036143, -0.0349695 , ..., -0.0536847 ,\n",
      "         -0.03785099, -0.10104336],\n",
      "        [-0.05801344, -0.0490166 ,  0.08839067, ..., -0.02109581,\n",
      "         -0.00052088,  0.0405949 ],\n",
      "        [ 0.03974697, -0.00737251, -0.01641385, ..., -0.01457175,\n",
      "          0.00339356, -0.05514139],\n",
      "        ...,\n",
      "        [-0.09243747,  0.03807018,  0.04455986, ...,  0.03166196,\n",
      "          0.02462343,  0.00892528],\n",
      "        [ 0.00603213,  0.01235211, -0.0287242 , ..., -0.01478982,\n",
      "         -0.06836391, -0.11307149],\n",
      "        [ 0.09579195, -0.04171449, -0.01980869, ..., -0.06958335,\n",
      "         -0.08593538, -0.06865383]],\n",
      "\n",
      "       [[-0.06802578,  0.09244643, -0.08998545, ..., -0.14070415,\n",
      "         -0.10315145, -0.13440706],\n",
      "        [-0.02865498,  0.10140739, -0.0177076 , ..., -0.02606802,\n",
      "         -0.01207045, -0.05275977],\n",
      "        [-0.00727183,  0.05844446, -0.05345967, ..., -0.06489765,\n",
      "         -0.00088686, -0.00312096],\n",
      "        ...,\n",
      "        [ 0.03702857,  0.02382608,  0.01374821, ...,  0.03539553,\n",
      "         -0.0560667 ,  0.00271002],\n",
      "        [-0.03164013,  0.03395045, -0.03852385, ..., -0.00515038,\n",
      "          0.03278884, -0.03519458],\n",
      "        [-0.03921834,  0.13367328, -0.1107941 , ..., -0.077089  ,\n",
      "         -0.01795865, -0.15748374]]], dtype=float32)>\n",
      "<tf.Variable 'space_segmentation_transformer/encoder/encoder_sublayer_0/multi_head_attention/attention_output/bias:0' shape=(512,) dtype=float32, numpy=\n",
      "array([ 1.87963918e-02, -1.19640855e-02,  9.22498666e-03,  1.48479668e-02,\n",
      "       -4.17496311e-03, -1.34644061e-02, -7.58774113e-03,  2.35671527e-03,\n",
      "       -1.23296119e-02, -1.03171263e-02, -8.33740644e-03,  1.41822202e-02,\n",
      "        1.28623256e-02, -1.43396687e-02, -2.46259524e-03, -1.20879719e-02,\n",
      "        1.25954859e-02, -4.10386175e-03,  9.70037095e-03, -2.34331680e-03,\n",
      "        3.38542479e-04, -4.36993316e-03,  1.45701934e-02, -8.19017738e-03,\n",
      "       -1.83398253e-03, -8.97924416e-03, -2.85151415e-03,  7.89779983e-03,\n",
      "       -9.24355630e-03, -1.14597138e-02, -1.37574840e-02, -8.88202048e-04,\n",
      "       -1.31917140e-02, -8.41318816e-03, -1.07401982e-02,  9.27869603e-03,\n",
      "       -8.99193808e-03, -4.52864775e-03,  1.22327777e-02,  2.43572798e-03,\n",
      "        1.01437839e-02, -1.13763567e-02,  5.69806620e-03, -4.87325393e-04,\n",
      "        6.46619871e-03, -7.28193857e-03, -1.10607585e-02, -1.42567828e-02,\n",
      "        5.43096196e-03, -1.64900478e-02,  9.18275764e-05,  3.93118197e-03,\n",
      "       -4.28999774e-03,  1.08224163e-02, -5.92539087e-03,  1.76577754e-02,\n",
      "        8.63388740e-03,  2.15009379e-04,  7.71398144e-03, -9.42175649e-03,\n",
      "       -1.09624211e-02, -9.65314638e-03, -1.38013270e-02, -3.44115449e-03,\n",
      "       -3.74406762e-03, -1.04905677e-03, -1.29150655e-02, -1.02023929e-02,\n",
      "       -8.35124217e-03, -1.01932865e-02, -4.24911361e-03, -5.32908179e-03,\n",
      "        1.19544165e-02, -4.64545237e-03, -1.29476991e-02,  1.25096012e-02,\n",
      "       -6.10746909e-03,  4.88651032e-03, -3.19568510e-03, -1.08732013e-02,\n",
      "        2.46364414e-03, -1.63879730e-02, -3.78162204e-03, -9.44914855e-03,\n",
      "        7.77812861e-03,  1.41505180e-02,  1.01097953e-02,  5.77300880e-03,\n",
      "        1.47674689e-02,  2.43281247e-03, -2.27212179e-02,  1.28385872e-02,\n",
      "        6.38651242e-03,  5.73918596e-03,  3.37624969e-03, -1.18021285e-02,\n",
      "        1.02310879e-02,  1.07083973e-02,  1.14955511e-02, -7.55480817e-03,\n",
      "        2.91363872e-03,  2.02424685e-03,  1.46608753e-02,  4.22915723e-03,\n",
      "       -1.47750145e-02,  1.06833158e-02,  1.70691200e-02, -3.57928965e-03,\n",
      "        1.00122923e-02,  1.03788720e-02,  6.05452759e-03,  1.71483178e-02,\n",
      "        7.84352701e-03,  1.84799321e-02,  1.30053726e-03,  1.71757042e-02,\n",
      "       -2.59651360e-03, -5.42429090e-03, -8.35070736e-04,  1.73027553e-02,\n",
      "        1.30717857e-02,  1.15559306e-02,  1.21497959e-02,  1.69918675e-03,\n",
      "        1.26973428e-02, -1.85632741e-03, -3.83045670e-04, -1.17418049e-02,\n",
      "        8.14315490e-03, -2.93205236e-03, -1.06709125e-03,  2.01893337e-02,\n",
      "        1.12681212e-02, -1.84965488e-02, -3.70125705e-03, -2.66278768e-03,\n",
      "        6.98465295e-03,  7.26076728e-03,  1.57635733e-02, -1.32946717e-02,\n",
      "        1.01187620e-02, -8.96411389e-03,  1.61069501e-02,  1.82867646e-02,\n",
      "       -4.91549401e-03,  9.42392927e-03, -2.05166452e-03,  6.67228550e-03,\n",
      "       -2.22173403e-05, -1.27732940e-02,  2.64107762e-03,  9.58339311e-03,\n",
      "        4.87846229e-03, -9.80204553e-04, -8.02248809e-03,  6.25016959e-03,\n",
      "        1.17053846e-02, -1.39843952e-02, -4.78900084e-03,  5.92302112e-03,\n",
      "       -2.71497108e-03, -5.06725674e-03,  1.17003107e-02, -1.07728383e-02,\n",
      "        1.16803963e-02, -6.99054776e-03, -2.06032814e-03,  9.31556895e-03,\n",
      "       -8.85445252e-03, -9.51534510e-03, -3.42105492e-03,  1.02956395e-03,\n",
      "       -7.08599575e-03,  1.41069936e-02, -4.02528327e-03, -1.25730950e-02,\n",
      "        1.03085069e-02, -9.74042993e-03, -7.41998386e-03, -1.82728358e-02,\n",
      "       -1.33327646e-02, -1.00791156e-02,  8.27873871e-03,  4.91882348e-03,\n",
      "       -8.49219784e-03,  1.81409647e-04,  1.41092073e-02, -2.21287739e-02,\n",
      "       -5.34588424e-03,  2.78421619e-04,  1.35080153e-02, -8.38464685e-03,\n",
      "       -4.06014547e-03, -1.15710534e-02,  1.09905042e-02, -1.34608587e-02,\n",
      "       -3.43731605e-03, -8.49526096e-03, -2.08737720e-02, -1.31334327e-02,\n",
      "        4.16744471e-04, -3.18836095e-03,  1.29542239e-02, -2.08185706e-02,\n",
      "        2.08518002e-03,  1.19637586e-02, -1.00651383e-02, -2.49147485e-03,\n",
      "       -7.55509920e-03,  1.83462002e-03, -7.65003217e-03, -1.05291372e-02,\n",
      "        1.16469595e-03, -6.81530405e-03,  8.45192000e-03,  1.00871408e-03,\n",
      "        9.65631101e-03,  3.45713715e-03,  9.57076158e-03,  2.82538217e-03,\n",
      "       -1.13783414e-02, -8.50627013e-03, -5.14090201e-03,  8.33530631e-03,\n",
      "        1.24207130e-02, -2.73197587e-03,  8.00555758e-03, -1.52691519e-02,\n",
      "       -7.24952249e-03, -1.08305914e-02, -2.09941212e-02, -9.80207417e-03,\n",
      "       -1.02696782e-02, -1.85601581e-02,  1.16407583e-02, -1.10340491e-02,\n",
      "       -1.55863678e-03,  6.07261155e-03, -9.85090993e-03, -1.31155513e-02,\n",
      "        3.84198222e-03,  2.54230783e-03,  2.43019732e-03, -6.67025894e-03,\n",
      "       -9.20316298e-03,  9.52618755e-03, -1.10201435e-02, -4.14985884e-03,\n",
      "        2.33168900e-02, -1.83907934e-02, -7.82857183e-03,  1.45601034e-02,\n",
      "       -7.90698919e-03, -2.46515498e-03, -3.21320561e-03,  6.58540102e-03,\n",
      "        1.42289586e-02, -1.31800864e-02,  1.20193372e-02,  8.89755040e-03,\n",
      "        1.23401592e-02, -2.12862389e-03, -6.99038338e-03, -1.22086061e-02,\n",
      "       -7.06679048e-03, -9.61999316e-03,  5.04547218e-03, -1.29762609e-02,\n",
      "       -3.43977823e-03,  1.07739521e-02, -9.85381380e-03, -1.27506265e-02,\n",
      "       -2.65642023e-03,  8.85934848e-03, -4.05146973e-03,  6.95055118e-03,\n",
      "        1.39373187e-02,  5.50431665e-04,  4.41979337e-03, -1.42962264e-03,\n",
      "        1.40395956e-02,  2.82331859e-03,  9.75442678e-03,  1.16715319e-02,\n",
      "       -7.22847274e-03, -2.61189067e-04,  7.09056668e-03, -6.96651218e-03,\n",
      "       -1.66113786e-02,  6.18379796e-03, -1.29975367e-03,  1.04167396e-02,\n",
      "       -7.16570183e-04, -6.26690628e-04, -1.38005773e-02, -9.40813124e-03,\n",
      "       -1.11867739e-02,  1.20337829e-02, -1.33685358e-02, -9.09336284e-03,\n",
      "       -1.38352001e-02, -1.74129363e-02, -1.51153868e-02, -5.26585802e-03,\n",
      "        3.53856105e-03, -7.57753383e-03,  5.62856020e-03,  4.45889629e-04,\n",
      "        1.69794485e-02,  7.80062610e-03, -2.17453111e-02,  2.72067293e-04,\n",
      "       -3.92407412e-03,  8.63200519e-03, -1.55762688e-03, -1.64696556e-02,\n",
      "        5.91992913e-03, -1.48693398e-02, -1.10025965e-02, -5.86165488e-03,\n",
      "        5.26389619e-03, -9.31371935e-04, -8.01957585e-03, -8.50611180e-03,\n",
      "        1.41063565e-02,  1.29815508e-02,  1.23187313e-02,  1.40231336e-02,\n",
      "       -7.57059362e-03, -1.63134076e-02, -3.29338806e-03,  6.66118227e-03,\n",
      "       -1.13997236e-02,  4.89644753e-03, -1.36015397e-02, -5.10400813e-03,\n",
      "       -5.96404588e-03,  1.79201290e-02, -1.53531488e-02, -1.41175799e-02,\n",
      "        9.47867706e-03, -1.09665953e-02,  2.65777041e-03,  1.09936278e-02,\n",
      "        7.01543689e-03, -2.75441986e-02,  7.42280111e-03,  1.38200177e-02,\n",
      "       -6.88091293e-03, -8.51167645e-03, -1.03641506e-02, -2.04573013e-02,\n",
      "        1.13312313e-02, -2.56974134e-03, -1.80912130e-02,  1.51157267e-02,\n",
      "       -1.48601772e-03,  8.50633997e-03,  4.00995836e-03,  1.32152336e-02,\n",
      "       -1.16837919e-02, -1.40799442e-02,  1.24243936e-02,  3.98975285e-03,\n",
      "        1.67411603e-02,  7.83776399e-03,  8.26776400e-03,  2.29660459e-02,\n",
      "       -1.21287266e-02, -4.27071285e-03,  7.25350983e-04,  1.54123027e-02,\n",
      "       -9.97439213e-03,  5.00785979e-03,  1.20345643e-02,  4.71672649e-03,\n",
      "        7.89674744e-03, -6.76214416e-03,  6.87479833e-03,  1.58564374e-03,\n",
      "       -1.87459309e-02, -2.31336732e-03, -1.30584626e-03,  1.07199159e-02,\n",
      "       -6.06502639e-03,  4.21617646e-03,  4.15426260e-03,  5.10165980e-03,\n",
      "        8.11354257e-03, -1.04912522e-03,  5.82755078e-03,  1.95180648e-04,\n",
      "        7.46210571e-03, -3.72250495e-03,  8.23950022e-03, -1.50584606e-02,\n",
      "       -1.70385558e-03,  1.03970747e-02, -1.41042592e-02,  1.56190423e-02,\n",
      "        4.39990219e-03,  1.07862344e-02,  6.94657909e-03,  5.86134568e-03,\n",
      "       -8.39130953e-03,  5.43261238e-04,  1.77108981e-02, -9.72144958e-03,\n",
      "        3.15044611e-03, -2.28528585e-03, -6.13563647e-03, -1.50315743e-02,\n",
      "       -3.95269180e-03, -1.08195581e-02,  1.30126486e-02,  7.77287968e-03,\n",
      "        7.68720545e-03,  1.91150811e-02,  6.28175260e-03,  1.11268796e-02,\n",
      "        8.57545529e-03, -5.18219266e-03,  7.96748418e-03,  1.25707127e-03,\n",
      "        1.56799667e-02,  8.08722805e-03, -2.77117593e-03,  1.54521298e-02,\n",
      "        5.43993199e-03,  5.27529139e-03,  1.10502411e-02, -2.18651164e-03,\n",
      "       -8.44329421e-04, -1.01505406e-02,  1.24954078e-02,  5.91666531e-03,\n",
      "        4.35460359e-03, -1.27884913e-02, -7.99379777e-03, -1.24515789e-02,\n",
      "        7.49926781e-03,  1.12806214e-02,  2.59245327e-03,  9.12490021e-03,\n",
      "       -1.62517354e-02, -5.87381423e-03, -1.29229855e-02,  8.18526000e-03,\n",
      "        1.05905449e-02, -1.43952379e-02,  8.11010320e-03, -9.28427093e-03,\n",
      "        7.07078027e-03, -1.56158227e-02,  1.55373588e-02,  6.27591624e-04,\n",
      "       -1.37034971e-02, -1.39917275e-02,  2.74842442e-03,  1.80183239e-02,\n",
      "        2.37066932e-02,  1.35935070e-02,  1.29517419e-02,  1.21769803e-02,\n",
      "       -3.30577767e-03, -1.69861224e-02,  2.32029497e-03,  1.72922965e-02,\n",
      "        6.82812883e-03, -1.55117968e-03,  6.44739810e-03, -1.11084785e-02,\n",
      "        4.31942375e-04, -2.81378385e-02, -4.59184637e-03, -8.07470176e-03,\n",
      "       -3.08199227e-03,  3.27453832e-03,  7.07181077e-03, -8.78784899e-03,\n",
      "        9.05195437e-03,  8.64920486e-03, -1.74921528e-02, -6.32479903e-04,\n",
      "       -1.22715589e-02,  6.85777282e-03,  6.25269767e-03,  1.24881854e-02,\n",
      "        1.05203670e-02,  8.82095192e-03,  1.14075318e-02, -1.06516639e-02,\n",
      "        2.10781116e-03,  1.40620051e-02,  2.28143251e-03, -1.18967844e-03,\n",
      "        2.10028421e-03,  1.34618278e-03, -1.12779345e-02, -4.04713769e-03,\n",
      "        1.01654837e-02,  6.39875839e-03, -1.79210445e-03, -7.78752426e-03,\n",
      "       -7.47690862e-03,  8.31133220e-03,  6.29307516e-03, -1.16590541e-02,\n",
      "       -1.25430077e-02,  8.52828380e-03,  1.34489890e-02, -3.03943921e-03],\n",
      "      dtype=float32)>\n",
      "<tf.Variable 'dense/kernel:0' shape=(512, 1028) dtype=float32, numpy=\n",
      "array([[ 0.14737943,  0.03904065, -0.00205007, ..., -0.00413767,\n",
      "         0.05382146,  0.03297872],\n",
      "       [-0.12283447, -0.05462954,  0.01142632, ..., -0.02103475,\n",
      "         0.00466173, -0.05253749],\n",
      "       [ 0.12171519,  0.05473128, -0.0141663 , ...,  0.04168411,\n",
      "         0.0503813 ,  0.02366346],\n",
      "       ...,\n",
      "       [-0.00398205, -0.01565839, -0.09304867, ...,  0.05433354,\n",
      "        -0.05112554, -0.06466561],\n",
      "       [ 0.06248549, -0.04164925, -0.06137092, ..., -0.04047311,\n",
      "        -0.04703985, -0.01078905],\n",
      "       [ 0.10884692,  0.00181015, -0.01682806, ...,  0.02373703,\n",
      "        -0.02780919, -0.00047056]], dtype=float32)>\n",
      "<tf.Variable 'dense/bias:0' shape=(1028,) dtype=float32, numpy=\n",
      "array([-0.05716019,  0.00839944, -0.00259292, ...,  0.00681219,\n",
      "       -0.01684315, -0.01245914], dtype=float32)>\n",
      "<tf.Variable 'dense_1/kernel:0' shape=(1028, 512) dtype=float32, numpy=\n",
      "array([[-0.04378077, -0.02338363,  0.09249444, ..., -0.09561672,\n",
      "        -0.04528593,  0.0027229 ],\n",
      "       [-0.06183524, -0.02680941,  0.06220572, ..., -0.11821438,\n",
      "         0.0009982 ,  0.09640465],\n",
      "       [-0.0342306 ,  0.0994785 ,  0.03574489, ..., -0.03298189,\n",
      "         0.02805011,  0.00070859],\n",
      "       ...,\n",
      "       [ 0.04401834, -0.02654197,  0.00076037, ..., -0.07096493,\n",
      "        -0.01036128,  0.06096701],\n",
      "       [ 0.02226555,  0.12939045,  0.03744039, ..., -0.01863587,\n",
      "         0.07484572,  0.09632978],\n",
      "       [ 0.00952325,  0.07196663,  0.08942842, ..., -0.07880824,\n",
      "         0.00780436,  0.10795505]], dtype=float32)>\n",
      "<tf.Variable 'dense_1/bias:0' shape=(512,) dtype=float32, numpy=\n",
      "array([ 8.68048985e-04,  6.34738477e-03,  9.97350458e-03, -6.35350589e-03,\n",
      "        1.80428568e-03,  6.31186180e-04,  2.77212122e-03, -2.72251014e-03,\n",
      "        1.12428993e-03, -3.90176685e-03, -1.01600057e-02,  5.69722801e-03,\n",
      "       -5.17995004e-03, -2.09646096e-04,  9.36611439e-04, -4.80118440e-03,\n",
      "        7.93994963e-03, -1.78530125e-03, -1.63384899e-02, -4.62651020e-04,\n",
      "        1.85372680e-03, -6.50449982e-03,  8.77342187e-04,  9.98451281e-03,\n",
      "        1.93296019e-02, -1.02343736e-02, -4.74094367e-03,  1.92222383e-03,\n",
      "        2.25001853e-03, -1.50453150e-02,  6.36114413e-03, -1.10836942e-02,\n",
      "       -5.44122886e-03,  7.48440914e-04, -6.41470263e-03, -2.76901741e-02,\n",
      "       -6.26997498e-04, -1.28391813e-02, -2.16157977e-02, -2.34086495e-02,\n",
      "       -6.92646368e-04, -1.51859159e-02,  7.83391111e-03, -3.57162394e-02,\n",
      "       -2.53945962e-03, -2.97065964e-03, -8.65756813e-03, -8.26417562e-03,\n",
      "        2.26201117e-03, -7.53873633e-03,  1.49316750e-02, -1.61258038e-03,\n",
      "        8.85039940e-03,  4.13378933e-03, -1.64372511e-02, -5.74124232e-03,\n",
      "       -5.56027703e-03,  1.78955998e-02, -2.51096599e-02,  7.75215263e-03,\n",
      "        2.41006725e-02,  4.18957643e-04,  6.61951909e-03,  2.26231627e-02,\n",
      "        1.00081936e-02, -5.43571496e-03,  1.14326151e-02, -3.55391228e-03,\n",
      "       -4.70019318e-03, -1.29513685e-02,  9.45223309e-03,  7.11331377e-04,\n",
      "       -1.91122899e-03, -3.14259715e-02, -6.88341586e-03, -3.05253994e-02,\n",
      "       -4.09656391e-03, -8.28768680e-05, -5.01240091e-03, -1.43449586e-02,\n",
      "       -1.24917803e-02, -4.08351561e-03,  3.29392729e-03, -2.04066047e-04,\n",
      "       -4.34860960e-03,  3.97597114e-03, -3.47277010e-03,  4.00609113e-02,\n",
      "        1.37328338e-02, -2.48225033e-03,  2.14641653e-02, -4.80304984e-03,\n",
      "       -6.44164952e-03,  7.89264031e-03, -1.06466496e-02,  1.50480506e-03,\n",
      "        9.60289981e-06, -3.84783410e-02,  4.27990966e-03,  1.37676165e-04,\n",
      "       -7.34581938e-03,  1.06945552e-03, -5.92441624e-03, -2.24906728e-02,\n",
      "       -3.18877259e-03,  1.97421089e-02,  1.90194957e-02, -1.36979958e-02,\n",
      "       -2.03346368e-02,  8.79737921e-03,  1.81520563e-02,  3.31329331e-02,\n",
      "        2.86331233e-02,  9.65964422e-03, -1.00243753e-02, -2.31232010e-02,\n",
      "        6.49054721e-03, -7.72402063e-03,  8.24230071e-03, -1.09116326e-03,\n",
      "        3.78401461e-03,  2.99057225e-03, -1.66969234e-03,  1.07378149e-02,\n",
      "        1.80767674e-03, -2.93234712e-03, -1.68519784e-02,  1.38557283e-02,\n",
      "       -1.98177230e-02, -1.25126205e-02, -1.46274986e-02,  4.37780051e-03,\n",
      "        1.67296253e-04, -9.87947104e-04, -3.32154380e-03, -8.02362862e-04,\n",
      "        5.68531454e-03,  2.17356533e-02, -1.90578029e-03,  1.29948668e-02,\n",
      "       -2.09890772e-02,  4.16411553e-03, -3.45446244e-02, -4.55156667e-03,\n",
      "       -1.44678811e-02, -2.60960869e-03,  9.18669254e-03,  2.23241304e-03,\n",
      "        8.36686417e-03,  2.15971586e-03,  1.39544606e-02, -4.35828380e-02,\n",
      "        1.42781967e-02, -3.23901745e-03,  4.30509867e-03, -9.88845155e-03,\n",
      "       -1.92336906e-02,  1.61031599e-03, -9.48882196e-03, -2.70331232e-03,\n",
      "       -1.20534208e-02, -1.43944530e-03,  7.79796578e-03, -3.30723147e-03,\n",
      "        7.80900335e-03, -3.69734713e-03, -2.27811001e-03, -3.49383731e-03,\n",
      "        3.89302825e-03, -3.43791558e-03,  4.96669253e-03, -1.78512428e-02,\n",
      "       -7.24798301e-03,  9.23956838e-03, -1.73013005e-02, -7.84878992e-03,\n",
      "        2.22716061e-03,  6.09525619e-03, -6.07192796e-03, -6.01262460e-03,\n",
      "       -2.37576813e-02,  1.11989221e-02,  4.76563536e-03,  1.65781006e-02,\n",
      "       -6.07807795e-03, -8.40939488e-03,  7.84148276e-03, -2.69752666e-02,\n",
      "        6.90846331e-03, -3.03458353e-03,  4.19858797e-03, -2.51002330e-02,\n",
      "        4.96817054e-04, -6.48490619e-03,  3.95904994e-03,  2.76432210e-03,\n",
      "       -2.32204935e-03,  1.20742964e-02,  1.50713827e-02, -6.16001105e-03,\n",
      "       -2.09469013e-02, -5.68282278e-03, -1.16352038e-02, -7.76501466e-03,\n",
      "       -7.26667512e-03, -1.35652081e-03, -1.77091341e-02, -3.66427787e-02,\n",
      "       -4.50802688e-03, -5.12399757e-03,  4.96671628e-03,  2.74355686e-03,\n",
      "        1.94938164e-02, -1.51716440e-03,  9.78398509e-03, -2.66685523e-02,\n",
      "       -3.06436443e-03, -1.23649091e-02, -2.02797372e-02,  2.26998478e-02,\n",
      "       -2.61146645e-03,  2.06367666e-04,  2.30064895e-03,  6.78610057e-03,\n",
      "       -3.48737300e-03, -2.35331454e-03, -2.67102127e-03, -4.25260747e-03,\n",
      "       -3.81947146e-03,  5.80738531e-04, -4.95153060e-03,  1.85447978e-04,\n",
      "       -1.56951044e-03, -1.78029537e-02, -1.90364139e-03, -2.82865949e-03,\n",
      "        2.06318661e-03,  6.58483431e-03, -8.31265189e-03,  2.67857555e-02,\n",
      "       -1.30468765e-02, -8.50139093e-03,  5.56268124e-03, -4.27626865e-03,\n",
      "       -1.27177378e-02,  4.25097253e-03,  4.85047977e-03, -9.03851166e-03,\n",
      "        2.83346954e-03, -3.54015059e-03, -8.44151806e-03,  6.83096796e-03,\n",
      "        4.34078323e-03, -4.44076955e-02, -3.15352855e-03, -4.11045663e-02,\n",
      "       -7.13870907e-03, -2.02827877e-03,  9.80115496e-04,  1.90506654e-03,\n",
      "        1.22090215e-02,  2.64076814e-02,  3.08076153e-03,  3.91260814e-03,\n",
      "       -1.71742798e-03, -7.84922298e-03,  6.68336079e-03, -7.05288025e-03,\n",
      "        1.00230286e-03,  7.39646610e-03,  8.54552444e-03, -5.45208633e-04,\n",
      "       -2.91220611e-03, -5.88457659e-03, -3.65592167e-02, -3.53101753e-02,\n",
      "        1.25550004e-02, -2.61477288e-03, -9.74586047e-03, -3.88916628e-03,\n",
      "       -1.91293303e-02, -9.72532667e-03,  2.88536912e-03,  2.06945818e-02,\n",
      "       -1.71694867e-02, -1.24261100e-02, -1.96839590e-02,  2.27595232e-02,\n",
      "       -2.33525294e-03,  4.16601682e-03,  1.18554328e-02, -6.43361732e-03,\n",
      "        3.90830776e-03,  5.28900558e-03,  4.59121652e-02,  2.97746249e-03,\n",
      "       -8.11389834e-03,  1.01438258e-02,  1.83898918e-02,  7.41416309e-03,\n",
      "       -8.42671958e-04, -4.67166230e-02, -1.48185564e-03,  2.99043790e-03,\n",
      "        8.96350201e-03, -3.92379472e-03, -2.34259069e-02,  9.49497428e-03,\n",
      "       -1.76151842e-03,  1.86088812e-02,  5.62667148e-03,  4.66991542e-03,\n",
      "       -7.85408728e-03,  1.42094446e-02, -5.76791400e-03,  1.71104334e-02,\n",
      "       -1.26496442e-02,  5.05215116e-03,  2.45634059e-04, -1.40862959e-02,\n",
      "        2.00313479e-02, -2.44283918e-02,  3.66622093e-03, -1.12717040e-03,\n",
      "       -2.68886462e-02,  5.15403738e-03, -2.26393313e-04, -1.21487249e-02,\n",
      "       -1.90872196e-02, -3.24052363e-03,  5.11084087e-02,  4.69601201e-03,\n",
      "        6.82315440e-04,  5.23168081e-03,  9.26068984e-03, -1.79741606e-02,\n",
      "       -4.26448369e-03, -4.65576909e-02, -2.21077190e-03,  4.03858908e-02,\n",
      "        1.79315582e-02, -2.56271809e-02, -5.56770340e-03,  6.61496306e-05,\n",
      "       -1.58214406e-03, -1.58277862e-02,  1.98246236e-03, -5.04400535e-03,\n",
      "       -5.81488386e-03,  9.07855481e-02, -6.11234037e-03, -6.25212956e-03,\n",
      "        5.44395763e-03,  1.56852719e-03, -2.30652909e-03,  3.73342559e-02,\n",
      "        1.27595887e-02, -2.58016400e-03,  1.31018460e-03,  3.33029981e-04,\n",
      "        7.57664163e-03, -8.09412741e-04,  3.51020438e-03, -1.40412794e-02,\n",
      "       -9.18184128e-03,  6.57143211e-03, -3.76813067e-03, -2.15240177e-02,\n",
      "        1.95057728e-04,  7.82736670e-03, -5.79802226e-03,  2.50234064e-02,\n",
      "       -1.62058999e-03, -3.98996565e-03,  1.97154786e-02,  5.03360294e-03,\n",
      "       -4.30069817e-03,  7.25724325e-02, -1.25738252e-02, -1.21263193e-03,\n",
      "       -6.53662160e-03, -4.64675436e-03,  8.44997447e-03, -1.32263573e-02,\n",
      "       -5.19564003e-03,  3.37936953e-02, -3.01493914e-03, -1.53977622e-03,\n",
      "        1.57341734e-02,  9.26445425e-03,  1.94275733e-02,  1.00957137e-02,\n",
      "        5.29116206e-02,  4.22109704e-04, -5.16959280e-03,  4.44183871e-03,\n",
      "        4.82044555e-02, -5.60816564e-03, -1.39907678e-03,  3.77335935e-03,\n",
      "       -1.97079778e-02,  4.82335314e-02, -5.38445031e-03, -3.21397977e-03,\n",
      "        9.75344982e-03,  1.42823709e-02, -4.80913743e-03, -6.96171541e-03,\n",
      "        1.57948341e-02, -9.49084200e-03, -3.54114920e-03, -2.60058437e-02,\n",
      "        1.34085584e-03,  3.95467225e-03,  1.85002491e-03,  1.41539201e-02,\n",
      "       -1.36240516e-02,  3.90049838e-03,  4.50211391e-03, -2.51357420e-03,\n",
      "        3.00073437e-02,  2.24988605e-03,  4.39661415e-03,  5.53148985e-03,\n",
      "        1.35932295e-02, -1.22194802e-02, -5.22015151e-03,  4.69900155e-03,\n",
      "       -1.13150524e-02,  7.47045223e-03,  5.00465045e-03, -4.84273024e-03,\n",
      "        4.63700900e-03,  5.55285066e-03,  9.92366578e-03, -4.66150045e-03,\n",
      "        4.47839499e-03, -6.90535177e-03,  1.82543583e-02, -8.58311635e-03,\n",
      "        1.16174305e-02, -6.84129214e-03, -5.09679504e-03, -1.25496241e-03,\n",
      "        2.72141676e-03,  4.65219747e-03, -5.56599861e-03, -2.98857340e-03,\n",
      "       -2.26717312e-02,  3.19085573e-03,  7.98137300e-03, -1.08603537e-02,\n",
      "        1.19207555e-03,  1.03257352e-03, -2.68408842e-03, -4.88512730e-03,\n",
      "       -8.46239098e-04,  1.43090636e-02, -1.02892080e-02, -6.71984302e-03,\n",
      "       -4.72733565e-03,  1.22257546e-02,  1.26682241e-02,  1.34594971e-02,\n",
      "        3.11050788e-02,  1.78561099e-02, -1.54276555e-02,  1.90828531e-03,\n",
      "        4.35158145e-03, -4.46634460e-03,  8.91228020e-03,  1.06772194e-02,\n",
      "        1.13464585e-02,  1.62118021e-02, -3.25025103e-05,  6.20644679e-03,\n",
      "       -3.76676507e-02, -8.30412097e-03,  9.19609889e-03, -4.64309081e-02,\n",
      "       -6.14646298e-04, -1.07866689e-03,  2.53044907e-03,  1.07225478e-02,\n",
      "        5.47364680e-03,  5.39171649e-03, -1.27310446e-03,  6.00850908e-03,\n",
      "        3.61146615e-03,  2.47299615e-02, -1.30589036e-02,  6.24218897e-04,\n",
      "        2.03379337e-02,  6.24596188e-03,  2.37953546e-03,  1.76562020e-03,\n",
      "        2.64913030e-02,  2.14693155e-02, -1.62149481e-02, -1.58771444e-02,\n",
      "       -1.16888555e-02, -8.35973863e-03, -1.46592839e-03,  1.56768337e-02,\n",
      "        6.71249628e-03,  3.19079100e-03,  2.04148469e-03,  1.38570722e-02,\n",
      "        2.32808292e-03, -2.31418926e-02,  9.94044077e-03, -1.73691250e-02],\n",
      "      dtype=float32)>\n",
      "<tf.Variable 'space_segmentation_transformer/encoder/encoder_sublayer_0/layer_normalization/gamma:0' shape=(512,) dtype=float32, numpy=\n",
      "array([1.0792556 , 1.032509  , 1.0489678 , 1.060755  , 0.9779349 ,\n",
      "       0.96814877, 1.0822202 , 1.0534075 , 1.0269636 , 1.0746267 ,\n",
      "       1.0706456 , 1.0077437 , 1.1304551 , 0.90903836, 1.0842465 ,\n",
      "       1.0236838 , 1.0460622 , 1.0784068 , 1.038141  , 1.0075135 ,\n",
      "       0.90766174, 1.0778135 , 0.9889285 , 1.0335954 , 0.99418724,\n",
      "       1.0197967 , 1.0395454 , 0.8525171 , 0.9871724 , 0.989154  ,\n",
      "       1.0141405 , 1.1337843 , 0.9333794 , 0.9774186 , 1.0013533 ,\n",
      "       0.9154001 , 1.056387  , 0.96592444, 1.0371525 , 1.08466   ,\n",
      "       1.0047871 , 1.0540402 , 1.0048975 , 0.9794192 , 1.0562882 ,\n",
      "       1.063978  , 1.0018371 , 0.9986915 , 0.84489304, 0.88592243,\n",
      "       0.8178232 , 1.0898153 , 0.9405918 , 0.98722684, 1.0230547 ,\n",
      "       0.9448596 , 1.0527174 , 1.1151035 , 1.0193344 , 1.004293  ,\n",
      "       0.9825403 , 0.90702647, 0.89789325, 1.0158496 , 0.9561432 ,\n",
      "       1.0323153 , 0.98600227, 0.9377036 , 0.9683388 , 1.0565844 ,\n",
      "       0.9977559 , 1.0027866 , 0.9135383 , 0.99977386, 1.0173265 ,\n",
      "       0.9654184 , 1.004019  , 1.1246257 , 0.8891769 , 1.0375643 ,\n",
      "       0.908353  , 1.1606776 , 1.0968642 , 0.95681345, 0.98984176,\n",
      "       0.8658222 , 0.9650856 , 1.0162872 , 0.93231183, 1.04963   ,\n",
      "       1.0765964 , 1.020355  , 1.0050919 , 1.0145631 , 1.008719  ,\n",
      "       0.99775326, 1.0003141 , 0.9592224 , 1.0469913 , 0.9951407 ,\n",
      "       1.0362947 , 0.99051255, 0.8961086 , 1.0585905 , 1.0395104 ,\n",
      "       1.0215284 , 0.94808227, 0.91086215, 0.8830263 , 1.0012993 ,\n",
      "       1.0182409 , 1.0305583 , 1.0926632 , 0.9639984 , 1.0053974 ,\n",
      "       1.055317  , 1.0189413 , 1.0618349 , 0.85274756, 1.0737091 ,\n",
      "       0.96631926, 1.0298252 , 1.0209625 , 0.92458093, 0.9438615 ,\n",
      "       1.0614266 , 1.0225157 , 0.8876204 , 0.9811385 , 0.95316607,\n",
      "       0.9736276 , 0.9105653 , 0.99174637, 0.93739754, 0.9697869 ,\n",
      "       1.0885241 , 0.91870534, 0.9982027 , 0.94578487, 1.002996  ,\n",
      "       0.9423251 , 1.1082407 , 0.8907316 , 1.0053674 , 1.0120538 ,\n",
      "       1.0021522 , 1.0376382 , 0.988769  , 1.0436137 , 1.0623802 ,\n",
      "       1.075216  , 1.1011045 , 1.0520895 , 1.0034876 , 0.8695237 ,\n",
      "       0.9466636 , 0.99252206, 0.9644955 , 1.0890999 , 1.0596895 ,\n",
      "       0.9939651 , 0.9119725 , 0.9984906 , 1.0072856 , 1.0050398 ,\n",
      "       1.0639488 , 1.090841  , 0.9483874 , 1.0654674 , 1.0450059 ,\n",
      "       0.8809465 , 0.91964924, 0.98734003, 0.95656043, 1.0213717 ,\n",
      "       1.0620499 , 0.8517938 , 1.0191818 , 1.0237767 , 1.0474441 ,\n",
      "       0.9759227 , 0.9005815 , 0.96219844, 0.9673489 , 0.8983777 ,\n",
      "       1.0785704 , 0.97484994, 0.94765073, 0.99012744, 0.9459059 ,\n",
      "       0.95442873, 1.0320892 , 0.93322057, 0.9914884 , 0.9493542 ,\n",
      "       0.9693833 , 0.9938641 , 1.0433172 , 0.94090915, 1.050506  ,\n",
      "       1.0792812 , 0.9507886 , 1.0179763 , 0.9070355 , 1.0892326 ,\n",
      "       0.9508462 , 1.0402445 , 0.9575388 , 1.0383807 , 1.0747854 ,\n",
      "       0.96475184, 0.99261993, 1.1095167 , 1.0581186 , 1.0221264 ,\n",
      "       1.0435066 , 1.109381  , 0.9665277 , 0.9979174 , 1.0598328 ,\n",
      "       1.0443736 , 1.012588  , 1.062457  , 1.099893  , 0.95069426,\n",
      "       1.1170346 , 1.0688823 , 1.0986683 , 0.97777337, 0.88689005,\n",
      "       1.0431945 , 0.9989155 , 0.9732674 , 0.8967302 , 0.9606498 ,\n",
      "       0.9689068 , 1.0851195 , 1.0218543 , 1.0836245 , 1.0066026 ,\n",
      "       1.0734503 , 1.0818442 , 0.98807526, 1.0471513 , 1.0248779 ,\n",
      "       1.1432992 , 0.98751575, 0.9214395 , 0.9415375 , 0.94211787,\n",
      "       1.0169932 , 0.9461224 , 0.96855366, 0.9626569 , 0.95878816,\n",
      "       1.057053  , 1.0278188 , 1.0492486 , 1.0752358 , 1.0675128 ,\n",
      "       0.9700821 , 1.0763371 , 1.0680277 , 1.0155636 , 0.9307124 ,\n",
      "       1.0119894 , 1.0375178 , 1.0197145 , 1.005607  , 0.89934474,\n",
      "       1.0646971 , 0.984886  , 1.0738244 , 1.0216475 , 0.94489145,\n",
      "       1.0259224 , 1.0041218 , 0.9803169 , 1.0789843 , 0.9616604 ,\n",
      "       1.0674931 , 0.9263168 , 0.92537403, 0.9932144 , 1.0156184 ,\n",
      "       0.958706  , 0.91969675, 0.9850089 , 1.0114508 , 1.009753  ,\n",
      "       1.1310415 , 1.0263553 , 1.047925  , 0.9813721 , 0.8991331 ,\n",
      "       0.9602503 , 0.9627013 , 0.9416636 , 0.975639  , 1.083762  ,\n",
      "       1.0193589 , 0.9747315 , 0.93457717, 0.94933754, 1.0886935 ,\n",
      "       0.9584491 , 0.98548263, 1.0736611 , 1.0195761 , 0.8829183 ,\n",
      "       0.9100889 , 1.0543919 , 1.0126531 , 1.0433627 , 1.0469246 ,\n",
      "       1.0453874 , 1.033867  , 0.9577384 , 0.98902094, 1.0301682 ,\n",
      "       0.98217726, 0.91316634, 1.0853947 , 0.94075644, 1.1036235 ,\n",
      "       0.9936375 , 0.945597  , 1.1090858 , 1.0553507 , 0.9946285 ,\n",
      "       1.0054431 , 0.9520438 , 0.9564306 , 0.96951956, 0.86190593,\n",
      "       1.037443  , 1.0370076 , 0.8188748 , 1.0307733 , 0.8622223 ,\n",
      "       0.9308472 , 1.0269634 , 1.0137708 , 0.9721934 , 0.94662017,\n",
      "       0.97599113, 1.0222188 , 1.0106016 , 0.95021325, 1.0113593 ,\n",
      "       0.9326233 , 0.88363767, 0.99215126, 0.95987767, 1.0147055 ,\n",
      "       1.0085491 , 1.0811573 , 0.90595055, 1.0056233 , 0.99385285,\n",
      "       0.8821364 , 0.9767329 , 1.0205597 , 0.9707649 , 0.96095604,\n",
      "       1.0078212 , 0.9575122 , 1.1271565 , 1.0366218 , 0.94904345,\n",
      "       1.0686466 , 1.0321953 , 1.0376217 , 1.040842  , 1.0191424 ,\n",
      "       1.0558971 , 0.9195702 , 1.061614  , 1.0250105 , 1.0362597 ,\n",
      "       0.8384095 , 0.9285963 , 1.0120986 , 0.9167037 , 1.0917181 ,\n",
      "       1.0531878 , 1.082865  , 1.0079398 , 1.06188   , 1.0372784 ,\n",
      "       1.0732805 , 1.0512179 , 1.0566404 , 1.0860445 , 1.0761263 ,\n",
      "       1.0155183 , 0.97923476, 1.0386369 , 1.0362788 , 0.97330874,\n",
      "       1.0352061 , 0.9858834 , 0.9323048 , 1.0000044 , 0.94770896,\n",
      "       0.9582864 , 1.0006456 , 0.9257028 , 0.99799484, 1.0236877 ,\n",
      "       0.9389238 , 1.044499  , 1.0474491 , 0.9658505 , 1.0669008 ,\n",
      "       1.012842  , 0.9555376 , 1.0838864 , 0.93925244, 0.9758064 ,\n",
      "       0.9819051 , 0.8889465 , 1.059924  , 1.0151718 , 1.0368453 ,\n",
      "       0.9008977 , 1.0216776 , 1.0527196 , 1.0274498 , 0.96394116,\n",
      "       1.025545  , 1.0591377 , 0.9933753 , 1.0538844 , 1.0447569 ,\n",
      "       1.0374368 , 1.0059041 , 1.0077064 , 0.99243075, 1.0379761 ,\n",
      "       0.967855  , 0.95878375, 0.92689776, 1.0530865 , 0.90564895,\n",
      "       1.001882  , 0.9321765 , 0.9798629 , 0.9865426 , 0.9160324 ,\n",
      "       0.918659  , 0.9998853 , 0.97451824, 1.009519  , 0.9202769 ,\n",
      "       0.9953958 , 0.9968225 , 0.9767246 , 1.0071803 , 0.964427  ,\n",
      "       0.98740613, 1.0044391 , 1.0206615 , 0.9939915 , 0.9931968 ,\n",
      "       1.1079893 , 0.9417671 , 0.959147  , 1.0439427 , 1.0289937 ,\n",
      "       0.9799509 , 1.058722  , 1.0055503 , 0.9887383 , 1.0045226 ,\n",
      "       1.0341243 , 1.0318584 , 0.9789714 , 1.015186  , 1.0725368 ,\n",
      "       1.0665821 , 0.9938228 , 0.98267853, 0.95524824, 0.9731748 ,\n",
      "       1.0522702 , 0.97435415, 1.0037265 , 1.051136  , 1.0110424 ,\n",
      "       1.0611316 , 0.9773184 , 1.1001544 , 1.0270808 , 0.98367363,\n",
      "       1.0207856 , 0.98286915, 0.89916736, 1.0308131 , 0.98966974,\n",
      "       1.0717999 , 0.98811233, 0.9456571 , 0.9258722 , 0.98852164,\n",
      "       1.0071168 , 1.0066955 , 1.0237446 , 1.0010303 , 1.0011208 ,\n",
      "       1.0520461 , 1.0679456 ], dtype=float32)>\n",
      "<tf.Variable 'space_segmentation_transformer/encoder/encoder_sublayer_0/layer_normalization/beta:0' shape=(512,) dtype=float32, numpy=\n",
      "array([ 2.34465078e-02,  5.31761907e-02, -1.20106759e-02, -1.52269760e-02,\n",
      "       -7.11600482e-03,  3.75977159e-02,  4.42260765e-02,  1.49203767e-03,\n",
      "        1.19921183e-02,  2.28036847e-02,  3.80301252e-02, -2.71567833e-02,\n",
      "        8.83502048e-03,  1.68561991e-02, -7.31454864e-02, -2.92051956e-02,\n",
      "       -5.01889586e-02, -4.06270996e-02, -4.22728136e-02, -4.10978775e-03,\n",
      "       -2.48388145e-02,  2.78293230e-02, -5.08170761e-02,  3.33540514e-02,\n",
      "       -2.85623390e-02, -2.10365392e-02,  1.13739762e-02, -1.76178105e-02,\n",
      "       -2.23232303e-02,  5.25315329e-02,  2.71311067e-02, -6.74108639e-02,\n",
      "        1.06957043e-02,  1.94249265e-02,  3.29355896e-02,  4.88566272e-02,\n",
      "       -5.11757331e-03, -2.53445935e-03, -1.79014541e-03, -2.38455404e-02,\n",
      "        7.73544377e-03, -2.15385415e-04, -2.51697823e-02,  4.70823310e-02,\n",
      "        2.95913313e-02,  3.15583334e-03,  8.70171655e-03, -1.13283321e-02,\n",
      "        2.00047763e-03,  1.51190972e-02, -1.76785961e-02, -4.77652438e-02,\n",
      "       -2.16379687e-02,  3.55389295e-03, -8.92067924e-02,  2.94233784e-02,\n",
      "       -3.80311757e-02,  5.38523421e-02, -1.76674817e-02,  3.96442898e-02,\n",
      "        2.22718753e-02, -6.69260975e-03,  9.22334660e-03, -2.54353434e-02,\n",
      "       -6.90509751e-02,  4.58775721e-02,  3.70301008e-02,  3.86297479e-02,\n",
      "       -5.01134433e-03,  3.86241786e-02,  9.17976908e-03, -1.91811903e-03,\n",
      "        6.44934038e-03,  5.12122584e-04,  2.55029858e-03, -5.11966608e-02,\n",
      "        2.20048837e-02, -1.84268747e-02,  5.86276837e-02, -7.95541611e-03,\n",
      "        5.36204502e-03, -1.83239207e-02, -4.71541705e-03,  2.57953759e-02,\n",
      "       -1.48516968e-02,  1.01801306e-02, -1.92257296e-02,  1.54619208e-02,\n",
      "       -2.05692407e-02, -6.39000610e-02,  2.98657827e-03, -2.03513373e-02,\n",
      "       -7.19008828e-03, -1.43160811e-02,  2.27040071e-02,  1.11305146e-02,\n",
      "        2.35101376e-02,  2.56280247e-02, -1.09300707e-02, -1.52597465e-02,\n",
      "        4.62372974e-02,  9.29593388e-03,  1.90894045e-02, -2.04061083e-02,\n",
      "        3.31885344e-03, -4.73637804e-02,  5.48572466e-03, -2.90803388e-02,\n",
      "        6.09338703e-03, -1.49574634e-02,  9.30017140e-03, -1.43909818e-02,\n",
      "       -2.56357715e-02, -6.58306703e-02, -2.23248117e-02,  2.53900383e-02,\n",
      "        7.20968097e-03,  5.08625917e-02, -4.05229516e-02, -2.61711720e-02,\n",
      "       -2.51590405e-02, -5.72042027e-03, -3.77819501e-02,  1.90190673e-02,\n",
      "        4.69349511e-03, -9.92248580e-03, -3.63702583e-03,  4.90865409e-02,\n",
      "       -2.37779599e-03, -1.65397897e-02,  1.19232489e-02, -3.83522548e-02,\n",
      "       -1.77648328e-02,  2.82947756e-02,  7.11843446e-02,  6.03275560e-03,\n",
      "        1.67605765e-02, -6.83698133e-02, -1.01898927e-02,  1.21274199e-02,\n",
      "       -3.39814201e-02, -2.02272404e-02, -1.92536123e-03,  7.27956789e-03,\n",
      "        8.59397743e-03, -1.85633115e-02,  5.72133027e-02, -8.02038424e-03,\n",
      "        1.05386619e-02,  1.63151436e-02,  3.06123327e-02,  1.94110963e-02,\n",
      "        8.95373151e-03, -4.47798986e-03,  5.57534909e-03, -4.32887003e-02,\n",
      "       -5.43997213e-02, -1.16910748e-02,  4.05016206e-02,  3.92171703e-02,\n",
      "       -2.57359073e-03,  3.10422329e-04,  1.89508224e-04,  7.20103271e-03,\n",
      "       -1.16405534e-02,  4.16254625e-02,  7.77682010e-03, -1.15298189e-03,\n",
      "        2.17257477e-02, -7.64566430e-05, -7.99383316e-03, -8.10032263e-02,\n",
      "        4.12576050e-02, -2.16033570e-02,  3.61410789e-02,  2.15599854e-02,\n",
      "       -5.66147491e-02,  4.84081730e-02,  1.07320156e-02, -1.09780962e-02,\n",
      "        2.24018260e-03, -2.90579926e-02, -9.48899053e-03,  2.32943660e-03,\n",
      "        4.58644740e-02,  1.07335402e-02, -9.53298248e-03,  2.11671647e-02,\n",
      "        3.17531638e-02,  5.79964258e-02,  7.58670922e-03,  3.30471471e-02,\n",
      "       -2.04215432e-03,  6.26690984e-02,  1.31144170e-02,  2.83058770e-02,\n",
      "       -4.53366004e-02,  5.48962317e-02, -1.70215555e-02,  2.72084661e-02,\n",
      "       -3.02882008e-02, -1.16449995e-02, -1.30308066e-02, -2.55696499e-03,\n",
      "       -4.83787693e-02, -2.61260271e-02, -5.01006609e-04, -9.32565145e-03,\n",
      "        1.97772644e-02, -4.03931774e-02,  2.21658256e-02,  2.80782860e-02,\n",
      "       -7.84490444e-03,  1.64296257e-03,  1.83297298e-03,  3.85248959e-02,\n",
      "       -4.19941135e-02,  8.10857210e-03,  1.21942684e-02,  6.13951012e-02,\n",
      "        2.23933998e-02,  1.83125380e-02, -2.93778675e-03, -4.16274182e-02,\n",
      "        1.33013763e-02,  2.96063703e-02, -1.69556439e-02, -1.48157170e-03,\n",
      "       -5.88371791e-03,  1.72080402e-03, -1.03812970e-01, -2.52565718e-03,\n",
      "       -1.00185089e-02,  7.79008567e-02,  5.44141803e-04, -2.27252091e-03,\n",
      "       -1.03455537e-03, -7.27462396e-02,  3.86655964e-02,  2.61266045e-02,\n",
      "       -2.89239176e-02,  3.48620191e-02, -5.64858988e-02,  3.18572931e-02,\n",
      "       -6.48529902e-02,  1.00626443e-02,  6.49729138e-03,  4.46301326e-03,\n",
      "       -3.86171602e-02,  2.99739186e-02,  3.01389769e-02, -1.00347139e-02,\n",
      "        1.19267507e-02, -3.58410142e-02,  6.79443171e-03, -5.80653176e-02,\n",
      "       -4.82503027e-02,  1.79014616e-02, -5.80047593e-02, -4.77756597e-02,\n",
      "       -1.83928814e-02,  2.33695633e-03,  3.42248008e-02,  3.19766849e-02,\n",
      "       -2.34418809e-02, -1.99070424e-02,  1.30082779e-02, -3.73237184e-03,\n",
      "       -1.68705247e-02, -2.24893726e-03,  1.89117659e-02, -3.05599049e-02,\n",
      "       -1.32584861e-02, -2.62729246e-02,  1.15140732e-02, -5.30587770e-02,\n",
      "        9.22399107e-03,  5.17317234e-03, -2.56238645e-03, -3.89839243e-03,\n",
      "       -2.37719938e-02,  3.84062976e-02, -1.23133706e-02, -3.91717292e-02,\n",
      "        2.12882385e-02, -4.65586931e-02, -7.48714954e-02,  4.87866774e-02,\n",
      "        1.28503400e-03, -2.31062006e-02, -2.75282376e-02, -2.07921676e-03,\n",
      "        1.19422674e-02, -5.92912920e-03,  3.39697339e-02, -1.15513271e-02,\n",
      "       -1.12026213e-02, -1.88586973e-02, -5.51708415e-03,  2.28205938e-02,\n",
      "        1.63113289e-02,  2.20736805e-02, -3.71724763e-03,  6.89499751e-02,\n",
      "        4.12365720e-02,  3.51155326e-02, -1.04147624e-02,  1.30907204e-02,\n",
      "       -1.52133796e-02, -4.18176055e-02, -3.90311098e-03, -3.48730609e-02,\n",
      "       -5.33033954e-03, -4.32963669e-02, -3.50067876e-02,  1.53311491e-02,\n",
      "       -2.45160218e-02,  4.89844009e-02,  1.71077531e-03, -2.51154299e-03,\n",
      "        1.06442403e-02, -9.36270412e-03,  3.11030112e-02, -5.32291830e-03,\n",
      "        5.05443439e-02,  1.56734604e-02, -6.77019358e-02,  1.54028395e-02,\n",
      "       -3.70383635e-03, -1.99194513e-02,  2.74093356e-04, -5.44105889e-03,\n",
      "       -1.67523529e-02,  1.96314533e-03, -1.76545419e-02,  3.22653279e-02,\n",
      "        1.35826226e-02,  2.59544719e-02,  8.15803465e-03,  2.28350284e-03,\n",
      "       -3.57001871e-02, -1.72164906e-02,  2.11035982e-02, -5.02235908e-03,\n",
      "        1.01689640e-02,  1.84664093e-02,  9.23025887e-03,  1.35402130e-02,\n",
      "        9.67488717e-03,  7.48716295e-02,  8.04656744e-03,  7.40126334e-03,\n",
      "       -2.32919846e-02,  9.93621815e-03,  2.79038753e-02, -2.61941031e-02,\n",
      "        2.33650152e-02,  3.81063931e-02,  2.15739198e-02, -1.33248074e-02,\n",
      "       -1.74226053e-02,  8.82484019e-02, -1.00142397e-02,  3.47066410e-02,\n",
      "       -9.02549773e-02,  2.11738106e-02, -1.38532594e-02,  5.36751598e-02,\n",
      "       -9.22872103e-04, -2.93109789e-02, -1.01409983e-02, -1.91566013e-02,\n",
      "       -7.26035517e-03, -1.93634797e-02, -1.66554656e-02,  1.44980531e-02,\n",
      "       -3.19382409e-03, -5.14195412e-02, -1.90877058e-02,  4.23900923e-03,\n",
      "        1.51443519e-02,  2.35254969e-02, -1.60015766e-02, -2.03637965e-02,\n",
      "       -3.50968838e-02, -5.59274992e-03, -3.33067738e-02, -2.52824482e-02,\n",
      "       -3.25521939e-02,  4.66389209e-02, -3.29488590e-02,  2.56207911e-03,\n",
      "       -3.99288051e-02, -7.77728483e-02, -1.34632345e-02,  1.22286100e-03,\n",
      "       -8.19439292e-02, -2.87818648e-02,  1.70212593e-02,  4.23428044e-03,\n",
      "       -6.76700249e-02, -1.69976358e-03, -2.53897104e-02, -2.48500425e-02,\n",
      "        5.42490520e-02,  1.31521355e-02, -7.37566827e-03,  1.30169364e-02,\n",
      "        2.07595062e-02,  5.37571870e-02,  1.85343605e-02,  3.11385114e-02,\n",
      "       -3.17419344e-03,  2.14650240e-02, -3.03491224e-02,  3.29965813e-04,\n",
      "        1.36817135e-02,  2.39973795e-02, -3.39800082e-02,  5.16287563e-03,\n",
      "       -1.19544668e-02,  7.98156485e-04, -1.07906619e-02,  1.44271562e-02,\n",
      "        8.11358972e-04, -3.47980373e-02,  5.41930981e-02, -2.05543730e-02,\n",
      "        2.88968962e-02,  6.12040795e-03, -3.24462056e-02, -6.71924697e-03,\n",
      "        2.84705369e-04,  2.05049217e-02, -3.75685655e-02, -9.01631080e-03,\n",
      "       -1.03562782e-02,  7.76600093e-03, -2.58858670e-02,  1.48282992e-02,\n",
      "       -1.26527455e-02, -8.14415887e-02,  4.41059005e-03,  1.20953629e-02,\n",
      "        4.46920702e-03, -8.58899765e-03, -6.92042895e-03, -1.44368298e-02,\n",
      "        1.65078156e-02, -5.13674808e-04, -2.81087738e-02, -1.72069054e-02,\n",
      "       -1.89241488e-02,  6.80520609e-02,  2.43789442e-02,  3.80760953e-02,\n",
      "        2.47447770e-02, -1.83220766e-02,  1.44617949e-02,  1.79924276e-02,\n",
      "       -3.85575257e-02, -3.83530685e-04, -3.27286422e-02,  2.85141915e-03,\n",
      "        4.16419320e-02, -4.66182344e-02,  1.49026467e-02,  1.02758333e-02,\n",
      "       -3.69338109e-03, -1.15081649e-02,  3.07379700e-02,  2.69783158e-02,\n",
      "       -6.41251449e-03,  4.57443781e-02, -7.06152664e-03,  3.47577855e-02,\n",
      "        2.85920091e-02,  1.41205294e-02,  1.20861949e-02, -5.06867692e-02,\n",
      "        1.24139180e-02,  6.04682043e-03,  4.86180559e-02,  2.08987836e-02,\n",
      "       -6.86850771e-03,  2.68078223e-02, -3.47641148e-02,  6.11016713e-03,\n",
      "       -6.34869002e-03,  7.59184035e-03,  1.11851713e-03,  1.58863682e-02,\n",
      "       -4.61303294e-02, -1.90382991e-02,  7.80795794e-03,  2.36421339e-02,\n",
      "       -5.05436845e-02,  5.97584434e-03,  2.80994289e-02, -1.22166257e-02,\n",
      "       -1.82421524e-02,  1.08991684e-02, -2.74490751e-03,  3.01601714e-03,\n",
      "       -8.17691162e-03, -3.41862030e-02, -4.52947877e-02, -1.26336026e-03,\n",
      "        6.13607056e-02, -3.16239633e-02, -1.89616103e-02, -2.82849744e-02],\n",
      "      dtype=float32)>\n",
      "<tf.Variable 'space_segmentation_transformer/encoder/encoder_sublayer_0/layer_normalization_1/gamma:0' shape=(512,) dtype=float32, numpy=\n",
      "array([0.91725564, 1.0521734 , 0.98036474, 0.94543386, 0.88865846,\n",
      "       0.9449246 , 0.9177218 , 0.98060095, 1.0463549 , 1.0245683 ,\n",
      "       0.902557  , 1.0149089 , 0.934093  , 0.98645097, 0.89119303,\n",
      "       0.9455899 , 0.9389518 , 0.9430487 , 0.96935475, 1.0192213 ,\n",
      "       1.0637177 , 1.0614315 , 1.0443788 , 0.9193675 , 0.8903424 ,\n",
      "       1.0372211 , 0.9732034 , 0.7538781 , 1.0008296 , 0.8970957 ,\n",
      "       0.9503339 , 0.8856089 , 1.0700396 , 0.89997697, 0.9085823 ,\n",
      "       0.99506027, 0.9395575 , 1.0763806 , 0.97210956, 0.9370514 ,\n",
      "       0.9013022 , 1.0324595 , 0.98053455, 0.9837169 , 0.9613035 ,\n",
      "       1.0420808 , 0.92579454, 1.0494149 , 0.9377388 , 1.1034999 ,\n",
      "       0.8592835 , 0.8171865 , 1.0489007 , 0.99440044, 0.9583405 ,\n",
      "       0.880689  , 0.939339  , 1.0499281 , 0.97673243, 0.93443006,\n",
      "       1.0398543 , 1.0080751 , 0.9306198 , 1.0825001 , 0.9291204 ,\n",
      "       0.993324  , 0.9673774 , 0.95261705, 1.094325  , 0.9824017 ,\n",
      "       1.0259129 , 1.0196582 , 1.0887963 , 1.1652871 , 1.0112715 ,\n",
      "       0.99486405, 0.93512684, 0.93879837, 0.80374014, 1.0941997 ,\n",
      "       1.0676663 , 0.8432156 , 0.988047  , 1.0453155 , 1.0616156 ,\n",
      "       1.0599095 , 1.0092493 , 0.9939096 , 1.0175903 , 0.8788849 ,\n",
      "       0.9246851 , 0.9178497 , 0.99103624, 0.97006226, 0.980594  ,\n",
      "       1.0256819 , 1.0204557 , 1.1038016 , 1.0513984 , 0.99100363,\n",
      "       0.9660986 , 1.0065296 , 1.0410155 , 0.97057384, 0.8958597 ,\n",
      "       1.0103564 , 1.0717843 , 0.86489904, 0.9966309 , 0.9793552 ,\n",
      "       1.1255744 , 0.9751727 , 0.9000085 , 1.0134865 , 0.9137968 ,\n",
      "       0.9307465 , 1.0659716 , 1.0449257 , 1.0993195 , 0.9748241 ,\n",
      "       0.92380553, 0.9902126 , 1.0381687 , 1.0861586 , 1.0096964 ,\n",
      "       0.96607435, 1.0560657 , 1.2230828 , 1.1555501 , 0.8910082 ,\n",
      "       1.123467  , 0.86263293, 0.886989  , 0.9032509 , 0.86317295,\n",
      "       1.0705073 , 0.92165303, 0.9596723 , 1.1144967 , 1.0533007 ,\n",
      "       1.0602697 , 1.0284656 , 0.8869865 , 0.823024  , 1.0776588 ,\n",
      "       0.87732327, 0.9047334 , 1.0054525 , 1.1191887 , 1.0015174 ,\n",
      "       1.0894117 , 1.0001649 , 1.042764  , 1.0655698 , 0.9213084 ,\n",
      "       0.97711676, 0.93590224, 0.9745095 , 0.9858112 , 0.9660077 ,\n",
      "       1.1181645 , 1.0184433 , 0.9094805 , 1.0470598 , 0.8566892 ,\n",
      "       1.0051584 , 0.87673396, 0.97055006, 1.0512741 , 0.98923737,\n",
      "       1.1153102 , 1.0970659 , 0.914452  , 0.90493053, 1.0056759 ,\n",
      "       0.9988588 , 1.1473724 , 1.0566584 , 0.92266136, 1.0520253 ,\n",
      "       1.0878031 , 1.0349627 , 0.95656765, 1.077551  , 1.0054353 ,\n",
      "       0.9761425 , 1.0101961 , 0.9978564 , 1.0038875 , 0.9041036 ,\n",
      "       0.9834114 , 1.0444264 , 0.8978621 , 0.94398   , 0.9761272 ,\n",
      "       0.9820473 , 0.9255654 , 0.9171257 , 0.89885044, 0.99336815,\n",
      "       0.9557508 , 0.96800125, 0.86819255, 1.0050149 , 0.9686505 ,\n",
      "       0.941142  , 0.9752211 , 0.8977165 , 0.8615234 , 0.99032134,\n",
      "       0.967673  , 0.8893325 , 1.0402045 , 0.99100906, 1.0273948 ,\n",
      "       1.0099629 , 0.94228065, 1.0075324 , 1.0402762 , 0.9487273 ,\n",
      "       0.9209796 , 1.0762466 , 0.9300069 , 1.1133592 , 1.0596192 ,\n",
      "       1.0889342 , 0.91696143, 1.0324638 , 0.82929987, 0.93588716,\n",
      "       0.8783924 , 0.8962459 , 0.9734699 , 0.99183214, 1.0485933 ,\n",
      "       1.005275  , 0.95218164, 1.0568844 , 0.94666696, 1.0538541 ,\n",
      "       0.9677693 , 0.83022827, 0.8956003 , 1.0393507 , 0.94874763,\n",
      "       0.94504845, 0.93795615, 1.0458064 , 0.8731742 , 0.84665173,\n",
      "       0.88867205, 0.9971906 , 1.0726671 , 1.0799714 , 0.96763986,\n",
      "       0.97924894, 0.79306144, 1.0152452 , 0.98860824, 0.89815027,\n",
      "       1.1181432 , 0.92820555, 0.95059305, 0.8425237 , 0.92037576,\n",
      "       0.97240394, 0.95674956, 1.065036  , 0.9922586 , 0.90790415,\n",
      "       1.0533432 , 1.0217651 , 0.9696854 , 1.0045471 , 1.184508  ,\n",
      "       0.91769946, 1.2174255 , 0.9797231 , 0.99452543, 0.9958592 ,\n",
      "       0.9635838 , 0.98430336, 0.9614196 , 0.89934295, 0.9485    ,\n",
      "       0.9019073 , 1.042752  , 1.0903474 , 0.9610195 , 0.9789002 ,\n",
      "       0.8173831 , 0.99982303, 0.9422737 , 0.9734385 , 0.8381072 ,\n",
      "       1.0124577 , 1.0105977 , 0.9057568 , 1.1034673 , 0.9715519 ,\n",
      "       0.9920382 , 1.0748004 , 1.0680928 , 0.9723983 , 0.82870096,\n",
      "       0.8266234 , 1.1106232 , 0.95267534, 0.8797633 , 0.9339999 ,\n",
      "       0.89532083, 0.85432637, 0.9316788 , 1.0258685 , 0.92982423,\n",
      "       1.0772372 , 1.0698808 , 0.9625312 , 0.9399135 , 1.0305783 ,\n",
      "       1.1128689 , 0.9706871 , 0.9747489 , 1.0303249 , 0.88663006,\n",
      "       0.9877117 , 0.90654755, 0.9005112 , 1.0280638 , 0.9655296 ,\n",
      "       1.0713603 , 1.0391352 , 0.8380419 , 1.011016  , 0.7848092 ,\n",
      "       1.0080262 , 0.9459795 , 0.81338084, 1.0240061 , 0.8714167 ,\n",
      "       1.0092063 , 0.9219019 , 1.0229858 , 0.9471209 , 1.0338614 ,\n",
      "       0.8452892 , 1.0490363 , 0.99231845, 0.9518462 , 0.98580927,\n",
      "       1.066117  , 1.1194423 , 1.0565599 , 1.0107191 , 1.0008533 ,\n",
      "       1.0172075 , 1.0225518 , 0.92251515, 0.9187922 , 1.0601596 ,\n",
      "       1.0598081 , 0.9876305 , 1.1024821 , 1.0152401 , 0.89449215,\n",
      "       1.0517297 , 0.9557196 , 0.93548954, 0.897328  , 0.87379396,\n",
      "       1.004646  , 1.0191711 , 1.0512394 , 0.92199206, 0.9955985 ,\n",
      "       1.0320603 , 1.0927022 , 1.1322616 , 1.0543264 , 0.9640308 ,\n",
      "       0.8468767 , 0.8851091 , 0.8926506 , 0.7739755 , 0.88851565,\n",
      "       1.1138618 , 0.92636764, 0.9421332 , 1.016465  , 0.96678394,\n",
      "       1.1223537 , 0.98190445, 1.061779  , 1.0506314 , 1.0467472 ,\n",
      "       0.9317339 , 1.0190072 , 1.0502093 , 0.93417233, 0.94584507,\n",
      "       0.96545607, 1.1280216 , 0.98926234, 0.94785124, 0.9825767 ,\n",
      "       1.0765332 , 0.9973464 , 0.99176055, 1.0384085 , 0.8793315 ,\n",
      "       0.94684225, 0.9942184 , 0.9423674 , 0.98367935, 1.0728008 ,\n",
      "       0.9301542 , 1.0324996 , 0.90886176, 0.8457975 , 1.0608343 ,\n",
      "       1.0414668 , 0.9653124 , 0.9715753 , 1.0633824 , 0.9686949 ,\n",
      "       0.9467083 , 1.0342729 , 1.0829908 , 0.92775667, 0.8634853 ,\n",
      "       0.9221036 , 1.0479524 , 1.1218754 , 0.98122823, 0.8110329 ,\n",
      "       0.9690183 , 1.0732168 , 1.0867536 , 0.962947  , 1.0270807 ,\n",
      "       1.0094296 , 0.8094361 , 1.0333039 , 0.97201765, 0.8884903 ,\n",
      "       0.9281169 , 0.9405463 , 0.91643476, 1.1331155 , 0.79225755,\n",
      "       1.0281966 , 0.9870481 , 0.9679173 , 1.0015736 , 0.978387  ,\n",
      "       1.0376971 , 0.9041489 , 0.892377  , 0.9348025 , 1.0209737 ,\n",
      "       1.0730546 , 1.0158248 , 1.0606749 , 1.0861084 , 1.0939325 ,\n",
      "       0.88521695, 0.9952304 , 0.94173366, 0.8909193 , 0.90554243,\n",
      "       1.063172  , 0.97701806, 1.049995  , 0.946728  , 1.0456719 ,\n",
      "       1.0130107 , 1.0109587 , 1.0116225 , 1.0826176 , 1.0527506 ,\n",
      "       1.0521996 , 0.97012883, 0.9022764 , 1.0868465 , 0.9426048 ,\n",
      "       1.1684124 , 0.9159519 , 1.0238701 , 0.91473407, 1.0534116 ,\n",
      "       1.0479295 , 0.8823489 , 0.9400292 , 1.0121675 , 0.8907271 ,\n",
      "       0.9551865 , 0.9926281 , 1.0982203 , 0.99429286, 0.98570114,\n",
      "       0.97366035, 1.1177905 , 0.8984008 , 0.9861819 , 1.1737031 ,\n",
      "       0.90185565, 1.0282269 , 1.0264481 , 0.9867684 , 0.8166364 ,\n",
      "       1.0367483 , 1.0447371 ], dtype=float32)>\n",
      "<tf.Variable 'space_segmentation_transformer/encoder/encoder_sublayer_0/layer_normalization_1/beta:0' shape=(512,) dtype=float32, numpy=\n",
      "array([ 0.02288158,  0.05424279,  0.06258003, -0.0678703 ,  0.04518954,\n",
      "       -0.02511879, -0.02895675, -0.02309478, -0.04630553, -0.04013476,\n",
      "       -0.03605339,  0.02335417, -0.07753152, -0.09831122, -0.10196009,\n",
      "       -0.06519504,  0.04256541, -0.0435449 ,  0.00722476, -0.06815773,\n",
      "        0.09900429, -0.02362921, -0.04174619,  0.0807283 , -0.09613027,\n",
      "       -0.03538834,  0.07604653, -0.00943604,  0.03440024, -0.00423987,\n",
      "       -0.02551837,  0.00965329, -0.04418361,  0.00381996, -0.04952955,\n",
      "       -0.1123556 ,  0.07031298, -0.04709183, -0.09773977, -0.06244883,\n",
      "        0.02567459, -0.02890012,  0.04845256, -0.02994589, -0.07184344,\n",
      "       -0.11169085, -0.05219783, -0.10125066,  0.04187847,  0.08737024,\n",
      "        0.06896987, -0.04432768,  0.06844251,  0.03042123, -0.11429048,\n",
      "        0.05424591,  0.05932365,  0.08307835,  0.00301188,  0.09937347,\n",
      "       -0.02094651,  0.03802476,  0.01169676,  0.09062921,  0.05560173,\n",
      "       -0.05499776,  0.09851486, -0.09541416, -0.06811318, -0.06544584,\n",
      "        0.07487339, -0.09675157, -0.08751447,  0.01297466, -0.09643213,\n",
      "       -0.03624535,  0.02540854, -0.05464211, -0.05326163, -0.09521817,\n",
      "       -0.1248989 ,  0.05024337, -0.0392969 , -0.07912686, -0.07493178,\n",
      "       -0.1679375 , -0.10506647, -0.08888354, -0.02075923, -0.01431751,\n",
      "       -0.01865907,  0.06748173,  0.03441529,  0.0789706 ,  0.00792507,\n",
      "        0.10188531, -0.07297763, -0.08000128,  0.07015094, -0.08728447,\n",
      "       -0.04163093,  0.07482087, -0.01430812, -0.02721316, -0.06543086,\n",
      "       -0.04689632, -0.11271274, -0.01245279, -0.07466759,  0.06289039,\n",
      "        0.05711048, -0.00368448,  0.09967424, -0.06287907, -0.02556247,\n",
      "       -0.08390442,  0.05683091, -0.03260626,  0.10002221, -0.10384323,\n",
      "       -0.00057558,  0.08562005, -0.09039105, -0.0927479 ,  0.11682455,\n",
      "        0.05049736,  0.05878662,  0.08625665, -0.02996424, -0.11814097,\n",
      "       -0.0110044 , -0.04686549, -0.0477739 , -0.05372962, -0.1193155 ,\n",
      "       -0.07722431,  0.02213891,  0.08330663, -0.00969449,  0.06334645,\n",
      "       -0.07664757, -0.02659908, -0.04294087, -0.07904945, -0.05733476,\n",
      "       -0.00534538,  0.04123045,  0.03403134, -0.11511114, -0.00070603,\n",
      "        0.06193932, -0.06090422,  0.10625851, -0.06922998, -0.06895806,\n",
      "       -0.02107572, -0.09774987,  0.00563911, -0.08792072, -0.10621832,\n",
      "       -0.09547972, -0.11154535, -0.0840629 ,  0.01991742,  0.069859  ,\n",
      "        0.04750047,  0.03933728, -0.03379041,  0.0660092 , -0.09616616,\n",
      "        0.09973047,  0.03911668, -0.0863904 , -0.03128698,  0.02927526,\n",
      "       -0.0404489 , -0.04563273, -0.00828884, -0.05984619, -0.09694625,\n",
      "       -0.03727767,  0.04886306,  0.07058623, -0.00924929, -0.08621731,\n",
      "        0.03270833,  0.07358665, -0.1015428 ,  0.06708632, -0.01347413,\n",
      "       -0.03093703, -0.07188745,  0.083101  ,  0.08009851, -0.00247083,\n",
      "       -0.0248845 ,  0.00427537,  0.0973801 ,  0.03607749, -0.06696206,\n",
      "        0.04581749, -0.09119996,  0.03969249, -0.06858388, -0.10987222,\n",
      "       -0.11499222, -0.11290402, -0.09816527, -0.12117667, -0.08963911,\n",
      "        0.02436535,  0.02869589,  0.08031984, -0.10745216,  0.11892007,\n",
      "       -0.08374313, -0.01371266, -0.09732716, -0.03257848, -0.00437762,\n",
      "       -0.0546725 ,  0.10139243, -0.08342987,  0.06144084, -0.11489569,\n",
      "       -0.06382908,  0.02248135, -0.06631838, -0.00567495, -0.02198305,\n",
      "       -0.07103077, -0.04406154, -0.05946311, -0.00174642, -0.06803728,\n",
      "       -0.09148863,  0.03149614,  0.11832808, -0.02489387,  0.09627242,\n",
      "        0.01514987, -0.06891274, -0.01411309,  0.0798092 , -0.01225825,\n",
      "       -0.07803397, -0.03194548, -0.0971548 ,  0.00279157, -0.02593529,\n",
      "       -0.171615  ,  0.11427981, -0.04181225, -0.03569204,  0.07640519,\n",
      "        0.03902182,  0.00925835,  0.03456771, -0.02568553,  0.09266576,\n",
      "       -0.14934994,  0.07463431,  0.0524439 , -0.00311939, -0.06319122,\n",
      "       -0.10353764, -0.08616683, -0.07680087, -0.11738874,  0.07944246,\n",
      "        0.04401017, -0.0565635 , -0.09786005, -0.07538237, -0.06296872,\n",
      "       -0.07290287, -0.00218754, -0.04373147, -0.00589743, -0.09149772,\n",
      "       -0.04249138, -0.10180189, -0.11591134,  0.01685625, -0.08898605,\n",
      "       -0.05721106, -0.04871415,  0.01428421, -0.04670333,  0.0886762 ,\n",
      "        0.03568735,  0.1113669 ,  0.04304082,  0.04688067,  0.09398481,\n",
      "       -0.06343322, -0.0795448 ,  0.09558357,  0.02929393,  0.0206348 ,\n",
      "        0.08937034, -0.08582378,  0.05069198,  0.02269303,  0.01984076,\n",
      "       -0.03715135, -0.0293328 , -0.045973  , -0.06101219, -0.06971741,\n",
      "       -0.04676995,  0.08832297,  0.0389822 ,  0.04295023,  0.06270776,\n",
      "        0.03742555, -0.07408516,  0.00798772, -0.0379916 ,  0.02846088,\n",
      "        0.07514726, -0.00505503, -0.0368377 ,  0.08798755,  0.02379795,\n",
      "        0.06958937,  0.03305998, -0.06885699, -0.02082225,  0.08556105,\n",
      "        0.11376742,  0.06424287,  0.03171192, -0.02204142,  0.0744039 ,\n",
      "       -0.05621826, -0.00516863, -0.00050905, -0.02921805, -0.00084447,\n",
      "        0.04923801,  0.06444463,  0.07342929,  0.04987827,  0.08208957,\n",
      "        0.06392252,  0.02594818, -0.00181641,  0.02331606,  0.06487839,\n",
      "       -0.09532359, -0.05610624,  0.05831891, -0.09729987, -0.16127904,\n",
      "       -0.01723107,  0.03085797, -0.00696527, -0.08620194, -0.11368187,\n",
      "        0.11476126,  0.01976689, -0.03643563,  0.04652954, -0.08892319,\n",
      "        0.09338798, -0.03015958, -0.01492072, -0.07920882, -0.00270455,\n",
      "       -0.05047287,  0.06039512,  0.05968998,  0.03958037,  0.11162969,\n",
      "        0.07136671, -0.10990799,  0.08330542,  0.0385131 , -0.03458103,\n",
      "       -0.07797528, -0.06128678, -0.0860187 , -0.00246069, -0.12224846,\n",
      "        0.14720847, -0.03742002, -0.05624464,  0.0164407 , -0.032254  ,\n",
      "        0.09969182,  0.10208204,  0.09437849,  0.03160947,  0.06667451,\n",
      "       -0.02745434,  0.06042637,  0.02835766, -0.07445904,  0.03092307,\n",
      "        0.04048878,  0.09387179,  0.07279771, -0.05979431, -0.05477187,\n",
      "        0.09551517,  0.06511348,  0.05374199, -0.00225478,  0.0037331 ,\n",
      "        0.08889355, -0.0490312 ,  0.02370412,  0.10012726,  0.00059859,\n",
      "        0.08197951, -0.06857754,  0.08745609,  0.04949396, -0.03696941,\n",
      "       -0.06121767,  0.05074563, -0.01240631,  0.04424303, -0.07963376,\n",
      "       -0.04576025,  0.05386943, -0.03382238,  0.04442936,  0.06316134,\n",
      "        0.05999862, -0.09876303,  0.02167541,  0.07235834,  0.08301198,\n",
      "       -0.07736843,  0.08130071, -0.10835566,  0.06374025, -0.02551795,\n",
      "        0.14409092,  0.00382496, -0.05914178,  0.09352779, -0.04295037,\n",
      "       -0.08735289, -0.07035907,  0.02959066,  0.00821048,  0.0637869 ,\n",
      "        0.01800595, -0.09145329,  0.1024809 ,  0.08355348, -0.0060271 ,\n",
      "       -0.05649625,  0.04984729, -0.06760974,  0.02218506, -0.07483668,\n",
      "       -0.09187759,  0.10846563,  0.03118173,  0.11754183,  0.06224008,\n",
      "        0.04145283,  0.00652829,  0.06958836,  0.06844223, -0.01425698,\n",
      "        0.09622414,  0.01560688,  0.07580246,  0.06965962, -0.08376534,\n",
      "        0.01407697, -0.13949256,  0.00567024,  0.08963012, -0.06865648,\n",
      "        0.08370563, -0.06761296,  0.01984459,  0.10360778, -0.09269306,\n",
      "        0.11854685,  0.06915985,  0.09261379,  0.14202282,  0.07195918,\n",
      "        0.04418404,  0.02714164,  0.11958145,  0.09498027,  0.08183252,\n",
      "        0.0368504 ,  0.12110793, -0.01343167, -0.0865159 , -0.03179728,\n",
      "        0.07732492, -0.04305056,  0.11368322,  0.09001488,  0.08430052,\n",
      "        0.10548934,  0.08789384, -0.01900173,  0.01239401, -0.00284483,\n",
      "        0.05287992,  0.08069156], dtype=float32)>\n",
      "<tf.Variable 'space_segmentation_transformer/encoder/encoder_sublayer_1/multi_head_attention_1/query/kernel:0' shape=(512, 3, 512) dtype=float32, numpy=\n",
      "array([[[-5.18406518e-02, -1.95470564e-02, -1.91055834e-02, ...,\n",
      "          2.65551684e-03, -4.01160344e-02,  1.64589882e-02],\n",
      "        [ 2.59161852e-02, -6.44632131e-02,  2.92294510e-02, ...,\n",
      "         -3.67177650e-02, -1.38057526e-02, -5.91277960e-04],\n",
      "        [-2.32374500e-02,  9.19046924e-02,  1.18025146e-01, ...,\n",
      "          6.77127913e-02, -6.31735846e-02, -1.03498258e-01]],\n",
      "\n",
      "       [[-2.06456669e-02, -4.96659661e-03,  8.43437836e-02, ...,\n",
      "          3.68709746e-03, -2.02510953e-02,  2.24321540e-02],\n",
      "        [-3.97565924e-02, -2.06082016e-02, -1.81017593e-02, ...,\n",
      "         -3.31324548e-03,  2.55615003e-02, -1.19679356e-02],\n",
      "        [ 3.50356959e-02, -9.18089449e-02, -1.20173819e-01, ...,\n",
      "         -5.53792305e-02,  4.75607850e-02,  1.17289260e-01]],\n",
      "\n",
      "       [[ 6.18338846e-02, -1.51160173e-02,  1.59210533e-01, ...,\n",
      "         -1.12465406e-02,  7.54771307e-02,  6.11417815e-02],\n",
      "        [-2.89917886e-02, -5.97686544e-02, -5.87860905e-02, ...,\n",
      "         -7.14604259e-02,  6.27412498e-02, -5.98719493e-02],\n",
      "        [-6.97196424e-02,  1.43264920e-01,  1.56794041e-01, ...,\n",
      "          5.74031062e-02, -6.61150515e-02, -1.60459489e-01]],\n",
      "\n",
      "       ...,\n",
      "\n",
      "       [[-8.06168690e-02, -7.15586729e-03,  4.65715565e-02, ...,\n",
      "          2.78888512e-02, -7.06820339e-02, -2.12718174e-03],\n",
      "        [ 8.24909098e-03, -1.75614450e-02,  1.26544246e-02, ...,\n",
      "          7.56018853e-04,  6.44604266e-02,  1.64850000e-02],\n",
      "        [ 8.84801075e-02, -1.44067451e-01, -1.55694097e-01, ...,\n",
      "         -1.02668263e-01,  9.50900391e-02,  1.68952912e-01]],\n",
      "\n",
      "       [[ 8.81875167e-05,  8.31384361e-02,  1.43067136e-01, ...,\n",
      "         -3.08001880e-02, -1.16303898e-02,  9.61339697e-02],\n",
      "        [ 6.05903147e-03,  1.74512677e-02,  2.10203491e-02, ...,\n",
      "          2.22411957e-02, -3.40376748e-03,  1.82474609e-02],\n",
      "        [-4.46563624e-02,  1.24674197e-02, -5.76770455e-02, ...,\n",
      "          2.43206248e-02, -1.16059678e-02,  5.07963970e-02]],\n",
      "\n",
      "       [[ 8.01474825e-02,  1.54683664e-02,  1.06468245e-01, ...,\n",
      "         -7.38479346e-02,  4.36372943e-02,  6.84196278e-02],\n",
      "        [-7.27061331e-02, -4.07421961e-02, -3.84250209e-02, ...,\n",
      "         -4.11477014e-02,  1.25898659e-01, -1.82740018e-02],\n",
      "        [ 4.22893576e-02, -5.88688627e-02, -8.45477730e-02, ...,\n",
      "         -9.72614530e-03, -9.16306453e-05,  6.11893833e-02]]],\n",
      "      dtype=float32)>\n",
      "<tf.Variable 'space_segmentation_transformer/encoder/encoder_sublayer_1/multi_head_attention_1/query/bias:0' shape=(3, 512) dtype=float32, numpy=\n",
      "array([[ 0.06165911,  0.10745216,  0.18881106, ..., -0.12919025,\n",
      "         0.05772617,  0.1557955 ],\n",
      "       [-0.07378686, -0.0685077 , -0.0941391 , ..., -0.08767273,\n",
      "         0.11013548, -0.08075837],\n",
      "       [-0.03326254,  0.10413092,  0.09204517, ...,  0.07362697,\n",
      "        -0.07708336, -0.09270684]], dtype=float32)>\n",
      "<tf.Variable 'space_segmentation_transformer/encoder/encoder_sublayer_1/multi_head_attention_1/key/kernel:0' shape=(512, 3, 512) dtype=float32, numpy=\n",
      "array([[[ 0.00920405,  0.09004901,  0.18239574, ..., -0.06359878,\n",
      "          0.0171455 ,  0.13772453],\n",
      "        [-0.07175568, -0.10225661, -0.09405243, ..., -0.09990942,\n",
      "         -0.00496421, -0.1066073 ],\n",
      "        [ 0.10887147, -0.07499307, -0.03576259, ..., -0.10879859,\n",
      "          0.10399402,  0.046183  ]],\n",
      "\n",
      "       [[-0.03555227, -0.08973138, -0.05598913, ...,  0.07053791,\n",
      "         -0.02449751, -0.05185554],\n",
      "        [ 0.2577916 ,  0.26155725,  0.28740096, ...,  0.27893344,\n",
      "         -0.11255878,  0.30054432],\n",
      "        [-0.12808163,  0.0527    , -0.03851934, ...,  0.16957259,\n",
      "         -0.16242811,  0.01840283]],\n",
      "\n",
      "       [[-0.05951168, -0.10048155, -0.07577647, ...,  0.09504984,\n",
      "         -0.06874292, -0.0896728 ],\n",
      "        [-0.00267374, -0.04535075, -0.01698686, ..., -0.03746467,\n",
      "         -0.0238514 , -0.02133541],\n",
      "        [ 0.05335102, -0.0152986 ,  0.03348236, ..., -0.038968  ,\n",
      "          0.04105633, -0.00970849]],\n",
      "\n",
      "       ...,\n",
      "\n",
      "       [[ 0.03804528,  0.06642821,  0.11847539, ..., -0.03636155,\n",
      "          0.03786682,  0.05082804],\n",
      "        [ 0.02177921,  0.05792351,  0.05726212, ...,  0.06930555,\n",
      "         -0.03648758,  0.05843098],\n",
      "        [-0.00691539,  0.06427817,  0.08109345, ...,  0.03584429,\n",
      "         -0.03104701, -0.08398382]],\n",
      "\n",
      "       [[ 0.03959134,  0.16382895,  0.13988118, ..., -0.09102764,\n",
      "          0.08859888,  0.10574668],\n",
      "        [-0.01471572,  0.0367215 ,  0.02737254, ...,  0.09465505,\n",
      "         -0.0316912 ,  0.06212471],\n",
      "        [-0.12917142, -0.03968724, -0.0351562 , ...,  0.12661128,\n",
      "         -0.14423557,  0.06718216]],\n",
      "\n",
      "       [[ 0.03026153, -0.06262878, -0.03176546, ...,  0.04086192,\n",
      "         -0.0145602 ,  0.00882256],\n",
      "        [ 0.14934568,  0.20607427,  0.18910511, ...,  0.23297036,\n",
      "         -0.12992528,  0.21616605],\n",
      "        [ 0.11456351, -0.00680146,  0.00188245, ..., -0.10273257,\n",
      "          0.11482657, -0.02451012]]], dtype=float32)>\n",
      "<tf.Variable 'space_segmentation_transformer/encoder/encoder_sublayer_1/multi_head_attention_1/key/bias:0' shape=(3, 512) dtype=float32, numpy=\n",
      "array([[ 0.05747893,  0.05044385,  0.15725616, ..., -0.01946018,\n",
      "         0.06229895,  0.08033128],\n",
      "       [-0.02104186, -0.01601045, -0.01454437, ..., -0.0231666 ,\n",
      "        -0.0086978 , -0.00271959],\n",
      "       [ 0.12593225, -0.03907644, -0.03884047, ..., -0.15793078,\n",
      "         0.15577835,  0.01862953]], dtype=float32)>\n",
      "<tf.Variable 'space_segmentation_transformer/encoder/encoder_sublayer_1/multi_head_attention_1/value/kernel:0' shape=(512, 3, 512) dtype=float32, numpy=\n",
      "array([[[ 0.03445624, -0.05884822, -0.05954959, ...,  0.01224417,\n",
      "         -0.04471625,  0.05592618],\n",
      "        [-0.00931756, -0.00890234,  0.00725628, ...,  0.02989426,\n",
      "          0.00924836,  0.02446887],\n",
      "        [-0.00662054,  0.00333865, -0.00991941, ..., -0.03167297,\n",
      "          0.01233335,  0.0368889 ]],\n",
      "\n",
      "       [[-0.00226735, -0.00514755,  0.00168463, ..., -0.00296345,\n",
      "         -0.00403652,  0.0085088 ],\n",
      "        [ 0.00635953,  0.0228182 , -0.03105235, ..., -0.00037946,\n",
      "          0.02229251, -0.01964151],\n",
      "        [ 0.01576331,  0.01402989,  0.02541652, ...,  0.00245169,\n",
      "         -0.02494519, -0.01493592]],\n",
      "\n",
      "       [[ 0.00976473, -0.02508031, -0.02478403, ..., -0.00148984,\n",
      "         -0.0206999 ,  0.01504302],\n",
      "        [-0.02045695, -0.02587215,  0.02240968, ..., -0.01130619,\n",
      "         -0.01741625,  0.02642807],\n",
      "        [ 0.01285111,  0.00538189,  0.03996804, ..., -0.05667858,\n",
      "         -0.02526767, -0.00756742]],\n",
      "\n",
      "       ...,\n",
      "\n",
      "       [[-0.00389666,  0.00863516,  0.00789956, ...,  0.00298572,\n",
      "          0.00018226, -0.00940872],\n",
      "        [ 0.0363863 ,  0.03032416, -0.03183365, ...,  0.0119714 ,\n",
      "          0.02966894, -0.02392738],\n",
      "        [-0.00701266,  0.00816226, -0.01978051, ...,  0.03696276,\n",
      "          0.00667852,  0.00466656]],\n",
      "\n",
      "       [[-0.01124228,  0.00691435,  0.00513063, ..., -0.00520434,\n",
      "         -0.00303135,  0.00360446],\n",
      "        [ 0.03299686,  0.02955266, -0.02953381, ...,  0.00727562,\n",
      "          0.02746478, -0.04423193],\n",
      "        [ 0.0275184 ,  0.01527671,  0.04032419, ..., -0.04953302,\n",
      "         -0.02913992, -0.00853974]],\n",
      "\n",
      "       [[ 0.00108212, -0.01921826, -0.00810771, ...,  0.0116449 ,\n",
      "         -0.0089753 ,  0.01303202],\n",
      "        [ 0.01088195,  0.01938117, -0.015682  , ...,  0.00453281,\n",
      "          0.01766503,  0.00531772],\n",
      "        [ 0.04622468,  0.01644225,  0.03952314, ..., -0.04504825,\n",
      "         -0.0270073 , -0.01851575]]], dtype=float32)>\n",
      "<tf.Variable 'space_segmentation_transformer/encoder/encoder_sublayer_1/multi_head_attention_1/value/bias:0' shape=(3, 512) dtype=float32, numpy=\n",
      "array([[ 0.00861497, -0.02711313, -0.01323261, ...,  0.01062898,\n",
      "        -0.01750447,  0.0225457 ],\n",
      "       [-0.04525166, -0.02975423,  0.0317187 , ..., -0.01620003,\n",
      "        -0.02422861,  0.02931789],\n",
      "       [ 0.02953111,  0.01092972,  0.03359044, ..., -0.05593986,\n",
      "        -0.02599709, -0.00572053]], dtype=float32)>\n",
      "<tf.Variable 'space_segmentation_transformer/encoder/encoder_sublayer_1/multi_head_attention_1/attention_output/kernel:0' shape=(3, 512, 512) dtype=float32, numpy=\n",
      "array([[[-4.46504802e-02,  4.70616762e-03, -7.07803946e-03, ...,\n",
      "         -2.55069751e-02,  9.54070652e-04, -1.84419379e-02],\n",
      "        [-3.40551697e-02, -1.24507891e-02, -5.20375790e-03, ...,\n",
      "          4.33507562e-02, -6.36124760e-02,  5.27885444e-02],\n",
      "        [-8.35392275e-04,  2.36691516e-02, -1.47231277e-02, ...,\n",
      "          4.55515571e-02, -9.55063105e-03,  7.20990896e-02],\n",
      "        ...,\n",
      "        [ 1.45799182e-02, -4.80228243e-03,  2.39863209e-02, ...,\n",
      "          3.70428376e-02,  1.72816608e-02, -4.42393571e-02],\n",
      "        [ 1.00994632e-02,  2.05435045e-03, -3.03205550e-02, ...,\n",
      "         -2.92945653e-02, -2.18635406e-02,  7.09431758e-03],\n",
      "        [ 5.63306063e-02, -2.96475030e-02, -1.09361233e-02, ...,\n",
      "          9.66748875e-03, -6.24673963e-02, -6.31332770e-03]],\n",
      "\n",
      "       [[ 7.58761773e-03, -1.93042848e-02, -3.24119925e-02, ...,\n",
      "         -9.70772281e-03, -5.14389463e-02,  4.91667837e-02],\n",
      "        [-3.43019404e-02,  1.44157019e-02,  3.38407047e-02, ...,\n",
      "          3.66220367e-03, -4.38048951e-02,  4.21166196e-02],\n",
      "        [-9.21448134e-03,  1.40411025e-02,  5.24995923e-02, ...,\n",
      "         -7.69969001e-02, -2.91882572e-03,  2.32024472e-02],\n",
      "        ...,\n",
      "        [ 4.57221568e-02,  9.65662207e-03, -2.30009556e-02, ...,\n",
      "          7.80018643e-02,  3.88462259e-03,  5.35062328e-02],\n",
      "        [ 2.43035238e-02,  1.01979298e-04, -4.86346111e-02, ...,\n",
      "          7.73771107e-02, -5.03061078e-02,  2.41324082e-02],\n",
      "        [-1.50243491e-02, -1.84350293e-02,  3.70136648e-02, ...,\n",
      "          1.27067473e-02,  3.04256398e-02,  2.37655696e-02]],\n",
      "\n",
      "       [[-3.29184942e-02,  8.56111497e-02,  6.98181689e-02, ...,\n",
      "         -4.99338992e-02,  6.77781925e-02, -4.07534130e-02],\n",
      "        [ 3.08195390e-02, -5.71048521e-02, -1.20584182e-02, ...,\n",
      "         -1.61281209e-02,  2.23771799e-02,  1.06652156e-02],\n",
      "        [-5.52667724e-03,  1.65650398e-02, -3.41466963e-02, ...,\n",
      "          1.45129999e-02, -1.41767049e-02, -4.68322486e-02],\n",
      "        ...,\n",
      "        [-2.36254968e-02, -1.23018377e-01, -8.33960436e-03, ...,\n",
      "          1.23623153e-02, -9.24569145e-02, -8.86646211e-02],\n",
      "        [ 8.34736750e-02, -2.40765940e-02, -2.12616939e-02, ...,\n",
      "          2.59538572e-02,  1.45859448e-02, -1.23118618e-04],\n",
      "        [ 2.38676462e-02,  2.98782382e-02, -9.27864667e-03, ...,\n",
      "         -3.72032449e-02,  2.83116028e-02,  1.55441184e-02]]],\n",
      "      dtype=float32)>\n",
      "<tf.Variable 'space_segmentation_transformer/encoder/encoder_sublayer_1/multi_head_attention_1/attention_output/bias:0' shape=(512,) dtype=float32, numpy=\n",
      "array([ 9.18472128e-04,  2.05434673e-02,  8.85957293e-03, -1.60197914e-02,\n",
      "        5.48492419e-03,  1.46344153e-03, -1.66996699e-02, -1.62936859e-02,\n",
      "       -6.15470763e-03, -2.04950571e-02, -6.26545399e-03,  3.71852960e-03,\n",
      "       -1.09030996e-02, -2.26365682e-03,  2.77236477e-02, -7.76637159e-03,\n",
      "        3.24051152e-03, -1.74865816e-02, -6.11578347e-03, -7.00318813e-03,\n",
      "       -1.03805941e-02, -1.78203303e-02, -2.65501160e-02, -5.89826331e-03,\n",
      "        7.93637149e-03,  1.69492327e-02, -1.17481053e-02,  4.45353473e-03,\n",
      "       -6.65299501e-03, -3.74499932e-02, -4.10410389e-03,  2.46037287e-03,\n",
      "        9.19239223e-03,  9.90139507e-03, -7.33321067e-03,  6.70839427e-03,\n",
      "       -1.75829679e-02, -7.49853381e-04, -5.76398382e-03, -2.90676095e-02,\n",
      "        9.62540507e-03, -1.14966761e-02,  8.33530817e-03, -3.73754511e-03,\n",
      "        4.86150896e-03, -1.15819788e-02, -2.06453889e-03, -1.21089350e-02,\n",
      "       -1.07942065e-02,  5.36978291e-03,  5.71253570e-03, -5.47883287e-03,\n",
      "       -1.17434021e-02, -5.79832634e-03, -4.07006266e-03,  2.46915664e-03,\n",
      "       -4.56602825e-03, -1.33787002e-03, -1.25395106e-02,  2.85810512e-03,\n",
      "       -2.01336034e-02,  8.81302170e-03, -4.58295783e-03,  5.76413888e-03,\n",
      "       -3.03788409e-02,  1.74178649e-02, -7.33160833e-03, -6.57892693e-03,\n",
      "       -4.27302951e-03,  1.04054017e-03,  2.52059777e-04,  9.32424050e-03,\n",
      "        1.42322453e-02,  2.88690627e-02,  3.42655298e-03, -1.00174574e-02,\n",
      "        4.96433116e-03,  6.21282263e-03,  3.21774110e-02,  1.73769891e-02,\n",
      "        2.01411527e-02,  7.14204460e-03,  1.74860228e-02,  6.23792270e-03,\n",
      "        1.99145060e-02,  2.03285832e-02,  9.49301664e-03,  1.58796310e-02,\n",
      "        6.27614185e-03, -8.88069160e-03,  1.05325282e-02, -3.14209331e-03,\n",
      "       -2.23873369e-02,  2.75200070e-03,  6.58854842e-03, -2.36227363e-03,\n",
      "        2.30211895e-02, -1.85214691e-02, -2.27094046e-03,  1.09958258e-02,\n",
      "        8.29698797e-03,  5.85449394e-03,  1.48385912e-02,  2.17071595e-03,\n",
      "        5.62507892e-03,  1.87671725e-02,  2.18846370e-02, -1.57578327e-02,\n",
      "        8.50906968e-03,  8.82944651e-03,  4.40032268e-03,  6.60701143e-03,\n",
      "        1.57256355e-03,  1.22578954e-02,  2.52268333e-02, -8.22838210e-03,\n",
      "        5.18990634e-03, -9.04870592e-03, -2.17581391e-02, -8.16232711e-03,\n",
      "       -3.45431664e-03,  3.22121684e-03,  3.21497396e-02,  1.39596611e-02,\n",
      "       -1.36479679e-02,  1.11383032e-02, -8.15219432e-03,  2.48877946e-02,\n",
      "       -2.92034051e-03,  1.26377335e-02, -9.58461221e-03,  6.63734390e-04,\n",
      "        8.19227134e-04, -6.08626567e-03,  1.19054141e-02,  1.15223350e-02,\n",
      "       -2.18886277e-03,  9.10171866e-03,  7.88659230e-03, -7.37189874e-03,\n",
      "        8.83416086e-03,  9.75184899e-04,  6.85745664e-03,  9.43446625e-03,\n",
      "       -8.72642454e-03, -1.69008010e-04,  4.97428700e-05,  6.40334887e-03,\n",
      "       -3.79445367e-02, -6.99460739e-03, -5.73841971e-05, -2.93188430e-02,\n",
      "       -9.12703294e-03, -2.12826300e-03, -1.41151855e-03, -2.46231891e-02,\n",
      "        1.27238575e-02,  8.48883356e-04,  1.16732325e-02, -5.75338723e-03,\n",
      "        9.44760628e-03, -5.51385060e-03,  4.26765298e-03, -9.61652305e-03,\n",
      "       -9.68005694e-03, -1.18768759e-04, -1.24330120e-02, -2.36617192e-03,\n",
      "        9.76115558e-03, -4.13476722e-03,  1.05886813e-02, -2.93237530e-02,\n",
      "       -2.21935119e-02,  3.70030990e-03,  7.21121766e-03, -8.23954120e-03,\n",
      "       -9.01313499e-03, -9.87348519e-03, -9.17852111e-03, -5.38552646e-03,\n",
      "       -1.60749052e-02, -5.17223664e-02,  1.65650304e-02, -2.18370999e-03,\n",
      "       -1.18980906e-03,  1.65982414e-02, -5.59628243e-03, -2.01982073e-02,\n",
      "        1.03051243e-02,  1.03483554e-02,  4.63685067e-03, -1.29996352e-02,\n",
      "       -1.85316838e-02, -2.02571470e-02, -9.97476978e-04, -2.49100775e-02,\n",
      "        1.01343682e-02,  4.67335712e-03,  4.76418203e-03, -1.37967160e-02,\n",
      "       -3.88256535e-02, -7.62770697e-03, -1.02132894e-02, -1.49736786e-02,\n",
      "       -8.01395625e-03,  1.30611041e-03,  3.28245014e-03, -1.82320923e-02,\n",
      "        2.53492896e-03, -5.02776029e-03,  5.04794589e-04, -2.83358316e-03,\n",
      "        1.49560869e-02,  9.12434608e-03, -3.62983579e-03, -3.92761827e-02,\n",
      "        1.10627264e-02, -4.93083708e-03,  8.77411477e-03, -3.22363637e-02,\n",
      "        4.45814012e-03, -8.04125564e-04, -6.89482316e-03,  1.58157703e-02,\n",
      "        2.30735708e-02, -3.32217589e-02, -2.52285297e-03, -1.70481279e-02,\n",
      "        7.04201916e-03,  7.77650112e-03, -2.61260360e-03, -3.71834985e-03,\n",
      "       -3.22354655e-03,  2.20998693e-02, -2.09104363e-02, -1.06947599e-02,\n",
      "       -3.71992565e-03, -1.66997407e-02, -1.63158700e-02, -5.00993244e-03,\n",
      "       -3.02161206e-03, -1.50408093e-02,  4.12520282e-02, -1.58818290e-02,\n",
      "       -4.40642908e-02,  1.78883132e-03, -7.58550549e-03,  2.22127046e-02,\n",
      "        2.36354712e-02,  2.11680774e-03, -3.88787575e-02, -2.81063491e-03,\n",
      "        7.85056315e-03,  4.36603278e-03,  9.09904920e-05, -2.52984501e-02,\n",
      "        1.88460364e-03,  3.45960702e-03, -2.14041304e-03,  1.11236265e-02,\n",
      "       -2.99702827e-02,  8.03119689e-03, -2.31371471e-03, -1.22337174e-02,\n",
      "        2.05478887e-03, -1.67990662e-02, -2.16055871e-03, -8.07771366e-03,\n",
      "       -1.48122879e-02, -2.75217253e-03, -7.23568257e-03,  1.10480944e-02,\n",
      "        1.09307822e-02,  1.36000691e-02,  6.35132007e-03, -2.69073267e-02,\n",
      "        1.55544709e-02,  5.16235037e-03, -7.30436901e-03, -5.87903755e-03,\n",
      "       -1.13989587e-03,  4.64008050e-03,  1.36344191e-02,  1.27561446e-02,\n",
      "        7.27467239e-03, -1.37449487e-03, -3.60973179e-03,  1.20622851e-02,\n",
      "       -8.19979236e-03,  6.69336133e-03,  4.37540439e-06,  5.19743934e-03,\n",
      "       -1.68127231e-02,  4.31593880e-03,  3.43406424e-02, -5.82071207e-03,\n",
      "       -8.96267220e-03,  4.81826207e-03, -6.37730956e-03, -2.64991587e-03,\n",
      "       -2.24276911e-03, -5.09320013e-02, -2.01171003e-02,  9.37733520e-03,\n",
      "        2.18184548e-03, -8.80927034e-03, -2.61862557e-02,  1.35978553e-02,\n",
      "        5.18120965e-03, -1.82475820e-02, -5.42195141e-03,  1.15597649e-02,\n",
      "       -1.18568586e-02, -3.29230120e-03, -7.82705192e-03,  4.67958022e-03,\n",
      "       -5.58965048e-03, -5.51669253e-03,  6.87909662e-04, -2.97606401e-02,\n",
      "        3.38830752e-03, -1.13602960e-02,  1.48797613e-02, -7.27869221e-04,\n",
      "       -2.88835503e-02, -8.38648621e-03,  6.60868594e-04,  7.51254483e-05,\n",
      "       -1.47752017e-02, -2.14857124e-02, -1.80442017e-02, -6.59875013e-03,\n",
      "       -1.03792816e-03, -3.72393290e-03, -6.66194654e-04, -1.47320442e-02,\n",
      "       -2.29262952e-02, -7.05405138e-03, -7.40094855e-03, -8.23220797e-03,\n",
      "       -1.82964820e-02,  7.33420998e-03,  5.03495103e-04, -6.78892620e-03,\n",
      "       -2.59053744e-02,  1.99129828e-03, -7.05633173e-03, -3.23027279e-03,\n",
      "       -8.26082658e-03,  7.55663682e-03,  6.05135690e-03, -3.94533537e-02,\n",
      "       -1.17610779e-03,  1.61249768e-02,  5.25893690e-03,  1.38790151e-02,\n",
      "        2.57910159e-03,  4.77587385e-03,  8.54098238e-03,  4.98467241e-04,\n",
      "       -1.75819383e-03, -1.17044465e-03,  2.28420482e-03,  8.59884266e-03,\n",
      "       -4.72812820e-03,  1.79680297e-03, -1.30712055e-02,  5.74443163e-03,\n",
      "        8.04312585e-04, -8.00033659e-03,  5.62773552e-03,  7.82016758e-03,\n",
      "        2.26988699e-02, -1.71528868e-02,  1.25473170e-02,  8.18509795e-03,\n",
      "        2.45219637e-02, -1.01603405e-03,  1.26182539e-02, -6.43878570e-03,\n",
      "        9.63481423e-03, -4.96135268e-04, -7.22777238e-03,  1.78874508e-02,\n",
      "        2.09025340e-03,  7.06038848e-02, -1.58851920e-03, -1.42843286e-02,\n",
      "       -1.77245936e-03,  1.40749756e-02,  5.88865671e-03,  7.44373864e-03,\n",
      "        5.40834200e-03,  4.89035621e-03, -6.21685991e-03,  8.36565811e-03,\n",
      "        2.74149347e-02,  2.07174290e-02,  4.19697305e-03,  8.57978035e-03,\n",
      "       -9.46033653e-03,  6.16540108e-03, -9.99001041e-03,  6.02259487e-03,\n",
      "        5.14465244e-03, -7.50319147e-03, -5.68327773e-03, -1.36606582e-02,\n",
      "       -4.87444195e-04,  2.17526555e-02, -1.09195504e-02, -1.90160074e-03,\n",
      "       -1.23250866e-02,  1.07512213e-02,  8.31197854e-03,  1.60642769e-02,\n",
      "        4.78339428e-03,  6.48019761e-02,  2.76861656e-02,  4.97391075e-03,\n",
      "       -7.13416794e-03,  6.45005330e-03, -7.48325186e-03,  1.80268520e-03,\n",
      "       -2.18445761e-03, -5.12495916e-03,  2.31805928e-02,  6.20732375e-04,\n",
      "        1.99021469e-03, -1.77490469e-02,  1.53047533e-03,  3.02690500e-03,\n",
      "       -2.28699967e-02,  1.22192288e-02,  1.81207862e-02, -3.05718672e-03,\n",
      "       -1.10042905e-02,  3.41387792e-03,  3.03066447e-02,  1.48969349e-02,\n",
      "        1.68932844e-02, -1.13330288e-02,  1.33324880e-03,  4.22271434e-03,\n",
      "        1.03687588e-02, -1.96187408e-03, -4.75365110e-03, -4.92532505e-03,\n",
      "        1.81662999e-02, -2.11456604e-03,  1.78547539e-02, -3.44928517e-03,\n",
      "        3.85032455e-03, -2.29349416e-02,  2.48068105e-02,  1.42093292e-02,\n",
      "       -5.68972528e-03, -1.67332240e-03, -1.18886447e-02,  1.04439398e-02,\n",
      "        8.91162921e-03,  8.23763479e-03,  1.16711818e-02,  1.99645781e-03,\n",
      "       -5.64300595e-03, -2.63422970e-02, -7.12459954e-03,  1.10190604e-02,\n",
      "        1.19286226e-02,  3.54157668e-03,  1.91062433e-03,  9.10303276e-03,\n",
      "        8.24228115e-03,  3.19098532e-02, -2.17656838e-03,  1.99881382e-03,\n",
      "       -4.08436060e-02,  7.42893841e-04,  8.37928057e-03,  2.66776457e-02,\n",
      "        5.58590516e-03,  3.49693582e-03, -4.09426913e-03,  1.00414944e-03,\n",
      "       -1.74868107e-03,  5.39034717e-02, -8.26978870e-03,  3.54915042e-03,\n",
      "        2.88206362e-03,  1.82424963e-04, -1.28065217e-02,  7.13361986e-03,\n",
      "        1.24899019e-02, -8.17876123e-03, -8.02046340e-03,  3.49091226e-03,\n",
      "        1.86269432e-02,  1.21211251e-02, -1.94750484e-02, -1.39000565e-02,\n",
      "        3.54866944e-02, -1.63604983e-03,  3.47456033e-03, -1.00196758e-03,\n",
      "        6.38087397e-04, -3.47847352e-03,  2.85599343e-02,  1.08726406e-02,\n",
      "        1.52615423e-04,  1.85397360e-02,  2.36982796e-02,  1.27572184e-02],\n",
      "      dtype=float32)>\n",
      "<tf.Variable 'dense_2/kernel:0' shape=(512, 1028) dtype=float32, numpy=\n",
      "array([[ 0.00209501,  0.0065109 , -0.03100659, ..., -0.06945792,\n",
      "        -0.01131142,  0.00903636],\n",
      "       [-0.07984365, -0.05011407, -0.00380399, ..., -0.0392728 ,\n",
      "         0.0169254 , -0.02555076],\n",
      "       [-0.04857227, -0.0416279 , -0.00523646, ..., -0.01339782,\n",
      "         0.03509458, -0.05229406],\n",
      "       ...,\n",
      "       [ 0.00607248,  0.03903052,  0.00194119, ..., -0.00931217,\n",
      "         0.01621043, -0.02078209],\n",
      "       [-0.08690837,  0.0488607 ,  0.03463998, ...,  0.05465519,\n",
      "         0.00642579, -0.02141258],\n",
      "       [-0.00299543, -0.00655893,  0.03562102, ..., -0.00635489,\n",
      "         0.00637712, -0.01593681]], dtype=float32)>\n",
      "<tf.Variable 'dense_2/bias:0' shape=(1028,) dtype=float32, numpy=\n",
      "array([-0.027479  ,  0.00429182, -0.03173798, ...,  0.00699767,\n",
      "       -0.01111798, -0.0016884 ], dtype=float32)>\n",
      "<tf.Variable 'dense_3/kernel:0' shape=(1028, 512) dtype=float32, numpy=\n",
      "array([[-0.02497295,  0.04661312,  0.02346453, ...,  0.02802056,\n",
      "         0.00752086, -0.00502513],\n",
      "       [ 0.00973125, -0.04442692, -0.02012402, ..., -0.03305015,\n",
      "         0.01561006,  0.03118591],\n",
      "       [ 0.0073325 ,  0.00118887, -0.05793972, ..., -0.01957621,\n",
      "        -0.02393863,  0.0232437 ],\n",
      "       ...,\n",
      "       [-0.00228874,  0.06368674,  0.00123915, ...,  0.02573556,\n",
      "        -0.06098912,  0.0446841 ],\n",
      "       [-0.04812192, -0.01794209,  0.05365284, ...,  0.07111038,\n",
      "        -0.05970175, -0.00688898],\n",
      "       [ 0.03308156, -0.03990987, -0.05110177, ..., -0.01474906,\n",
      "        -0.04058836,  0.00786495]], dtype=float32)>\n",
      "<tf.Variable 'dense_3/bias:0' shape=(512,) dtype=float32, numpy=\n",
      "array([ 3.69738135e-03, -2.25028052e-04,  4.95195668e-03, -1.28271934e-02,\n",
      "        4.55174828e-03,  2.08855863e-03, -4.41319222e-04,  7.65114964e-04,\n",
      "       -4.17246716e-03,  7.06494553e-04, -7.51766516e-03,  3.50875221e-03,\n",
      "       -3.37274047e-03, -4.64051729e-03, -2.85956380e-03, -1.17837414e-02,\n",
      "       -1.20222000e-02, -6.48870552e-03, -4.28315107e-04,  2.91557924e-04,\n",
      "        1.18886288e-02, -1.98809267e-03,  1.48137612e-03,  2.33901083e-03,\n",
      "        4.50525805e-03, -4.92766639e-03,  7.48945167e-03, -9.07516922e-04,\n",
      "       -2.70318636e-03,  4.18719370e-03, -2.50832178e-03,  6.10484602e-03,\n",
      "       -6.04554638e-03,  9.72968817e-04, -1.90753676e-02,  5.13283908e-03,\n",
      "       -4.92383027e-03, -6.99493452e-04, -2.44155503e-03, -9.39525664e-04,\n",
      "        1.71702809e-03, -1.17908921e-02, -3.51872807e-03,  3.14966100e-03,\n",
      "        2.74809962e-03, -6.85648387e-03, -1.42285228e-03, -1.77030335e-03,\n",
      "       -3.86233814e-03,  4.57219430e-04, -8.14945437e-03,  4.44597146e-03,\n",
      "        3.38746235e-04,  1.93307479e-03, -2.71046651e-03, -6.22130185e-02,\n",
      "        5.12576522e-03,  3.00055952e-04,  5.06488141e-03,  3.80555470e-03,\n",
      "       -2.61872225e-02, -5.03670797e-03,  1.58142601e-03, -1.23066502e-03,\n",
      "       -3.24175856e-03, -4.85778926e-03, -3.69548867e-03, -6.51881238e-03,\n",
      "       -2.80504581e-03,  6.14656426e-04,  3.57951247e-03, -5.19383838e-03,\n",
      "       -1.02380197e-02,  4.54110140e-03, -1.71739899e-03, -2.25945609e-03,\n",
      "       -3.10797989e-03,  1.89932366e-03,  1.10382040e-04, -5.92483813e-03,\n",
      "       -1.88167323e-03,  1.73451845e-03, -7.35625019e-03, -5.32612111e-03,\n",
      "        1.62271061e-03, -1.31299514e-02, -1.97292329e-03, -2.46641748e-02,\n",
      "        4.48425708e-05, -4.80186706e-03, -2.00517080e-03,  5.56093920e-03,\n",
      "        1.40930724e-03, -4.30615246e-03,  2.57212925e-03,  3.09297722e-03,\n",
      "        3.86296539e-04,  5.22823073e-04,  6.14943635e-03, -3.16126388e-03,\n",
      "        2.30949419e-03,  3.90305719e-03,  3.58247617e-03,  3.93224228e-03,\n",
      "        9.74736176e-04, -2.07403704e-04,  1.54284737e-03, -3.28932726e-03,\n",
      "        2.48361914e-03,  3.91836185e-03,  2.61059729e-03, -6.38286583e-04,\n",
      "       -1.56690702e-02,  6.13483740e-03, -2.11237813e-03, -3.10460664e-03,\n",
      "        4.23709489e-03, -4.44547459e-03, -3.06597864e-03, -3.45465285e-03,\n",
      "       -3.05702141e-03,  6.89010415e-03, -5.63458633e-03, -1.64152170e-03,\n",
      "        8.62862822e-03,  2.03114911e-03, -3.63399368e-03, -2.36718613e-03,\n",
      "       -7.57310074e-03,  2.03712145e-03, -4.76729823e-04,  1.93866109e-03,\n",
      "       -2.78173271e-03,  1.84120308e-03,  6.45002874e-05,  1.18675977e-02,\n",
      "        1.22838747e-03,  2.12410558e-03, -2.24366807e-03, -9.28975362e-03,\n",
      "       -1.99515745e-03,  2.09269719e-03, -2.78229057e-03,  4.87678248e-04,\n",
      "        2.47908290e-03, -2.24833675e-02,  6.24155742e-04,  1.72329217e-03,\n",
      "       -4.40122932e-03,  7.16735027e-04,  7.08309980e-03, -2.36177561e-03,\n",
      "        1.56897865e-03, -5.27623110e-03, -1.23371324e-03,  3.29075730e-03,\n",
      "        3.17787006e-03, -1.08781685e-04, -9.75629489e-04, -1.83425366e-03,\n",
      "       -7.13414396e-04, -5.80323860e-03,  3.66245513e-03,  1.71252305e-03,\n",
      "       -4.18002624e-03,  5.33208624e-03, -3.34903318e-03, -4.05900646e-03,\n",
      "        5.47746709e-03, -4.13361588e-04,  1.80577103e-03, -6.66875998e-03,\n",
      "       -1.54512294e-03,  2.84931599e-03,  5.82522247e-03, -1.08001996e-02,\n",
      "        1.23954006e-03,  2.15223385e-03, -4.90260171e-03, -2.61536334e-03,\n",
      "       -1.53398775e-02, -2.81512052e-01,  7.47744786e-03, -5.49435033e-04,\n",
      "        3.60880606e-03,  5.11373952e-03,  6.37461373e-04, -2.15033931e-03,\n",
      "        3.35389446e-03,  1.43148405e-02,  2.60843220e-03, -7.05714850e-03,\n",
      "        3.29784490e-03, -6.57626987e-03,  5.91546204e-03,  7.17816147e-06,\n",
      "        2.62063998e-03,  2.46485556e-03,  2.10019518e-02, -5.73904440e-03,\n",
      "        2.36071390e-03, -4.03132848e-03, -6.10003853e-03, -3.16810678e-03,\n",
      "       -2.57394696e-03, -5.62255736e-04, -2.94653722e-03, -1.99682549e-01,\n",
      "       -1.63487636e-03, -9.97428875e-03, -1.91685359e-03, -5.34548191e-03,\n",
      "        2.15045363e-03, -1.22761820e-03,  1.34085456e-03,  3.32152657e-03,\n",
      "        3.41082050e-04, -3.75765795e-03, -6.24263845e-03, -5.49190585e-03,\n",
      "       -4.24239179e-03, -9.46004002e-04,  2.75249779e-03,  2.40776571e-05,\n",
      "        3.56192514e-03, -7.22481590e-03, -9.29574540e-04, -3.84365907e-03,\n",
      "        2.47828383e-03, -1.47768587e-03, -1.44874360e-02,  7.83125963e-03,\n",
      "       -3.13106645e-03, -7.43023644e-04, -1.85218407e-03,  1.94294937e-02,\n",
      "        2.97384220e-03, -4.39353380e-03, -8.44452297e-04,  3.22194584e-03,\n",
      "        1.14440569e-03,  3.15201073e-03, -1.57583272e-03,  2.88542034e-03,\n",
      "       -5.97388670e-03, -4.83544916e-03,  2.19623232e-03,  2.87772913e-04,\n",
      "       -2.01149955e-02, -5.87263796e-03, -2.09375913e-03,  2.35385913e-03,\n",
      "       -2.05180421e-03,  3.94454924e-04,  1.02797365e-02,  3.20206792e-03,\n",
      "        2.05019768e-03,  9.06421221e-04,  1.04518805e-03, -1.76068803e-03,\n",
      "       -8.92616063e-03, -8.49290285e-03, -2.67240172e-03, -5.68118133e-03,\n",
      "       -2.10664514e-03, -3.99925048e-03, -3.89336026e-03, -3.41366488e-03,\n",
      "       -1.13062495e-02,  3.14964075e-03, -2.98226514e-05, -2.95561948e-03,\n",
      "       -8.60073487e-04, -3.61981685e-03, -3.88529571e-03, -3.05391243e-03,\n",
      "        2.60327361e-03,  5.75517915e-05, -1.52275162e-02, -1.20201744e-02,\n",
      "        5.55169862e-03,  2.67527928e-03,  1.41627179e-03,  2.31570448e-04,\n",
      "       -2.78201140e-03,  1.89703691e-03, -7.87689583e-04, -3.23199522e-04,\n",
      "       -3.46212555e-03,  2.69997097e-03,  5.51372860e-03,  7.11748889e-03,\n",
      "        2.98683392e-03,  1.94413716e-03,  2.54539540e-03, -1.64097443e-03,\n",
      "       -4.39921394e-03,  7.71695329e-03, -1.66901725e-03, -2.04623735e-04,\n",
      "        4.74466197e-03,  3.78093822e-03, -4.52354504e-03,  2.31348500e-02,\n",
      "        9.30259190e-03, -5.69225149e-03, -1.60434120e-03,  1.65725872e-03,\n",
      "        6.57529803e-03,  1.30854570e-03,  2.02896819e-03,  1.15116138e-03,\n",
      "       -7.96624285e-04, -1.69101101e-03, -2.66681844e-03, -3.53821404e-02,\n",
      "       -1.30575395e-03, -3.33372015e-03,  1.97980320e-03,  4.88272263e-03,\n",
      "       -2.25223426e-04,  2.65220995e-03, -1.82532810e-03,  1.83082407e-03,\n",
      "       -2.22124578e-03,  1.55439135e-03,  6.07643835e-03, -2.17514625e-03,\n",
      "       -1.22400010e-02, -6.43483421e-04,  7.12180790e-03,  3.86515912e-03,\n",
      "       -1.34605204e-03,  8.61261273e-04,  3.01022409e-03,  4.57570422e-07,\n",
      "       -6.71334378e-03, -3.32091789e-04, -2.04894482e-03, -1.96552500e-02,\n",
      "        5.31915575e-03,  2.93419638e-04,  3.14334617e-03,  2.03896081e-03,\n",
      "       -4.52554348e-04, -2.76206783e-03,  4.49613389e-03, -1.71800388e-03,\n",
      "       -1.19625358e-03,  1.83740852e-03,  2.47736205e-03, -3.74187971e-03,\n",
      "        1.21014728e-03, -2.11809832e-03,  2.46612425e-03, -6.96401857e-03,\n",
      "        7.50388065e-03,  1.50151993e-03,  8.67891964e-03, -3.05980840e-03,\n",
      "        1.44727528e-03, -6.91073365e-05,  2.76274676e-03, -4.04378260e-03,\n",
      "        2.50455900e-03,  2.67357565e-04, -5.86202415e-03, -6.33506570e-03,\n",
      "       -2.53123348e-03, -3.05394782e-03, -2.24696053e-03,  3.86208470e-04,\n",
      "        5.25751570e-03,  1.96179631e-03,  5.58490446e-03, -2.97153514e-04,\n",
      "       -5.67364623e-04, -1.44085707e-02, -6.99963374e-03, -4.26618895e-03,\n",
      "       -1.04007525e-02, -3.31552932e-03, -6.43326156e-03,  2.43587117e-03,\n",
      "       -1.27938925e-03,  1.30862519e-01,  3.06030823e-04, -1.48192421e-02,\n",
      "        3.66142229e-03,  1.64257234e-03,  3.39481584e-03,  8.76426883e-03,\n",
      "        1.98136643e-03,  1.97380083e-04,  1.52692059e-03, -4.60403319e-03,\n",
      "       -3.59539199e-03,  2.02024385e-01, -6.43682526e-03,  5.83640020e-03,\n",
      "        3.45139881e-03,  2.87988409e-03, -1.27566967e-03, -1.15411927e-03,\n",
      "       -2.06213654e-03,  1.89136493e-03,  1.23652082e-03,  5.88621618e-03,\n",
      "       -4.28486057e-03,  6.15814934e-05, -1.66578311e-03, -6.94652181e-03,\n",
      "       -2.08857644e-04,  6.09965995e-03,  3.94878536e-03,  4.29115258e-03,\n",
      "       -2.16372567e-03,  3.06015462e-01,  5.19223837e-03, -2.12998479e-03,\n",
      "       -9.32462979e-04,  2.82396656e-03,  1.80111616e-03,  4.74615674e-03,\n",
      "       -1.24620437e-03, -1.29830698e-03,  3.08283023e-04, -2.47591961e-04,\n",
      "        4.02779877e-03,  3.01410304e-03,  1.94923184e-03, -2.88045453e-03,\n",
      "        1.11211650e-03, -5.29470271e-05,  3.86611163e-03, -1.11060543e-03,\n",
      "        3.95910954e-03, -7.84981251e-03,  2.01621696e-01, -1.93508493e-03,\n",
      "        4.26061191e-02,  1.44496351e-03, -2.38827756e-03,  4.75919666e-03,\n",
      "        3.24729481e-03,  4.86487057e-03, -1.79170743e-02, -6.57249149e-03,\n",
      "       -4.83292667e-03, -5.05391881e-03, -2.30545970e-03, -1.56084960e-02,\n",
      "       -1.40889559e-03, -1.16365158e-03, -6.79101911e-04, -4.68447572e-03,\n",
      "        6.63203700e-03, -8.18595407e-04, -1.80806220e-03, -4.01567668e-03,\n",
      "       -6.72329450e-03,  6.36086473e-03,  1.78102008e-03,  4.00969945e-03,\n",
      "       -4.80879704e-03, -5.91390347e-03,  9.81816847e-05,  9.03669372e-03,\n",
      "        2.50958442e-03, -5.78083331e-04,  4.80245147e-03, -2.16590776e-03,\n",
      "        3.39934975e-03,  5.94886485e-03, -4.42705816e-03, -1.47747621e-03,\n",
      "       -7.74181820e-03, -6.48785662e-03,  1.09428093e-02,  2.52345894e-02,\n",
      "        9.03519988e-03, -2.92331749e-03,  9.68763372e-04,  5.15772682e-03,\n",
      "       -9.91382403e-04, -2.65054731e-03,  2.44913244e-05,  4.40813135e-03,\n",
      "        2.85867788e-03,  2.21850188e-03, -1.27023761e-03, -2.26202328e-03,\n",
      "       -4.17181756e-03, -1.74538745e-03, -6.34714088e-04, -1.45450910e-03,\n",
      "        2.74811357e-01,  1.35665620e-02, -6.92462083e-03,  3.14629258e-04,\n",
      "        7.05920206e-03, -3.66763468e-03,  2.04658322e-02,  1.60321128e-03,\n",
      "        4.06089798e-03, -5.46271168e-03,  1.83010370e-01,  5.60980570e-03,\n",
      "        1.94475031e-03, -1.39703811e-03,  1.43128273e-03,  1.28314318e-03],\n",
      "      dtype=float32)>\n",
      "<tf.Variable 'space_segmentation_transformer/encoder/encoder_sublayer_1/layer_normalization_2/gamma:0' shape=(512,) dtype=float32, numpy=\n",
      "array([0.8956407 , 0.9859869 , 0.9627323 , 1.0330105 , 0.93687177,\n",
      "       0.99570686, 0.90989345, 1.0128374 , 1.0060158 , 1.0622332 ,\n",
      "       0.9652293 , 0.9038149 , 0.90036446, 0.88056344, 1.0327752 ,\n",
      "       0.97350043, 0.9405243 , 1.0369923 , 0.9954858 , 1.0217236 ,\n",
      "       1.007559  , 1.0137135 , 1.0217031 , 0.98907834, 0.9298168 ,\n",
      "       1.076905  , 0.97267336, 0.8649368 , 0.9615325 , 0.9610197 ,\n",
      "       0.94875324, 0.91798365, 1.011637  , 0.97898966, 0.9924467 ,\n",
      "       1.039222  , 0.8443433 , 1.0339216 , 0.86526227, 0.8750248 ,\n",
      "       0.92920727, 1.0143814 , 0.9788786 , 0.9677116 , 0.9523683 ,\n",
      "       0.9956893 , 0.9533147 , 0.9999502 , 0.934728  , 1.0224203 ,\n",
      "       0.9845533 , 0.9977106 , 1.1033356 , 0.9994915 , 1.0050888 ,\n",
      "       0.93359137, 0.99739724, 0.9613595 , 0.9532005 , 0.93391895,\n",
      "       1.0149918 , 1.0163518 , 0.96296227, 1.0360781 , 0.9407537 ,\n",
      "       1.0108387 , 0.91888463, 0.97507167, 0.9922301 , 0.9999565 ,\n",
      "       0.9877611 , 1.002343  , 1.1394395 , 1.0032182 , 1.044379  ,\n",
      "       0.949388  , 0.93463784, 0.9389792 , 0.84028625, 1.0797887 ,\n",
      "       1.1345884 , 0.89663637, 1.0152813 , 0.9925343 , 1.0690037 ,\n",
      "       1.1384783 , 1.0033697 , 1.0902488 , 1.0276759 , 0.8900512 ,\n",
      "       0.84292805, 0.98046064, 0.95689493, 0.8092854 , 0.9280268 ,\n",
      "       1.0261328 , 1.129377  , 0.93387675, 0.98911154, 1.0326319 ,\n",
      "       0.96006584, 1.0092716 , 0.94627076, 0.98665047, 0.9920597 ,\n",
      "       1.0395482 , 1.0091721 , 0.9519565 , 0.88245195, 1.0513602 ,\n",
      "       0.9629979 , 1.0394949 , 0.88509655, 0.9521397 , 0.98888046,\n",
      "       0.99809796, 0.9925151 , 1.0414226 , 1.0100359 , 1.0121628 ,\n",
      "       0.899083  , 1.0146934 , 1.1649626 , 1.0031731 , 1.016294  ,\n",
      "       0.9595011 , 0.9550416 , 1.0213543 , 1.0001837 , 0.87134796,\n",
      "       1.0015187 , 0.89306974, 0.92632025, 0.92951363, 0.89999014,\n",
      "       1.0413729 , 0.9275517 , 0.948665  , 1.0356107 , 1.0932758 ,\n",
      "       1.0329945 , 0.9429961 , 0.97514516, 0.867307  , 1.0164756 ,\n",
      "       0.93397   , 1.0253049 , 0.97015786, 0.99794674, 1.0149739 ,\n",
      "       1.0273551 , 0.8965861 , 1.091068  , 1.0141644 , 0.9901953 ,\n",
      "       1.0378083 , 0.9847327 , 0.9916776 , 1.0076292 , 0.94178855,\n",
      "       1.0372332 , 0.97191554, 1.0140785 , 0.9503603 , 0.93935996,\n",
      "       0.9753617 , 0.90524536, 0.9910199 , 0.9947714 , 0.9627854 ,\n",
      "       0.9689657 , 1.0647573 , 0.87991714, 0.8846006 , 0.9466878 ,\n",
      "       0.95302725, 0.9874611 , 0.9948782 , 0.9444121 , 0.99224836,\n",
      "       1.0322683 , 1.0591929 , 0.90884954, 1.0011148 , 0.96188635,\n",
      "       0.9332682 , 0.9936896 , 1.0258014 , 0.9466789 , 1.0123879 ,\n",
      "       1.0272969 , 0.97014016, 1.0326298 , 0.92315644, 0.96244353,\n",
      "       1.0292768 , 0.8948104 , 1.0367883 , 0.96700495, 0.9698782 ,\n",
      "       0.99494326, 1.0042087 , 0.8702729 , 1.0044253 , 0.9822009 ,\n",
      "       0.94620794, 1.0492431 , 0.98990715, 0.9809401 , 0.9622362 ,\n",
      "       1.0328375 , 0.95123374, 1.0062847 , 1.0278959 , 1.0117613 ,\n",
      "       0.94931996, 0.99675417, 0.9989616 , 0.9094046 , 0.97620106,\n",
      "       0.9620248 , 1.0439072 , 0.9741546 , 0.9801832 , 1.0357527 ,\n",
      "       1.0769291 , 1.0021993 , 1.0200458 , 0.9148219 , 1.0503244 ,\n",
      "       1.0316676 , 0.9485731 , 1.0774344 , 1.0428725 , 0.9830238 ,\n",
      "       1.0325067 , 1.0054218 , 1.0208    , 0.97024995, 0.98442155,\n",
      "       0.9795382 , 0.8457003 , 0.95977354, 1.0727108 , 1.0005515 ,\n",
      "       1.026013  , 1.0131708 , 0.9811345 , 0.9928661 , 0.8922982 ,\n",
      "       0.9414217 , 1.0072465 , 1.063264  , 0.9657343 , 0.97926056,\n",
      "       1.0057507 , 0.8749776 , 1.000298  , 1.0449557 , 0.92903435,\n",
      "       1.0032877 , 0.9248594 , 0.9451724 , 0.89692026, 0.9444225 ,\n",
      "       0.9795045 , 0.9889094 , 0.97689676, 0.9822051 , 0.93820816,\n",
      "       1.051777  , 1.0334659 , 0.99524564, 1.01213   , 0.9697715 ,\n",
      "       1.0525295 , 1.0309808 , 0.99341637, 0.9538328 , 1.0119992 ,\n",
      "       0.98481166, 1.0017374 , 1.024574  , 1.0037578 , 0.962961  ,\n",
      "       0.8983177 , 0.9698304 , 0.97531134, 0.9624852 , 0.9380045 ,\n",
      "       0.9140485 , 0.9694756 , 0.98204386, 0.9678896 , 0.9472013 ,\n",
      "       0.93055606, 1.045376  , 0.9859213 , 0.9471529 , 0.98400754,\n",
      "       1.0486364 , 0.96537364, 1.0608436 , 0.947137  , 1.0025731 ,\n",
      "       0.9835836 , 1.1049521 , 0.99103093, 0.8975666 , 0.85827523,\n",
      "       0.8406557 , 0.89465976, 0.99978846, 0.98500973, 0.9440326 ,\n",
      "       0.9456863 , 1.0306706 , 0.8338086 , 0.9691885 , 1.0686144 ,\n",
      "       1.0543586 , 1.0253289 , 1.0014601 , 1.002407  , 1.0369458 ,\n",
      "       1.0135862 , 0.8841777 , 0.9328297 , 0.98313916, 1.059637  ,\n",
      "       1.1134195 , 0.9769465 , 0.9646649 , 1.0019583 , 0.9267119 ,\n",
      "       0.9233879 , 0.9535733 , 0.84124094, 1.0463699 , 0.8799185 ,\n",
      "       0.98842716, 0.9139169 , 1.0256826 , 1.0022725 , 1.0325328 ,\n",
      "       0.8521249 , 1.024389  , 0.979386  , 0.94938284, 0.9454228 ,\n",
      "       0.95370996, 1.0065852 , 0.99116284, 1.0063367 , 1.0261286 ,\n",
      "       1.0184002 , 1.0456909 , 0.9726079 , 0.9219318 , 1.0540603 ,\n",
      "       1.0188317 , 0.9006135 , 0.9551541 , 0.96567017, 0.9219799 ,\n",
      "       0.98495346, 1.0266957 , 0.85730606, 0.9802977 , 0.8408544 ,\n",
      "       0.9743144 , 0.9060585 , 1.0324191 , 1.0091143 , 0.99568325,\n",
      "       0.9392615 , 1.0218629 , 0.9174111 , 1.0357585 , 1.0092847 ,\n",
      "       0.9420351 , 0.9377275 , 0.9141418 , 0.88737553, 1.0164703 ,\n",
      "       1.1729203 , 0.9673435 , 0.96056926, 0.9569806 , 1.0128601 ,\n",
      "       0.95193994, 0.9969187 , 0.92569876, 0.9914832 , 1.0080094 ,\n",
      "       0.9452904 , 0.87839204, 1.0362116 , 0.99352944, 0.98249024,\n",
      "       0.94755995, 1.015605  , 0.95430535, 1.0027307 , 0.97163653,\n",
      "       1.027283  , 0.94882274, 0.94797885, 1.0106969 , 0.91184837,\n",
      "       0.9923507 , 0.80259836, 0.9568729 , 0.9825961 , 0.95186085,\n",
      "       0.94377714, 1.0336206 , 1.1348617 , 0.9076306 , 0.99525297,\n",
      "       0.95963955, 0.95155716, 0.95002294, 0.98198575, 0.9238714 ,\n",
      "       0.9536718 , 1.0057496 , 0.9971072 , 0.9713024 , 0.8976737 ,\n",
      "       0.8484039 , 1.0257735 , 1.0787674 , 0.9314125 , 0.9626757 ,\n",
      "       0.97622055, 1.0826559 , 1.0986537 , 1.0120074 , 1.055651  ,\n",
      "       1.0017734 , 0.8989467 , 0.9803113 , 0.98612314, 0.9023349 ,\n",
      "       0.9534754 , 0.9882518 , 0.94340456, 1.1064955 , 0.88442343,\n",
      "       0.96109635, 0.94638073, 0.9367645 , 0.94176275, 1.0816402 ,\n",
      "       0.9892737 , 0.97725785, 0.98105174, 0.96263134, 1.0378299 ,\n",
      "       1.0418205 , 1.0005971 , 0.98212796, 1.0420711 , 1.0237292 ,\n",
      "       0.84617436, 0.9668535 , 0.9853661 , 0.9629456 , 0.9687895 ,\n",
      "       0.978138  , 1.0305127 , 0.9775357 , 0.9993036 , 0.97906816,\n",
      "       1.0274321 , 0.9202178 , 0.9965326 , 0.9966924 , 0.973213  ,\n",
      "       1.0030736 , 1.0092368 , 0.9350419 , 0.9799309 , 0.997202  ,\n",
      "       1.0679786 , 0.959518  , 1.0171707 , 0.83759815, 0.9043923 ,\n",
      "       1.0357325 , 0.92031336, 0.9197621 , 0.9476785 , 0.95913565,\n",
      "       1.0382518 , 1.0760555 , 1.0031691 , 1.0098786 , 0.93501276,\n",
      "       0.9275509 , 0.9932365 , 1.0206157 , 1.0040023 , 0.98285687,\n",
      "       0.98194075, 1.1634847 , 0.9897685 , 0.9668618 , 0.9479679 ,\n",
      "       1.0240062 , 0.9700556 ], dtype=float32)>\n",
      "<tf.Variable 'space_segmentation_transformer/encoder/encoder_sublayer_1/layer_normalization_2/beta:0' shape=(512,) dtype=float32, numpy=\n",
      "array([-2.18656119e-02,  4.93987277e-02,  2.89681591e-02, -7.09917769e-02,\n",
      "        4.99315141e-03, -9.30594467e-03, -3.01357340e-02, -4.60378602e-02,\n",
      "       -3.28671038e-02, -1.66579243e-03, -1.02430452e-02,  1.20713934e-02,\n",
      "       -1.14676720e-02,  1.31524224e-02, -4.86231893e-02, -4.10982743e-02,\n",
      "        5.21533331e-03, -6.46112114e-02, -1.89387649e-02, -5.19533753e-02,\n",
      "        6.48769503e-03, -6.02192059e-02, -4.81304899e-02, -7.56265188e-04,\n",
      "       -4.92039360e-02,  1.11043192e-02, -2.03457680e-02, -1.25531415e-02,\n",
      "       -2.41280533e-02, -4.38169464e-02,  1.53015647e-02, -8.48269183e-03,\n",
      "        2.74193175e-02, -1.21685555e-02, -4.55474630e-02, -5.06271310e-02,\n",
      "        4.05473053e-04, -1.55616354e-03, -8.16512201e-03, -4.92391028e-02,\n",
      "        2.93637887e-02, -4.43241633e-02,  1.71424989e-02, -3.21731605e-02,\n",
      "       -5.25810290e-03, -4.33826670e-02,  1.30308503e-02, -5.94459027e-02,\n",
      "       -2.85709444e-02,  4.21553627e-02,  5.06214797e-02, -6.88411593e-02,\n",
      "        5.41721750e-03,  1.72687769e-02, -5.33651561e-02, -2.25529596e-02,\n",
      "       -1.99628603e-02,  1.60414111e-02, -3.38009186e-02,  2.08112467e-02,\n",
      "       -2.71827728e-02,  5.18271476e-02,  1.96679011e-02,  5.09355813e-02,\n",
      "       -4.32745740e-02,  5.44621795e-03, -1.59285106e-02, -3.73413600e-02,\n",
      "       -4.50211167e-02, -2.80318633e-02,  1.42608825e-02,  1.48450509e-02,\n",
      "       -8.37418903e-03,  3.07708047e-02, -2.71147341e-02, -2.66910493e-02,\n",
      "       -2.55820937e-02,  6.45356765e-03, -2.03187279e-02, -2.20491476e-02,\n",
      "       -1.04596941e-02,  2.92026140e-02,  7.00960401e-03,  3.62977316e-03,\n",
      "        9.29448288e-03, -2.48885751e-02, -5.48235420e-03, -4.88692150e-02,\n",
      "       -4.12220992e-02, -9.17828549e-03, -6.20495155e-03,  2.01873854e-02,\n",
      "       -4.64874767e-02, -1.37970382e-02,  1.18169282e-02,  6.56532310e-03,\n",
      "       -9.82054509e-03, -5.63548841e-02,  3.03196744e-03, -1.06512802e-02,\n",
      "        3.58924232e-02,  3.43053676e-02,  3.51532884e-02,  2.72289896e-03,\n",
      "       -1.39803747e-02,  1.90879740e-02,  6.06717449e-03, -1.23057971e-02,\n",
      "        1.35784838e-02,  6.24470003e-02,  2.35420763e-02,  1.34817017e-02,\n",
      "        3.49552138e-05,  3.03187277e-02, -3.53766568e-02, -3.88630070e-02,\n",
      "        7.02674408e-03, -1.65114962e-02, -6.70752162e-03, -5.75202294e-02,\n",
      "        2.50769954e-04,  2.91833244e-02,  2.14640629e-02,  2.92325821e-02,\n",
      "       -1.79033307e-03, -5.83981490e-03, -2.43881550e-02,  6.25027344e-02,\n",
      "       -4.46853489e-02, -2.51492299e-02, -3.95400226e-02, -1.02976346e-02,\n",
      "       -4.08684947e-02,  1.16011137e-02, -4.48722094e-02,  1.09949522e-02,\n",
      "        3.71413194e-02, -1.14463223e-02,  2.49437019e-02,  3.16195451e-02,\n",
      "       -7.40474975e-03,  1.76657904e-02,  5.70158213e-02, -1.81221068e-02,\n",
      "       -3.31054628e-02, -2.75518410e-02,  5.08685373e-02,  1.29880744e-03,\n",
      "       -7.54468292e-02, -3.07660270e-02,  3.89830396e-02, -4.95758876e-02,\n",
      "        2.71149483e-02, -2.09238883e-02, -2.90831383e-02, -2.32148282e-02,\n",
      "       -3.43598910e-02, -1.66383304e-03,  5.66689018e-03, -1.53507534e-02,\n",
      "       -2.92155403e-03, -2.30657626e-02,  4.40518744e-02,  5.69389376e-04,\n",
      "        6.80036098e-03,  2.02512108e-02, -1.92731433e-02, -6.72732573e-03,\n",
      "        4.37082946e-02, -2.32551377e-02,  5.34431674e-02,  7.52164144e-03,\n",
      "       -6.83979597e-03, -3.91283743e-02,  1.33737568e-02, -3.78841273e-02,\n",
      "        1.03287771e-02,  2.83663790e-03, -2.00370308e-02, -2.75074337e-02,\n",
      "       -7.54360482e-02, -1.38419032e-01,  2.66827568e-02,  2.23156973e-03,\n",
      "        2.18985486e-03,  6.66989619e-03,  8.90375767e-03, -8.57632011e-02,\n",
      "        3.44874896e-02,  6.15074858e-02, -3.96597795e-02, -5.76799847e-02,\n",
      "        2.37746350e-02,  9.24455095e-03,  2.34674774e-02, -5.95836947e-03,\n",
      "        6.19697012e-03,  4.37965430e-02,  4.72712666e-02, -4.09238450e-02,\n",
      "       -1.79411732e-02, -3.58332023e-02,  2.31430307e-03, -6.01512603e-02,\n",
      "       -4.02999297e-02, -4.30003181e-02, -1.48640685e-02, -1.16651893e-01,\n",
      "       -2.17729397e-02, -3.36448662e-02,  4.30478379e-02, -1.71145666e-02,\n",
      "        7.06099123e-02, -1.54289072e-02,  3.81467603e-02, -1.91558376e-02,\n",
      "       -2.58299597e-02, -5.83873242e-02, -1.04719503e-02, -7.89781660e-03,\n",
      "        2.27391627e-03,  2.51089279e-02, -2.34439522e-02,  4.86150570e-02,\n",
      "        2.59290822e-03,  4.42187442e-03, -1.86867658e-02, -4.98581566e-02,\n",
      "       -1.29421949e-02, -3.74125801e-02, -5.76203465e-02, -5.19595668e-02,\n",
      "       -4.88666408e-02,  2.10077632e-02, -5.24600483e-02, -4.88039367e-02,\n",
      "       -2.80294996e-02,  2.87315473e-02, -2.24056691e-02,  4.79974151e-02,\n",
      "       -2.99761109e-02,  1.39145018e-03, -1.02413828e-02, -1.68967936e-02,\n",
      "       -5.04628494e-02, -5.88809736e-02,  1.80366617e-02, -3.73536767e-03,\n",
      "        8.78746342e-03, -3.07555124e-02, -5.14750369e-02,  3.55290994e-02,\n",
      "        1.37673058e-02, -1.39398258e-02,  1.26572363e-02, -7.01426044e-02,\n",
      "       -1.42969482e-03,  7.83407688e-03, -2.59010270e-02,  1.13623831e-02,\n",
      "       -5.55956066e-02, -6.63520908e-03, -5.58683416e-03, -2.68686265e-02,\n",
      "       -2.53367610e-03, -5.07239513e-02,  8.33324809e-03, -3.28835174e-02,\n",
      "       -4.81545664e-02, -9.57383309e-03,  1.75883658e-02, -1.97195709e-02,\n",
      "       -1.20326085e-02, -2.38016788e-02, -4.27725585e-03, -1.11872278e-01,\n",
      "        4.16847691e-02, -1.56170328e-03, -3.33687626e-02, -4.11544070e-02,\n",
      "       -4.07506758e-03, -3.79299745e-02, -1.31603954e-02,  5.22473156e-02,\n",
      "       -1.62369646e-02, -2.78899614e-02,  1.30167818e-02,  4.09047827e-02,\n",
      "       -3.88655327e-02,  2.94132512e-02, -1.63008943e-02,  2.72413846e-02,\n",
      "       -2.63351742e-02,  6.66984357e-03,  2.76446566e-02, -1.43478736e-02,\n",
      "       -5.35509922e-02,  4.92733382e-02, -1.05024343e-02,  2.45511271e-02,\n",
      "       -4.63085528e-03, -4.81999479e-02, -2.40330491e-02, -6.68390281e-03,\n",
      "        3.54125798e-02, -4.40164059e-02, -9.87445470e-03, -2.18502036e-03,\n",
      "        1.06561286e-02, -3.41192447e-02,  6.90896856e-03,  2.33378354e-02,\n",
      "       -3.09233274e-02, -3.02944630e-02,  2.11394932e-02,  4.48052771e-03,\n",
      "       -4.59232628e-02, -1.86779108e-02, -1.08277367e-03, -6.17136359e-02,\n",
      "        2.78901774e-03, -2.10244246e-02,  5.14740199e-02,  5.68620227e-02,\n",
      "        8.50784127e-03,  9.17616300e-04,  1.03746764e-02,  1.96044352e-02,\n",
      "       -5.44518977e-02,  8.07330653e-04,  2.36880518e-02,  7.72354659e-03,\n",
      "        2.63029058e-03,  2.92373449e-03,  5.62356077e-02, -4.26138751e-02,\n",
      "       -2.55784467e-02, -3.79216857e-02, -5.10482080e-02,  1.12383757e-02,\n",
      "       -2.05850899e-02, -1.11484146e-02,  2.85781249e-02,  2.37160251e-02,\n",
      "        8.53286777e-03,  2.28035673e-02, -1.97318178e-02,  2.40814406e-03,\n",
      "       -2.01840661e-02,  2.12098155e-02, -4.51537129e-03, -6.23833835e-02,\n",
      "        2.30595283e-03,  5.30080590e-03, -5.21030314e-02,  4.76746894e-02,\n",
      "        5.84848411e-02,  1.61003545e-02, -2.32123933e-03, -2.53126249e-02,\n",
      "        3.29213329e-02,  2.93591935e-02,  2.04763822e-02,  3.74108925e-02,\n",
      "       -4.81464267e-02,  2.13838108e-02, -5.44919819e-02, -1.17226066e-02,\n",
      "       -1.56683736e-02, -1.18168416e-02,  7.02129025e-03,  1.01827886e-02,\n",
      "        2.58066151e-02, -1.43912574e-02,  5.20577952e-02,  4.95503470e-02,\n",
      "        2.20942572e-02, -2.56965193e-03, -2.79110242e-02, -4.32369485e-02,\n",
      "       -9.96230543e-03,  2.64069508e-03, -2.96016354e-02, -3.33785564e-02,\n",
      "       -4.01646160e-02,  1.76853806e-01, -5.54893957e-03, -5.08480817e-02,\n",
      "        3.35506983e-02,  3.23243067e-02,  4.56122644e-02,  5.61836623e-02,\n",
      "        1.31265400e-02,  2.64761131e-02, -2.06589401e-02,  1.67768411e-02,\n",
      "        1.90230329e-02,  1.16672702e-01,  9.17583890e-03,  3.75729762e-02,\n",
      "       -1.96827371e-02,  6.70863464e-02, -2.32619084e-02,  1.57841411e-03,\n",
      "        5.33990655e-03,  1.38942851e-02, -1.28499395e-03,  2.13843398e-02,\n",
      "       -4.66031320e-02, -1.10452678e-02, -2.08944548e-02, -1.91707090e-02,\n",
      "        2.40258314e-02,  3.88348959e-02,  3.59198526e-02,  4.07200903e-02,\n",
      "        8.99635372e-04,  1.76247343e-01, -2.76577938e-03, -2.74096383e-04,\n",
      "        6.83812425e-03,  1.50198983e-02,  2.17942288e-04,  2.44318955e-02,\n",
      "       -7.43308337e-03, -2.19599679e-02,  4.25705500e-02,  3.35235707e-02,\n",
      "        1.58502869e-02,  5.73773123e-03,  1.19624352e-02, -3.45522352e-02,\n",
      "       -2.01978758e-02,  3.35938670e-02, -1.86138153e-02, -2.37122197e-02,\n",
      "       -1.09258443e-02, -1.90452375e-02,  5.49230725e-02,  1.82113908e-02,\n",
      "        3.86518650e-02, -1.12505239e-02,  1.20022742e-06,  1.92210488e-02,\n",
      "       -4.25234204e-03, -3.39213666e-03, -4.71422598e-02,  7.92413391e-03,\n",
      "        1.91953667e-02, -2.37887502e-02, -1.56502537e-02, -2.21648440e-02,\n",
      "        3.05778673e-03, -1.75948311e-02,  2.73486357e-02, -5.79142570e-02,\n",
      "       -1.92169715e-02, -1.93955246e-02, -5.06064564e-04,  1.85629297e-02,\n",
      "       -3.91983315e-02,  4.69543785e-02,  5.30399196e-02,  2.93023512e-02,\n",
      "        1.97440293e-02,  2.09989678e-02, -1.18771093e-02,  4.01054025e-02,\n",
      "        1.00923823e-02,  7.36737624e-03,  2.36431807e-02,  5.04173785e-02,\n",
      "        4.33233045e-02,  6.36837706e-02, -2.07565799e-02,  3.91609445e-02,\n",
      "       -6.95151836e-02, -1.57388747e-02,  3.65686938e-02,  4.99940887e-02,\n",
      "        2.87095793e-02, -3.98463495e-02,  1.55063830e-02,  1.61284320e-02,\n",
      "        2.86368113e-02,  8.61117467e-02, -1.19915884e-02,  3.95629480e-02,\n",
      "        1.48798404e-02,  1.56379864e-02,  2.95877550e-02,  3.76720242e-02,\n",
      "        4.74565625e-02,  6.04335777e-03,  2.25200932e-02,  5.14587387e-02,\n",
      "        1.41259655e-01,  4.87333909e-02, -6.03864864e-02, -1.85478292e-03,\n",
      "        9.53899417e-03, -2.40908768e-02,  5.58881462e-02,  3.68869901e-02,\n",
      "        2.27840301e-02,  1.75119955e-02,  1.45694941e-01,  4.29792739e-02,\n",
      "        2.99578737e-02, -1.86115596e-02,  6.39775023e-02,  1.48156146e-02],\n",
      "      dtype=float32)>\n",
      "<tf.Variable 'space_segmentation_transformer/encoder/encoder_sublayer_1/layer_normalization_3/gamma:0' shape=(512,) dtype=float32, numpy=\n",
      "array([0.7312931 , 0.85320914, 0.92673486, 0.89130646, 0.88823915,\n",
      "       0.9012792 , 0.8155017 , 0.84647137, 0.83342195, 0.80177647,\n",
      "       0.9024732 , 0.84450054, 0.787075  , 0.8043559 , 0.7299562 ,\n",
      "       0.8050517 , 0.67133486, 0.89088583, 0.761688  , 0.89813143,\n",
      "       0.83667296, 0.8540768 , 0.81631917, 0.87642014, 0.7520911 ,\n",
      "       0.8775106 , 0.89209425, 0.8480641 , 0.8825705 , 0.78434086,\n",
      "       0.83838594, 0.7618077 , 0.90763545, 0.86912584, 0.92902344,\n",
      "       0.6733573 , 0.75207436, 0.87343055, 0.85845494, 0.74577105,\n",
      "       0.82981867, 0.9156609 , 0.84396285, 0.845102  , 0.884553  ,\n",
      "       0.9325414 , 0.8522884 , 0.9183316 , 0.8825697 , 0.8662565 ,\n",
      "       0.923828  , 0.7803782 , 0.7779576 , 0.82671535, 0.9025745 ,\n",
      "       0.8067833 , 0.8680254 , 0.84797966, 0.8580227 , 0.8340595 ,\n",
      "       0.78578407, 0.8861849 , 0.8181987 , 0.82140195, 0.76347774,\n",
      "       0.75384486, 0.768646  , 0.90736735, 0.8849452 , 0.872257  ,\n",
      "       0.8154509 , 0.8562143 , 0.9024927 , 0.86543256, 0.8785797 ,\n",
      "       0.79340434, 0.7944131 , 0.81139934, 0.7803835 , 0.9087642 ,\n",
      "       0.7191364 , 0.81819206, 0.8291976 , 0.86651707, 0.7917224 ,\n",
      "       0.8266275 , 0.852162  , 0.8474964 , 0.86490786, 0.87674946,\n",
      "       0.81704867, 0.8237979 , 0.8563333 , 0.69234914, 0.8114738 ,\n",
      "       0.8872187 , 0.7751752 , 0.73900753, 0.80766803, 0.83437246,\n",
      "       0.8265288 , 0.8755012 , 0.8835182 , 0.8802965 , 0.8838065 ,\n",
      "       0.8680405 , 0.7986246 , 0.7748838 , 0.8289898 , 0.92163855,\n",
      "       0.81296873, 0.8943738 , 0.88318396, 0.900068  , 0.8793854 ,\n",
      "       0.91058135, 0.84317154, 0.8712251 , 0.8380598 , 0.813624  ,\n",
      "       0.7659298 , 0.91982454, 0.8309745 , 0.8302161 , 0.82280165,\n",
      "       0.8191527 , 0.8160817 , 0.87744856, 0.82623744, 0.8130219 ,\n",
      "       0.8762853 , 0.82510877, 0.6399757 , 0.7364716 , 0.7504016 ,\n",
      "       0.8930911 , 0.74806535, 0.8113724 , 0.8927835 , 0.9019559 ,\n",
      "       0.8281664 , 0.8873104 , 0.8885905 , 0.79718983, 0.8816134 ,\n",
      "       0.84265   , 0.85539556, 0.8762559 , 0.7398078 , 0.87191606,\n",
      "       0.9052231 , 0.89357495, 0.82341135, 0.88664615, 0.8672883 ,\n",
      "       0.76085633, 0.73020816, 0.83923423, 0.8787446 , 0.83255595,\n",
      "       0.85009694, 0.810462  , 0.8895273 , 0.89306676, 0.86228514,\n",
      "       0.8991913 , 0.9001235 , 0.83987796, 0.8689716 , 0.86440945,\n",
      "       0.9234331 , 0.8648623 , 0.8567056 , 0.8807882 , 0.8112837 ,\n",
      "       0.8288873 , 0.8875934 , 0.7978195 , 0.863686  , 0.8786793 ,\n",
      "       0.8885427 , 0.78617316, 0.8225509 , 0.75292754, 0.78397465,\n",
      "       0.770462  , 0.70222914, 0.8918715 , 0.8600062 , 0.7050251 ,\n",
      "       0.79843533, 0.83544093, 0.8255932 , 0.7991192 , 0.89348936,\n",
      "       0.83140177, 0.8434662 , 0.90935075, 0.8195153 , 0.92029136,\n",
      "       0.8135006 , 0.7769775 , 0.67164963, 0.9005724 , 0.8236978 ,\n",
      "       0.7340566 , 0.8736959 , 0.6836448 , 0.82259655, 0.8011718 ,\n",
      "       0.8119897 , 0.8425112 , 0.782088  , 0.8324232 , 0.7374834 ,\n",
      "       0.755071  , 0.7837101 , 0.8753609 , 0.79355437, 0.85337347,\n",
      "       0.8023006 , 0.8234715 , 0.864592  , 0.88444734, 0.86146104,\n",
      "       0.86884457, 0.74355125, 0.9239722 , 0.8686934 , 0.8218446 ,\n",
      "       0.8717173 , 0.7714101 , 0.8103917 , 0.7590172 , 0.80949026,\n",
      "       0.9404184 , 0.8879645 , 0.77147907, 0.8926141 , 0.8848959 ,\n",
      "       0.88720614, 0.8480088 , 0.82687306, 0.8209274 , 0.70243895,\n",
      "       0.86037016, 0.81960917, 0.8508654 , 0.8474609 , 0.82080626,\n",
      "       0.8849963 , 0.84205765, 0.8603042 , 0.9194286 , 0.85857254,\n",
      "       0.84639424, 0.81361085, 0.7883517 , 0.8489989 , 0.7631412 ,\n",
      "       0.9145685 , 0.8248564 , 0.8397251 , 0.7618289 , 0.8678106 ,\n",
      "       0.92506653, 0.7640608 , 0.8941032 , 0.897095  , 0.80252963,\n",
      "       0.8444949 , 0.844916  , 0.8821562 , 0.77138746, 0.8600424 ,\n",
      "       0.87907225, 0.88644266, 0.8192518 , 0.820456  , 0.91380733,\n",
      "       0.8285375 , 0.8608449 , 0.7795387 , 0.8662368 , 0.8490528 ,\n",
      "       0.81744486, 0.73191756, 0.8467627 , 0.85537696, 0.86491215,\n",
      "       0.8679389 , 0.8547802 , 0.90803236, 0.77619153, 0.76685506,\n",
      "       0.8563758 , 0.8990889 , 0.93414116, 0.81914115, 0.80303615,\n",
      "       0.90655386, 0.90791863, 0.80413556, 0.8609297 , 0.8807271 ,\n",
      "       0.8773304 , 0.83877283, 0.8856288 , 0.7617584 , 0.7733105 ,\n",
      "       0.87450594, 0.8061637 , 0.8601393 , 0.83535254, 0.7852539 ,\n",
      "       0.8046573 , 0.9014174 , 0.71073204, 0.85611045, 0.9046533 ,\n",
      "       0.8741487 , 0.9038575 , 0.9138087 , 0.85618794, 0.75293696,\n",
      "       0.806521  , 0.84067446, 0.8527288 , 0.72202736, 0.75467616,\n",
      "       0.7846236 , 0.8039871 , 0.8147734 , 0.85808724, 0.81715   ,\n",
      "       0.799791  , 0.8131448 , 0.8951559 , 0.8934044 , 0.7928398 ,\n",
      "       0.7941829 , 0.90383524, 0.8177999 , 0.752344  , 0.85987437,\n",
      "       0.57016635, 0.882082  , 0.8183435 , 0.7927165 , 0.76352066,\n",
      "       0.70715487, 0.86605394, 0.83298177, 0.91372466, 0.84331053,\n",
      "       0.86965597, 0.8111221 , 0.83439976, 0.8276474 , 0.85898924,\n",
      "       0.807587  , 0.760876  , 0.79651   , 0.8762565 , 0.7842389 ,\n",
      "       0.84155613, 0.9405106 , 0.9009193 , 0.85807407, 0.84523594,\n",
      "       0.89840686, 0.8175782 , 0.87481856, 0.86607635, 0.8641685 ,\n",
      "       0.86649257, 0.7859601 , 0.7623433 , 0.747075  , 0.86177135,\n",
      "       0.7203294 , 0.91500735, 0.86938536, 0.86419976, 0.8064697 ,\n",
      "       0.8637985 , 0.8408167 , 0.79192334, 0.82214254, 0.84932196,\n",
      "       0.86110765, 0.87838775, 0.78686064, 0.8801901 , 0.86082304,\n",
      "       0.82406783, 0.8422139 , 0.7990209 , 0.8446992 , 0.9457822 ,\n",
      "       0.8316346 , 0.85009444, 0.9040758 , 0.8827097 , 0.7541655 ,\n",
      "       0.81140804, 0.8260133 , 0.8190511 , 0.7820335 , 0.7279974 ,\n",
      "       0.8489837 , 0.80066425, 0.85593605, 0.91431445, 0.9133004 ,\n",
      "       0.9117034 , 0.79805654, 0.84064865, 0.787375  , 0.8522551 ,\n",
      "       0.8340761 , 0.8364926 , 0.83753216, 0.87933385, 0.7208714 ,\n",
      "       0.7565737 , 0.8166006 , 0.85253674, 0.83894557, 0.71228397,\n",
      "       0.80845785, 0.8183482 , 0.7880062 , 0.8094004 , 0.76104695,\n",
      "       0.92302704, 0.8690712 , 0.88327473, 0.72426623, 0.87867683,\n",
      "       0.78450745, 0.83304644, 0.8781085 , 0.9027856 , 0.7366087 ,\n",
      "       0.834421  , 0.8681698 , 0.8314594 , 0.8939525 , 0.82818615,\n",
      "       0.74469465, 0.84512687, 0.84698504, 0.77537465, 0.87215096,\n",
      "       0.7300154 , 0.86354256, 0.7378466 , 0.8597597 , 0.84771794,\n",
      "       0.91582143, 0.899734  , 0.9295685 , 0.9096425 , 0.8555683 ,\n",
      "       0.6651519 , 0.9008597 , 0.8954218 , 0.78126043, 0.8282858 ,\n",
      "       0.8941621 , 0.8995323 , 0.89668816, 0.8688144 , 0.8945687 ,\n",
      "       0.9148867 , 0.8342198 , 0.82877946, 0.913455  , 0.7454793 ,\n",
      "       0.90772456, 0.8082952 , 0.785166  , 0.86427236, 0.82769215,\n",
      "       0.8484601 , 0.8088358 , 0.9027832 , 0.7581707 , 0.85837203,\n",
      "       0.77540845, 0.762253  , 0.73779625, 0.7980233 , 0.86444515,\n",
      "       0.8245768 , 0.83286947, 0.899609  , 0.86795187, 0.7531699 ,\n",
      "       0.83865297, 0.85998875, 0.90257794, 0.93353564, 0.9044253 ,\n",
      "       0.80863094, 0.85449713, 0.9306914 , 0.76808065, 0.8366617 ,\n",
      "       0.8586865 , 0.73641795], dtype=float32)>\n",
      "<tf.Variable 'space_segmentation_transformer/encoder/encoder_sublayer_1/layer_normalization_3/beta:0' shape=(512,) dtype=float32, numpy=\n",
      "array([ 1.70772206e-02, -1.16137159e-03,  3.26679018e-03,  6.68428987e-02,\n",
      "        1.20999403e-02,  3.93221155e-02,  3.50731909e-02,  1.53285740e-02,\n",
      "        1.26337543e-01,  1.04468679e-02,  6.51818290e-02,  2.16188952e-02,\n",
      "        5.48637360e-02,  6.73588812e-02,  8.40395764e-02,  8.24234709e-02,\n",
      "        1.63486041e-02,  4.91562299e-03,  2.04289593e-02,  3.86175588e-02,\n",
      "        7.13953050e-04,  1.18885472e-01,  3.30869332e-02,  2.49334052e-02,\n",
      "        6.31511398e-03,  5.94316889e-03, -4.28336672e-03,  9.00144596e-03,\n",
      "        6.32283762e-02,  2.45179385e-02,  1.11264235e-03,  4.70174141e-02,\n",
      "        1.46962646e-02, -3.32073099e-03,  4.13771160e-02,  1.53300222e-02,\n",
      "        4.91307974e-02,  5.68129048e-02, -2.67874158e-04,  5.72106950e-02,\n",
      "       -1.19872848e-02,  7.32813552e-02,  2.61882730e-02,  1.91045441e-02,\n",
      "        1.89901572e-02,  1.82444435e-02,  1.17125139e-02,  6.48957025e-03,\n",
      "        2.76477877e-02,  1.22323791e-02,  5.76550327e-03,  1.31808922e-01,\n",
      "        2.34399308e-02,  2.02002954e-02,  3.81657146e-02,  1.33308932e-01,\n",
      "        7.47742504e-03,  2.61105802e-02,  4.32757959e-02,  8.25494342e-03,\n",
      "        1.77209616e-01,  3.54543738e-02,  3.64352018e-02,  2.65689921e-02,\n",
      "        3.48386704e-03,  3.69550325e-02,  4.28740233e-02, -1.69944521e-02,\n",
      "        1.52709475e-02,  6.47925287e-02,  9.68834665e-03,  8.67020246e-03,\n",
      "        2.94737611e-02, -4.70617712e-02,  2.39003357e-02, -3.18833743e-03,\n",
      "        5.64268492e-02,  3.40966545e-02,  2.88645383e-02,  2.85829287e-02,\n",
      "        2.29882877e-02,  4.14955653e-02,  5.54771423e-02,  1.58315245e-02,\n",
      "        1.31264487e-02,  8.04581195e-02,  2.97247004e-02,  9.64298621e-02,\n",
      "        2.04060283e-02,  2.39998922e-02,  1.28927622e-02,  1.57554895e-02,\n",
      "        3.77896950e-02,  4.30688262e-02,  6.93272427e-03,  2.13596802e-02,\n",
      "        2.31554341e-02,  1.20228864e-02,  1.55163032e-03,  1.79525968e-02,\n",
      "        2.36466937e-02, -6.37376681e-03,  3.01826745e-02,  3.10514793e-02,\n",
      "        4.43077795e-02,  1.80525426e-02,  1.24846185e-02,  8.51881877e-03,\n",
      "        2.74439286e-02,  8.18946306e-03,  5.68473805e-03,  4.71426621e-02,\n",
      "        9.52879190e-02, -5.27153909e-02,  3.33312005e-02,  7.16681629e-02,\n",
      "        9.64897033e-03,  3.65996212e-02,  2.49815434e-02,  5.05872741e-02,\n",
      "        1.27773350e-02,  3.90389003e-03,  2.44960152e-02,  1.87290180e-02,\n",
      "       -5.02274418e-03,  2.10660640e-02,  1.18062951e-01,  1.19669512e-02,\n",
      "        3.75085101e-02,  4.33655530e-02,  7.99006224e-02, -5.74654387e-03,\n",
      "        3.32466140e-02,  2.19588745e-02,  1.71295926e-02,  5.44850761e-03,\n",
      "       -2.13437621e-03,  2.97473557e-02, -4.21331497e-04,  1.80444214e-02,\n",
      "       -1.85915187e-03, -1.75759429e-03, -6.06169514e-02,  3.05222124e-02,\n",
      "        5.25906906e-02,  5.36258928e-02,  1.12241991e-02,  2.87633259e-02,\n",
      "        2.87510846e-02,  3.73287089e-02,  5.75152263e-02,  2.39222143e-02,\n",
      "        1.49344616e-02,  3.72170545e-02,  4.05498631e-02,  6.61091655e-02,\n",
      "        4.67571616e-02,  2.10730713e-02,  2.81082205e-02,  1.55571904e-02,\n",
      "        1.20750973e-02,  8.55784584e-03,  3.38420533e-02,  1.00091189e-01,\n",
      "        4.07700427e-02,  8.21411982e-03,  4.09129821e-02, -8.50349665e-04,\n",
      "       -7.01116864e-03,  1.95108019e-02,  2.24037673e-02,  3.74961160e-02,\n",
      "        3.53399105e-02,  6.92893192e-02,  2.14744154e-02,  7.60127679e-02,\n",
      "       -4.62627560e-02,  1.69114023e-02, -8.59597931e-05,  3.07968520e-02,\n",
      "        8.49619284e-02,  1.55934453e-01,  2.00897884e-02,  6.92593455e-02,\n",
      "        5.04516996e-02,  2.87936479e-02,  1.57915708e-02,  9.88550857e-02,\n",
      "       -3.63464989e-02, -2.18123153e-01,  9.44777299e-03,  1.51587069e-01,\n",
      "        2.65373178e-02,  6.56584352e-02,  2.42042206e-02,  9.03360080e-03,\n",
      "        2.98137125e-02, -5.13179190e-02, -3.12290940e-04,  4.13622893e-02,\n",
      "        2.00539716e-02,  2.81463340e-02,  2.70975865e-02,  1.60569027e-02,\n",
      "        1.10670604e-01,  8.14893767e-02,  1.35927182e-02,  1.46194145e-01,\n",
      "        1.67216137e-02,  8.89054611e-02,  5.72969345e-03,  1.36346426e-02,\n",
      "       -1.47404954e-01, -3.57311964e-03,  2.30419915e-02,  3.76831666e-02,\n",
      "        2.54663099e-02,  9.25994813e-02,  9.36997533e-02,  6.42501190e-02,\n",
      "        1.44701581e-02,  7.10902922e-03,  2.60393899e-02,  1.73353478e-02,\n",
      "        3.49279642e-02,  5.78617156e-02,  1.43711967e-02,  4.29618731e-02,\n",
      "        1.37587897e-02,  1.33258458e-02,  1.04159229e-01,  6.74400628e-02,\n",
      "        6.24047555e-02,  3.37250419e-02,  3.55574116e-02,  1.79871432e-02,\n",
      "        1.84914712e-02,  2.18037590e-02,  5.39509580e-02, -7.39186406e-02,\n",
      "        3.57534513e-02,  3.79479453e-02,  6.78716525e-02,  2.09363401e-02,\n",
      "        1.07953928e-01,  8.56289119e-02,  2.93451678e-02,  4.91082529e-03,\n",
      "        6.68613762e-02,  4.55325432e-02,  3.55311036e-02,  5.67578226e-02,\n",
      "        1.11701824e-02,  1.81812923e-02,  2.78343316e-02,  2.06939783e-02,\n",
      "        3.46850269e-02,  2.69858912e-02,  3.81943546e-02,  2.27480941e-02,\n",
      "        7.03518391e-02, -9.94011164e-02, -6.19694451e-03,  2.26568971e-02,\n",
      "        1.69963222e-02,  3.39442790e-02,  2.36331485e-02,  1.29116867e-02,\n",
      "        6.68506920e-02,  9.97862685e-03,  2.14492250e-02,  1.03058936e-02,\n",
      "        1.50920385e-02, -8.90704524e-03,  3.92031372e-02,  5.40661160e-03,\n",
      "        2.95427572e-02,  1.19573027e-02,  1.01254277e-01,  1.14001415e-03,\n",
      "        3.34034972e-02,  9.22110491e-03,  8.52424419e-04,  1.18574779e-02,\n",
      "        4.22800751e-03, -6.93982095e-03,  2.43626535e-02,  2.91381050e-02,\n",
      "        3.07253823e-02,  1.75114721e-02,  3.28041986e-02,  2.66511850e-02,\n",
      "        3.88211012e-02, -6.58124611e-02,  3.37495655e-02,  2.93925963e-02,\n",
      "        6.27204627e-02, -3.84634882e-02,  1.97255276e-02,  9.29144677e-03,\n",
      "        3.50828618e-02,  3.40422615e-02,  1.86356828e-02,  4.25910158e-03,\n",
      "       -2.41941400e-02,  7.92426169e-02,  6.43392205e-02,  1.12243881e-02,\n",
      "        3.50943021e-02,  5.49778342e-02, -6.55905008e-02,  1.40929660e-02,\n",
      "        2.44815592e-02,  4.81146090e-02,  4.80607413e-02,  1.35437384e-01,\n",
      "        3.93308885e-02,  3.92072909e-02,  3.99523741e-03,  2.87515670e-02,\n",
      "        6.08105548e-02,  3.96772660e-02, -1.80407036e-02,  1.30888046e-04,\n",
      "       -6.57530851e-04,  2.70669721e-02,  4.95450795e-02,  2.61384528e-02,\n",
      "        1.42108127e-01,  2.05541998e-02,  1.97635610e-02,  1.09383576e-02,\n",
      "        1.44588863e-02, -1.57361571e-02,  9.18492395e-03,  3.19404788e-02,\n",
      "        4.42320034e-02, -7.47968862e-03,  3.99989821e-02,  1.30567148e-01,\n",
      "        2.14829426e-02,  4.16978747e-02,  3.29915173e-02,  1.87194347e-02,\n",
      "       -4.92115179e-03,  1.92377660e-02,  3.25089432e-02,  9.12514573e-04,\n",
      "        1.12785697e-02,  1.36662787e-02,  2.88319569e-02,  1.92299467e-02,\n",
      "        1.27621070e-02, -1.07492581e-02,  3.06126028e-02, -6.75988197e-03,\n",
      "       -1.79204438e-02,  4.08586040e-02,  4.20424044e-02,  9.28174146e-03,\n",
      "        2.45156465e-03,  3.69490646e-02,  3.10581960e-02,  6.74292352e-03,\n",
      "        4.89074402e-02,  1.86027028e-02,  2.21686531e-02,  2.46640220e-02,\n",
      "        4.88746092e-02,  3.54623385e-02,  1.03538977e-02,  1.32137118e-02,\n",
      "        2.90100127e-02,  7.99227227e-03, -4.47200909e-02,  1.78130009e-04,\n",
      "        3.96245420e-02,  2.03793999e-02,  1.12318367e-01,  2.41484307e-02,\n",
      "        4.56126221e-02,  1.84747782e-02,  6.89957961e-02,  4.85990867e-02,\n",
      "        4.03130576e-02, -8.96820128e-02,  5.44540770e-02,  1.12913772e-01,\n",
      "        4.78849523e-02, -6.07934408e-03,  2.29282696e-02, -5.21685891e-02,\n",
      "        3.74998264e-02,  4.81809229e-02,  1.19821653e-02,  1.95443444e-02,\n",
      "        2.75306907e-02, -1.19928055e-01,  2.14953199e-02, -3.02558504e-02,\n",
      "        4.92082648e-02,  1.37793308e-03,  5.87416552e-02,  3.06757111e-02,\n",
      "        1.96483508e-02,  1.32005149e-02,  9.75405518e-03,  4.73043397e-02,\n",
      "        1.04954824e-01,  2.00091153e-02,  4.47595753e-02,  3.18672471e-02,\n",
      "        2.67825201e-02,  1.40455244e-02, -2.59750569e-03,  1.27150882e-02,\n",
      "        3.65981832e-02, -1.11568980e-01,  3.32216993e-02,  1.16706984e-02,\n",
      "        1.73830781e-02,  2.41586883e-02,  3.94552909e-02,  3.31308134e-02,\n",
      "        2.39625908e-02,  3.26417722e-02, -1.09633924e-02, -2.30497811e-02,\n",
      "        5.72301522e-02,  4.02864330e-02,  2.10182220e-02,  1.31521132e-02,\n",
      "        1.55556984e-02, -1.72156270e-03,  2.15453804e-02,  3.52951586e-02,\n",
      "        1.59185287e-02,  1.75085245e-03, -1.78976387e-01,  1.85583159e-02,\n",
      "       -1.61377668e-01,  5.08623663e-03,  2.64058467e-02,  2.37829029e-03,\n",
      "       -1.11367144e-02,  6.08461574e-02,  8.26247409e-02,  7.91517422e-02,\n",
      "        1.07296894e-03,  2.77901404e-02,  2.29044035e-02,  9.03166980e-02,\n",
      "        1.70603674e-02,  1.97774898e-02,  1.80614516e-02,  2.14495547e-02,\n",
      "        2.63567250e-02,  2.23279856e-02,  7.05874786e-02,  2.12432202e-02,\n",
      "       -5.12909330e-03,  2.86297016e-02,  9.24124941e-03,  9.44585446e-03,\n",
      "        1.54122096e-02,  1.15080923e-01,  3.32455039e-02, -1.71723291e-02,\n",
      "        4.83488999e-02,  1.87401026e-02,  1.15090758e-02, -2.29400373e-03,\n",
      "        1.78737100e-02, -2.57425103e-03,  4.81985789e-03, -7.04947114e-03,\n",
      "        1.04105860e-01,  4.82208803e-02,  4.04604338e-03, -1.56509861e-01,\n",
      "        6.30695559e-03,  2.87670083e-02,  1.04290424e-02,  2.02739872e-02,\n",
      "        8.94514564e-03, -2.17907029e-04,  2.66080815e-02, -3.62333329e-03,\n",
      "       -1.38178458e-02,  1.65822320e-02,  3.58126350e-02,  2.88411919e-02,\n",
      "        1.97441876e-02,  4.71705645e-02,  9.05170366e-02, -6.78214803e-02,\n",
      "       -1.12094648e-01, -3.66250463e-02,  1.16991915e-01,  1.96167920e-02,\n",
      "       -3.54668461e-02,  2.68058963e-02, -5.08820079e-02,  1.22344019e-02,\n",
      "       -4.47569706e-04,  2.03722827e-02, -9.88017619e-02, -4.13949080e-02,\n",
      "        2.50649173e-02,  3.83565240e-02,  4.31541121e-03,  2.51114042e-03],\n",
      "      dtype=float32)>\n",
      "<tf.Variable 'space_segmentation_transformer/dense_4/kernel:0' shape=(512, 3) dtype=float32, numpy=\n",
      "array([[ 0.08453478,  0.06782289,  0.06659642],\n",
      "       [-0.00362588,  0.0762188 ,  0.07637858],\n",
      "       [-0.12107896,  0.03470637,  0.03190485],\n",
      "       ...,\n",
      "       [ 0.0042134 , -0.04377851, -0.04452673],\n",
      "       [-0.01441451,  0.05823619,  0.05820015],\n",
      "       [ 0.07462713,  0.07193976,  0.07225876]], dtype=float32)>\n",
      "<tf.Variable 'space_segmentation_transformer/dense_4/bias:0' shape=(3,) dtype=float32, numpy=array([-0.0346648 ,  0.02932657, -0.02633045], dtype=float32)>\n"
     ]
    },
    {
     "data": {
      "text/plain": [
       "[None,\n",
       " None,\n",
       " None,\n",
       " None,\n",
       " None,\n",
       " None,\n",
       " None,\n",
       " None,\n",
       " None,\n",
       " None,\n",
       " None,\n",
       " None,\n",
       " None,\n",
       " None,\n",
       " None,\n",
       " None,\n",
       " None,\n",
       " None,\n",
       " None,\n",
       " None,\n",
       " None,\n",
       " None,\n",
       " None,\n",
       " None,\n",
       " None,\n",
       " None,\n",
       " None,\n",
       " None,\n",
       " None,\n",
       " None,\n",
       " None,\n",
       " None,\n",
       " None,\n",
       " None,\n",
       " None]"
      ]
     },
     "execution_count": 26,
     "metadata": {},
     "output_type": "execute_result"
    }
   ],
   "source": [
    "import lovely_tensors as lt\n",
    "lt.monkey_patch()\n",
    "[print(x) for x in model.trainable_variables]"
   ]
  },
  {
   "cell_type": "code",
   "execution_count": null,
   "metadata": {},
   "outputs": [],
   "source": []
  }
 ],
 "metadata": {
  "kernelspec": {
   "display_name": "tf_210",
   "language": "python",
   "name": "python3"
  },
  "language_info": {
   "codemirror_mode": {
    "name": "ipython",
    "version": 3
   },
   "file_extension": ".py",
   "mimetype": "text/x-python",
   "name": "python",
   "nbconvert_exporter": "python",
   "pygments_lexer": "ipython3",
   "version": "3.8.10"
  },
  "orig_nbformat": 4,
  "vscode": {
   "interpreter": {
    "hash": "4c2409f7cd36a60864259fe7c86cc6f7edd5e2a0604f36f600c4aba8b227f5d5"
   }
  }
 },
 "nbformat": 4,
 "nbformat_minor": 2
}
