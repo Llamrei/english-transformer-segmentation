{
  "cells": [
    {
      "cell_type": "code",
      "execution_count": 1,
      "metadata": {
        "id": "2KVAv9U3jY7i"
      },
      "outputs": [
        {
          "name": "stderr",
          "output_type": "stream",
          "text": [
            "2023-02-28 15:44:38.900775: I tensorflow/core/platform/cpu_feature_guard.cc:193] This TensorFlow binary is optimized with oneAPI Deep Neural Network Library (oneDNN) to use the following CPU instructions in performance-critical operations:  AVX2 AVX512F AVX512_VNNI FMA\n",
            "To enable them in other operations, rebuild TensorFlow with the appropriate compiler flags.\n",
            "2023-02-28 15:44:39.053421: I tensorflow/core/util/util.cc:169] oneDNN custom operations are on. You may see slightly different numerical results due to floating-point round-off errors from different computation orders. To turn them off, set the environment variable `TF_ENABLE_ONEDNN_OPTS=0`.\n",
            "2023-02-28 15:44:39.092262: E tensorflow/stream_executor/cuda/cuda_blas.cc:2981] Unable to register cuBLAS factory: Attempting to register factory for plugin cuBLAS when one has already been registered\n",
            "2023-02-28 15:44:39.791971: W tensorflow/stream_executor/platform/default/dso_loader.cc:64] Could not load dynamic library 'libnvinfer.so.7'; dlerror: libnvinfer.so.7: cannot open shared object file: No such file or directory\n",
            "2023-02-28 15:44:39.792048: W tensorflow/stream_executor/platform/default/dso_loader.cc:64] Could not load dynamic library 'libnvinfer_plugin.so.7'; dlerror: libnvinfer_plugin.so.7: cannot open shared object file: No such file or directory\n",
            "2023-02-28 15:44:39.792055: W tensorflow/compiler/tf2tensorrt/utils/py_utils.cc:38] TF-TRT Warning: Cannot dlopen some TensorRT libraries. If you would like to use Nvidia GPU with TensorRT, please make sure the missing libraries mentioned above are installed properly.\n"
          ]
        }
      ],
      "source": [
        "import tensorflow as tf\n",
        "import numpy as np\n",
        "\n",
        "from tensorflow.keras.models import Sequential, Model\n",
        "from tensorflow.keras.layers import (TextVectorization, Dense, MultiHeadAttention, LayerNormalization, \n",
        "                                     Layer, Embedding, Input, Dropout)\n",
        "from tensorflow.keras.callbacks import EarlyStopping\n",
        "\n",
        "import logging\n",
        "\n",
        "GPU_FROM = 0\n",
        "GPU_TO = 1  \n",
        "\n",
        "visible_devices = tf.config.get_visible_devices('GPU')\n",
        "logging.info(f\"Num GPUs visible:{len(visible_devices)}\")\n",
        "tf.config.set_visible_devices(visible_devices[GPU_FROM:GPU_TO],'GPU')\n",
        "\n",
        "visible_devices = tf.config.get_visible_devices('GPU')\n",
        "logging.info(f\"Num GPUs to be used: {len(visible_devices)}\")"
      ]
    },
    {
      "attachments": {},
      "cell_type": "markdown",
      "metadata": {},
      "source": [
        "# Build dataset"
      ]
    },
    {
      "cell_type": "code",
      "execution_count": 55,
      "metadata": {},
      "outputs": [],
      "source": [
        "SEQ_LEN = 10"
      ]
    },
    {
      "cell_type": "code",
      "execution_count": 56,
      "metadata": {},
      "outputs": [
        {
          "name": "stdout",
          "output_type": "stream",
          "text": [
            "tf.Tensor(b'5555545 555', shape=(), dtype=string)\n",
            "tf.Tensor(b'5555445 555', shape=(), dtype=string)\n",
            "tf.Tensor(b'5445 545 555', shape=(), dtype=string)\n",
            "tf.Tensor(b'5545 555545 ', shape=(), dtype=string)\n",
            "tf.Tensor(b'55555445 54', shape=(), dtype=string)\n"
          ]
        }
      ],
      "source": [
        "\n",
        "from segmentation.model import SpaceSegmentationTransformer\n",
        "from segmentation.model import LossWithVoids\n",
        "data = tf.random.stateless_binomial(shape=(10000, SEQ_LEN), counts=1, probs=0.8, seed=[1997,1997])+1\n",
        "train_frac = 3/4 \n",
        "val_frac = 1/8\n",
        "\n",
        "train_idx = int(data.shape[0]*train_frac)\n",
        "val_idx = train_idx + int(data.shape[0]*val_frac)\n",
        "\n",
        "train_ds = tf.data.Dataset.from_tensor_slices(data[:train_idx])\n",
        "valid_ds = tf.data.Dataset.from_tensor_slices(data[train_idx:val_idx])\n",
        "test_ds = tf.data.Dataset.from_tensor_slices(data[val_idx:])\n",
        "\n",
        "\n",
        "def mapper(y):\n",
        "    x = tf.strings.as_string(y+3)\n",
        "    x = tf.strings.reduce_join(x, axis=-1)\n",
        "    return tf.strings.regex_replace(x, \"(45)\", r\"\\1 \")\n",
        "\n",
        "train_ds = train_ds.map(mapper)\n",
        "valid_ds = valid_ds.map(mapper)\n",
        "test_ds = test_ds.map(mapper)\n",
        "\n",
        "for f in train_ds.take(5):\n",
        "    print(f)"
      ]
    },
    {
      "cell_type": "code",
      "execution_count": 57,
      "metadata": {},
      "outputs": [
        {
          "name": "stdout",
          "output_type": "stream",
          "text": [
            "(<tf.Tensor: shape=(), dtype=string, numpy=b'555554555'>, <tf.Tensor: shape=(10,), dtype=float32, numpy=array([ 0.,  0.,  0.,  0.,  0.,  0.,  1.,  0.,  0., -1.], dtype=float32)>)\n"
          ]
        }
      ],
      "source": [
        "def generate_labels(text):\n",
        "    max_chars = SEQ_LEN\n",
        "    last_char = tf.strings.substr(text, max_chars, max_chars+1)\n",
        "    text = tf.strings.substr(text,0, max_chars)\n",
        "    text = tf.strings.lower(text)\n",
        "    split_on_whitespace = tf.strings.strip(tf.strings.split(text))\n",
        "    encoder_in = tf.strings.reduce_join(split_on_whitespace, axis=-1)\n",
        "    \n",
        "    space_indices = tf.math.cumsum(tf.strings.length(split_on_whitespace)) - 1 # subtract 1 to index from 0\n",
        "    seq_len = space_indices[-1] + 1\n",
        "    if not tf.strings.regex_full_match(last_char, \" \"):\n",
        "        space_indices = space_indices[:-1]\n",
        "    encoder_out = tf.ones((max_chars,))\n",
        "    encoder_out = tf.concat([\n",
        "        tf.ones((seq_len,)),\n",
        "        tf.zeros((max_chars - seq_len,))\n",
        "    ], axis=-1)\n",
        "    encoder_out = tf.tensor_scatter_nd_update(\n",
        "        encoder_out, \n",
        "        space_indices[...,tf.newaxis], # Expand dims to create a 'list' of indices\n",
        "        tf.ones_like(space_indices, dtype=encoder_out.dtype)*2) \n",
        "    \n",
        "    return (encoder_in), tf.cast(encoder_out-1, \"float32\")\n",
        "\n",
        "train_ds = train_ds.map(generate_labels)\n",
        "valid_ds = valid_ds.map(generate_labels)\n",
        "test_ds = test_ds.map(generate_labels)\n",
        "\n",
        "for f in train_ds.take(1):\n",
        "    print(f)"
      ]
    },
    {
      "cell_type": "code",
      "execution_count": 58,
      "metadata": {},
      "outputs": [],
      "source": [
        "train_ds = train_ds.shuffle(1000).batch(128)\n",
        "valid_ds = valid_ds.batch(128)\n",
        "test_ds = test_ds.batch(128)"
      ]
    },
    {
      "cell_type": "markdown",
      "metadata": {},
      "source": [
        "# Build layers"
      ]
    },
    {
      "cell_type": "code",
      "execution_count": 59,
      "metadata": {},
      "outputs": [],
      "source": [
        "test_inputs, test_outputs = next(iter(train_ds.take(1)))"
      ]
    },
    {
      "cell_type": "code",
      "execution_count": 68,
      "metadata": {
        "colab": {
          "base_uri": "https://localhost:8080/"
        },
        "id": "Df--lFrGkjxd",
        "outputId": "5f995796-f096-41c0-d9d9-6a573db3cd5f"
      },
      "outputs": [],
      "source": [
        "textvectorization = TextVectorization(split='character', output_sequence_length=SEQ_LEN)\n",
        "textvectorization.adapt(train_ds.map(lambda x, y: x))"
      ]
    },
    {
      "cell_type": "code",
      "execution_count": 69,
      "metadata": {
        "colab": {
          "base_uri": "https://localhost:8080/"
        },
        "id": "Fb7_5T0ht2Xs",
        "outputId": "5595f8b8-c9ad-4d1f-bbe0-390c3dadbfce"
      },
      "outputs": [
        {
          "data": {
            "text/plain": [
              "['', '[UNK]', '5', '4']"
            ]
          },
          "execution_count": 69,
          "metadata": {},
          "output_type": "execute_result"
        }
      ],
      "source": [
        "textvectorization.get_vocabulary()"
      ]
    },
    {
      "cell_type": "code",
      "execution_count": 70,
      "metadata": {
        "colab": {
          "base_uri": "https://localhost:8080/"
        },
        "id": "RnymjZzb0llK",
        "outputId": "6eb37a99-c532-4592-9dd1-9437f1ffc824"
      },
      "outputs": [
        {
          "data": {
            "text/plain": [
              "<tf.Tensor: shape=(128, 10), dtype=int64, numpy=\n",
              "array([[2, 3, 3, ..., 2, 2, 0],\n",
              "       [2, 2, 2, ..., 2, 2, 0],\n",
              "       [3, 3, 3, ..., 3, 2, 0],\n",
              "       ...,\n",
              "       [2, 2, 2, ..., 2, 2, 0],\n",
              "       [2, 2, 2, ..., 2, 2, 3],\n",
              "       [2, 2, 3, ..., 2, 0, 0]])>"
            ]
          },
          "execution_count": 70,
          "metadata": {},
          "output_type": "execute_result"
        }
      ],
      "source": [
        "# Test\n",
        "\n",
        "tv_out = textvectorization(test_inputs)\n",
        "tv_out"
      ]
    },
    {
      "cell_type": "code",
      "execution_count": 71,
      "metadata": {
        "id": "KFT2Y9Ddt4ZP"
      },
      "outputs": [],
      "source": [
        "def positional_encodings(seq_len, d_model):\n",
        "    max_wavelength = 10000.\n",
        "\n",
        "    pos = np.arange(seq_len)\n",
        "    inx = np.arange(d_model)\n",
        "\n",
        "    I, P = np.meshgrid(inx, pos)\n",
        "    pe_even = np.sin(P / max_wavelength**(I/d_model))\n",
        "    pe_odd = np.cos(P / max_wavelength**(I/d_model))\n",
        "        \n",
        "    pe = np.zeros((seq_len, d_model))\n",
        "    pe[:, ::2] = pe_even[:, ::2]\n",
        "    pe[:, 1::2] = pe_odd[:, ::2]\n",
        "    return tf.constant(pe, dtype=tf.float32)"
      ]
    },
    {
      "cell_type": "code",
      "execution_count": 72,
      "metadata": {
        "id": "oI8sXtDNuG_q"
      },
      "outputs": [],
      "source": [
        "D_MODEL = 32\n",
        "MAX_TOKENS = textvectorization.vocabulary_size()  # includes padding and UNK tokens"
      ]
    },
    {
      "cell_type": "code",
      "execution_count": 73,
      "metadata": {
        "id": "kRdsdnURuUAf"
      },
      "outputs": [],
      "source": [
        "class InputEmbeddings(Layer):\n",
        "    \n",
        "    def __init__(self, d_model, pos_encodings, max_tokens, name='input_embeddings', **kwargs):\n",
        "        super().__init__(name=name, **kwargs)\n",
        "        self.pos_encodings = pos_encodings\n",
        "        self.embedding = Embedding(max_tokens, d_model, mask_zero=True)\n",
        "        \n",
        "    def compute_mask(self, inputs, mask=None):\n",
        "        return self.embedding.compute_mask(inputs)\n",
        "        \n",
        "    def call(self, inputs):\n",
        "        n = tf.shape(inputs)[-1]\n",
        "        pos_encodings = self.pos_encodings[:n, :]\n",
        "        h = self.embedding(inputs)\n",
        "        return h + pos_encodings"
      ]
    },
    {
      "cell_type": "code",
      "execution_count": 74,
      "metadata": {
        "colab": {
          "base_uri": "https://localhost:8080/"
        },
        "id": "ZObgqA5IzkAw",
        "outputId": "a18a3e8c-2031-437f-a5ff-7c2cdb86c2f2"
      },
      "outputs": [
        {
          "data": {
            "text/plain": [
              "TensorShape([128, 10, 32])"
            ]
          },
          "execution_count": 74,
          "metadata": {},
          "output_type": "execute_result"
        }
      ],
      "source": [
        "# Test\n",
        "\n",
        "input_embeddings = InputEmbeddings(D_MODEL, positional_encodings(SEQ_LEN, D_MODEL), MAX_TOKENS)\n",
        "emb_out = input_embeddings(tv_out)\n",
        "emb_out.shape"
      ]
    },
    {
      "cell_type": "code",
      "execution_count": 75,
      "metadata": {
        "id": "naL4m-nDuYoq"
      },
      "outputs": [],
      "source": [
        "def get_attention_mask(mask=None):\n",
        "    if mask is None:\n",
        "        return None\n",
        "    mask1 = mask[:, :, None]\n",
        "    mask2 = mask[:, None, :]\n",
        "    return mask1 & mask2"
      ]
    },
    {
      "cell_type": "code",
      "execution_count": 76,
      "metadata": {
        "id": "t3SNe8Mhuj11"
      },
      "outputs": [],
      "source": [
        "class EncoderBlock(Layer):\n",
        "    \n",
        "    def __init__(self, num_heads, key_dim, d_model, ff_dim, name='encoder_block', **kwargs):\n",
        "        super().__init__(name=name, **kwargs)\n",
        "        self.supports_masking = True  # This will pass on any incoming mask\n",
        "        self.num_heads = num_heads\n",
        "        self.key_dim = key_dim\n",
        "        self.d_model = d_model\n",
        "        self.ff_dim = ff_dim\n",
        "        self.multihead_attention = MultiHeadAttention(num_heads, key_dim)\n",
        "        self.ff = Sequential([\n",
        "            Dense(ff_dim, activation='relu'),\n",
        "            Dense(d_model)\n",
        "        ])\n",
        "        self.layernorm1 = LayerNormalization()\n",
        "        self.layernorm2 = LayerNormalization()\n",
        "        \n",
        "    def call(self, inputs, mask=None):\n",
        "        attention_mask = get_attention_mask(mask)\n",
        "        h = self.multihead_attention(inputs, inputs, attention_mask=attention_mask)\n",
        "        h = self.layernorm1(inputs + h)\n",
        "        \n",
        "        h_ff = self.ff(h)\n",
        "        return self.layernorm2(h + h_ff)"
      ]
    },
    {
      "cell_type": "code",
      "execution_count": 77,
      "metadata": {
        "colab": {
          "base_uri": "https://localhost:8080/"
        },
        "id": "s0Iuo1tT05L_",
        "outputId": "db1ed685-7206-4c07-9ae6-cf5f28000687"
      },
      "outputs": [
        {
          "data": {
            "text/plain": [
              "TensorShape([128, 10, 32])"
            ]
          },
          "execution_count": 77,
          "metadata": {},
          "output_type": "execute_result"
        }
      ],
      "source": [
        "# Test\n",
        "\n",
        "encoder_block = EncoderBlock(num_heads=2, key_dim=16, d_model=D_MODEL, ff_dim=32)\n",
        "enc_block_out = encoder_block(emb_out)\n",
        "enc_block_out.shape"
      ]
    },
    {
      "cell_type": "code",
      "execution_count": 78,
      "metadata": {
        "colab": {
          "base_uri": "https://localhost:8080/"
        },
        "id": "Nbhc4Kgu1Ft1",
        "outputId": "d531b939-dd3b-4842-d958-9b11e14e1bdc"
      },
      "outputs": [
        {
          "data": {
            "text/plain": [
              "<tf.Tensor: shape=(128, 10), dtype=bool, numpy=\n",
              "array([[ True,  True,  True, ...,  True,  True, False],\n",
              "       [ True,  True,  True, ...,  True,  True, False],\n",
              "       [ True,  True,  True, ...,  True,  True, False],\n",
              "       ...,\n",
              "       [ True,  True,  True, ...,  True,  True, False],\n",
              "       [ True,  True,  True, ...,  True,  True,  True],\n",
              "       [ True,  True,  True, ...,  True, False, False]])>"
            ]
          },
          "execution_count": 78,
          "metadata": {},
          "output_type": "execute_result"
        }
      ],
      "source": [
        "enc_block_out._keras_mask"
      ]
    },
    {
      "cell_type": "code",
      "execution_count": 79,
      "metadata": {
        "id": "tLnkz0aOunDr"
      },
      "outputs": [],
      "source": [
        "class ClassifierHead(Layer):\n",
        "\n",
        "  def __init__(self, d_model, dropout_rate, units, name='classifier_head', **kwargs):\n",
        "    super().__init__(name=name, **kwargs)\n",
        "    self.supports_masking = True\n",
        "    self.d_model = d_model\n",
        "    self.dropout_rate = dropout_rate\n",
        "    self.units = units\n",
        "    self.dense1 = Dense(units, activation='relu')\n",
        "    self.dropout = Dropout(dropout_rate)\n",
        "    self.dense2 = Dense(1)\n",
        "\n",
        "  def call(self, inputs):\n",
        "    batch_size = tf.shape(inputs)[0]\n",
        "    seq_len = tf.shape(inputs)[1]\n",
        "    h = self.dense1(inputs)\n",
        "    h = self.dropout(h)\n",
        "    h = self.dense2(h)\n",
        "    return tf.reshape(h, (batch_size, seq_len))"
      ]
    },
    {
      "cell_type": "code",
      "execution_count": 80,
      "metadata": {
        "colab": {
          "base_uri": "https://localhost:8080/"
        },
        "id": "zwNcg2ssu7xY",
        "outputId": "b837f19a-552e-461e-c63d-c85ececa3749"
      },
      "outputs": [
        {
          "name": "stdout",
          "output_type": "stream",
          "text": [
            "tf.Tensor(\n",
            "[[ True  True  True ...  True  True False]\n",
            " [ True  True  True ...  True  True False]\n",
            " [ True  True  True ...  True  True False]\n",
            " ...\n",
            " [ True  True  True ...  True  True False]\n",
            " [ True  True  True ...  True  True  True]\n",
            " [ True  True  True ...  True False False]], shape=(128, 10), dtype=bool)\n"
          ]
        },
        {
          "data": {
            "text/plain": [
              "TensorShape([128, 10])"
            ]
          },
          "execution_count": 80,
          "metadata": {},
          "output_type": "execute_result"
        }
      ],
      "source": [
        "# Test\n",
        "\n",
        "classifier_head = ClassifierHead(D_MODEL, dropout_rate=0.1, units=32)\n",
        "head_out = classifier_head(enc_block_out)\n",
        "print(head_out._keras_mask)\n",
        "head_out.shape"
      ]
    },
    {
      "cell_type": "markdown",
      "metadata": {
        "id": "rkJBE8-D6CUP"
      },
      "source": [
        "# Transformer Model"
      ]
    },
    {
      "cell_type": "code",
      "execution_count": 81,
      "metadata": {
        "id": "yyGB_3NM3z1c"
      },
      "outputs": [],
      "source": [
        "class Transformer(Model):\n",
        "\n",
        "  def __init__(self, d_model, seq_len, max_tokens, num_heads, key_dim, ff_dim, dropout_rate, units,\n",
        "               textvectorization, name='transformer', **kwargs):\n",
        "    super().__init__(name=name, **kwargs)\n",
        "    self.d_model = d_model\n",
        "    self.seq_len = seq_len\n",
        "    self.max_tokens = max_tokens\n",
        "    self.num_heads = num_heads\n",
        "    self.key_dim = key_dim\n",
        "    self.ff_dim = ff_dim\n",
        "    self.dropout_rate = dropout_rate\n",
        "    self.units = units\n",
        "    self.textvectorization = textvectorization\n",
        "    self.input_embeddings = InputEmbeddings(d_model, positional_encodings(seq_len, d_model),\n",
        "                                            max_tokens)\n",
        "    self.encoder_block = EncoderBlock(num_heads=num_heads, key_dim=key_dim, d_model=d_model, ff_dim=ff_dim)\n",
        "    self.classifier_head = ClassifierHead(d_model, dropout_rate=dropout_rate, units=units)\n",
        "\n",
        "  def train_step(self, data):\n",
        "    inputs, y_true = data\n",
        "    with tf.GradientTape() as tape:\n",
        "      y_pred = self(inputs)\n",
        "      loss = self.compiled_loss(y_true, y_pred, regularization_losses=self.losses)\n",
        "    grads = tape.gradient(loss, self.trainable_variables)\n",
        "    self.optimizer.apply_gradients(zip(grads, self.trainable_variables))\n",
        "    self.compiled_metrics.update_state(y_true, y_pred)\n",
        "    return {m.name: m.result() for m in self.metrics} \n",
        "\n",
        "  def test_step(self, data):\n",
        "    inputs, y_true = data\n",
        "    y_pred = self(inputs)\n",
        "    loss = self.compiled_loss(y_true, y_pred, regularization_losses=self.losses)\n",
        "    self.compiled_metrics.update_state(y_true, y_pred)\n",
        "    return {m.name: m.result() for m in self.metrics} \n",
        "\n",
        "  def call(self, inputs):\n",
        "    h = self.textvectorization(inputs)\n",
        "    h = self.input_embeddings(h)\n",
        "    h = self.encoder_block(h)\n",
        "    h = self.classifier_head(h)\n",
        "    return h"
      ]
    },
    {
      "cell_type": "code",
      "execution_count": 82,
      "metadata": {
        "colab": {
          "base_uri": "https://localhost:8080/"
        },
        "id": "WCejkQS_u-M8",
        "outputId": "56d03f77-8938-476b-87de-83aa65bccd90"
      },
      "outputs": [
        {
          "name": "stdout",
          "output_type": "stream",
          "text": [
            "Model: \"transformer\"\n",
            "_________________________________________________________________\n",
            " Layer (type)                Output Shape              Param #   \n",
            "=================================================================\n",
            " text_vectorization_4 (TextV  multiple                 0         \n",
            " ectorization)                                                   \n",
            "                                                                 \n",
            " input_embeddings (InputEmbe  multiple                 128       \n",
            " ddings)                                                         \n",
            "                                                                 \n",
            " encoder_block (EncoderBlock  multiple                 6464      \n",
            " )                                                               \n",
            "                                                                 \n",
            " classifier_head (Classifier  multiple                 681       \n",
            " Head)                                                           \n",
            "                                                                 \n",
            "=================================================================\n",
            "Total params: 7,273\n",
            "Trainable params: 7,273\n",
            "Non-trainable params: 0\n",
            "_________________________________________________________________\n"
          ]
        }
      ],
      "source": [
        "NUM_HEADS = 2\n",
        "KEY_DIM = 16\n",
        "FF_DIM = 32\n",
        "DROPOUT_RATE = 0.1\n",
        "UNITS = 20\n",
        "\n",
        "# transformer = Sequential([\n",
        "#     textvectorization,\n",
        "#     InputEmbeddings(D_MODEL, positional_encodings(SEQ_LEN, D_MODEL), MAX_TOKENS, input_shape=(SEQ_LEN,)),\n",
        "#     EncoderBlock(num_heads=2, key_dim=16, d_model=D_MODEL, ff_dim=32),\n",
        "#     ClassifierHead(D_MODEL, dropout_rate=0.1, units=20)\n",
        "# ])\n",
        "transformer = Transformer(D_MODEL, SEQ_LEN, MAX_TOKENS, NUM_HEADS, KEY_DIM, FF_DIM,\n",
        "                          DROPOUT_RATE, UNITS, textvectorization)\n",
        "_ = transformer(test_inputs)\n",
        "transformer.summary()"
      ]
    },
    {
      "cell_type": "code",
      "execution_count": 83,
      "metadata": {
        "colab": {
          "base_uri": "https://localhost:8080/"
        },
        "id": "8i1w9P6w1jb9",
        "outputId": "50fb4118-ecb1-4fa0-d174-fc7e55630215"
      },
      "outputs": [
        {
          "data": {
            "text/plain": [
              "TensorShape([128, 10])"
            ]
          },
          "execution_count": 83,
          "metadata": {},
          "output_type": "execute_result"
        }
      ],
      "source": [
        "# Test\n",
        "\n",
        "transformer_out = transformer(test_inputs)\n",
        "transformer_out.shape"
      ]
    },
    {
      "cell_type": "code",
      "execution_count": 84,
      "metadata": {
        "colab": {
          "base_uri": "https://localhost:8080/"
        },
        "id": "RziHQfys1zPF",
        "outputId": "940aa7db-12ab-4e17-fb0e-812e7b6195cb"
      },
      "outputs": [
        {
          "data": {
            "text/plain": [
              "<tf.Tensor: shape=(128, 10), dtype=bool, numpy=\n",
              "array([[ True,  True,  True, ...,  True,  True, False],\n",
              "       [ True,  True,  True, ...,  True,  True, False],\n",
              "       [ True,  True,  True, ...,  True,  True, False],\n",
              "       ...,\n",
              "       [ True,  True,  True, ...,  True,  True, False],\n",
              "       [ True,  True,  True, ...,  True,  True,  True],\n",
              "       [ True,  True,  True, ...,  True, False, False]])>"
            ]
          },
          "execution_count": 84,
          "metadata": {},
          "output_type": "execute_result"
        }
      ],
      "source": [
        "transformer_out._keras_mask"
      ]
    },
    {
      "cell_type": "code",
      "execution_count": 85,
      "metadata": {
        "id": "U1MdOQR3voyC"
      },
      "outputs": [],
      "source": [
        "def masked_binary_crossentropy(y_true, y_pred):\n",
        "  \"\"\"\n",
        "  y_true: shape (batch_size, seq_len). 1. = no space, 2. = space\n",
        "  y_pred: shape (batch_size, seq_len, 1). Logits\n",
        "  \"\"\"\n",
        "  labels = y_true  # 0 = no space, 1 = space\n",
        "  mask = tf.not_equal(labels, -1)\n",
        "  labels = tf.ragged.boolean_mask(labels, mask)\n",
        "  # Deal with Keras 'feature' that squeezes out the last dimension silently (WTF)\n",
        "  # if tf.shape(y_pred)[-1] == 1:  \n",
        "  #   logits = tf.squeeze(y_pred, axis=-1)  # (batch_size, seq_len)\n",
        "  # else:\n",
        "  logits = y_pred\n",
        "  logits = tf.ragged.boolean_mask(logits, mask)\n",
        "  probs = tf.nn.sigmoid(logits)\n",
        "  bce = - labels * tf.math.log(probs) - ((1 - labels) * tf.math.log(1 - probs))\n",
        "\n",
        "  return tf.reduce_mean(tf.reduce_mean(bce, axis=-1))"
      ]
    },
    {
      "cell_type": "code",
      "execution_count": 89,
      "metadata": {},
      "outputs": [
        {
          "data": {
            "text/plain": [
              "(<tf.Tensor: shape=(), dtype=int32, numpy=1126>,\n",
              " <tf.Tensor: shape=(), dtype=int32, numpy=1126>,\n",
              " <tf.Tensor: shape=(), dtype=int64, numpy=1126>)"
            ]
          },
          "execution_count": 89,
          "metadata": {},
          "output_type": "execute_result"
        }
      ],
      "source": [
        "mask = tf.not_equal(test_outputs, -1)\n",
        "masked_labels = tf.ragged.boolean_mask(test_outputs, mask)\n",
        "masked_preds = tf.ragged.boolean_mask(transformer_out, mask)\n",
        "tf.size(masked_preds), tf.size(masked_labels), tf.math.count_nonzero(test_outputs+1)"
      ]
    },
    {
      "cell_type": "code",
      "execution_count": 90,
      "metadata": {
        "colab": {
          "base_uri": "https://localhost:8080/"
        },
        "id": "OQllI6hc2TXe",
        "outputId": "0374f3d9-bd49-469d-8874-96597950d805"
      },
      "outputs": [
        {
          "data": {
            "text/plain": [
              "<tf.Tensor: shape=(), dtype=float32, numpy=0.5204264>"
            ]
          },
          "execution_count": 90,
          "metadata": {},
          "output_type": "execute_result"
        }
      ],
      "source": [
        "# Test\n",
        "\n",
        "masked_binary_crossentropy(test_outputs, transformer_out)"
      ]
    },
    {
      "cell_type": "code",
      "execution_count": 91,
      "metadata": {
        "colab": {
          "base_uri": "https://localhost:8080/"
        },
        "id": "TMrac9fG8DGi",
        "outputId": "037bff38-52de-4423-d104-ded7c6eea3f0"
      },
      "outputs": [
        {
          "data": {
            "text/plain": [
              "<tf.Tensor: shape=(), dtype=float32, numpy=0.5161548>"
            ]
          },
          "execution_count": 91,
          "metadata": {},
          "output_type": "execute_result"
        }
      ],
      "source": [
        "for test_inputs, test_outputs in train_ds.take(1):\n",
        "  y_pred = transformer(test_inputs)\n",
        "  loss = masked_binary_crossentropy(test_outputs, y_pred)\n",
        "\n",
        "loss"
      ]
    },
    {
      "cell_type": "code",
      "execution_count": 92,
      "metadata": {
        "colab": {
          "base_uri": "https://localhost:8080/"
        },
        "id": "XWyMnokQxbq4",
        "outputId": "e2b320a3-bc02-4857-a771-8a2ef7d60fe4"
      },
      "outputs": [
        {
          "name": "stdout",
          "output_type": "stream",
          "text": [
            "Epoch 1/20\n"
          ]
        },
        {
          "name": "stderr",
          "output_type": "stream",
          "text": [
            "/home/ma/a/al3615/tf_210/lib/python3.8/site-packages/tensorflow/python/framework/indexed_slices.py:444: UserWarning: Converting sparse IndexedSlices(IndexedSlices(indices=Tensor(\"gradient_tape/masked_binary_crossentropy/Reshape_4:0\", shape=(None,), dtype=int64), values=Tensor(\"gradient_tape/masked_binary_crossentropy/Reshape_3:0\", shape=(None,), dtype=float32), dense_shape=Tensor(\"gradient_tape/masked_binary_crossentropy/Cast_1:0\", shape=(1,), dtype=int32))) to a dense Tensor of unknown shape. This may consume a large amount of memory.\n",
            "  warnings.warn(\n",
            "/home/ma/a/al3615/tf_210/lib/python3.8/site-packages/tensorflow/python/framework/indexed_slices.py:444: UserWarning: Converting sparse IndexedSlices(IndexedSlices(indices=Tensor(\"gradient_tape/masked_binary_crossentropy/Reshape_6:0\", shape=(None,), dtype=int64), values=Tensor(\"gradient_tape/masked_binary_crossentropy/Reshape_5:0\", shape=(None,), dtype=float32), dense_shape=Tensor(\"gradient_tape/masked_binary_crossentropy/Cast_2:0\", shape=(1,), dtype=int32))) to a dense Tensor of unknown shape. This may consume a large amount of memory.\n",
            "  warnings.warn(\n",
            "/home/ma/a/al3615/tf_210/lib/python3.8/site-packages/tensorflow/python/framework/indexed_slices.py:444: UserWarning: Converting sparse IndexedSlices(IndexedSlices(indices=Tensor(\"gradient_tape/masked_binary_crossentropy/Reshape_10:0\", shape=(None,), dtype=int64), values=Tensor(\"gradient_tape/masked_binary_crossentropy/Reshape_9:0\", shape=(None,), dtype=float32), dense_shape=Tensor(\"gradient_tape/masked_binary_crossentropy/Cast_3:0\", shape=(1,), dtype=int32))) to a dense Tensor of unknown shape. This may consume a large amount of memory.\n",
            "  warnings.warn(\n",
            "/home/ma/a/al3615/tf_210/lib/python3.8/site-packages/tensorflow/python/framework/indexed_slices.py:444: UserWarning: Converting sparse IndexedSlices(IndexedSlices(indices=Tensor(\"gradient_tape/masked_binary_crossentropy/Reshape_12:0\", shape=(None,), dtype=int64), values=Tensor(\"gradient_tape/masked_binary_crossentropy/Reshape_11:0\", shape=(None,), dtype=float32), dense_shape=Tensor(\"gradient_tape/masked_binary_crossentropy/Cast_4:0\", shape=(1,), dtype=int32))) to a dense Tensor of unknown shape. This may consume a large amount of memory.\n",
            "  warnings.warn(\n"
          ]
        },
        {
          "name": "stdout",
          "output_type": "stream",
          "text": [
            "59/59 [==============================] - 9s 73ms/step - loss: 0.3258 - binary_accuracy: 0.8824 - precision_2: 0.0000e+00 - recall_2: 0.0000e+00 - auc_2: 0.1176 - val_loss: 0.3058 - val_binary_accuracy: 0.8844 - val_precision_2: 0.0000e+00 - val_recall_2: 0.0000e+00 - val_auc_2: 0.1156\n",
            "Epoch 2/20\n",
            "59/59 [==============================] - 2s 37ms/step - loss: 0.2766 - binary_accuracy: 0.8824 - precision_2: 0.0000e+00 - recall_2: 0.0000e+00 - auc_2: 0.1318 - val_loss: 0.2419 - val_binary_accuracy: 0.8844 - val_precision_2: 0.0000e+00 - val_recall_2: 0.0000e+00 - val_auc_2: 0.1312\n",
            "Epoch 3/20\n",
            "59/59 [==============================] - 2s 37ms/step - loss: 0.2061 - binary_accuracy: 0.8907 - precision_2: 0.9465 - recall_2: 0.0747 - auc_2: 0.3215 - val_loss: 0.1088 - val_binary_accuracy: 0.9380 - val_precision_2: 0.9869 - val_recall_2: 0.4700 - val_auc_2: 0.8260\n",
            "Epoch 4/20\n",
            "59/59 [==============================] - 2s 38ms/step - loss: 0.0523 - binary_accuracy: 0.9776 - precision_2: 0.9790 - recall_2: 0.8270 - auc_2: 0.9079 - val_loss: 0.0227 - val_binary_accuracy: 0.9884 - val_precision_2: 0.9991 - val_recall_2: 0.9004 - val_auc_2: 0.9682\n",
            "Epoch 5/20\n",
            "59/59 [==============================] - 2s 38ms/step - loss: 0.0165 - binary_accuracy: 0.9953 - precision_2: 0.9923 - recall_2: 0.9673 - auc_2: 0.9810 - val_loss: 0.0111 - val_binary_accuracy: 0.9987 - val_precision_2: 0.9938 - val_recall_2: 0.9953 - val_auc_2: 0.9933\n",
            "Epoch 6/20\n",
            "59/59 [==============================] - 2s 36ms/step - loss: 0.0085 - binary_accuracy: 0.9981 - precision_2: 0.9943 - recall_2: 0.9899 - auc_2: 0.9902 - val_loss: 0.0053 - val_binary_accuracy: 0.9993 - val_precision_2: 0.9992 - val_recall_2: 0.9946 - val_auc_2: 0.9953\n",
            "Epoch 7/20\n",
            "59/59 [==============================] - 2s 38ms/step - loss: 0.0057 - binary_accuracy: 0.9985 - precision_2: 0.9964 - recall_2: 0.9905 - auc_2: 0.9915 - val_loss: 0.0039 - val_binary_accuracy: 0.9991 - val_precision_2: 0.9961 - val_recall_2: 0.9961 - val_auc_2: 0.9949\n",
            "Epoch 8/20\n",
            "59/59 [==============================] - 2s 37ms/step - loss: 0.0035 - binary_accuracy: 0.9989 - precision_2: 0.9985 - recall_2: 0.9919 - auc_2: 0.9953 - val_loss: 0.0025 - val_binary_accuracy: 0.9995 - val_precision_2: 1.0000 - val_recall_2: 0.9953 - val_auc_2: 0.9966\n",
            "Epoch 9/20\n",
            "59/59 [==============================] - 2s 37ms/step - loss: 9.0112e-04 - binary_accuracy: 0.9998 - precision_2: 0.9999 - recall_2: 0.9983 - auc_2: 0.9992 - val_loss: 5.5325e-04 - val_binary_accuracy: 1.0000 - val_precision_2: 1.0000 - val_recall_2: 1.0000 - val_auc_2: 1.0000\n",
            "Epoch 10/20\n",
            "59/59 [==============================] - 2s 36ms/step - loss: 5.1836e-04 - binary_accuracy: 0.9999 - precision_2: 0.9999 - recall_2: 0.9994 - auc_2: 0.9998 - val_loss: 3.6839e-04 - val_binary_accuracy: 1.0000 - val_precision_2: 1.0000 - val_recall_2: 1.0000 - val_auc_2: 1.0000\n",
            "Epoch 11/20\n",
            "59/59 [==============================] - 2s 38ms/step - loss: 3.5245e-04 - binary_accuracy: 1.0000 - precision_2: 1.0000 - recall_2: 1.0000 - auc_2: 1.0000 - val_loss: 3.5331e-04 - val_binary_accuracy: 1.0000 - val_precision_2: 1.0000 - val_recall_2: 1.0000 - val_auc_2: 1.0000\n"
          ]
        }
      ],
      "source": [
        "from tensorflow.keras.metrics import BinaryAccuracy, Precision, Recall, AUC\n",
        "\n",
        "earlystopping = EarlyStopping(patience=2, monitor=\"val_binary_accuracy\")\n",
        "transformer.compile(loss=masked_binary_crossentropy, optimizer='adam',\n",
        "                    metrics=[BinaryAccuracy(), Precision(), Recall(), AUC(curve='PR')])\n",
        "\n",
        "history = transformer.fit(train_ds, validation_data=valid_ds, epochs=20, callbacks=[earlystopping])"
      ]
    },
    {
      "cell_type": "code",
      "execution_count": 93,
      "metadata": {
        "colab": {
          "base_uri": "https://localhost:8080/"
        },
        "id": "EQgPCkRf72zt",
        "outputId": "81df67f0-e887-44c2-eb44-8a6d7c72d7b4"
      },
      "outputs": [
        {
          "name": "stdout",
          "output_type": "stream",
          "text": [
            "10/10 [==============================] - 0s 20ms/step - loss: 3.6143e-04 - binary_accuracy: 0.9998 - precision_2: 1.0000 - recall_2: 0.9985 - auc_2: 1.0000\n"
          ]
        },
        {
          "data": {
            "text/plain": [
              "{'loss': 0.000361427606549114,\n",
              " 'binary_accuracy': 0.999818742275238,\n",
              " 'precision_2': 1.0,\n",
              " 'recall_2': 0.9984732866287231,\n",
              " 'auc_2': 1.0}"
            ]
          },
          "execution_count": 93,
          "metadata": {},
          "output_type": "execute_result"
        }
      ],
      "source": [
        "transformer.evaluate(test_ds, return_dict=True)"
      ]
    },
    {
      "cell_type": "code",
      "execution_count": 96,
      "metadata": {
        "colab": {
          "base_uri": "https://localhost:8080/"
        },
        "id": "cbMJx_s-_-ln",
        "outputId": "0501e219-83ef-4fae-9995-06a06bcce6c9"
      },
      "outputs": [
        {
          "data": {
            "text/plain": [
              "<tf.Tensor: shape=(1, 10), dtype=float32, numpy=\n",
              "array([[-16.101921 ,   8.424156 , -16.31965  ,   7.079254 , -15.455793 ,\n",
              "          7.912379 , -14.113033 , -15.557617 , -14.983434 ,   1.1651477]],\n",
              "      dtype=float32)>"
            ]
          },
          "execution_count": 96,
          "metadata": {},
          "output_type": "execute_result"
        }
      ],
      "source": [
        "transformer(['454545'+' '*(SEQ_LEN-6)])"
      ]
    },
    {
      "cell_type": "code",
      "execution_count": null,
      "metadata": {
        "id": "5AcBR0pFKBUP"
      },
      "outputs": [],
      "source": []
    }
  ],
  "metadata": {
    "accelerator": "GPU",
    "colab": {
      "provenance": []
    },
    "gpuClass": "standard",
    "kernelspec": {
      "display_name": "tf_210",
      "language": "python",
      "name": "python3"
    },
    "language_info": {
      "codemirror_mode": {
        "name": "ipython",
        "version": 3
      },
      "file_extension": ".py",
      "mimetype": "text/x-python",
      "name": "python",
      "nbconvert_exporter": "python",
      "pygments_lexer": "ipython3",
      "version": "3.8.10"
    },
    "vscode": {
      "interpreter": {
        "hash": "4c2409f7cd36a60864259fe7c86cc6f7edd5e2a0604f36f600c4aba8b227f5d5"
      }
    }
  },
  "nbformat": 4,
  "nbformat_minor": 0
}
