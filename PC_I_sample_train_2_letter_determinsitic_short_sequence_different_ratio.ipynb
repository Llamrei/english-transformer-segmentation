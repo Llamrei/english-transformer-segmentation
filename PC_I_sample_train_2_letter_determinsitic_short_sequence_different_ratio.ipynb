{
 "cells": [
  {
   "cell_type": "code",
   "execution_count": 1,
   "metadata": {},
   "outputs": [
    {
     "name": "stderr",
     "output_type": "stream",
     "text": [
      "2023-02-21 17:49:45.135062: I tensorflow/core/platform/cpu_feature_guard.cc:193] This TensorFlow binary is optimized with oneAPI Deep Neural Network Library (oneDNN) to use the following CPU instructions in performance-critical operations:  AVX2 AVX512F AVX512_VNNI FMA\n",
      "To enable them in other operations, rebuild TensorFlow with the appropriate compiler flags.\n",
      "2023-02-21 17:49:45.277421: I tensorflow/core/util/util.cc:169] oneDNN custom operations are on. You may see slightly different numerical results due to floating-point round-off errors from different computation orders. To turn them off, set the environment variable `TF_ENABLE_ONEDNN_OPTS=0`.\n",
      "2023-02-21 17:49:45.312998: E tensorflow/stream_executor/cuda/cuda_blas.cc:2981] Unable to register cuBLAS factory: Attempting to register factory for plugin cuBLAS when one has already been registered\n",
      "2023-02-21 17:49:45.958556: W tensorflow/stream_executor/platform/default/dso_loader.cc:64] Could not load dynamic library 'libnvinfer.so.7'; dlerror: libnvinfer.so.7: cannot open shared object file: No such file or directory\n",
      "2023-02-21 17:49:45.958620: W tensorflow/stream_executor/platform/default/dso_loader.cc:64] Could not load dynamic library 'libnvinfer_plugin.so.7'; dlerror: libnvinfer_plugin.so.7: cannot open shared object file: No such file or directory\n",
      "2023-02-21 17:49:45.958627: W tensorflow/compiler/tf2tensorrt/utils/py_utils.cc:38] TF-TRT Warning: Cannot dlopen some TensorRT libraries. If you would like to use Nvidia GPU with TensorRT, please make sure the missing libraries mentioned above are installed properly.\n"
     ]
    }
   ],
   "source": [
    "import logging\n",
    "import tensorflow as tf\n",
    "\n",
    "\n",
    "GPU_FROM = 3\n",
    "GPU_TO = 4  \n",
    "\n",
    "visible_devices = tf.config.get_visible_devices('GPU')\n",
    "logging.info(f\"Num GPUs visible:{len(visible_devices)}\")\n",
    "tf.config.set_visible_devices(visible_devices[GPU_FROM:GPU_TO],'GPU')\n",
    "\n",
    "visible_devices = tf.config.get_visible_devices('GPU')\n",
    "logging.info(f\"Num GPUs to be used: {len(visible_devices)}\")"
   ]
  },
  {
   "cell_type": "code",
   "execution_count": 2,
   "metadata": {},
   "outputs": [
    {
     "name": "stdout",
     "output_type": "stream",
     "text": [
      "tf.Tensor(b'55555', shape=(), dtype=string)\n",
      "tf.Tensor(b'445 45 ', shape=(), dtype=string)\n",
      "tf.Tensor(b'55554', shape=(), dtype=string)\n",
      "tf.Tensor(b'4445 5', shape=(), dtype=string)\n",
      "tf.Tensor(b'5445 4', shape=(), dtype=string)\n"
     ]
    },
    {
     "name": "stderr",
     "output_type": "stream",
     "text": [
      "2023-02-21 17:49:47.248454: I tensorflow/core/platform/cpu_feature_guard.cc:193] This TensorFlow binary is optimized with oneAPI Deep Neural Network Library (oneDNN) to use the following CPU instructions in performance-critical operations:  AVX2 AVX512F AVX512_VNNI FMA\n",
      "To enable them in other operations, rebuild TensorFlow with the appropriate compiler flags.\n",
      "2023-02-21 17:49:47.960041: I tensorflow/core/common_runtime/gpu/gpu_device.cc:1616] Created device /job:localhost/replica:0/task:0/device:GPU:0 with 22296 MB memory:  -> device: 3, name: GeForce RTX 3090, pci bus id: 0000:d8:00.0, compute capability: 8.6\n"
     ]
    }
   ],
   "source": [
    "\n",
    "from segmentation.model import SpaceSegmentationTransformer\n",
    "from segmentation.model import LossWithVoids\n",
    "GLOBAL_MAX_SEQ_LEN = 5\n",
    "data = tf.random.stateless_binomial(shape=(10000, GLOBAL_MAX_SEQ_LEN), counts=1, probs=0.65, seed=[1997,1997])+1\n",
    "train_frac = int(data.shape[0]*3/4)\n",
    "\n",
    "train_ds, val_ds = tf.data.Dataset.from_tensor_slices(data[:train_frac]), tf.data.Dataset.from_tensor_slices(data[train_frac:])\n",
    "\n",
    "def mapper(y):\n",
    "    x = tf.strings.as_string(y+3)\n",
    "    x = tf.strings.reduce_join(x, axis=-1)\n",
    "    return tf.strings.regex_replace(x, \"(45)\", r\"\\1 \")\n",
    "\n",
    "train_ds = train_ds.map(mapper)\n",
    "val_ds = val_ds.map(mapper)\n",
    "\n",
    "for f in train_ds.take(5):\n",
    "    print(f)"
   ]
  },
  {
   "cell_type": "code",
   "execution_count": 3,
   "metadata": {},
   "outputs": [],
   "source": [
    "def generate_labels(text):\n",
    "    max_chars = GLOBAL_MAX_SEQ_LEN\n",
    "    last_char = tf.strings.substr(text, max_chars, max_chars+1)\n",
    "    text = tf.strings.substr(text,0, max_chars)\n",
    "    text = tf.strings.lower(text)\n",
    "    split_on_whitespace = tf.strings.strip(tf.strings.split(text))\n",
    "    encoder_in = tf.strings.reduce_join(split_on_whitespace, axis=-1)\n",
    "    \n",
    "    space_indices = tf.math.cumsum(tf.strings.length(split_on_whitespace)) - 1 # subtract 1 to index from 0\n",
    "    seq_len = space_indices[-1] + 1\n",
    "    if not tf.strings.regex_full_match(last_char, \" \"):\n",
    "        space_indices = space_indices[:-1]\n",
    "    encoder_out = tf.ones((max_chars,))\n",
    "    encoder_out = tf.concat([\n",
    "        tf.ones((seq_len,)),\n",
    "        tf.zeros((max_chars - seq_len,))\n",
    "    ], axis=-1)\n",
    "    encoder_out = tf.tensor_scatter_nd_update(\n",
    "        encoder_out, \n",
    "        space_indices[...,tf.newaxis], # Expand dims to create a 'list' of indices\n",
    "        tf.ones_like(space_indices, dtype=encoder_out.dtype)*2) \n",
    "    \n",
    "    return (encoder_in, None), tf.cast(encoder_out, \"float16\")\n",
    "\n",
    "train_ds = train_ds.map(generate_labels)\n",
    "val_ds = val_ds.map(generate_labels)"
   ]
  },
  {
   "cell_type": "code",
   "execution_count": 4,
   "metadata": {},
   "outputs": [
    {
     "name": "stdout",
     "output_type": "stream",
     "text": [
      "((<tf.Tensor: shape=(), dtype=string, numpy=b'55555'>, None), <tf.Tensor: shape=(5,), dtype=float16, numpy=array([1., 1., 1., 1., 1.], dtype=float16)>)\n",
      "((<tf.Tensor: shape=(), dtype=string, numpy=b'4454'>, None), <tf.Tensor: shape=(5,), dtype=float16, numpy=array([1., 1., 2., 1., 0.], dtype=float16)>)\n",
      "((<tf.Tensor: shape=(), dtype=string, numpy=b'55554'>, None), <tf.Tensor: shape=(5,), dtype=float16, numpy=array([1., 1., 1., 1., 1.], dtype=float16)>)\n",
      "((<tf.Tensor: shape=(), dtype=string, numpy=b'4445'>, None), <tf.Tensor: shape=(5,), dtype=float16, numpy=array([1., 1., 1., 1., 0.], dtype=float16)>)\n"
     ]
    }
   ],
   "source": [
    "\n",
    "for f in train_ds.take(4):\n",
    "    print(f)"
   ]
  },
  {
   "cell_type": "code",
   "execution_count": 5,
   "metadata": {},
   "outputs": [
    {
     "data": {
      "text/plain": [
       "['', '[UNK]', '5', '4']"
      ]
     },
     "execution_count": 5,
     "metadata": {},
     "output_type": "execute_result"
    }
   ],
   "source": [
    "tokenizer = tf.keras.layers.TextVectorization(\n",
    "    output_sequence_length=GLOBAL_MAX_SEQ_LEN,\n",
    "    standardize=\"lower_and_strip_punctuation\",\n",
    "    split=\"character\",\n",
    "    output_mode=\"int\",\n",
    ")\n",
    "\n",
    "tokenizer.adapt(train_ds.take(10).map(lambda x,y: x[0]))\n",
    "tokenizer.get_vocabulary()"
   ]
  },
  {
   "cell_type": "code",
   "execution_count": 6,
   "metadata": {},
   "outputs": [
    {
     "data": {
      "text/plain": [
       "<tf.Tensor: shape=(5,), dtype=int64, numpy=array([3, 3, 3, 3, 3])>"
      ]
     },
     "execution_count": 6,
     "metadata": {},
     "output_type": "execute_result"
    }
   ],
   "source": [
    "tokenizer(\"44444455555\")"
   ]
  },
  {
   "cell_type": "code",
   "execution_count": 7,
   "metadata": {},
   "outputs": [],
   "source": [
    "model = SpaceSegmentationTransformer(\n",
    "    num_layers=2,\n",
    "    d_model=512,\n",
    "    num_attention_heads=3,\n",
    "    seq_len=GLOBAL_MAX_SEQ_LEN,\n",
    "    dff=1028,\n",
    "    input_tokenizer=tokenizer,\n",
    "    dropout_rate=0.1,\n",
    "    num_classes = 3\n",
    ")"
   ]
  },
  {
   "cell_type": "code",
   "execution_count": 8,
   "metadata": {},
   "outputs": [],
   "source": [
    "from segmentation.metrics import SparseAccuracyWithIgnore\n",
    "from segmentation.metrics import SparsePrecision\n",
    "from segmentation.metrics import SparseRecall\n",
    "from segmentation.metrics import SparseF1\n",
    "\n",
    "model.compile(\n",
    "    optimizer=\"adam\",\n",
    "    loss=tf.keras.losses.SparseCategoricalCrossentropy(from_logits=False, ignore_class=0), # Why can I not ignore class 0?\n",
    "    metrics=[\n",
    "        SparseAccuracyWithIgnore(ignore_token=0),\n",
    "        SparsePrecision(class_id=2, name=\"space_precision\"),\n",
    "        SparseRecall(class_id=2, name=\"space_recall\"),\n",
    "        SparseF1(class_id=2, name=\"space_f1\"),\n",
    "        SparsePrecision(class_id=1, name=\"char_precision\"),\n",
    "        SparseRecall(class_id=1, name=\"char_recall\"),\n",
    "        SparseF1(class_id=1, name=\"char_f1\"),\n",
    "    ]\n",
    ")"
   ]
  },
  {
   "cell_type": "code",
   "execution_count": 9,
   "metadata": {},
   "outputs": [
    {
     "name": "stdout",
     "output_type": "stream",
     "text": [
      "Epoch 1/10\n",
      "  7/938 [..............................] - ETA: 21s - loss: 2.6217 - sparse_categorical_accuracy: 0.6371 - space_precision: 0.0435 - space_recall: 0.0625 - space_f1: 0.0513 - char_precision: 0.7464 - char_recall: 0.7222 - char_f1: 0.7341        "
     ]
    },
    {
     "name": "stderr",
     "output_type": "stream",
     "text": [
      "2023-02-21 17:49:54.642254: I tensorflow/stream_executor/cuda/cuda_blas.cc:1614] TensorFloat-32 will be used for the matrix multiplication. This will only be logged once.\n"
     ]
    },
    {
     "name": "stdout",
     "output_type": "stream",
     "text": [
      "938/938 [==============================] - 30s 28ms/step - loss: 0.4107 - sparse_categorical_accuracy: 0.8662 - space_precision: 0.1000 - space_recall: 0.0016 - space_f1: 0.0032 - char_precision: 0.7588 - char_recall: 0.9974 - char_f1: 0.8619 - val_loss: 0.3830 - val_sparse_categorical_accuracy: 0.8677 - val_space_precision: 0.0000e+00 - val_space_recall: 0.0000e+00 - val_space_f1: nan - val_char_precision: 0.7588 - val_char_recall: 1.0000 - val_char_f1: 0.8629\n",
      "Epoch 2/10\n",
      "938/938 [==============================] - 25s 26ms/step - loss: 0.3781 - sparse_categorical_accuracy: 0.8682 - space_precision: 0.0000e+00 - space_recall: 0.0000e+00 - space_f1: nan - char_precision: 0.7588 - char_recall: 0.9999 - char_f1: 0.8629 - val_loss: 0.3734 - val_sparse_categorical_accuracy: 0.8677 - val_space_precision: 0.0000e+00 - val_space_recall: 0.0000e+00 - val_space_f1: nan - val_char_precision: 0.7588 - val_char_recall: 1.0000 - val_char_f1: 0.8629\n",
      "Epoch 3/10\n",
      "938/938 [==============================] - 24s 26ms/step - loss: 0.3764 - sparse_categorical_accuracy: 0.8683 - space_precision: 0.0000e+00 - space_recall: 0.0000e+00 - space_f1: nan - char_precision: 0.7588 - char_recall: 1.0000 - char_f1: 0.8629 - val_loss: 0.3843 - val_sparse_categorical_accuracy: 0.8677 - val_space_precision: 0.0000e+00 - val_space_recall: 0.0000e+00 - val_space_f1: nan - val_char_precision: 0.7588 - val_char_recall: 1.0000 - val_char_f1: 0.8629\n",
      "Epoch 4/10\n",
      "938/938 [==============================] - 24s 26ms/step - loss: 0.3758 - sparse_categorical_accuracy: 0.8682 - space_precision: 0.0000e+00 - space_recall: 0.0000e+00 - space_f1: nan - char_precision: 0.7588 - char_recall: 1.0000 - char_f1: 0.8629 - val_loss: 0.3733 - val_sparse_categorical_accuracy: 0.8677 - val_space_precision: 0.0000e+00 - val_space_recall: 0.0000e+00 - val_space_f1: nan - val_char_precision: 0.7588 - val_char_recall: 1.0000 - val_char_f1: 0.8629\n",
      "Epoch 5/10\n",
      "938/938 [==============================] - 24s 26ms/step - loss: 0.3740 - sparse_categorical_accuracy: 0.8683 - space_precision: 0.0000e+00 - space_recall: 0.0000e+00 - space_f1: nan - char_precision: 0.7588 - char_recall: 1.0000 - char_f1: 0.8629 - val_loss: 0.3752 - val_sparse_categorical_accuracy: 0.8677 - val_space_precision: 0.0000e+00 - val_space_recall: 0.0000e+00 - val_space_f1: nan - val_char_precision: 0.7588 - val_char_recall: 1.0000 - val_char_f1: 0.8629\n",
      "Epoch 6/10\n",
      "938/938 [==============================] - 24s 26ms/step - loss: 0.3740 - sparse_categorical_accuracy: 0.8683 - space_precision: 0.0000e+00 - space_recall: 0.0000e+00 - space_f1: nan - char_precision: 0.7588 - char_recall: 1.0000 - char_f1: 0.8629 - val_loss: 0.3752 - val_sparse_categorical_accuracy: 0.8677 - val_space_precision: 0.0000e+00 - val_space_recall: 0.0000e+00 - val_space_f1: nan - val_char_precision: 0.7588 - val_char_recall: 1.0000 - val_char_f1: 0.8629\n",
      "Epoch 7/10\n",
      "938/938 [==============================] - 24s 26ms/step - loss: 0.3794 - sparse_categorical_accuracy: 0.8683 - space_precision: 0.0000e+00 - space_recall: 0.0000e+00 - space_f1: nan - char_precision: 0.7588 - char_recall: 1.0000 - char_f1: 0.8629 - val_loss: 0.3955 - val_sparse_categorical_accuracy: 0.8677 - val_space_precision: 0.0000e+00 - val_space_recall: 0.0000e+00 - val_space_f1: nan - val_char_precision: 0.7588 - val_char_recall: 1.0000 - val_char_f1: 0.8629\n",
      "Epoch 8/10\n",
      "938/938 [==============================] - 24s 26ms/step - loss: 0.3844 - sparse_categorical_accuracy: 0.8682 - space_precision: 0.0000e+00 - space_recall: 0.0000e+00 - space_f1: nan - char_precision: 0.7588 - char_recall: 0.9999 - char_f1: 0.8628 - val_loss: 0.3719 - val_sparse_categorical_accuracy: 0.8677 - val_space_precision: 0.0000e+00 - val_space_recall: 0.0000e+00 - val_space_f1: nan - val_char_precision: 0.7588 - val_char_recall: 1.0000 - val_char_f1: 0.8629\n",
      "Epoch 9/10\n",
      "938/938 [==============================] - 24s 26ms/step - loss: 0.3761 - sparse_categorical_accuracy: 0.8683 - space_precision: 0.0000e+00 - space_recall: 0.0000e+00 - space_f1: nan - char_precision: 0.7588 - char_recall: 1.0000 - char_f1: 0.8629 - val_loss: 0.3732 - val_sparse_categorical_accuracy: 0.8677 - val_space_precision: 0.0000e+00 - val_space_recall: 0.0000e+00 - val_space_f1: nan - val_char_precision: 0.7588 - val_char_recall: 1.0000 - val_char_f1: 0.8629\n",
      "Epoch 10/10\n",
      "938/938 [==============================] - 24s 26ms/step - loss: 0.3698 - sparse_categorical_accuracy: 0.8682 - space_precision: 0.0000e+00 - space_recall: 0.0000e+00 - space_f1: nan - char_precision: 0.7588 - char_recall: 1.0000 - char_f1: 0.8629 - val_loss: 0.3072 - val_sparse_categorical_accuracy: 0.8677 - val_space_precision: 0.0000e+00 - val_space_recall: 0.0000e+00 - val_space_f1: nan - val_char_precision: 0.7588 - val_char_recall: 1.0000 - val_char_f1: 0.8629\n"
     ]
    },
    {
     "data": {
      "text/plain": [
       "<keras.callbacks.History at 0x7f4368395490>"
      ]
     },
     "execution_count": 9,
     "metadata": {},
     "output_type": "execute_result"
    }
   ],
   "source": [
    "train_ds = train_ds.shuffle(100).batch(8)\n",
    "val_ds = val_ds.batch(8)\n",
    "\n",
    "model.fit(train_ds, validation_data=val_ds, epochs=10)"
   ]
  },
  {
   "cell_type": "code",
   "execution_count": 10,
   "metadata": {},
   "outputs": [
    {
     "name": "stdout",
     "output_type": "stream",
     "text": [
      "313/313 [==============================] - 4s 13ms/step - loss: 0.3072 - sparse_categorical_accuracy: 0.8677 - space_precision: 0.0000e+00 - space_recall: 0.0000e+00 - space_f1: nan - char_precision: 0.7588 - char_recall: 1.0000 - char_f1: 0.8629\n"
     ]
    },
    {
     "data": {
      "text/plain": [
       "[0.3071914613246918,\n",
       " 0.8677156567573547,\n",
       " 0.0,\n",
       " 0.0,\n",
       " nan,\n",
       " 0.7588000297546387,\n",
       " 1.0,\n",
       " 0.8628610372543335]"
      ]
     },
     "execution_count": 10,
     "metadata": {},
     "output_type": "execute_result"
    }
   ],
   "source": [
    "model.evaluate(val_ds)"
   ]
  },
  {
   "cell_type": "code",
   "execution_count": 11,
   "metadata": {},
   "outputs": [],
   "source": [
    "test_inputs = [(\"45455\", \"45444\", \"55555\"),(None,None, None)]\n",
    "preds = model(test_inputs)\n",
    "truth = tf.ragged.constant([[1,2,1,2,1], [1,2,1,1,1], [1,1,1,1,1]])\n",
    "char_conditional = (truth == 1).to_tensor(False, shape=(truth.shape[0],GLOBAL_MAX_SEQ_LEN))\n",
    "space_conditional = (truth == 2).to_tensor(False, shape=(truth.shape[0],GLOBAL_MAX_SEQ_LEN))"
   ]
  },
  {
   "cell_type": "code",
   "execution_count": 12,
   "metadata": {},
   "outputs": [
    {
     "data": {
      "text/plain": [
       "(<tf.Tensor: shape=(3, 5, 3), dtype=float32, numpy=\n",
       " array([[[5.1103105e-10, 9.8338890e-01, 1.6611146e-02],\n",
       "         [2.4217973e-06, 7.6779425e-01, 2.3220339e-01],\n",
       "         [5.1103105e-10, 9.8338890e-01, 1.6611146e-02],\n",
       "         [2.4217973e-06, 7.6779425e-01, 2.3220339e-01],\n",
       "         [2.4217973e-06, 7.6779425e-01, 2.3220339e-01]],\n",
       " \n",
       "        [[5.1470755e-10, 9.8339140e-01, 1.6608607e-02],\n",
       "         [2.4220174e-06, 7.6779592e-01, 2.3220167e-01],\n",
       "         [5.1470755e-10, 9.8339140e-01, 1.6608607e-02],\n",
       "         [5.1470755e-10, 9.8339140e-01, 1.6608607e-02],\n",
       "         [5.1470755e-10, 9.8339140e-01, 1.6608607e-02]],\n",
       " \n",
       "        [[5.4294286e-10, 9.8329329e-01, 1.6706685e-02],\n",
       "         [5.4294286e-10, 9.8329329e-01, 1.6706685e-02],\n",
       "         [5.4294286e-10, 9.8329329e-01, 1.6706685e-02],\n",
       "         [5.4294286e-10, 9.8329329e-01, 1.6706685e-02],\n",
       "         [5.4294286e-10, 9.8329329e-01, 1.6706685e-02]]], dtype=float32)>,\n",
       " <tf.Tensor: shape=(3, 5), dtype=int64, numpy=\n",
       " array([[1, 1, 1, 1, 1],\n",
       "        [1, 1, 1, 1, 1],\n",
       "        [1, 1, 1, 1, 1]])>)"
      ]
     },
     "execution_count": 12,
     "metadata": {},
     "output_type": "execute_result"
    }
   ],
   "source": [
    "preds, tf.argmax(preds, axis=-1)"
   ]
  },
  {
   "cell_type": "code",
   "execution_count": 13,
   "metadata": {},
   "outputs": [
    {
     "data": {
      "text/plain": [
       "Text(0.5, 0.98, 'Probabilities of space/char conditional on character input')"
      ]
     },
     "execution_count": 13,
     "metadata": {},
     "output_type": "execute_result"
    },
    {
     "data": {
      "image/png": "[encoded data removed]",
      "text/plain": [
       "<Figure size 640x480 with 2 Axes>"
      ]
     },
     "metadata": {},
     "output_type": "display_data"
    }
   ],
   "source": [
    "import matplotlib.pyplot as plt\n",
    "fig, axs = plt.subplots(1,2)\n",
    "prob_of_space = preds[char_conditional][...,2]\n",
    "prob_of_char = preds[char_conditional][...,1]\n",
    "axs[0].hist(prob_of_space)\n",
    "# axs[0].set_xlim(0,1)\n",
    "axs[1].hist(prob_of_char)\n",
    "# axs[1].set_xlim(0,1)\n",
    "fig.suptitle(\"Probabilities of space/char conditional on character input\")"
   ]
  },
  {
   "cell_type": "code",
   "execution_count": 14,
   "metadata": {},
   "outputs": [
    {
     "data": {
      "image/png": "[encoded data removed]",
      "text/plain": [
       "<Figure size 640x480 with 2 Axes>"
      ]
     },
     "metadata": {},
     "output_type": "display_data"
    }
   ],
   "source": [
    "fig, axs = plt.subplots(1,2)\n",
    "prob_of_space = preds[space_conditional][...,2]\n",
    "prob_of_char = preds[space_conditional][...,1]\n",
    "axs[0].hist(prob_of_space)\n",
    "# axs[0].set_xlim(0,1)\n",
    "axs[1].hist(prob_of_char)\n",
    "# axs[1].set_xlim(0,1)\n",
    "fig.suptitle(\"Probabilities of space/char conditional on space input\")\n",
    "\n",
    "fig.show()"
   ]
  },
  {
   "cell_type": "code",
   "execution_count": 15,
   "metadata": {},
   "outputs": [
    {
     "data": {
      "text/plain": [
       "([0.76779425, 0.76779425, 0.7677959],\n",
       " <tf.Tensor: shape=(3,), dtype=float32, numpy=array([0.2322034 , 0.2322034 , 0.23220167], dtype=float32)>)"
      ]
     },
     "execution_count": 15,
     "metadata": {},
     "output_type": "execute_result"
    }
   ],
   "source": [
    "list(prob_of_char.numpy()), prob_of_space"
   ]
  },
  {
   "cell_type": "code",
   "execution_count": 16,
   "metadata": {},
   "outputs": [
    {
     "data": {
      "text/plain": [
       "([5, 5, 5], array([5, 5, 5]))"
      ]
     },
     "execution_count": 16,
     "metadata": {},
     "output_type": "execute_result"
    },
    {
     "ename": "",
     "evalue": "",
     "output_type": "error",
     "traceback": [
      "\u001b[1;31mThe Kernel crashed while executing code in the the current cell or a previous cell. Please review the code in the cell(s) to identify a possible cause of the failure. Click <a href='https://aka.ms/vscodeJupyterKernelCrash'>here</a> for more info. View Jupyter <a href='command:jupyter.viewOutput'>log</a> for further details."
     ]
    }
   ],
   "source": [
    "[len(x) for x in test_inputs[0]], preds._keras_mask.numpy().sum(axis=1)"
   ]
  },
  {
   "cell_type": "code",
   "execution_count": null,
   "metadata": {},
   "outputs": [],
   "source": []
  }
 ],
 "metadata": {
  "kernelspec": {
   "display_name": "tf_210",
   "language": "python",
   "name": "python3"
  },
  "language_info": {
   "codemirror_mode": {
    "name": "ipython",
    "version": 3
   },
   "file_extension": ".py",
   "mimetype": "text/x-python",
   "name": "python",
   "nbconvert_exporter": "python",
   "pygments_lexer": "ipython3",
   "version": "3.8.10"
  },
  "orig_nbformat": 4,
  "vscode": {
   "interpreter": {
    "hash": "4c2409f7cd36a60864259fe7c86cc6f7edd5e2a0604f36f600c4aba8b227f5d5"
   }
  }
 },
 "nbformat": 4,
 "nbformat_minor": 2
}
