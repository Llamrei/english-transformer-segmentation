{
 "cells": [
  {
   "cell_type": "code",
   "execution_count": 1,
   "metadata": {},
   "outputs": [
    {
     "name": "stderr",
     "output_type": "stream",
     "text": [
      "2023-02-20 18:23:10.490318: I tensorflow/core/platform/cpu_feature_guard.cc:193] This TensorFlow binary is optimized with oneAPI Deep Neural Network Library (oneDNN) to use the following CPU instructions in performance-critical operations:  AVX2 AVX512F AVX512_VNNI FMA\n",
      "To enable them in other operations, rebuild TensorFlow with the appropriate compiler flags.\n",
      "2023-02-20 18:23:10.643946: I tensorflow/core/util/util.cc:169] oneDNN custom operations are on. You may see slightly different numerical results due to floating-point round-off errors from different computation orders. To turn them off, set the environment variable `TF_ENABLE_ONEDNN_OPTS=0`.\n",
      "2023-02-20 18:23:10.680087: E tensorflow/stream_executor/cuda/cuda_blas.cc:2981] Unable to register cuBLAS factory: Attempting to register factory for plugin cuBLAS when one has already been registered\n",
      "2023-02-20 18:23:11.335069: W tensorflow/stream_executor/platform/default/dso_loader.cc:64] Could not load dynamic library 'libnvinfer.so.7'; dlerror: libnvinfer.so.7: cannot open shared object file: No such file or directory\n",
      "2023-02-20 18:23:11.335125: W tensorflow/stream_executor/platform/default/dso_loader.cc:64] Could not load dynamic library 'libnvinfer_plugin.so.7'; dlerror: libnvinfer_plugin.so.7: cannot open shared object file: No such file or directory\n",
      "2023-02-20 18:23:11.335132: W tensorflow/compiler/tf2tensorrt/utils/py_utils.cc:38] TF-TRT Warning: Cannot dlopen some TensorRT libraries. If you would like to use Nvidia GPU with TensorRT, please make sure the missing libraries mentioned above are installed properly.\n"
     ]
    }
   ],
   "source": [
    "import logging\n",
    "import tensorflow as tf\n",
    "\n",
    "\n",
    "GPU_FROM = 3\n",
    "GPU_TO = 4  \n",
    "\n",
    "visible_devices = tf.config.get_visible_devices('GPU')\n",
    "logging.info(f\"Num GPUs visible:{len(visible_devices)}\")\n",
    "tf.config.set_visible_devices(visible_devices[GPU_FROM:GPU_TO],'GPU')\n",
    "\n",
    "visible_devices = tf.config.get_visible_devices('GPU')\n",
    "logging.info(f\"Num GPUs to be used: {len(visible_devices)}\")"
   ]
  },
  {
   "cell_type": "code",
   "execution_count": 2,
   "metadata": {},
   "outputs": [
    {
     "name": "stdout",
     "output_type": "stream",
     "text": [
      "tf.Tensor(b'5555545 5555555445 5555445 545 5555545 555545 55555445 545 545 545 555545 5545 55555445 5555445 555545 55555555545 4', shape=(), dtype=string)\n",
      "tf.Tensor(b'55545 5545 5545 45 555445 5445 45 5555555555545 545 555545 545 45 55545 55555545 55555545 545 45 45 445 45 55545 55555555', shape=(), dtype=string)\n",
      "tf.Tensor(b'5555544445 45 55555545 45 5555445 555555545 555555555555555555545 555445 5555555545 5555545 5545 545 5445 45 45 444', shape=(), dtype=string)\n",
      "tf.Tensor(b'545 555555445 555555545 555545 555555545 5555545 5555555555555445 45 45 555545 555545 5555555555555445 555555544', shape=(), dtype=string)\n",
      "tf.Tensor(b'545 5555545 45 555555555445 554445 555545 555555555545 55555545 5545 555545 5555555445 55445 5555545 4445 5445 445 5', shape=(), dtype=string)\n"
     ]
    },
    {
     "name": "stderr",
     "output_type": "stream",
     "text": [
      "2023-02-20 18:23:13.994281: I tensorflow/core/platform/cpu_feature_guard.cc:193] This TensorFlow binary is optimized with oneAPI Deep Neural Network Library (oneDNN) to use the following CPU instructions in performance-critical operations:  AVX2 AVX512F AVX512_VNNI FMA\n",
      "To enable them in other operations, rebuild TensorFlow with the appropriate compiler flags.\n",
      "2023-02-20 18:23:14.687544: I tensorflow/core/common_runtime/gpu/gpu_device.cc:1616] Created device /job:localhost/replica:0/task:0/device:GPU:0 with 22296 MB memory:  -> device: 3, name: GeForce RTX 3090, pci bus id: 0000:d8:00.0, compute capability: 8.6\n"
     ]
    }
   ],
   "source": [
    "\n",
    "from segmentation.model import SpaceSegmentationTransformer\n",
    "from segmentation.model import LossWithVoids\n",
    "\n",
    "data = tf.random.stateless_binomial(shape=(10000, 100), counts=1, probs=0.8, seed=[1997,1997])+1\n",
    "train_frac = int(data.shape[0]*3/4)\n",
    "\n",
    "train_ds, val_ds = tf.data.Dataset.from_tensor_slices(data[:train_frac]), tf.data.Dataset.from_tensor_slices(data[train_frac:])\n",
    "\n",
    "def mapper(y):\n",
    "    x = tf.strings.as_string(y+3)\n",
    "    x = tf.strings.reduce_join(x, axis=-1)\n",
    "    return tf.strings.regex_replace(x, \"(45)\", r\"\\1 \")\n",
    "\n",
    "train_ds = train_ds.map(mapper)\n",
    "val_ds = val_ds.map(mapper)\n",
    "\n",
    "for f in train_ds.take(5):\n",
    "    print(f)"
   ]
  },
  {
   "cell_type": "code",
   "execution_count": 3,
   "metadata": {},
   "outputs": [
    {
     "name": "stdout",
     "output_type": "stream",
     "text": [
      "((<tf.Tensor: shape=(), dtype=string, numpy=b'55555455555555445555544554555555455555455555544554554554555554555455555544555554455555'>, None), <tf.Tensor: shape=(100,), dtype=float16, numpy=\n",
      "array([1., 1., 1., 1., 1., 1., 2., 1., 1., 1., 1., 1., 1., 1., 1., 1., 2.,\n",
      "       1., 1., 1., 1., 1., 1., 2., 1., 1., 2., 1., 1., 1., 1., 1., 1., 2.,\n",
      "       1., 1., 1., 1., 1., 2., 1., 1., 1., 1., 1., 1., 1., 2., 1., 1., 2.,\n",
      "       1., 1., 2., 1., 1., 2., 1., 1., 1., 1., 1., 2., 1., 1., 1., 2., 1.,\n",
      "       1., 1., 1., 1., 1., 1., 2., 1., 1., 1., 1., 1., 1., 2., 1., 1., 1.,\n",
      "       1., 0., 0., 0., 0., 0., 0., 0., 0., 0., 0., 0., 0., 0., 0.],\n",
      "      dtype=float16)>)\n"
     ]
    }
   ],
   "source": [
    "def generate_labels(text):\n",
    "    max_chars = 100\n",
    "    last_char = tf.strings.substr(text, max_chars, max_chars+1)\n",
    "    text = tf.strings.substr(text,0, max_chars)\n",
    "    text = tf.strings.lower(text)\n",
    "    split_on_whitespace = tf.strings.strip(tf.strings.split(text))\n",
    "    encoder_in = tf.strings.reduce_join(split_on_whitespace, axis=-1)\n",
    "    \n",
    "    space_indices = tf.math.cumsum(tf.strings.length(split_on_whitespace)) - 1 # subtract 1 to index from 0\n",
    "    seq_len = space_indices[-1] + 1\n",
    "    if not tf.strings.regex_full_match(last_char, \" \"):\n",
    "        space_indices = space_indices[:-1]\n",
    "    encoder_out = tf.ones((max_chars,))\n",
    "    encoder_out = tf.concat([\n",
    "        tf.ones((seq_len,)),\n",
    "        tf.zeros((max_chars - seq_len,))\n",
    "    ], axis=-1)\n",
    "    encoder_out = tf.tensor_scatter_nd_update(\n",
    "        encoder_out, \n",
    "        space_indices[...,tf.newaxis], # Expand dims to create a 'list' of indices\n",
    "        tf.ones_like(space_indices, dtype=encoder_out.dtype)*2) \n",
    "    \n",
    "    return (encoder_in, None), tf.cast(encoder_out, \"float16\")\n",
    "\n",
    "train_ds = train_ds.map(generate_labels)\n",
    "val_ds = val_ds.map(generate_labels)\n",
    "\n",
    "for f in train_ds.take(1):\n",
    "    print(f)"
   ]
  },
  {
   "cell_type": "code",
   "execution_count": 4,
   "metadata": {},
   "outputs": [
    {
     "data": {
      "text/plain": [
       "['', '[UNK]', '5', '4']"
      ]
     },
     "execution_count": 4,
     "metadata": {},
     "output_type": "execute_result"
    }
   ],
   "source": [
    "tokenizer = tf.keras.layers.TextVectorization(\n",
    "    output_sequence_length=100,\n",
    "    standardize=\"lower_and_strip_punctuation\",\n",
    "    split=\"character\",\n",
    "    output_mode=\"int\",\n",
    ")\n",
    "\n",
    "tokenizer.adapt(train_ds.take(10).map(lambda x,y: x[0]))\n",
    "tokenizer.get_vocabulary()"
   ]
  },
  {
   "cell_type": "code",
   "execution_count": 5,
   "metadata": {},
   "outputs": [
    {
     "data": {
      "text/plain": [
       "<tf.Tensor: shape=(100,), dtype=int64, numpy=\n",
       "array([3, 3, 3, 3, 3, 3, 2, 2, 2, 2, 2, 0, 0, 0, 0, 0, 0, 0, 0, 0, 0, 0,\n",
       "       0, 0, 0, 0, 0, 0, 0, 0, 0, 0, 0, 0, 0, 0, 0, 0, 0, 0, 0, 0, 0, 0,\n",
       "       0, 0, 0, 0, 0, 0, 0, 0, 0, 0, 0, 0, 0, 0, 0, 0, 0, 0, 0, 0, 0, 0,\n",
       "       0, 0, 0, 0, 0, 0, 0, 0, 0, 0, 0, 0, 0, 0, 0, 0, 0, 0, 0, 0, 0, 0,\n",
       "       0, 0, 0, 0, 0, 0, 0, 0, 0, 0, 0, 0])>"
      ]
     },
     "execution_count": 5,
     "metadata": {},
     "output_type": "execute_result"
    }
   ],
   "source": [
    "tokenizer(\"44444455555\")"
   ]
  },
  {
   "cell_type": "code",
   "execution_count": 6,
   "metadata": {},
   "outputs": [],
   "source": [
    "model = SpaceSegmentationTransformer(\n",
    "    num_layers=2,\n",
    "    d_model=512,\n",
    "    num_attention_heads=3,\n",
    "    seq_len=100,\n",
    "    dff=1028,\n",
    "    input_tokenizer=tokenizer,\n",
    "    dropout_rate=0.1,\n",
    "    num_classes = 3\n",
    ")"
   ]
  },
  {
   "cell_type": "code",
   "execution_count": 7,
   "metadata": {},
   "outputs": [],
   "source": [
    "from segmentation.metrics import SparseAccuracyWithIgnore\n",
    "from segmentation.metrics import SparsePrecision\n",
    "from segmentation.metrics import SparseRecall\n",
    "from segmentation.metrics import SparseF1\n",
    "\n",
    "model.compile(\n",
    "    optimizer=\"adam\",\n",
    "    loss=tf.keras.losses.SparseCategoricalCrossentropy(from_logits=False, ignore_class=0), # Why can I not ignore class 0?\n",
    "    metrics=[\n",
    "        SparseAccuracyWithIgnore(ignore_token=0),\n",
    "        SparsePrecision(class_id=2, name=\"space_precision\"),\n",
    "        SparseRecall(class_id=2, name=\"space_recall\"),\n",
    "        SparseF1(class_id=2, name=\"space_f1\"),\n",
    "        SparsePrecision(class_id=1, name=\"char_precision\"),\n",
    "        SparseRecall(class_id=1, name=\"char_recall\"),\n",
    "        SparseF1(class_id=1, name=\"char_f1\"),\n",
    "    ]\n",
    ")"
   ]
  },
  {
   "cell_type": "code",
   "execution_count": 8,
   "metadata": {},
   "outputs": [
    {
     "name": "stdout",
     "output_type": "stream",
     "text": [
      "Epoch 1/10\n",
      "  7/938 [..............................] - ETA: 19s - loss: 2.1824 - sparse_categorical_accuracy: 0.5855 - space_precision: 0.1339 - space_recall: 0.1535 - space_f1: 0.1430 - char_precision: 0.7347 - char_recall: 0.7557 - char_f1: 0.7450   "
     ]
    },
    {
     "name": "stderr",
     "output_type": "stream",
     "text": [
      "2023-02-20 18:23:27.437402: I tensorflow/stream_executor/cuda/cuda_blas.cc:1614] TensorFloat-32 will be used for the matrix multiplication. This will only be logged once.\n"
     ]
    },
    {
     "name": "stdout",
     "output_type": "stream",
     "text": [
      "938/938 [==============================] - 29s 27ms/step - loss: 0.4265 - sparse_categorical_accuracy: 0.7292 - space_precision: 0.1412 - space_recall: 0.0018 - space_f1: 0.0036 - char_precision: 0.7307 - char_recall: 0.9976 - char_f1: 0.8435 - val_loss: 0.4378 - val_sparse_categorical_accuracy: 0.7312 - val_space_precision: 0.0000e+00 - val_space_recall: 0.0000e+00 - val_space_f1: nan - val_char_precision: 0.7312 - val_char_recall: 1.0000 - val_char_f1: 0.8447\n",
      "Epoch 2/10\n",
      "938/938 [==============================] - 24s 25ms/step - loss: 0.3963 - sparse_categorical_accuracy: 0.7306 - space_precision: 0.5000 - space_recall: 9.9500e-06 - space_f1: 1.9900e-05 - char_precision: 0.7306 - char_recall: 1.0000 - char_f1: 0.8444 - val_loss: 0.3934 - val_sparse_categorical_accuracy: 0.7312 - val_space_precision: 0.0000e+00 - val_space_recall: 0.0000e+00 - val_space_f1: nan - val_char_precision: 0.7312 - val_char_recall: 1.0000 - val_char_f1: 0.8447\n",
      "Epoch 3/10\n",
      "938/938 [==============================] - 24s 26ms/step - loss: 0.3950 - sparse_categorical_accuracy: 0.7306 - space_precision: 0.0000e+00 - space_recall: 0.0000e+00 - space_f1: nan - char_precision: 0.7306 - char_recall: 1.0000 - char_f1: 0.8444 - val_loss: 0.3929 - val_sparse_categorical_accuracy: 0.7312 - val_space_precision: 0.0000e+00 - val_space_recall: 0.0000e+00 - val_space_f1: nan - val_char_precision: 0.7312 - val_char_recall: 1.0000 - val_char_f1: 0.8447\n",
      "Epoch 4/10\n",
      "938/938 [==============================] - 24s 26ms/step - loss: 0.3974 - sparse_categorical_accuracy: 0.7306 - space_precision: 0.0000e+00 - space_recall: 0.0000e+00 - space_f1: nan - char_precision: 0.7306 - char_recall: 1.0000 - char_f1: 0.8444 - val_loss: 0.3943 - val_sparse_categorical_accuracy: 0.7312 - val_space_precision: 0.0000e+00 - val_space_recall: 0.0000e+00 - val_space_f1: nan - val_char_precision: 0.7312 - val_char_recall: 1.0000 - val_char_f1: 0.8447\n",
      "Epoch 5/10\n",
      "938/938 [==============================] - 24s 26ms/step - loss: 0.4243 - sparse_categorical_accuracy: 0.7304 - space_precision: 0.1377 - space_recall: 3.7810e-04 - space_f1: 7.5413e-04 - char_precision: 0.7306 - char_recall: 0.9996 - char_f1: 0.8442 - val_loss: 0.4319 - val_sparse_categorical_accuracy: 0.7312 - val_space_precision: 0.0000e+00 - val_space_recall: 0.0000e+00 - val_space_f1: nan - val_char_precision: 0.7312 - val_char_recall: 1.0000 - val_char_f1: 0.8447\n",
      "Epoch 6/10\n",
      "938/938 [==============================] - 24s 26ms/step - loss: 0.4040 - sparse_categorical_accuracy: 0.7306 - space_precision: 0.0769 - space_recall: 9.9500e-06 - space_f1: 1.9897e-05 - char_precision: 0.7306 - char_recall: 1.0000 - char_f1: 0.8444 - val_loss: 0.3931 - val_sparse_categorical_accuracy: 0.7312 - val_space_precision: 0.0000e+00 - val_space_recall: 0.0000e+00 - val_space_f1: nan - val_char_precision: 0.7312 - val_char_recall: 1.0000 - val_char_f1: 0.8447\n",
      "Epoch 7/10\n",
      "938/938 [==============================] - 24s 26ms/step - loss: 0.3988 - sparse_categorical_accuracy: 0.7306 - space_precision: 0.0000e+00 - space_recall: 0.0000e+00 - space_f1: nan - char_precision: 0.7306 - char_recall: 1.0000 - char_f1: 0.8444 - val_loss: 0.3943 - val_sparse_categorical_accuracy: 0.7312 - val_space_precision: 0.0000e+00 - val_space_recall: 0.0000e+00 - val_space_f1: nan - val_char_precision: 0.7312 - val_char_recall: 1.0000 - val_char_f1: 0.8447\n",
      "Epoch 8/10\n",
      "938/938 [==============================] - 24s 26ms/step - loss: 0.3987 - sparse_categorical_accuracy: 0.7306 - space_precision: 0.0000e+00 - space_recall: 0.0000e+00 - space_f1: nan - char_precision: 0.7306 - char_recall: 1.0000 - char_f1: 0.8444 - val_loss: 0.3931 - val_sparse_categorical_accuracy: 0.7312 - val_space_precision: 0.0000e+00 - val_space_recall: 0.0000e+00 - val_space_f1: nan - val_char_precision: 0.7312 - val_char_recall: 1.0000 - val_char_f1: 0.8447\n",
      "Epoch 9/10\n",
      "938/938 [==============================] - 24s 26ms/step - loss: 0.3987 - sparse_categorical_accuracy: 0.7306 - space_precision: 0.0000e+00 - space_recall: 0.0000e+00 - space_f1: nan - char_precision: 0.7306 - char_recall: 1.0000 - char_f1: 0.8444 - val_loss: 0.3943 - val_sparse_categorical_accuracy: 0.7312 - val_space_precision: 0.0000e+00 - val_space_recall: 0.0000e+00 - val_space_f1: nan - val_char_precision: 0.7312 - val_char_recall: 1.0000 - val_char_f1: 0.8447\n",
      "Epoch 10/10\n",
      "938/938 [==============================] - 24s 26ms/step - loss: 0.3994 - sparse_categorical_accuracy: 0.7306 - space_precision: 0.0000e+00 - space_recall: 0.0000e+00 - space_f1: nan - char_precision: 0.7306 - char_recall: 1.0000 - char_f1: 0.8444 - val_loss: 0.3954 - val_sparse_categorical_accuracy: 0.7312 - val_space_precision: 0.0000e+00 - val_space_recall: 0.0000e+00 - val_space_f1: nan - val_char_precision: 0.7312 - val_char_recall: 1.0000 - val_char_f1: 0.8447\n"
     ]
    },
    {
     "data": {
      "text/plain": [
       "<keras.callbacks.History at 0x7f0b0c283a30>"
      ]
     },
     "execution_count": 8,
     "metadata": {},
     "output_type": "execute_result"
    }
   ],
   "source": [
    "train_ds = train_ds.shuffle(100).batch(8)\n",
    "val_ds = val_ds.batch(8)\n",
    "\n",
    "model.fit(train_ds, validation_data=val_ds, epochs=10)"
   ]
  },
  {
   "cell_type": "code",
   "execution_count": 10,
   "metadata": {},
   "outputs": [
    {
     "name": "stdout",
     "output_type": "stream",
     "text": [
      "313/313 [==============================] - 4s 13ms/step - loss: 0.4026 - sparse_categorical_accuracy: 0.7312 - space_precision: 0.0000e+00 - space_recall: 0.0000e+00 - space_f1: nan - char_precision: 0.7312 - char_recall: 1.0000 - char_f1: 0.8447\n"
     ]
    },
    {
     "data": {
      "text/plain": [
       "[0.40255793929100037,\n",
       " 0.7312039732933044,\n",
       " 0.0,\n",
       " 0.0,\n",
       " nan,\n",
       " 0.7312039732933044,\n",
       " 1.0,\n",
       " 0.8447346091270447]"
      ]
     },
     "execution_count": 10,
     "metadata": {},
     "output_type": "execute_result"
    }
   ],
   "source": [
    "model.evaluate(val_ds)"
   ]
  },
  {
   "cell_type": "code",
   "execution_count": 29,
   "metadata": {},
   "outputs": [],
   "source": [
    "test_inputs = [(\"5554445\", \"55544455554445\", \"5454545454545454\"),(None,None, None)]\n",
    "preds = model(test_inputs)\n",
    "truth = tf.ragged.constant([[1,1,1,1,1,1,2], [1,1,1,1,1,1,2,1,1,1,1,1,1,2], [1,1,2, 1,2, 1,2, 1,2, 1,2, 1,2, 1,2, 1]])\n",
    "char_conditional = (truth == 1).to_tensor(False, shape=(truth.shape[0],100))\n",
    "space_conditional = (truth == 2).to_tensor(False, shape=(truth.shape[0],100))"
   ]
  },
  {
   "cell_type": "code",
   "execution_count": 30,
   "metadata": {},
   "outputs": [
    {
     "data": {
      "text/plain": [
       "(<tf.Tensor: shape=(3, 100, 3), dtype=float32, numpy=\n",
       " array([[[9.99988430e-08, 8.26382101e-01, 1.73617765e-01],\n",
       "         [9.99976209e-08, 8.26382279e-01, 1.73617661e-01],\n",
       "         [9.99984593e-08, 8.26382101e-01, 1.73617750e-01],\n",
       "         [2.56354313e-11, 9.57713962e-01, 4.22860719e-02],\n",
       "         [2.56388730e-11, 9.57713008e-01, 4.22869734e-02],\n",
       "         [2.56354313e-11, 9.57713962e-01, 4.22860719e-02],\n",
       "         [9.99976209e-08, 8.26382279e-01, 1.73617661e-01],\n",
       "         [1.00001216e-07, 8.26381207e-01, 1.73618704e-01],\n",
       "         [9.99988217e-08, 8.26381147e-01, 1.73618764e-01],\n",
       "         [1.00001216e-07, 8.26381207e-01, 1.73618704e-01],\n",
       "         [1.00001124e-07, 8.26381207e-01, 1.73618689e-01],\n",
       "         [1.00000271e-07, 8.26381266e-01, 1.73618615e-01],\n",
       "         [1.00006552e-07, 8.26380372e-01, 1.73619553e-01],\n",
       "         [1.00001216e-07, 8.26381207e-01, 1.73618704e-01],\n",
       "         [1.00000911e-07, 8.26381147e-01, 1.73618749e-01],\n",
       "         [1.00000911e-07, 8.26381147e-01, 1.73618749e-01],\n",
       "         [1.00000548e-07, 8.26381207e-01, 1.73618659e-01],\n",
       "         [1.00000548e-07, 8.26381207e-01, 1.73618659e-01],\n",
       "         [9.99992906e-08, 8.26381147e-01, 1.73618808e-01],\n",
       "         [1.00001216e-07, 8.26381207e-01, 1.73618704e-01],\n",
       "         [1.00000548e-07, 8.26381207e-01, 1.73618659e-01],\n",
       "         [1.00000911e-07, 8.26381147e-01, 1.73618749e-01],\n",
       "         [1.00006552e-07, 8.26380372e-01, 1.73619539e-01],\n",
       "         [1.00000094e-07, 8.26381445e-01, 1.73618495e-01],\n",
       "         [1.00000094e-07, 8.26381445e-01, 1.73618495e-01],\n",
       "         [1.00001216e-07, 8.26381207e-01, 1.73618704e-01],\n",
       "         [1.00001124e-07, 8.26381207e-01, 1.73618719e-01],\n",
       "         [1.00001216e-07, 8.26381207e-01, 1.73618704e-01],\n",
       "         [1.00001124e-07, 8.26381207e-01, 1.73618704e-01],\n",
       "         [9.99992906e-08, 8.26381147e-01, 1.73618808e-01],\n",
       "         [9.99992906e-08, 8.26381147e-01, 1.73618808e-01],\n",
       "         [1.00000911e-07, 8.26381147e-01, 1.73618749e-01],\n",
       "         [1.00000548e-07, 8.26381207e-01, 1.73618659e-01],\n",
       "         [1.00001216e-07, 8.26381207e-01, 1.73618704e-01],\n",
       "         [1.00001124e-07, 8.26381207e-01, 1.73618719e-01],\n",
       "         [9.99992906e-08, 8.26381147e-01, 1.73618823e-01],\n",
       "         [1.00000911e-07, 8.26381147e-01, 1.73618749e-01],\n",
       "         [1.00001216e-07, 8.26381207e-01, 1.73618704e-01],\n",
       "         [1.00001216e-07, 8.26381207e-01, 1.73618704e-01],\n",
       "         [1.00002040e-07, 8.26380968e-01, 1.73618972e-01],\n",
       "         [1.00006829e-07, 8.26381147e-01, 1.73618823e-01],\n",
       "         [9.99999088e-08, 8.26381445e-01, 1.73618495e-01],\n",
       "         [9.99984309e-08, 8.26381147e-01, 1.73618749e-01],\n",
       "         [9.99999088e-08, 8.26381445e-01, 1.73618495e-01],\n",
       "         [9.99999088e-08, 8.26381445e-01, 1.73618495e-01],\n",
       "         [1.00000094e-07, 8.26381445e-01, 1.73618466e-01],\n",
       "         [1.00001216e-07, 8.26381207e-01, 1.73618704e-01],\n",
       "         [1.00000548e-07, 8.26381207e-01, 1.73618659e-01],\n",
       "         [1.00001124e-07, 8.26381207e-01, 1.73618719e-01],\n",
       "         [1.00000911e-07, 8.26381147e-01, 1.73618749e-01],\n",
       "         [1.00000911e-07, 8.26381147e-01, 1.73618749e-01],\n",
       "         [9.99988217e-08, 8.26381147e-01, 1.73618764e-01],\n",
       "         [1.00002040e-07, 8.26380968e-01, 1.73618972e-01],\n",
       "         [9.99984309e-08, 8.26381147e-01, 1.73618749e-01],\n",
       "         [9.99984309e-08, 8.26381147e-01, 1.73618749e-01],\n",
       "         [1.00000470e-07, 8.26381385e-01, 1.73618540e-01],\n",
       "         [9.99984309e-08, 8.26381147e-01, 1.73618749e-01],\n",
       "         [9.99984309e-08, 8.26381147e-01, 1.73618749e-01],\n",
       "         [1.00001216e-07, 8.26381207e-01, 1.73618704e-01],\n",
       "         [1.00001216e-07, 8.26381207e-01, 1.73618704e-01],\n",
       "         [1.00001124e-07, 8.26381207e-01, 1.73618719e-01],\n",
       "         [9.99994043e-08, 8.26381207e-01, 1.73618659e-01],\n",
       "         [1.00000548e-07, 8.26381207e-01, 1.73618659e-01],\n",
       "         [9.99984309e-08, 8.26381147e-01, 1.73618749e-01],\n",
       "         [9.99988217e-08, 8.26381147e-01, 1.73618764e-01],\n",
       "         [9.99988217e-08, 8.26381147e-01, 1.73618764e-01],\n",
       "         [1.00000200e-07, 8.26381445e-01, 1.73618495e-01],\n",
       "         [1.00000626e-07, 8.26381147e-01, 1.73618749e-01],\n",
       "         [1.00006922e-07, 8.26381147e-01, 1.73618823e-01],\n",
       "         [1.00001216e-07, 8.26381207e-01, 1.73618704e-01],\n",
       "         [9.99984309e-08, 8.26381147e-01, 1.73618749e-01],\n",
       "         [1.00001216e-07, 8.26381207e-01, 1.73618704e-01],\n",
       "         [9.99994043e-08, 8.26381207e-01, 1.73618689e-01],\n",
       "         [1.00006552e-07, 8.26380372e-01, 1.73619539e-01],\n",
       "         [9.99984309e-08, 8.26381147e-01, 1.73618749e-01],\n",
       "         [9.99988217e-08, 8.26381147e-01, 1.73618764e-01],\n",
       "         [1.00000335e-07, 8.26380253e-01, 1.73619643e-01],\n",
       "         [1.00002040e-07, 8.26380968e-01, 1.73618972e-01],\n",
       "         [1.00001124e-07, 8.26381207e-01, 1.73618719e-01],\n",
       "         [1.00000548e-07, 8.26381207e-01, 1.73618659e-01],\n",
       "         [1.00001124e-07, 8.26381207e-01, 1.73618704e-01],\n",
       "         [1.00006829e-07, 8.26381147e-01, 1.73618823e-01],\n",
       "         [9.99984309e-08, 8.26381147e-01, 1.73618749e-01],\n",
       "         [1.00000328e-07, 8.26380968e-01, 1.73618898e-01],\n",
       "         [1.00000143e-07, 8.26380968e-01, 1.73618898e-01],\n",
       "         [1.00000470e-07, 8.26381385e-01, 1.73618540e-01],\n",
       "         [1.00001124e-07, 8.26381207e-01, 1.73618689e-01],\n",
       "         [1.00000001e-07, 8.26381445e-01, 1.73618495e-01],\n",
       "         [1.00000435e-07, 8.26380312e-01, 1.73619613e-01],\n",
       "         [1.00000470e-07, 8.26381385e-01, 1.73618540e-01],\n",
       "         [9.99984309e-08, 8.26381147e-01, 1.73618749e-01],\n",
       "         [9.99984309e-08, 8.26381147e-01, 1.73618749e-01],\n",
       "         [1.00006829e-07, 8.26381147e-01, 1.73618823e-01],\n",
       "         [9.99984309e-08, 8.26381147e-01, 1.73618749e-01],\n",
       "         [1.00001216e-07, 8.26381207e-01, 1.73618704e-01],\n",
       "         [9.99984309e-08, 8.26381147e-01, 1.73618749e-01],\n",
       "         [9.99988217e-08, 8.26381147e-01, 1.73618793e-01],\n",
       "         [9.99995535e-08, 8.26380849e-01, 1.73619002e-01],\n",
       "         [9.99988430e-08, 8.26381266e-01, 1.73618644e-01],\n",
       "         [9.99984309e-08, 8.26381147e-01, 1.73618749e-01]],\n",
       " \n",
       "        [[9.99964058e-08, 8.26382399e-01, 1.73617452e-01],\n",
       "         [9.99963135e-08, 8.26382518e-01, 1.73617378e-01],\n",
       "         [9.99963135e-08, 8.26382518e-01, 1.73617378e-01],\n",
       "         [2.56388279e-11, 9.57713068e-01, 4.22868580e-02],\n",
       "         [2.56375563e-11, 9.57713068e-01, 4.22868580e-02],\n",
       "         [2.56375563e-11, 9.57713068e-01, 4.22868580e-02],\n",
       "         [9.99966900e-08, 8.26382399e-01, 1.73617467e-01],\n",
       "         [9.99966900e-08, 8.26382399e-01, 1.73617482e-01],\n",
       "         [9.99972656e-08, 8.26382399e-01, 1.73617467e-01],\n",
       "         [9.99966900e-08, 8.26382399e-01, 1.73617467e-01],\n",
       "         [2.56375563e-11, 9.57713068e-01, 4.22868580e-02],\n",
       "         [2.56375563e-11, 9.57713068e-01, 4.22868580e-02],\n",
       "         [2.56375563e-11, 9.57713068e-01, 4.22868580e-02],\n",
       "         [9.99963135e-08, 8.26382518e-01, 1.73617378e-01],\n",
       "         [9.99976990e-08, 8.26381385e-01, 1.73618540e-01],\n",
       "         [9.99974077e-08, 8.26381266e-01, 1.73618644e-01],\n",
       "         [9.99977843e-08, 8.26381266e-01, 1.73618570e-01],\n",
       "         [9.99977843e-08, 8.26381266e-01, 1.73618570e-01],\n",
       "         [9.99954324e-08, 8.26381445e-01, 1.73618451e-01],\n",
       "         [9.99980756e-08, 8.26381266e-01, 1.73618615e-01],\n",
       "         [9.99978909e-08, 8.26381266e-01, 1.73618570e-01],\n",
       "         [9.99976990e-08, 8.26381385e-01, 1.73618540e-01],\n",
       "         [9.99982674e-08, 8.26381266e-01, 1.73618644e-01],\n",
       "         [9.99988004e-08, 8.26380968e-01, 1.73618972e-01],\n",
       "         [9.99988004e-08, 8.26380968e-01, 1.73618972e-01],\n",
       "         [9.99975143e-08, 8.26381385e-01, 1.73618495e-01],\n",
       "         [9.99975143e-08, 8.26381385e-01, 1.73618570e-01],\n",
       "         [9.99975143e-08, 8.26381385e-01, 1.73618495e-01],\n",
       "         [9.99975143e-08, 8.26381385e-01, 1.73618570e-01],\n",
       "         [9.99974077e-08, 8.26381266e-01, 1.73618644e-01],\n",
       "         [9.99954324e-08, 8.26381445e-01, 1.73618451e-01],\n",
       "         [9.99974077e-08, 8.26381266e-01, 1.73618644e-01],\n",
       "         [9.99977843e-08, 8.26381266e-01, 1.73618570e-01],\n",
       "         [9.99975001e-08, 8.26381266e-01, 1.73618615e-01],\n",
       "         [9.99975143e-08, 8.26381385e-01, 1.73618570e-01],\n",
       "         [9.99954324e-08, 8.26381445e-01, 1.73618451e-01],\n",
       "         [9.99977914e-08, 8.26381385e-01, 1.73618570e-01],\n",
       "         [9.99981680e-08, 8.26381266e-01, 1.73618570e-01],\n",
       "         [9.99981680e-08, 8.26381266e-01, 1.73618570e-01],\n",
       "         [9.99983598e-08, 8.26381266e-01, 1.73618659e-01],\n",
       "         [9.99997312e-08, 8.26380789e-01, 1.73619062e-01],\n",
       "         [9.99997312e-08, 8.26380789e-01, 1.73619062e-01],\n",
       "         [9.99954324e-08, 8.26381445e-01, 1.73618451e-01],\n",
       "         [9.99985090e-08, 8.26380849e-01, 1.73618987e-01],\n",
       "         [1.00000626e-07, 8.26380312e-01, 1.73619628e-01],\n",
       "         [1.00000626e-07, 8.26380312e-01, 1.73619628e-01],\n",
       "         [9.99972372e-08, 8.26381445e-01, 1.73618495e-01],\n",
       "         [9.99975924e-08, 8.26381266e-01, 1.73618659e-01],\n",
       "         [9.99975143e-08, 8.26381385e-01, 1.73618570e-01],\n",
       "         [9.99981680e-08, 8.26381266e-01, 1.73618615e-01],\n",
       "         [9.99977914e-08, 8.26381385e-01, 1.73618570e-01],\n",
       "         [1.00001223e-07, 8.26380491e-01, 1.73619375e-01],\n",
       "         [9.99974077e-08, 8.26381266e-01, 1.73618644e-01],\n",
       "         [9.99954324e-08, 8.26381445e-01, 1.73618451e-01],\n",
       "         [9.99954324e-08, 8.26381445e-01, 1.73618451e-01],\n",
       "         [1.00000626e-07, 8.26380312e-01, 1.73619628e-01],\n",
       "         [9.99974077e-08, 8.26381266e-01, 1.73618644e-01],\n",
       "         [9.99974077e-08, 8.26381266e-01, 1.73618644e-01],\n",
       "         [9.99975924e-08, 8.26381266e-01, 1.73618659e-01],\n",
       "         [9.99976919e-08, 8.26381266e-01, 1.73618644e-01],\n",
       "         [9.99975001e-08, 8.26381266e-01, 1.73618570e-01],\n",
       "         [9.99974077e-08, 8.26381266e-01, 1.73618644e-01],\n",
       "         [9.99975924e-08, 8.26381266e-01, 1.73618644e-01],\n",
       "         [9.99974077e-08, 8.26381266e-01, 1.73618644e-01],\n",
       "         [1.00001223e-07, 8.26380491e-01, 1.73619375e-01],\n",
       "         [1.00001223e-07, 8.26380491e-01, 1.73619375e-01],\n",
       "         [9.99976919e-08, 8.26381266e-01, 1.73618570e-01],\n",
       "         [9.99974077e-08, 8.26381266e-01, 1.73618644e-01],\n",
       "         [9.99985090e-08, 8.26380849e-01, 1.73618987e-01],\n",
       "         [9.99981680e-08, 8.26381266e-01, 1.73618570e-01],\n",
       "         [9.99954324e-08, 8.26381445e-01, 1.73618451e-01],\n",
       "         [9.99981680e-08, 8.26381266e-01, 1.73618570e-01],\n",
       "         [9.99976919e-08, 8.26381266e-01, 1.73618644e-01],\n",
       "         [9.99976919e-08, 8.26381266e-01, 1.73618644e-01],\n",
       "         [9.99974077e-08, 8.26381266e-01, 1.73618644e-01],\n",
       "         [1.00001223e-07, 8.26380491e-01, 1.73619375e-01],\n",
       "         [9.99964556e-08, 8.26381266e-01, 1.73618600e-01],\n",
       "         [9.99974077e-08, 8.26381266e-01, 1.73618644e-01],\n",
       "         [9.99976990e-08, 8.26381385e-01, 1.73618570e-01],\n",
       "         [9.99976919e-08, 8.26381266e-01, 1.73618659e-01],\n",
       "         [9.99984167e-08, 8.26380968e-01, 1.73618972e-01],\n",
       "         [9.99995464e-08, 8.26380789e-01, 1.73619062e-01],\n",
       "         [9.99967398e-08, 8.26381266e-01, 1.73618644e-01],\n",
       "         [9.99974077e-08, 8.26381266e-01, 1.73618644e-01],\n",
       "         [9.99974077e-08, 8.26381266e-01, 1.73618644e-01],\n",
       "         [9.99997312e-08, 8.26380789e-01, 1.73619062e-01],\n",
       "         [9.99979903e-08, 8.26381385e-01, 1.73618570e-01],\n",
       "         [9.99974077e-08, 8.26381266e-01, 1.73618644e-01],\n",
       "         [1.00001223e-07, 8.26380491e-01, 1.73619375e-01],\n",
       "         [9.99997312e-08, 8.26380789e-01, 1.73619062e-01],\n",
       "         [9.99967398e-08, 8.26381266e-01, 1.73618644e-01],\n",
       "         [9.99954324e-08, 8.26381445e-01, 1.73618451e-01],\n",
       "         [9.99997312e-08, 8.26380789e-01, 1.73619062e-01],\n",
       "         [9.99969387e-08, 8.26381266e-01, 1.73618644e-01],\n",
       "         [9.99981680e-08, 8.26381266e-01, 1.73618570e-01],\n",
       "         [9.99969387e-08, 8.26381266e-01, 1.73618644e-01],\n",
       "         [1.00001230e-07, 8.26380551e-01, 1.73619390e-01],\n",
       "         [9.99974077e-08, 8.26381266e-01, 1.73618615e-01],\n",
       "         [9.99982674e-08, 8.26381266e-01, 1.73618644e-01],\n",
       "         [9.99967398e-08, 8.26381266e-01, 1.73618644e-01]],\n",
       " \n",
       "        [[9.99984948e-08, 8.26382399e-01, 1.73617497e-01],\n",
       "         [2.56392685e-11, 9.57713068e-01, 4.22868580e-02],\n",
       "         [9.99947360e-08, 8.26382935e-01, 1.73616946e-01],\n",
       "         [2.56392685e-11, 9.57713068e-01, 4.22868580e-02],\n",
       "         [9.99985943e-08, 8.26382399e-01, 1.73617467e-01],\n",
       "         [2.56392685e-11, 9.57713068e-01, 4.22868580e-02],\n",
       "         [9.99951055e-08, 8.26382756e-01, 1.73617169e-01],\n",
       "         [2.56393691e-11, 9.57713187e-01, 4.22868431e-02],\n",
       "         [9.99921781e-08, 8.26382995e-01, 1.73616916e-01],\n",
       "         [2.56381912e-11, 9.57713068e-01, 4.22868580e-02],\n",
       "         [9.99921781e-08, 8.26382995e-01, 1.73616901e-01],\n",
       "         [2.56392685e-11, 9.57713068e-01, 4.22868580e-02],\n",
       "         [9.99947360e-08, 8.26382935e-01, 1.73616946e-01],\n",
       "         [2.56392685e-11, 9.57713068e-01, 4.22868580e-02],\n",
       "         [9.99936276e-08, 8.26382339e-01, 1.73617527e-01],\n",
       "         [2.56392685e-11, 9.57713068e-01, 4.22868580e-02],\n",
       "         [9.99985801e-08, 8.26380789e-01, 1.73619136e-01],\n",
       "         [9.99981253e-08, 8.26380849e-01, 1.73618987e-01],\n",
       "         [9.99994683e-08, 8.26380968e-01, 1.73618913e-01],\n",
       "         [9.99993901e-08, 8.26380312e-01, 1.73619568e-01],\n",
       "         [9.99999941e-08, 8.26380610e-01, 1.73619270e-01],\n",
       "         [9.99985801e-08, 8.26380789e-01, 1.73619136e-01],\n",
       "         [9.99995464e-08, 8.26380789e-01, 1.73619136e-01],\n",
       "         [9.99981253e-08, 8.26380849e-01, 1.73618987e-01],\n",
       "         [9.99982390e-08, 8.26381028e-01, 1.73618883e-01],\n",
       "         [9.99982390e-08, 8.26381028e-01, 1.73618883e-01],\n",
       "         [9.99985801e-08, 8.26380789e-01, 1.73619151e-01],\n",
       "         [9.99982390e-08, 8.26381028e-01, 1.73618883e-01],\n",
       "         [1.00000385e-07, 8.26379895e-01, 1.73619986e-01],\n",
       "         [9.99994683e-08, 8.26380968e-01, 1.73618913e-01],\n",
       "         [1.00000143e-07, 8.26380968e-01, 1.73618957e-01],\n",
       "         [1.00000960e-07, 8.26380610e-01, 1.73619285e-01],\n",
       "         [1.00000960e-07, 8.26380610e-01, 1.73619285e-01],\n",
       "         [9.99995819e-08, 8.26381147e-01, 1.73618823e-01],\n",
       "         [9.99999585e-08, 8.26381147e-01, 1.73618823e-01],\n",
       "         [1.00000143e-07, 8.26380968e-01, 1.73618957e-01],\n",
       "         [9.99982390e-08, 8.26381028e-01, 1.73618883e-01],\n",
       "         [1.00000129e-07, 8.26380074e-01, 1.73619866e-01],\n",
       "         [9.99993901e-08, 8.26380312e-01, 1.73619568e-01],\n",
       "         [9.99981253e-08, 8.26380849e-01, 1.73618987e-01],\n",
       "         [9.99981253e-08, 8.26380849e-01, 1.73618987e-01],\n",
       "         [9.99981253e-08, 8.26380849e-01, 1.73618987e-01],\n",
       "         [9.99994825e-08, 8.26381028e-01, 1.73618898e-01],\n",
       "         [9.99981253e-08, 8.26380849e-01, 1.73618987e-01],\n",
       "         [9.99981253e-08, 8.26380849e-01, 1.73618987e-01],\n",
       "         [9.99981253e-08, 8.26380849e-01, 1.73618987e-01],\n",
       "         [9.99993901e-08, 8.26380312e-01, 1.73619568e-01],\n",
       "         [1.00001145e-07, 8.26380610e-01, 1.73619315e-01],\n",
       "         [9.99999585e-08, 8.26381147e-01, 1.73618823e-01],\n",
       "         [1.00000960e-07, 8.26380610e-01, 1.73619285e-01],\n",
       "         [9.99999585e-08, 8.26381147e-01, 1.73618823e-01],\n",
       "         [9.99999372e-08, 8.26380968e-01, 1.73618913e-01],\n",
       "         [1.00006531e-07, 8.26380253e-01, 1.73619717e-01],\n",
       "         [1.00000612e-07, 8.26380968e-01, 1.73618913e-01],\n",
       "         [1.00000513e-07, 8.26380968e-01, 1.73618957e-01],\n",
       "         [1.00000129e-07, 8.26380074e-01, 1.73619866e-01],\n",
       "         [9.99999372e-08, 8.26380968e-01, 1.73618898e-01],\n",
       "         [9.99999372e-08, 8.26380968e-01, 1.73618957e-01],\n",
       "         [1.00006531e-07, 8.26380253e-01, 1.73619717e-01],\n",
       "         [9.99981253e-08, 8.26380849e-01, 1.73618987e-01],\n",
       "         [9.99995464e-08, 8.26380789e-01, 1.73619136e-01],\n",
       "         [1.00000143e-07, 8.26380968e-01, 1.73618972e-01],\n",
       "         [1.00006531e-07, 8.26380253e-01, 1.73619717e-01],\n",
       "         [9.99999372e-08, 8.26380968e-01, 1.73618898e-01],\n",
       "         [1.00000513e-07, 8.26380968e-01, 1.73618957e-01],\n",
       "         [1.00000143e-07, 8.26380968e-01, 1.73618913e-01],\n",
       "         [9.99990064e-08, 8.26381147e-01, 1.73618734e-01],\n",
       "         [1.00001053e-07, 8.26380610e-01, 1.73619315e-01],\n",
       "         [9.99981253e-08, 8.26380849e-01, 1.73618987e-01],\n",
       "         [9.99996814e-08, 8.26381147e-01, 1.73618793e-01],\n",
       "         [9.99989709e-08, 8.26380789e-01, 1.73619106e-01],\n",
       "         [1.00000129e-07, 8.26380074e-01, 1.73619866e-01],\n",
       "         [9.99995464e-08, 8.26380789e-01, 1.73619136e-01],\n",
       "         [9.99995464e-08, 8.26380789e-01, 1.73619136e-01],\n",
       "         [9.99999372e-08, 8.26380968e-01, 1.73618913e-01],\n",
       "         [9.99999372e-08, 8.26380968e-01, 1.73618957e-01],\n",
       "         [1.00000221e-07, 8.26380849e-01, 1.73619047e-01],\n",
       "         [1.00006240e-07, 8.26380253e-01, 1.73619717e-01],\n",
       "         [9.99999585e-08, 8.26381147e-01, 1.73618823e-01],\n",
       "         [1.00006240e-07, 8.26380253e-01, 1.73619717e-01],\n",
       "         [9.99999585e-08, 8.26381147e-01, 1.73618823e-01],\n",
       "         [9.99993901e-08, 8.26380312e-01, 1.73619568e-01],\n",
       "         [9.99997525e-08, 8.26380968e-01, 1.73618957e-01],\n",
       "         [9.99998448e-08, 8.26380968e-01, 1.73618898e-01],\n",
       "         [1.00000818e-07, 8.26381028e-01, 1.73618853e-01],\n",
       "         [9.99987932e-08, 8.26380849e-01, 1.73619032e-01],\n",
       "         [9.99993901e-08, 8.26380312e-01, 1.73619583e-01],\n",
       "         [1.00000051e-07, 8.26381147e-01, 1.73618808e-01],\n",
       "         [1.00000513e-07, 8.26380968e-01, 1.73618913e-01],\n",
       "         [9.99981253e-08, 8.26380849e-01, 1.73618987e-01],\n",
       "         [9.99990064e-08, 8.26381147e-01, 1.73618734e-01],\n",
       "         [9.99990064e-08, 8.26381147e-01, 1.73618734e-01],\n",
       "         [9.99981253e-08, 8.26380849e-01, 1.73618987e-01],\n",
       "         [9.99997525e-08, 8.26380968e-01, 1.73618957e-01],\n",
       "         [9.99982390e-08, 8.26381028e-01, 1.73618883e-01],\n",
       "         [9.99994683e-08, 8.26380968e-01, 1.73618913e-01],\n",
       "         [9.99999372e-08, 8.26380968e-01, 1.73618898e-01],\n",
       "         [1.00000143e-07, 8.26380968e-01, 1.73618913e-01],\n",
       "         [9.99974006e-08, 8.26381207e-01, 1.73618704e-01],\n",
       "         [9.99990064e-08, 8.26381147e-01, 1.73618734e-01]]], dtype=float32)>,\n",
       " <tf.Tensor: shape=(3, 100), dtype=int64, numpy=\n",
       " array([[1, 1, 1, 1, 1, 1, 1, 1, 1, 1, 1, 1, 1, 1, 1, 1, 1, 1, 1, 1, 1, 1,\n",
       "         1, 1, 1, 1, 1, 1, 1, 1, 1, 1, 1, 1, 1, 1, 1, 1, 1, 1, 1, 1, 1, 1,\n",
       "         1, 1, 1, 1, 1, 1, 1, 1, 1, 1, 1, 1, 1, 1, 1, 1, 1, 1, 1, 1, 1, 1,\n",
       "         1, 1, 1, 1, 1, 1, 1, 1, 1, 1, 1, 1, 1, 1, 1, 1, 1, 1, 1, 1, 1, 1,\n",
       "         1, 1, 1, 1, 1, 1, 1, 1, 1, 1, 1, 1],\n",
       "        [1, 1, 1, 1, 1, 1, 1, 1, 1, 1, 1, 1, 1, 1, 1, 1, 1, 1, 1, 1, 1, 1,\n",
       "         1, 1, 1, 1, 1, 1, 1, 1, 1, 1, 1, 1, 1, 1, 1, 1, 1, 1, 1, 1, 1, 1,\n",
       "         1, 1, 1, 1, 1, 1, 1, 1, 1, 1, 1, 1, 1, 1, 1, 1, 1, 1, 1, 1, 1, 1,\n",
       "         1, 1, 1, 1, 1, 1, 1, 1, 1, 1, 1, 1, 1, 1, 1, 1, 1, 1, 1, 1, 1, 1,\n",
       "         1, 1, 1, 1, 1, 1, 1, 1, 1, 1, 1, 1],\n",
       "        [1, 1, 1, 1, 1, 1, 1, 1, 1, 1, 1, 1, 1, 1, 1, 1, 1, 1, 1, 1, 1, 1,\n",
       "         1, 1, 1, 1, 1, 1, 1, 1, 1, 1, 1, 1, 1, 1, 1, 1, 1, 1, 1, 1, 1, 1,\n",
       "         1, 1, 1, 1, 1, 1, 1, 1, 1, 1, 1, 1, 1, 1, 1, 1, 1, 1, 1, 1, 1, 1,\n",
       "         1, 1, 1, 1, 1, 1, 1, 1, 1, 1, 1, 1, 1, 1, 1, 1, 1, 1, 1, 1, 1, 1,\n",
       "         1, 1, 1, 1, 1, 1, 1, 1, 1, 1, 1, 1]])>)"
      ]
     },
     "execution_count": 30,
     "metadata": {},
     "output_type": "execute_result"
    }
   ],
   "source": [
    "preds, tf.argmax(preds, axis=-1)"
   ]
  },
  {
   "cell_type": "code",
   "execution_count": 64,
   "metadata": {},
   "outputs": [
    {
     "data": {
      "text/plain": [
       "Text(0.5, 0.98, 'Probabilities of space/char conditional on character input')"
      ]
     },
     "execution_count": 64,
     "metadata": {},
     "output_type": "execute_result"
    },
    {
     "data": {
      "image/png": "[encoded data removed]",
      "text/plain": [
       "<Figure size 640x480 with 2 Axes>"
      ]
     },
     "metadata": {},
     "output_type": "display_data"
    }
   ],
   "source": [
    "import matplotlib.pyplot as plt\n",
    "fig, axs = plt.subplots(1,2)\n",
    "prob_of_space = preds[char_conditional][...,2]\n",
    "prob_of_char = preds[char_conditional][...,1]\n",
    "axs[0].hist(prob_of_space)\n",
    "axs[0].set_xlim(0,1)\n",
    "axs[1].hist(prob_of_char)\n",
    "axs[1].set_xlim(0,1)\n",
    "fig.suptitle(\"Probabilities of space/char conditional on character input\")"
   ]
  },
  {
   "cell_type": "code",
   "execution_count": 92,
   "metadata": {},
   "outputs": [
    {
     "data": {
      "image/png": "[encoded data removed]",
      "text/plain": [
       "<Figure size 640x480 with 2 Axes>"
      ]
     },
     "metadata": {},
     "output_type": "display_data"
    }
   ],
   "source": [
    "fig, axs = plt.subplots(1,2)\n",
    "prob_of_space = preds[space_conditional][...,2]\n",
    "prob_of_char = preds[space_conditional][...,1]\n",
    "axs[0].hist(prob_of_space)\n",
    "axs[1].hist(prob_of_char)\n",
    "# axs[1].set_xlim(0,1)\n",
    "fig.suptitle(\"Probabilities of space/char conditional on space input\")\n",
    "\n",
    "fig.show()"
   ]
  },
  {
   "cell_type": "code",
   "execution_count": 75,
   "metadata": {},
   "outputs": [
    {
     "data": {
      "text/plain": [
       "([0.8263823,\n",
       "  0.8263824,\n",
       "  0.8263825,\n",
       "  0.82638294,\n",
       "  0.8263824,\n",
       "  0.82638276,\n",
       "  0.826383,\n",
       "  0.826383,\n",
       "  0.82638294,\n",
       "  0.82638234],\n",
       " <tf.Tensor: shape=(10,), dtype=float32, numpy=\n",
       " array([0.17361766, 0.17361747, 0.17361738, 0.17361695, 0.17361747,\n",
       "        0.17361717, 0.17361692, 0.1736169 , 0.17361695, 0.17361753],\n",
       "       dtype=float32)>)"
      ]
     },
     "execution_count": 75,
     "metadata": {},
     "output_type": "execute_result"
    }
   ],
   "source": [
    "list(prob_of_char.numpy()), prob_of_space"
   ]
  },
  {
   "cell_type": "code",
   "execution_count": 100,
   "metadata": {},
   "outputs": [
    {
     "data": {
      "text/plain": [
       "([7, 14, 16], array([ 7, 14, 16]))"
      ]
     },
     "execution_count": 100,
     "metadata": {},
     "output_type": "execute_result"
    }
   ],
   "source": [
    "[len(x) for x in test_inputs[0]], preds._keras_mask.numpy().sum(axis=1)"
   ]
  },
  {
   "cell_type": "code",
   "execution_count": null,
   "metadata": {},
   "outputs": [],
   "source": []
  }
 ],
 "metadata": {
  "kernelspec": {
   "display_name": "tf_210",
   "language": "python",
   "name": "python3"
  },
  "language_info": {
   "codemirror_mode": {
    "name": "ipython",
    "version": 3
   },
   "file_extension": ".py",
   "mimetype": "text/x-python",
   "name": "python",
   "nbconvert_exporter": "python",
   "pygments_lexer": "ipython3",
   "version": "3.8.10"
  },
  "orig_nbformat": 4,
  "vscode": {
   "interpreter": {
    "hash": "4c2409f7cd36a60864259fe7c86cc6f7edd5e2a0604f36f600c4aba8b227f5d5"
   }
  }
 },
 "nbformat": 4,
 "nbformat_minor": 2
}
