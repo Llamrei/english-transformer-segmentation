{
 "cells": [
  {
   "cell_type": "code",
   "execution_count": 1,
   "metadata": {},
   "outputs": [
    {
     "name": "stderr",
     "output_type": "stream",
     "text": [
      "2023-02-21 16:40:08.397077: I tensorflow/core/platform/cpu_feature_guard.cc:193] This TensorFlow binary is optimized with oneAPI Deep Neural Network Library (oneDNN) to use the following CPU instructions in performance-critical operations:  AVX2 AVX512F AVX512_VNNI FMA\n",
      "To enable them in other operations, rebuild TensorFlow with the appropriate compiler flags.\n",
      "2023-02-21 16:40:08.542086: I tensorflow/core/util/util.cc:169] oneDNN custom operations are on. You may see slightly different numerical results due to floating-point round-off errors from different computation orders. To turn them off, set the environment variable `TF_ENABLE_ONEDNN_OPTS=0`.\n",
      "2023-02-21 16:40:08.579337: E tensorflow/stream_executor/cuda/cuda_blas.cc:2981] Unable to register cuBLAS factory: Attempting to register factory for plugin cuBLAS when one has already been registered\n",
      "2023-02-21 16:40:09.236533: W tensorflow/stream_executor/platform/default/dso_loader.cc:64] Could not load dynamic library 'libnvinfer.so.7'; dlerror: libnvinfer.so.7: cannot open shared object file: No such file or directory\n",
      "2023-02-21 16:40:09.236588: W tensorflow/stream_executor/platform/default/dso_loader.cc:64] Could not load dynamic library 'libnvinfer_plugin.so.7'; dlerror: libnvinfer_plugin.so.7: cannot open shared object file: No such file or directory\n",
      "2023-02-21 16:40:09.236594: W tensorflow/compiler/tf2tensorrt/utils/py_utils.cc:38] TF-TRT Warning: Cannot dlopen some TensorRT libraries. If you would like to use Nvidia GPU with TensorRT, please make sure the missing libraries mentioned above are installed properly.\n"
     ]
    }
   ],
   "source": [
    "import logging\n",
    "import tensorflow as tf\n",
    "\n",
    "\n",
    "GPU_FROM = 0\n",
    "GPU_TO = 1\n",
    "\n",
    "visible_devices = tf.config.get_visible_devices('GPU')\n",
    "logging.info(f\"Num GPUs visible:{len(visible_devices)}\")\n",
    "tf.config.set_visible_devices(visible_devices[GPU_FROM:GPU_TO],'GPU')\n",
    "\n",
    "visible_devices = tf.config.get_visible_devices('GPU')\n",
    "logging.info(f\"Num GPUs to be used: {len(visible_devices)}\")"
   ]
  },
  {
   "cell_type": "code",
   "execution_count": 2,
   "metadata": {},
   "outputs": [
    {
     "name": "stderr",
     "output_type": "stream",
     "text": [
      "/home/ma/a/al3615/tf_210/lib/python3.8/site-packages/tqdm/auto.py:22: TqdmWarning: IProgress not found. Please update jupyter and ipywidgets. See https://ipywidgets.readthedocs.io/en/stable/user_install.html\n",
      "  from .autonotebook import tqdm as notebook_tqdm\n",
      "2023-02-21 16:40:10.797799: I tensorflow/core/platform/cpu_feature_guard.cc:193] This TensorFlow binary is optimized with oneAPI Deep Neural Network Library (oneDNN) to use the following CPU instructions in performance-critical operations:  AVX2 AVX512F AVX512_VNNI FMA\n",
      "To enable them in other operations, rebuild TensorFlow with the appropriate compiler flags.\n",
      "2023-02-21 16:40:11.487679: I tensorflow/core/common_runtime/gpu/gpu_device.cc:1616] Created device /job:localhost/replica:0/task:0/device:GPU:0 with 22296 MB memory:  -> device: 0, name: GeForce RTX 3090, pci bus id: 0000:3b:00.0, compute capability: 8.6\n"
     ]
    },
    {
     "name": "stdout",
     "output_type": "stream",
     "text": [
      "tf.Tensor(b\"AMDDebutsDual-CoreOpteronProcessorAMD'snewdual-coreOpteronchipisdesignedmainlyforcorporatecomputingapplications,includingdatabases,Webservices,andfinancialtransactions.\", shape=(), dtype=string)\n"
     ]
    },
    {
     "name": "stderr",
     "output_type": "stream",
     "text": [
      "2023-02-21 16:40:12.379878: W tensorflow/core/kernels/data/cache_dataset_ops.cc:856] The calling iterator did not fully read the dataset being cached. In order to avoid unexpected truncation of the dataset, the partially cached contents of the dataset  will be discarded. This can happen if you have an input pipeline similar to `dataset.cache().take(k).repeat()`. You should use `dataset.take(k).cache().repeat()` instead.\n"
     ]
    }
   ],
   "source": [
    "import string\n",
    "import html\n",
    "import tensorflow_datasets as tfds\n",
    "\n",
    "from segmentation.model import SpaceSegmentationTransformer\n",
    "from segmentation.model import LossWithVoids\n",
    "\n",
    "gap = 3\n",
    "len = 100\n",
    "\n",
    "punc_mapping = {ord(x):x for x in string.punctuation}\n",
    "entity_mapping = {f\" ?{k}\": v for k, v in html.entities.html5.items() if k.endswith(\";\") and v in string.punctuation}\n",
    "punc_mapping = {f' ?&?#?{k};': v for k, v in punc_mapping.items()}\n",
    "\n",
    "train, test = tfds.load('ag_news_subset', split=\"train\"), tfds.load('ag_news_subset', split=\"test\")\n",
    "\n",
    "def unescape(text):\n",
    "    for match, replace in punc_mapping.items():\n",
    "        text = tf.strings.regex_replace(text, match, replace)\n",
    "    for match, replace in entity_mapping.items():#\n",
    "        text = tf.strings.regex_replace(text, match, replace)\n",
    "    return text\n",
    "\n",
    "def join_title_desc(text_dict):\n",
    "    return text_dict['title'] + ' ' + text_dict['description']\n",
    "\n",
    "def remove_space(text):\n",
    "    return tf.strings.reduce_join(tf.strings.strip(tf.strings.split(text)), axis=-1)\n",
    "\n",
    "def space_after_letter(letter):\n",
    "    def replacer(x):\n",
    "        x = tf.strings.regex_replace(x, f\"({letter})\", r\"\\1 \") # add whitespace back in after every letter e\n",
    "        return x\n",
    "    return replacer\n",
    "\n",
    "train = train.map(join_title_desc).map(unescape).map(remove_space)\n",
    "test = test.map(join_title_desc).map(unescape).map(remove_space)\n",
    "\n",
    "for x in train.take(1):\n",
    "    print(x)"
   ]
  },
  {
   "cell_type": "code",
   "execution_count": 3,
   "metadata": {},
   "outputs": [
    {
     "name": "stdout",
     "output_type": "stream",
     "text": [
      "((<tf.Tensor: shape=(), dtype=string, numpy=b\"amddebutsdual-coreopteronprocessoramd'snewdual-coreopteronchipisdesignedmainlyforcorporatecomputinga\">, None), <tf.Tensor: shape=(100,), dtype=float32, numpy=\n",
      "array([1., 1., 1., 1., 2., 1., 1., 1., 1., 1., 1., 1., 1., 1., 1., 1., 1.,\n",
      "       2., 1., 1., 1., 2., 1., 1., 1., 1., 1., 1., 1., 2., 1., 1., 1., 1.,\n",
      "       1., 1., 1., 1., 1., 1., 2., 1., 1., 1., 1., 1., 1., 1., 1., 1., 2.,\n",
      "       1., 1., 1., 2., 1., 1., 1., 1., 1., 1., 1., 1., 1., 1., 2., 1., 1.,\n",
      "       1., 1., 2., 1., 1., 1., 1., 1., 1., 1., 1., 1., 1., 1., 1., 1., 1.,\n",
      "       1., 1., 1., 1., 2., 1., 1., 1., 1., 1., 1., 1., 1., 1., 1.],\n",
      "      dtype=float32)>)\n"
     ]
    },
    {
     "name": "stderr",
     "output_type": "stream",
     "text": [
      "2023-02-21 16:40:12.882984: W tensorflow/core/kernels/data/cache_dataset_ops.cc:856] The calling iterator did not fully read the dataset being cached. In order to avoid unexpected truncation of the dataset, the partially cached contents of the dataset  will be discarded. This can happen if you have an input pipeline similar to `dataset.cache().take(k).repeat()`. You should use `dataset.take(k).cache().repeat()` instead.\n"
     ]
    }
   ],
   "source": [
    "\n",
    "def generate_labels(text):\n",
    "    text = tf.strings.substr(text, 0, len)\n",
    "    text = tf.strings.lower(text)\n",
    "    encoder_in = text\n",
    "    encoder_out = tf.strings.regex_replace(text, r\"[^e]\", \"1\") # 1 indicates character\n",
    "    encoder_out = tf.strings.regex_replace(encoder_out, r\"e\", \"2\") # 2 indicates space\n",
    "    encoder_out = tf.strings.bytes_split(encoder_out)\n",
    "    encoder_out = tf.strings.to_number(encoder_out)\n",
    "    encoder_out = tf.pad(encoder_out, [[0,len-tf.shape(encoder_out)[0]]])\n",
    "\n",
    "    return (encoder_in, None), encoder_out\n",
    "\n",
    "train = train.map(generate_labels)\n",
    "val = test.map(generate_labels)\n",
    "for x in train.take(1):\n",
    "    print(x)"
   ]
  },
  {
   "cell_type": "code",
   "execution_count": 4,
   "metadata": {},
   "outputs": [
    {
     "name": "stderr",
     "output_type": "stream",
     "text": [
      "2023-02-21 16:40:16.010553: W tensorflow/core/kernels/data/cache_dataset_ops.cc:856] The calling iterator did not fully read the dataset being cached. In order to avoid unexpected truncation of the dataset, the partially cached contents of the dataset  will be discarded. This can happen if you have an input pipeline similar to `dataset.cache().take(k).repeat()`. You should use `dataset.take(k).cache().repeat()` instead.\n"
     ]
    },
    {
     "data": {
      "text/plain": [
       "['',\n",
       " '[UNK]',\n",
       " 'e',\n",
       " 'a',\n",
       " 't',\n",
       " 's',\n",
       " 'o',\n",
       " 'i',\n",
       " 'n',\n",
       " 'r',\n",
       " 'l',\n",
       " 'd',\n",
       " 'h',\n",
       " 'c',\n",
       " 'u',\n",
       " 'p',\n",
       " 'm',\n",
       " 'f',\n",
       " 'g',\n",
       " 'b',\n",
       " 'y',\n",
       " 'w',\n",
       " 'k',\n",
       " 'v',\n",
       " '-',\n",
       " ',',\n",
       " '.',\n",
       " \"'\",\n",
       " '(',\n",
       " ')',\n",
       " '0',\n",
       " 'x',\n",
       " 'j',\n",
       " '2',\n",
       " '1',\n",
       " 'q',\n",
       " '&',\n",
       " ':',\n",
       " 'z',\n",
       " '4',\n",
       " '3',\n",
       " '\\\\',\n",
       " '5',\n",
       " '\"',\n",
       " '<',\n",
       " '>',\n",
       " '/',\n",
       " '7',\n",
       " '6',\n",
       " '$',\n",
       " '8',\n",
       " '9',\n",
       " ';',\n",
       " '?',\n",
       " '=',\n",
       " '#',\n",
       " '!',\n",
       " '*']"
      ]
     },
     "execution_count": 4,
     "metadata": {},
     "output_type": "execute_result"
    }
   ],
   "source": [
    "tokenizer = tf.keras.layers.TextVectorization(\n",
    "    output_sequence_length=len,\n",
    "    standardize=\"lower\",\n",
    "    split=\"character\",\n",
    "    output_mode=\"int\",\n",
    ")\n",
    "\n",
    "tokenizer.adapt(train.take(1000).map(lambda x,y: x[0]))\n",
    "tokenizer.get_vocabulary()"
   ]
  },
  {
   "cell_type": "code",
   "execution_count": 5,
   "metadata": {},
   "outputs": [
    {
     "data": {
      "text/plain": [
       "<tf.Tensor: shape=(4,), dtype=int32, numpy=array([1, 0, 0, 1], dtype=int32)>"
      ]
     },
     "execution_count": 5,
     "metadata": {},
     "output_type": "execute_result"
    }
   ],
   "source": [
    "def inverse_xor(x,y):\n",
    "    return (1-x)*(1-y)+x*y\n",
    "\n",
    "inverse_xor(tf.constant([0,0,1,1]),tf.constant([0,1,0,1]))"
   ]
  },
  {
   "cell_type": "code",
   "execution_count": 6,
   "metadata": {},
   "outputs": [
    {
     "name": "stdout",
     "output_type": "stream",
     "text": [
      "((<tf.Tensor: shape=(1,), dtype=string, numpy=\n",
      "array([b\"amddebutsdual-coreopteronprocessoramd'snewdual-coreopteronchipisdesignedmainlyforcorporatecomputinga\"],\n",
      "      dtype=object)>, None), <tf.Tensor: shape=(1, 100), dtype=float32, numpy=\n",
      "array([[1., 1., 1., 1., 2., 1., 1., 1., 1., 1., 1., 1., 1., 1., 1., 1.,\n",
      "        1., 2., 1., 1., 1., 2., 1., 1., 1., 1., 1., 1., 1., 2., 1., 1.,\n",
      "        1., 1., 1., 1., 1., 1., 1., 1., 2., 1., 1., 1., 1., 1., 1., 1.,\n",
      "        1., 1., 2., 1., 1., 1., 2., 1., 1., 1., 1., 1., 1., 1., 1., 1.,\n",
      "        1., 2., 1., 1., 1., 1., 2., 1., 1., 1., 1., 1., 1., 1., 1., 1.,\n",
      "        1., 1., 1., 1., 1., 1., 1., 1., 1., 2., 1., 1., 1., 1., 1., 1.,\n",
      "        1., 1., 1., 1.]], dtype=float32)>)\n",
      "tf.Tensor(\n",
      "[[ 3 16 11 11  2 19 14  4  5 11 14  3 10 24 13  6  9  2  6 15  4  2  9  6\n",
      "   8 15  9  6 13  2  5  5  6  9  3 16 11 27  5  8  2 21 11 14  3 10 24 13\n",
      "   6  9  2  6 15  4  2  9  6  8 13 12  7 15  7  5 11  2  5  7 18  8  2 11\n",
      "  16  3  7  8 10 20 17  6  9 13  6  9 15  6  9  3  4  2 13  6 16 15 14  4\n",
      "   7  8 18  3]], shape=(1, 100), dtype=int64)\n",
      "Match between token of space char, 2, and space label, 2 | True\n"
     ]
    },
    {
     "name": "stderr",
     "output_type": "stream",
     "text": [
      "2023-02-21 16:40:16.590978: W tensorflow/core/kernels/data/cache_dataset_ops.cc:856] The calling iterator did not fully read the dataset being cached. In order to avoid unexpected truncation of the dataset, the partially cached contents of the dataset  will be discarded. This can happen if you have an input pipeline similar to `dataset.cache().take(k).repeat()`. You should use `dataset.take(k).cache().repeat()` instead.\n"
     ]
    }
   ],
   "source": [
    "for x in train.batch(1).take(1):\n",
    "    print(x)\n",
    "    str_input = x[0][0]\n",
    "    tokens = tokenizer(str_input)\n",
    "    print(tokens)\n",
    "    e_encode = 2\n",
    "    space_label = 2\n",
    "    space_tokens = tf.where(tokens == e_encode, 1, 0) # Just happen to know e tokenizes to 2 - messy af\n",
    "    # Look at labels and ensure that when we have a space label '2' we also have a token for e (2)\n",
    "    labels = tf.cast(x[1], space_tokens.dtype)\n",
    "    labels = tf.where(labels == space_label, 1, 0)\n",
    "    result = tf.reduce_all(tf.cast(inverse_xor(space_tokens, labels),\"bool\"))\n",
    "    print(f\"Match between token of space char, {e_encode}, and space label, {space_label} | {result.numpy()}\")"
   ]
  },
  {
   "cell_type": "code",
   "execution_count": 7,
   "metadata": {},
   "outputs": [],
   "source": [
    "D_MODEL = 512\n",
    "\n",
    "model = SpaceSegmentationTransformer(\n",
    "    num_layers=2,\n",
    "    d_model=D_MODEL,\n",
    "    num_attention_heads=3,\n",
    "    seq_len=100,\n",
    "    dff=1028,\n",
    "    input_tokenizer=tokenizer,\n",
    "    dropout_rate=0.1,\n",
    "    num_classes=3,\n",
    ")"
   ]
  },
  {
   "cell_type": "code",
   "execution_count": 8,
   "metadata": {},
   "outputs": [],
   "source": [
    "from segmentation.metrics import SparseAccuracyWithIgnore\n",
    "from segmentation.metrics import SparsePrecision\n",
    "from segmentation.metrics import SparseRecall\n",
    "from segmentation.metrics import SparseF1\n",
    "\n",
    "class CustomSchedule(tf.keras.optimizers.schedules.LearningRateSchedule):\n",
    "    def __init__(self, d_model, warmup_steps=200):\n",
    "        super().__init__()\n",
    "\n",
    "        self.d_model = d_model\n",
    "        self.d_model = tf.cast(self.d_model, tf.float32)\n",
    "\n",
    "        self.warmup_steps = warmup_steps\n",
    "\n",
    "    def __call__(self, step):\n",
    "        step = tf.cast(step, dtype=tf.float32)\n",
    "        arg1 = tf.math.rsqrt(step)\n",
    "        arg2 = step * (self.warmup_steps ** -1.5)\n",
    "\n",
    "        return 2* tf.math.rsqrt(self.d_model) * tf.math.minimum(arg1, arg2)\n",
    "\n",
    "learning_rate = CustomSchedule(D_MODEL)\n",
    "optimizer = tf.keras.optimizers.Adam(learning_rate, beta_1=0.9, beta_2=0.98,\n",
    "                                     epsilon=1e-9)\n",
    "\n",
    "model.compile(\n",
    "    optimizer='adam',\n",
    "    loss=tf.keras.losses.SparseCategoricalCrossentropy(from_logits=False, ignore_class=0),\n",
    "    metrics=[\n",
    "        SparseAccuracyWithIgnore(ignore_token=0.),\n",
    "        SparsePrecision(class_id=2, name=\"space_precision\"),\n",
    "        SparseRecall(class_id=2, name=\"space_recall\"),\n",
    "        SparseF1(class_id=2, name=\"space_f1\"),\n",
    "        SparsePrecision(class_id=1, name=\"char_precision\"),\n",
    "        SparseRecall(class_id=1, name=\"char_recall\"),\n",
    "        SparseF1(class_id=1, name=\"char_f1\"),\n",
    "    ]\n",
    ")"
   ]
  },
  {
   "cell_type": "code",
   "execution_count": 9,
   "metadata": {},
   "outputs": [
    {
     "name": "stdout",
     "output_type": "stream",
     "text": [
      "Epoch 1/15\n",
      "   7/1000 [..............................] - ETA: 21s - loss: 2.6583 - sparse_categorical_accuracy: 0.6836 - space_precision: 0.1414 - space_recall: 0.2972 - space_f1: 0.1916 - char_precision: 0.8942 - char_recall: 0.7303 - char_f1: 0.8039   "
     ]
    },
    {
     "name": "stderr",
     "output_type": "stream",
     "text": [
      "2023-02-21 16:40:21.720943: I tensorflow/stream_executor/cuda/cuda_blas.cc:1614] TensorFloat-32 will be used for the matrix multiplication. This will only be logged once.\n"
     ]
    },
    {
     "name": "stdout",
     "output_type": "stream",
     "text": [
      "1000/1000 [==============================] - 39s 35ms/step - loss: 0.1237 - sparse_categorical_accuracy: 0.9656 - space_precision: 0.9223 - space_recall: 0.7476 - space_f1: 0.8258 - char_precision: 0.9688 - char_recall: 0.9920 - char_f1: 0.9803 - val_loss: 2.0146e-05 - val_sparse_categorical_accuracy: 1.0000 - val_space_precision: 1.0000 - val_space_recall: 1.0000 - val_space_f1: 1.0000 - val_char_precision: 0.9986 - val_char_recall: 1.0000 - val_char_f1: 0.9993\n",
      "Epoch 2/15\n",
      "1000/1000 [==============================] - 33s 33ms/step - loss: 4.9665e-04 - sparse_categorical_accuracy: 0.9999 - space_precision: 0.9993 - space_recall: 0.9994 - space_f1: 0.9994 - char_precision: 0.9988 - char_recall: 0.9999 - char_f1: 0.9993 - val_loss: 2.3061e-06 - val_sparse_categorical_accuracy: 1.0000 - val_space_precision: 1.0000 - val_space_recall: 1.0000 - val_space_f1: 1.0000 - val_char_precision: 0.9986 - val_char_recall: 1.0000 - val_char_f1: 0.9993\n",
      "Epoch 3/15\n",
      "1000/1000 [==============================] - 34s 34ms/step - loss: 4.4115e-05 - sparse_categorical_accuracy: 1.0000 - space_precision: 0.9999 - space_recall: 0.9999 - space_f1: 0.9999 - char_precision: 0.9986 - char_recall: 1.0000 - char_f1: 0.9993 - val_loss: 2.2567e-07 - val_sparse_categorical_accuracy: 1.0000 - val_space_precision: 1.0000 - val_space_recall: 1.0000 - val_space_f1: 1.0000 - val_char_precision: 0.9986 - val_char_recall: 1.0000 - val_char_f1: 0.9993\n",
      "Epoch 4/15\n",
      "1000/1000 [==============================] - 34s 34ms/step - loss: 8.5035e-07 - sparse_categorical_accuracy: 1.0000 - space_precision: 1.0000 - space_recall: 1.0000 - space_f1: 1.0000 - char_precision: 0.9990 - char_recall: 1.0000 - char_f1: 0.9995 - val_loss: 8.2225e-08 - val_sparse_categorical_accuracy: 1.0000 - val_space_precision: 1.0000 - val_space_recall: 1.0000 - val_space_f1: 1.0000 - val_char_precision: 0.9986 - val_char_recall: 1.0000 - val_char_f1: 0.9993\n"
     ]
    }
   ],
   "source": [
    "train_ds = train.shuffle(100).batch(8)\n",
    "val_ds = val.batch(8)\n",
    "EPOCHS=15\n",
    "callbacks = [\n",
    "    tf.keras.callbacks.EarlyStopping(\n",
    "        monitor=\"val_space_f1\",\n",
    "        patience=EPOCHS//4,\n",
    "        mode=\"max\",\n",
    "        restore_best_weights=True\n",
    "    )\n",
    "]\n",
    "\n",
    "history = model.fit(train_ds, validation_data=val_ds, epochs=EPOCHS, callbacks=callbacks, steps_per_epoch=1000)"
   ]
  },
  {
   "cell_type": "code",
   "execution_count": 10,
   "metadata": {},
   "outputs": [
    {
     "name": "stdout",
     "output_type": "stream",
     "text": [
      "950/950 [==============================] - 13s 13ms/step - loss: 2.0146e-05 - sparse_categorical_accuracy: 1.0000 - space_precision: 1.0000 - space_recall: 1.0000 - space_f1: 1.0000 - char_precision: 0.9986 - char_recall: 1.0000 - char_f1: 0.9993\n"
     ]
    },
    {
     "data": {
      "text/plain": [
       "[2.0145636881352402e-05,\n",
       " 1.0,\n",
       " 1.0,\n",
       " 1.0,\n",
       " 1.0,\n",
       " 0.9986254572868347,\n",
       " 1.0,\n",
       " 0.9993122220039368]"
      ]
     },
     "execution_count": 10,
     "metadata": {},
     "output_type": "execute_result"
    }
   ],
   "source": [
    "model.evaluate(val_ds)"
   ]
  },
  {
   "cell_type": "code",
   "execution_count": 11,
   "metadata": {},
   "outputs": [
    {
     "name": "stderr",
     "output_type": "stream",
     "text": [
      "2023-02-21 16:42:51.021764: W tensorflow/core/kernels/data/cache_dataset_ops.cc:856] The calling iterator did not fully read the dataset being cached. In order to avoid unexpected truncation of the dataset, the partially cached contents of the dataset  will be discarded. This can happen if you have an input pipeline similar to `dataset.cache().take(k).repeat()`. You should use `dataset.take(k).cache().repeat()` instead.\n"
     ]
    },
    {
     "data": {
      "text/plain": [
       "[<matplotlib.lines.Line2D at 0x7fb4c04b2cd0>]"
      ]
     },
     "execution_count": 11,
     "metadata": {},
     "output_type": "execute_result"
    },
    {
     "data": {
      "image/png": "[encoded data removed]",
      "text/plain": [
       "<Figure size 640x480 with 1 Axes>"
      ]
     },
     "metadata": {},
     "output_type": "display_data"
    }
   ],
   "source": [
    "import matplotlib.pyplot as plt\n",
    "plt.plot(history.history['space_f1'])"
   ]
  },
  {
   "cell_type": "code",
   "execution_count": 12,
   "metadata": {},
   "outputs": [
    {
     "data": {
      "text/plain": [
       "<tf.Tensor: shape=(5, 100), dtype=int64, numpy=\n",
       "array([[1, 1, 1, 1, 1, 1, 1, 1, 1, 1, 1, 2, 1, 1, 1, 1, 1, 1, 1, 1, 1, 1,\n",
       "        1, 1, 1, 1, 1, 1, 1, 1, 1, 1, 1, 1, 1, 1, 1, 1, 1, 1, 1, 1, 1, 1,\n",
       "        1, 1, 1, 1, 1, 1, 1, 1, 1, 1, 1, 1, 1, 1, 1, 1, 1, 1, 1, 1, 1, 1,\n",
       "        1, 1, 1, 1, 1, 1, 1, 1, 1, 1, 1, 1, 1, 1, 1, 1, 1, 1, 1, 1, 1, 1,\n",
       "        1, 1, 1, 1, 1, 1, 1, 1, 1, 1, 1, 1],\n",
       "       [1, 2, 2, 2, 2, 2, 1, 1, 1, 1, 1, 1, 1, 1, 1, 1, 1, 1, 1, 1, 1, 1,\n",
       "        1, 1, 1, 1, 1, 1, 1, 1, 1, 1, 1, 1, 1, 1, 1, 1, 1, 1, 1, 1, 1, 1,\n",
       "        1, 1, 1, 1, 1, 1, 1, 1, 1, 1, 1, 1, 1, 1, 1, 1, 1, 1, 1, 1, 1, 1,\n",
       "        1, 1, 1, 1, 1, 1, 1, 1, 1, 1, 1, 1, 1, 1, 1, 1, 1, 1, 1, 1, 1, 1,\n",
       "        1, 1, 1, 1, 1, 1, 1, 1, 1, 1, 1, 1],\n",
       "       [1, 1, 1, 1, 1, 1, 1, 1, 1, 1, 1, 1, 1, 1, 1, 1, 1, 1, 1, 1, 1, 1,\n",
       "        1, 1, 1, 1, 1, 1, 1, 1, 1, 1, 1, 1, 1, 1, 1, 1, 1, 1, 1, 1, 1, 1,\n",
       "        1, 1, 1, 1, 1, 1, 1, 1, 1, 1, 1, 1, 1, 1, 1, 1, 1, 1, 1, 1, 1, 1,\n",
       "        1, 1, 1, 1, 1, 1, 1, 1, 1, 1, 1, 1, 1, 1, 1, 1, 1, 1, 1, 1, 1, 1,\n",
       "        1, 1, 1, 1, 1, 1, 1, 1, 1, 1, 1, 1],\n",
       "       [1, 1, 1, 1, 1, 1, 1, 1, 1, 1, 1, 1, 1, 1, 1, 1, 1, 1, 1, 1, 1, 1,\n",
       "        1, 1, 1, 1, 1, 1, 1, 1, 1, 1, 1, 1, 1, 1, 1, 1, 1, 1, 1, 1, 1, 1,\n",
       "        1, 1, 1, 1, 1, 1, 1, 1, 1, 1, 1, 1, 1, 1, 1, 1, 1, 1, 1, 1, 1, 1,\n",
       "        1, 1, 1, 1, 1, 1, 1, 1, 1, 1, 1, 1, 1, 1, 1, 1, 1, 1, 1, 1, 1, 1,\n",
       "        1, 1, 1, 1, 1, 1, 1, 1, 1, 1, 1, 1],\n",
       "       [1, 1, 2, 1, 1, 1, 1, 1, 1, 1, 1, 1, 1, 1, 1, 1, 1, 1, 1, 1, 2, 1,\n",
       "        1, 1, 2, 1, 1, 1, 2, 1, 1, 1, 1, 1, 1, 1, 1, 1, 1, 1, 1, 1, 1, 1,\n",
       "        1, 1, 1, 1, 1, 1, 1, 1, 1, 1, 1, 1, 1, 1, 1, 1, 1, 1, 1, 1, 1, 1,\n",
       "        1, 1, 1, 1, 1, 1, 1, 1, 1, 1, 1, 1, 1, 1, 1, 1, 1, 1, 1, 1, 1, 1,\n",
       "        1, 1, 1, 1, 1, 1, 1, 1, 1, 1, 1, 1]])>"
      ]
     },
     "execution_count": 12,
     "metadata": {},
     "output_type": "execute_result"
    }
   ],
   "source": [
    "preds = model([(\"dunningkruger\", \"feeeee\", \"eeeee\", \"e\"*100, \"thequickbrownfoxjumpedoverthelazydog\"),(None,None, None)])\n",
    "tf.argmax(preds, axis=-1)"
   ]
  },
  {
   "cell_type": "code",
   "execution_count": 13,
   "metadata": {},
   "outputs": [
    {
     "data": {
      "text/plain": [
       "<tf.Tensor: shape=(5, 100, 3), dtype=float32, numpy=\n",
       "array([[[1.27028528e-13, 9.99999881e-01, 1.15808710e-07],\n",
       "        [1.07958117e-13, 9.99999762e-01, 1.89665528e-07],\n",
       "        [1.08071843e-13, 9.99999762e-01, 1.88801977e-07],\n",
       "        ...,\n",
       "        [1.00001597e-13, 9.99999762e-01, 2.40522979e-07],\n",
       "        [9.99447785e-14, 9.99999762e-01, 2.40438141e-07],\n",
       "        [9.98883593e-14, 9.99999762e-01, 2.40393916e-07]],\n",
       "\n",
       "       [[1.11731920e-13, 9.99999881e-01, 1.68210263e-07],\n",
       "        [1.75156528e-10, 1.95931032e-04, 9.99804080e-01],\n",
       "        [1.74880194e-10, 1.95554385e-04, 9.99804437e-01],\n",
       "        ...,\n",
       "        [1.12316738e-13, 9.99999881e-01, 1.75728587e-07],\n",
       "        [1.12240282e-13, 9.99999881e-01, 1.76215593e-07],\n",
       "        [1.12273682e-13, 9.99999881e-01, 1.76153762e-07]],\n",
       "\n",
       "       [[1.03240563e-13, 9.99999762e-01, 2.11720405e-07],\n",
       "        [1.03278571e-13, 9.99999762e-01, 2.11830468e-07],\n",
       "        [1.03281919e-13, 9.99999762e-01, 2.11873896e-07],\n",
       "        ...,\n",
       "        [1.12102290e-13, 9.99999881e-01, 1.34949232e-07],\n",
       "        [1.11956980e-13, 9.99999881e-01, 1.35146294e-07],\n",
       "        [1.11944383e-13, 9.99999881e-01, 1.35134428e-07]],\n",
       "\n",
       "       [[1.05427304e-13, 9.99999762e-01, 2.07982083e-07],\n",
       "        [1.05427914e-13, 9.99999762e-01, 2.07991206e-07],\n",
       "        [1.05423889e-13, 9.99999762e-01, 2.08018790e-07],\n",
       "        ...,\n",
       "        [1.05236641e-13, 9.99999762e-01, 2.09318642e-07],\n",
       "        [1.05194099e-13, 9.99999762e-01, 2.09348386e-07],\n",
       "        [1.05150975e-13, 9.99999762e-01, 2.09170167e-07]],\n",
       "\n",
       "       [[1.10757588e-13, 9.99999881e-01, 1.62571354e-07],\n",
       "        [1.10773221e-13, 9.99999881e-01, 1.62274560e-07],\n",
       "        [1.84252211e-10, 1.95303961e-04, 9.99804676e-01],\n",
       "        ...,\n",
       "        [1.03056019e-13, 9.99999762e-01, 2.04650433e-07],\n",
       "        [1.03034009e-13, 9.99999762e-01, 2.04551526e-07],\n",
       "        [1.03023194e-13, 9.99999762e-01, 2.04470965e-07]]], dtype=float32)>"
      ]
     },
     "execution_count": 13,
     "metadata": {},
     "output_type": "execute_result"
    }
   ],
   "source": [
    "preds"
   ]
  },
  {
   "attachments": {},
   "cell_type": "markdown",
   "metadata": {},
   "source": [
    "# Confirming that distribution of embeddings for space letter are different from everything else"
   ]
  },
  {
   "attachments": {},
   "cell_type": "markdown",
   "metadata": {},
   "source": [
    "## Using UMAP"
   ]
  },
  {
   "cell_type": "code",
   "execution_count": 14,
   "metadata": {},
   "outputs": [],
   "source": [
    "import string\n",
    "import umap\n",
    "from sklearn.preprocessing import StandardScaler\n",
    "\n",
    "reducer = umap.UMAP(\n",
    "    n_neighbors = 2,\n",
    "    min_dist = 0.1,\n",
    "    metric=\"manhattan\"\n",
    ")\n",
    "scaler = StandardScaler()"
   ]
  },
  {
   "cell_type": "code",
   "execution_count": 15,
   "metadata": {},
   "outputs": [
    {
     "data": {
      "text/plain": [
       "(26, 512)"
      ]
     },
     "execution_count": 15,
     "metadata": {},
     "output_type": "execute_result"
    }
   ],
   "source": [
    "import pandas as pd\n",
    "letters = list(string.ascii_lowercase)\n",
    "preds = model.encoder.pos_embedding(tokenizer(letters))\n",
    "assert tf.reduce_all(preds[:-1,1:,:]==preds[1:,1:,:]), \"Check positional encodings are all that is left after first index\"\n",
    "assert tf.logical_not(tf.reduce_any(preds[:-1,0,:]==preds[1:,0,:])), \"Check 1st embeddings are all different\"\n",
    "embeddings = preds[:,0,:].numpy()\n",
    "to_visualize = pd.DataFrame(embeddings)\n",
    "to_visualize['letter'] = letters\n",
    "embeddings.shape"
   ]
  },
  {
   "cell_type": "code",
   "execution_count": 16,
   "metadata": {},
   "outputs": [],
   "source": [
    "scaled = scaler.fit_transform(embeddings)\n",
    "reduced_embeddings = reducer.fit_transform(scaled)"
   ]
  },
  {
   "cell_type": "code",
   "execution_count": 17,
   "metadata": {},
   "outputs": [
    {
     "data": {
      "text/plain": [
       "<matplotlib.collections.PathCollection at 0x7fae100c6520>"
      ]
     },
     "execution_count": 17,
     "metadata": {},
     "output_type": "execute_result"
    },
    {
     "data": {
      "image/png": "[encoded data removed]",
      "text/plain": [
       "<Figure size 640x480 with 1 Axes>"
      ]
     },
     "metadata": {},
     "output_type": "display_data"
    }
   ],
   "source": [
    "plt.scatter(\n",
    "    reduced_embeddings[:,0],\n",
    "    reduced_embeddings[:,1],\n",
    "    c=['r' if x == \"e\" else \"b\" for x in to_visualize['letter']]\n",
    ")"
   ]
  },
  {
   "attachments": {},
   "cell_type": "markdown",
   "metadata": {},
   "source": [
    "## Using dot product"
   ]
  },
  {
   "cell_type": "code",
   "execution_count": 18,
   "metadata": {},
   "outputs": [
    {
     "name": "stderr",
     "output_type": "stream",
     "text": [
      "/tmp/ipykernel_2678738/4084122731.py:6: RuntimeWarning: invalid value encountered in arccos\n",
      "  angles = np.arccos(cosines)\n"
     ]
    }
   ],
   "source": [
    "import numpy as np\n",
    "dots = (embeddings@embeddings.T)\n",
    "norms = (embeddings**2).sum(axis=-1)**0.5\n",
    "norm1, norm2 = np.meshgrid(norms, norms)\n",
    "cosines = dots/(norm1*norm2)\n",
    "angles = np.arccos(cosines)"
   ]
  },
  {
   "cell_type": "code",
   "execution_count": 19,
   "metadata": {},
   "outputs": [],
   "source": [
    "def heatmap(data, row_labels, col_labels, ax=None,\n",
    "            cbar_kw=None, cbarlabel=\"\", **kwargs):\n",
    "    \"\"\"\n",
    "    Create a heatmap from a numpy array and two lists of labels.\n",
    "\n",
    "    Parameters\n",
    "    ----------\n",
    "    data\n",
    "        A 2D numpy array of shape (M, N).\n",
    "    row_labels\n",
    "        A list or array of length M with the labels for the rows.\n",
    "    col_labels\n",
    "        A list or array of length N with the labels for the columns.\n",
    "    ax\n",
    "        A `matplotlib.axes.Axes` instance to which the heatmap is plotted.  If\n",
    "        not provided, use current axes or create a new one.  Optional.\n",
    "    cbar_kw\n",
    "        A dictionary with arguments to `matplotlib.Figure.colorbar`.  Optional.\n",
    "    cbarlabel\n",
    "        The label for the colorbar.  Optional.\n",
    "    **kwargs\n",
    "        All other arguments are forwarded to `imshow`.\n",
    "    \"\"\"\n",
    "\n",
    "    if ax is None:\n",
    "        ax = plt.gca()\n",
    "\n",
    "    if cbar_kw is None:\n",
    "        cbar_kw = {}\n",
    "\n",
    "    # Plot the heatmap\n",
    "    im = ax.imshow(data, **kwargs)\n",
    "\n",
    "    # Create colorbar\n",
    "    cbar = ax.figure.colorbar(im, ax=ax, **cbar_kw)\n",
    "    cbar.ax.set_ylabel(cbarlabel, rotation=-90, va=\"bottom\")\n",
    "\n",
    "    # Show all ticks and label them with the respective list entries.\n",
    "    ax.set_xticks(np.arange(data.shape[1]), labels=col_labels)\n",
    "    ax.set_yticks(np.arange(data.shape[0]), labels=row_labels)\n",
    "\n",
    "    # Let the horizontal axes labeling appear on top.\n",
    "    ax.tick_params(top=True, bottom=False,\n",
    "                   labeltop=True, labelbottom=False)\n",
    "\n",
    "    # Rotate the tick labels and set their alignment.\n",
    "    plt.setp(ax.get_xticklabels(), rotation=-30, ha=\"right\",\n",
    "             rotation_mode=\"anchor\")\n",
    "\n",
    "    # Turn spines off and create white grid.\n",
    "    ax.spines[:].set_visible(False)\n",
    "\n",
    "    ax.set_xticks(np.arange(data.shape[1]+1)-.5, minor=True)\n",
    "    ax.set_yticks(np.arange(data.shape[0]+1)-.5, minor=True)\n",
    "    ax.grid(which=\"minor\", color=\"w\", linestyle='-', linewidth=3)\n",
    "    ax.tick_params(which=\"minor\", bottom=False, left=False)\n",
    "\n",
    "    return im, cbar\n",
    "\n",
    "\n",
    "def annotate_heatmap(im, data=None, valfmt=\"{x:.2f}\",\n",
    "                     textcolors=(\"black\", \"white\"),\n",
    "                     threshold=None, **textkw):\n",
    "    \"\"\"\n",
    "    A function to annotate a heatmap.\n",
    "\n",
    "    Parameters\n",
    "    ----------\n",
    "    im\n",
    "        The AxesImage to be labeled.\n",
    "    data\n",
    "        Data used to annotate.  If None, the image's data is used.  Optional.\n",
    "    valfmt\n",
    "        The format of the annotations inside the heatmap.  This should either\n",
    "        use the string format method, e.g. \"$ {x:.2f}\", or be a\n",
    "        `matplotlib.ticker.Formatter`.  Optional.\n",
    "    textcolors\n",
    "        A pair of colors.  The first is used for values below a threshold,\n",
    "        the second for those above.  Optional.\n",
    "    threshold\n",
    "        Value in data units according to which the colors from textcolors are\n",
    "        applied.  If None (the default) uses the middle of the colormap as\n",
    "        separation.  Optional.\n",
    "    **kwargs\n",
    "        All other arguments are forwarded to each call to `text` used to create\n",
    "        the text labels.\n",
    "    \"\"\"\n",
    "\n",
    "    if not isinstance(data, (list, np.ndarray)):\n",
    "        data = im.get_array()\n",
    "\n",
    "    # Normalize the threshold to the images color range.\n",
    "    if threshold is not None:\n",
    "        threshold = im.norm(threshold)\n",
    "    else:\n",
    "        threshold = im.norm(data.max())/2.\n",
    "\n",
    "    # Set default alignment to center, but allow it to be\n",
    "    # overwritten by textkw.\n",
    "    kw = dict(horizontalalignment=\"center\",\n",
    "              verticalalignment=\"center\")\n",
    "    kw.update(textkw)\n",
    "\n",
    "    # Get the formatter in case a string is supplied\n",
    "    if isinstance(valfmt, str):\n",
    "        valfmt = matplotlib.ticker.StrMethodFormatter(valfmt)\n",
    "\n",
    "    # Loop over the data and create a `Text` for each \"pixel\".\n",
    "    # Change the text's color depending on the data.\n",
    "    texts = []\n",
    "    for i in range(data.shape[0]):\n",
    "        for j in range(data.shape[1]):\n",
    "            kw.update(color=textcolors[int(im.norm(data[i, j]) > threshold)])\n",
    "            text = im.axes.text(j, i, valfmt(data[i, j], None), **kw)\n",
    "            texts.append(text)\n",
    "\n",
    "    return texts"
   ]
  },
  {
   "cell_type": "code",
   "execution_count": 20,
   "metadata": {},
   "outputs": [
    {
     "data": {
      "image/png": "[encoded data removed]",
      "text/plain": [
       "<Figure size 640x480 with 2 Axes>"
      ]
     },
     "metadata": {},
     "output_type": "display_data"
    }
   ],
   "source": [
    "fig, ax = plt.subplots()\n",
    "\n",
    "im, cbar = heatmap(angles, letters, letters, ax=ax,\n",
    "                   cmap=\"YlGn\", cbarlabel=\"angle (rad)\")\n",
    "# texts = annotate_heatmap(im, valfmt=\"{x:.1f}\")\n",
    "\n",
    "fig.tight_layout()\n",
    "plt.show()\n"
   ]
  },
  {
   "cell_type": "code",
   "execution_count": null,
   "metadata": {},
   "outputs": [],
   "source": []
  }
 ],
 "metadata": {
  "kernelspec": {
   "display_name": "tf_210",
   "language": "python",
   "name": "python3"
  },
  "language_info": {
   "codemirror_mode": {
    "name": "ipython",
    "version": 3
   },
   "file_extension": ".py",
   "mimetype": "text/x-python",
   "name": "python",
   "nbconvert_exporter": "python",
   "pygments_lexer": "ipython3",
   "version": "3.8.10"
  },
  "orig_nbformat": 4,
  "vscode": {
   "interpreter": {
    "hash": "4c2409f7cd36a60864259fe7c86cc6f7edd5e2a0604f36f600c4aba8b227f5d5"
   }
  }
 },
 "nbformat": 4,
 "nbformat_minor": 2
}
